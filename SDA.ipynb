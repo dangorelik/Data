{
 "cells": [
  {
   "cell_type": "markdown",
   "metadata": {},
   "source": [
    "# Statistical Data Analysis - Cellular Plans"
   ]
  },
  {
   "cell_type": "markdown",
   "metadata": {},
   "source": [
    "### Introduction"
   ]
  },
  {
   "cell_type": "markdown",
   "metadata": {},
   "source": [
    "Project's goal is to examine data from 500 clients who use two prepaid cellular plans, Surf and Ultimate, and advise which plan brings in more revenue, in order to adjust the advertising budget.\n",
    "\n",
    "This project expkains how to do Statistical Data Analysis in Python, and includes:\n",
    "\n",
    "1. Descriptive Statistics\n",
    "2. Density Histograms\n",
    "3. Probability Theory\n",
    "4. Testing Hypotheses"
   ]
  },
  {
   "cell_type": "markdown",
   "metadata": {},
   "source": [
    "### Exploring the data file and general information"
   ]
  },
  {
   "cell_type": "code",
   "execution_count": 3,
   "metadata": {},
   "outputs": [
    {
     "name": "stdout",
     "output_type": "stream",
     "text": [
      "\u001b[1m data_calls \u001b[0m\n",
      "--------------------------------------\n",
      "<class 'pandas.core.frame.DataFrame'>\n",
      "RangeIndex: 137735 entries, 0 to 137734\n",
      "Data columns (total 4 columns):\n",
      " #   Column     Non-Null Count   Dtype  \n",
      "---  ------     --------------   -----  \n",
      " 0   id         137735 non-null  object \n",
      " 1   user_id    137735 non-null  int64  \n",
      " 2   call_date  137735 non-null  object \n",
      " 3   duration   137735 non-null  float64\n",
      "dtypes: float64(1), int64(1), object(2)\n",
      "memory usage: 4.2+ MB\n"
     ]
    },
    {
     "data": {
      "text/plain": [
       "None"
      ]
     },
     "metadata": {},
     "output_type": "display_data"
    },
    {
     "data": {
      "text/html": [
       "<div>\n",
       "<style scoped>\n",
       "    .dataframe tbody tr th:only-of-type {\n",
       "        vertical-align: middle;\n",
       "    }\n",
       "\n",
       "    .dataframe tbody tr th {\n",
       "        vertical-align: top;\n",
       "    }\n",
       "\n",
       "    .dataframe thead th {\n",
       "        text-align: right;\n",
       "    }\n",
       "</style>\n",
       "<table border=\"1\" class=\"dataframe\">\n",
       "  <thead>\n",
       "    <tr style=\"text-align: right;\">\n",
       "      <th></th>\n",
       "      <th>id</th>\n",
       "      <th>user_id</th>\n",
       "      <th>call_date</th>\n",
       "      <th>duration</th>\n",
       "    </tr>\n",
       "  </thead>\n",
       "  <tbody>\n",
       "    <tr>\n",
       "      <th>0</th>\n",
       "      <td>1000_93</td>\n",
       "      <td>1000</td>\n",
       "      <td>2018-12-27</td>\n",
       "      <td>8.52</td>\n",
       "    </tr>\n",
       "    <tr>\n",
       "      <th>1</th>\n",
       "      <td>1000_145</td>\n",
       "      <td>1000</td>\n",
       "      <td>2018-12-27</td>\n",
       "      <td>13.66</td>\n",
       "    </tr>\n",
       "    <tr>\n",
       "      <th>2</th>\n",
       "      <td>1000_247</td>\n",
       "      <td>1000</td>\n",
       "      <td>2018-12-27</td>\n",
       "      <td>14.48</td>\n",
       "    </tr>\n",
       "    <tr>\n",
       "      <th>3</th>\n",
       "      <td>1000_309</td>\n",
       "      <td>1000</td>\n",
       "      <td>2018-12-28</td>\n",
       "      <td>5.76</td>\n",
       "    </tr>\n",
       "    <tr>\n",
       "      <th>4</th>\n",
       "      <td>1000_380</td>\n",
       "      <td>1000</td>\n",
       "      <td>2018-12-30</td>\n",
       "      <td>4.22</td>\n",
       "    </tr>\n",
       "  </tbody>\n",
       "</table>\n",
       "</div>"
      ],
      "text/plain": [
       "         id  user_id   call_date  duration\n",
       "0   1000_93     1000  2018-12-27      8.52\n",
       "1  1000_145     1000  2018-12-27     13.66\n",
       "2  1000_247     1000  2018-12-27     14.48\n",
       "3  1000_309     1000  2018-12-28      5.76\n",
       "4  1000_380     1000  2018-12-30      4.22"
      ]
     },
     "metadata": {},
     "output_type": "display_data"
    },
    {
     "data": {
      "text/plain": [
       "id           137735\n",
       "user_id         481\n",
       "call_date       351\n",
       "duration       2802\n",
       "dtype: int64"
      ]
     },
     "metadata": {},
     "output_type": "display_data"
    },
    {
     "data": {
      "text/html": [
       "<div>\n",
       "<style scoped>\n",
       "    .dataframe tbody tr th:only-of-type {\n",
       "        vertical-align: middle;\n",
       "    }\n",
       "\n",
       "    .dataframe tbody tr th {\n",
       "        vertical-align: top;\n",
       "    }\n",
       "\n",
       "    .dataframe thead th {\n",
       "        text-align: right;\n",
       "    }\n",
       "</style>\n",
       "<table border=\"1\" class=\"dataframe\">\n",
       "  <thead>\n",
       "    <tr style=\"text-align: right;\">\n",
       "      <th></th>\n",
       "      <th>user_id</th>\n",
       "      <th>duration</th>\n",
       "    </tr>\n",
       "  </thead>\n",
       "  <tbody>\n",
       "    <tr>\n",
       "      <th>count</th>\n",
       "      <td>137735.000000</td>\n",
       "      <td>137735.000000</td>\n",
       "    </tr>\n",
       "    <tr>\n",
       "      <th>mean</th>\n",
       "      <td>1247.658046</td>\n",
       "      <td>6.745927</td>\n",
       "    </tr>\n",
       "    <tr>\n",
       "      <th>std</th>\n",
       "      <td>139.416268</td>\n",
       "      <td>5.839241</td>\n",
       "    </tr>\n",
       "    <tr>\n",
       "      <th>min</th>\n",
       "      <td>1000.000000</td>\n",
       "      <td>0.000000</td>\n",
       "    </tr>\n",
       "    <tr>\n",
       "      <th>25%</th>\n",
       "      <td>1128.000000</td>\n",
       "      <td>1.290000</td>\n",
       "    </tr>\n",
       "    <tr>\n",
       "      <th>50%</th>\n",
       "      <td>1247.000000</td>\n",
       "      <td>5.980000</td>\n",
       "    </tr>\n",
       "    <tr>\n",
       "      <th>75%</th>\n",
       "      <td>1365.000000</td>\n",
       "      <td>10.690000</td>\n",
       "    </tr>\n",
       "    <tr>\n",
       "      <th>max</th>\n",
       "      <td>1499.000000</td>\n",
       "      <td>37.600000</td>\n",
       "    </tr>\n",
       "  </tbody>\n",
       "</table>\n",
       "</div>"
      ],
      "text/plain": [
       "             user_id       duration\n",
       "count  137735.000000  137735.000000\n",
       "mean     1247.658046       6.745927\n",
       "std       139.416268       5.839241\n",
       "min      1000.000000       0.000000\n",
       "25%      1128.000000       1.290000\n",
       "50%      1247.000000       5.980000\n",
       "75%      1365.000000      10.690000\n",
       "max      1499.000000      37.600000"
      ]
     },
     "metadata": {},
     "output_type": "display_data"
    },
    {
     "name": "stdout",
     "output_type": "stream",
     "text": [
      "\u001b[1m data_internet \u001b[0m\n",
      "--------------------------------------\n",
      "<class 'pandas.core.frame.DataFrame'>\n",
      "RangeIndex: 104825 entries, 0 to 104824\n",
      "Data columns (total 4 columns):\n",
      " #   Column        Non-Null Count   Dtype  \n",
      "---  ------        --------------   -----  \n",
      " 0   id            104825 non-null  object \n",
      " 1   user_id       104825 non-null  int64  \n",
      " 2   session_date  104825 non-null  object \n",
      " 3   mb_used       104825 non-null  float64\n",
      "dtypes: float64(1), int64(1), object(2)\n",
      "memory usage: 3.2+ MB\n"
     ]
    },
    {
     "data": {
      "text/plain": [
       "None"
      ]
     },
     "metadata": {},
     "output_type": "display_data"
    },
    {
     "data": {
      "text/html": [
       "<div>\n",
       "<style scoped>\n",
       "    .dataframe tbody tr th:only-of-type {\n",
       "        vertical-align: middle;\n",
       "    }\n",
       "\n",
       "    .dataframe tbody tr th {\n",
       "        vertical-align: top;\n",
       "    }\n",
       "\n",
       "    .dataframe thead th {\n",
       "        text-align: right;\n",
       "    }\n",
       "</style>\n",
       "<table border=\"1\" class=\"dataframe\">\n",
       "  <thead>\n",
       "    <tr style=\"text-align: right;\">\n",
       "      <th></th>\n",
       "      <th>id</th>\n",
       "      <th>user_id</th>\n",
       "      <th>session_date</th>\n",
       "      <th>mb_used</th>\n",
       "    </tr>\n",
       "  </thead>\n",
       "  <tbody>\n",
       "    <tr>\n",
       "      <th>0</th>\n",
       "      <td>1000_13</td>\n",
       "      <td>1000</td>\n",
       "      <td>2018-12-29</td>\n",
       "      <td>89.86</td>\n",
       "    </tr>\n",
       "    <tr>\n",
       "      <th>1</th>\n",
       "      <td>1000_204</td>\n",
       "      <td>1000</td>\n",
       "      <td>2018-12-31</td>\n",
       "      <td>0.00</td>\n",
       "    </tr>\n",
       "    <tr>\n",
       "      <th>2</th>\n",
       "      <td>1000_379</td>\n",
       "      <td>1000</td>\n",
       "      <td>2018-12-28</td>\n",
       "      <td>660.40</td>\n",
       "    </tr>\n",
       "    <tr>\n",
       "      <th>3</th>\n",
       "      <td>1000_413</td>\n",
       "      <td>1000</td>\n",
       "      <td>2018-12-26</td>\n",
       "      <td>270.99</td>\n",
       "    </tr>\n",
       "    <tr>\n",
       "      <th>4</th>\n",
       "      <td>1000_442</td>\n",
       "      <td>1000</td>\n",
       "      <td>2018-12-27</td>\n",
       "      <td>880.22</td>\n",
       "    </tr>\n",
       "  </tbody>\n",
       "</table>\n",
       "</div>"
      ],
      "text/plain": [
       "         id  user_id session_date  mb_used\n",
       "0   1000_13     1000   2018-12-29    89.86\n",
       "1  1000_204     1000   2018-12-31     0.00\n",
       "2  1000_379     1000   2018-12-28   660.40\n",
       "3  1000_413     1000   2018-12-26   270.99\n",
       "4  1000_442     1000   2018-12-27   880.22"
      ]
     },
     "metadata": {},
     "output_type": "display_data"
    },
    {
     "data": {
      "text/plain": [
       "id              104825\n",
       "user_id            489\n",
       "session_date       351\n",
       "mb_used          57624\n",
       "dtype: int64"
      ]
     },
     "metadata": {},
     "output_type": "display_data"
    },
    {
     "data": {
      "text/html": [
       "<div>\n",
       "<style scoped>\n",
       "    .dataframe tbody tr th:only-of-type {\n",
       "        vertical-align: middle;\n",
       "    }\n",
       "\n",
       "    .dataframe tbody tr th {\n",
       "        vertical-align: top;\n",
       "    }\n",
       "\n",
       "    .dataframe thead th {\n",
       "        text-align: right;\n",
       "    }\n",
       "</style>\n",
       "<table border=\"1\" class=\"dataframe\">\n",
       "  <thead>\n",
       "    <tr style=\"text-align: right;\">\n",
       "      <th></th>\n",
       "      <th>user_id</th>\n",
       "      <th>mb_used</th>\n",
       "    </tr>\n",
       "  </thead>\n",
       "  <tbody>\n",
       "    <tr>\n",
       "      <th>count</th>\n",
       "      <td>104825.000000</td>\n",
       "      <td>104825.000000</td>\n",
       "    </tr>\n",
       "    <tr>\n",
       "      <th>mean</th>\n",
       "      <td>1242.496361</td>\n",
       "      <td>366.713701</td>\n",
       "    </tr>\n",
       "    <tr>\n",
       "      <th>std</th>\n",
       "      <td>142.053913</td>\n",
       "      <td>277.170542</td>\n",
       "    </tr>\n",
       "    <tr>\n",
       "      <th>min</th>\n",
       "      <td>1000.000000</td>\n",
       "      <td>0.000000</td>\n",
       "    </tr>\n",
       "    <tr>\n",
       "      <th>25%</th>\n",
       "      <td>1122.000000</td>\n",
       "      <td>136.080000</td>\n",
       "    </tr>\n",
       "    <tr>\n",
       "      <th>50%</th>\n",
       "      <td>1236.000000</td>\n",
       "      <td>343.980000</td>\n",
       "    </tr>\n",
       "    <tr>\n",
       "      <th>75%</th>\n",
       "      <td>1367.000000</td>\n",
       "      <td>554.610000</td>\n",
       "    </tr>\n",
       "    <tr>\n",
       "      <th>max</th>\n",
       "      <td>1499.000000</td>\n",
       "      <td>1693.470000</td>\n",
       "    </tr>\n",
       "  </tbody>\n",
       "</table>\n",
       "</div>"
      ],
      "text/plain": [
       "             user_id        mb_used\n",
       "count  104825.000000  104825.000000\n",
       "mean     1242.496361     366.713701\n",
       "std       142.053913     277.170542\n",
       "min      1000.000000       0.000000\n",
       "25%      1122.000000     136.080000\n",
       "50%      1236.000000     343.980000\n",
       "75%      1367.000000     554.610000\n",
       "max      1499.000000    1693.470000"
      ]
     },
     "metadata": {},
     "output_type": "display_data"
    },
    {
     "name": "stdout",
     "output_type": "stream",
     "text": [
      "\u001b[1m data_messages \u001b[0m\n",
      "--------------------------------------\n",
      "<class 'pandas.core.frame.DataFrame'>\n",
      "RangeIndex: 76051 entries, 0 to 76050\n",
      "Data columns (total 3 columns):\n",
      " #   Column        Non-Null Count  Dtype \n",
      "---  ------        --------------  ----- \n",
      " 0   id            76051 non-null  object\n",
      " 1   user_id       76051 non-null  int64 \n",
      " 2   message_date  76051 non-null  object\n",
      "dtypes: int64(1), object(2)\n",
      "memory usage: 1.7+ MB\n"
     ]
    },
    {
     "data": {
      "text/plain": [
       "None"
      ]
     },
     "metadata": {},
     "output_type": "display_data"
    },
    {
     "data": {
      "text/html": [
       "<div>\n",
       "<style scoped>\n",
       "    .dataframe tbody tr th:only-of-type {\n",
       "        vertical-align: middle;\n",
       "    }\n",
       "\n",
       "    .dataframe tbody tr th {\n",
       "        vertical-align: top;\n",
       "    }\n",
       "\n",
       "    .dataframe thead th {\n",
       "        text-align: right;\n",
       "    }\n",
       "</style>\n",
       "<table border=\"1\" class=\"dataframe\">\n",
       "  <thead>\n",
       "    <tr style=\"text-align: right;\">\n",
       "      <th></th>\n",
       "      <th>id</th>\n",
       "      <th>user_id</th>\n",
       "      <th>message_date</th>\n",
       "    </tr>\n",
       "  </thead>\n",
       "  <tbody>\n",
       "    <tr>\n",
       "      <th>0</th>\n",
       "      <td>1000_125</td>\n",
       "      <td>1000</td>\n",
       "      <td>2018-12-27</td>\n",
       "    </tr>\n",
       "    <tr>\n",
       "      <th>1</th>\n",
       "      <td>1000_160</td>\n",
       "      <td>1000</td>\n",
       "      <td>2018-12-31</td>\n",
       "    </tr>\n",
       "    <tr>\n",
       "      <th>2</th>\n",
       "      <td>1000_223</td>\n",
       "      <td>1000</td>\n",
       "      <td>2018-12-31</td>\n",
       "    </tr>\n",
       "    <tr>\n",
       "      <th>3</th>\n",
       "      <td>1000_251</td>\n",
       "      <td>1000</td>\n",
       "      <td>2018-12-27</td>\n",
       "    </tr>\n",
       "    <tr>\n",
       "      <th>4</th>\n",
       "      <td>1000_255</td>\n",
       "      <td>1000</td>\n",
       "      <td>2018-12-26</td>\n",
       "    </tr>\n",
       "  </tbody>\n",
       "</table>\n",
       "</div>"
      ],
      "text/plain": [
       "         id  user_id message_date\n",
       "0  1000_125     1000   2018-12-27\n",
       "1  1000_160     1000   2018-12-31\n",
       "2  1000_223     1000   2018-12-31\n",
       "3  1000_251     1000   2018-12-27\n",
       "4  1000_255     1000   2018-12-26"
      ]
     },
     "metadata": {},
     "output_type": "display_data"
    },
    {
     "data": {
      "text/plain": [
       "id              76051\n",
       "user_id           402\n",
       "message_date      351\n",
       "dtype: int64"
      ]
     },
     "metadata": {},
     "output_type": "display_data"
    },
    {
     "data": {
      "text/html": [
       "<div>\n",
       "<style scoped>\n",
       "    .dataframe tbody tr th:only-of-type {\n",
       "        vertical-align: middle;\n",
       "    }\n",
       "\n",
       "    .dataframe tbody tr th {\n",
       "        vertical-align: top;\n",
       "    }\n",
       "\n",
       "    .dataframe thead th {\n",
       "        text-align: right;\n",
       "    }\n",
       "</style>\n",
       "<table border=\"1\" class=\"dataframe\">\n",
       "  <thead>\n",
       "    <tr style=\"text-align: right;\">\n",
       "      <th></th>\n",
       "      <th>user_id</th>\n",
       "    </tr>\n",
       "  </thead>\n",
       "  <tbody>\n",
       "    <tr>\n",
       "      <th>count</th>\n",
       "      <td>76051.000000</td>\n",
       "    </tr>\n",
       "    <tr>\n",
       "      <th>mean</th>\n",
       "      <td>1245.972768</td>\n",
       "    </tr>\n",
       "    <tr>\n",
       "      <th>std</th>\n",
       "      <td>139.843635</td>\n",
       "    </tr>\n",
       "    <tr>\n",
       "      <th>min</th>\n",
       "      <td>1000.000000</td>\n",
       "    </tr>\n",
       "    <tr>\n",
       "      <th>25%</th>\n",
       "      <td>1123.000000</td>\n",
       "    </tr>\n",
       "    <tr>\n",
       "      <th>50%</th>\n",
       "      <td>1251.000000</td>\n",
       "    </tr>\n",
       "    <tr>\n",
       "      <th>75%</th>\n",
       "      <td>1362.000000</td>\n",
       "    </tr>\n",
       "    <tr>\n",
       "      <th>max</th>\n",
       "      <td>1497.000000</td>\n",
       "    </tr>\n",
       "  </tbody>\n",
       "</table>\n",
       "</div>"
      ],
      "text/plain": [
       "            user_id\n",
       "count  76051.000000\n",
       "mean    1245.972768\n",
       "std      139.843635\n",
       "min     1000.000000\n",
       "25%     1123.000000\n",
       "50%     1251.000000\n",
       "75%     1362.000000\n",
       "max     1497.000000"
      ]
     },
     "metadata": {},
     "output_type": "display_data"
    },
    {
     "name": "stdout",
     "output_type": "stream",
     "text": [
      "\u001b[1m data_plans \u001b[0m\n",
      "-----------------------------------------------------------------------\n",
      "<class 'pandas.core.frame.DataFrame'>\n",
      "RangeIndex: 2 entries, 0 to 1\n",
      "Data columns (total 8 columns):\n",
      " #   Column                 Non-Null Count  Dtype  \n",
      "---  ------                 --------------  -----  \n",
      " 0   messages_included      2 non-null      int64  \n",
      " 1   mb_per_month_included  2 non-null      int64  \n",
      " 2   minutes_included       2 non-null      int64  \n",
      " 3   usd_monthly_pay        2 non-null      int64  \n",
      " 4   usd_per_gb             2 non-null      int64  \n",
      " 5   usd_per_message        2 non-null      float64\n",
      " 6   usd_per_minute         2 non-null      float64\n",
      " 7   plan_name              2 non-null      object \n",
      "dtypes: float64(2), int64(5), object(1)\n",
      "memory usage: 256.0+ bytes\n"
     ]
    },
    {
     "data": {
      "text/plain": [
       "None"
      ]
     },
     "metadata": {},
     "output_type": "display_data"
    },
    {
     "data": {
      "text/html": [
       "<div>\n",
       "<style scoped>\n",
       "    .dataframe tbody tr th:only-of-type {\n",
       "        vertical-align: middle;\n",
       "    }\n",
       "\n",
       "    .dataframe tbody tr th {\n",
       "        vertical-align: top;\n",
       "    }\n",
       "\n",
       "    .dataframe thead th {\n",
       "        text-align: right;\n",
       "    }\n",
       "</style>\n",
       "<table border=\"1\" class=\"dataframe\">\n",
       "  <thead>\n",
       "    <tr style=\"text-align: right;\">\n",
       "      <th></th>\n",
       "      <th>messages_included</th>\n",
       "      <th>mb_per_month_included</th>\n",
       "      <th>minutes_included</th>\n",
       "      <th>usd_monthly_pay</th>\n",
       "      <th>usd_per_gb</th>\n",
       "      <th>usd_per_message</th>\n",
       "      <th>usd_per_minute</th>\n",
       "      <th>plan_name</th>\n",
       "    </tr>\n",
       "  </thead>\n",
       "  <tbody>\n",
       "    <tr>\n",
       "      <th>0</th>\n",
       "      <td>50</td>\n",
       "      <td>15360</td>\n",
       "      <td>500</td>\n",
       "      <td>20</td>\n",
       "      <td>10</td>\n",
       "      <td>0.03</td>\n",
       "      <td>0.03</td>\n",
       "      <td>surf</td>\n",
       "    </tr>\n",
       "    <tr>\n",
       "      <th>1</th>\n",
       "      <td>1000</td>\n",
       "      <td>30720</td>\n",
       "      <td>3000</td>\n",
       "      <td>70</td>\n",
       "      <td>7</td>\n",
       "      <td>0.01</td>\n",
       "      <td>0.01</td>\n",
       "      <td>ultimate</td>\n",
       "    </tr>\n",
       "  </tbody>\n",
       "</table>\n",
       "</div>"
      ],
      "text/plain": [
       "   messages_included  mb_per_month_included  minutes_included  \\\n",
       "0                 50                  15360               500   \n",
       "1               1000                  30720              3000   \n",
       "\n",
       "   usd_monthly_pay  usd_per_gb  usd_per_message  usd_per_minute plan_name  \n",
       "0               20          10             0.03            0.03      surf  \n",
       "1               70           7             0.01            0.01  ultimate  "
      ]
     },
     "metadata": {},
     "output_type": "display_data"
    },
    {
     "data": {
      "text/plain": [
       "messages_included        2\n",
       "mb_per_month_included    2\n",
       "minutes_included         2\n",
       "usd_monthly_pay          2\n",
       "usd_per_gb               2\n",
       "usd_per_message          2\n",
       "usd_per_minute           2\n",
       "plan_name                2\n",
       "dtype: int64"
      ]
     },
     "metadata": {},
     "output_type": "display_data"
    },
    {
     "data": {
      "text/html": [
       "<div>\n",
       "<style scoped>\n",
       "    .dataframe tbody tr th:only-of-type {\n",
       "        vertical-align: middle;\n",
       "    }\n",
       "\n",
       "    .dataframe tbody tr th {\n",
       "        vertical-align: top;\n",
       "    }\n",
       "\n",
       "    .dataframe thead th {\n",
       "        text-align: right;\n",
       "    }\n",
       "</style>\n",
       "<table border=\"1\" class=\"dataframe\">\n",
       "  <thead>\n",
       "    <tr style=\"text-align: right;\">\n",
       "      <th></th>\n",
       "      <th>messages_included</th>\n",
       "      <th>mb_per_month_included</th>\n",
       "      <th>minutes_included</th>\n",
       "      <th>usd_monthly_pay</th>\n",
       "      <th>usd_per_gb</th>\n",
       "      <th>usd_per_message</th>\n",
       "      <th>usd_per_minute</th>\n",
       "    </tr>\n",
       "  </thead>\n",
       "  <tbody>\n",
       "    <tr>\n",
       "      <th>count</th>\n",
       "      <td>2.000000</td>\n",
       "      <td>2.000000</td>\n",
       "      <td>2.000000</td>\n",
       "      <td>2.000000</td>\n",
       "      <td>2.00000</td>\n",
       "      <td>2.000000</td>\n",
       "      <td>2.000000</td>\n",
       "    </tr>\n",
       "    <tr>\n",
       "      <th>mean</th>\n",
       "      <td>525.000000</td>\n",
       "      <td>23040.000000</td>\n",
       "      <td>1750.000000</td>\n",
       "      <td>45.000000</td>\n",
       "      <td>8.50000</td>\n",
       "      <td>0.020000</td>\n",
       "      <td>0.020000</td>\n",
       "    </tr>\n",
       "    <tr>\n",
       "      <th>std</th>\n",
       "      <td>671.751442</td>\n",
       "      <td>10861.160159</td>\n",
       "      <td>1767.766953</td>\n",
       "      <td>35.355339</td>\n",
       "      <td>2.12132</td>\n",
       "      <td>0.014142</td>\n",
       "      <td>0.014142</td>\n",
       "    </tr>\n",
       "    <tr>\n",
       "      <th>min</th>\n",
       "      <td>50.000000</td>\n",
       "      <td>15360.000000</td>\n",
       "      <td>500.000000</td>\n",
       "      <td>20.000000</td>\n",
       "      <td>7.00000</td>\n",
       "      <td>0.010000</td>\n",
       "      <td>0.010000</td>\n",
       "    </tr>\n",
       "    <tr>\n",
       "      <th>25%</th>\n",
       "      <td>287.500000</td>\n",
       "      <td>19200.000000</td>\n",
       "      <td>1125.000000</td>\n",
       "      <td>32.500000</td>\n",
       "      <td>7.75000</td>\n",
       "      <td>0.015000</td>\n",
       "      <td>0.015000</td>\n",
       "    </tr>\n",
       "    <tr>\n",
       "      <th>50%</th>\n",
       "      <td>525.000000</td>\n",
       "      <td>23040.000000</td>\n",
       "      <td>1750.000000</td>\n",
       "      <td>45.000000</td>\n",
       "      <td>8.50000</td>\n",
       "      <td>0.020000</td>\n",
       "      <td>0.020000</td>\n",
       "    </tr>\n",
       "    <tr>\n",
       "      <th>75%</th>\n",
       "      <td>762.500000</td>\n",
       "      <td>26880.000000</td>\n",
       "      <td>2375.000000</td>\n",
       "      <td>57.500000</td>\n",
       "      <td>9.25000</td>\n",
       "      <td>0.025000</td>\n",
       "      <td>0.025000</td>\n",
       "    </tr>\n",
       "    <tr>\n",
       "      <th>max</th>\n",
       "      <td>1000.000000</td>\n",
       "      <td>30720.000000</td>\n",
       "      <td>3000.000000</td>\n",
       "      <td>70.000000</td>\n",
       "      <td>10.00000</td>\n",
       "      <td>0.030000</td>\n",
       "      <td>0.030000</td>\n",
       "    </tr>\n",
       "  </tbody>\n",
       "</table>\n",
       "</div>"
      ],
      "text/plain": [
       "       messages_included  mb_per_month_included  minutes_included  \\\n",
       "count           2.000000               2.000000          2.000000   \n",
       "mean          525.000000           23040.000000       1750.000000   \n",
       "std           671.751442           10861.160159       1767.766953   \n",
       "min            50.000000           15360.000000        500.000000   \n",
       "25%           287.500000           19200.000000       1125.000000   \n",
       "50%           525.000000           23040.000000       1750.000000   \n",
       "75%           762.500000           26880.000000       2375.000000   \n",
       "max          1000.000000           30720.000000       3000.000000   \n",
       "\n",
       "       usd_monthly_pay  usd_per_gb  usd_per_message  usd_per_minute  \n",
       "count         2.000000     2.00000         2.000000        2.000000  \n",
       "mean         45.000000     8.50000         0.020000        0.020000  \n",
       "std          35.355339     2.12132         0.014142        0.014142  \n",
       "min          20.000000     7.00000         0.010000        0.010000  \n",
       "25%          32.500000     7.75000         0.015000        0.015000  \n",
       "50%          45.000000     8.50000         0.020000        0.020000  \n",
       "75%          57.500000     9.25000         0.025000        0.025000  \n",
       "max          70.000000    10.00000         0.030000        0.030000  "
      ]
     },
     "metadata": {},
     "output_type": "display_data"
    },
    {
     "name": "stdout",
     "output_type": "stream",
     "text": [
      "\u001b[1m data_users \u001b[0m\n",
      "-----------------------------------------------------------------------\n",
      "<class 'pandas.core.frame.DataFrame'>\n",
      "RangeIndex: 500 entries, 0 to 499\n",
      "Data columns (total 8 columns):\n",
      " #   Column      Non-Null Count  Dtype \n",
      "---  ------      --------------  ----- \n",
      " 0   user_id     500 non-null    int64 \n",
      " 1   first_name  500 non-null    object\n",
      " 2   last_name   500 non-null    object\n",
      " 3   age         500 non-null    int64 \n",
      " 4   city        500 non-null    object\n",
      " 5   reg_date    500 non-null    object\n",
      " 6   plan        500 non-null    object\n",
      " 7   churn_date  34 non-null     object\n",
      "dtypes: int64(2), object(6)\n",
      "memory usage: 31.4+ KB\n"
     ]
    },
    {
     "data": {
      "text/plain": [
       "None"
      ]
     },
     "metadata": {},
     "output_type": "display_data"
    },
    {
     "data": {
      "text/html": [
       "<div>\n",
       "<style scoped>\n",
       "    .dataframe tbody tr th:only-of-type {\n",
       "        vertical-align: middle;\n",
       "    }\n",
       "\n",
       "    .dataframe tbody tr th {\n",
       "        vertical-align: top;\n",
       "    }\n",
       "\n",
       "    .dataframe thead th {\n",
       "        text-align: right;\n",
       "    }\n",
       "</style>\n",
       "<table border=\"1\" class=\"dataframe\">\n",
       "  <thead>\n",
       "    <tr style=\"text-align: right;\">\n",
       "      <th></th>\n",
       "      <th>user_id</th>\n",
       "      <th>first_name</th>\n",
       "      <th>last_name</th>\n",
       "      <th>age</th>\n",
       "      <th>city</th>\n",
       "      <th>reg_date</th>\n",
       "      <th>plan</th>\n",
       "      <th>churn_date</th>\n",
       "    </tr>\n",
       "  </thead>\n",
       "  <tbody>\n",
       "    <tr>\n",
       "      <th>0</th>\n",
       "      <td>1000</td>\n",
       "      <td>Anamaria</td>\n",
       "      <td>Bauer</td>\n",
       "      <td>45</td>\n",
       "      <td>Atlanta-Sandy Springs-Roswell, GA MSA</td>\n",
       "      <td>2018-12-24</td>\n",
       "      <td>ultimate</td>\n",
       "      <td>NaN</td>\n",
       "    </tr>\n",
       "    <tr>\n",
       "      <th>1</th>\n",
       "      <td>1001</td>\n",
       "      <td>Mickey</td>\n",
       "      <td>Wilkerson</td>\n",
       "      <td>28</td>\n",
       "      <td>Seattle-Tacoma-Bellevue, WA MSA</td>\n",
       "      <td>2018-08-13</td>\n",
       "      <td>surf</td>\n",
       "      <td>NaN</td>\n",
       "    </tr>\n",
       "    <tr>\n",
       "      <th>2</th>\n",
       "      <td>1002</td>\n",
       "      <td>Carlee</td>\n",
       "      <td>Hoffman</td>\n",
       "      <td>36</td>\n",
       "      <td>Las Vegas-Henderson-Paradise, NV MSA</td>\n",
       "      <td>2018-10-21</td>\n",
       "      <td>surf</td>\n",
       "      <td>NaN</td>\n",
       "    </tr>\n",
       "    <tr>\n",
       "      <th>3</th>\n",
       "      <td>1003</td>\n",
       "      <td>Reynaldo</td>\n",
       "      <td>Jenkins</td>\n",
       "      <td>52</td>\n",
       "      <td>Tulsa, OK MSA</td>\n",
       "      <td>2018-01-28</td>\n",
       "      <td>surf</td>\n",
       "      <td>NaN</td>\n",
       "    </tr>\n",
       "    <tr>\n",
       "      <th>4</th>\n",
       "      <td>1004</td>\n",
       "      <td>Leonila</td>\n",
       "      <td>Thompson</td>\n",
       "      <td>40</td>\n",
       "      <td>Seattle-Tacoma-Bellevue, WA MSA</td>\n",
       "      <td>2018-05-23</td>\n",
       "      <td>surf</td>\n",
       "      <td>NaN</td>\n",
       "    </tr>\n",
       "  </tbody>\n",
       "</table>\n",
       "</div>"
      ],
      "text/plain": [
       "   user_id first_name  last_name  age                                   city  \\\n",
       "0     1000   Anamaria      Bauer   45  Atlanta-Sandy Springs-Roswell, GA MSA   \n",
       "1     1001     Mickey  Wilkerson   28        Seattle-Tacoma-Bellevue, WA MSA   \n",
       "2     1002     Carlee    Hoffman   36   Las Vegas-Henderson-Paradise, NV MSA   \n",
       "3     1003   Reynaldo    Jenkins   52                          Tulsa, OK MSA   \n",
       "4     1004    Leonila   Thompson   40        Seattle-Tacoma-Bellevue, WA MSA   \n",
       "\n",
       "     reg_date      plan churn_date  \n",
       "0  2018-12-24  ultimate        NaN  \n",
       "1  2018-08-13      surf        NaN  \n",
       "2  2018-10-21      surf        NaN  \n",
       "3  2018-01-28      surf        NaN  \n",
       "4  2018-05-23      surf        NaN  "
      ]
     },
     "metadata": {},
     "output_type": "display_data"
    },
    {
     "data": {
      "text/plain": [
       "user_id       500\n",
       "first_name    458\n",
       "last_name     399\n",
       "age            58\n",
       "city           73\n",
       "reg_date      266\n",
       "plan            2\n",
       "churn_date     29\n",
       "dtype: int64"
      ]
     },
     "metadata": {},
     "output_type": "display_data"
    },
    {
     "data": {
      "text/html": [
       "<div>\n",
       "<style scoped>\n",
       "    .dataframe tbody tr th:only-of-type {\n",
       "        vertical-align: middle;\n",
       "    }\n",
       "\n",
       "    .dataframe tbody tr th {\n",
       "        vertical-align: top;\n",
       "    }\n",
       "\n",
       "    .dataframe thead th {\n",
       "        text-align: right;\n",
       "    }\n",
       "</style>\n",
       "<table border=\"1\" class=\"dataframe\">\n",
       "  <thead>\n",
       "    <tr style=\"text-align: right;\">\n",
       "      <th></th>\n",
       "      <th>user_id</th>\n",
       "      <th>age</th>\n",
       "    </tr>\n",
       "  </thead>\n",
       "  <tbody>\n",
       "    <tr>\n",
       "      <th>count</th>\n",
       "      <td>500.000000</td>\n",
       "      <td>500.000000</td>\n",
       "    </tr>\n",
       "    <tr>\n",
       "      <th>mean</th>\n",
       "      <td>1249.500000</td>\n",
       "      <td>45.486000</td>\n",
       "    </tr>\n",
       "    <tr>\n",
       "      <th>std</th>\n",
       "      <td>144.481833</td>\n",
       "      <td>16.972269</td>\n",
       "    </tr>\n",
       "    <tr>\n",
       "      <th>min</th>\n",
       "      <td>1000.000000</td>\n",
       "      <td>18.000000</td>\n",
       "    </tr>\n",
       "    <tr>\n",
       "      <th>25%</th>\n",
       "      <td>1124.750000</td>\n",
       "      <td>30.000000</td>\n",
       "    </tr>\n",
       "    <tr>\n",
       "      <th>50%</th>\n",
       "      <td>1249.500000</td>\n",
       "      <td>46.000000</td>\n",
       "    </tr>\n",
       "    <tr>\n",
       "      <th>75%</th>\n",
       "      <td>1374.250000</td>\n",
       "      <td>61.000000</td>\n",
       "    </tr>\n",
       "    <tr>\n",
       "      <th>max</th>\n",
       "      <td>1499.000000</td>\n",
       "      <td>75.000000</td>\n",
       "    </tr>\n",
       "  </tbody>\n",
       "</table>\n",
       "</div>"
      ],
      "text/plain": [
       "           user_id         age\n",
       "count   500.000000  500.000000\n",
       "mean   1249.500000   45.486000\n",
       "std     144.481833   16.972269\n",
       "min    1000.000000   18.000000\n",
       "25%    1124.750000   30.000000\n",
       "50%    1249.500000   46.000000\n",
       "75%    1374.250000   61.000000\n",
       "max    1499.000000   75.000000"
      ]
     },
     "metadata": {},
     "output_type": "display_data"
    }
   ],
   "source": [
    "try:\n",
    "    import pandas as pd\n",
    "    data_calls = pd.read_csv(\"C:\\\\Users\\\\Shir\\\\Downloads\\\\Practicum\\\\Library\\\\megaline_calls.csv\")\n",
    "    data_internet = pd.read_csv(\"C:\\\\Users\\\\Shir\\\\Downloads\\\\Practicum\\\\Library\\\\megaline_internet.csv\")\n",
    "    data_messages = pd.read_csv(\"C:\\\\Users\\\\Shir\\\\Downloads\\\\Practicum\\\\Library\\\\megaline_messages.csv\")\n",
    "    data_plans = pd.read_csv(\"C:\\\\Users\\\\Shir\\\\Downloads\\\\Practicum\\\\Library\\\\megaline_plans.csv\")\n",
    "    data_users = pd.read_csv(\"C:\\\\Users\\\\Shir\\\\Downloads\\\\Practicum\\\\Library\\\\megaline_users.csv\")\n",
    "except:\n",
    "      print(\"An error occurred\")\n",
    "\n",
    "print('\\033[1m', 'data_calls', '\\033[0m')\n",
    "print('--------------------------------------')\n",
    "display(data_calls.info())\n",
    "display(data_calls.head(5))\n",
    "display(data_calls.nunique())\n",
    "display(data_calls.describe())\n",
    "\n",
    "print('\\033[1m', 'data_internet', '\\033[0m')\n",
    "print('--------------------------------------')\n",
    "display(data_internet.info())\n",
    "display(data_internet.head(5))\n",
    "display(data_internet.nunique())\n",
    "display(data_internet.describe())\n",
    "\n",
    "print('\\033[1m', 'data_messages', '\\033[0m')\n",
    "print('--------------------------------------')\n",
    "display(data_messages.info())\n",
    "display(data_messages.head(5))\n",
    "display(data_messages.nunique())\n",
    "display(data_messages.describe())\n",
    "\n",
    "print('\\033[1m', 'data_plans', '\\033[0m')\n",
    "print('-----------------------------------------------------------------------')\n",
    "display(data_plans.info())\n",
    "display(data_plans.head(5))\n",
    "display(data_plans.nunique())\n",
    "display(data_plans.describe())\n",
    "\n",
    "print('\\033[1m', 'data_users', '\\033[0m')\n",
    "print('-----------------------------------------------------------------------')\n",
    "display(data_users.info())\n",
    "display(data_users.head(5))\n",
    "display(data_users.nunique())\n",
    "display(data_users.describe())"
   ]
  },
  {
   "cell_type": "markdown",
   "metadata": {},
   "source": [
    "Conclusion: \n",
    "\n",
    "1. data_calls - contains data on 481 uniqe users, call_date needs to be converted to datetime format, and duration to int, the the min duration for calls is 0.0 minutes, these might be missed calls.\n",
    "2. data_internet - contains data on 489 uniqe users, session_date needs to be converted to datetime format, and mb_used to int.\n",
    "3. data_messages - contains data on 402 uniqe users, message_date needs to be converted to datetime format.\n",
    "4. data_plans - contains 2 rows with info about each of the plans.\n",
    "5. data_users - contains data on 500 users, reg_date needs to be converted to datetime format, churn_date is missing for some users, probably the ones who does not have any churn history."
   ]
  },
  {
   "cell_type": "markdown",
   "metadata": {},
   "source": [
    "# Data preprocessing"
   ]
  },
  {
   "cell_type": "code",
   "execution_count": 4,
   "metadata": {},
   "outputs": [],
   "source": [
    "#Converting the dates to datetime format:\n",
    "data_calls['call_date']= pd.to_datetime(data_calls['call_date'])\n",
    "data_internet['session_date']= pd.to_datetime(data_internet['session_date'])\n",
    "data_messages['message_date']= pd.to_datetime(data_messages['message_date'])\n",
    "data_users['reg_date']= pd.to_datetime(data_users['reg_date'])"
   ]
  },
  {
   "cell_type": "code",
   "execution_count": 5,
   "metadata": {},
   "outputs": [],
   "source": [
    "##creating new columns for month\n",
    "data_calls['month'] = data_calls['call_date'].dt.month\n",
    "data_calls['month'] = data_calls['month'].astype(int)\n",
    "data_messages['month'] = data_messages['message_date'].dt.month\n",
    "data_internet['month'] = data_internet['session_date'].dt.month\n"
   ]
  },
  {
   "cell_type": "code",
   "execution_count": 6,
   "metadata": {},
   "outputs": [
    {
     "name": "stdout",
     "output_type": "stream",
     "text": [
      "26834\n",
      "19.5%\n"
     ]
    }
   ],
   "source": [
    "#Finding and eliminating errors in the data - '0' values in data_calls duration column\n",
    "#checking how many calls have 0 duration, and the % of total values:\n",
    "print(len(data_calls[data_calls['duration'] == 0]))\n",
    "print('{:.1%}'.format(len(data_calls[data_calls['duration'] == 0])/ len(data_calls['duration'])))"
   ]
  },
  {
   "cell_type": "markdown",
   "metadata": {},
   "source": [
    "The errors (0 values) are almost 20% of the data, but replacing these values with any value(like mean for example) will create a billing problem because it will add minutes from 'fake' calls to the balance.\n",
    "Keeping these values as zero is also a problem, because it will create a lower average.\n",
    "So, even though this data is almost 20% out of the total data, I don't see how it can help us in any way, so it will be dropped."
   ]
  },
  {
   "cell_type": "code",
   "execution_count": 13,
   "metadata": {},
   "outputs": [],
   "source": [
    "#saving the data without the rows with duration = 0:\n",
    "data_calls_new = data_calls[data_calls['duration'] != 0]"
   ]
  },
  {
   "cell_type": "code",
   "execution_count": 14,
   "metadata": {},
   "outputs": [
    {
     "data": {
      "text/plain": [
       "0     9\n",
       "1    14\n",
       "2    15\n",
       "3     6\n",
       "4     5\n",
       "Name: duration, dtype: int32"
      ]
     },
     "metadata": {},
     "output_type": "display_data"
    }
   ],
   "source": [
    "#Converting numerical values in data_calls to integer format, and rounding each individual call duartion up because of the pricing method:\n",
    "\n",
    "import math\n",
    "import numpy as np\n",
    "import warnings\n",
    "warnings.filterwarnings(\"ignore\")\n",
    "\n",
    "data_calls_new['duration'] = np.ceil(data_calls_new['duration'])\n",
    "data_calls_new['duration'] = data_calls_new['duration'].astype(int)\n",
    "display(data_calls_new['duration'].head(5))"
   ]
  },
  {
   "cell_type": "code",
   "execution_count": 15,
   "metadata": {},
   "outputs": [
    {
     "name": "stdout",
     "output_type": "stream",
     "text": [
      "13747\n",
      "13.1%\n"
     ]
    }
   ],
   "source": [
    "#Finding and eliminating errors in the data - '0' values in data_internet mb_used column\n",
    "#checking how many rows have 0 duration, and the % of total values:\n",
    "print(len(data_internet[data_internet['mb_used'] == 0]))\n",
    "print('{:.1%}'.format(len(data_internet[data_internet['mb_used'] == 0])/ len(data_internet['mb_used'])))"
   ]
  },
  {
   "cell_type": "markdown",
   "metadata": {},
   "source": [
    "Same as with the calls duration, no point keeping this sessions with 0 mb_used and we don't want to create fake info by replacing the missing values with the mean. The missing values are only 13%, so we will drop them as well."
   ]
  },
  {
   "cell_type": "code",
   "execution_count": 16,
   "metadata": {},
   "outputs": [],
   "source": [
    "#saving the data without the rows with mb_used = 0:\n",
    "data_internet_new = data_internet[data_internet['mb_used'] != 0]"
   ]
  },
  {
   "cell_type": "markdown",
   "metadata": {},
   "source": [
    "mb_used is left as a float for now, because we don't want to lose any information when converting to int."
   ]
  },
  {
   "cell_type": "markdown",
   "metadata": {},
   "source": [
    "# Calculations"
   ]
  },
  {
   "cell_type": "code",
   "execution_count": 17,
   "metadata": {},
   "outputs": [
    {
     "data": {
      "text/plain": [
       "0    339\n",
       "1    161\n",
       "Name: plan, dtype: int64"
      ]
     },
     "execution_count": 17,
     "metadata": {},
     "output_type": "execute_result"
    }
   ],
   "source": [
    "#data_users plan column - converting string values to a numeric scale where surf = 0 and ultinate = 1\n",
    "data_users.replace({'surf': '0', 'ultimate': '1'}, inplace = True)\n",
    "data_users['plan'] = pd.to_numeric(data_users['plan'])\n",
    "data_users['plan'].value_counts()"
   ]
  },
  {
   "cell_type": "markdown",
   "metadata": {},
   "source": [
    "More users(more than twice) are using the surf plan."
   ]
  },
  {
   "cell_type": "code",
   "execution_count": 18,
   "metadata": {},
   "outputs": [
    {
     "data": {
      "text/html": [
       "<div>\n",
       "<style scoped>\n",
       "    .dataframe tbody tr th:only-of-type {\n",
       "        vertical-align: middle;\n",
       "    }\n",
       "\n",
       "    .dataframe tbody tr th {\n",
       "        vertical-align: top;\n",
       "    }\n",
       "\n",
       "    .dataframe thead tr th {\n",
       "        text-align: left;\n",
       "    }\n",
       "</style>\n",
       "<table border=\"1\" class=\"dataframe\">\n",
       "  <thead>\n",
       "    <tr>\n",
       "      <th></th>\n",
       "      <th>user_id</th>\n",
       "      <th>month</th>\n",
       "      <th colspan=\"2\" halign=\"left\">duration</th>\n",
       "    </tr>\n",
       "    <tr>\n",
       "      <th></th>\n",
       "      <th></th>\n",
       "      <th></th>\n",
       "      <th>sum</th>\n",
       "      <th>count</th>\n",
       "    </tr>\n",
       "  </thead>\n",
       "  <tbody>\n",
       "    <tr>\n",
       "      <th>0</th>\n",
       "      <td>1000</td>\n",
       "      <td>12</td>\n",
       "      <td>124</td>\n",
       "      <td>16</td>\n",
       "    </tr>\n",
       "    <tr>\n",
       "      <th>1</th>\n",
       "      <td>1001</td>\n",
       "      <td>8</td>\n",
       "      <td>182</td>\n",
       "      <td>22</td>\n",
       "    </tr>\n",
       "    <tr>\n",
       "      <th>2</th>\n",
       "      <td>1001</td>\n",
       "      <td>9</td>\n",
       "      <td>315</td>\n",
       "      <td>38</td>\n",
       "    </tr>\n",
       "    <tr>\n",
       "      <th>3</th>\n",
       "      <td>1001</td>\n",
       "      <td>10</td>\n",
       "      <td>393</td>\n",
       "      <td>47</td>\n",
       "    </tr>\n",
       "    <tr>\n",
       "      <th>4</th>\n",
       "      <td>1001</td>\n",
       "      <td>11</td>\n",
       "      <td>426</td>\n",
       "      <td>49</td>\n",
       "    </tr>\n",
       "  </tbody>\n",
       "</table>\n",
       "</div>"
      ],
      "text/plain": [
       "  user_id month duration      \n",
       "                     sum count\n",
       "0    1000    12      124    16\n",
       "1    1001     8      182    22\n",
       "2    1001     9      315    38\n",
       "3    1001    10      393    47\n",
       "4    1001    11      426    49"
      ]
     },
     "metadata": {},
     "output_type": "display_data"
    }
   ],
   "source": [
    "#The number of calls made by a user and minutes used per month is summarized in this table:\n",
    "\n",
    "calls_sum = data_calls_new.groupby(['user_id', 'month'], as_index=False).agg({\"duration\": [\"sum\", 'count']})\n",
    "display(calls_sum.head(5))"
   ]
  },
  {
   "cell_type": "code",
   "execution_count": 19,
   "metadata": {},
   "outputs": [
    {
     "data": {
      "text/html": [
       "<div>\n",
       "<style scoped>\n",
       "    .dataframe tbody tr th:only-of-type {\n",
       "        vertical-align: middle;\n",
       "    }\n",
       "\n",
       "    .dataframe tbody tr th {\n",
       "        vertical-align: top;\n",
       "    }\n",
       "\n",
       "    .dataframe thead th {\n",
       "        text-align: right;\n",
       "    }\n",
       "</style>\n",
       "<table border=\"1\" class=\"dataframe\">\n",
       "  <thead>\n",
       "    <tr style=\"text-align: right;\">\n",
       "      <th></th>\n",
       "      <th>user_id</th>\n",
       "      <th>month</th>\n",
       "      <th>messages</th>\n",
       "    </tr>\n",
       "  </thead>\n",
       "  <tbody>\n",
       "    <tr>\n",
       "      <th>0</th>\n",
       "      <td>1000</td>\n",
       "      <td>12</td>\n",
       "      <td>11</td>\n",
       "    </tr>\n",
       "    <tr>\n",
       "      <th>1</th>\n",
       "      <td>1001</td>\n",
       "      <td>8</td>\n",
       "      <td>30</td>\n",
       "    </tr>\n",
       "    <tr>\n",
       "      <th>2</th>\n",
       "      <td>1001</td>\n",
       "      <td>9</td>\n",
       "      <td>44</td>\n",
       "    </tr>\n",
       "    <tr>\n",
       "      <th>3</th>\n",
       "      <td>1001</td>\n",
       "      <td>10</td>\n",
       "      <td>53</td>\n",
       "    </tr>\n",
       "    <tr>\n",
       "      <th>4</th>\n",
       "      <td>1001</td>\n",
       "      <td>11</td>\n",
       "      <td>36</td>\n",
       "    </tr>\n",
       "  </tbody>\n",
       "</table>\n",
       "</div>"
      ],
      "text/plain": [
       "   user_id  month  messages\n",
       "0     1000     12        11\n",
       "1     1001      8        30\n",
       "2     1001      9        44\n",
       "3     1001     10        53\n",
       "4     1001     11        36"
      ]
     },
     "metadata": {},
     "output_type": "display_data"
    }
   ],
   "source": [
    "#The number of text messages sent by a user per month:\n",
    "\n",
    "messages_sum = data_messages.groupby(['user_id', 'month'], as_index=False).agg({\"id\": 'count'})\n",
    "messages_sum.columns = ['user_id', 'month', 'messages']\n",
    "\n",
    "display(messages_sum.head(5))"
   ]
  },
  {
   "cell_type": "code",
   "execution_count": 20,
   "metadata": {},
   "outputs": [
    {
     "data": {
      "text/html": [
       "<div>\n",
       "<style scoped>\n",
       "    .dataframe tbody tr th:only-of-type {\n",
       "        vertical-align: middle;\n",
       "    }\n",
       "\n",
       "    .dataframe tbody tr th {\n",
       "        vertical-align: top;\n",
       "    }\n",
       "\n",
       "    .dataframe thead th {\n",
       "        text-align: right;\n",
       "    }\n",
       "</style>\n",
       "<table border=\"1\" class=\"dataframe\">\n",
       "  <thead>\n",
       "    <tr style=\"text-align: right;\">\n",
       "      <th></th>\n",
       "      <th>user_id</th>\n",
       "      <th>month</th>\n",
       "      <th>mb_used</th>\n",
       "      <th>gb_used</th>\n",
       "    </tr>\n",
       "  </thead>\n",
       "  <tbody>\n",
       "    <tr>\n",
       "      <th>0</th>\n",
       "      <td>1000</td>\n",
       "      <td>12</td>\n",
       "      <td>1901.47</td>\n",
       "      <td>2</td>\n",
       "    </tr>\n",
       "    <tr>\n",
       "      <th>1</th>\n",
       "      <td>1001</td>\n",
       "      <td>8</td>\n",
       "      <td>6919.15</td>\n",
       "      <td>7</td>\n",
       "    </tr>\n",
       "    <tr>\n",
       "      <th>2</th>\n",
       "      <td>1001</td>\n",
       "      <td>9</td>\n",
       "      <td>13314.82</td>\n",
       "      <td>14</td>\n",
       "    </tr>\n",
       "    <tr>\n",
       "      <th>3</th>\n",
       "      <td>1001</td>\n",
       "      <td>10</td>\n",
       "      <td>22330.49</td>\n",
       "      <td>22</td>\n",
       "    </tr>\n",
       "    <tr>\n",
       "      <th>4</th>\n",
       "      <td>1001</td>\n",
       "      <td>11</td>\n",
       "      <td>18504.30</td>\n",
       "      <td>19</td>\n",
       "    </tr>\n",
       "  </tbody>\n",
       "</table>\n",
       "</div>"
      ],
      "text/plain": [
       "   user_id  month   mb_used  gb_used\n",
       "0     1000     12   1901.47        2\n",
       "1     1001      8   6919.15        7\n",
       "2     1001      9  13314.82       14\n",
       "3     1001     10  22330.49       22\n",
       "4     1001     11  18504.30       19"
      ]
     },
     "metadata": {},
     "output_type": "display_data"
    }
   ],
   "source": [
    "#Calculating the volume of data by a user per month:\n",
    "\n",
    "internet_sum = data_internet_new.groupby(['user_id', 'month'], as_index=False).agg({\"mb_used\": 'sum'})\n",
    "\n",
    "#Adding gb_used column as it's easier to work with, 1gb = 1024 mg\n",
    "\n",
    "internet_sum['gb_used'] = internet_sum['mb_used']/1024\n",
    "\n",
    "##Rounding the monthly data used according to the billing method:\n",
    "\n",
    "internet_sum['gb_used'] = np.ceil(internet_sum['gb_used'])\n",
    "internet_sum['gb_used'] = internet_sum['gb_used'].astype(int)\n",
    "\n",
    "display(internet_sum.head(5))"
   ]
  },
  {
   "cell_type": "code",
   "execution_count": 21,
   "metadata": {},
   "outputs": [
    {
     "data": {
      "text/html": [
       "<div>\n",
       "<style scoped>\n",
       "    .dataframe tbody tr th:only-of-type {\n",
       "        vertical-align: middle;\n",
       "    }\n",
       "\n",
       "    .dataframe tbody tr th {\n",
       "        vertical-align: top;\n",
       "    }\n",
       "\n",
       "    .dataframe thead th {\n",
       "        text-align: right;\n",
       "    }\n",
       "</style>\n",
       "<table border=\"1\" class=\"dataframe\">\n",
       "  <thead>\n",
       "    <tr style=\"text-align: right;\">\n",
       "      <th></th>\n",
       "      <th>user_id</th>\n",
       "      <th>plan</th>\n",
       "      <th>month</th>\n",
       "      <th>calls_sum</th>\n",
       "      <th>calls_count</th>\n",
       "      <th>messages</th>\n",
       "      <th>mb_used</th>\n",
       "      <th>gb_used</th>\n",
       "      <th>monthly_charge</th>\n",
       "      <th>surf_charge_minutes</th>\n",
       "      <th>surf_charge_messages</th>\n",
       "      <th>surf_charge_data</th>\n",
       "      <th>ultimate_charge_minutes</th>\n",
       "      <th>ultimate_charge_messages</th>\n",
       "      <th>ultimate_charge_data</th>\n",
       "      <th>surf_charge</th>\n",
       "      <th>ultimate_charge</th>\n",
       "      <th>total_charge</th>\n",
       "    </tr>\n",
       "  </thead>\n",
       "  <tbody>\n",
       "    <tr>\n",
       "      <th>0</th>\n",
       "      <td>1000</td>\n",
       "      <td>1.0</td>\n",
       "      <td>12.0</td>\n",
       "      <td>124.0</td>\n",
       "      <td>16.0</td>\n",
       "      <td>11.0</td>\n",
       "      <td>1901.47</td>\n",
       "      <td>2.0</td>\n",
       "      <td>70</td>\n",
       "      <td>0.0</td>\n",
       "      <td>0.00</td>\n",
       "      <td>0.0</td>\n",
       "      <td>0.0</td>\n",
       "      <td>0.0</td>\n",
       "      <td>0.0</td>\n",
       "      <td>0.00</td>\n",
       "      <td>70.0</td>\n",
       "      <td>70.00</td>\n",
       "    </tr>\n",
       "    <tr>\n",
       "      <th>1</th>\n",
       "      <td>1001</td>\n",
       "      <td>0.0</td>\n",
       "      <td>8.0</td>\n",
       "      <td>182.0</td>\n",
       "      <td>22.0</td>\n",
       "      <td>30.0</td>\n",
       "      <td>6919.15</td>\n",
       "      <td>7.0</td>\n",
       "      <td>20</td>\n",
       "      <td>0.0</td>\n",
       "      <td>0.00</td>\n",
       "      <td>0.0</td>\n",
       "      <td>0.0</td>\n",
       "      <td>0.0</td>\n",
       "      <td>0.0</td>\n",
       "      <td>20.00</td>\n",
       "      <td>0.0</td>\n",
       "      <td>20.00</td>\n",
       "    </tr>\n",
       "    <tr>\n",
       "      <th>2</th>\n",
       "      <td>1001</td>\n",
       "      <td>0.0</td>\n",
       "      <td>9.0</td>\n",
       "      <td>315.0</td>\n",
       "      <td>38.0</td>\n",
       "      <td>44.0</td>\n",
       "      <td>13314.82</td>\n",
       "      <td>14.0</td>\n",
       "      <td>20</td>\n",
       "      <td>0.0</td>\n",
       "      <td>0.00</td>\n",
       "      <td>0.0</td>\n",
       "      <td>0.0</td>\n",
       "      <td>0.0</td>\n",
       "      <td>0.0</td>\n",
       "      <td>20.00</td>\n",
       "      <td>0.0</td>\n",
       "      <td>20.00</td>\n",
       "    </tr>\n",
       "    <tr>\n",
       "      <th>3</th>\n",
       "      <td>1001</td>\n",
       "      <td>0.0</td>\n",
       "      <td>10.0</td>\n",
       "      <td>393.0</td>\n",
       "      <td>47.0</td>\n",
       "      <td>53.0</td>\n",
       "      <td>22330.49</td>\n",
       "      <td>22.0</td>\n",
       "      <td>20</td>\n",
       "      <td>0.0</td>\n",
       "      <td>0.09</td>\n",
       "      <td>70.0</td>\n",
       "      <td>0.0</td>\n",
       "      <td>0.0</td>\n",
       "      <td>0.0</td>\n",
       "      <td>90.09</td>\n",
       "      <td>0.0</td>\n",
       "      <td>90.09</td>\n",
       "    </tr>\n",
       "    <tr>\n",
       "      <th>4</th>\n",
       "      <td>1001</td>\n",
       "      <td>0.0</td>\n",
       "      <td>11.0</td>\n",
       "      <td>426.0</td>\n",
       "      <td>49.0</td>\n",
       "      <td>36.0</td>\n",
       "      <td>18504.30</td>\n",
       "      <td>19.0</td>\n",
       "      <td>20</td>\n",
       "      <td>0.0</td>\n",
       "      <td>0.00</td>\n",
       "      <td>40.0</td>\n",
       "      <td>0.0</td>\n",
       "      <td>0.0</td>\n",
       "      <td>0.0</td>\n",
       "      <td>60.00</td>\n",
       "      <td>0.0</td>\n",
       "      <td>60.00</td>\n",
       "    </tr>\n",
       "  </tbody>\n",
       "</table>\n",
       "</div>"
      ],
      "text/plain": [
       "   user_id  plan  month  calls_sum  calls_count  messages   mb_used  gb_used  \\\n",
       "0     1000   1.0   12.0      124.0         16.0      11.0   1901.47      2.0   \n",
       "1     1001   0.0    8.0      182.0         22.0      30.0   6919.15      7.0   \n",
       "2     1001   0.0    9.0      315.0         38.0      44.0  13314.82     14.0   \n",
       "3     1001   0.0   10.0      393.0         47.0      53.0  22330.49     22.0   \n",
       "4     1001   0.0   11.0      426.0         49.0      36.0  18504.30     19.0   \n",
       "\n",
       "   monthly_charge  surf_charge_minutes  surf_charge_messages  \\\n",
       "0              70                  0.0                  0.00   \n",
       "1              20                  0.0                  0.00   \n",
       "2              20                  0.0                  0.00   \n",
       "3              20                  0.0                  0.09   \n",
       "4              20                  0.0                  0.00   \n",
       "\n",
       "   surf_charge_data  ultimate_charge_minutes  ultimate_charge_messages  \\\n",
       "0               0.0                      0.0                       0.0   \n",
       "1               0.0                      0.0                       0.0   \n",
       "2               0.0                      0.0                       0.0   \n",
       "3              70.0                      0.0                       0.0   \n",
       "4              40.0                      0.0                       0.0   \n",
       "\n",
       "   ultimate_charge_data  surf_charge  ultimate_charge  total_charge  \n",
       "0                   0.0         0.00             70.0         70.00  \n",
       "1                   0.0        20.00              0.0         20.00  \n",
       "2                   0.0        20.00              0.0         20.00  \n",
       "3                   0.0        90.09              0.0         90.09  \n",
       "4                   0.0        60.00              0.0         60.00  "
      ]
     },
     "metadata": {},
     "output_type": "display_data"
    }
   ],
   "source": [
    "#Calculating the monthly revenue from each user:\n",
    "\n",
    "#Creating a full database with all of the relevent info with merge:\n",
    "\n",
    "users_calls= data_users.merge(calls_sum, on='user_id', how='outer', suffixes=('_x', '_y'))\n",
    "users_calls.drop(['first_name', 'last_name', 'reg_date', 'age', 'city', 'churn_date'], axis='columns', inplace=True)\n",
    "users_calls.columns = ['user_id', 'plan', 'month', 'calls_sum', 'calls_count']\n",
    "users_calls_messages= users_calls.merge(messages_sum, on=['user_id', 'month'], how='outer', suffixes=('_x', '_y'))\n",
    "users_total = users_calls_messages.merge(internet_sum, on=['user_id', 'month'], how='outer', suffixes=('_x', '_y'))\n",
    "\n",
    "\n",
    "#Adding revenue calculations:\n",
    "import numpy as np\n",
    "#Adding the monthly charge by plan:\n",
    "users_total['monthly_charge'] = np.where(users_total['plan'] == 0, 20, 70)\n",
    "#Adding the extra charge according to surf plan:\n",
    "users_total['surf_charge_minutes'] = np.where((users_total['plan'] == 0)&(users_total['calls_sum'] > 500), (users_total['calls_sum']-500)*0.03, 0)\n",
    "users_total['surf_charge_messages'] = np.where((users_total['plan'] == 0)&(users_total['messages'] >50), (users_total['messages']-50)*0.03, 0)\n",
    "users_total['surf_charge_data'] = np.where((users_total['plan'] == 0)&(users_total['gb_used'] >15), (users_total['gb_used']-15)*10, 0)\n",
    "#Adding the extra charge according to ultimate plan:\n",
    "users_total['ultimate_charge_minutes'] = np.where((users_total['plan'] == 1)&(users_total['calls_sum'] > 3000), (users_total['calls_sum']-3000)*0.01, 0)\n",
    "users_total['ultimate_charge_messages'] = np.where((users_total['plan'] == 1)&(users_total['messages'] >1000), (users_total['messages']-1000)*0.01, 0)\n",
    "users_total['ultimate_charge_data'] = np.where((users_total['plan'] == 1)&(users_total['gb_used'] >30), (users_total['gb_used']-30)*7, 0)\n",
    "\n",
    "#Adding a column for total cahrge:\n",
    "users_total['surf_charge'] = np.where(users_total['plan'] == 0, users_total['monthly_charge']+users_total['surf_charge_minutes']+users_total['surf_charge_messages']+users_total['surf_charge_data'], 0)\n",
    "users_total['ultimate_charge'] = np.where(users_total['plan'] == 1, users_total['monthly_charge']+users_total['ultimate_charge_minutes']+users_total['ultimate_charge_messages']+users_total['ultimate_charge_data'], 0)\n",
    "users_total['total_charge'] = users_total['surf_charge'] + users_total['ultimate_charge']\n",
    "\n",
    "display(users_total.head(5))"
   ]
  },
  {
   "cell_type": "code",
   "execution_count": 22,
   "metadata": {},
   "outputs": [
    {
     "name": "stdout",
     "output_type": "stream",
     "text": [
      "Total income from surf plan: 93134\n",
      "Total income from ultimate plan: 51884\n"
     ]
    }
   ],
   "source": [
    "print('Total income from surf plan: {:.0f}'.format(users_total[\"surf_charge\"].sum()))\n",
    "print('Total income from ultimate plan: {:.0f}'.format(users_total[\"ultimate_charge\"].sum()))\n"
   ]
  },
  {
   "cell_type": "markdown",
   "metadata": {},
   "source": [
    "Now that we have all the data, we can see that the total revenue from the surf plan is higher, but we also need to check the  average revenue from a user in each plan."
   ]
  },
  {
   "cell_type": "code",
   "execution_count": 23,
   "metadata": {},
   "outputs": [
    {
     "data": {
      "text/html": [
       "<div>\n",
       "<style scoped>\n",
       "    .dataframe tbody tr th:only-of-type {\n",
       "        vertical-align: middle;\n",
       "    }\n",
       "\n",
       "    .dataframe tbody tr th {\n",
       "        vertical-align: top;\n",
       "    }\n",
       "\n",
       "    .dataframe thead th {\n",
       "        text-align: right;\n",
       "    }\n",
       "</style>\n",
       "<table border=\"1\" class=\"dataframe\">\n",
       "  <thead>\n",
       "    <tr style=\"text-align: right;\">\n",
       "      <th></th>\n",
       "      <th>user_id</th>\n",
       "      <th>plan</th>\n",
       "      <th>month</th>\n",
       "      <th>calls_sum</th>\n",
       "      <th>calls_count</th>\n",
       "      <th>messages</th>\n",
       "      <th>mb_used</th>\n",
       "      <th>gb_used</th>\n",
       "      <th>monthly_charge</th>\n",
       "      <th>surf_charge_minutes</th>\n",
       "      <th>surf_charge_messages</th>\n",
       "      <th>surf_charge_data</th>\n",
       "      <th>ultimate_charge_minutes</th>\n",
       "      <th>ultimate_charge_messages</th>\n",
       "      <th>ultimate_charge_data</th>\n",
       "      <th>surf_charge</th>\n",
       "      <th>ultimate_charge</th>\n",
       "      <th>total_charge</th>\n",
       "    </tr>\n",
       "  </thead>\n",
       "  <tbody>\n",
       "    <tr>\n",
       "      <th>0</th>\n",
       "      <td>1000</td>\n",
       "      <td>1.0</td>\n",
       "      <td>12.0</td>\n",
       "      <td>124.0</td>\n",
       "      <td>16.0</td>\n",
       "      <td>11.0</td>\n",
       "      <td>1901.47</td>\n",
       "      <td>2.0</td>\n",
       "      <td>70</td>\n",
       "      <td>0.0</td>\n",
       "      <td>0.00</td>\n",
       "      <td>0.0</td>\n",
       "      <td>0.0</td>\n",
       "      <td>0.0</td>\n",
       "      <td>0.0</td>\n",
       "      <td>0.00</td>\n",
       "      <td>70.0</td>\n",
       "      <td>70.00</td>\n",
       "    </tr>\n",
       "    <tr>\n",
       "      <th>1</th>\n",
       "      <td>1001</td>\n",
       "      <td>0.0</td>\n",
       "      <td>8.0</td>\n",
       "      <td>182.0</td>\n",
       "      <td>22.0</td>\n",
       "      <td>30.0</td>\n",
       "      <td>6919.15</td>\n",
       "      <td>7.0</td>\n",
       "      <td>20</td>\n",
       "      <td>0.0</td>\n",
       "      <td>0.00</td>\n",
       "      <td>0.0</td>\n",
       "      <td>0.0</td>\n",
       "      <td>0.0</td>\n",
       "      <td>0.0</td>\n",
       "      <td>20.00</td>\n",
       "      <td>0.0</td>\n",
       "      <td>20.00</td>\n",
       "    </tr>\n",
       "    <tr>\n",
       "      <th>2</th>\n",
       "      <td>1001</td>\n",
       "      <td>0.0</td>\n",
       "      <td>9.0</td>\n",
       "      <td>315.0</td>\n",
       "      <td>38.0</td>\n",
       "      <td>44.0</td>\n",
       "      <td>13314.82</td>\n",
       "      <td>14.0</td>\n",
       "      <td>20</td>\n",
       "      <td>0.0</td>\n",
       "      <td>0.00</td>\n",
       "      <td>0.0</td>\n",
       "      <td>0.0</td>\n",
       "      <td>0.0</td>\n",
       "      <td>0.0</td>\n",
       "      <td>20.00</td>\n",
       "      <td>0.0</td>\n",
       "      <td>20.00</td>\n",
       "    </tr>\n",
       "    <tr>\n",
       "      <th>3</th>\n",
       "      <td>1001</td>\n",
       "      <td>0.0</td>\n",
       "      <td>10.0</td>\n",
       "      <td>393.0</td>\n",
       "      <td>47.0</td>\n",
       "      <td>53.0</td>\n",
       "      <td>22330.49</td>\n",
       "      <td>22.0</td>\n",
       "      <td>20</td>\n",
       "      <td>0.0</td>\n",
       "      <td>0.09</td>\n",
       "      <td>70.0</td>\n",
       "      <td>0.0</td>\n",
       "      <td>0.0</td>\n",
       "      <td>0.0</td>\n",
       "      <td>90.09</td>\n",
       "      <td>0.0</td>\n",
       "      <td>90.09</td>\n",
       "    </tr>\n",
       "    <tr>\n",
       "      <th>4</th>\n",
       "      <td>1001</td>\n",
       "      <td>0.0</td>\n",
       "      <td>11.0</td>\n",
       "      <td>426.0</td>\n",
       "      <td>49.0</td>\n",
       "      <td>36.0</td>\n",
       "      <td>18504.30</td>\n",
       "      <td>19.0</td>\n",
       "      <td>20</td>\n",
       "      <td>0.0</td>\n",
       "      <td>0.00</td>\n",
       "      <td>40.0</td>\n",
       "      <td>0.0</td>\n",
       "      <td>0.0</td>\n",
       "      <td>0.0</td>\n",
       "      <td>60.00</td>\n",
       "      <td>0.0</td>\n",
       "      <td>60.00</td>\n",
       "    </tr>\n",
       "    <tr>\n",
       "      <th>...</th>\n",
       "      <td>...</td>\n",
       "      <td>...</td>\n",
       "      <td>...</td>\n",
       "      <td>...</td>\n",
       "      <td>...</td>\n",
       "      <td>...</td>\n",
       "      <td>...</td>\n",
       "      <td>...</td>\n",
       "      <td>...</td>\n",
       "      <td>...</td>\n",
       "      <td>...</td>\n",
       "      <td>...</td>\n",
       "      <td>...</td>\n",
       "      <td>...</td>\n",
       "      <td>...</td>\n",
       "      <td>...</td>\n",
       "      <td>...</td>\n",
       "      <td>...</td>\n",
       "    </tr>\n",
       "    <tr>\n",
       "      <th>2307</th>\n",
       "      <td>1407</td>\n",
       "      <td>NaN</td>\n",
       "      <td>11.0</td>\n",
       "      <td>NaN</td>\n",
       "      <td>NaN</td>\n",
       "      <td>1.0</td>\n",
       "      <td>290.06</td>\n",
       "      <td>1.0</td>\n",
       "      <td>70</td>\n",
       "      <td>0.0</td>\n",
       "      <td>0.00</td>\n",
       "      <td>0.0</td>\n",
       "      <td>0.0</td>\n",
       "      <td>0.0</td>\n",
       "      <td>0.0</td>\n",
       "      <td>0.00</td>\n",
       "      <td>0.0</td>\n",
       "      <td>0.00</td>\n",
       "    </tr>\n",
       "    <tr>\n",
       "      <th>2308</th>\n",
       "      <td>1482</td>\n",
       "      <td>NaN</td>\n",
       "      <td>10.0</td>\n",
       "      <td>NaN</td>\n",
       "      <td>NaN</td>\n",
       "      <td>2.0</td>\n",
       "      <td>NaN</td>\n",
       "      <td>NaN</td>\n",
       "      <td>70</td>\n",
       "      <td>0.0</td>\n",
       "      <td>0.00</td>\n",
       "      <td>0.0</td>\n",
       "      <td>0.0</td>\n",
       "      <td>0.0</td>\n",
       "      <td>0.0</td>\n",
       "      <td>0.00</td>\n",
       "      <td>0.0</td>\n",
       "      <td>0.00</td>\n",
       "    </tr>\n",
       "    <tr>\n",
       "      <th>2309</th>\n",
       "      <td>1094</td>\n",
       "      <td>NaN</td>\n",
       "      <td>10.0</td>\n",
       "      <td>NaN</td>\n",
       "      <td>NaN</td>\n",
       "      <td>NaN</td>\n",
       "      <td>1728.71</td>\n",
       "      <td>2.0</td>\n",
       "      <td>70</td>\n",
       "      <td>0.0</td>\n",
       "      <td>0.00</td>\n",
       "      <td>0.0</td>\n",
       "      <td>0.0</td>\n",
       "      <td>0.0</td>\n",
       "      <td>0.0</td>\n",
       "      <td>0.00</td>\n",
       "      <td>0.0</td>\n",
       "      <td>0.00</td>\n",
       "    </tr>\n",
       "    <tr>\n",
       "      <th>2310</th>\n",
       "      <td>1108</td>\n",
       "      <td>NaN</td>\n",
       "      <td>12.0</td>\n",
       "      <td>NaN</td>\n",
       "      <td>NaN</td>\n",
       "      <td>NaN</td>\n",
       "      <td>233.17</td>\n",
       "      <td>1.0</td>\n",
       "      <td>70</td>\n",
       "      <td>0.0</td>\n",
       "      <td>0.00</td>\n",
       "      <td>0.0</td>\n",
       "      <td>0.0</td>\n",
       "      <td>0.0</td>\n",
       "      <td>0.0</td>\n",
       "      <td>0.00</td>\n",
       "      <td>0.0</td>\n",
       "      <td>0.00</td>\n",
       "    </tr>\n",
       "    <tr>\n",
       "      <th>2311</th>\n",
       "      <td>1311</td>\n",
       "      <td>NaN</td>\n",
       "      <td>6.0</td>\n",
       "      <td>NaN</td>\n",
       "      <td>NaN</td>\n",
       "      <td>NaN</td>\n",
       "      <td>1498.83</td>\n",
       "      <td>2.0</td>\n",
       "      <td>70</td>\n",
       "      <td>0.0</td>\n",
       "      <td>0.00</td>\n",
       "      <td>0.0</td>\n",
       "      <td>0.0</td>\n",
       "      <td>0.0</td>\n",
       "      <td>0.0</td>\n",
       "      <td>0.00</td>\n",
       "      <td>0.0</td>\n",
       "      <td>0.00</td>\n",
       "    </tr>\n",
       "  </tbody>\n",
       "</table>\n",
       "<p>2312 rows × 18 columns</p>\n",
       "</div>"
      ],
      "text/plain": [
       "      user_id  plan  month  calls_sum  calls_count  messages   mb_used  \\\n",
       "0        1000   1.0   12.0      124.0         16.0      11.0   1901.47   \n",
       "1        1001   0.0    8.0      182.0         22.0      30.0   6919.15   \n",
       "2        1001   0.0    9.0      315.0         38.0      44.0  13314.82   \n",
       "3        1001   0.0   10.0      393.0         47.0      53.0  22330.49   \n",
       "4        1001   0.0   11.0      426.0         49.0      36.0  18504.30   \n",
       "...       ...   ...    ...        ...          ...       ...       ...   \n",
       "2307     1407   NaN   11.0        NaN          NaN       1.0    290.06   \n",
       "2308     1482   NaN   10.0        NaN          NaN       2.0       NaN   \n",
       "2309     1094   NaN   10.0        NaN          NaN       NaN   1728.71   \n",
       "2310     1108   NaN   12.0        NaN          NaN       NaN    233.17   \n",
       "2311     1311   NaN    6.0        NaN          NaN       NaN   1498.83   \n",
       "\n",
       "      gb_used  monthly_charge  surf_charge_minutes  surf_charge_messages  \\\n",
       "0         2.0              70                  0.0                  0.00   \n",
       "1         7.0              20                  0.0                  0.00   \n",
       "2        14.0              20                  0.0                  0.00   \n",
       "3        22.0              20                  0.0                  0.09   \n",
       "4        19.0              20                  0.0                  0.00   \n",
       "...       ...             ...                  ...                   ...   \n",
       "2307      1.0              70                  0.0                  0.00   \n",
       "2308      NaN              70                  0.0                  0.00   \n",
       "2309      2.0              70                  0.0                  0.00   \n",
       "2310      1.0              70                  0.0                  0.00   \n",
       "2311      2.0              70                  0.0                  0.00   \n",
       "\n",
       "      surf_charge_data  ultimate_charge_minutes  ultimate_charge_messages  \\\n",
       "0                  0.0                      0.0                       0.0   \n",
       "1                  0.0                      0.0                       0.0   \n",
       "2                  0.0                      0.0                       0.0   \n",
       "3                 70.0                      0.0                       0.0   \n",
       "4                 40.0                      0.0                       0.0   \n",
       "...                ...                      ...                       ...   \n",
       "2307               0.0                      0.0                       0.0   \n",
       "2308               0.0                      0.0                       0.0   \n",
       "2309               0.0                      0.0                       0.0   \n",
       "2310               0.0                      0.0                       0.0   \n",
       "2311               0.0                      0.0                       0.0   \n",
       "\n",
       "      ultimate_charge_data  surf_charge  ultimate_charge  total_charge  \n",
       "0                      0.0         0.00             70.0         70.00  \n",
       "1                      0.0        20.00              0.0         20.00  \n",
       "2                      0.0        20.00              0.0         20.00  \n",
       "3                      0.0        90.09              0.0         90.09  \n",
       "4                      0.0        60.00              0.0         60.00  \n",
       "...                    ...          ...              ...           ...  \n",
       "2307                   0.0         0.00              0.0          0.00  \n",
       "2308                   0.0         0.00              0.0          0.00  \n",
       "2309                   0.0         0.00              0.0          0.00  \n",
       "2310                   0.0         0.00              0.0          0.00  \n",
       "2311                   0.0         0.00              0.0          0.00  \n",
       "\n",
       "[2312 rows x 18 columns]"
      ]
     },
     "execution_count": 23,
     "metadata": {},
     "output_type": "execute_result"
    }
   ],
   "source": [
    "users_total"
   ]
  },
  {
   "cell_type": "markdown",
   "metadata": {},
   "source": [
    "# Exploratory data analysis"
   ]
  },
  {
   "cell_type": "code",
   "execution_count": 24,
   "metadata": {},
   "outputs": [],
   "source": [
    "import matplotlib.pyplot as plt \n",
    "import numpy as np\n",
    "\n",
    "surf_plan = users_total[users_total['plan'] == 0]\n",
    "ultimate_plan = users_total[users_total['plan'] == 1]"
   ]
  },
  {
   "cell_type": "markdown",
   "metadata": {},
   "source": [
    "### Call Duration"
   ]
  },
  {
   "cell_type": "code",
   "execution_count": 25,
   "metadata": {},
   "outputs": [
    {
     "data": {
      "text/plain": [
       "Text(0, 0.5, 'Frequency')"
      ]
     },
     "execution_count": 25,
     "metadata": {},
     "output_type": "execute_result"
    },
    {
     "data": {
      "image/png": "[encoded data removed]",
      "text/plain": [
       "<Figure size 432x288 with 1 Axes>"
      ]
     },
     "metadata": {
      "needs_background": "light"
     },
     "output_type": "display_data"
    }
   ],
   "source": [
    "#Histograms for call duration for both plans:\n",
    "plt.hist(surf_plan['calls_sum'], alpha=0.5, bins=25)\n",
    "plt.hist(ultimate_plan['calls_sum'], alpha=0.5, bins=25)\n",
    "plt.legend(('surf', 'ultimate'), loc='upper right')\n",
    "plt.title('Calls Duration',fontsize=15)\n",
    "plt.ylabel(\"Frequency\")"
   ]
  },
  {
   "cell_type": "code",
   "execution_count": 26,
   "metadata": {},
   "outputs": [
    {
     "data": {
      "text/plain": [
       "count    1544.000000\n",
       "mean      436.802461\n",
       "std       229.088544\n",
       "min         2.000000\n",
       "25%       279.000000\n",
       "50%       430.000000\n",
       "75%       579.000000\n",
       "max      1510.000000\n",
       "Name: calls_sum, dtype: float64"
      ]
     },
     "metadata": {},
     "output_type": "display_data"
    },
    {
     "data": {
      "text/plain": [
       "count     712.000000\n",
       "mean      435.286517\n",
       "std       237.459650\n",
       "min        10.000000\n",
       "25%       263.000000\n",
       "50%       425.500000\n",
       "75%       566.000000\n",
       "max      1369.000000\n",
       "Name: calls_sum, dtype: float64"
      ]
     },
     "metadata": {},
     "output_type": "display_data"
    }
   ],
   "source": [
    "#Check mean, std\n",
    "display(surf_plan['calls_sum'].describe())\n",
    "display(ultimate_plan['calls_sum'].describe())"
   ]
  },
  {
   "cell_type": "markdown",
   "metadata": {},
   "source": [
    "We see that we have the same mean and dispersion"
   ]
  },
  {
   "cell_type": "markdown",
   "metadata": {},
   "source": [
    "### Messages"
   ]
  },
  {
   "cell_type": "code",
   "execution_count": 27,
   "metadata": {},
   "outputs": [
    {
     "data": {
      "text/plain": [
       "Text(0, 0.5, 'Frequency')"
      ]
     },
     "execution_count": 27,
     "metadata": {},
     "output_type": "execute_result"
    },
    {
     "data": {
      "image/png": "[encoded data removed]",
      "text/plain": [
       "<Figure size 432x288 with 1 Axes>"
      ]
     },
     "metadata": {
      "needs_background": "light"
     },
     "output_type": "display_data"
    }
   ],
   "source": [
    "#Histograms for number of messages for both plans:\n",
    "plt.hist(surf_plan['messages'], label='surf', alpha=0.5, bins=25)\n",
    "plt.hist(ultimate_plan['messages'], label='ultimate', alpha=0.5, bins=25)\n",
    "plt.legend(('surf', 'ultimate'), loc='upper right')\n",
    "plt.title('Messages',fontsize=15)\n",
    "plt.ylabel(\"Frequency\")"
   ]
  },
  {
   "cell_type": "code",
   "execution_count": 28,
   "metadata": {},
   "outputs": [
    {
     "data": {
      "text/plain": [
       "count    1194.000000\n",
       "mean       39.980737\n",
       "std        33.189423\n",
       "min         1.000000\n",
       "25%        16.000000\n",
       "50%        32.000000\n",
       "75%        53.000000\n",
       "max       266.000000\n",
       "Name: messages, dtype: float64"
      ]
     },
     "metadata": {},
     "output_type": "display_data"
    },
    {
     "data": {
      "text/plain": [
       "count    578.000000\n",
       "mean      46.534602\n",
       "std       32.904194\n",
       "min        1.000000\n",
       "25%       21.000000\n",
       "50%       41.000000\n",
       "75%       66.000000\n",
       "max      166.000000\n",
       "Name: messages, dtype: float64"
      ]
     },
     "metadata": {},
     "output_type": "display_data"
    }
   ],
   "source": [
    "#Check mean, std\n",
    "display(surf_plan['messages'].describe())\n",
    "display(ultimate_plan['messages'].describe())"
   ]
  },
  {
   "cell_type": "markdown",
   "metadata": {},
   "source": [
    "We see that the mean in the surf plan is lower, and the and dispersion is different"
   ]
  },
  {
   "cell_type": "markdown",
   "metadata": {},
   "source": [
    "### Gb used"
   ]
  },
  {
   "cell_type": "code",
   "execution_count": 29,
   "metadata": {},
   "outputs": [
    {
     "data": {
      "text/plain": [
       "Text(0, 0.5, 'Frequency')"
      ]
     },
     "execution_count": 29,
     "metadata": {},
     "output_type": "execute_result"
    },
    {
     "data": {
      "image/png": "[encoded data removed]",
      "text/plain": [
       "<Figure size 432x288 with 1 Axes>"
      ]
     },
     "metadata": {
      "needs_background": "light"
     },
     "output_type": "display_data"
    }
   ],
   "source": [
    "#Histograms for data used for both plans:\n",
    "plt.hist(surf_plan['gb_used'], label='surf', alpha=0.5, bins=25)\n",
    "plt.hist(ultimate_plan['gb_used'], label='ultimate', alpha=0.5, bins=25)\n",
    "plt.legend(('surf', 'ultimate'), loc='upper right')\n",
    "plt.title('Gb Used',fontsize=15)\n",
    "plt.ylabel(\"Frequency\")"
   ]
  },
  {
   "cell_type": "code",
   "execution_count": 30,
   "metadata": {},
   "outputs": [
    {
     "data": {
      "text/plain": [
       "count    1529.000000\n",
       "mean       16.792675\n",
       "std         7.539220\n",
       "min         1.000000\n",
       "25%        12.000000\n",
       "50%        17.000000\n",
       "75%        21.000000\n",
       "max        70.000000\n",
       "Name: gb_used, dtype: float64"
      ]
     },
     "metadata": {},
     "output_type": "display_data"
    },
    {
     "data": {
      "text/plain": [
       "count    712.000000\n",
       "mean      17.393258\n",
       "std        7.560528\n",
       "min        1.000000\n",
       "25%       13.000000\n",
       "50%       17.000000\n",
       "75%       21.000000\n",
       "max       46.000000\n",
       "Name: gb_used, dtype: float64"
      ]
     },
     "metadata": {},
     "output_type": "display_data"
    }
   ],
   "source": [
    "#Check mean, std\n",
    "display(surf_plan['gb_used'].describe())\n",
    "display(ultimate_plan['gb_used'].describe())"
   ]
  },
  {
   "cell_type": "markdown",
   "metadata": {},
   "source": [
    "We see that we have the same mean and dispersion"
   ]
  },
  {
   "cell_type": "code",
   "execution_count": 31,
   "metadata": {},
   "outputs": [
    {
     "data": {
      "text/plain": [
       "Text(0, 0.5, 'Frequency')"
      ]
     },
     "execution_count": 31,
     "metadata": {},
     "output_type": "execute_result"
    },
    {
     "data": {
      "image/png": "[encoded data removed]",
      "text/plain": [
       "<Figure size 432x288 with 1 Axes>"
      ]
     },
     "metadata": {
      "needs_background": "light"
     },
     "output_type": "display_data"
    }
   ],
   "source": [
    "#Histograms for total revenue for both plans:\n",
    "plt.hist(surf_plan['total_charge'], alpha=0.5, bins=10)\n",
    "plt.hist(ultimate_plan['total_charge'], alpha=0.5, bins=2)\n",
    "plt.legend(('surf', 'ultimate'), loc='upper right')\n",
    "plt.title('Total Revenue',fontsize=15)\n",
    "plt.ylabel(\"Frequency\")"
   ]
  },
  {
   "cell_type": "code",
   "execution_count": 32,
   "metadata": {},
   "outputs": [
    {
     "data": {
      "text/plain": [
       "count    1557.000000\n",
       "mean       59.816262\n",
       "std        53.441913\n",
       "min        20.000000\n",
       "25%        20.000000\n",
       "50%        40.150000\n",
       "75%        80.000000\n",
       "max       590.370000\n",
       "Name: total_charge, dtype: float64"
      ]
     },
     "metadata": {},
     "output_type": "display_data"
    },
    {
     "data": {
      "text/plain": [
       "count    718.000000\n",
       "mean      72.261838\n",
       "std       11.313880\n",
       "min       70.000000\n",
       "25%       70.000000\n",
       "50%       70.000000\n",
       "75%       70.000000\n",
       "max      182.000000\n",
       "Name: total_charge, dtype: float64"
      ]
     },
     "metadata": {},
     "output_type": "display_data"
    }
   ],
   "source": [
    "#Check mean, std\n",
    "display(surf_plan['total_charge'].describe())\n",
    "display(ultimate_plan['total_charge'].describe())"
   ]
  },
  {
   "cell_type": "markdown",
   "metadata": {},
   "source": [
    "We see that the total revenue from the surf plan is higher, but the ultimate plan mean is higher, meaning every client in the ulrimate plan generates more revenue on average."
   ]
  },
  {
   "cell_type": "markdown",
   "metadata": {},
   "source": [
    "# Statistical Data Analysis"
   ]
  },
  {
   "cell_type": "code",
   "execution_count": 33,
   "metadata": {},
   "outputs": [
    {
     "name": "stdout",
     "output_type": "stream",
     "text": [
      "p-value:  7.767196276577182e-10\n",
      "We reject the null hypothesis\n"
     ]
    }
   ],
   "source": [
    "# Testing the hypothesis, that the average revenue from users in surf plan is same as users fromn ultimate plan\n",
    "from scipy import stats as st\n",
    "import numpy as np\n",
    "\n",
    "alpha = 0.05  # critical statistical significance level\n",
    "\n",
    "results = st.ttest_ind(surf_plan['total_charge'], ultimate_plan['total_charge'])\n",
    "\n",
    "print('p-value: ', results.pvalue)\n",
    "\n",
    "if results.pvalue < alpha:\n",
    "    print(\"We reject the null hypothesis\")\n",
    "else:\n",
    "    print(\"We can't reject the null hypothesis\")\n"
   ]
  },
  {
   "cell_type": "markdown",
   "metadata": {},
   "source": [
    "Our hypothesis is that both groups generate the same revenue \n",
    "H0 = both groups generate the same revenue\n",
    "H1 = groups does not generate the same revenue\n",
    "\n",
    "We reject the null hypothesis, it's clear that the groups does not generate the same revenue, and one group's revnue is higher than the other."
   ]
  },
  {
   "cell_type": "code",
   "execution_count": 34,
   "metadata": {},
   "outputs": [
    {
     "data": {
      "text/html": [
       "<div>\n",
       "<style scoped>\n",
       "    .dataframe tbody tr th:only-of-type {\n",
       "        vertical-align: middle;\n",
       "    }\n",
       "\n",
       "    .dataframe tbody tr th {\n",
       "        vertical-align: top;\n",
       "    }\n",
       "\n",
       "    .dataframe thead th {\n",
       "        text-align: right;\n",
       "    }\n",
       "</style>\n",
       "<table border=\"1\" class=\"dataframe\">\n",
       "  <thead>\n",
       "    <tr style=\"text-align: right;\">\n",
       "      <th></th>\n",
       "      <th>user_id</th>\n",
       "      <th>age</th>\n",
       "      <th>city</th>\n",
       "      <th>plan_x</th>\n",
       "      <th>plan_y</th>\n",
       "      <th>month</th>\n",
       "      <th>calls_sum</th>\n",
       "      <th>calls_count</th>\n",
       "      <th>messages</th>\n",
       "      <th>mb_used</th>\n",
       "      <th>...</th>\n",
       "      <th>monthly_charge</th>\n",
       "      <th>surf_charge_minutes</th>\n",
       "      <th>surf_charge_messages</th>\n",
       "      <th>surf_charge_data</th>\n",
       "      <th>ultimate_charge_minutes</th>\n",
       "      <th>ultimate_charge_messages</th>\n",
       "      <th>ultimate_charge_data</th>\n",
       "      <th>surf_charge</th>\n",
       "      <th>ultimate_charge</th>\n",
       "      <th>total_charge</th>\n",
       "    </tr>\n",
       "  </thead>\n",
       "  <tbody>\n",
       "    <tr>\n",
       "      <th>0</th>\n",
       "      <td>1000</td>\n",
       "      <td>45</td>\n",
       "      <td>Atlanta-Sandy Springs-Roswell, GA MSA</td>\n",
       "      <td>1</td>\n",
       "      <td>1.0</td>\n",
       "      <td>12.0</td>\n",
       "      <td>124.0</td>\n",
       "      <td>16.0</td>\n",
       "      <td>11.0</td>\n",
       "      <td>1901.47</td>\n",
       "      <td>...</td>\n",
       "      <td>70</td>\n",
       "      <td>0.0</td>\n",
       "      <td>0.00</td>\n",
       "      <td>0.0</td>\n",
       "      <td>0.0</td>\n",
       "      <td>0.0</td>\n",
       "      <td>0.0</td>\n",
       "      <td>0.00</td>\n",
       "      <td>70.0</td>\n",
       "      <td>70.00</td>\n",
       "    </tr>\n",
       "    <tr>\n",
       "      <th>1</th>\n",
       "      <td>1001</td>\n",
       "      <td>28</td>\n",
       "      <td>Seattle-Tacoma-Bellevue, WA MSA</td>\n",
       "      <td>0</td>\n",
       "      <td>0.0</td>\n",
       "      <td>8.0</td>\n",
       "      <td>182.0</td>\n",
       "      <td>22.0</td>\n",
       "      <td>30.0</td>\n",
       "      <td>6919.15</td>\n",
       "      <td>...</td>\n",
       "      <td>20</td>\n",
       "      <td>0.0</td>\n",
       "      <td>0.00</td>\n",
       "      <td>0.0</td>\n",
       "      <td>0.0</td>\n",
       "      <td>0.0</td>\n",
       "      <td>0.0</td>\n",
       "      <td>20.00</td>\n",
       "      <td>0.0</td>\n",
       "      <td>20.00</td>\n",
       "    </tr>\n",
       "    <tr>\n",
       "      <th>2</th>\n",
       "      <td>1001</td>\n",
       "      <td>28</td>\n",
       "      <td>Seattle-Tacoma-Bellevue, WA MSA</td>\n",
       "      <td>0</td>\n",
       "      <td>0.0</td>\n",
       "      <td>9.0</td>\n",
       "      <td>315.0</td>\n",
       "      <td>38.0</td>\n",
       "      <td>44.0</td>\n",
       "      <td>13314.82</td>\n",
       "      <td>...</td>\n",
       "      <td>20</td>\n",
       "      <td>0.0</td>\n",
       "      <td>0.00</td>\n",
       "      <td>0.0</td>\n",
       "      <td>0.0</td>\n",
       "      <td>0.0</td>\n",
       "      <td>0.0</td>\n",
       "      <td>20.00</td>\n",
       "      <td>0.0</td>\n",
       "      <td>20.00</td>\n",
       "    </tr>\n",
       "    <tr>\n",
       "      <th>3</th>\n",
       "      <td>1001</td>\n",
       "      <td>28</td>\n",
       "      <td>Seattle-Tacoma-Bellevue, WA MSA</td>\n",
       "      <td>0</td>\n",
       "      <td>0.0</td>\n",
       "      <td>10.0</td>\n",
       "      <td>393.0</td>\n",
       "      <td>47.0</td>\n",
       "      <td>53.0</td>\n",
       "      <td>22330.49</td>\n",
       "      <td>...</td>\n",
       "      <td>20</td>\n",
       "      <td>0.0</td>\n",
       "      <td>0.09</td>\n",
       "      <td>70.0</td>\n",
       "      <td>0.0</td>\n",
       "      <td>0.0</td>\n",
       "      <td>0.0</td>\n",
       "      <td>90.09</td>\n",
       "      <td>0.0</td>\n",
       "      <td>90.09</td>\n",
       "    </tr>\n",
       "    <tr>\n",
       "      <th>4</th>\n",
       "      <td>1001</td>\n",
       "      <td>28</td>\n",
       "      <td>Seattle-Tacoma-Bellevue, WA MSA</td>\n",
       "      <td>0</td>\n",
       "      <td>0.0</td>\n",
       "      <td>11.0</td>\n",
       "      <td>426.0</td>\n",
       "      <td>49.0</td>\n",
       "      <td>36.0</td>\n",
       "      <td>18504.30</td>\n",
       "      <td>...</td>\n",
       "      <td>20</td>\n",
       "      <td>0.0</td>\n",
       "      <td>0.00</td>\n",
       "      <td>40.0</td>\n",
       "      <td>0.0</td>\n",
       "      <td>0.0</td>\n",
       "      <td>0.0</td>\n",
       "      <td>60.00</td>\n",
       "      <td>0.0</td>\n",
       "      <td>60.00</td>\n",
       "    </tr>\n",
       "  </tbody>\n",
       "</table>\n",
       "<p>5 rows × 21 columns</p>\n",
       "</div>"
      ],
      "text/plain": [
       "   user_id  age                                   city  plan_x  plan_y  month  \\\n",
       "0     1000   45  Atlanta-Sandy Springs-Roswell, GA MSA       1     1.0   12.0   \n",
       "1     1001   28        Seattle-Tacoma-Bellevue, WA MSA       0     0.0    8.0   \n",
       "2     1001   28        Seattle-Tacoma-Bellevue, WA MSA       0     0.0    9.0   \n",
       "3     1001   28        Seattle-Tacoma-Bellevue, WA MSA       0     0.0   10.0   \n",
       "4     1001   28        Seattle-Tacoma-Bellevue, WA MSA       0     0.0   11.0   \n",
       "\n",
       "   calls_sum  calls_count  messages   mb_used  ...  monthly_charge  \\\n",
       "0      124.0         16.0      11.0   1901.47  ...              70   \n",
       "1      182.0         22.0      30.0   6919.15  ...              20   \n",
       "2      315.0         38.0      44.0  13314.82  ...              20   \n",
       "3      393.0         47.0      53.0  22330.49  ...              20   \n",
       "4      426.0         49.0      36.0  18504.30  ...              20   \n",
       "\n",
       "   surf_charge_minutes  surf_charge_messages  surf_charge_data  \\\n",
       "0                  0.0                  0.00               0.0   \n",
       "1                  0.0                  0.00               0.0   \n",
       "2                  0.0                  0.00               0.0   \n",
       "3                  0.0                  0.09              70.0   \n",
       "4                  0.0                  0.00              40.0   \n",
       "\n",
       "   ultimate_charge_minutes  ultimate_charge_messages  ultimate_charge_data  \\\n",
       "0                      0.0                       0.0                   0.0   \n",
       "1                      0.0                       0.0                   0.0   \n",
       "2                      0.0                       0.0                   0.0   \n",
       "3                      0.0                       0.0                   0.0   \n",
       "4                      0.0                       0.0                   0.0   \n",
       "\n",
       "   surf_charge  ultimate_charge  total_charge  \n",
       "0         0.00             70.0         70.00  \n",
       "1        20.00              0.0         20.00  \n",
       "2        20.00              0.0         20.00  \n",
       "3        90.09              0.0         90.09  \n",
       "4        60.00              0.0         60.00  \n",
       "\n",
       "[5 rows x 21 columns]"
      ]
     },
     "metadata": {},
     "output_type": "display_data"
    }
   ],
   "source": [
    "# Check if the average revenue from users in NY-NJ area is different from that of the users from other regions:\n",
    "\n",
    "#First we need to create a database with the city of the client:\n",
    "city_data = data_users.merge(users_total, on='user_id', how='outer', suffixes=('_x', '_y'))\n",
    "city_data.drop(['first_name', 'last_name', 'reg_date', 'churn_date'], axis='columns', inplace=True)\n",
    "display(city_data.head(5))"
   ]
  },
  {
   "cell_type": "code",
   "execution_count": 35,
   "metadata": {},
   "outputs": [
    {
     "data": {
      "text/plain": [
       "user_id                      80\n",
       "age                          42\n",
       "city                          1\n",
       "plan_x                        2\n",
       "plan_y                        2\n",
       "month                        11\n",
       "calls_sum                   292\n",
       "calls_count                  95\n",
       "messages                     90\n",
       "mb_used                     376\n",
       "gb_used                      39\n",
       "monthly_charge                2\n",
       "surf_charge_minutes         103\n",
       "surf_charge_messages         28\n",
       "surf_charge_data             22\n",
       "ultimate_charge_minutes       1\n",
       "ultimate_charge_messages      1\n",
       "ultimate_charge_data          7\n",
       "surf_charge                 148\n",
       "ultimate_charge               8\n",
       "total_charge                154\n",
       "dtype: int64"
      ]
     },
     "metadata": {},
     "output_type": "display_data"
    }
   ],
   "source": [
    "#Now we will save only clients who live in NY-NJ for future analysis:\n",
    "nynj_data = city_data[city_data['city'] == 'New York-Newark-Jersey City, NY-NJ-PA MSA']\n",
    "#clients that does not live in NY-Nj area:\n",
    "other_data = city_data[city_data['city'] != 'New York-Newark-Jersey City, NY-NJ-PA MSA']\n",
    "display(nynj_data.nunique())"
   ]
  },
  {
   "cell_type": "markdown",
   "metadata": {},
   "source": [
    "We see that we have 80 unique users in NY-NJ, which are 16% of total users, and the largest group by far."
   ]
  },
  {
   "cell_type": "code",
   "execution_count": 36,
   "metadata": {},
   "outputs": [
    {
     "name": "stdout",
     "output_type": "stream",
     "text": [
      "p-value:  0.01784895387544158\n",
      "We reject the null hypothesis\n"
     ]
    }
   ],
   "source": [
    "# Testing the hypotheses, the average revenue from users in NY-NJ area is same as users fromn other areas\n",
    "\n",
    "alpha = 0.05  # critical statistical significance level\n",
    "\n",
    "results = st.ttest_ind(other_data['total_charge'], nynj_data['total_charge'])\n",
    "\n",
    "print('p-value: ', results.pvalue)\n",
    "\n",
    "if results.pvalue < alpha:\n",
    "    print(\"We reject the null hypothesis\")\n",
    "else:\n",
    "    print(\"We can't reject the null hypothesis\")"
   ]
  },
  {
   "cell_type": "markdown",
   "metadata": {},
   "source": [
    "Our hypothesis is that both groups, clients who live in NY-NJ, and clients from other areas, generate the same revenue \n",
    "H0 = both groups generate the same revenue\n",
    "H1 = groups does not generate the same revenue\n",
    "\n",
    "We can't reject the null hypothesis, and can't say that clients from NY-NJ are more profitable."
   ]
  },
  {
   "cell_type": "markdown",
   "metadata": {},
   "source": [
    "\n",
    "# Overall conclusion"
   ]
  },
  {
   "cell_type": "markdown",
   "metadata": {},
   "source": [
    "The data was imported and examined, the database contains 5 files with different infotmation about 500 users. Data preprocessing was made by converting dates to datetime format, new columns for the excat month(in numerical scale) were created, and call duartion was converted to an integer while each individual call duartion was rounded up according to the billing method of the company. Errors were removed by dropping calls with 0 duration, and internet sessions with 0 data used.\n",
    "\n",
    "Data was categorized, the duration and number of calls, text messages and data used by each user per month were calculated and stored in a new dataframe, the monthly revenue from each user according to the plan was calculated and analysed.\n",
    "Exploratory data analysis was preformed by creating histograms for call duarion, messeages, and gb used, for both surf and ultimate plan.\n",
    "For further analysis, the average revenue from users in NY-NJ area was compared to the other major cities, cities with small amount of users were treated as outliers. As this is a categorical variable, box plots were added.\n",
    "\n",
    "Statistical data analysis was formulated by checking the hypothesis on the equality of two population means to see if the average revenue varies for clients in different plans. 0.05 used as the critical statistical significance level. The p-value was smaller than the alpha, and we rejected the null hypothesis, meaning that the average revenue from clietns in surf plan is signifintluy differnt than the revenue in the ultimate plan. \n",
    "\n",
    "For further analysis, we again did a hypothesis on the equality of two populations, one of clients who live in NY-NJ and the second is clietns who live in all other locations. We wanted to see if the revenue in both populations is the same.\n",
    "The p-value was smaller than the alpha, and we rejected the null hypothesis, meaning that the average revenue from clietns in N is signifintluy differnt than the revenue in the ultimate plan. \n",
    "\n",
    "\n",
    "\n",
    "Main findings:\n",
    "\n",
    "1. Out of the two prepaid plans provided, Surf and Ultimate, the plan that recommended for Megaline is the ultimate plan, as on average it generates more revenue. I would suggest adjusting the advertising budget and put more effort on the ultimate plan as it's more profitable.\n",
    "\n",
    "2. The average revenue from users in NY-NJ area is not higher than other areas. I wouldn't advise Megaline to put a special effort on clients from NY-NJ area.\n"
   ]
  }
 ],
 "metadata": {
  "ExecuteTimeLog": [
   {
    "duration": 1210,
    "start_time": "2021-07-06T10:37:37.911Z"
   },
   {
    "duration": 430,
    "start_time": "2021-07-06T10:38:04.619Z"
   },
   {
    "duration": 432,
    "start_time": "2021-07-06T10:38:24.455Z"
   },
   {
    "duration": 419,
    "start_time": "2021-07-06T10:38:47.356Z"
   },
   {
    "duration": 423,
    "start_time": "2021-07-06T10:39:46.568Z"
   },
   {
    "duration": 397,
    "start_time": "2021-07-06T10:40:35.001Z"
   },
   {
    "duration": 402,
    "start_time": "2021-07-06T10:40:52.354Z"
   },
   {
    "duration": 409,
    "start_time": "2021-07-06T10:41:37.308Z"
   },
   {
    "duration": 402,
    "start_time": "2021-07-06T10:41:46.947Z"
   },
   {
    "duration": 479,
    "start_time": "2021-07-06T10:46:57.315Z"
   },
   {
    "duration": 461,
    "start_time": "2021-07-06T10:47:22.993Z"
   },
   {
    "duration": 446,
    "start_time": "2021-07-06T10:47:44.685Z"
   },
   {
    "duration": 455,
    "start_time": "2021-07-06T10:48:17.386Z"
   },
   {
    "duration": 1268,
    "start_time": "2021-07-06T10:49:13.459Z"
   },
   {
    "duration": 650,
    "start_time": "2021-07-06T10:49:22.434Z"
   },
   {
    "duration": 538,
    "start_time": "2021-07-06T10:49:36.429Z"
   },
   {
    "duration": 461,
    "start_time": "2021-07-06T10:50:11.130Z"
   },
   {
    "duration": 474,
    "start_time": "2021-07-06T10:50:31.310Z"
   },
   {
    "duration": 455,
    "start_time": "2021-07-06T10:50:43.481Z"
   },
   {
    "duration": 461,
    "start_time": "2021-07-06T10:50:51.821Z"
   },
   {
    "duration": 465,
    "start_time": "2021-07-06T10:51:01.909Z"
   },
   {
    "duration": 447,
    "start_time": "2021-07-06T10:51:40.964Z"
   },
   {
    "duration": 34,
    "start_time": "2021-07-06T12:37:35.511Z"
   },
   {
    "duration": 48,
    "start_time": "2021-07-06T12:37:41.058Z"
   },
   {
    "duration": 205,
    "start_time": "2021-07-06T12:38:28.861Z"
   },
   {
    "duration": 108,
    "start_time": "2021-07-06T12:38:59.602Z"
   },
   {
    "duration": 655,
    "start_time": "2021-07-06T13:02:27.016Z"
   },
   {
    "duration": 564,
    "start_time": "2021-07-06T13:03:21.019Z"
   },
   {
    "duration": 604,
    "start_time": "2021-07-06T13:03:59.017Z"
   },
   {
    "duration": 601,
    "start_time": "2021-07-06T13:04:46.308Z"
   },
   {
    "duration": 610,
    "start_time": "2021-07-06T13:05:12.663Z"
   },
   {
    "duration": 1023,
    "start_time": "2021-07-06T13:24:36.408Z"
   },
   {
    "duration": 758,
    "start_time": "2021-07-06T13:27:17.881Z"
   },
   {
    "duration": 691,
    "start_time": "2021-07-06T13:27:24.103Z"
   },
   {
    "duration": 785,
    "start_time": "2021-07-06T13:30:30.150Z"
   },
   {
    "duration": 784,
    "start_time": "2021-07-06T13:34:04.330Z"
   },
   {
    "duration": 808,
    "start_time": "2021-07-06T13:37:31.707Z"
   },
   {
    "duration": 66,
    "start_time": "2021-07-06T13:44:45.682Z"
   },
   {
    "duration": 18,
    "start_time": "2021-07-06T13:50:37.895Z"
   },
   {
    "duration": 9,
    "start_time": "2021-07-06T13:50:39.680Z"
   },
   {
    "duration": 24,
    "start_time": "2021-07-06T13:51:09.191Z"
   },
   {
    "duration": 14,
    "start_time": "2021-07-06T13:51:14.775Z"
   },
   {
    "duration": 447,
    "start_time": "2021-07-06T13:54:43.209Z"
   },
   {
    "duration": 355,
    "start_time": "2021-07-06T13:55:18.953Z"
   },
   {
    "duration": 132,
    "start_time": "2021-07-06T13:55:21.514Z"
   },
   {
    "duration": 358,
    "start_time": "2021-07-06T13:55:29.329Z"
   },
   {
    "duration": 332,
    "start_time": "2021-07-06T13:55:33.289Z"
   },
   {
    "duration": 17,
    "start_time": "2021-07-06T13:55:51.546Z"
   },
   {
    "duration": 313,
    "start_time": "2021-07-06T13:57:14.365Z"
   },
   {
    "duration": 16,
    "start_time": "2021-07-06T13:57:26.029Z"
   },
   {
    "duration": 857,
    "start_time": "2021-07-06T13:58:17.052Z"
   },
   {
    "duration": 14,
    "start_time": "2021-07-06T13:58:27.532Z"
   },
   {
    "duration": 15,
    "start_time": "2021-07-06T13:58:32.532Z"
   },
   {
    "duration": 10,
    "start_time": "2021-07-06T13:58:55.093Z"
   },
   {
    "duration": 15,
    "start_time": "2021-07-06T13:59:55.135Z"
   },
   {
    "duration": 119,
    "start_time": "2021-07-06T14:00:54.855Z"
   },
   {
    "duration": 106,
    "start_time": "2021-07-06T14:01:23.592Z"
   },
   {
    "duration": 98,
    "start_time": "2021-07-06T14:01:42.897Z"
   },
   {
    "duration": 14,
    "start_time": "2021-07-06T14:02:44.729Z"
   },
   {
    "duration": 16,
    "start_time": "2021-07-06T14:02:55.433Z"
   },
   {
    "duration": 346,
    "start_time": "2021-07-06T14:15:07.110Z"
   },
   {
    "duration": 25,
    "start_time": "2021-07-06T14:15:34.198Z"
   },
   {
    "duration": 845,
    "start_time": "2021-07-06T14:16:51.322Z"
   },
   {
    "duration": 63,
    "start_time": "2021-07-06T14:17:10.906Z"
   },
   {
    "duration": 8,
    "start_time": "2021-07-06T14:17:12.199Z"
   },
   {
    "duration": 5,
    "start_time": "2021-07-06T14:17:18.425Z"
   },
   {
    "duration": 18,
    "start_time": "2021-07-06T14:17:21.120Z"
   },
   {
    "duration": 15,
    "start_time": "2021-07-06T14:17:37.281Z"
   },
   {
    "duration": 322,
    "start_time": "2021-07-06T14:18:30.628Z"
   },
   {
    "duration": 10,
    "start_time": "2021-07-06T14:18:43.297Z"
   },
   {
    "duration": 11,
    "start_time": "2021-07-06T14:47:07.452Z"
   },
   {
    "duration": 319,
    "start_time": "2021-07-06T14:57:07.393Z"
   },
   {
    "duration": 301,
    "start_time": "2021-07-06T14:57:25.003Z"
   },
   {
    "duration": 308,
    "start_time": "2021-07-06T14:57:58.523Z"
   },
   {
    "duration": 833,
    "start_time": "2021-07-06T14:58:06.052Z"
   },
   {
    "duration": 64,
    "start_time": "2021-07-06T14:58:10.418Z"
   },
   {
    "duration": 347,
    "start_time": "2021-07-06T14:58:13.074Z"
   },
   {
    "duration": 830,
    "start_time": "2021-07-06T14:59:31.878Z"
   },
   {
    "duration": 63,
    "start_time": "2021-07-06T14:59:34.822Z"
   },
   {
    "duration": 15,
    "start_time": "2021-07-06T14:59:38.299Z"
   },
   {
    "duration": 23,
    "start_time": "2021-07-06T15:01:58.070Z"
   },
   {
    "duration": 31,
    "start_time": "2021-07-06T15:04:30.144Z"
   },
   {
    "duration": 33,
    "start_time": "2021-07-06T15:04:40.841Z"
   },
   {
    "duration": 33,
    "start_time": "2021-07-06T15:04:51.435Z"
   },
   {
    "duration": 833,
    "start_time": "2021-07-06T15:24:15.896Z"
   },
   {
    "duration": 64,
    "start_time": "2021-07-06T15:24:20.218Z"
   },
   {
    "duration": 14,
    "start_time": "2021-07-06T15:24:22.354Z"
   },
   {
    "duration": 14,
    "start_time": "2021-07-06T15:26:33.444Z"
   },
   {
    "duration": 123,
    "start_time": "2021-07-06T15:26:35.308Z"
   },
   {
    "duration": 20,
    "start_time": "2021-07-06T15:26:39.846Z"
   },
   {
    "duration": 8,
    "start_time": "2021-07-06T15:28:41.774Z"
   },
   {
    "duration": 9,
    "start_time": "2021-07-06T15:29:21.979Z"
   },
   {
    "duration": 9,
    "start_time": "2021-07-06T15:29:46.192Z"
   },
   {
    "duration": 888,
    "start_time": "2021-07-06T15:29:48.361Z"
   },
   {
    "duration": 65,
    "start_time": "2021-07-06T15:29:52.711Z"
   },
   {
    "duration": 14,
    "start_time": "2021-07-06T15:29:53.847Z"
   },
   {
    "duration": 13,
    "start_time": "2021-07-06T15:29:55.982Z"
   },
   {
    "duration": 9,
    "start_time": "2021-07-06T15:29:56.837Z"
   },
   {
    "duration": 103,
    "start_time": "2021-07-06T15:30:25.977Z"
   },
   {
    "duration": 904,
    "start_time": "2021-07-06T15:30:35.734Z"
   },
   {
    "duration": 63,
    "start_time": "2021-07-06T15:30:43.376Z"
   },
   {
    "duration": 14,
    "start_time": "2021-07-06T15:30:44.240Z"
   },
   {
    "duration": 13,
    "start_time": "2021-07-06T15:30:46.039Z"
   },
   {
    "duration": 7,
    "start_time": "2021-07-06T15:30:46.840Z"
   },
   {
    "duration": 6,
    "start_time": "2021-07-06T15:30:53.542Z"
   },
   {
    "duration": 1666,
    "start_time": "2021-07-07T10:20:55.796Z"
   },
   {
    "duration": 12,
    "start_time": "2021-07-07T10:21:12.976Z"
   },
   {
    "duration": 13,
    "start_time": "2021-07-07T10:21:13.465Z"
   },
   {
    "duration": 5,
    "start_time": "2021-07-07T10:21:14.392Z"
   },
   {
    "duration": 3,
    "start_time": "2021-07-07T10:21:14.881Z"
   },
   {
    "duration": 394,
    "start_time": "2021-07-07T10:38:37.146Z"
   },
   {
    "duration": 26,
    "start_time": "2021-07-07T10:38:48.960Z"
   },
   {
    "duration": 878,
    "start_time": "2021-07-07T10:39:47.171Z"
   },
   {
    "duration": 71,
    "start_time": "2021-07-07T10:39:50.145Z"
   },
   {
    "duration": 13,
    "start_time": "2021-07-07T10:39:50.721Z"
   },
   {
    "duration": 17,
    "start_time": "2021-07-07T10:39:51.964Z"
   },
   {
    "duration": 7,
    "start_time": "2021-07-07T10:39:52.672Z"
   },
   {
    "duration": 5,
    "start_time": "2021-07-07T10:39:53.697Z"
   },
   {
    "duration": 267,
    "start_time": "2021-07-07T10:39:57.269Z"
   },
   {
    "duration": 16,
    "start_time": "2021-07-07T10:40:17.586Z"
   },
   {
    "duration": 16,
    "start_time": "2021-07-07T10:40:30.212Z"
   },
   {
    "duration": 1194,
    "start_time": "2021-07-07T10:40:52.791Z"
   },
   {
    "duration": 97,
    "start_time": "2021-07-07T10:40:56.532Z"
   },
   {
    "duration": 20,
    "start_time": "2021-07-07T10:40:57.040Z"
   },
   {
    "duration": 18,
    "start_time": "2021-07-07T10:40:58.155Z"
   },
   {
    "duration": 9,
    "start_time": "2021-07-07T10:40:58.761Z"
   },
   {
    "duration": 5,
    "start_time": "2021-07-07T10:40:59.409Z"
   },
   {
    "duration": 15,
    "start_time": "2021-07-07T10:41:02.178Z"
   },
   {
    "duration": 12,
    "start_time": "2021-07-07T10:41:54.154Z"
   },
   {
    "duration": 3361,
    "start_time": "2021-07-07T10:42:35.521Z"
   },
   {
    "duration": 81,
    "start_time": "2021-07-07T10:42:38.885Z"
   },
   {
    "duration": 21,
    "start_time": "2021-07-07T10:42:38.970Z"
   },
   {
    "duration": 23,
    "start_time": "2021-07-07T10:42:38.994Z"
   },
   {
    "duration": 8,
    "start_time": "2021-07-07T10:42:39.020Z"
   },
   {
    "duration": 5,
    "start_time": "2021-07-07T10:42:39.695Z"
   },
   {
    "duration": 13,
    "start_time": "2021-07-07T10:42:40.682Z"
   },
   {
    "duration": 493,
    "start_time": "2021-07-07T10:44:44.962Z"
   },
   {
    "duration": 865,
    "start_time": "2021-07-07T10:44:54.074Z"
   },
   {
    "duration": 66,
    "start_time": "2021-07-07T10:44:55.145Z"
   },
   {
    "duration": 14,
    "start_time": "2021-07-07T10:44:55.476Z"
   },
   {
    "duration": 15,
    "start_time": "2021-07-07T10:44:56.174Z"
   },
   {
    "duration": 7,
    "start_time": "2021-07-07T10:44:56.533Z"
   },
   {
    "duration": 4,
    "start_time": "2021-07-07T10:44:56.936Z"
   },
   {
    "duration": 16,
    "start_time": "2021-07-07T10:44:58.094Z"
   },
   {
    "duration": 5,
    "start_time": "2021-07-07T10:53:13.334Z"
   },
   {
    "duration": 42,
    "start_time": "2021-07-07T10:55:17.624Z"
   },
   {
    "duration": 945,
    "start_time": "2021-07-07T10:57:45.101Z"
   },
   {
    "duration": 96,
    "start_time": "2021-07-07T10:57:47.210Z"
   },
   {
    "duration": 17,
    "start_time": "2021-07-07T10:57:47.819Z"
   },
   {
    "duration": 19,
    "start_time": "2021-07-07T10:57:48.906Z"
   },
   {
    "duration": 9,
    "start_time": "2021-07-07T10:57:49.273Z"
   },
   {
    "duration": 5,
    "start_time": "2021-07-07T10:57:49.673Z"
   },
   {
    "duration": 17,
    "start_time": "2021-07-07T10:57:50.466Z"
   },
   {
    "duration": 52,
    "start_time": "2021-07-07T10:57:51.051Z"
   },
   {
    "duration": 21,
    "start_time": "2021-07-07T10:59:24.500Z"
   },
   {
    "duration": 85,
    "start_time": "2021-07-07T11:00:13.752Z"
   },
   {
    "duration": 99,
    "start_time": "2021-07-07T11:00:19.915Z"
   },
   {
    "duration": 1002,
    "start_time": "2021-07-07T11:02:26.931Z"
   },
   {
    "duration": 65,
    "start_time": "2021-07-07T11:02:29.883Z"
   },
   {
    "duration": 84,
    "start_time": "2021-07-07T11:02:32.804Z"
   },
   {
    "duration": 14,
    "start_time": "2021-07-07T11:02:33.308Z"
   },
   {
    "duration": 18,
    "start_time": "2021-07-07T11:02:40.821Z"
   },
   {
    "duration": 14,
    "start_time": "2021-07-07T11:02:41.989Z"
   },
   {
    "duration": 22,
    "start_time": "2021-07-07T11:02:43.823Z"
   },
   {
    "duration": 9,
    "start_time": "2021-07-07T11:02:44.366Z"
   },
   {
    "duration": 5,
    "start_time": "2021-07-07T11:02:44.733Z"
   },
   {
    "duration": 22,
    "start_time": "2021-07-07T11:02:45.718Z"
   },
   {
    "duration": 38,
    "start_time": "2021-07-07T11:02:49.806Z"
   },
   {
    "duration": 47,
    "start_time": "2021-07-07T11:03:17.659Z"
   },
   {
    "duration": 882,
    "start_time": "2021-07-07T11:10:40.985Z"
   },
   {
    "duration": 71,
    "start_time": "2021-07-07T11:10:42.924Z"
   },
   {
    "duration": 49,
    "start_time": "2021-07-07T11:10:43.405Z"
   },
   {
    "duration": 17,
    "start_time": "2021-07-07T11:10:43.862Z"
   },
   {
    "duration": 14,
    "start_time": "2021-07-07T11:10:44.507Z"
   },
   {
    "duration": 7,
    "start_time": "2021-07-07T11:10:44.811Z"
   },
   {
    "duration": 4,
    "start_time": "2021-07-07T11:10:45.124Z"
   },
   {
    "duration": 15,
    "start_time": "2021-07-07T11:10:45.716Z"
   },
   {
    "duration": 41,
    "start_time": "2021-07-07T11:10:46.006Z"
   },
   {
    "duration": 47,
    "start_time": "2021-07-07T11:10:46.326Z"
   },
   {
    "duration": 57,
    "start_time": "2021-07-07T11:10:46.598Z"
   },
   {
    "duration": 3,
    "start_time": "2021-07-07T11:10:47.598Z"
   },
   {
    "duration": 955,
    "start_time": "2021-07-07T11:23:26.847Z"
   },
   {
    "duration": 71,
    "start_time": "2021-07-07T11:23:28.557Z"
   },
   {
    "duration": 52,
    "start_time": "2021-07-07T11:23:28.940Z"
   },
   {
    "duration": 18,
    "start_time": "2021-07-07T11:23:29.283Z"
   },
   {
    "duration": 17,
    "start_time": "2021-07-07T11:23:29.880Z"
   },
   {
    "duration": 5,
    "start_time": "2021-07-07T11:23:30.170Z"
   },
   {
    "duration": 5,
    "start_time": "2021-07-07T11:23:30.833Z"
   },
   {
    "duration": 17,
    "start_time": "2021-07-07T11:23:31.423Z"
   },
   {
    "duration": 39,
    "start_time": "2021-07-07T11:23:31.712Z"
   },
   {
    "duration": 44,
    "start_time": "2021-07-07T11:23:32.008Z"
   },
   {
    "duration": 48,
    "start_time": "2021-07-07T11:23:32.313Z"
   },
   {
    "duration": 92,
    "start_time": "2021-07-07T11:23:32.599Z"
   },
   {
    "duration": 1467,
    "start_time": "2021-07-07T11:38:06.278Z"
   },
   {
    "duration": 76,
    "start_time": "2021-07-07T11:38:52.667Z"
   },
   {
    "duration": 8,
    "start_time": "2021-07-07T11:41:46.122Z"
   },
   {
    "duration": 9,
    "start_time": "2021-07-07T11:41:51.738Z"
   },
   {
    "duration": 292,
    "start_time": "2021-07-07T11:43:22.600Z"
   },
   {
    "duration": 289,
    "start_time": "2021-07-07T11:43:30.939Z"
   },
   {
    "duration": 11,
    "start_time": "2021-07-07T11:43:43.541Z"
   },
   {
    "duration": 958,
    "start_time": "2021-07-07T11:44:44.352Z"
   },
   {
    "duration": 75,
    "start_time": "2021-07-07T11:44:46.931Z"
   },
   {
    "duration": 56,
    "start_time": "2021-07-07T11:44:47.550Z"
   },
   {
    "duration": 16,
    "start_time": "2021-07-07T11:44:48.029Z"
   },
   {
    "duration": 16,
    "start_time": "2021-07-07T11:44:49.077Z"
   },
   {
    "duration": 7,
    "start_time": "2021-07-07T11:44:49.574Z"
   },
   {
    "duration": 12,
    "start_time": "2021-07-07T11:44:50.448Z"
   },
   {
    "duration": 20,
    "start_time": "2021-07-07T11:44:51.253Z"
   },
   {
    "duration": 46,
    "start_time": "2021-07-07T11:44:51.670Z"
   },
   {
    "duration": 50,
    "start_time": "2021-07-07T11:44:52.015Z"
   },
   {
    "duration": 56,
    "start_time": "2021-07-07T11:44:52.430Z"
   },
   {
    "duration": 69,
    "start_time": "2021-07-07T11:44:52.835Z"
   },
   {
    "duration": 134,
    "start_time": "2021-07-07T11:45:58.123Z"
   },
   {
    "duration": 912,
    "start_time": "2021-07-07T11:46:13.716Z"
   },
   {
    "duration": 107,
    "start_time": "2021-07-07T11:46:14.662Z"
   },
   {
    "duration": 53,
    "start_time": "2021-07-07T11:46:14.982Z"
   },
   {
    "duration": 19,
    "start_time": "2021-07-07T11:46:15.342Z"
   },
   {
    "duration": 15,
    "start_time": "2021-07-07T11:46:16.103Z"
   },
   {
    "duration": 5,
    "start_time": "2021-07-07T11:46:16.511Z"
   },
   {
    "duration": 12,
    "start_time": "2021-07-07T11:46:17.302Z"
   },
   {
    "duration": 18,
    "start_time": "2021-07-07T11:46:18.110Z"
   },
   {
    "duration": 43,
    "start_time": "2021-07-07T11:46:18.528Z"
   },
   {
    "duration": 51,
    "start_time": "2021-07-07T11:46:18.927Z"
   },
   {
    "duration": 48,
    "start_time": "2021-07-07T11:46:19.400Z"
   },
   {
    "duration": 179,
    "start_time": "2021-07-07T11:46:19.782Z"
   },
   {
    "duration": 108,
    "start_time": "2021-07-07T11:47:18.516Z"
   },
   {
    "duration": 906,
    "start_time": "2021-07-07T12:25:29.605Z"
   },
   {
    "duration": 66,
    "start_time": "2021-07-07T12:25:32.319Z"
   },
   {
    "duration": 48,
    "start_time": "2021-07-07T12:25:32.710Z"
   },
   {
    "duration": 16,
    "start_time": "2021-07-07T12:25:33.137Z"
   },
   {
    "duration": 14,
    "start_time": "2021-07-07T12:25:34.110Z"
   },
   {
    "duration": 5,
    "start_time": "2021-07-07T12:25:34.530Z"
   },
   {
    "duration": 10,
    "start_time": "2021-07-07T12:25:35.485Z"
   },
   {
    "duration": 15,
    "start_time": "2021-07-07T12:25:36.584Z"
   },
   {
    "duration": 36,
    "start_time": "2021-07-07T12:25:37.017Z"
   },
   {
    "duration": 42,
    "start_time": "2021-07-07T12:25:37.502Z"
   },
   {
    "duration": 47,
    "start_time": "2021-07-07T12:25:38.279Z"
   },
   {
    "duration": 208,
    "start_time": "2021-07-07T12:25:39.119Z"
   },
   {
    "duration": 812,
    "start_time": "2021-07-07T12:26:24.370Z"
   },
   {
    "duration": 62,
    "start_time": "2021-07-07T12:26:25.379Z"
   },
   {
    "duration": 53,
    "start_time": "2021-07-07T12:26:25.694Z"
   },
   {
    "duration": 17,
    "start_time": "2021-07-07T12:26:26.079Z"
   },
   {
    "duration": 14,
    "start_time": "2021-07-07T12:26:26.806Z"
   },
   {
    "duration": 7,
    "start_time": "2021-07-07T12:26:27.168Z"
   },
   {
    "duration": 10,
    "start_time": "2021-07-07T12:26:27.878Z"
   },
   {
    "duration": 16,
    "start_time": "2021-07-07T12:26:28.581Z"
   },
   {
    "duration": 41,
    "start_time": "2021-07-07T12:26:28.983Z"
   },
   {
    "duration": 43,
    "start_time": "2021-07-07T12:26:29.331Z"
   },
   {
    "duration": 45,
    "start_time": "2021-07-07T12:26:29.672Z"
   },
   {
    "duration": 322,
    "start_time": "2021-07-07T12:26:56.205Z"
   },
   {
    "duration": 1624,
    "start_time": "2021-07-07T12:27:06.691Z"
   },
   {
    "duration": 72,
    "start_time": "2021-07-07T12:27:08.429Z"
   },
   {
    "duration": 51,
    "start_time": "2021-07-07T12:27:08.879Z"
   },
   {
    "duration": 18,
    "start_time": "2021-07-07T12:27:09.199Z"
   },
   {
    "duration": 12,
    "start_time": "2021-07-07T12:27:09.820Z"
   },
   {
    "duration": 12,
    "start_time": "2021-07-07T12:27:10.159Z"
   },
   {
    "duration": 19,
    "start_time": "2021-07-07T12:27:10.820Z"
   },
   {
    "duration": 16,
    "start_time": "2021-07-07T12:27:11.399Z"
   },
   {
    "duration": 47,
    "start_time": "2021-07-07T12:27:11.761Z"
   },
   {
    "duration": 50,
    "start_time": "2021-07-07T12:27:12.089Z"
   },
   {
    "duration": 48,
    "start_time": "2021-07-07T12:27:12.416Z"
   },
   {
    "duration": 60,
    "start_time": "2021-07-07T12:27:12.719Z"
   },
   {
    "duration": 397,
    "start_time": "2021-07-07T12:28:40.842Z"
   },
   {
    "duration": 279,
    "start_time": "2021-07-07T12:29:14.237Z"
   },
   {
    "duration": 67,
    "start_time": "2021-07-07T12:29:48.692Z"
   },
   {
    "duration": 3114,
    "start_time": "2021-07-07T12:36:03.047Z"
   },
   {
    "duration": 456,
    "start_time": "2021-07-07T12:36:42.570Z"
   },
   {
    "duration": 54,
    "start_time": "2021-07-07T12:36:57.752Z"
   },
   {
    "duration": 1023,
    "start_time": "2021-07-07T12:37:00.249Z"
   },
   {
    "duration": 68,
    "start_time": "2021-07-07T12:37:01.770Z"
   },
   {
    "duration": 58,
    "start_time": "2021-07-07T12:37:02.154Z"
   },
   {
    "duration": 16,
    "start_time": "2021-07-07T12:37:02.537Z"
   },
   {
    "duration": 11,
    "start_time": "2021-07-07T12:37:03.312Z"
   },
   {
    "duration": 7,
    "start_time": "2021-07-07T12:37:03.674Z"
   },
   {
    "duration": 9,
    "start_time": "2021-07-07T12:37:04.337Z"
   },
   {
    "duration": 17,
    "start_time": "2021-07-07T12:37:06.945Z"
   },
   {
    "duration": 71,
    "start_time": "2021-07-07T12:37:12.872Z"
   },
   {
    "duration": 97,
    "start_time": "2021-07-07T12:38:04.713Z"
   },
   {
    "duration": 743,
    "start_time": "2021-07-07T13:02:38.590Z"
   },
   {
    "duration": 76,
    "start_time": "2021-07-07T13:02:51.769Z"
   },
   {
    "duration": 55,
    "start_time": "2021-07-07T13:02:58.476Z"
   },
   {
    "duration": 74,
    "start_time": "2021-07-07T13:03:04.788Z"
   },
   {
    "duration": 15,
    "start_time": "2021-07-07T13:04:23.205Z"
   },
   {
    "duration": 1187,
    "start_time": "2021-07-07T13:04:25.958Z"
   },
   {
    "duration": 110,
    "start_time": "2021-07-07T13:04:27.157Z"
   },
   {
    "duration": 53,
    "start_time": "2021-07-07T13:04:27.270Z"
   },
   {
    "duration": 17,
    "start_time": "2021-07-07T13:04:27.527Z"
   },
   {
    "duration": 18,
    "start_time": "2021-07-07T13:04:28.163Z"
   },
   {
    "duration": 13,
    "start_time": "2021-07-07T13:04:28.464Z"
   },
   {
    "duration": 42,
    "start_time": "2021-07-07T13:04:29.101Z"
   },
   {
    "duration": 55,
    "start_time": "2021-07-07T13:04:29.719Z"
   },
   {
    "duration": 143,
    "start_time": "2021-07-07T13:04:30.019Z"
   },
   {
    "duration": 314,
    "start_time": "2021-07-07T13:04:30.734Z"
   },
   {
    "duration": 284,
    "start_time": "2021-07-07T13:04:31.097Z"
   },
   {
    "duration": 66,
    "start_time": "2021-07-07T13:04:31.393Z"
   },
   {
    "duration": 937,
    "start_time": "2021-07-07T13:05:10.959Z"
   },
   {
    "duration": 64,
    "start_time": "2021-07-07T13:05:34.574Z"
   },
   {
    "duration": 50,
    "start_time": "2021-07-07T13:05:35.280Z"
   },
   {
    "duration": 25,
    "start_time": "2021-07-07T13:05:35.960Z"
   },
   {
    "duration": 19,
    "start_time": "2021-07-07T13:05:37.236Z"
   },
   {
    "duration": 5,
    "start_time": "2021-07-07T13:05:37.744Z"
   },
   {
    "duration": 10,
    "start_time": "2021-07-07T13:05:38.925Z"
   },
   {
    "duration": 9,
    "start_time": "2021-07-07T13:06:00.390Z"
   },
   {
    "duration": 50,
    "start_time": "2021-07-07T13:17:34.329Z"
   },
   {
    "duration": 43,
    "start_time": "2021-07-07T13:17:40.508Z"
   },
   {
    "duration": 722,
    "start_time": "2021-07-07T13:21:22.309Z"
   },
   {
    "duration": 698,
    "start_time": "2021-07-07T13:21:52.672Z"
   },
   {
    "duration": 31,
    "start_time": "2021-07-07T13:22:00.431Z"
   },
   {
    "duration": 32,
    "start_time": "2021-07-07T13:26:46.875Z"
   },
   {
    "duration": 52,
    "start_time": "2021-07-07T13:27:02.772Z"
   },
   {
    "duration": 1204,
    "start_time": "2021-07-07T13:27:08.157Z"
   },
   {
    "duration": 65,
    "start_time": "2021-07-07T13:27:09.365Z"
   },
   {
    "duration": 66,
    "start_time": "2021-07-07T13:27:09.434Z"
   },
   {
    "duration": 18,
    "start_time": "2021-07-07T13:27:09.510Z"
   },
   {
    "duration": 15,
    "start_time": "2021-07-07T13:27:10.011Z"
   },
   {
    "duration": 7,
    "start_time": "2021-07-07T13:27:10.291Z"
   },
   {
    "duration": 17,
    "start_time": "2021-07-07T13:27:11.082Z"
   },
   {
    "duration": 498,
    "start_time": "2021-07-07T13:27:11.348Z"
   },
   {
    "duration": 253,
    "start_time": "2021-07-07T13:27:11.596Z"
   },
   {
    "duration": 67,
    "start_time": "2021-07-07T13:27:11.956Z"
   },
   {
    "duration": 76,
    "start_time": "2021-07-07T13:27:12.213Z"
   },
   {
    "duration": 1086,
    "start_time": "2021-07-07T13:27:57.938Z"
   },
   {
    "duration": 91,
    "start_time": "2021-07-07T13:28:02.831Z"
   },
   {
    "duration": 49,
    "start_time": "2021-07-07T13:28:03.790Z"
   },
   {
    "duration": 17,
    "start_time": "2021-07-07T13:28:04.479Z"
   },
   {
    "duration": 16,
    "start_time": "2021-07-07T13:28:06.295Z"
   },
   {
    "duration": 7,
    "start_time": "2021-07-07T13:28:07.079Z"
   },
   {
    "duration": 23,
    "start_time": "2021-07-07T13:28:15.648Z"
   },
   {
    "duration": 345,
    "start_time": "2021-07-07T13:28:16.792Z"
   },
   {
    "duration": 89,
    "start_time": "2021-07-07T13:29:13.705Z"
   },
   {
    "duration": 9,
    "start_time": "2021-07-07T13:31:05.325Z"
   },
   {
    "duration": 5,
    "start_time": "2021-07-07T13:31:17.291Z"
   },
   {
    "duration": 6,
    "start_time": "2021-07-07T13:31:26.060Z"
   },
   {
    "duration": 857,
    "start_time": "2021-07-07T13:31:31.565Z"
   },
   {
    "duration": 64,
    "start_time": "2021-07-07T13:31:32.562Z"
   },
   {
    "duration": 50,
    "start_time": "2021-07-07T13:31:32.828Z"
   },
   {
    "duration": 26,
    "start_time": "2021-07-07T13:31:33.081Z"
   },
   {
    "duration": 17,
    "start_time": "2021-07-07T13:31:33.666Z"
   },
   {
    "duration": 7,
    "start_time": "2021-07-07T13:31:33.917Z"
   },
   {
    "duration": 18,
    "start_time": "2021-07-07T13:31:34.850Z"
   },
   {
    "duration": 7,
    "start_time": "2021-07-07T13:31:35.145Z"
   },
   {
    "duration": 5,
    "start_time": "2021-07-07T13:33:34.053Z"
   },
   {
    "duration": 5,
    "start_time": "2021-07-07T13:33:40.348Z"
   },
   {
    "duration": 5,
    "start_time": "2021-07-07T13:33:43.893Z"
   },
   {
    "duration": 12,
    "start_time": "2021-07-07T13:33:54.069Z"
   },
   {
    "duration": 35,
    "start_time": "2021-07-07T13:37:02.926Z"
   },
   {
    "duration": 12,
    "start_time": "2021-07-07T13:38:15.850Z"
   },
   {
    "duration": 9,
    "start_time": "2021-07-07T13:38:25.617Z"
   },
   {
    "duration": 13,
    "start_time": "2021-07-07T13:38:30.154Z"
   },
   {
    "duration": 44,
    "start_time": "2021-07-07T13:38:49.241Z"
   },
   {
    "duration": 15,
    "start_time": "2021-07-07T13:41:34.188Z"
   },
   {
    "duration": 316,
    "start_time": "2021-07-07T14:28:16.262Z"
   },
   {
    "duration": 341,
    "start_time": "2021-07-07T14:28:25.236Z"
   },
   {
    "duration": 47,
    "start_time": "2021-07-07T14:29:23.341Z"
   },
   {
    "duration": 35,
    "start_time": "2021-07-07T14:30:26.338Z"
   },
   {
    "duration": 70,
    "start_time": "2021-07-07T14:31:02.022Z"
   },
   {
    "duration": 70,
    "start_time": "2021-07-07T14:31:45.720Z"
   },
   {
    "duration": 472,
    "start_time": "2021-07-07T14:35:50.434Z"
   },
   {
    "duration": 89,
    "start_time": "2021-07-07T14:37:12.966Z"
   },
   {
    "duration": 57,
    "start_time": "2021-07-07T14:38:50.878Z"
   },
   {
    "duration": 37,
    "start_time": "2021-07-07T14:43:36.435Z"
   },
   {
    "duration": 56,
    "start_time": "2021-07-07T14:43:50.523Z"
   },
   {
    "duration": 81,
    "start_time": "2021-07-07T14:51:21.960Z"
   },
   {
    "duration": 96,
    "start_time": "2021-07-07T14:51:31.066Z"
   },
   {
    "duration": 72,
    "start_time": "2021-07-07T14:51:40.883Z"
   },
   {
    "duration": 52,
    "start_time": "2021-07-07T14:52:30.066Z"
   },
   {
    "duration": 76,
    "start_time": "2021-07-07T14:52:41.419Z"
   },
   {
    "duration": 84,
    "start_time": "2021-07-07T14:53:21.691Z"
   },
   {
    "duration": 73,
    "start_time": "2021-07-07T14:56:11.072Z"
   },
   {
    "duration": 420,
    "start_time": "2021-07-07T15:36:20.159Z"
   },
   {
    "duration": 79,
    "start_time": "2021-07-07T15:36:44.967Z"
   },
   {
    "duration": 104,
    "start_time": "2021-07-07T15:37:22.146Z"
   },
   {
    "duration": 72,
    "start_time": "2021-07-07T15:38:29.497Z"
   },
   {
    "duration": 133,
    "start_time": "2021-07-07T15:39:30.771Z"
   },
   {
    "duration": 65,
    "start_time": "2021-07-07T15:39:39.114Z"
   },
   {
    "duration": 63,
    "start_time": "2021-07-07T15:39:52.130Z"
   },
   {
    "duration": 62,
    "start_time": "2021-07-07T15:40:15.176Z"
   },
   {
    "duration": 41,
    "start_time": "2021-07-07T15:41:59.876Z"
   },
   {
    "duration": 117,
    "start_time": "2021-07-07T15:42:44.686Z"
   },
   {
    "duration": 81,
    "start_time": "2021-07-07T15:42:49.060Z"
   },
   {
    "duration": 115,
    "start_time": "2021-07-07T15:43:02.896Z"
   },
   {
    "duration": 450,
    "start_time": "2021-07-07T15:43:27.803Z"
   },
   {
    "duration": 82,
    "start_time": "2021-07-07T15:44:00.053Z"
   },
   {
    "duration": 83,
    "start_time": "2021-07-07T15:44:12.110Z"
   },
   {
    "duration": 54,
    "start_time": "2021-07-07T15:44:25.860Z"
   },
   {
    "duration": 53,
    "start_time": "2021-07-07T15:45:44.876Z"
   },
   {
    "duration": 67,
    "start_time": "2021-07-07T15:46:03.909Z"
   },
   {
    "duration": 58,
    "start_time": "2021-07-07T15:46:35.111Z"
   },
   {
    "duration": 64,
    "start_time": "2021-07-07T15:49:19.698Z"
   },
   {
    "duration": 87,
    "start_time": "2021-07-07T15:52:14.984Z"
   },
   {
    "duration": 80,
    "start_time": "2021-07-07T16:05:28.556Z"
   },
   {
    "duration": 61,
    "start_time": "2021-07-07T16:08:07.864Z"
   },
   {
    "duration": 44,
    "start_time": "2021-07-07T16:08:44.633Z"
   },
   {
    "duration": 57,
    "start_time": "2021-07-07T16:09:01.402Z"
   },
   {
    "duration": 59,
    "start_time": "2021-07-07T16:09:58.899Z"
   },
   {
    "duration": 61,
    "start_time": "2021-07-07T16:10:05.652Z"
   },
   {
    "duration": 65,
    "start_time": "2021-07-07T16:10:16.901Z"
   },
   {
    "duration": 70,
    "start_time": "2021-07-07T16:10:19.209Z"
   },
   {
    "duration": 64,
    "start_time": "2021-07-07T16:10:54.315Z"
   },
   {
    "duration": 40,
    "start_time": "2021-07-07T16:11:26.275Z"
   },
   {
    "duration": 40,
    "start_time": "2021-07-07T16:11:48.801Z"
   },
   {
    "duration": 774,
    "start_time": "2021-07-07T16:12:00.090Z"
   },
   {
    "duration": 303,
    "start_time": "2021-07-07T16:13:21.620Z"
   },
   {
    "duration": 298,
    "start_time": "2021-07-07T16:13:34.260Z"
   },
   {
    "duration": 296,
    "start_time": "2021-07-07T16:14:21.980Z"
   },
   {
    "duration": 785,
    "start_time": "2021-07-07T16:14:33.364Z"
   },
   {
    "duration": 325,
    "start_time": "2021-07-07T16:16:25.614Z"
   },
   {
    "duration": 54,
    "start_time": "2021-07-07T16:17:11.306Z"
   },
   {
    "duration": 322,
    "start_time": "2021-07-07T16:19:20.964Z"
   },
   {
    "duration": 72,
    "start_time": "2021-07-07T16:19:28.714Z"
   },
   {
    "duration": 299,
    "start_time": "2021-07-07T16:26:08.832Z"
   },
   {
    "duration": 478,
    "start_time": "2021-07-07T16:27:00.043Z"
   },
   {
    "duration": 1634,
    "start_time": "2021-07-07T16:27:07.205Z"
   },
   {
    "duration": 87,
    "start_time": "2021-07-07T16:27:08.841Z"
   },
   {
    "duration": 49,
    "start_time": "2021-07-07T16:27:08.997Z"
   },
   {
    "duration": 19,
    "start_time": "2021-07-07T16:27:09.298Z"
   },
   {
    "duration": 14,
    "start_time": "2021-07-07T16:27:09.872Z"
   },
   {
    "duration": 12,
    "start_time": "2021-07-07T16:27:10.151Z"
   },
   {
    "duration": 31,
    "start_time": "2021-07-07T16:27:11.056Z"
   },
   {
    "duration": 82,
    "start_time": "2021-07-07T16:27:11.381Z"
   },
   {
    "duration": 54,
    "start_time": "2021-07-07T16:27:11.697Z"
   },
   {
    "duration": 67,
    "start_time": "2021-07-07T16:27:11.994Z"
   },
   {
    "duration": 405,
    "start_time": "2021-07-07T16:27:27.140Z"
   },
   {
    "duration": 467,
    "start_time": "2021-07-07T16:28:35.623Z"
   },
   {
    "duration": 1743,
    "start_time": "2021-07-07T16:28:41.652Z"
   },
   {
    "duration": 64,
    "start_time": "2021-07-07T16:28:44.500Z"
   },
   {
    "duration": 51,
    "start_time": "2021-07-07T16:28:44.777Z"
   },
   {
    "duration": 25,
    "start_time": "2021-07-07T16:28:45.065Z"
   },
   {
    "duration": 13,
    "start_time": "2021-07-07T16:28:45.643Z"
   },
   {
    "duration": 14,
    "start_time": "2021-07-07T16:28:45.965Z"
   },
   {
    "duration": 30,
    "start_time": "2021-07-07T16:28:46.842Z"
   },
   {
    "duration": 93,
    "start_time": "2021-07-07T16:28:47.207Z"
   },
   {
    "duration": 62,
    "start_time": "2021-07-07T16:28:47.555Z"
   },
   {
    "duration": 64,
    "start_time": "2021-07-07T16:28:47.873Z"
   },
   {
    "duration": 150,
    "start_time": "2021-07-07T16:29:05.012Z"
   },
   {
    "duration": 386,
    "start_time": "2021-07-07T16:29:09.515Z"
   },
   {
    "duration": 1748,
    "start_time": "2021-07-07T16:29:32.035Z"
   },
   {
    "duration": 73,
    "start_time": "2021-07-07T16:29:37.025Z"
   },
   {
    "duration": 53,
    "start_time": "2021-07-07T16:29:37.560Z"
   },
   {
    "duration": 28,
    "start_time": "2021-07-07T16:29:37.946Z"
   },
   {
    "duration": 14,
    "start_time": "2021-07-07T16:29:38.752Z"
   },
   {
    "duration": 11,
    "start_time": "2021-07-07T16:29:39.128Z"
   },
   {
    "duration": 29,
    "start_time": "2021-07-07T16:29:40.136Z"
   },
   {
    "duration": 91,
    "start_time": "2021-07-07T16:29:40.472Z"
   },
   {
    "duration": 53,
    "start_time": "2021-07-07T16:29:40.792Z"
   },
   {
    "duration": 73,
    "start_time": "2021-07-07T16:29:41.106Z"
   },
   {
    "duration": 322,
    "start_time": "2021-07-07T16:29:57.224Z"
   },
   {
    "duration": 1809,
    "start_time": "2021-07-07T16:30:01.523Z"
   },
   {
    "duration": 73,
    "start_time": "2021-07-07T16:30:10.060Z"
   },
   {
    "duration": 49,
    "start_time": "2021-07-07T16:30:11.671Z"
   },
   {
    "duration": 26,
    "start_time": "2021-07-07T16:30:16.524Z"
   },
   {
    "duration": 13,
    "start_time": "2021-07-07T16:30:20.034Z"
   },
   {
    "duration": 13,
    "start_time": "2021-07-07T16:30:21.362Z"
   },
   {
    "duration": 34,
    "start_time": "2021-07-07T16:30:25.352Z"
   },
   {
    "duration": 91,
    "start_time": "2021-07-07T16:30:29.081Z"
   },
   {
    "duration": 72,
    "start_time": "2021-07-07T16:30:34.092Z"
   },
   {
    "duration": 66,
    "start_time": "2021-07-07T16:30:36.746Z"
   },
   {
    "duration": 1663,
    "start_time": "2021-07-07T16:32:26.293Z"
   },
   {
    "duration": 71,
    "start_time": "2021-07-07T16:32:29.444Z"
   },
   {
    "duration": 57,
    "start_time": "2021-07-07T16:32:29.747Z"
   },
   {
    "duration": 20,
    "start_time": "2021-07-07T16:32:30.101Z"
   },
   {
    "duration": 14,
    "start_time": "2021-07-07T16:32:30.713Z"
   },
   {
    "duration": 11,
    "start_time": "2021-07-07T16:32:31.011Z"
   },
   {
    "duration": 24,
    "start_time": "2021-07-07T16:32:31.991Z"
   },
   {
    "duration": 95,
    "start_time": "2021-07-07T16:32:32.298Z"
   },
   {
    "duration": 60,
    "start_time": "2021-07-07T16:32:32.620Z"
   },
   {
    "duration": 73,
    "start_time": "2021-07-07T16:32:32.932Z"
   },
   {
    "duration": 427,
    "start_time": "2021-07-07T16:32:51.497Z"
   },
   {
    "duration": 1707,
    "start_time": "2021-07-07T16:32:57.721Z"
   },
   {
    "duration": 79,
    "start_time": "2021-07-07T16:32:59.430Z"
   },
   {
    "duration": 64,
    "start_time": "2021-07-07T16:32:59.512Z"
   },
   {
    "duration": 18,
    "start_time": "2021-07-07T16:32:59.579Z"
   },
   {
    "duration": 16,
    "start_time": "2021-07-07T16:32:59.946Z"
   },
   {
    "duration": 11,
    "start_time": "2021-07-07T16:33:00.244Z"
   },
   {
    "duration": 27,
    "start_time": "2021-07-07T16:33:01.061Z"
   },
   {
    "duration": 95,
    "start_time": "2021-07-07T16:33:01.324Z"
   },
   {
    "duration": 67,
    "start_time": "2021-07-07T16:33:01.582Z"
   },
   {
    "duration": 65,
    "start_time": "2021-07-07T16:33:01.864Z"
   },
   {
    "duration": 10539,
    "start_time": "2021-07-07T16:33:02.139Z"
   },
   {
    "duration": 74,
    "start_time": "2021-07-07T16:39:42.293Z"
   },
   {
    "duration": 51,
    "start_time": "2021-07-07T16:40:34.598Z"
   },
   {
    "duration": 95,
    "start_time": "2021-07-07T16:41:13.096Z"
   },
   {
    "duration": 355,
    "start_time": "2021-07-07T16:57:47.334Z"
   },
   {
    "duration": 22,
    "start_time": "2021-07-07T16:58:11.534Z"
   },
   {
    "duration": 263,
    "start_time": "2021-07-07T16:59:06.175Z"
   },
   {
    "duration": 281,
    "start_time": "2021-07-07T17:09:15.217Z"
   },
   {
    "duration": 343,
    "start_time": "2021-07-07T17:09:25.219Z"
   },
   {
    "duration": 87,
    "start_time": "2021-07-07T17:10:42.844Z"
   },
   {
    "duration": 7500,
    "start_time": "2021-07-07T17:10:50.020Z"
   },
   {
    "duration": 28,
    "start_time": "2021-07-07T17:19:42.923Z"
   },
   {
    "duration": 30,
    "start_time": "2021-07-07T17:19:56.740Z"
   },
   {
    "duration": 26,
    "start_time": "2021-07-07T17:20:20.811Z"
   },
   {
    "duration": 341,
    "start_time": "2021-07-07T17:20:26.556Z"
   },
   {
    "duration": 27,
    "start_time": "2021-07-07T17:20:50.986Z"
   },
   {
    "duration": 27,
    "start_time": "2021-07-07T17:20:53.531Z"
   },
   {
    "duration": 71,
    "start_time": "2021-07-07T17:21:01.316Z"
   },
   {
    "duration": 276,
    "start_time": "2021-07-07T17:22:03.369Z"
   },
   {
    "duration": 268,
    "start_time": "2021-07-07T17:23:15.989Z"
   },
   {
    "duration": 406,
    "start_time": "2021-07-07T17:23:34.013Z"
   },
   {
    "duration": 8479,
    "start_time": "2021-07-07T17:24:25.911Z"
   },
   {
    "duration": 10,
    "start_time": "2021-07-07T17:24:36.903Z"
   },
   {
    "duration": 873,
    "start_time": "2021-07-07T17:25:36.321Z"
   },
   {
    "duration": 68,
    "start_time": "2021-07-07T17:25:38.705Z"
   },
   {
    "duration": 58,
    "start_time": "2021-07-07T17:25:39.143Z"
   },
   {
    "duration": 17,
    "start_time": "2021-07-07T17:25:39.589Z"
   },
   {
    "duration": 11,
    "start_time": "2021-07-07T17:25:40.394Z"
   },
   {
    "duration": 6,
    "start_time": "2021-07-07T17:25:40.754Z"
   },
   {
    "duration": 15,
    "start_time": "2021-07-07T17:25:42.233Z"
   },
   {
    "duration": 89,
    "start_time": "2021-07-07T17:25:42.687Z"
   },
   {
    "duration": 13,
    "start_time": "2021-07-07T17:25:43.193Z"
   },
   {
    "duration": 422,
    "start_time": "2021-07-07T17:26:16.386Z"
   },
   {
    "duration": 303,
    "start_time": "2021-07-07T17:26:32.117Z"
   },
   {
    "duration": 585,
    "start_time": "2021-07-07T17:26:44.192Z"
   },
   {
    "duration": 276,
    "start_time": "2021-07-07T17:26:51.597Z"
   },
   {
    "duration": 272,
    "start_time": "2021-07-07T17:31:41.468Z"
   },
   {
    "duration": 294,
    "start_time": "2021-07-07T17:31:55.342Z"
   },
   {
    "duration": 39,
    "start_time": "2021-07-07T17:32:21.891Z"
   },
   {
    "duration": 94,
    "start_time": "2021-07-07T17:58:01.355Z"
   },
   {
    "duration": 48,
    "start_time": "2021-07-07T17:59:03.979Z"
   },
   {
    "duration": 47,
    "start_time": "2021-07-07T18:00:32.454Z"
   },
   {
    "duration": 35,
    "start_time": "2021-07-07T18:00:57.776Z"
   },
   {
    "duration": 5,
    "start_time": "2021-07-07T18:02:35.113Z"
   },
   {
    "duration": 691,
    "start_time": "2021-07-07T18:02:57.308Z"
   },
   {
    "duration": 37,
    "start_time": "2021-07-07T18:04:14.634Z"
   },
   {
    "duration": 92,
    "start_time": "2021-07-07T18:04:46.716Z"
   },
   {
    "duration": 85,
    "start_time": "2021-07-07T18:05:08.379Z"
   },
   {
    "duration": 19,
    "start_time": "2021-07-07T18:05:17.980Z"
   },
   {
    "duration": 28,
    "start_time": "2021-07-07T18:05:36.949Z"
   },
   {
    "duration": 23,
    "start_time": "2021-07-07T18:05:49.970Z"
   },
   {
    "duration": 83,
    "start_time": "2021-07-07T18:06:25.876Z"
   },
   {
    "duration": 95,
    "start_time": "2021-07-07T18:19:32.067Z"
   },
   {
    "duration": 24,
    "start_time": "2021-07-07T18:19:59.781Z"
   },
   {
    "duration": 91,
    "start_time": "2021-07-07T18:23:12.728Z"
   },
   {
    "duration": 79,
    "start_time": "2021-07-07T18:23:35.191Z"
   },
   {
    "duration": 1255,
    "start_time": "2021-07-07T18:23:56.536Z"
   },
   {
    "duration": 115,
    "start_time": "2021-07-07T18:24:15.273Z"
   },
   {
    "duration": 22,
    "start_time": "2021-07-07T18:28:59.916Z"
   },
   {
    "duration": 35,
    "start_time": "2021-07-07T18:29:14.118Z"
   },
   {
    "duration": 39,
    "start_time": "2021-07-07T18:30:37.094Z"
   },
   {
    "duration": 28,
    "start_time": "2021-07-07T18:30:45.869Z"
   },
   {
    "duration": 23,
    "start_time": "2021-07-07T18:31:02.998Z"
   },
   {
    "duration": 24,
    "start_time": "2021-07-07T18:33:04.001Z"
   },
   {
    "duration": 25,
    "start_time": "2021-07-07T18:33:16.193Z"
   },
   {
    "duration": 26,
    "start_time": "2021-07-07T18:37:13.221Z"
   },
   {
    "duration": 8580,
    "start_time": "2021-07-07T18:37:36.749Z"
   },
   {
    "duration": 20,
    "start_time": "2021-07-07T18:38:09.740Z"
   },
   {
    "duration": 23,
    "start_time": "2021-07-07T18:38:15.889Z"
   },
   {
    "duration": 512,
    "start_time": "2021-07-07T18:39:07.351Z"
   },
   {
    "duration": 23,
    "start_time": "2021-07-07T18:39:45.423Z"
   },
   {
    "duration": 22,
    "start_time": "2021-07-07T18:39:54.520Z"
   },
   {
    "duration": 18,
    "start_time": "2021-07-07T18:43:33.739Z"
   },
   {
    "duration": 19,
    "start_time": "2021-07-07T18:48:40.061Z"
   },
   {
    "duration": 68,
    "start_time": "2021-07-07T18:56:07.973Z"
   },
   {
    "duration": 289,
    "start_time": "2021-07-07T18:59:12.395Z"
   },
   {
    "duration": 309,
    "start_time": "2021-07-07T19:00:08.587Z"
   },
   {
    "duration": 15999,
    "start_time": "2021-07-07T19:00:19.658Z"
   },
   {
    "duration": 355,
    "start_time": "2021-07-07T19:01:23.942Z"
   },
   {
    "duration": 1130,
    "start_time": "2021-07-07T19:01:40.039Z"
   },
   {
    "duration": 125,
    "start_time": "2021-07-07T19:09:02.763Z"
   },
   {
    "duration": 268,
    "start_time": "2021-07-07T19:09:11.320Z"
   },
   {
    "duration": 51,
    "start_time": "2021-07-07T19:10:19.447Z"
   },
   {
    "duration": 101,
    "start_time": "2021-07-07T19:10:51.071Z"
   },
   {
    "duration": 93,
    "start_time": "2021-07-07T19:11:05.734Z"
   },
   {
    "duration": 265,
    "start_time": "2021-07-07T19:11:11.008Z"
   },
   {
    "duration": 343,
    "start_time": "2021-07-07T19:11:27.793Z"
   },
   {
    "duration": 263,
    "start_time": "2021-07-07T19:11:38.088Z"
   },
   {
    "duration": 19,
    "start_time": "2021-07-07T19:11:58.921Z"
   },
   {
    "duration": 17,
    "start_time": "2021-07-07T19:12:21.401Z"
   },
   {
    "duration": 86,
    "start_time": "2021-07-07T19:12:35.184Z"
   },
   {
    "duration": 75,
    "start_time": "2021-07-07T19:14:11.067Z"
   },
   {
    "duration": 84,
    "start_time": "2021-07-07T19:15:39.484Z"
   },
   {
    "duration": 1126,
    "start_time": "2021-07-07T19:16:09.237Z"
   },
   {
    "duration": 1111,
    "start_time": "2021-07-07T19:17:35.599Z"
   },
   {
    "duration": 77,
    "start_time": "2021-07-07T19:17:40.367Z"
   },
   {
    "duration": 1119,
    "start_time": "2021-07-07T19:17:42.901Z"
   },
   {
    "duration": 1045,
    "start_time": "2021-07-07T19:17:47.720Z"
   },
   {
    "duration": 1183,
    "start_time": "2021-07-07T19:18:10.672Z"
   },
   {
    "duration": 66,
    "start_time": "2021-07-07T19:18:30.819Z"
   },
   {
    "duration": 52,
    "start_time": "2021-07-07T19:18:40.474Z"
   },
   {
    "duration": 60,
    "start_time": "2021-07-07T19:18:54.744Z"
   },
   {
    "duration": 55,
    "start_time": "2021-07-07T19:19:39.495Z"
   },
   {
    "duration": 56,
    "start_time": "2021-07-07T19:20:01.136Z"
   },
   {
    "duration": 327,
    "start_time": "2021-07-07T19:20:30.521Z"
   },
   {
    "duration": 73,
    "start_time": "2021-07-07T19:20:35.105Z"
   },
   {
    "duration": 83,
    "start_time": "2021-07-07T19:20:51.282Z"
   },
   {
    "duration": 48,
    "start_time": "2021-07-07T19:22:14.496Z"
   },
   {
    "duration": 87,
    "start_time": "2021-07-07T19:22:23.882Z"
   },
   {
    "duration": 98,
    "start_time": "2021-07-07T19:27:43.841Z"
   },
   {
    "duration": 6490,
    "start_time": "2021-07-07T19:30:15.366Z"
   },
   {
    "duration": 6332,
    "start_time": "2021-07-07T19:30:40.207Z"
   },
   {
    "duration": 329,
    "start_time": "2021-07-07T19:31:03.013Z"
   },
   {
    "duration": 7036,
    "start_time": "2021-07-07T19:31:20.115Z"
   },
   {
    "duration": 6690,
    "start_time": "2021-07-07T19:32:00.862Z"
   },
   {
    "duration": 6485,
    "start_time": "2021-07-07T19:32:08.941Z"
   },
   {
    "duration": 95,
    "start_time": "2021-07-07T19:41:29.426Z"
   },
   {
    "duration": 81,
    "start_time": "2021-07-07T19:41:51.279Z"
   },
   {
    "duration": 88,
    "start_time": "2021-07-07T19:43:26.208Z"
   },
   {
    "duration": 7153,
    "start_time": "2021-07-07T19:43:57.225Z"
   },
   {
    "duration": 6835,
    "start_time": "2021-07-07T19:45:50.601Z"
   },
   {
    "duration": 338,
    "start_time": "2021-07-07T19:46:18.484Z"
   },
   {
    "duration": 1135,
    "start_time": "2021-07-07T19:46:51.956Z"
   },
   {
    "duration": 70,
    "start_time": "2021-07-07T19:47:34.180Z"
   },
   {
    "duration": 89,
    "start_time": "2021-07-07T19:47:36.916Z"
   },
   {
    "duration": 111,
    "start_time": "2021-07-07T19:49:40.710Z"
   },
   {
    "duration": 82,
    "start_time": "2021-07-07T19:51:25.553Z"
   },
   {
    "duration": 93,
    "start_time": "2021-07-07T19:51:34.313Z"
   },
   {
    "duration": 21,
    "start_time": "2021-07-07T19:52:59.677Z"
   },
   {
    "duration": 1906,
    "start_time": "2021-07-08T11:33:06.099Z"
   },
   {
    "duration": 63,
    "start_time": "2021-07-08T11:33:15.867Z"
   },
   {
    "duration": 50,
    "start_time": "2021-07-08T11:33:16.610Z"
   },
   {
    "duration": 18,
    "start_time": "2021-07-08T11:33:17.102Z"
   },
   {
    "duration": 13,
    "start_time": "2021-07-08T11:33:18.536Z"
   },
   {
    "duration": 11,
    "start_time": "2021-07-08T11:33:18.860Z"
   },
   {
    "duration": 25,
    "start_time": "2021-07-08T11:33:20.077Z"
   },
   {
    "duration": 87,
    "start_time": "2021-07-08T11:33:20.497Z"
   },
   {
    "duration": 50,
    "start_time": "2021-07-08T11:33:20.866Z"
   },
   {
    "duration": 61,
    "start_time": "2021-07-08T11:33:21.185Z"
   },
   {
    "duration": 423,
    "start_time": "2021-07-08T11:33:21.497Z"
   },
   {
    "duration": 92,
    "start_time": "2021-07-08T11:33:21.830Z"
   },
   {
    "duration": 63,
    "start_time": "2021-07-08T11:40:02.994Z"
   },
   {
    "duration": 93,
    "start_time": "2021-07-08T11:49:07.490Z"
   },
   {
    "duration": 86,
    "start_time": "2021-07-08T11:49:36.830Z"
   },
   {
    "duration": 87,
    "start_time": "2021-07-08T11:49:45.396Z"
   },
   {
    "duration": 92,
    "start_time": "2021-07-08T11:50:26.923Z"
   },
   {
    "duration": 350,
    "start_time": "2021-07-08T11:50:40.284Z"
   },
   {
    "duration": 347,
    "start_time": "2021-07-08T11:50:42.573Z"
   },
   {
    "duration": 92,
    "start_time": "2021-07-08T11:50:46.291Z"
   },
   {
    "duration": 95,
    "start_time": "2021-07-08T11:50:59.484Z"
   },
   {
    "duration": 337,
    "start_time": "2021-07-08T12:01:53.321Z"
   },
   {
    "duration": 87,
    "start_time": "2021-07-08T12:07:10.587Z"
   },
   {
    "duration": 307,
    "start_time": "2021-07-08T12:10:14.415Z"
   },
   {
    "duration": 19,
    "start_time": "2021-07-08T12:10:24.615Z"
   },
   {
    "duration": 24,
    "start_time": "2021-07-08T12:10:55.766Z"
   },
   {
    "duration": 38,
    "start_time": "2021-07-08T12:11:15.908Z"
   },
   {
    "duration": 299,
    "start_time": "2021-07-08T12:13:34.662Z"
   },
   {
    "duration": 24,
    "start_time": "2021-07-08T12:13:44.553Z"
   },
   {
    "duration": 5,
    "start_time": "2021-07-08T12:15:29.316Z"
   },
   {
    "duration": 7134,
    "start_time": "2021-07-08T12:15:32.483Z"
   },
   {
    "duration": 22,
    "start_time": "2021-07-08T12:18:45.400Z"
   },
   {
    "duration": 91,
    "start_time": "2021-07-08T12:18:53.790Z"
   },
   {
    "duration": 23,
    "start_time": "2021-07-08T12:19:02.198Z"
   },
   {
    "duration": 22,
    "start_time": "2021-07-08T12:19:54.384Z"
   },
   {
    "duration": 485,
    "start_time": "2021-07-08T12:20:59.049Z"
   },
   {
    "duration": 21,
    "start_time": "2021-07-08T12:21:24.730Z"
   },
   {
    "duration": 22,
    "start_time": "2021-07-08T12:24:02.821Z"
   },
   {
    "duration": 23,
    "start_time": "2021-07-08T12:26:04.740Z"
   },
   {
    "duration": 22,
    "start_time": "2021-07-08T12:26:07.863Z"
   },
   {
    "duration": 31,
    "start_time": "2021-07-08T12:26:11.295Z"
   },
   {
    "duration": 22,
    "start_time": "2021-07-08T12:26:14.845Z"
   },
   {
    "duration": 22,
    "start_time": "2021-07-08T12:26:22.110Z"
   },
   {
    "duration": 23,
    "start_time": "2021-07-08T12:26:26.647Z"
   },
   {
    "duration": 23,
    "start_time": "2021-07-08T12:26:32.253Z"
   },
   {
    "duration": 22,
    "start_time": "2021-07-08T12:26:35.022Z"
   },
   {
    "duration": 22,
    "start_time": "2021-07-08T12:26:37.134Z"
   },
   {
    "duration": 268,
    "start_time": "2021-07-08T12:27:46.072Z"
   },
   {
    "duration": 22,
    "start_time": "2021-07-08T12:27:56.414Z"
   },
   {
    "duration": 275,
    "start_time": "2021-07-08T12:29:23.217Z"
   },
   {
    "duration": 292,
    "start_time": "2021-07-08T12:29:28.089Z"
   },
   {
    "duration": 560,
    "start_time": "2021-07-08T12:30:29.186Z"
   },
   {
    "duration": 473,
    "start_time": "2021-07-08T12:31:37.469Z"
   },
   {
    "duration": 21,
    "start_time": "2021-07-08T12:32:37.004Z"
   },
   {
    "duration": 782,
    "start_time": "2021-07-08T12:56:21.930Z"
   },
   {
    "duration": 60,
    "start_time": "2021-07-08T12:56:24.399Z"
   },
   {
    "duration": 50,
    "start_time": "2021-07-08T12:56:24.815Z"
   },
   {
    "duration": 15,
    "start_time": "2021-07-08T12:56:25.151Z"
   },
   {
    "duration": 14,
    "start_time": "2021-07-08T12:56:25.857Z"
   },
   {
    "duration": 6,
    "start_time": "2021-07-08T12:56:26.231Z"
   },
   {
    "duration": 15,
    "start_time": "2021-07-08T12:56:27.423Z"
   },
   {
    "duration": 38,
    "start_time": "2021-07-08T12:56:27.784Z"
   },
   {
    "duration": 22,
    "start_time": "2021-07-08T12:56:28.120Z"
   },
   {
    "duration": 25,
    "start_time": "2021-07-08T12:56:32.831Z"
   },
   {
    "duration": 458,
    "start_time": "2021-07-08T13:02:09.055Z"
   },
   {
    "duration": 719,
    "start_time": "2021-07-08T13:02:16.039Z"
   },
   {
    "duration": 529,
    "start_time": "2021-07-08T13:03:26.039Z"
   },
   {
    "duration": 592,
    "start_time": "2021-07-08T13:03:43.144Z"
   },
   {
    "duration": 285,
    "start_time": "2021-07-08T13:04:14.160Z"
   },
   {
    "duration": 280,
    "start_time": "2021-07-08T13:04:22.224Z"
   },
   {
    "duration": 101,
    "start_time": "2021-07-08T13:04:57.105Z"
   },
   {
    "duration": 23,
    "start_time": "2021-07-08T13:05:30.954Z"
   },
   {
    "duration": 284,
    "start_time": "2021-07-08T13:05:35.436Z"
   },
   {
    "duration": 19,
    "start_time": "2021-07-08T13:05:42.568Z"
   },
   {
    "duration": 272,
    "start_time": "2021-07-08T13:06:53.129Z"
   },
   {
    "duration": 697,
    "start_time": "2021-07-08T13:09:51.538Z"
   },
   {
    "duration": 304,
    "start_time": "2021-07-08T13:10:05.804Z"
   },
   {
    "duration": 20,
    "start_time": "2021-07-08T13:12:24.554Z"
   },
   {
    "duration": 19,
    "start_time": "2021-07-08T13:13:35.048Z"
   },
   {
    "duration": 93,
    "start_time": "2021-07-08T13:13:39.384Z"
   },
   {
    "duration": 25,
    "start_time": "2021-07-08T13:13:44.992Z"
   },
   {
    "duration": 24,
    "start_time": "2021-07-08T13:14:24.882Z"
   },
   {
    "duration": 23,
    "start_time": "2021-07-08T13:14:37.442Z"
   },
   {
    "duration": 86,
    "start_time": "2021-07-08T13:18:03.943Z"
   },
   {
    "duration": 29,
    "start_time": "2021-07-08T13:18:21.731Z"
   },
   {
    "duration": 7418,
    "start_time": "2021-07-08T13:18:35.311Z"
   },
   {
    "duration": 32,
    "start_time": "2021-07-08T13:19:17.856Z"
   },
   {
    "duration": 77,
    "start_time": "2021-07-08T13:23:02.400Z"
   },
   {
    "duration": 329,
    "start_time": "2021-07-08T13:24:58.965Z"
   },
   {
    "duration": 307,
    "start_time": "2021-07-08T13:25:20.646Z"
   },
   {
    "duration": 25,
    "start_time": "2021-07-08T13:26:32.421Z"
   },
   {
    "duration": 348,
    "start_time": "2021-07-08T13:31:35.324Z"
   },
   {
    "duration": 25,
    "start_time": "2021-07-08T13:32:03.271Z"
   },
   {
    "duration": 25,
    "start_time": "2021-07-08T13:32:15.196Z"
   },
   {
    "duration": 22,
    "start_time": "2021-07-08T13:32:53.975Z"
   },
   {
    "duration": 25,
    "start_time": "2021-07-08T13:35:00.616Z"
   },
   {
    "duration": 22,
    "start_time": "2021-07-08T13:35:34.442Z"
   },
   {
    "duration": 28,
    "start_time": "2021-07-08T13:35:42.831Z"
   },
   {
    "duration": 33,
    "start_time": "2021-07-08T13:36:12.752Z"
   },
   {
    "duration": 1766,
    "start_time": "2021-07-09T11:16:41.027Z"
   },
   {
    "duration": 98,
    "start_time": "2021-07-09T11:16:47.326Z"
   },
   {
    "duration": 64,
    "start_time": "2021-07-09T11:16:49.404Z"
   },
   {
    "duration": 26,
    "start_time": "2021-07-09T11:16:50.532Z"
   },
   {
    "duration": 20,
    "start_time": "2021-07-09T11:16:52.203Z"
   },
   {
    "duration": 12,
    "start_time": "2021-07-09T11:16:52.718Z"
   },
   {
    "duration": 34,
    "start_time": "2021-07-09T11:16:54.124Z"
   },
   {
    "duration": 52,
    "start_time": "2021-07-09T11:16:55.492Z"
   },
   {
    "duration": 32,
    "start_time": "2021-07-09T11:16:57.132Z"
   },
   {
    "duration": 23,
    "start_time": "2021-07-09T11:16:57.982Z"
   },
   {
    "duration": 107,
    "start_time": "2021-07-09T11:21:33.181Z"
   },
   {
    "duration": 7618,
    "start_time": "2021-07-09T11:21:38.251Z"
   },
   {
    "duration": 7796,
    "start_time": "2021-07-09T11:22:12.101Z"
   },
   {
    "duration": 381,
    "start_time": "2021-07-09T11:22:29.272Z"
   },
   {
    "duration": 114,
    "start_time": "2021-07-09T11:22:54.748Z"
   },
   {
    "duration": 338,
    "start_time": "2021-07-09T11:22:58.482Z"
   },
   {
    "duration": 108,
    "start_time": "2021-07-09T11:23:07.019Z"
   },
   {
    "duration": 101,
    "start_time": "2021-07-09T11:23:10.563Z"
   },
   {
    "duration": 103,
    "start_time": "2021-07-09T11:23:56.277Z"
   },
   {
    "duration": 336,
    "start_time": "2021-07-09T11:24:09.710Z"
   },
   {
    "duration": 333,
    "start_time": "2021-07-09T11:29:48.274Z"
   },
   {
    "duration": 342,
    "start_time": "2021-07-09T11:30:20.107Z"
   },
   {
    "duration": 426,
    "start_time": "2021-07-09T11:30:29.396Z"
   },
   {
    "duration": 368,
    "start_time": "2021-07-09T11:31:03.348Z"
   },
   {
    "duration": 430,
    "start_time": "2021-07-09T11:34:15.461Z"
   },
   {
    "duration": 355,
    "start_time": "2021-07-09T11:34:36.270Z"
   },
   {
    "duration": 474,
    "start_time": "2021-07-09T11:35:18.487Z"
   },
   {
    "duration": 346,
    "start_time": "2021-07-09T11:35:29.921Z"
   },
   {
    "duration": 51,
    "start_time": "2021-07-09T11:35:50.627Z"
   },
   {
    "duration": 371,
    "start_time": "2021-07-09T11:37:00.402Z"
   },
   {
    "duration": 376,
    "start_time": "2021-07-09T11:38:06.897Z"
   },
   {
    "duration": 359,
    "start_time": "2021-07-09T11:39:25.212Z"
   },
   {
    "duration": 1283,
    "start_time": "2021-07-09T11:39:40.523Z"
   },
   {
    "duration": 390,
    "start_time": "2021-07-09T11:39:52.892Z"
   },
   {
    "duration": 58,
    "start_time": "2021-07-09T11:45:25.985Z"
   },
   {
    "duration": 46,
    "start_time": "2021-07-09T11:53:39.979Z"
   },
   {
    "duration": 53,
    "start_time": "2021-07-09T12:00:32.320Z"
   },
   {
    "duration": 50,
    "start_time": "2021-07-09T12:03:13.107Z"
   },
   {
    "duration": 50,
    "start_time": "2021-07-09T12:03:55.958Z"
   },
   {
    "duration": 48,
    "start_time": "2021-07-09T12:04:18.086Z"
   },
   {
    "duration": 62,
    "start_time": "2021-07-09T12:09:29.996Z"
   },
   {
    "duration": 59,
    "start_time": "2021-07-09T12:09:47.826Z"
   },
   {
    "duration": 85,
    "start_time": "2021-07-09T12:11:16.476Z"
   },
   {
    "duration": 101,
    "start_time": "2021-07-09T12:16:31.092Z"
   },
   {
    "duration": 71,
    "start_time": "2021-07-09T12:17:57.573Z"
   },
   {
    "duration": 86,
    "start_time": "2021-07-09T12:20:36.786Z"
   },
   {
    "duration": 84,
    "start_time": "2021-07-09T12:23:17.261Z"
   },
   {
    "duration": 124,
    "start_time": "2021-07-09T12:25:19.120Z"
   },
   {
    "duration": 21,
    "start_time": "2021-07-09T12:25:24.168Z"
   },
   {
    "duration": 14,
    "start_time": "2021-07-09T12:25:46.874Z"
   },
   {
    "duration": 37,
    "start_time": "2021-07-09T12:26:02.273Z"
   },
   {
    "duration": 35,
    "start_time": "2021-07-09T12:26:14.032Z"
   },
   {
    "duration": 38,
    "start_time": "2021-07-09T12:27:18.794Z"
   },
   {
    "duration": 39,
    "start_time": "2021-07-09T12:27:49.123Z"
   },
   {
    "duration": 21,
    "start_time": "2021-07-09T12:28:27.666Z"
   },
   {
    "duration": 25,
    "start_time": "2021-07-09T12:28:36.290Z"
   },
   {
    "duration": 6134,
    "start_time": "2021-07-09T12:29:45.133Z"
   },
   {
    "duration": 6065,
    "start_time": "2021-07-09T12:30:15.159Z"
   },
   {
    "duration": 315,
    "start_time": "2021-07-09T12:30:48.800Z"
   },
   {
    "duration": 26,
    "start_time": "2021-07-09T12:31:18.100Z"
   },
   {
    "duration": 24,
    "start_time": "2021-07-09T12:35:13.681Z"
   },
   {
    "duration": 16,
    "start_time": "2021-07-09T12:35:34.408Z"
   },
   {
    "duration": 26,
    "start_time": "2021-07-09T12:36:00.018Z"
   },
   {
    "duration": 28,
    "start_time": "2021-07-09T12:39:11.206Z"
   },
   {
    "duration": 29,
    "start_time": "2021-07-09T12:39:28.613Z"
   },
   {
    "duration": 30,
    "start_time": "2021-07-09T12:39:56.102Z"
   },
   {
    "duration": 30,
    "start_time": "2021-07-09T12:40:11.766Z"
   },
   {
    "duration": 28,
    "start_time": "2021-07-09T12:40:28.741Z"
   },
   {
    "duration": 29,
    "start_time": "2021-07-09T12:41:00.416Z"
   },
   {
    "duration": 32,
    "start_time": "2021-07-09T12:41:04.161Z"
   },
   {
    "duration": 7875,
    "start_time": "2021-07-09T12:41:45.519Z"
   },
   {
    "duration": 329,
    "start_time": "2021-07-09T12:42:06.809Z"
   },
   {
    "duration": 36,
    "start_time": "2021-07-09T12:43:13.747Z"
   },
   {
    "duration": 33,
    "start_time": "2021-07-09T12:43:22.848Z"
   },
   {
    "duration": 7747,
    "start_time": "2021-07-09T12:44:33.115Z"
   },
   {
    "duration": 327,
    "start_time": "2021-07-09T12:44:51.219Z"
   },
   {
    "duration": 27,
    "start_time": "2021-07-09T12:44:54.003Z"
   },
   {
    "duration": 27,
    "start_time": "2021-07-09T12:46:09.044Z"
   },
   {
    "duration": 7720,
    "start_time": "2021-07-09T12:46:34.616Z"
   },
   {
    "duration": 27,
    "start_time": "2021-07-09T12:47:39.103Z"
   },
   {
    "duration": 1320,
    "start_time": "2021-07-09T12:47:58.295Z"
   },
   {
    "duration": 98,
    "start_time": "2021-07-09T12:48:12.678Z"
   },
   {
    "duration": 33,
    "start_time": "2021-07-09T12:48:20.438Z"
   },
   {
    "duration": 26,
    "start_time": "2021-07-09T12:49:29.825Z"
   },
   {
    "duration": 1451,
    "start_time": "2021-07-09T12:50:17.472Z"
   },
   {
    "duration": 57,
    "start_time": "2021-07-09T12:50:25.080Z"
   },
   {
    "duration": 53,
    "start_time": "2021-07-09T12:52:07.962Z"
   },
   {
    "duration": 38,
    "start_time": "2021-07-09T12:52:21.251Z"
   },
   {
    "duration": 6,
    "start_time": "2021-07-09T12:55:04.525Z"
   },
   {
    "duration": 6,
    "start_time": "2021-07-09T12:55:22.171Z"
   },
   {
    "duration": 100,
    "start_time": "2021-07-09T12:55:38.768Z"
   },
   {
    "duration": 482,
    "start_time": "2021-07-09T12:55:46.511Z"
   },
   {
    "duration": 97,
    "start_time": "2021-07-09T12:56:59.678Z"
   },
   {
    "duration": 5,
    "start_time": "2021-07-09T12:57:19.286Z"
   },
   {
    "duration": 173,
    "start_time": "2021-07-09T12:58:14.992Z"
   },
   {
    "duration": 105,
    "start_time": "2021-07-09T12:58:46.879Z"
   },
   {
    "duration": 5,
    "start_time": "2021-07-09T12:58:59.904Z"
   },
   {
    "duration": 310,
    "start_time": "2021-07-09T12:59:04.337Z"
   },
   {
    "duration": 323,
    "start_time": "2021-07-09T12:59:09.049Z"
   },
   {
    "duration": 5,
    "start_time": "2021-07-09T12:59:13.128Z"
   },
   {
    "duration": 352,
    "start_time": "2021-07-09T12:59:17.680Z"
   },
   {
    "duration": 5,
    "start_time": "2021-07-09T12:59:22.920Z"
   },
   {
    "duration": 5,
    "start_time": "2021-07-09T12:59:25.823Z"
   },
   {
    "duration": 5,
    "start_time": "2021-07-09T12:59:30.347Z"
   },
   {
    "duration": 5,
    "start_time": "2021-07-09T12:59:34.080Z"
   },
   {
    "duration": 5,
    "start_time": "2021-07-09T13:01:09.867Z"
   },
   {
    "duration": 5,
    "start_time": "2021-07-09T13:01:16.642Z"
   },
   {
    "duration": 374,
    "start_time": "2021-07-09T13:01:19.370Z"
   },
   {
    "duration": 4,
    "start_time": "2021-07-09T13:01:21.858Z"
   },
   {
    "duration": 308,
    "start_time": "2021-07-09T13:01:24.586Z"
   },
   {
    "duration": 299,
    "start_time": "2021-07-09T13:01:28.815Z"
   },
   {
    "duration": 5,
    "start_time": "2021-07-09T13:01:32.410Z"
   },
   {
    "duration": 300,
    "start_time": "2021-07-09T13:01:37.274Z"
   },
   {
    "duration": 5,
    "start_time": "2021-07-09T13:01:40.754Z"
   },
   {
    "duration": 4,
    "start_time": "2021-07-09T13:01:43.995Z"
   },
   {
    "duration": 5,
    "start_time": "2021-07-09T13:01:46.682Z"
   },
   {
    "duration": 118,
    "start_time": "2021-07-09T13:02:32.188Z"
   },
   {
    "duration": 5,
    "start_time": "2021-07-09T13:02:44.315Z"
   },
   {
    "duration": 5,
    "start_time": "2021-07-09T13:02:48.924Z"
   },
   {
    "duration": 5,
    "start_time": "2021-07-09T13:02:54.292Z"
   },
   {
    "duration": 5,
    "start_time": "2021-07-09T13:03:12.029Z"
   },
   {
    "duration": 52,
    "start_time": "2021-07-09T13:26:44.066Z"
   },
   {
    "duration": 25,
    "start_time": "2021-07-09T13:27:04.877Z"
   },
   {
    "duration": 26,
    "start_time": "2021-07-09T13:27:21.069Z"
   },
   {
    "duration": 25,
    "start_time": "2021-07-09T13:27:46.870Z"
   },
   {
    "duration": 20,
    "start_time": "2021-07-09T13:27:54.205Z"
   },
   {
    "duration": 19,
    "start_time": "2021-07-09T13:28:04.702Z"
   },
   {
    "duration": 350,
    "start_time": "2021-07-09T13:31:01.050Z"
   },
   {
    "duration": 489,
    "start_time": "2021-07-09T13:31:14.794Z"
   },
   {
    "duration": 461,
    "start_time": "2021-07-09T13:31:22.249Z"
   },
   {
    "duration": 256,
    "start_time": "2021-07-09T13:31:29.577Z"
   },
   {
    "duration": 546,
    "start_time": "2021-07-09T13:32:44.347Z"
   },
   {
    "duration": 246,
    "start_time": "2021-07-09T13:32:56.707Z"
   },
   {
    "duration": 346,
    "start_time": "2021-07-09T13:33:36.651Z"
   },
   {
    "duration": 234,
    "start_time": "2021-07-09T13:34:23.085Z"
   },
   {
    "duration": 246,
    "start_time": "2021-07-09T13:34:44.796Z"
   },
   {
    "duration": 448,
    "start_time": "2021-07-09T13:35:20.990Z"
   },
   {
    "duration": 489,
    "start_time": "2021-07-09T13:35:33.022Z"
   },
   {
    "duration": 491,
    "start_time": "2021-07-09T13:37:04.816Z"
   },
   {
    "duration": 478,
    "start_time": "2021-07-09T13:37:09.639Z"
   },
   {
    "duration": 539,
    "start_time": "2021-07-09T13:37:14.903Z"
   },
   {
    "duration": 474,
    "start_time": "2021-07-09T13:37:36.800Z"
   },
   {
    "duration": 466,
    "start_time": "2021-07-09T13:37:43.296Z"
   },
   {
    "duration": 477,
    "start_time": "2021-07-09T13:38:20.544Z"
   },
   {
    "duration": 478,
    "start_time": "2021-07-09T13:38:31.088Z"
   },
   {
    "duration": 550,
    "start_time": "2021-07-09T13:40:57.621Z"
   },
   {
    "duration": 7,
    "start_time": "2021-07-09T13:53:14.440Z"
   },
   {
    "duration": 8,
    "start_time": "2021-07-09T13:54:06.656Z"
   },
   {
    "duration": 872,
    "start_time": "2021-07-09T13:54:51.233Z"
   },
   {
    "duration": 63,
    "start_time": "2021-07-09T13:54:53.619Z"
   },
   {
    "duration": 54,
    "start_time": "2021-07-09T13:54:53.962Z"
   },
   {
    "duration": 17,
    "start_time": "2021-07-09T13:54:54.337Z"
   },
   {
    "duration": 13,
    "start_time": "2021-07-09T13:54:55.192Z"
   },
   {
    "duration": 8,
    "start_time": "2021-07-09T13:54:55.624Z"
   },
   {
    "duration": 342,
    "start_time": "2021-07-09T13:56:18.570Z"
   },
   {
    "duration": 1276,
    "start_time": "2021-07-09T13:56:41.103Z"
   },
   {
    "duration": 103,
    "start_time": "2021-07-09T13:56:44.259Z"
   },
   {
    "duration": 66,
    "start_time": "2021-07-09T13:56:44.702Z"
   },
   {
    "duration": 17,
    "start_time": "2021-07-09T13:56:45.331Z"
   },
   {
    "duration": 18,
    "start_time": "2021-07-09T13:56:47.089Z"
   },
   {
    "duration": 423,
    "start_time": "2021-07-09T13:56:47.643Z"
   },
   {
    "duration": 308,
    "start_time": "2021-07-09T13:58:47.026Z"
   },
   {
    "duration": 328,
    "start_time": "2021-07-09T13:59:50.680Z"
   },
   {
    "duration": 9,
    "start_time": "2021-07-09T14:00:07.983Z"
   },
   {
    "duration": 10,
    "start_time": "2021-07-09T14:00:33.633Z"
   },
   {
    "duration": 10,
    "start_time": "2021-07-09T14:01:08.096Z"
   },
   {
    "duration": 8,
    "start_time": "2021-07-09T14:01:16.249Z"
   },
   {
    "duration": 840,
    "start_time": "2021-07-09T14:01:36.390Z"
   },
   {
    "duration": 67,
    "start_time": "2021-07-09T14:01:38.528Z"
   },
   {
    "duration": 51,
    "start_time": "2021-07-09T14:01:38.863Z"
   },
   {
    "duration": 15,
    "start_time": "2021-07-09T14:01:39.208Z"
   },
   {
    "duration": 14,
    "start_time": "2021-07-09T14:01:39.842Z"
   },
   {
    "duration": 9,
    "start_time": "2021-07-09T14:01:40.160Z"
   },
   {
    "duration": 15,
    "start_time": "2021-07-09T14:01:41.104Z"
   },
   {
    "duration": 37,
    "start_time": "2021-07-09T14:01:41.695Z"
   },
   {
    "duration": 24,
    "start_time": "2021-07-09T14:01:42.000Z"
   },
   {
    "duration": 22,
    "start_time": "2021-07-09T14:01:42.288Z"
   },
   {
    "duration": 69,
    "start_time": "2021-07-09T14:01:42.559Z"
   },
   {
    "duration": 57,
    "start_time": "2021-07-09T14:01:42.824Z"
   },
   {
    "duration": 6,
    "start_time": "2021-07-09T14:01:43.120Z"
   },
   {
    "duration": 39,
    "start_time": "2021-07-09T14:01:43.447Z"
   },
   {
    "duration": 20,
    "start_time": "2021-07-09T14:04:18.755Z"
   },
   {
    "duration": 343,
    "start_time": "2021-07-09T14:05:01.655Z"
   },
   {
    "duration": 366,
    "start_time": "2021-07-09T14:05:08.681Z"
   },
   {
    "duration": 649,
    "start_time": "2021-07-09T14:10:10.186Z"
   },
   {
    "duration": 542,
    "start_time": "2021-07-09T14:10:17.856Z"
   },
   {
    "duration": 516,
    "start_time": "2021-07-09T14:11:37.715Z"
   },
   {
    "duration": 543,
    "start_time": "2021-07-09T14:13:48.839Z"
   },
   {
    "duration": 21,
    "start_time": "2021-07-09T14:14:10.949Z"
   },
   {
    "duration": 20,
    "start_time": "2021-07-09T14:15:31.263Z"
   },
   {
    "duration": 22,
    "start_time": "2021-07-09T14:18:17.540Z"
   },
   {
    "duration": 23,
    "start_time": "2021-07-09T14:18:47.443Z"
   },
   {
    "duration": 71,
    "start_time": "2021-07-09T14:21:52.402Z"
   },
   {
    "duration": 354,
    "start_time": "2021-07-09T14:22:29.900Z"
   },
   {
    "duration": 70,
    "start_time": "2021-07-09T14:22:38.666Z"
   },
   {
    "duration": 852,
    "start_time": "2021-07-09T14:23:07.985Z"
   },
   {
    "duration": 66,
    "start_time": "2021-07-09T14:23:09.062Z"
   },
   {
    "duration": 52,
    "start_time": "2021-07-09T14:23:09.416Z"
   },
   {
    "duration": 28,
    "start_time": "2021-07-09T14:23:09.830Z"
   },
   {
    "duration": 14,
    "start_time": "2021-07-09T14:23:10.677Z"
   },
   {
    "duration": 8,
    "start_time": "2021-07-09T14:23:11.062Z"
   },
   {
    "duration": 16,
    "start_time": "2021-07-09T14:23:12.175Z"
   },
   {
    "duration": 33,
    "start_time": "2021-07-09T14:23:12.960Z"
   },
   {
    "duration": 24,
    "start_time": "2021-07-09T14:23:13.326Z"
   },
   {
    "duration": 24,
    "start_time": "2021-07-09T14:23:13.711Z"
   },
   {
    "duration": 73,
    "start_time": "2021-07-09T14:23:14.057Z"
   },
   {
    "duration": 58,
    "start_time": "2021-07-09T14:23:14.390Z"
   },
   {
    "duration": 6,
    "start_time": "2021-07-09T14:23:14.734Z"
   },
   {
    "duration": 38,
    "start_time": "2021-07-09T14:23:15.086Z"
   },
   {
    "duration": 241,
    "start_time": "2021-07-09T14:23:16.101Z"
   },
   {
    "duration": 20,
    "start_time": "2021-07-09T15:08:30.869Z"
   },
   {
    "duration": 19,
    "start_time": "2021-07-09T15:10:36.184Z"
   },
   {
    "duration": 19,
    "start_time": "2021-07-09T15:11:18.478Z"
   },
   {
    "duration": 48,
    "start_time": "2021-07-09T15:12:04.207Z"
   },
   {
    "duration": 19,
    "start_time": "2021-07-09T15:13:33.473Z"
   },
   {
    "duration": 27,
    "start_time": "2021-07-09T15:13:56.793Z"
   },
   {
    "duration": 27,
    "start_time": "2021-07-09T15:13:59.497Z"
   },
   {
    "duration": 111,
    "start_time": "2021-07-09T15:14:44.176Z"
   },
   {
    "duration": 324,
    "start_time": "2021-07-09T15:14:51.032Z"
   },
   {
    "duration": 8,
    "start_time": "2021-07-09T15:14:55.025Z"
   },
   {
    "duration": 21,
    "start_time": "2021-07-09T15:18:23.199Z"
   },
   {
    "duration": 39,
    "start_time": "2021-07-09T15:25:19.534Z"
   },
   {
    "duration": 63,
    "start_time": "2021-07-09T15:26:35.702Z"
   },
   {
    "duration": 841,
    "start_time": "2021-07-09T15:26:54.881Z"
   },
   {
    "duration": 62,
    "start_time": "2021-07-09T15:26:56.926Z"
   },
   {
    "duration": 51,
    "start_time": "2021-07-09T15:26:57.551Z"
   },
   {
    "duration": 16,
    "start_time": "2021-07-09T15:26:57.958Z"
   },
   {
    "duration": 15,
    "start_time": "2021-07-09T15:26:58.759Z"
   },
   {
    "duration": 9,
    "start_time": "2021-07-09T15:26:59.150Z"
   },
   {
    "duration": 17,
    "start_time": "2021-07-09T15:27:00.309Z"
   },
   {
    "duration": 35,
    "start_time": "2021-07-09T15:27:01.031Z"
   },
   {
    "duration": 27,
    "start_time": "2021-07-09T15:27:01.367Z"
   },
   {
    "duration": 27,
    "start_time": "2021-07-09T15:27:01.679Z"
   },
   {
    "duration": 72,
    "start_time": "2021-07-09T15:27:02.001Z"
   },
   {
    "duration": 57,
    "start_time": "2021-07-09T15:27:02.382Z"
   },
   {
    "duration": 7,
    "start_time": "2021-07-09T15:27:02.767Z"
   },
   {
    "duration": 41,
    "start_time": "2021-07-09T15:27:03.125Z"
   },
   {
    "duration": 21,
    "start_time": "2021-07-09T15:27:04.141Z"
   },
   {
    "duration": 8,
    "start_time": "2021-07-09T15:27:04.469Z"
   },
   {
    "duration": 1043,
    "start_time": "2021-07-09T15:27:05.198Z"
   },
   {
    "duration": 636,
    "start_time": "2021-07-09T15:27:05.608Z"
   },
   {
    "duration": 60,
    "start_time": "2021-07-09T15:27:45.350Z"
   },
   {
    "duration": 61,
    "start_time": "2021-07-09T15:28:35.953Z"
   },
   {
    "duration": 6,
    "start_time": "2021-07-09T15:28:42.099Z"
   },
   {
    "duration": 41,
    "start_time": "2021-07-09T15:28:44.250Z"
   },
   {
    "duration": 7322,
    "start_time": "2021-07-09T15:31:11.086Z"
   },
   {
    "duration": 7579,
    "start_time": "2021-07-09T15:31:27.109Z"
   },
   {
    "duration": 310,
    "start_time": "2021-07-09T15:33:54.560Z"
   },
   {
    "duration": 349,
    "start_time": "2021-07-09T15:35:05.514Z"
   },
   {
    "duration": 334,
    "start_time": "2021-07-09T15:38:48.392Z"
   },
   {
    "duration": 9,
    "start_time": "2021-07-09T15:39:00.504Z"
   },
   {
    "duration": 8,
    "start_time": "2021-07-09T15:39:51.104Z"
   },
   {
    "duration": 7,
    "start_time": "2021-07-09T15:40:27.282Z"
   },
   {
    "duration": 8,
    "start_time": "2021-07-09T15:41:19.893Z"
   },
   {
    "duration": 2645,
    "start_time": "2021-07-09T15:41:38.355Z"
   },
   {
    "duration": 9,
    "start_time": "2021-07-09T15:41:54.924Z"
   },
   {
    "duration": 904,
    "start_time": "2021-07-09T15:42:02.529Z"
   },
   {
    "duration": 9,
    "start_time": "2021-07-09T15:42:11.573Z"
   },
   {
    "duration": 1465,
    "start_time": "2021-07-09T15:42:14.699Z"
   },
   {
    "duration": 8,
    "start_time": "2021-07-09T15:43:46.885Z"
   },
   {
    "duration": 9,
    "start_time": "2021-07-09T15:47:50.338Z"
   },
   {
    "duration": 1140,
    "start_time": "2021-07-09T15:47:52.866Z"
   },
   {
    "duration": 8,
    "start_time": "2021-07-09T15:48:15.387Z"
   },
   {
    "duration": 11,
    "start_time": "2021-07-09T15:48:25.058Z"
   },
   {
    "duration": 884,
    "start_time": "2021-07-09T15:48:28.402Z"
   },
   {
    "duration": 95,
    "start_time": "2021-07-09T15:48:38.555Z"
   },
   {
    "duration": 9,
    "start_time": "2021-07-09T15:48:47.715Z"
   },
   {
    "duration": 974,
    "start_time": "2021-07-09T15:48:49.140Z"
   },
   {
    "duration": 1263,
    "start_time": "2021-07-09T15:49:00.699Z"
   },
   {
    "duration": 1059,
    "start_time": "2021-07-09T15:49:10.172Z"
   },
   {
    "duration": 307,
    "start_time": "2021-07-09T16:06:37.873Z"
   },
   {
    "duration": 245,
    "start_time": "2021-07-09T16:06:47.220Z"
   },
   {
    "duration": 262,
    "start_time": "2021-07-09T16:07:03.832Z"
   },
   {
    "duration": 297,
    "start_time": "2021-07-09T16:08:29.416Z"
   },
   {
    "duration": 334,
    "start_time": "2021-07-09T16:17:08.704Z"
   },
   {
    "duration": 7,
    "start_time": "2021-07-09T16:17:40.449Z"
   },
   {
    "duration": 7,
    "start_time": "2021-07-09T16:18:43.862Z"
   },
   {
    "duration": 97,
    "start_time": "2021-07-09T16:22:22.653Z"
   },
   {
    "duration": 101,
    "start_time": "2021-07-09T16:22:25.652Z"
   },
   {
    "duration": 10,
    "start_time": "2021-07-09T16:22:28.662Z"
   },
   {
    "duration": 57,
    "start_time": "2021-07-09T16:22:58.188Z"
   },
   {
    "duration": 7,
    "start_time": "2021-07-09T16:24:28.199Z"
   },
   {
    "duration": 6,
    "start_time": "2021-07-09T16:26:18.544Z"
   },
   {
    "duration": 9,
    "start_time": "2021-07-09T16:34:08.181Z"
   },
   {
    "duration": 6,
    "start_time": "2021-07-09T16:34:10.275Z"
   },
   {
    "duration": 7,
    "start_time": "2021-07-09T16:35:17.489Z"
   },
   {
    "duration": 541,
    "start_time": "2021-07-09T16:36:07.881Z"
   },
   {
    "duration": 515,
    "start_time": "2021-07-09T16:36:28.659Z"
   },
   {
    "duration": 555,
    "start_time": "2021-07-09T16:42:27.419Z"
   },
   {
    "duration": 12,
    "start_time": "2021-07-09T16:42:48.224Z"
   },
   {
    "duration": 12,
    "start_time": "2021-07-09T16:43:14.834Z"
   },
   {
    "duration": 294,
    "start_time": "2021-07-09T16:44:32.379Z"
   },
   {
    "duration": 6,
    "start_time": "2021-07-09T16:46:04.499Z"
   },
   {
    "duration": 52,
    "start_time": "2021-07-09T16:46:16.462Z"
   },
   {
    "duration": 7,
    "start_time": "2021-07-09T16:46:56.519Z"
   },
   {
    "duration": 6,
    "start_time": "2021-07-09T16:46:59.333Z"
   },
   {
    "duration": 7,
    "start_time": "2021-07-09T16:47:13.420Z"
   },
   {
    "duration": 8,
    "start_time": "2021-07-09T16:47:42.941Z"
   },
   {
    "duration": 51,
    "start_time": "2021-07-09T16:48:10.695Z"
   },
   {
    "duration": 60,
    "start_time": "2021-07-09T16:48:22.056Z"
   },
   {
    "duration": 8,
    "start_time": "2021-07-09T16:48:36.014Z"
   },
   {
    "duration": 8,
    "start_time": "2021-07-09T16:48:40.455Z"
   },
   {
    "duration": 9,
    "start_time": "2021-07-09T16:59:30.698Z"
   },
   {
    "duration": 8,
    "start_time": "2021-07-09T17:01:50.696Z"
   },
   {
    "duration": 8,
    "start_time": "2021-07-09T17:07:54.568Z"
   },
   {
    "duration": 8,
    "start_time": "2021-07-09T17:08:39.769Z"
   },
   {
    "duration": 6,
    "start_time": "2021-07-09T17:08:50.735Z"
   },
   {
    "duration": 307,
    "start_time": "2021-07-09T17:09:24.313Z"
   },
   {
    "duration": 317,
    "start_time": "2021-07-09T17:09:35.825Z"
   },
   {
    "duration": 8,
    "start_time": "2021-07-09T17:11:01.691Z"
   },
   {
    "duration": 9,
    "start_time": "2021-07-09T17:12:50.509Z"
   },
   {
    "duration": 7,
    "start_time": "2021-07-09T17:13:05.332Z"
   },
   {
    "duration": 308,
    "start_time": "2021-07-09T17:13:12.428Z"
   },
   {
    "duration": 10,
    "start_time": "2021-07-09T17:13:16.559Z"
   },
   {
    "duration": 10,
    "start_time": "2021-07-09T17:13:26.397Z"
   },
   {
    "duration": 1053,
    "start_time": "2021-07-09T17:18:04.303Z"
   },
   {
    "duration": 73,
    "start_time": "2021-07-09T17:18:11.442Z"
   },
   {
    "duration": 55,
    "start_time": "2021-07-09T17:18:12.178Z"
   },
   {
    "duration": 22,
    "start_time": "2021-07-09T17:18:12.776Z"
   },
   {
    "duration": 18,
    "start_time": "2021-07-09T17:18:14.278Z"
   },
   {
    "duration": 11,
    "start_time": "2021-07-09T17:18:14.875Z"
   },
   {
    "duration": 22,
    "start_time": "2021-07-09T17:18:17.065Z"
   },
   {
    "duration": 42,
    "start_time": "2021-07-09T17:18:18.355Z"
   },
   {
    "duration": 34,
    "start_time": "2021-07-09T17:18:19.028Z"
   },
   {
    "duration": 30,
    "start_time": "2021-07-09T17:18:19.738Z"
   },
   {
    "duration": 78,
    "start_time": "2021-07-09T17:18:20.421Z"
   },
   {
    "duration": 62,
    "start_time": "2021-07-09T17:18:21.121Z"
   },
   {
    "duration": 6,
    "start_time": "2021-07-09T17:18:21.912Z"
   },
   {
    "duration": 39,
    "start_time": "2021-07-09T17:18:22.591Z"
   },
   {
    "duration": 11,
    "start_time": "2021-07-09T17:18:24.184Z"
   },
   {
    "duration": 10,
    "start_time": "2021-07-09T17:18:25.633Z"
   },
   {
    "duration": 23,
    "start_time": "2021-07-09T17:18:26.977Z"
   },
   {
    "duration": 7,
    "start_time": "2021-07-09T17:18:27.639Z"
   },
   {
    "duration": 53,
    "start_time": "2021-07-09T17:18:28.096Z"
   },
   {
    "duration": 1126,
    "start_time": "2021-07-09T17:18:29.379Z"
   },
   {
    "duration": 9,
    "start_time": "2021-07-09T17:18:30.507Z"
   },
   {
    "duration": 10,
    "start_time": "2021-07-09T17:18:31.317Z"
   },
   {
    "duration": 2165,
    "start_time": "2021-07-09T20:50:12.679Z"
   },
   {
    "duration": 78,
    "start_time": "2021-07-09T20:50:14.847Z"
   },
   {
    "duration": 51,
    "start_time": "2021-07-09T20:50:14.929Z"
   },
   {
    "duration": 32,
    "start_time": "2021-07-09T20:50:14.983Z"
   },
   {
    "duration": 20,
    "start_time": "2021-07-09T20:50:15.017Z"
   },
   {
    "duration": 10,
    "start_time": "2021-07-09T20:50:15.039Z"
   },
   {
    "duration": 55,
    "start_time": "2021-07-09T20:50:15.051Z"
   },
   {
    "duration": 38,
    "start_time": "2021-07-09T20:50:15.110Z"
   },
   {
    "duration": 22,
    "start_time": "2021-07-09T20:50:15.151Z"
   },
   {
    "duration": 31,
    "start_time": "2021-07-09T20:50:15.199Z"
   },
   {
    "duration": 91,
    "start_time": "2021-07-09T20:50:15.233Z"
   },
   {
    "duration": 55,
    "start_time": "2021-07-09T20:50:15.326Z"
   },
   {
    "duration": 6,
    "start_time": "2021-07-09T20:50:15.400Z"
   },
   {
    "duration": 43,
    "start_time": "2021-07-09T20:50:15.408Z"
   },
   {
    "duration": 452,
    "start_time": "2021-07-09T20:50:15.454Z"
   },
   {
    "duration": 21,
    "start_time": "2021-07-09T20:50:15.909Z"
   },
   {
    "duration": 13,
    "start_time": "2021-07-09T20:50:15.932Z"
   },
   {
    "duration": 78,
    "start_time": "2021-07-09T20:50:15.948Z"
   },
   {
    "duration": 638,
    "start_time": "2021-07-09T20:50:16.029Z"
   },
   {
    "duration": 32865,
    "start_time": "2021-07-09T20:49:43.804Z"
   },
   {
    "duration": 32865,
    "start_time": "2021-07-09T20:49:43.806Z"
   },
   {
    "duration": 9,
    "start_time": "2021-07-09T20:51:01.639Z"
   },
   {
    "duration": 8,
    "start_time": "2021-07-09T20:51:03.431Z"
   },
   {
    "duration": 39,
    "start_time": "2021-07-09T21:06:46.436Z"
   },
   {
    "duration": 36,
    "start_time": "2021-07-09T21:07:33.414Z"
   },
   {
    "duration": 1650,
    "start_time": "2021-07-11T10:16:54.906Z"
   },
   {
    "duration": 1316,
    "start_time": "2021-07-11T10:17:25.899Z"
   },
   {
    "duration": 1279,
    "start_time": "2021-07-11T10:18:18.484Z"
   },
   {
    "duration": 1328,
    "start_time": "2021-07-11T10:18:59.735Z"
   },
   {
    "duration": 1122,
    "start_time": "2021-07-11T10:20:23.413Z"
   },
   {
    "duration": 906,
    "start_time": "2021-07-11T10:20:56.415Z"
   },
   {
    "duration": 119,
    "start_time": "2021-07-11T10:31:02.517Z"
   },
   {
    "duration": 115,
    "start_time": "2021-07-11T10:31:23.948Z"
   },
   {
    "duration": 112,
    "start_time": "2021-07-11T10:31:35.308Z"
   },
   {
    "duration": 928,
    "start_time": "2021-07-11T10:32:04.259Z"
   },
   {
    "duration": 393,
    "start_time": "2021-07-11T10:34:36.252Z"
   },
   {
    "duration": 943,
    "start_time": "2021-07-11T10:34:47.265Z"
   },
   {
    "duration": 66,
    "start_time": "2021-07-11T10:34:50.283Z"
   },
   {
    "duration": 52,
    "start_time": "2021-07-11T10:34:50.963Z"
   },
   {
    "duration": 19,
    "start_time": "2021-07-11T10:34:51.339Z"
   },
   {
    "duration": 13,
    "start_time": "2021-07-11T10:34:52.091Z"
   },
   {
    "duration": 11,
    "start_time": "2021-07-11T10:34:52.501Z"
   },
   {
    "duration": 121,
    "start_time": "2021-07-11T10:36:46.559Z"
   },
   {
    "duration": 397,
    "start_time": "2021-07-11T10:39:19.890Z"
   },
   {
    "duration": 16,
    "start_time": "2021-07-11T10:39:35.615Z"
   },
   {
    "duration": 11,
    "start_time": "2021-07-11T10:49:05.944Z"
   },
   {
    "duration": 921,
    "start_time": "2021-07-11T10:56:12.449Z"
   },
   {
    "duration": 89,
    "start_time": "2021-07-11T10:56:16.735Z"
   },
   {
    "duration": 50,
    "start_time": "2021-07-11T10:56:17.534Z"
   },
   {
    "duration": 17,
    "start_time": "2021-07-11T10:56:17.927Z"
   },
   {
    "duration": 14,
    "start_time": "2021-07-11T10:56:18.727Z"
   },
   {
    "duration": 11,
    "start_time": "2021-07-11T10:56:19.119Z"
   },
   {
    "duration": 16,
    "start_time": "2021-07-11T10:56:19.575Z"
   },
   {
    "duration": 12,
    "start_time": "2021-07-11T10:56:20.455Z"
   },
   {
    "duration": 15,
    "start_time": "2021-07-11T10:56:23.551Z"
   },
   {
    "duration": 37,
    "start_time": "2021-07-11T10:56:25.230Z"
   },
   {
    "duration": 23,
    "start_time": "2021-07-11T10:56:25.934Z"
   },
   {
    "duration": 27,
    "start_time": "2021-07-11T10:56:26.543Z"
   },
   {
    "duration": 25,
    "start_time": "2021-07-11T10:56:57.019Z"
   },
   {
    "duration": 23,
    "start_time": "2021-07-11T10:57:04.440Z"
   },
   {
    "duration": 26,
    "start_time": "2021-07-11T10:57:09.656Z"
   },
   {
    "duration": 81,
    "start_time": "2021-07-11T10:57:29.086Z"
   },
   {
    "duration": 849,
    "start_time": "2021-07-11T11:22:08.792Z"
   },
   {
    "duration": 1391,
    "start_time": "2021-07-11T11:23:14.678Z"
   },
   {
    "duration": 86,
    "start_time": "2021-07-11T11:23:41.301Z"
   },
   {
    "duration": 98,
    "start_time": "2021-07-11T11:24:56.672Z"
   },
   {
    "duration": 85,
    "start_time": "2021-07-11T11:25:30.208Z"
   },
   {
    "duration": 84,
    "start_time": "2021-07-11T11:25:48.579Z"
   },
   {
    "duration": 88,
    "start_time": "2021-07-11T11:27:23.043Z"
   },
   {
    "duration": 88,
    "start_time": "2021-07-11T11:27:39.041Z"
   },
   {
    "duration": 87,
    "start_time": "2021-07-11T11:28:14.645Z"
   },
   {
    "duration": 83,
    "start_time": "2021-07-11T11:28:35.668Z"
   },
   {
    "duration": 61,
    "start_time": "2021-07-11T11:28:51.016Z"
   },
   {
    "duration": 5,
    "start_time": "2021-07-11T11:29:06.328Z"
   },
   {
    "duration": 38,
    "start_time": "2021-07-11T11:30:02.202Z"
   },
   {
    "duration": 32,
    "start_time": "2021-07-11T11:31:19.426Z"
   },
   {
    "duration": 8,
    "start_time": "2021-07-11T11:31:23.601Z"
   },
   {
    "duration": 1772,
    "start_time": "2021-07-11T11:32:12.323Z"
   },
   {
    "duration": 6,
    "start_time": "2021-07-11T11:39:35.224Z"
   },
   {
    "duration": 417,
    "start_time": "2021-07-11T11:47:29.135Z"
   },
   {
    "duration": 3367,
    "start_time": "2021-07-11T11:47:34.141Z"
   },
   {
    "duration": 306,
    "start_time": "2021-07-11T11:50:53.725Z"
   },
   {
    "duration": 359,
    "start_time": "2021-07-11T11:53:18.872Z"
   },
   {
    "duration": 721,
    "start_time": "2021-07-11T11:53:50.797Z"
   },
   {
    "duration": 1236,
    "start_time": "2021-07-11T11:54:36.673Z"
   },
   {
    "duration": 927,
    "start_time": "2021-07-11T11:58:10.062Z"
   },
   {
    "duration": 656,
    "start_time": "2021-07-11T12:03:14.414Z"
   },
   {
    "duration": 688,
    "start_time": "2021-07-11T12:03:28.415Z"
   },
   {
    "duration": 303,
    "start_time": "2021-07-11T12:03:38.878Z"
   },
   {
    "duration": 361,
    "start_time": "2021-07-11T12:06:37.376Z"
   },
   {
    "duration": 333,
    "start_time": "2021-07-11T12:06:58.276Z"
   },
   {
    "duration": 343,
    "start_time": "2021-07-11T12:09:33.934Z"
   },
   {
    "duration": 123,
    "start_time": "2021-07-11T12:09:58.006Z"
   },
   {
    "duration": 327,
    "start_time": "2021-07-11T12:12:14.054Z"
   },
   {
    "duration": 617,
    "start_time": "2021-07-11T12:12:24.102Z"
   },
   {
    "duration": 355,
    "start_time": "2021-07-11T12:13:14.366Z"
   },
   {
    "duration": 345,
    "start_time": "2021-07-11T12:13:30.608Z"
   },
   {
    "duration": 467,
    "start_time": "2021-07-11T12:14:15.069Z"
   },
   {
    "duration": 354,
    "start_time": "2021-07-11T12:14:31.552Z"
   },
   {
    "duration": 310,
    "start_time": "2021-07-11T12:14:39.433Z"
   },
   {
    "duration": 1739,
    "start_time": "2021-07-11T12:14:45.121Z"
   },
   {
    "duration": 355,
    "start_time": "2021-07-11T12:17:22.213Z"
   },
   {
    "duration": 321,
    "start_time": "2021-07-11T12:18:09.618Z"
   },
   {
    "duration": 325,
    "start_time": "2021-07-11T12:18:32.427Z"
   },
   {
    "duration": 297,
    "start_time": "2021-07-11T12:18:40.950Z"
   },
   {
    "duration": 367,
    "start_time": "2021-07-11T12:18:44.142Z"
   },
   {
    "duration": 417,
    "start_time": "2021-07-11T12:18:51.543Z"
   },
   {
    "duration": 434,
    "start_time": "2021-07-11T12:19:02.534Z"
   },
   {
    "duration": 432,
    "start_time": "2021-07-11T12:19:38.966Z"
   },
   {
    "duration": 441,
    "start_time": "2021-07-11T12:20:50.576Z"
   },
   {
    "duration": 439,
    "start_time": "2021-07-11T12:21:46.512Z"
   },
   {
    "duration": 431,
    "start_time": "2021-07-11T12:21:53.243Z"
   },
   {
    "duration": 429,
    "start_time": "2021-07-11T12:31:11.086Z"
   },
   {
    "duration": 505,
    "start_time": "2021-07-11T12:31:41.072Z"
   },
   {
    "duration": 737,
    "start_time": "2021-07-11T12:32:40.339Z"
   },
   {
    "duration": 503,
    "start_time": "2021-07-11T12:32:45.347Z"
   },
   {
    "duration": 522,
    "start_time": "2021-07-11T12:33:46.301Z"
   },
   {
    "duration": 484,
    "start_time": "2021-07-11T12:33:55.973Z"
   },
   {
    "duration": 481,
    "start_time": "2021-07-11T12:34:06.832Z"
   },
   {
    "duration": 493,
    "start_time": "2021-07-11T12:34:11.893Z"
   },
   {
    "duration": 474,
    "start_time": "2021-07-11T12:34:29.220Z"
   },
   {
    "duration": 466,
    "start_time": "2021-07-11T12:34:45.630Z"
   },
   {
    "duration": 428,
    "start_time": "2021-07-11T12:36:00.295Z"
   },
   {
    "duration": 683,
    "start_time": "2021-07-11T12:37:40.978Z"
   },
   {
    "duration": 441,
    "start_time": "2021-07-11T12:38:10.490Z"
   },
   {
    "duration": 423,
    "start_time": "2021-07-11T12:38:34.236Z"
   },
   {
    "duration": 465,
    "start_time": "2021-07-11T12:38:34.662Z"
   },
   {
    "duration": 460,
    "start_time": "2021-07-11T12:47:29.023Z"
   },
   {
    "duration": 451,
    "start_time": "2021-07-11T12:47:45.230Z"
   },
   {
    "duration": 6,
    "start_time": "2021-07-11T12:47:50.592Z"
   },
   {
    "duration": 5,
    "start_time": "2021-07-11T12:48:14.320Z"
   },
   {
    "duration": 5,
    "start_time": "2021-07-11T12:48:52.976Z"
   },
   {
    "duration": 6,
    "start_time": "2021-07-11T12:49:14.175Z"
   },
   {
    "duration": 5,
    "start_time": "2021-07-11T12:49:27.527Z"
   },
   {
    "duration": 131,
    "start_time": "2021-07-11T12:49:43.783Z"
   },
   {
    "duration": 122,
    "start_time": "2021-07-11T12:49:46.664Z"
   },
   {
    "duration": 6,
    "start_time": "2021-07-11T12:49:53.648Z"
   },
   {
    "duration": 7,
    "start_time": "2021-07-11T12:50:09.090Z"
   },
   {
    "duration": 7,
    "start_time": "2021-07-11T12:50:54.273Z"
   },
   {
    "duration": 465,
    "start_time": "2021-07-11T12:51:18.962Z"
   },
   {
    "duration": 6,
    "start_time": "2021-07-11T12:51:22.345Z"
   },
   {
    "duration": 3,
    "start_time": "2021-07-11T12:52:04.152Z"
   },
   {
    "duration": 89,
    "start_time": "2021-07-11T12:52:47.284Z"
   },
   {
    "duration": 11,
    "start_time": "2021-07-11T12:53:14.445Z"
   },
   {
    "duration": 11,
    "start_time": "2021-07-11T12:53:38.092Z"
   },
   {
    "duration": 349,
    "start_time": "2021-07-11T12:53:50.518Z"
   },
   {
    "duration": 12,
    "start_time": "2021-07-11T12:54:02.229Z"
   },
   {
    "duration": 13,
    "start_time": "2021-07-11T12:54:02.755Z"
   },
   {
    "duration": 11,
    "start_time": "2021-07-11T12:54:11.540Z"
   },
   {
    "duration": 12,
    "start_time": "2021-07-11T12:54:11.914Z"
   },
   {
    "duration": 446,
    "start_time": "2021-07-11T12:54:14.373Z"
   },
   {
    "duration": 6,
    "start_time": "2021-07-11T12:54:15.659Z"
   },
   {
    "duration": 15,
    "start_time": "2021-07-11T12:57:43.655Z"
   },
   {
    "duration": 17,
    "start_time": "2021-07-11T12:57:56.460Z"
   },
   {
    "duration": 17,
    "start_time": "2021-07-11T12:58:17.619Z"
   },
   {
    "duration": 18,
    "start_time": "2021-07-11T12:59:40.845Z"
   },
   {
    "duration": 461,
    "start_time": "2021-07-11T13:02:15.269Z"
   },
   {
    "duration": 437,
    "start_time": "2021-07-11T13:03:32.977Z"
   },
   {
    "duration": 362,
    "start_time": "2021-07-11T13:03:54.994Z"
   },
   {
    "duration": 327,
    "start_time": "2021-07-11T13:04:04.090Z"
   },
   {
    "duration": 440,
    "start_time": "2021-07-11T13:04:11.630Z"
   },
   {
    "duration": 446,
    "start_time": "2021-07-11T13:06:03.145Z"
   },
   {
    "duration": 428,
    "start_time": "2021-07-11T13:06:09.297Z"
   },
   {
    "duration": 348,
    "start_time": "2021-07-11T13:06:20.033Z"
   },
   {
    "duration": 328,
    "start_time": "2021-07-11T13:06:25.113Z"
   },
   {
    "duration": 329,
    "start_time": "2021-07-11T13:06:38.449Z"
   },
   {
    "duration": 314,
    "start_time": "2021-07-11T13:06:42.123Z"
   },
   {
    "duration": 320,
    "start_time": "2021-07-11T13:06:48.013Z"
   },
   {
    "duration": 322,
    "start_time": "2021-07-11T13:07:20.299Z"
   },
   {
    "duration": 328,
    "start_time": "2021-07-11T13:09:38.525Z"
   },
   {
    "duration": 365,
    "start_time": "2021-07-11T13:09:44.470Z"
   },
   {
    "duration": 346,
    "start_time": "2021-07-11T13:10:17.988Z"
   },
   {
    "duration": 5,
    "start_time": "2021-07-11T13:16:00.627Z"
   },
   {
    "duration": 6,
    "start_time": "2021-07-11T13:19:54.766Z"
   },
   {
    "duration": 5,
    "start_time": "2021-07-11T13:20:54.272Z"
   },
   {
    "duration": 6,
    "start_time": "2021-07-11T13:21:09.952Z"
   },
   {
    "duration": 6,
    "start_time": "2021-07-11T13:21:21.344Z"
   },
   {
    "duration": 6,
    "start_time": "2021-07-11T13:21:47.859Z"
   },
   {
    "duration": 7,
    "start_time": "2021-07-11T13:23:27.058Z"
   },
   {
    "duration": 7,
    "start_time": "2021-07-11T13:26:30.012Z"
   },
   {
    "duration": 7,
    "start_time": "2021-07-11T13:26:53.589Z"
   },
   {
    "duration": 5,
    "start_time": "2021-07-11T13:27:18.783Z"
   },
   {
    "duration": 367,
    "start_time": "2021-07-11T13:27:54.343Z"
   },
   {
    "duration": 6,
    "start_time": "2021-07-11T13:28:01.965Z"
   },
   {
    "duration": 5,
    "start_time": "2021-07-11T13:28:14.815Z"
   },
   {
    "duration": 6,
    "start_time": "2021-07-11T13:28:25.440Z"
   },
   {
    "duration": 356,
    "start_time": "2021-07-11T13:28:48.847Z"
   },
   {
    "duration": 7,
    "start_time": "2021-07-11T13:36:44.399Z"
   },
   {
    "duration": 5,
    "start_time": "2021-07-11T13:37:05.831Z"
   },
   {
    "duration": 7,
    "start_time": "2021-07-11T13:37:28.585Z"
   },
   {
    "duration": 7,
    "start_time": "2021-07-11T13:37:43.247Z"
   },
   {
    "duration": 358,
    "start_time": "2021-07-11T13:38:10.343Z"
   },
   {
    "duration": 390,
    "start_time": "2021-07-11T13:58:55.623Z"
   },
   {
    "duration": 20,
    "start_time": "2021-07-11T13:59:15.920Z"
   },
   {
    "duration": 385,
    "start_time": "2021-07-11T14:01:35.546Z"
   },
   {
    "duration": 302,
    "start_time": "2021-07-11T14:07:32.839Z"
   },
   {
    "duration": 321,
    "start_time": "2021-07-11T14:08:02.062Z"
   },
   {
    "duration": 435,
    "start_time": "2021-07-11T14:09:20.012Z"
   },
   {
    "duration": 318,
    "start_time": "2021-07-11T14:10:01.176Z"
   },
   {
    "duration": 651,
    "start_time": "2021-07-11T14:10:20.769Z"
   },
   {
    "duration": 876,
    "start_time": "2021-07-11T14:20:12.892Z"
   },
   {
    "duration": 762,
    "start_time": "2021-07-11T14:22:43.640Z"
   },
   {
    "duration": 327,
    "start_time": "2021-07-11T14:23:17.689Z"
   },
   {
    "duration": 18,
    "start_time": "2021-07-11T14:25:18.857Z"
   },
   {
    "duration": 336,
    "start_time": "2021-07-11T14:29:49.489Z"
   },
   {
    "duration": 390,
    "start_time": "2021-07-11T14:33:54.889Z"
   },
   {
    "duration": 7,
    "start_time": "2021-07-11T14:34:27.231Z"
   },
   {
    "duration": 7,
    "start_time": "2021-07-11T14:34:44.304Z"
   },
   {
    "duration": 7,
    "start_time": "2021-07-11T14:34:47.915Z"
   },
   {
    "duration": 7,
    "start_time": "2021-07-11T16:10:06.886Z"
   },
   {
    "duration": 604,
    "start_time": "2021-07-11T16:11:39.646Z"
   },
   {
    "duration": 9,
    "start_time": "2021-07-11T16:11:50.081Z"
   },
   {
    "duration": 13,
    "start_time": "2021-07-11T16:12:01.772Z"
   },
   {
    "duration": 8,
    "start_time": "2021-07-11T16:13:14.645Z"
   },
   {
    "duration": 7,
    "start_time": "2021-07-11T16:13:25.719Z"
   },
   {
    "duration": 6,
    "start_time": "2021-07-11T16:13:48.803Z"
   },
   {
    "duration": 6,
    "start_time": "2021-07-11T16:14:03.257Z"
   },
   {
    "duration": 8,
    "start_time": "2021-07-11T16:21:29.081Z"
   },
   {
    "duration": 7,
    "start_time": "2021-07-11T16:23:11.711Z"
   },
   {
    "duration": 8,
    "start_time": "2021-07-11T16:25:24.128Z"
   },
   {
    "duration": 1004,
    "start_time": "2021-07-11T16:28:56.977Z"
   },
   {
    "duration": 63,
    "start_time": "2021-07-11T16:29:13.213Z"
   },
   {
    "duration": 53,
    "start_time": "2021-07-11T16:29:16.722Z"
   },
   {
    "duration": 18,
    "start_time": "2021-07-11T16:29:18.885Z"
   },
   {
    "duration": 14,
    "start_time": "2021-07-11T16:29:21.467Z"
   },
   {
    "duration": 10,
    "start_time": "2021-07-11T16:29:22.239Z"
   },
   {
    "duration": 14,
    "start_time": "2021-07-11T16:29:25.011Z"
   },
   {
    "duration": 12,
    "start_time": "2021-07-11T16:29:27.180Z"
   },
   {
    "duration": 16,
    "start_time": "2021-07-11T16:29:37.278Z"
   },
   {
    "duration": 40,
    "start_time": "2021-07-11T16:29:40.461Z"
   },
   {
    "duration": 25,
    "start_time": "2021-07-11T16:29:42.800Z"
   },
   {
    "duration": 25,
    "start_time": "2021-07-11T16:29:44.258Z"
   },
   {
    "duration": 85,
    "start_time": "2021-07-11T16:29:48.637Z"
   },
   {
    "duration": 6,
    "start_time": "2021-07-11T16:29:50.839Z"
   },
   {
    "duration": 11,
    "start_time": "2021-07-11T16:29:59.477Z"
   },
   {
    "duration": 449,
    "start_time": "2021-07-11T16:30:00.618Z"
   },
   {
    "duration": 17,
    "start_time": "2021-07-11T16:30:03.512Z"
   },
   {
    "duration": 426,
    "start_time": "2021-07-11T16:30:07.193Z"
   },
   {
    "duration": 17,
    "start_time": "2021-07-11T16:30:07.961Z"
   },
   {
    "duration": 434,
    "start_time": "2021-07-11T16:30:09.256Z"
   },
   {
    "duration": 17,
    "start_time": "2021-07-11T16:30:09.969Z"
   },
   {
    "duration": 321,
    "start_time": "2021-07-11T16:30:12.506Z"
   },
   {
    "duration": 17,
    "start_time": "2021-07-11T16:30:12.903Z"
   },
   {
    "duration": 37,
    "start_time": "2021-07-11T16:31:21.959Z"
   },
   {
    "duration": 9,
    "start_time": "2021-07-11T16:31:25.069Z"
   },
   {
    "duration": 56,
    "start_time": "2021-07-11T16:31:28.043Z"
   },
   {
    "duration": 1178,
    "start_time": "2021-07-11T16:31:33.678Z"
   },
   {
    "duration": 46,
    "start_time": "2021-07-11T16:41:34.277Z"
   },
   {
    "duration": 8,
    "start_time": "2021-07-11T16:41:46.908Z"
   },
   {
    "duration": 397,
    "start_time": "2021-07-11T16:42:36.694Z"
   },
   {
    "duration": 454,
    "start_time": "2021-07-11T16:42:40.798Z"
   },
   {
    "duration": 6,
    "start_time": "2021-07-11T16:42:48.108Z"
   },
   {
    "duration": 17,
    "start_time": "2021-07-11T16:43:18.212Z"
   },
   {
    "duration": 728,
    "start_time": "2021-07-11T16:43:36.868Z"
   },
   {
    "duration": 656,
    "start_time": "2021-07-11T16:43:39.924Z"
   },
   {
    "duration": 563,
    "start_time": "2021-07-11T16:44:15.843Z"
   },
   {
    "duration": 345,
    "start_time": "2021-07-11T16:44:36.414Z"
   },
   {
    "duration": 189,
    "start_time": "2021-07-11T16:44:41.457Z"
   },
   {
    "duration": 8,
    "start_time": "2021-07-11T16:44:44.524Z"
   },
   {
    "duration": 99,
    "start_time": "2021-07-11T16:45:04.463Z"
   },
   {
    "duration": 42,
    "start_time": "2021-07-11T16:47:43.753Z"
   },
   {
    "duration": 102,
    "start_time": "2021-07-11T16:48:16.978Z"
   },
   {
    "duration": 83,
    "start_time": "2021-07-11T16:48:38.658Z"
   },
   {
    "duration": 91,
    "start_time": "2021-07-11T16:49:05.805Z"
   },
   {
    "duration": 8,
    "start_time": "2021-07-11T16:52:44.883Z"
   },
   {
    "duration": 21,
    "start_time": "2021-07-11T16:54:41.417Z"
   },
   {
    "duration": 7,
    "start_time": "2021-07-11T16:54:53.983Z"
   },
   {
    "duration": 1080,
    "start_time": "2021-07-11T16:58:22.350Z"
   },
   {
    "duration": 70,
    "start_time": "2021-07-11T16:58:25.510Z"
   },
   {
    "duration": 51,
    "start_time": "2021-07-11T16:58:26.368Z"
   },
   {
    "duration": 17,
    "start_time": "2021-07-11T16:58:26.788Z"
   },
   {
    "duration": 14,
    "start_time": "2021-07-11T16:58:27.635Z"
   },
   {
    "duration": 12,
    "start_time": "2021-07-11T16:58:28.085Z"
   },
   {
    "duration": 15,
    "start_time": "2021-07-11T16:58:28.513Z"
   },
   {
    "duration": 14,
    "start_time": "2021-07-11T16:58:29.455Z"
   },
   {
    "duration": 17,
    "start_time": "2021-07-11T16:58:31.929Z"
   },
   {
    "duration": 39,
    "start_time": "2021-07-11T16:58:33.297Z"
   },
   {
    "duration": 26,
    "start_time": "2021-07-11T16:58:33.731Z"
   },
   {
    "duration": 27,
    "start_time": "2021-07-11T16:58:34.302Z"
   },
   {
    "duration": 83,
    "start_time": "2021-07-11T16:58:36.228Z"
   },
   {
    "duration": 6,
    "start_time": "2021-07-11T16:58:36.810Z"
   },
   {
    "duration": 9,
    "start_time": "2021-07-11T16:58:39.631Z"
   },
   {
    "duration": 456,
    "start_time": "2021-07-11T16:58:40.734Z"
   },
   {
    "duration": 18,
    "start_time": "2021-07-11T16:58:41.329Z"
   },
   {
    "duration": 407,
    "start_time": "2021-07-11T16:58:42.987Z"
   },
   {
    "duration": 18,
    "start_time": "2021-07-11T16:58:43.540Z"
   },
   {
    "duration": 525,
    "start_time": "2021-07-11T16:58:45.746Z"
   },
   {
    "duration": 17,
    "start_time": "2021-07-11T16:58:46.306Z"
   },
   {
    "duration": 320,
    "start_time": "2021-07-11T16:58:47.422Z"
   },
   {
    "duration": 17,
    "start_time": "2021-07-11T16:58:47.946Z"
   },
   {
    "duration": 7,
    "start_time": "2021-07-11T16:58:50.818Z"
   },
   {
    "duration": 43,
    "start_time": "2021-07-11T16:58:51.916Z"
   },
   {
    "duration": 18,
    "start_time": "2021-07-11T16:58:52.548Z"
   },
   {
    "duration": 7,
    "start_time": "2021-07-11T16:58:53.657Z"
   },
   {
    "duration": 1129,
    "start_time": "2021-07-12T07:17:20.214Z"
   },
   {
    "duration": 59,
    "start_time": "2021-07-12T07:17:21.345Z"
   },
   {
    "duration": 32,
    "start_time": "2021-07-12T07:17:21.406Z"
   },
   {
    "duration": 14,
    "start_time": "2021-07-12T07:17:21.439Z"
   },
   {
    "duration": 8,
    "start_time": "2021-07-12T07:17:21.454Z"
   },
   {
    "duration": 28,
    "start_time": "2021-07-12T07:17:21.464Z"
   },
   {
    "duration": 11,
    "start_time": "2021-07-12T07:17:21.493Z"
   },
   {
    "duration": 6,
    "start_time": "2021-07-12T07:17:21.506Z"
   },
   {
    "duration": 9,
    "start_time": "2021-07-12T07:17:21.514Z"
   },
   {
    "duration": 28,
    "start_time": "2021-07-12T07:17:21.525Z"
   },
   {
    "duration": 41,
    "start_time": "2021-07-12T07:17:21.554Z"
   },
   {
    "duration": 19,
    "start_time": "2021-07-12T07:17:21.596Z"
   },
   {
    "duration": 46,
    "start_time": "2021-07-12T07:17:21.616Z"
   },
   {
    "duration": 3,
    "start_time": "2021-07-12T07:17:21.664Z"
   },
   {
    "duration": 84,
    "start_time": "2021-07-12T07:17:21.669Z"
   },
   {
    "duration": 234,
    "start_time": "2021-07-12T07:17:21.755Z"
   },
   {
    "duration": 11,
    "start_time": "2021-07-12T07:17:21.990Z"
   },
   {
    "duration": 224,
    "start_time": "2021-07-12T07:17:22.002Z"
   },
   {
    "duration": 11,
    "start_time": "2021-07-12T07:17:22.227Z"
   },
   {
    "duration": 281,
    "start_time": "2021-07-12T07:17:22.239Z"
   },
   {
    "duration": 10,
    "start_time": "2021-07-12T07:17:22.521Z"
   },
   {
    "duration": 181,
    "start_time": "2021-07-12T07:17:22.532Z"
   },
   {
    "duration": 9,
    "start_time": "2021-07-12T07:17:22.716Z"
   },
   {
    "duration": 329,
    "start_time": "2021-07-12T07:17:22.727Z"
   },
   {
    "duration": 23,
    "start_time": "2021-07-12T07:17:23.058Z"
   },
   {
    "duration": 17,
    "start_time": "2021-07-12T07:17:23.082Z"
   },
   {
    "duration": 5,
    "start_time": "2021-07-12T07:17:23.100Z"
   },
   {
    "duration": 20,
    "start_time": "2021-07-12T07:22:33.467Z"
   }
  ],
  "kernelspec": {
   "display_name": "Python 3",
   "language": "python",
   "name": "python3"
  },
  "language_info": {
   "codemirror_mode": {
    "name": "ipython",
    "version": 3
   },
   "file_extension": ".py",
   "mimetype": "text/x-python",
   "name": "python",
   "nbconvert_exporter": "python",
   "pygments_lexer": "ipython3",
   "version": "3.8.8"
  },
  "toc": {
   "base_numbering": 1,
   "nav_menu": {},
   "number_sections": true,
   "sideBar": true,
   "skip_h1_title": true,
   "title_cell": "Table of Contents",
   "title_sidebar": "Contents",
   "toc_cell": false,
   "toc_position": {},
   "toc_section_display": true,
   "toc_window_display": false
  }
 },
 "nbformat": 4,
 "nbformat_minor": 2
}
