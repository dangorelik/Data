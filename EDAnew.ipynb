{
 "cells": [
  {
   "cell_type": "markdown",
   "metadata": {},
   "source": [
    "# Analyzing Vehicles Sales"
   ]
  },
  {
   "cell_type": "markdown",
   "metadata": {},
   "source": [
    "Analysis of advertisements for vehicles published on an online board, the main goal is to determine which factors influence the price of a vehicle the most.\n",
    "\n",
    "This project explains how to do simple Exploratory Data Analysis(EDA) in Python and contains:\n",
    "\n",
    "1. Graphs\n",
    "2. Pivot Tables\n",
    "3. Data Slices\n",
    "4. Work with Several Data Sources\n",
    "5. Combining Columns"
   ]
  },
  {
   "cell_type": "markdown",
   "metadata": {},
   "source": [
    "## Opening the data file and looking at the general information"
   ]
  },
  {
   "cell_type": "code",
   "execution_count": 2,
   "metadata": {},
   "outputs": [
    {
     "name": "stdout",
     "output_type": "stream",
     "text": [
      "<class 'pandas.core.frame.DataFrame'>\n",
      "RangeIndex: 51525 entries, 0 to 51524\n",
      "Data columns (total 13 columns):\n",
      " #   Column        Non-Null Count  Dtype  \n",
      "---  ------        --------------  -----  \n",
      " 0   price         51525 non-null  int64  \n",
      " 1   model_year    47906 non-null  float64\n",
      " 2   model         51525 non-null  object \n",
      " 3   condition     51525 non-null  object \n",
      " 4   cylinders     46265 non-null  float64\n",
      " 5   fuel          51525 non-null  object \n",
      " 6   odometer      43633 non-null  float64\n",
      " 7   transmission  51525 non-null  object \n",
      " 8   type          51525 non-null  object \n",
      " 9   paint_color   42258 non-null  object \n",
      " 10  is_4wd        25572 non-null  float64\n",
      " 11  date_posted   51525 non-null  object \n",
      " 12  days_listed   51525 non-null  int64  \n",
      "dtypes: float64(4), int64(2), object(7)\n",
      "memory usage: 5.1+ MB\n",
      "None\n",
      "-----------------------------------------------------------------------\n",
      "   price  model_year           model  condition  cylinders fuel  odometer  \\\n",
      "0   9400      2011.0          bmw x5       good        6.0  gas  145000.0   \n",
      "1  25500         NaN      ford f-150       good        6.0  gas   88705.0   \n",
      "2   5500      2013.0  hyundai sonata   like new        4.0  gas  110000.0   \n",
      "3   1500      2003.0      ford f-150       fair        8.0  gas       NaN   \n",
      "4  14900      2017.0    chrysler 200  excellent        4.0  gas   80903.0   \n",
      "\n",
      "  transmission    type paint_color  is_4wd date_posted  days_listed  \n",
      "0    automatic     SUV         NaN     1.0  2018-06-23           19  \n",
      "1    automatic  pickup       white     1.0  2018-10-19           50  \n",
      "2    automatic   sedan         red     NaN  2019-02-07           79  \n",
      "3    automatic  pickup         NaN     NaN  2019-03-22            9  \n",
      "4    automatic   sedan       black     NaN  2019-04-02           28  \n",
      "-----------------------------------------------------------------------\n",
      "               price    model_year     cylinders       odometer   is_4wd  \\\n",
      "count   51525.000000  47906.000000  46265.000000   43633.000000  25572.0   \n",
      "mean    12132.464920   2009.750470      6.125235  115553.461738      1.0   \n",
      "std     10040.803015      6.282065      1.660360   65094.611341      0.0   \n",
      "min         1.000000   1908.000000      3.000000       0.000000      1.0   \n",
      "25%      5000.000000   2006.000000      4.000000   70000.000000      1.0   \n",
      "50%      9000.000000   2011.000000      6.000000  113000.000000      1.0   \n",
      "75%     16839.000000   2014.000000      8.000000  155000.000000      1.0   \n",
      "max    375000.000000   2019.000000     12.000000  990000.000000      1.0   \n",
      "\n",
      "       days_listed  \n",
      "count  51525.00000  \n",
      "mean      39.55476  \n",
      "std       28.20427  \n",
      "min        0.00000  \n",
      "25%       19.00000  \n",
      "50%       33.00000  \n",
      "75%       53.00000  \n",
      "max      271.00000  \n"
     ]
    }
   ],
   "source": [
    "import pandas as pd\n",
    "import matplotlib.pyplot as plt \n",
    "\n",
    "data = pd.read_csv(\"C:\\\\Users\\\\Shir\\\\Downloads\\\\Practicum\\\\Library\\\\vehicles_us.csv\")\n",
    "print(data.info())\n",
    "print('-----------------------------------------------------------------------')\n",
    "print(data.head(5))\n",
    "print('-----------------------------------------------------------------------')\n",
    "print(data.describe())"
   ]
  },
  {
   "cell_type": "markdown",
   "metadata": {},
   "source": [
    "### Conclusion"
   ]
  },
  {
   "cell_type": "markdown",
   "metadata": {},
   "source": [
    "The data contains 51525 rows and 13 columns\n",
    "\n",
    "Some fields require more attention:\n",
    "\n",
    "1. is_4wd - Boolean field, many missing values.\n",
    "2. paint_color - missing values.\n",
    "3. odometer - missing values.\n",
    "4. model_year - 3619 missing values.\n",
    "5. model - contains duplicates.\n",
    "6. cylinders - missing values.\n",
    "\n",
    "\n"
   ]
  },
  {
   "cell_type": "code",
   "execution_count": 3,
   "metadata": {},
   "outputs": [
    {
     "name": "stdout",
     "output_type": "stream",
     "text": [
      "price               0\n",
      "model_year       3619\n",
      "model               0\n",
      "condition           0\n",
      "cylinders        5260\n",
      "fuel                0\n",
      "odometer         7892\n",
      "transmission        0\n",
      "type                0\n",
      "paint_color      9267\n",
      "is_4wd          25953\n",
      "date_posted         0\n",
      "days_listed         0\n",
      "dtype: int64\n"
     ]
    }
   ],
   "source": [
    "# Print the number of missing values per column\n",
    "print(data.isnull().sum())"
   ]
  },
  {
   "cell_type": "code",
   "execution_count": 4,
   "metadata": {},
   "outputs": [
    {
     "name": "stdout",
     "output_type": "stream",
     "text": [
      "price            3443\n",
      "model_year         68\n",
      "model             100\n",
      "condition           6\n",
      "cylinders           7\n",
      "fuel                5\n",
      "odometer        17762\n",
      "transmission        3\n",
      "type               13\n",
      "paint_color        12\n",
      "is_4wd              1\n",
      "date_posted       354\n",
      "days_listed       227\n",
      "dtype: int64\n"
     ]
    }
   ],
   "source": [
    "#check for duplicates and errors\n",
    "print(data.nunique())"
   ]
  },
  {
   "cell_type": "code",
   "execution_count": 5,
   "metadata": {},
   "outputs": [
    {
     "data": {
      "text/plain": [
       "array([nan, 'white', 'red', 'black', 'blue', 'grey', 'silver', 'custom',\n",
       "       'orange', 'yellow', 'brown', 'green', 'purple'], dtype=object)"
      ]
     },
     "execution_count": 5,
     "metadata": {},
     "output_type": "execute_result"
    }
   ],
   "source": [
    "#explore paint_color column\n",
    "data['paint_color'].unique()"
   ]
  },
  {
   "cell_type": "code",
   "execution_count": 6,
   "metadata": {},
   "outputs": [
    {
     "data": {
      "text/plain": [
       "array(['SUV', 'pickup', 'sedan', 'truck', 'coupe', 'van', 'convertible',\n",
       "       'hatchback', 'wagon', 'mini-van', 'other', 'offroad', 'bus'],\n",
       "      dtype=object)"
      ]
     },
     "execution_count": 6,
     "metadata": {},
     "output_type": "execute_result"
    }
   ],
   "source": [
    "#explore type column\n",
    "data['type'].unique()"
   ]
  },
  {
   "cell_type": "code",
   "execution_count": 7,
   "metadata": {},
   "outputs": [
    {
     "data": {
      "text/plain": [
       "array(['bmw x5', 'ford f-150', 'hyundai sonata', 'chrysler 200',\n",
       "       'chrysler 300', 'toyota camry', 'honda pilot', 'kia sorento',\n",
       "       'chevrolet silverado 1500', 'honda accord', 'ram 1500',\n",
       "       'gmc yukon', 'jeep cherokee', 'chevrolet traverse',\n",
       "       'hyundai elantra', 'chevrolet tahoe', 'toyota rav4',\n",
       "       'chevrolet silverado', 'jeep wrangler', 'chevrolet malibu',\n",
       "       'ford fusion se', 'chevrolet impala', 'chevrolet corvette',\n",
       "       'jeep liberty', 'toyota camry le', 'nissan altima',\n",
       "       'subaru outback', 'toyota highlander', 'dodge charger',\n",
       "       'toyota tacoma', 'chevrolet equinox', 'nissan rogue',\n",
       "       'mercedes-benz benze sprinter 2500', 'honda cr-v',\n",
       "       'jeep grand cherokee', 'toyota 4runner', 'ford focus',\n",
       "       'honda civic', 'kia soul', 'chevrolet colorado',\n",
       "       'ford f150 supercrew cab xlt', 'chevrolet camaro lt coupe 2d',\n",
       "       'chevrolet cruze', 'ford mustang', 'chevrolet silverado 3500hd',\n",
       "       'nissan frontier crew cab sv', 'subaru impreza',\n",
       "       'jeep grand cherokee laredo', 'nissan versa', 'ford f-250 sd',\n",
       "       'chevrolet silverado 1500 crew', 'ford f250 super duty',\n",
       "       'chevrolet camaro', 'ford mustang gt coupe 2d', 'subaru forester',\n",
       "       'ford explorer', 'ford f-350 sd', 'ford edge', 'nissan maxima',\n",
       "       'ford f-250', 'nissan sentra', 'ford f150', 'chevrolet suburban',\n",
       "       'ford expedition', 'dodge grand caravan', 'ford taurus',\n",
       "       'acura tl', 'ford f350 super duty', 'ford ranger', 'gmc sierra',\n",
       "       'hyundai santa fe', 'ford escape', 'gmc sierra 2500hd',\n",
       "       'honda civic lx', 'gmc sierra 1500', 'honda odyssey',\n",
       "       'cadillac escalade', 'volkswagen jetta', 'toyota corolla',\n",
       "       'chrysler town & country', 'volkswagen passat', 'toyota prius',\n",
       "       'buick enclave', 'ford fusion', 'toyota tundra', 'ram 3500',\n",
       "       'ram 2500', 'nissan frontier', 'chevrolet silverado 2500hd',\n",
       "       'jeep wrangler unlimited', 'ford f-250 super duty', 'gmc acadia',\n",
       "       'toyota sienna', 'ford focus se', 'ford f250', 'dodge dakota',\n",
       "       'ford f350', 'chevrolet trailblazer', 'ford econoline',\n",
       "       'nissan murano'], dtype=object)"
      ]
     },
     "execution_count": 7,
     "metadata": {},
     "output_type": "execute_result"
    }
   ],
   "source": [
    "#explore model column\n",
    "data['model'].unique()"
   ]
  },
  {
   "cell_type": "markdown",
   "metadata": {},
   "source": [
    "It seems like the model column has duplicates"
   ]
  },
  {
   "cell_type": "markdown",
   "metadata": {},
   "source": [
    "## Data preprocessing"
   ]
  },
  {
   "cell_type": "code",
   "execution_count": 7,
   "metadata": {},
   "outputs": [],
   "source": [
    "#1. Replacing missing values in is_4wd column with 0, this ia a Boolean field conatins only \"1\", it's reasonable to assume that the missing values are '0'\n",
    "data['is_4wd'] = data['is_4wd'].fillna(value= 0)"
   ]
  },
  {
   "cell_type": "code",
   "execution_count": 8,
   "metadata": {},
   "outputs": [],
   "source": [
    "#2. Replacing missing values in paint_color column with 'Other', as we can't determine the color of the car\n",
    "data['paint_color'] = data['paint_color'].fillna(value= 'Other')"
   ]
  },
  {
   "cell_type": "code",
   "execution_count": 8,
   "metadata": {
    "scrolled": true
   },
   "outputs": [
    {
     "data": {
      "text/html": [
       "<div>\n",
       "<style scoped>\n",
       "    .dataframe tbody tr th:only-of-type {\n",
       "        vertical-align: middle;\n",
       "    }\n",
       "\n",
       "    .dataframe tbody tr th {\n",
       "        vertical-align: top;\n",
       "    }\n",
       "\n",
       "    .dataframe thead th {\n",
       "        text-align: right;\n",
       "    }\n",
       "</style>\n",
       "<table border=\"1\" class=\"dataframe\">\n",
       "  <thead>\n",
       "    <tr style=\"text-align: right;\">\n",
       "      <th></th>\n",
       "      <th>price</th>\n",
       "      <th>model_year</th>\n",
       "      <th>model</th>\n",
       "      <th>condition</th>\n",
       "      <th>cylinders</th>\n",
       "      <th>fuel</th>\n",
       "      <th>odometer</th>\n",
       "      <th>transmission</th>\n",
       "      <th>type</th>\n",
       "      <th>paint_color</th>\n",
       "      <th>is_4wd</th>\n",
       "      <th>date_posted</th>\n",
       "      <th>days_listed</th>\n",
       "    </tr>\n",
       "  </thead>\n",
       "  <tbody>\n",
       "    <tr>\n",
       "      <th>0</th>\n",
       "      <td>9400</td>\n",
       "      <td>2011.0</td>\n",
       "      <td>bmw x5</td>\n",
       "      <td>good</td>\n",
       "      <td>6.0</td>\n",
       "      <td>gas</td>\n",
       "      <td>145000.0</td>\n",
       "      <td>automatic</td>\n",
       "      <td>SUV</td>\n",
       "      <td>NaN</td>\n",
       "      <td>1.0</td>\n",
       "      <td>2018-06-23</td>\n",
       "      <td>19</td>\n",
       "    </tr>\n",
       "    <tr>\n",
       "      <th>1</th>\n",
       "      <td>25500</td>\n",
       "      <td>2013.0</td>\n",
       "      <td>ford f-150</td>\n",
       "      <td>good</td>\n",
       "      <td>6.0</td>\n",
       "      <td>gas</td>\n",
       "      <td>88705.0</td>\n",
       "      <td>automatic</td>\n",
       "      <td>pickup</td>\n",
       "      <td>white</td>\n",
       "      <td>1.0</td>\n",
       "      <td>2018-10-19</td>\n",
       "      <td>50</td>\n",
       "    </tr>\n",
       "    <tr>\n",
       "      <th>2</th>\n",
       "      <td>5500</td>\n",
       "      <td>2013.0</td>\n",
       "      <td>hyundai sonata</td>\n",
       "      <td>like new</td>\n",
       "      <td>4.0</td>\n",
       "      <td>gas</td>\n",
       "      <td>110000.0</td>\n",
       "      <td>automatic</td>\n",
       "      <td>sedan</td>\n",
       "      <td>red</td>\n",
       "      <td>NaN</td>\n",
       "      <td>2019-02-07</td>\n",
       "      <td>79</td>\n",
       "    </tr>\n",
       "    <tr>\n",
       "      <th>3</th>\n",
       "      <td>1500</td>\n",
       "      <td>2003.0</td>\n",
       "      <td>ford f-150</td>\n",
       "      <td>fair</td>\n",
       "      <td>8.0</td>\n",
       "      <td>gas</td>\n",
       "      <td>NaN</td>\n",
       "      <td>automatic</td>\n",
       "      <td>pickup</td>\n",
       "      <td>NaN</td>\n",
       "      <td>NaN</td>\n",
       "      <td>2019-03-22</td>\n",
       "      <td>9</td>\n",
       "    </tr>\n",
       "    <tr>\n",
       "      <th>4</th>\n",
       "      <td>14900</td>\n",
       "      <td>2017.0</td>\n",
       "      <td>chrysler 200</td>\n",
       "      <td>excellent</td>\n",
       "      <td>4.0</td>\n",
       "      <td>gas</td>\n",
       "      <td>80903.0</td>\n",
       "      <td>automatic</td>\n",
       "      <td>sedan</td>\n",
       "      <td>black</td>\n",
       "      <td>NaN</td>\n",
       "      <td>2019-04-02</td>\n",
       "      <td>28</td>\n",
       "    </tr>\n",
       "  </tbody>\n",
       "</table>\n",
       "</div>"
      ],
      "text/plain": [
       "   price  model_year           model  condition  cylinders fuel  odometer  \\\n",
       "0   9400      2011.0          bmw x5       good        6.0  gas  145000.0   \n",
       "1  25500      2013.0      ford f-150       good        6.0  gas   88705.0   \n",
       "2   5500      2013.0  hyundai sonata   like new        4.0  gas  110000.0   \n",
       "3   1500      2003.0      ford f-150       fair        8.0  gas       NaN   \n",
       "4  14900      2017.0    chrysler 200  excellent        4.0  gas   80903.0   \n",
       "\n",
       "  transmission    type paint_color  is_4wd date_posted  days_listed  \n",
       "0    automatic     SUV         NaN     1.0  2018-06-23           19  \n",
       "1    automatic  pickup       white     1.0  2018-10-19           50  \n",
       "2    automatic   sedan         red     NaN  2019-02-07           79  \n",
       "3    automatic  pickup         NaN     NaN  2019-03-22            9  \n",
       "4    automatic   sedan       black     NaN  2019-04-02           28  "
      ]
     },
     "metadata": {},
     "output_type": "display_data"
    }
   ],
   "source": [
    "#3. Check what is the most common years by model\n",
    "\n",
    "year_group = data.groupby('model')['model_year'].agg(lambda s: s.mode()[0])\n",
    "\n",
    "#Filling the missing values in the model_year column: \n",
    "\n",
    "def year(row):\n",
    "    year = row['model_year']\n",
    "    if pd.isnull(year):\n",
    "        return year_group[row['model']]\n",
    "    else:\n",
    "        return row['model_year']\n",
    "data['model_year'] = data.apply(year,axis=1)\n",
    "display(data.head())"
   ]
  },
  {
   "cell_type": "code",
   "execution_count": 9,
   "metadata": {},
   "outputs": [],
   "source": [
    "#4. Replacing missing values in odometer column with the median\n",
    "odometer_median = data['odometer'].median()\n",
    "data['odometer'] = data['odometer'].fillna(value= odometer_median)"
   ]
  },
  {
   "cell_type": "code",
   "execution_count": 10,
   "metadata": {},
   "outputs": [],
   "source": [
    "#5. Filling the missing values in the cylindars column:\n",
    "cylinders_median = data['cylinders'].median()\n",
    "data['cylinders'] = data['cylinders'].fillna(value= cylinders_median)"
   ]
  },
  {
   "cell_type": "markdown",
   "metadata": {},
   "source": [
    "## Make calculations and add them to the table"
   ]
  },
  {
   "cell_type": "code",
   "execution_count": 12,
   "metadata": {
    "scrolled": true
   },
   "outputs": [
    {
     "data": {
      "text/plain": [
       "3    24773\n",
       "2    20145\n",
       "4     4742\n",
       "1     1607\n",
       "5      143\n",
       "0      115\n",
       "Name: condition, dtype: int64"
      ]
     },
     "execution_count": 12,
     "metadata": {},
     "output_type": "execute_result"
    }
   ],
   "source": [
    "#1. condition column - converting string values to a numeric scale:\n",
    "data.replace({'new': '5', 'like new': '4', 'excellent': '3', 'good': '2', 'fair': '1', 'salvage': '0'}, inplace = True)\n",
    "data[\"condition\"] = pd.to_numeric(data[\"condition\"])\n",
    "data['condition'].value_counts()"
   ]
  },
  {
   "cell_type": "code",
   "execution_count": 13,
   "metadata": {},
   "outputs": [],
   "source": [
    "#2. converting the 'date_posted' column to datetime format\n",
    "data['date_posted']= pd.to_datetime(data['date_posted'])\n",
    "#creating new columns for day of the week, month and year\n",
    "data['Day'] = data['date_posted'].dt.weekday\n",
    "data['Month'] = data['date_posted'].dt.month\n",
    "data['Year'] = data['date_posted'].dt.year\n"
   ]
  },
  {
   "cell_type": "code",
   "execution_count": 14,
   "metadata": {},
   "outputs": [],
   "source": [
    "#3. Adding a column that represents the vehicle's age (in years) when the ad was placed\n",
    "data['age'] = ( data['Year'] - data['model_year']) +1\n"
   ]
  },
  {
   "cell_type": "code",
   "execution_count": 15,
   "metadata": {},
   "outputs": [],
   "source": [
    "#4. Adding a column that represents the vehicle's average mileage per year\n",
    "data['avg_mileage'] = data['odometer']/data['age']"
   ]
  },
  {
   "cell_type": "code",
   "execution_count": 16,
   "metadata": {
    "scrolled": true
   },
   "outputs": [],
   "source": [
    "#5. convert 'cylinders' into an integer\n",
    "data[\"cylinders\"] = data[\"cylinders\"].astype('int')"
   ]
  },
  {
   "cell_type": "code",
   "execution_count": 17,
   "metadata": {},
   "outputs": [
    {
     "name": "stdout",
     "output_type": "stream",
     "text": [
      "<class 'pandas.core.frame.DataFrame'>\n",
      "RangeIndex: 51525 entries, 0 to 51524\n",
      "Data columns (total 18 columns):\n",
      " #   Column        Non-Null Count  Dtype         \n",
      "---  ------        --------------  -----         \n",
      " 0   price         51525 non-null  int64         \n",
      " 1   model_year    51525 non-null  int32         \n",
      " 2   model         51525 non-null  object        \n",
      " 3   condition     51525 non-null  int64         \n",
      " 4   cylinders     51525 non-null  int32         \n",
      " 5   fuel          51525 non-null  object        \n",
      " 6   odometer      51525 non-null  int32         \n",
      " 7   transmission  51525 non-null  object        \n",
      " 8   type          51525 non-null  object        \n",
      " 9   paint_color   42258 non-null  object        \n",
      " 10  is_4wd        51525 non-null  bool          \n",
      " 11  date_posted   51525 non-null  datetime64[ns]\n",
      " 12  days_listed   51525 non-null  int64         \n",
      " 13  Day           51525 non-null  int64         \n",
      " 14  Month         51525 non-null  int64         \n",
      " 15  Year          51525 non-null  int64         \n",
      " 16  age           51525 non-null  float64       \n",
      " 17  avg_mileage   51525 non-null  float64       \n",
      "dtypes: bool(1), datetime64[ns](1), float64(2), int32(3), int64(6), object(5)\n",
      "memory usage: 6.1+ MB\n"
     ]
    }
   ],
   "source": [
    "#6. convert model_year and odometer to int\n",
    "data[\"model_year\"] = data[\"model_year\"].astype('int')\n",
    "data[\"odometer\"] = data[\"odometer\"].astype('int')\n",
    "data[\"is_4wd\"] = data[\"is_4wd\"].astype('bool')\n",
    "data.info()"
   ]
  },
  {
   "cell_type": "markdown",
   "metadata": {},
   "source": [
    "## Exploratory Data Analysis"
   ]
  },
  {
   "cell_type": "code",
   "execution_count": 18,
   "metadata": {},
   "outputs": [
    {
     "data": {
      "text/plain": [
       "Text(0.5, 0, 'Condition')"
      ]
     },
     "execution_count": 18,
     "metadata": {},
     "output_type": "execute_result"
    },
    {
     "data": {
      "image/png": "[encoded data removed]",
      "text/plain": [
       "<Figure size 288x144 with 1 Axes>"
      ]
     },
     "metadata": {
      "needs_background": "light"
     },
     "output_type": "display_data"
    },
    {
     "data": {
      "image/png": "[encoded data removed]",
      "text/plain": [
       "<Figure size 288x144 with 1 Axes>"
      ]
     },
     "metadata": {
      "needs_background": "light"
     },
     "output_type": "display_data"
    },
    {
     "data": {
      "image/png": "[encoded data removed]",
      "text/plain": [
       "<Figure size 288x144 with 1 Axes>"
      ]
     },
     "metadata": {
      "needs_background": "light"
     },
     "output_type": "display_data"
    },
    {
     "data": {
      "image/png": "[encoded data removed]",
      "text/plain": [
       "<Figure size 288x144 with 1 Axes>"
      ]
     },
     "metadata": {
      "needs_background": "light"
     },
     "output_type": "display_data"
    },
    {
     "data": {
      "image/png": "[encoded data removed]",
      "text/plain": [
       "<Figure size 288x144 with 1 Axes>"
      ]
     },
     "metadata": {
      "needs_background": "light"
     },
     "output_type": "display_data"
    }
   ],
   "source": [
    "#Histograms for price, vehicle's age when the ad was placed, mileage, number of cylinders, and condition\n",
    "\n",
    "price_hist = data.hist('price', bins=70, range=(0, 85000),figsize=(4, 2))\n",
    "plt.ylabel(\"Vehicles\")\n",
    "plt.xlabel(\"Price\")\n",
    "age_hist = data.hist('age', bins=50, range=(0, 40),figsize=(4, 2))\n",
    "plt.ylabel(\"Vehicles\")\n",
    "plt.xlabel(\"Age\")\n",
    "avg_mileage_hist = data.hist('avg_mileage', bins=50, range=(0, 120000),figsize=(4, 2))\n",
    "plt.ylabel(\"Vehicles\")\n",
    "plt.xlabel(\"Avg Mileage\")\n",
    "cylinders_hist = data.hist('cylinders', bins=50, range=(2, 12),figsize=(4, 2))\n",
    "plt.ylabel(\"Vehicles\")\n",
    "plt.xlabel(\"Cylinders\")\n",
    "condition_hist = data.hist('condition', bins=20, range=(0, 5),figsize=(4, 2))\n",
    "plt.ylabel(\"Vehicles\")\n",
    "plt.xlabel(\"Condition\")"
   ]
  },
  {
   "cell_type": "markdown",
   "metadata": {},
   "source": [
    "There are outliers that should be ignored:\n",
    "1. price column - small values under 100 - not representing the real picture, and large values above 60,000, there are almost no values in that range.\n",
    "2. age column - values above 35 are not really relevant for the analysis.\n",
    "3. average mileage column - values above 65,000 seems like outliers, and will be ignored.\n",
    "4. cylinders column - it seems like the majority of the vehicles has 4,6 and 8 cylinders, other vales are insignificant. \n",
    "5. condition column - seems like a normal distribution"
   ]
  },
  {
   "cell_type": "markdown",
   "metadata": {},
   "source": [
    "### removing outliers"
   ]
  },
  {
   "cell_type": "code",
   "execution_count": 19,
   "metadata": {},
   "outputs": [
    {
     "data": {
      "text/html": [
       "<div>\n",
       "<style scoped>\n",
       "    .dataframe tbody tr th:only-of-type {\n",
       "        vertical-align: middle;\n",
       "    }\n",
       "\n",
       "    .dataframe tbody tr th {\n",
       "        vertical-align: top;\n",
       "    }\n",
       "\n",
       "    .dataframe thead th {\n",
       "        text-align: right;\n",
       "    }\n",
       "</style>\n",
       "<table border=\"1\" class=\"dataframe\">\n",
       "  <thead>\n",
       "    <tr style=\"text-align: right;\">\n",
       "      <th></th>\n",
       "      <th>price</th>\n",
       "      <th>model_year</th>\n",
       "      <th>condition</th>\n",
       "      <th>cylinders</th>\n",
       "      <th>odometer</th>\n",
       "      <th>days_listed</th>\n",
       "      <th>Day</th>\n",
       "      <th>Month</th>\n",
       "      <th>Year</th>\n",
       "      <th>age</th>\n",
       "      <th>avg_mileage</th>\n",
       "    </tr>\n",
       "  </thead>\n",
       "  <tbody>\n",
       "    <tr>\n",
       "      <th>count</th>\n",
       "      <td>49314.000000</td>\n",
       "      <td>49314.000000</td>\n",
       "      <td>49314.000000</td>\n",
       "      <td>49314.000000</td>\n",
       "      <td>49314.000000</td>\n",
       "      <td>49314.000000</td>\n",
       "      <td>49314.000000</td>\n",
       "      <td>49314.000000</td>\n",
       "      <td>49314.000000</td>\n",
       "      <td>49314.000000</td>\n",
       "      <td>49314.000000</td>\n",
       "    </tr>\n",
       "    <tr>\n",
       "      <th>mean</th>\n",
       "      <td>12005.027700</td>\n",
       "      <td>2009.880196</td>\n",
       "      <td>2.628442</td>\n",
       "      <td>6.065904</td>\n",
       "      <td>116511.543659</td>\n",
       "      <td>39.556718</td>\n",
       "      <td>3.002129</td>\n",
       "      <td>6.621629</td>\n",
       "      <td>2018.308168</td>\n",
       "      <td>9.427972</td>\n",
       "      <td>15146.054734</td>\n",
       "    </tr>\n",
       "    <tr>\n",
       "      <th>std</th>\n",
       "      <td>8911.863022</td>\n",
       "      <td>5.502952</td>\n",
       "      <td>0.711259</td>\n",
       "      <td>1.529370</td>\n",
       "      <td>58167.121145</td>\n",
       "      <td>28.205189</td>\n",
       "      <td>1.995832</td>\n",
       "      <td>3.473528</td>\n",
       "      <td>0.461741</td>\n",
       "      <td>5.514784</td>\n",
       "      <td>9265.613242</td>\n",
       "    </tr>\n",
       "    <tr>\n",
       "      <th>min</th>\n",
       "      <td>105.000000</td>\n",
       "      <td>1984.000000</td>\n",
       "      <td>0.000000</td>\n",
       "      <td>4.000000</td>\n",
       "      <td>0.000000</td>\n",
       "      <td>0.000000</td>\n",
       "      <td>0.000000</td>\n",
       "      <td>1.000000</td>\n",
       "      <td>2018.000000</td>\n",
       "      <td>1.000000</td>\n",
       "      <td>0.000000</td>\n",
       "    </tr>\n",
       "    <tr>\n",
       "      <th>25%</th>\n",
       "      <td>5200.000000</td>\n",
       "      <td>2006.000000</td>\n",
       "      <td>2.000000</td>\n",
       "      <td>4.000000</td>\n",
       "      <td>81662.000000</td>\n",
       "      <td>19.000000</td>\n",
       "      <td>1.000000</td>\n",
       "      <td>3.000000</td>\n",
       "      <td>2018.000000</td>\n",
       "      <td>5.000000</td>\n",
       "      <td>9416.666667</td>\n",
       "    </tr>\n",
       "    <tr>\n",
       "      <th>50%</th>\n",
       "      <td>9250.000000</td>\n",
       "      <td>2011.000000</td>\n",
       "      <td>3.000000</td>\n",
       "      <td>6.000000</td>\n",
       "      <td>113000.000000</td>\n",
       "      <td>33.000000</td>\n",
       "      <td>3.000000</td>\n",
       "      <td>7.000000</td>\n",
       "      <td>2018.000000</td>\n",
       "      <td>8.000000</td>\n",
       "      <td>13229.083333</td>\n",
       "    </tr>\n",
       "    <tr>\n",
       "      <th>75%</th>\n",
       "      <td>16500.000000</td>\n",
       "      <td>2014.000000</td>\n",
       "      <td>3.000000</td>\n",
       "      <td>8.000000</td>\n",
       "      <td>148226.500000</td>\n",
       "      <td>53.000000</td>\n",
       "      <td>5.000000</td>\n",
       "      <td>10.000000</td>\n",
       "      <td>2019.000000</td>\n",
       "      <td>13.000000</td>\n",
       "      <td>18594.750000</td>\n",
       "    </tr>\n",
       "    <tr>\n",
       "      <th>max</th>\n",
       "      <td>50000.000000</td>\n",
       "      <td>2019.000000</td>\n",
       "      <td>5.000000</td>\n",
       "      <td>8.000000</td>\n",
       "      <td>710000.000000</td>\n",
       "      <td>271.000000</td>\n",
       "      <td>6.000000</td>\n",
       "      <td>12.000000</td>\n",
       "      <td>2019.000000</td>\n",
       "      <td>35.000000</td>\n",
       "      <td>80000.000000</td>\n",
       "    </tr>\n",
       "  </tbody>\n",
       "</table>\n",
       "</div>"
      ],
      "text/plain": [
       "              price    model_year     condition     cylinders       odometer  \\\n",
       "count  49314.000000  49314.000000  49314.000000  49314.000000   49314.000000   \n",
       "mean   12005.027700   2009.880196      2.628442      6.065904  116511.543659   \n",
       "std     8911.863022      5.502952      0.711259      1.529370   58167.121145   \n",
       "min      105.000000   1984.000000      0.000000      4.000000       0.000000   \n",
       "25%     5200.000000   2006.000000      2.000000      4.000000   81662.000000   \n",
       "50%     9250.000000   2011.000000      3.000000      6.000000  113000.000000   \n",
       "75%    16500.000000   2014.000000      3.000000      8.000000  148226.500000   \n",
       "max    50000.000000   2019.000000      5.000000      8.000000  710000.000000   \n",
       "\n",
       "        days_listed           Day         Month          Year           age  \\\n",
       "count  49314.000000  49314.000000  49314.000000  49314.000000  49314.000000   \n",
       "mean      39.556718      3.002129      6.621629   2018.308168      9.427972   \n",
       "std       28.205189      1.995832      3.473528      0.461741      5.514784   \n",
       "min        0.000000      0.000000      1.000000   2018.000000      1.000000   \n",
       "25%       19.000000      1.000000      3.000000   2018.000000      5.000000   \n",
       "50%       33.000000      3.000000      7.000000   2018.000000      8.000000   \n",
       "75%       53.000000      5.000000     10.000000   2019.000000     13.000000   \n",
       "max      271.000000      6.000000     12.000000   2019.000000     35.000000   \n",
       "\n",
       "        avg_mileage  \n",
       "count  49314.000000  \n",
       "mean   15146.054734  \n",
       "std     9265.613242  \n",
       "min        0.000000  \n",
       "25%     9416.666667  \n",
       "50%    13229.083333  \n",
       "75%    18594.750000  \n",
       "max    80000.000000  "
      ]
     },
     "execution_count": 19,
     "metadata": {},
     "output_type": "execute_result"
    }
   ],
   "source": [
    "#removing the outliers, and storing the filtered data in a new table\n",
    "data_new = data.query('price >= 100 and price <= 50000')\n",
    "data_new = data_new.query('age <= 35')\n",
    "data_new = data_new.query('avg_mileage <= 80000')\n",
    "data_new = data_new[(data_new['cylinders'] == 4) | (data_new['cylinders'] == 6)| (data_new['cylinders'] == 8)]\n",
    "data_new.describe()"
   ]
  },
  {
   "cell_type": "code",
   "execution_count": 20,
   "metadata": {
    "scrolled": true
   },
   "outputs": [
    {
     "data": {
      "text/plain": [
       "array([[<AxesSubplot:title={'center':'price'}>]], dtype=object)"
      ]
     },
     "execution_count": 20,
     "metadata": {},
     "output_type": "execute_result"
    },
    {
     "data": {
      "image/png": "[encoded data removed]",
      "text/plain": [
       "<Figure size 288x144 with 1 Axes>"
      ]
     },
     "metadata": {
      "needs_background": "light"
     },
     "output_type": "display_data"
    },
    {
     "data": {
      "image/png": "[encoded data removed]",
      "text/plain": [
       "<Figure size 288x144 with 1 Axes>"
      ]
     },
     "metadata": {
      "needs_background": "light"
     },
     "output_type": "display_data"
    }
   ],
   "source": [
    "data_new.hist('price', bins=30, range=(0, 50000),figsize=(4, 2))\n",
    "data.hist('price', bins=70, range=(0, 85000),figsize=(4, 2))"
   ]
  },
  {
   "cell_type": "markdown",
   "metadata": {},
   "source": [
    "Conclusion: right-skewed distribution, the peak of the histogram is between 0 and 10,000, and the median is 8995. There are not many cars with very high price, while the average price is 11464.\n",
    "The trend is more clear in the new histogram."
   ]
  },
  {
   "cell_type": "code",
   "execution_count": 21,
   "metadata": {},
   "outputs": [
    {
     "data": {
      "text/plain": [
       "array([[<AxesSubplot:title={'center':'age'}>]], dtype=object)"
      ]
     },
     "execution_count": 21,
     "metadata": {},
     "output_type": "execute_result"
    },
    {
     "data": {
      "image/png": "[encoded data removed]",
      "text/plain": [
       "<Figure size 288x144 with 1 Axes>"
      ]
     },
     "metadata": {
      "needs_background": "light"
     },
     "output_type": "display_data"
    },
    {
     "data": {
      "image/png": "[encoded data removed]",
      "text/plain": [
       "<Figure size 288x144 with 1 Axes>"
      ]
     },
     "metadata": {
      "needs_background": "light"
     },
     "output_type": "display_data"
    }
   ],
   "source": [
    "data_new.hist('age', bins=50, range=(0, 35),figsize=(4, 2))\n",
    "data.hist('age', bins=50, range=(0, 40),figsize=(4, 2))"
   ]
  },
  {
   "cell_type": "markdown",
   "metadata": {},
   "source": [
    "Conclusion: right-skewed distribution, the peak of the histogram is between 0 and 10, and the median is 7. There are not many old cars, most of the cars are under 10 years ols, the average age is 8.7.\n",
    "The trend is more clear in the new histogram."
   ]
  },
  {
   "cell_type": "code",
   "execution_count": 22,
   "metadata": {},
   "outputs": [
    {
     "data": {
      "text/plain": [
       "array([[<AxesSubplot:title={'center':'avg_mileage'}>]], dtype=object)"
      ]
     },
     "execution_count": 22,
     "metadata": {},
     "output_type": "execute_result"
    },
    {
     "data": {
      "image/png": "[encoded data removed]",
      "text/plain": [
       "<Figure size 288x144 with 1 Axes>"
      ]
     },
     "metadata": {
      "needs_background": "light"
     },
     "output_type": "display_data"
    },
    {
     "data": {
      "image/png": "[encoded data removed]",
      "text/plain": [
       "<Figure size 288x144 with 1 Axes>"
      ]
     },
     "metadata": {
      "needs_background": "light"
     },
     "output_type": "display_data"
    }
   ],
   "source": [
    "data_new.hist('avg_mileage', bins=30, range=(0, 80000),figsize=(4, 2))\n",
    "data.hist('avg_mileage', bins=50, range=(0, 120000),figsize=(4, 2))"
   ]
  },
  {
   "cell_type": "markdown",
   "metadata": {},
   "source": [
    "Conclusion: right-skewed distribution, the peak of the histogram is between 0 and 20,000, and the median is 15152. There are not many cars with very high mileage, while the average price is 17618. The trend is more clear in the new histogram."
   ]
  },
  {
   "cell_type": "code",
   "execution_count": 23,
   "metadata": {},
   "outputs": [
    {
     "data": {
      "text/plain": [
       "array([[<AxesSubplot:title={'center':'cylinders'}>]], dtype=object)"
      ]
     },
     "execution_count": 23,
     "metadata": {},
     "output_type": "execute_result"
    },
    {
     "data": {
      "image/png": "[encoded data removed]",
      "text/plain": [
       "<Figure size 288x144 with 1 Axes>"
      ]
     },
     "metadata": {
      "needs_background": "light"
     },
     "output_type": "display_data"
    },
    {
     "data": {
      "image/png": "[encoded data removed]",
      "text/plain": [
       "<Figure size 288x144 with 1 Axes>"
      ]
     },
     "metadata": {
      "needs_background": "light"
     },
     "output_type": "display_data"
    }
   ],
   "source": [
    "data_new.hist('cylinders', bins=5, range=(4, 8),figsize=(4, 2))\n",
    "data.hist('cylinders', bins=40, range=(2, 12),figsize=(4, 2))"
   ]
  },
  {
   "cell_type": "markdown",
   "metadata": {},
   "source": [
    "Conclusion: we have 3 main values, meaning most of the cars has 4,6,or 8 cylinders.\n",
    "The new hisogram show that the most frequent value is 8 while the average number of cylinders is 6."
   ]
  },
  {
   "cell_type": "code",
   "execution_count": 24,
   "metadata": {},
   "outputs": [
    {
     "data": {
      "text/plain": [
       "array([[<AxesSubplot:title={'center':'condition'}>]], dtype=object)"
      ]
     },
     "execution_count": 24,
     "metadata": {},
     "output_type": "execute_result"
    },
    {
     "data": {
      "image/png": "[encoded data removed]",
      "text/plain": [
       "<Figure size 288x144 with 1 Axes>"
      ]
     },
     "metadata": {
      "needs_background": "light"
     },
     "output_type": "display_data"
    },
    {
     "data": {
      "image/png": "[encoded data removed]",
      "text/plain": [
       "<Figure size 288x144 with 1 Axes>"
      ]
     },
     "metadata": {
      "needs_background": "light"
     },
     "output_type": "display_data"
    }
   ],
   "source": [
    "data_new.hist('condition', bins=10, range=(0, 5),figsize=(4, 2))\n",
    "data.hist('condition', bins=20, range=(0, 5),figsize=(4, 2))"
   ]
  },
  {
   "cell_type": "markdown",
   "metadata": {},
   "source": [
    "Conclusion: left-skewed distribution, the peak of the histogram is 3 (excellent), while the average is slightly lower(2.6), \n",
    "meaning that most of the cars are either in a good or excellent condition.\n",
    "It's logical, we would expect that most of the cars will be in medium condition, and there won't be a lot of cars in salvage or new condition."
   ]
  },
  {
   "cell_type": "code",
   "execution_count": 25,
   "metadata": {},
   "outputs": [
    {
     "name": "stdout",
     "output_type": "stream",
     "text": [
      "10.0\n",
      "77.0\n"
     ]
    },
    {
     "data": {
      "image/png": "[encoded data removed]",
      "text/plain": [
       "<Figure size 288x144 with 1 Axes>"
      ]
     },
     "metadata": {
      "needs_background": "light"
     },
     "output_type": "display_data"
    }
   ],
   "source": [
    "data_new.hist('days_listed', bins=30, range=(0, 180),figsize=(4, 2))\n",
    "data_new.describe()\n",
    "print(data_new['days_listed'].quantile(0.1))\n",
    "print(data_new['days_listed'].quantile(0.9))"
   ]
  },
  {
   "cell_type": "markdown",
   "metadata": {},
   "source": [
    "Advertisements were displayed on average 39.6 days, and the median is 33.\n",
    "10% of the ads were removed in the first 10 days, 90% of the ads were removed in the first 77 days.\n"
   ]
  },
  {
   "cell_type": "code",
   "execution_count": 26,
   "metadata": {
    "scrolled": true
   },
   "outputs": [
    {
     "name": "stdout",
     "output_type": "stream",
     "text": [
      "SUV            12015\n",
      "sedan          11706\n",
      "truck          11608\n",
      "pickup          6744\n",
      "coupe           2071\n",
      "wagon           1533\n",
      "mini-van        1149\n",
      "hatchback       1024\n",
      "van              603\n",
      "convertible      392\n",
      "other            249\n",
      "offroad          209\n",
      "bus               11\n",
      "Name: type, dtype: int64\n",
      "\n",
      "Top 2: \n",
      " SUV      12015\n",
      "sedan    11706\n",
      "Name: type, dtype: int64\n"
     ]
    },
    {
     "data": {
      "image/png": "[encoded data removed]",
      "text/plain": [
       "<Figure size 720x216 with 1 Axes>"
      ]
     },
     "metadata": {
      "needs_background": "light"
     },
     "output_type": "display_data"
    }
   ],
   "source": [
    "#Analyze of the number of ads and the average price for each type of vehicle.\n",
    "data_price_type = data_new.pivot_table(index='type',values = 'price', aggfunc=['mean', 'count'])\n",
    "data_price_type.plot(figsize=(10, 3), kind='bar')\n",
    "\n",
    "#Selecting the two types with the greatest number of ads\n",
    "print(data_new['type'].value_counts())\n",
    "print(\"\")\n",
    "print('Top 2: \\n',data_new['type'].value_counts().head(2))"
   ]
  },
  {
   "cell_type": "code",
   "execution_count": 27,
   "metadata": {
    "scrolled": true
   },
   "outputs": [
    {
     "name": "stdout",
     "output_type": "stream",
     "text": [
      "Correlation:\n",
      "price and age: -0.5438644361141516\n",
      "price and avg_mileage: 0.21142896169481276\n",
      "price and condition: 0.2422259701272988\n",
      "price and transmission: 0.10484117798254844\n",
      "price and Color: 0.012406555155039382\n"
     ]
    }
   ],
   "source": [
    "#check the correlation between price and age,mileage and condition:\n",
    "print('Correlation:')\n",
    "print('price and age:', data_new['price'].corr(data_new['age']))\n",
    "print('price and avg_mileage:',data_new['price'].corr(data_new['avg_mileage']))\n",
    "print('price and condition:',data_new['price'].corr(data_new['condition']))\n",
    "print('price and transmission:',data_new['price'].corr(data_new['transmission'].astype('category').cat.codes))\n",
    "print('price and Color:',data_new['price'].corr(data_new['paint_color'].astype('category').cat.codes))\n",
    "\n"
   ]
  },
  {
   "cell_type": "code",
   "execution_count": 29,
   "metadata": {
    "scrolled": false
   },
   "outputs": [
    {
     "name": "stdout",
     "output_type": "stream",
     "text": [
      "[<matplotlib.lines.Line2D object at 0x000001E1A3381F10>]\n"
     ]
    },
    {
     "data": {
      "image/png": "[encoded data removed]",
      "text/plain": [
       "<Figure size 432x288 with 1 Axes>"
      ]
     },
     "metadata": {
      "needs_background": "light"
     },
     "output_type": "display_data"
    }
   ],
   "source": [
    "\n",
    "#new data frames for the popular types:\n",
    "data_new_SUV =  data_new[data_new['type'] == 'SUV']\n",
    "data_new_sedan = data_new[data_new['type'] == 'sedan']\n",
    "\n",
    "#\n",
    "\n",
    "x_SUV = data_new_SUV['age']\n",
    "y_SUV = data_new_SUV['price']\n",
    "\n",
    "print(plt.plot(x_SUV, y_SUV, 'o', color='black'))"
   ]
  },
  {
   "cell_type": "code",
   "execution_count": 30,
   "metadata": {},
   "outputs": [
    {
     "name": "stdout",
     "output_type": "stream",
     "text": [
      "[<matplotlib.lines.Line2D object at 0x000001E1A31A0A00>]\n"
     ]
    },
    {
     "data": {
      "image/png": "[encoded data removed]",
      "text/plain": [
       "<Figure size 432x288 with 1 Axes>"
      ]
     },
     "metadata": {
      "needs_background": "light"
     },
     "output_type": "display_data"
    }
   ],
   "source": [
    "x_sedan = data_new_sedan['age']\n",
    "y_sedan = data_new_sedan['price']\n",
    "\n",
    "print(plt.plot(x_sedan, y_sedan, 'o', color='black'))"
   ]
  },
  {
   "cell_type": "markdown",
   "metadata": {},
   "source": [
    "Conclusion: new cars have higher price than old cars"
   ]
  },
  {
   "cell_type": "code",
   "execution_count": 31,
   "metadata": {},
   "outputs": [
    {
     "data": {
      "image/png": "[encoded data removed]",
      "text/plain": [
       "<Figure size 432x288 with 1 Axes>"
      ]
     },
     "metadata": {
      "needs_background": "light"
     },
     "output_type": "display_data"
    }
   ],
   "source": [
    "x = data_new_SUV['avg_mileage']\n",
    "y = data_new_SUV['price']\n",
    "\n",
    "plt.plot(x, y, 'o', color='black');"
   ]
  },
  {
   "cell_type": "code",
   "execution_count": 32,
   "metadata": {},
   "outputs": [
    {
     "data": {
      "image/png": "[encoded data removed]",
      "text/plain": [
       "<Figure size 432x288 with 1 Axes>"
      ]
     },
     "metadata": {
      "needs_background": "light"
     },
     "output_type": "display_data"
    }
   ],
   "source": [
    "x = data_new_sedan['avg_mileage']\n",
    "y = data_new_sedan['price']\n",
    "\n",
    "plt.plot(x, y, 'o', color='black');"
   ]
  },
  {
   "cell_type": "markdown",
   "metadata": {},
   "source": [
    "Conclusion: there is a price limit for cars with high mileage. Most of the ads are cars with low mileage and low price."
   ]
  },
  {
   "cell_type": "code",
   "execution_count": 33,
   "metadata": {},
   "outputs": [
    {
     "data": {
      "image/png": "[encoded data removed]",
      "text/plain": [
       "<Figure size 432x288 with 1 Axes>"
      ]
     },
     "metadata": {
      "needs_background": "light"
     },
     "output_type": "display_data"
    }
   ],
   "source": [
    "x = data_new_SUV['condition']\n",
    "y = data_new_SUV['price']\n",
    "\n",
    "plt.plot(x, y, 'o', color='black');"
   ]
  },
  {
   "cell_type": "code",
   "execution_count": 34,
   "metadata": {},
   "outputs": [
    {
     "data": {
      "image/png": "[encoded data removed]",
      "text/plain": [
       "<Figure size 432x288 with 1 Axes>"
      ]
     },
     "metadata": {
      "needs_background": "light"
     },
     "output_type": "display_data"
    }
   ],
   "source": [
    "x = data_new_sedan['condition']\n",
    "y = data_new_sedan['price']\n",
    "\n",
    "plt.plot(x, y, 'o', color='black');"
   ]
  },
  {
   "cell_type": "markdown",
   "metadata": {},
   "source": [
    "Conclusion: cars with good, excellent and like new condition has the highest price, we would expect cars with new condition to have the highest price, but this is not the case."
   ]
  },
  {
   "cell_type": "code",
   "execution_count": 57,
   "metadata": {},
   "outputs": [
    {
     "data": {
      "image/png": "[encoded data removed]",
      "text/plain": [
       "<Figure size 648x360 with 1 Axes>"
      ]
     },
     "metadata": {
      "needs_background": "light"
     },
     "output_type": "display_data"
    },
    {
     "data": {
      "image/png": "[encoded data removed]",
      "text/plain": [
       "<Figure size 648x360 with 1 Axes>"
      ]
     },
     "metadata": {
      "needs_background": "light"
     },
     "output_type": "display_data"
    }
   ],
   "source": [
    "import seaborn as sns\n",
    "\n",
    "# price Vs transmission type:\n",
    "plt.figure(figsize=(9,5))\n",
    "sns.boxplot(x=data_new_sedan.transmission, y=data_new_sedan.price)\n",
    "plt.title('car price Vs. transmission');\n",
    "\n",
    "# price Vs paint_color type:\n",
    "plt.figure(figsize=(9,5))\n",
    "sns.boxplot(x=data_new_sedan.paint_color, y=data_new_sedan.price)\n",
    "plt.title('car price Vs. paint_color');"
   ]
  },
  {
   "cell_type": "markdown",
   "metadata": {},
   "source": [
    "Conclusion: for sedan, the price of automatic cars is much higher than manual cars. For SUV's manual is higher than automatic.\n",
    "For both types, 'Other' has the highest prices on average."
   ]
  },
  {
   "cell_type": "code",
   "execution_count": 50,
   "metadata": {},
   "outputs": [
    {
     "data": {
      "text/plain": [
       "Text(0.5, 1.0, 'car price Vs. paint_color')"
      ]
     },
     "execution_count": 50,
     "metadata": {},
     "output_type": "execute_result"
    },
    {
     "data": {
      "image/png": "[encoded data removed]",
      "text/plain": [
       "<Figure size 648x360 with 1 Axes>"
      ]
     },
     "metadata": {
      "needs_background": "light"
     },
     "output_type": "display_data"
    },
    {
     "data": {
      "image/png": "[encoded data removed]",
      "text/plain": [
       "<Figure size 648x360 with 1 Axes>"
      ]
     },
     "metadata": {
      "needs_background": "light"
     },
     "output_type": "display_data"
    }
   ],
   "source": [
    "# price Vs transmission type:\n",
    "plt.figure(figsize=(9,5))\n",
    "sns.boxplot(x=data_new_SUV.transmission, y=data_new_SUV.price)\n",
    "plt.title('car price Vs. transmission')\n",
    "\n",
    "plt.figure(figsize=(9,5))\n",
    "sns.boxplot(x=data_new_SUV.paint_color, y=data_new_SUV.price)\n",
    "plt.title('car price Vs. paint_color')"
   ]
  },
  {
   "cell_type": "markdown",
   "metadata": {},
   "source": [
    "Conclusion: it seems that the price of orange cars is higher than the rest of the colors. The price of black and white cars are also high.\n",
    "In SUV's we also see that the price of yellow color is also high."
   ]
  },
  {
   "cell_type": "markdown",
   "metadata": {},
   "source": [
    "## Overall conclusion"
   ]
  },
  {
   "cell_type": "markdown",
   "metadata": {},
   "source": [
    "The data was imported and examined, the file contains 51525 ads for vehicles with 13 different parameters. Data preprocessing was made by filling in missing values: \n",
    "Missing values in the is_4wd column were filled by 0.\n",
    "Missing values in the paint_color column were filled by 'other'.\n",
    "Missing values in the odometer and cylindars column were filled with the nedian value.\n",
    "Missing values in the model_year column were filled by the most common value for each year. \n",
    "\n",
    "Data were categorized, conditionm, model_year, cylinders and odometer columns were converted to a numeric scale, is_4wd converted to bool. date_posted column was converted to DateTime format and columns for vehicle's age (in years) and vehicle's average mileage per year were added. Outliers that might interfere with the analysis were removed and the clean data was saved for later analysis.\n",
    "\n",
    "Exploratory data analysis was made by analyzing the number of ads and the average price for each type of vehicle, two types with the greatest number of ads were selected for further analysis(SUV and Sedan).\n",
    "Scatterplots, and box plots for categorical variables were added.\n",
    "\n",
    "Main findings:\n",
    "\n",
    "Analysis showed a positive correlation between price and the Condition, and Mileage. Meaning these variables has the most impact on the price. Transmission and color also showed positive correlation.\n",
    "\n",
    "New cars have a higher price than old cars while there is a price limit for cars with high mileage. Most of the ads are for cars with low mileage and low price.\n",
    "Cars with good, excellent and like-new conditions have the highest price, we would expect cars with the new condition to have the highest price, but this is not the case. One of the reasons for that might be that the number of ads with the new conditions is very small.\n",
    "The price of black and white cars is higher than the rst of the colors, meaning these colors are more popular.\n",
    "Orange and yellow colors can also affect the price of the car.\n",
    "For sedan, the price of automatic cars is much higher than manual cars, for SUV's manual is higher than automatic.\n",
    "For both types, 'Other' has the highest prices on average."
   ]
  }
 ],
 "metadata": {
  "ExecuteTimeLog": [
   {
    "duration": 1024,
    "start_time": "2021-06-29T11:39:48.170Z"
   },
   {
    "duration": 14,
    "start_time": "2021-06-29T12:42:03.572Z"
   },
   {
    "duration": 12,
    "start_time": "2021-06-29T12:53:54.367Z"
   },
   {
    "duration": 428,
    "start_time": "2021-06-29T12:54:17.981Z"
   },
   {
    "duration": 277,
    "start_time": "2021-06-29T12:54:20.973Z"
   },
   {
    "duration": 11,
    "start_time": "2021-06-29T12:54:36.080Z"
   },
   {
    "duration": 167,
    "start_time": "2021-06-29T13:07:53.132Z"
   },
   {
    "duration": 5,
    "start_time": "2021-06-29T13:10:39.661Z"
   },
   {
    "duration": 375,
    "start_time": "2021-06-30T08:21:48.840Z"
   },
   {
    "duration": 893,
    "start_time": "2021-06-30T08:21:53.686Z"
   },
   {
    "duration": 12,
    "start_time": "2021-06-30T08:21:58.596Z"
   },
   {
    "duration": 14,
    "start_time": "2021-06-30T08:22:01.381Z"
   },
   {
    "duration": 6,
    "start_time": "2021-06-30T08:38:24.477Z"
   },
   {
    "duration": 9,
    "start_time": "2021-06-30T08:43:36.539Z"
   },
   {
    "duration": 318,
    "start_time": "2021-06-30T08:44:58.653Z"
   },
   {
    "duration": 28,
    "start_time": "2021-06-30T08:45:04.356Z"
   },
   {
    "duration": 268,
    "start_time": "2021-06-30T08:45:38.541Z"
   },
   {
    "duration": 16,
    "start_time": "2021-06-30T08:46:08.213Z"
   },
   {
    "duration": 6,
    "start_time": "2021-06-30T08:56:36.325Z"
   },
   {
    "duration": 7,
    "start_time": "2021-06-30T08:56:50.338Z"
   },
   {
    "duration": 28,
    "start_time": "2021-06-30T08:57:06.215Z"
   },
   {
    "duration": 10,
    "start_time": "2021-06-30T09:00:09.522Z"
   },
   {
    "duration": 25,
    "start_time": "2021-06-30T09:01:13.693Z"
   },
   {
    "duration": 6,
    "start_time": "2021-06-30T09:05:34.287Z"
   },
   {
    "duration": 22,
    "start_time": "2021-06-30T09:08:43.595Z"
   },
   {
    "duration": 22,
    "start_time": "2021-06-30T09:09:17.099Z"
   },
   {
    "duration": 272,
    "start_time": "2021-06-30T09:09:39.979Z"
   },
   {
    "duration": 260,
    "start_time": "2021-06-30T09:09:46.963Z"
   },
   {
    "duration": 23,
    "start_time": "2021-06-30T09:09:51.179Z"
   },
   {
    "duration": 25,
    "start_time": "2021-06-30T09:09:58.525Z"
   },
   {
    "duration": 242,
    "start_time": "2021-06-30T09:10:38.005Z"
   },
   {
    "duration": 40,
    "start_time": "2021-06-30T09:10:48.756Z"
   },
   {
    "duration": 41,
    "start_time": "2021-06-30T09:11:02.670Z"
   },
   {
    "duration": 234,
    "start_time": "2021-06-30T09:11:40.433Z"
   },
   {
    "duration": 24,
    "start_time": "2021-06-30T09:11:45.550Z"
   },
   {
    "duration": 23,
    "start_time": "2021-06-30T09:12:02.374Z"
   },
   {
    "duration": 24,
    "start_time": "2021-06-30T09:12:20.894Z"
   },
   {
    "duration": 7,
    "start_time": "2021-06-30T09:16:38.221Z"
   },
   {
    "duration": 6,
    "start_time": "2021-06-30T09:16:48.658Z"
   },
   {
    "duration": 331,
    "start_time": "2021-06-30T09:17:08.829Z"
   },
   {
    "duration": 92,
    "start_time": "2021-06-30T09:17:25.436Z"
   },
   {
    "duration": 9,
    "start_time": "2021-06-30T09:17:29.052Z"
   },
   {
    "duration": 290,
    "start_time": "2021-06-30T09:17:37.221Z"
   },
   {
    "duration": 10,
    "start_time": "2021-06-30T09:17:40.962Z"
   },
   {
    "duration": 6,
    "start_time": "2021-06-30T09:19:12.366Z"
   },
   {
    "duration": 6,
    "start_time": "2021-06-30T09:19:18.563Z"
   },
   {
    "duration": 6,
    "start_time": "2021-06-30T09:19:30.556Z"
   },
   {
    "duration": 7,
    "start_time": "2021-06-30T09:19:34.342Z"
   },
   {
    "duration": 271,
    "start_time": "2021-06-30T09:21:03.262Z"
   },
   {
    "duration": 22,
    "start_time": "2021-06-30T09:21:09.248Z"
   },
   {
    "duration": 237,
    "start_time": "2021-06-30T09:21:43.047Z"
   },
   {
    "duration": 286,
    "start_time": "2021-06-30T09:22:02.319Z"
   },
   {
    "duration": 151,
    "start_time": "2021-06-30T09:22:06.713Z"
   },
   {
    "duration": 24,
    "start_time": "2021-06-30T09:22:17.937Z"
   },
   {
    "duration": 32,
    "start_time": "2021-06-30T09:23:29.801Z"
   },
   {
    "duration": 34,
    "start_time": "2021-06-30T09:23:42.149Z"
   },
   {
    "duration": 271,
    "start_time": "2021-06-30T09:24:09.292Z"
   },
   {
    "duration": 34,
    "start_time": "2021-06-30T09:24:24.284Z"
   },
   {
    "duration": 33,
    "start_time": "2021-06-30T09:24:36.956Z"
   },
   {
    "duration": 284,
    "start_time": "2021-06-30T09:24:48.274Z"
   },
   {
    "duration": 32,
    "start_time": "2021-06-30T09:24:56.155Z"
   },
   {
    "duration": 6,
    "start_time": "2021-06-30T09:25:50.558Z"
   },
   {
    "duration": 248,
    "start_time": "2021-06-30T09:26:42.999Z"
   },
   {
    "duration": 6,
    "start_time": "2021-06-30T09:26:49.635Z"
   },
   {
    "duration": 6,
    "start_time": "2021-06-30T09:26:54.791Z"
   },
   {
    "duration": 7,
    "start_time": "2021-06-30T09:27:00.532Z"
   },
   {
    "duration": 6,
    "start_time": "2021-06-30T09:27:04.363Z"
   },
   {
    "duration": 7,
    "start_time": "2021-06-30T09:28:42.182Z"
   },
   {
    "duration": 7,
    "start_time": "2021-06-30T09:28:46.029Z"
   },
   {
    "duration": 7,
    "start_time": "2021-06-30T09:28:54.228Z"
   },
   {
    "duration": 32,
    "start_time": "2021-06-30T09:29:33.063Z"
   },
   {
    "duration": 32,
    "start_time": "2021-06-30T09:29:42.473Z"
   },
   {
    "duration": 35,
    "start_time": "2021-06-30T09:38:14.560Z"
   },
   {
    "duration": 37,
    "start_time": "2021-06-30T09:38:27.153Z"
   },
   {
    "duration": 13,
    "start_time": "2021-06-30T11:36:42.081Z"
   },
   {
    "duration": 8,
    "start_time": "2021-06-30T11:38:10.551Z"
   },
   {
    "duration": 7,
    "start_time": "2021-06-30T11:38:40.024Z"
   },
   {
    "duration": 8,
    "start_time": "2021-06-30T11:41:23.331Z"
   },
   {
    "duration": 9,
    "start_time": "2021-06-30T11:41:46.401Z"
   },
   {
    "duration": 11,
    "start_time": "2021-06-30T11:45:13.737Z"
   },
   {
    "duration": 14,
    "start_time": "2021-06-30T11:47:21.433Z"
   },
   {
    "duration": 14,
    "start_time": "2021-06-30T11:47:28.936Z"
   },
   {
    "duration": 14,
    "start_time": "2021-06-30T11:48:01.962Z"
   },
   {
    "duration": 17,
    "start_time": "2021-06-30T11:48:06.114Z"
   },
   {
    "duration": 15,
    "start_time": "2021-06-30T11:48:11.642Z"
   },
   {
    "duration": 83,
    "start_time": "2021-06-30T11:49:26.538Z"
   },
   {
    "duration": 15,
    "start_time": "2021-06-30T11:50:25.564Z"
   },
   {
    "duration": 16,
    "start_time": "2021-06-30T11:50:30.980Z"
   },
   {
    "duration": 268,
    "start_time": "2021-06-30T11:50:35.499Z"
   },
   {
    "duration": 18,
    "start_time": "2021-06-30T11:50:39.187Z"
   },
   {
    "duration": 18,
    "start_time": "2021-06-30T11:51:33.768Z"
   },
   {
    "duration": 18,
    "start_time": "2021-06-30T11:51:36.885Z"
   },
   {
    "duration": 14,
    "start_time": "2021-06-30T12:25:59.696Z"
   },
   {
    "duration": 20,
    "start_time": "2021-06-30T12:26:07.287Z"
   },
   {
    "duration": 36,
    "start_time": "2021-06-30T12:33:07.814Z"
   },
   {
    "duration": 26,
    "start_time": "2021-06-30T12:33:40.823Z"
   },
   {
    "duration": 35,
    "start_time": "2021-06-30T12:34:13.487Z"
   },
   {
    "duration": 34,
    "start_time": "2021-06-30T12:34:27.496Z"
   },
   {
    "duration": 36,
    "start_time": "2021-06-30T12:34:41.654Z"
   },
   {
    "duration": 49,
    "start_time": "2021-06-30T12:38:18.112Z"
   },
   {
    "duration": 27,
    "start_time": "2021-06-30T12:39:11.715Z"
   },
   {
    "duration": 197,
    "start_time": "2021-06-30T12:39:43.276Z"
   },
   {
    "duration": 11,
    "start_time": "2021-06-30T12:39:46.755Z"
   },
   {
    "duration": 5,
    "start_time": "2021-06-30T12:39:49.651Z"
   },
   {
    "duration": 11,
    "start_time": "2021-06-30T12:39:53.116Z"
   },
   {
    "duration": 6,
    "start_time": "2021-06-30T12:39:55.179Z"
   },
   {
    "duration": 30,
    "start_time": "2021-06-30T12:39:56.771Z"
   },
   {
    "duration": 73,
    "start_time": "2021-06-30T12:56:58.996Z"
   },
   {
    "duration": 245,
    "start_time": "2021-06-30T14:15:54.795Z"
   },
   {
    "duration": 49,
    "start_time": "2021-06-30T14:16:02.498Z"
   },
   {
    "duration": 193,
    "start_time": "2021-06-30T14:17:55.629Z"
   },
   {
    "duration": 84,
    "start_time": "2021-06-30T14:18:18.172Z"
   },
   {
    "duration": 127,
    "start_time": "2021-06-30T14:18:20.260Z"
   },
   {
    "duration": 137,
    "start_time": "2021-06-30T14:18:33.998Z"
   },
   {
    "duration": 193,
    "start_time": "2021-06-30T14:19:24.162Z"
   },
   {
    "duration": 17,
    "start_time": "2021-06-30T14:19:27.974Z"
   },
   {
    "duration": 6,
    "start_time": "2021-06-30T14:19:35.209Z"
   },
   {
    "duration": 11,
    "start_time": "2021-06-30T14:19:37.223Z"
   },
   {
    "duration": 6,
    "start_time": "2021-06-30T14:19:39.014Z"
   },
   {
    "duration": 35,
    "start_time": "2021-06-30T14:19:42.110Z"
   },
   {
    "duration": 45,
    "start_time": "2021-06-30T14:19:53.494Z"
   },
   {
    "duration": 30,
    "start_time": "2021-06-30T14:20:17.625Z"
   },
   {
    "duration": 188,
    "start_time": "2021-06-30T14:20:20.798Z"
   },
   {
    "duration": 155,
    "start_time": "2021-06-30T14:20:34.222Z"
   },
   {
    "duration": 185,
    "start_time": "2021-06-30T14:27:29.463Z"
   },
   {
    "duration": 15,
    "start_time": "2021-06-30T14:27:32.134Z"
   },
   {
    "duration": 5,
    "start_time": "2021-06-30T14:27:42.173Z"
   },
   {
    "duration": 8,
    "start_time": "2021-06-30T14:27:44.353Z"
   },
   {
    "duration": 6,
    "start_time": "2021-06-30T14:27:46.030Z"
   },
   {
    "duration": 27,
    "start_time": "2021-06-30T14:27:47.801Z"
   },
   {
    "duration": 45,
    "start_time": "2021-06-30T14:27:50.197Z"
   },
   {
    "duration": 187,
    "start_time": "2021-06-30T14:31:11.916Z"
   },
   {
    "duration": 13,
    "start_time": "2021-06-30T14:31:14.624Z"
   },
   {
    "duration": 195,
    "start_time": "2021-06-30T14:31:40.756Z"
   },
   {
    "duration": 192,
    "start_time": "2021-06-30T14:32:04.142Z"
   },
   {
    "duration": 195,
    "start_time": "2021-06-30T14:32:18.346Z"
   },
   {
    "duration": 190,
    "start_time": "2021-06-30T14:32:44.299Z"
   },
   {
    "duration": 5,
    "start_time": "2021-06-30T14:33:10.187Z"
   },
   {
    "duration": 8,
    "start_time": "2021-06-30T14:33:11.699Z"
   },
   {
    "duration": 5,
    "start_time": "2021-06-30T14:33:13.132Z"
   },
   {
    "duration": 29,
    "start_time": "2021-06-30T14:33:14.907Z"
   },
   {
    "duration": 14,
    "start_time": "2021-06-30T14:33:24.339Z"
   },
   {
    "duration": 579,
    "start_time": "2021-06-30T14:33:43.563Z"
   },
   {
    "duration": 20,
    "start_time": "2021-06-30T14:34:04.043Z"
   },
   {
    "duration": 188,
    "start_time": "2021-06-30T14:35:27.533Z"
   },
   {
    "duration": 5,
    "start_time": "2021-06-30T14:35:30.717Z"
   },
   {
    "duration": 8,
    "start_time": "2021-06-30T14:35:32.277Z"
   },
   {
    "duration": 6,
    "start_time": "2021-06-30T14:35:33.743Z"
   },
   {
    "duration": 29,
    "start_time": "2021-06-30T14:35:35.568Z"
   },
   {
    "duration": 138,
    "start_time": "2021-06-30T14:35:39.549Z"
   },
   {
    "duration": 21,
    "start_time": "2021-06-30T14:40:37.902Z"
   },
   {
    "duration": 179,
    "start_time": "2021-06-30T14:41:39.486Z"
   },
   {
    "duration": 188,
    "start_time": "2021-06-30T14:41:51.820Z"
   },
   {
    "duration": 190,
    "start_time": "2021-06-30T14:43:12.397Z"
   },
   {
    "duration": 6,
    "start_time": "2021-06-30T14:43:15.902Z"
   },
   {
    "duration": 12,
    "start_time": "2021-06-30T14:43:18.293Z"
   },
   {
    "duration": 8,
    "start_time": "2021-06-30T14:43:19.933Z"
   },
   {
    "duration": 43,
    "start_time": "2021-06-30T14:43:22.791Z"
   },
   {
    "duration": 238,
    "start_time": "2021-06-30T14:43:27.765Z"
   },
   {
    "duration": 21,
    "start_time": "2021-06-30T14:43:32.462Z"
   },
   {
    "duration": 23,
    "start_time": "2021-06-30T14:44:24.095Z"
   },
   {
    "duration": 24,
    "start_time": "2021-06-30T14:44:36.623Z"
   },
   {
    "duration": 6,
    "start_time": "2021-06-30T14:44:49.656Z"
   },
   {
    "duration": 273,
    "start_time": "2021-06-30T15:39:39.096Z"
   },
   {
    "duration": 269,
    "start_time": "2021-06-30T15:39:51.797Z"
   },
   {
    "duration": 269,
    "start_time": "2021-06-30T15:41:10.375Z"
   },
   {
    "duration": 550,
    "start_time": "2021-06-30T15:50:13.480Z"
   },
   {
    "duration": 287,
    "start_time": "2021-06-30T15:53:06.748Z"
   },
   {
    "duration": -75,
    "start_time": "2021-06-30T15:53:22.311Z"
   },
   {
    "duration": 261,
    "start_time": "2021-06-30T15:58:30.544Z"
   },
   {
    "duration": 52,
    "start_time": "2021-06-30T16:00:46.370Z"
   },
   {
    "duration": 34,
    "start_time": "2021-06-30T16:00:54.705Z"
   },
   {
    "duration": 35,
    "start_time": "2021-06-30T16:01:01.634Z"
   },
   {
    "duration": 7,
    "start_time": "2021-06-30T16:02:05.100Z"
   },
   {
    "duration": 31,
    "start_time": "2021-06-30T16:02:17.308Z"
   },
   {
    "duration": 5,
    "start_time": "2021-06-30T16:02:19.883Z"
   },
   {
    "duration": 6,
    "start_time": "2021-06-30T16:02:38.276Z"
   },
   {
    "duration": 936,
    "start_time": "2021-07-01T08:36:28.580Z"
   },
   {
    "duration": 5,
    "start_time": "2021-07-01T08:36:33.418Z"
   },
   {
    "duration": 9,
    "start_time": "2021-07-01T08:36:35.258Z"
   },
   {
    "duration": 6,
    "start_time": "2021-07-01T08:36:38.033Z"
   },
   {
    "duration": 33,
    "start_time": "2021-07-01T08:36:40.389Z"
   },
   {
    "duration": 163,
    "start_time": "2021-07-01T08:36:45.798Z"
   },
   {
    "duration": 46,
    "start_time": "2021-07-01T08:36:49.771Z"
   },
   {
    "duration": 11,
    "start_time": "2021-07-01T08:36:53.715Z"
   },
   {
    "duration": 6,
    "start_time": "2021-07-01T08:36:55.653Z"
   },
   {
    "duration": 381,
    "start_time": "2021-07-01T08:52:30.623Z"
   },
   {
    "duration": 555,
    "start_time": "2021-07-01T08:52:42.949Z"
   },
   {
    "duration": 354,
    "start_time": "2021-07-01T08:52:47.372Z"
   },
   {
    "duration": 296,
    "start_time": "2021-07-01T08:52:52.395Z"
   },
   {
    "duration": 272,
    "start_time": "2021-07-01T09:06:27.522Z"
   },
   {
    "duration": 275,
    "start_time": "2021-07-01T09:06:54.051Z"
   },
   {
    "duration": 303,
    "start_time": "2021-07-01T09:07:31.482Z"
   },
   {
    "duration": 276,
    "start_time": "2021-07-01T09:08:45.952Z"
   },
   {
    "duration": 522,
    "start_time": "2021-07-01T09:08:52.668Z"
   },
   {
    "duration": 282,
    "start_time": "2021-07-01T09:08:59.403Z"
   },
   {
    "duration": 270,
    "start_time": "2021-07-01T09:09:08.533Z"
   },
   {
    "duration": 280,
    "start_time": "2021-07-01T09:09:15.075Z"
   },
   {
    "duration": 351,
    "start_time": "2021-07-01T09:09:27.726Z"
   },
   {
    "duration": 293,
    "start_time": "2021-07-01T09:09:32.903Z"
   },
   {
    "duration": 301,
    "start_time": "2021-07-01T09:09:44.625Z"
   },
   {
    "duration": 281,
    "start_time": "2021-07-01T09:10:07.437Z"
   },
   {
    "duration": 296,
    "start_time": "2021-07-01T09:10:31.357Z"
   },
   {
    "duration": 282,
    "start_time": "2021-07-01T09:10:37.840Z"
   },
   {
    "duration": 296,
    "start_time": "2021-07-01T09:10:43.093Z"
   },
   {
    "duration": 303,
    "start_time": "2021-07-01T09:10:47.949Z"
   },
   {
    "duration": 336,
    "start_time": "2021-07-01T09:10:51.991Z"
   },
   {
    "duration": 300,
    "start_time": "2021-07-01T09:11:48.238Z"
   },
   {
    "duration": 283,
    "start_time": "2021-07-01T09:11:59.191Z"
   },
   {
    "duration": 384,
    "start_time": "2021-07-01T09:12:05.606Z"
   },
   {
    "duration": 306,
    "start_time": "2021-07-01T09:12:20.847Z"
   },
   {
    "duration": 429,
    "start_time": "2021-07-01T09:13:01.240Z"
   },
   {
    "duration": 471,
    "start_time": "2021-07-01T09:13:30.193Z"
   },
   {
    "duration": 33,
    "start_time": "2021-07-01T09:13:41.633Z"
   },
   {
    "duration": 5,
    "start_time": "2021-07-01T09:13:43.227Z"
   },
   {
    "duration": 6,
    "start_time": "2021-07-01T09:13:44.664Z"
   },
   {
    "duration": 296,
    "start_time": "2021-07-01T09:13:47.416Z"
   },
   {
    "duration": 339,
    "start_time": "2021-07-01T09:13:49.879Z"
   },
   {
    "duration": 303,
    "start_time": "2021-07-01T09:13:52.745Z"
   },
   {
    "duration": 381,
    "start_time": "2021-07-01T09:13:55.185Z"
   },
   {
    "duration": 254,
    "start_time": "2021-07-01T09:13:57.529Z"
   },
   {
    "duration": 86,
    "start_time": "2021-07-01T09:16:07.795Z"
   },
   {
    "duration": 506,
    "start_time": "2021-07-01T09:16:12.972Z"
   },
   {
    "duration": 640,
    "start_time": "2021-07-01T09:17:49.734Z"
   },
   {
    "duration": 330,
    "start_time": "2021-07-01T09:17:56.169Z"
   },
   {
    "duration": 303,
    "start_time": "2021-07-01T10:16:01.409Z"
   },
   {
    "duration": 281,
    "start_time": "2021-07-01T10:16:12.025Z"
   },
   {
    "duration": 283,
    "start_time": "2021-07-01T10:16:15.552Z"
   },
   {
    "duration": 372,
    "start_time": "2021-07-01T10:16:19.027Z"
   },
   {
    "duration": 315,
    "start_time": "2021-07-01T10:16:33.457Z"
   },
   {
    "duration": 308,
    "start_time": "2021-07-01T10:16:51.100Z"
   },
   {
    "duration": 319,
    "start_time": "2021-07-01T10:24:41.669Z"
   },
   {
    "duration": 318,
    "start_time": "2021-07-01T10:25:09.537Z"
   },
   {
    "duration": 319,
    "start_time": "2021-07-01T10:25:24.960Z"
   },
   {
    "duration": 327,
    "start_time": "2021-07-01T10:28:29.813Z"
   },
   {
    "duration": 332,
    "start_time": "2021-07-01T10:28:41.453Z"
   },
   {
    "duration": 334,
    "start_time": "2021-07-01T10:29:01.862Z"
   },
   {
    "duration": 462,
    "start_time": "2021-07-01T10:29:16.229Z"
   },
   {
    "duration": 322,
    "start_time": "2021-07-01T10:29:22.829Z"
   },
   {
    "duration": 357,
    "start_time": "2021-07-01T10:31:34.863Z"
   },
   {
    "duration": 309,
    "start_time": "2021-07-01T10:31:39.655Z"
   },
   {
    "duration": 658,
    "start_time": "2021-07-01T10:32:21.672Z"
   },
   {
    "duration": 514,
    "start_time": "2021-07-01T10:32:48.490Z"
   },
   {
    "duration": 957,
    "start_time": "2021-07-01T10:32:54.935Z"
   },
   {
    "duration": 957,
    "start_time": "2021-07-01T10:33:33.172Z"
   },
   {
    "duration": 968,
    "start_time": "2021-07-01T10:34:28.483Z"
   },
   {
    "duration": 1218,
    "start_time": "2021-07-01T10:34:56.003Z"
   },
   {
    "duration": 1234,
    "start_time": "2021-07-01T10:35:10.338Z"
   },
   {
    "duration": 1488,
    "start_time": "2021-07-01T10:35:42.220Z"
   },
   {
    "duration": 1212,
    "start_time": "2021-07-01T10:35:54.006Z"
   },
   {
    "duration": 1918,
    "start_time": "2021-07-01T10:36:24.293Z"
   },
   {
    "duration": 1199,
    "start_time": "2021-07-01T10:36:49.014Z"
   },
   {
    "duration": 1146,
    "start_time": "2021-07-01T10:36:57.764Z"
   },
   {
    "duration": 1126,
    "start_time": "2021-07-01T10:37:08.261Z"
   },
   {
    "duration": 1857,
    "start_time": "2021-07-01T10:40:03.405Z"
   },
   {
    "duration": 1375,
    "start_time": "2021-07-01T10:40:31.080Z"
   },
   {
    "duration": 1330,
    "start_time": "2021-07-01T10:42:29.335Z"
   },
   {
    "duration": 1332,
    "start_time": "2021-07-01T10:59:49.614Z"
   },
   {
    "duration": 1295,
    "start_time": "2021-07-01T11:00:26.645Z"
   },
   {
    "duration": 1139,
    "start_time": "2021-07-01T11:05:08.841Z"
   },
   {
    "duration": 1162,
    "start_time": "2021-07-01T11:05:31.369Z"
   },
   {
    "duration": 1186,
    "start_time": "2021-07-01T11:05:43.122Z"
   },
   {
    "duration": 914,
    "start_time": "2021-07-01T11:08:13.198Z"
   },
   {
    "duration": 269,
    "start_time": "2021-07-01T12:16:10.865Z"
   },
   {
    "duration": 1202,
    "start_time": "2021-07-01T12:16:47.188Z"
   },
   {
    "duration": 1416,
    "start_time": "2021-07-01T12:16:54.089Z"
   },
   {
    "duration": 1184,
    "start_time": "2021-07-01T12:17:03.825Z"
   },
   {
    "duration": 1218,
    "start_time": "2021-07-01T12:17:09.752Z"
   },
   {
    "duration": 1175,
    "start_time": "2021-07-01T12:17:17.696Z"
   },
   {
    "duration": 279,
    "start_time": "2021-07-01T12:19:06.241Z"
   },
   {
    "duration": 283,
    "start_time": "2021-07-01T12:20:38.851Z"
   },
   {
    "duration": 1617,
    "start_time": "2021-07-01T12:23:08.653Z"
   },
   {
    "duration": 1492,
    "start_time": "2021-07-01T12:23:13.136Z"
   },
   {
    "duration": 1470,
    "start_time": "2021-07-01T12:23:30.488Z"
   },
   {
    "duration": 1423,
    "start_time": "2021-07-01T12:24:03.760Z"
   },
   {
    "duration": 1372,
    "start_time": "2021-07-01T12:24:09.568Z"
   },
   {
    "duration": 1409,
    "start_time": "2021-07-01T12:26:27.804Z"
   },
   {
    "duration": 1364,
    "start_time": "2021-07-01T12:26:38.607Z"
   },
   {
    "duration": 1434,
    "start_time": "2021-07-01T12:27:57.955Z"
   },
   {
    "duration": 1313,
    "start_time": "2021-07-01T12:28:14.251Z"
   },
   {
    "duration": 1855,
    "start_time": "2021-07-01T12:28:43.124Z"
   },
   {
    "duration": 1907,
    "start_time": "2021-07-01T12:29:27.229Z"
   },
   {
    "duration": 1376,
    "start_time": "2021-07-01T12:31:22.974Z"
   },
   {
    "duration": 456,
    "start_time": "2021-07-01T12:31:43.110Z"
   },
   {
    "duration": 261,
    "start_time": "2021-07-01T12:31:55.958Z"
   },
   {
    "duration": 1360,
    "start_time": "2021-07-01T12:31:58.311Z"
   },
   {
    "duration": 1059,
    "start_time": "2021-07-01T12:57:53.480Z"
   },
   {
    "duration": 5,
    "start_time": "2021-07-01T12:57:58.618Z"
   },
   {
    "duration": 9,
    "start_time": "2021-07-01T12:58:00.680Z"
   },
   {
    "duration": 6,
    "start_time": "2021-07-01T12:58:02.367Z"
   },
   {
    "duration": 36,
    "start_time": "2021-07-01T12:58:04.377Z"
   },
   {
    "duration": 189,
    "start_time": "2021-07-01T12:58:07.298Z"
   },
   {
    "duration": 40,
    "start_time": "2021-07-01T12:58:10.632Z"
   },
   {
    "duration": 10,
    "start_time": "2021-07-01T12:58:13.112Z"
   },
   {
    "duration": 7,
    "start_time": "2021-07-01T12:58:14.788Z"
   },
   {
    "duration": 1532,
    "start_time": "2021-07-01T12:58:20.597Z"
   },
   {
    "duration": 60,
    "start_time": "2021-07-01T13:01:55.262Z"
   },
   {
    "duration": 103,
    "start_time": "2021-07-01T13:02:23.613Z"
   },
   {
    "duration": 1361,
    "start_time": "2021-07-01T13:25:15.861Z"
   },
   {
    "duration": 1615,
    "start_time": "2021-07-01T13:25:40.163Z"
   },
   {
    "duration": 1572,
    "start_time": "2021-07-01T13:25:50.125Z"
   },
   {
    "duration": 1454,
    "start_time": "2021-07-01T13:27:28.529Z"
   },
   {
    "duration": 1716,
    "start_time": "2021-07-01T13:30:07.408Z"
   },
   {
    "duration": 1634,
    "start_time": "2021-07-01T13:31:34.769Z"
   },
   {
    "duration": 1549,
    "start_time": "2021-07-01T13:39:24.081Z"
   },
   {
    "duration": 1744,
    "start_time": "2021-07-01T13:39:33.400Z"
   },
   {
    "duration": 1800,
    "start_time": "2021-07-01T13:41:22.476Z"
   },
   {
    "duration": 1676,
    "start_time": "2021-07-01T13:41:32.051Z"
   },
   {
    "duration": 1869,
    "start_time": "2021-07-01T13:41:53.156Z"
   },
   {
    "duration": 1877,
    "start_time": "2021-07-01T13:42:14.308Z"
   },
   {
    "duration": 97,
    "start_time": "2021-07-01T14:20:36.061Z"
   },
   {
    "duration": 86,
    "start_time": "2021-07-01T14:21:06.401Z"
   },
   {
    "duration": 106,
    "start_time": "2021-07-01T14:21:12.754Z"
   },
   {
    "duration": 83,
    "start_time": "2021-07-01T14:23:57.151Z"
   },
   {
    "duration": 151,
    "start_time": "2021-07-01T14:24:08.142Z"
   },
   {
    "duration": 409,
    "start_time": "2021-07-01T14:26:08.289Z"
   },
   {
    "duration": 87,
    "start_time": "2021-07-01T14:26:13.698Z"
   },
   {
    "duration": 168,
    "start_time": "2021-07-01T14:26:38.535Z"
   },
   {
    "duration": 288,
    "start_time": "2021-07-01T14:26:47.215Z"
   },
   {
    "duration": 500,
    "start_time": "2021-07-01T14:27:36.594Z"
   },
   {
    "duration": 316,
    "start_time": "2021-07-01T14:28:31.787Z"
   },
   {
    "duration": 284,
    "start_time": "2021-07-01T14:28:44.265Z"
   },
   {
    "duration": 275,
    "start_time": "2021-07-01T14:29:20.421Z"
   },
   {
    "duration": 5,
    "start_time": "2021-07-01T14:30:03.939Z"
   },
   {
    "duration": 101,
    "start_time": "2021-07-01T14:30:17.786Z"
   },
   {
    "duration": 22,
    "start_time": "2021-07-01T14:30:26.795Z"
   },
   {
    "duration": 4,
    "start_time": "2021-07-01T14:32:06.661Z"
   },
   {
    "duration": 1893,
    "start_time": "2021-07-01T14:32:11.558Z"
   },
   {
    "duration": 27,
    "start_time": "2021-07-01T14:32:18.864Z"
   },
   {
    "duration": 26,
    "start_time": "2021-07-01T14:32:48.725Z"
   },
   {
    "duration": 96,
    "start_time": "2021-07-02T07:07:38.502Z"
   },
   {
    "duration": 310,
    "start_time": "2021-07-02T07:07:50.115Z"
   },
   {
    "duration": 253,
    "start_time": "2021-07-02T07:08:03.947Z"
   },
   {
    "duration": 874,
    "start_time": "2021-07-02T07:08:17.586Z"
   },
   {
    "duration": 5,
    "start_time": "2021-07-02T07:08:22.364Z"
   },
   {
    "duration": 8,
    "start_time": "2021-07-02T07:08:23.933Z"
   },
   {
    "duration": 6,
    "start_time": "2021-07-02T07:08:24.968Z"
   },
   {
    "duration": 30,
    "start_time": "2021-07-02T07:08:25.741Z"
   },
   {
    "duration": 180,
    "start_time": "2021-07-02T07:08:27.776Z"
   },
   {
    "duration": 41,
    "start_time": "2021-07-02T07:08:28.411Z"
   },
   {
    "duration": 10,
    "start_time": "2021-07-02T07:08:29.096Z"
   },
   {
    "duration": 6,
    "start_time": "2021-07-02T07:08:29.708Z"
   },
   {
    "duration": 31,
    "start_time": "2021-07-02T07:08:30.339Z"
   },
   {
    "duration": 1830,
    "start_time": "2021-07-02T07:08:32.859Z"
   },
   {
    "duration": 21,
    "start_time": "2021-07-02T07:08:35.762Z"
   },
   {
    "duration": 116,
    "start_time": "2021-07-02T07:08:37.803Z"
   },
   {
    "duration": 1604,
    "start_time": "2021-07-02T07:11:40.441Z"
   },
   {
    "duration": 1677,
    "start_time": "2021-07-02T07:12:06.985Z"
   },
   {
    "duration": 1590,
    "start_time": "2021-07-02T07:12:22.496Z"
   },
   {
    "duration": 1611,
    "start_time": "2021-07-02T07:12:34.423Z"
   },
   {
    "duration": 1621,
    "start_time": "2021-07-02T07:12:49.009Z"
   },
   {
    "duration": 761,
    "start_time": "2021-07-02T07:13:45.224Z"
   },
   {
    "duration": 715,
    "start_time": "2021-07-02T07:14:05.409Z"
   },
   {
    "duration": 641,
    "start_time": "2021-07-02T07:14:14.313Z"
   },
   {
    "duration": 737,
    "start_time": "2021-07-02T07:14:39.210Z"
   },
   {
    "duration": 119,
    "start_time": "2021-07-02T07:14:49.275Z"
   },
   {
    "duration": 636,
    "start_time": "2021-07-02T07:23:09.930Z"
   },
   {
    "duration": 681,
    "start_time": "2021-07-02T07:26:29.621Z"
   },
   {
    "duration": 109,
    "start_time": "2021-07-02T07:28:33.746Z"
   },
   {
    "duration": 672,
    "start_time": "2021-07-02T07:29:39.666Z"
   },
   {
    "duration": 664,
    "start_time": "2021-07-02T07:29:45.706Z"
   },
   {
    "duration": 612,
    "start_time": "2021-07-02T07:29:59.345Z"
   },
   {
    "duration": 665,
    "start_time": "2021-07-02T07:30:39.153Z"
   },
   {
    "duration": 573,
    "start_time": "2021-07-02T07:30:49.579Z"
   },
   {
    "duration": 535,
    "start_time": "2021-07-02T07:30:54.465Z"
   },
   {
    "duration": 539,
    "start_time": "2021-07-02T07:30:59.065Z"
   },
   {
    "duration": 539,
    "start_time": "2021-07-02T07:31:03.017Z"
   },
   {
    "duration": 617,
    "start_time": "2021-07-02T07:31:13.451Z"
   },
   {
    "duration": 498,
    "start_time": "2021-07-02T07:37:41.451Z"
   },
   {
    "duration": 491,
    "start_time": "2021-07-02T07:37:46.474Z"
   },
   {
    "duration": 501,
    "start_time": "2021-07-02T07:38:48.282Z"
   },
   {
    "duration": 1688,
    "start_time": "2021-07-02T07:58:03.979Z"
   },
   {
    "duration": 2062,
    "start_time": "2021-07-02T07:58:12.605Z"
   },
   {
    "duration": 2352,
    "start_time": "2021-07-02T07:58:20.158Z"
   },
   {
    "duration": 467,
    "start_time": "2021-07-02T07:58:33.669Z"
   },
   {
    "duration": 301,
    "start_time": "2021-07-02T07:58:52.022Z"
   },
   {
    "duration": 402,
    "start_time": "2021-07-02T07:59:03.430Z"
   },
   {
    "duration": 453,
    "start_time": "2021-07-02T07:59:07.135Z"
   },
   {
    "duration": 474,
    "start_time": "2021-07-02T07:59:12.047Z"
   },
   {
    "duration": 82,
    "start_time": "2021-07-02T07:59:52.479Z"
   },
   {
    "duration": 467,
    "start_time": "2021-07-02T07:59:58.073Z"
   },
   {
    "duration": 453,
    "start_time": "2021-07-02T08:00:06.441Z"
   },
   {
    "duration": 575,
    "start_time": "2021-07-02T08:00:23.525Z"
   },
   {
    "duration": 394,
    "start_time": "2021-07-02T08:01:56.426Z"
   },
   {
    "duration": 323,
    "start_time": "2021-07-02T08:02:10.305Z"
   },
   {
    "duration": 333,
    "start_time": "2021-07-02T08:02:44.428Z"
   },
   {
    "duration": 817,
    "start_time": "2021-07-02T08:03:50.172Z"
   },
   {
    "duration": 818,
    "start_time": "2021-07-02T08:07:12.331Z"
   },
   {
    "duration": 718,
    "start_time": "2021-07-02T08:07:29.265Z"
   },
   {
    "duration": 735,
    "start_time": "2021-07-02T08:07:40.000Z"
   },
   {
    "duration": 855,
    "start_time": "2021-07-02T08:07:42.577Z"
   },
   {
    "duration": 233,
    "start_time": "2021-07-02T08:11:59.989Z"
   },
   {
    "duration": 303,
    "start_time": "2021-07-02T08:21:33.916Z"
   },
   {
    "duration": 269,
    "start_time": "2021-07-02T08:21:43.961Z"
   },
   {
    "duration": 249,
    "start_time": "2021-07-02T08:21:50.150Z"
   },
   {
    "duration": 186,
    "start_time": "2021-07-02T08:34:14.269Z"
   },
   {
    "duration": 5,
    "start_time": "2021-07-02T08:34:18.244Z"
   },
   {
    "duration": 8,
    "start_time": "2021-07-02T08:34:19.124Z"
   },
   {
    "duration": 6,
    "start_time": "2021-07-02T08:34:19.924Z"
   },
   {
    "duration": 29,
    "start_time": "2021-07-02T08:34:20.628Z"
   },
   {
    "duration": 163,
    "start_time": "2021-07-02T08:34:24.435Z"
   },
   {
    "duration": 42,
    "start_time": "2021-07-02T08:34:26.357Z"
   },
   {
    "duration": 6,
    "start_time": "2021-07-02T08:34:27.171Z"
   },
   {
    "duration": 6,
    "start_time": "2021-07-02T08:34:27.823Z"
   },
   {
    "duration": 27,
    "start_time": "2021-07-02T08:34:28.394Z"
   },
   {
    "duration": 1617,
    "start_time": "2021-07-02T08:34:31.996Z"
   },
   {
    "duration": 22,
    "start_time": "2021-07-02T08:34:40.691Z"
   },
   {
    "duration": 113,
    "start_time": "2021-07-02T08:34:47.411Z"
   },
   {
    "duration": 681,
    "start_time": "2021-07-02T08:34:50.542Z"
   },
   {
    "duration": 647,
    "start_time": "2021-07-02T08:34:54.899Z"
   },
   {
    "duration": 624,
    "start_time": "2021-07-02T08:34:58.206Z"
   },
   {
    "duration": 553,
    "start_time": "2021-07-02T08:35:01.868Z"
   },
   {
    "duration": 487,
    "start_time": "2021-07-02T08:35:04.547Z"
   },
   {
    "duration": 324,
    "start_time": "2021-07-02T08:35:07.476Z"
   },
   {
    "duration": 286,
    "start_time": "2021-07-02T08:38:23.363Z"
   },
   {
    "duration": 281,
    "start_time": "2021-07-02T08:38:35.565Z"
   },
   {
    "duration": 291,
    "start_time": "2021-07-02T08:38:50.041Z"
   },
   {
    "duration": 311,
    "start_time": "2021-07-02T08:38:57.352Z"
   },
   {
    "duration": 345,
    "start_time": "2021-07-02T08:39:16.794Z"
   },
   {
    "duration": 323,
    "start_time": "2021-07-02T08:43:53.791Z"
   },
   {
    "duration": 598,
    "start_time": "2021-07-02T08:44:00.733Z"
   },
   {
    "duration": 339,
    "start_time": "2021-07-02T08:44:07.733Z"
   },
   {
    "duration": 379,
    "start_time": "2021-07-02T08:44:18.757Z"
   },
   {
    "duration": 329,
    "start_time": "2021-07-02T08:44:23.709Z"
   },
   {
    "duration": 336,
    "start_time": "2021-07-02T08:44:28.861Z"
   },
   {
    "duration": 341,
    "start_time": "2021-07-02T08:44:39.621Z"
   },
   {
    "duration": 347,
    "start_time": "2021-07-02T08:44:46.853Z"
   },
   {
    "duration": 341,
    "start_time": "2021-07-02T08:44:57.951Z"
   },
   {
    "duration": 12,
    "start_time": "2021-07-02T08:46:46.103Z"
   },
   {
    "duration": 22,
    "start_time": "2021-07-02T08:49:17.659Z"
   },
   {
    "duration": 26,
    "start_time": "2021-07-02T08:49:29.443Z"
   },
   {
    "duration": 27,
    "start_time": "2021-07-02T08:49:35.730Z"
   },
   {
    "duration": 20,
    "start_time": "2021-07-02T08:49:42.170Z"
   },
   {
    "duration": 34,
    "start_time": "2021-07-02T08:50:17.803Z"
   },
   {
    "duration": 36,
    "start_time": "2021-07-02T08:51:17.664Z"
   },
   {
    "duration": 37,
    "start_time": "2021-07-02T08:51:25.693Z"
   },
   {
    "duration": 28,
    "start_time": "2021-07-02T08:52:01.616Z"
   },
   {
    "duration": 616,
    "start_time": "2021-07-02T08:52:09.125Z"
   },
   {
    "duration": 322,
    "start_time": "2021-07-02T08:52:16.120Z"
   },
   {
    "duration": 316,
    "start_time": "2021-07-02T08:52:49.437Z"
   },
   {
    "duration": 1310,
    "start_time": "2021-07-03T13:42:14.947Z"
   },
   {
    "duration": 6,
    "start_time": "2021-07-03T13:42:21.801Z"
   },
   {
    "duration": 8,
    "start_time": "2021-07-03T13:42:22.433Z"
   },
   {
    "duration": 7,
    "start_time": "2021-07-03T13:42:23.070Z"
   },
   {
    "duration": 44,
    "start_time": "2021-07-03T13:42:23.577Z"
   },
   {
    "duration": 335,
    "start_time": "2021-07-03T13:42:25.139Z"
   },
   {
    "duration": 56,
    "start_time": "2021-07-03T13:42:26.106Z"
   },
   {
    "duration": 11,
    "start_time": "2021-07-03T13:42:26.785Z"
   },
   {
    "duration": 5,
    "start_time": "2021-07-03T13:42:27.457Z"
   },
   {
    "duration": 32,
    "start_time": "2021-07-03T13:42:28.123Z"
   },
   {
    "duration": 1996,
    "start_time": "2021-07-03T13:42:29.505Z"
   },
   {
    "duration": 198,
    "start_time": "2021-07-03T13:42:31.505Z"
   },
   {
    "duration": 1127,
    "start_time": "2021-07-03T13:42:31.707Z"
   },
   {
    "duration": 745,
    "start_time": "2021-07-03T13:42:32.837Z"
   },
   {
    "duration": 1104,
    "start_time": "2021-07-03T13:42:33.586Z"
   },
   {
    "duration": 957,
    "start_time": "2021-07-03T13:42:34.694Z"
   },
   {
    "duration": 652,
    "start_time": "2021-07-03T13:42:36.344Z"
   },
   {
    "duration": 354,
    "start_time": "2021-07-03T13:42:38.794Z"
   },
   {
    "duration": 532,
    "start_time": "2021-07-03T13:42:40.769Z"
   },
   {
    "duration": 36,
    "start_time": "2021-07-03T13:55:50.319Z"
   },
   {
    "duration": 34,
    "start_time": "2021-07-03T13:56:02.474Z"
   },
   {
    "duration": 40,
    "start_time": "2021-07-03T13:56:08.478Z"
   },
   {
    "duration": 362,
    "start_time": "2021-07-03T13:56:59.864Z"
   },
   {
    "duration": 302,
    "start_time": "2021-07-03T13:57:20.368Z"
   },
   {
    "duration": 363,
    "start_time": "2021-07-03T13:57:26.329Z"
   },
   {
    "duration": 475,
    "start_time": "2021-07-03T14:07:17.183Z"
   },
   {
    "duration": 7804,
    "start_time": "2021-07-03T14:14:18.044Z"
   },
   {
    "duration": 168,
    "start_time": "2021-07-03T14:26:54.462Z"
   },
   {
    "duration": 174,
    "start_time": "2021-07-03T14:37:26.785Z"
   },
   {
    "duration": 5,
    "start_time": "2021-07-03T14:37:31.208Z"
   },
   {
    "duration": 8,
    "start_time": "2021-07-03T14:37:31.944Z"
   },
   {
    "duration": 5,
    "start_time": "2021-07-03T14:37:32.597Z"
   },
   {
    "duration": 31,
    "start_time": "2021-07-03T14:37:33.222Z"
   },
   {
    "duration": 173,
    "start_time": "2021-07-03T14:37:36.081Z"
   },
   {
    "duration": 42,
    "start_time": "2021-07-03T14:37:37.697Z"
   },
   {
    "duration": 6,
    "start_time": "2021-07-03T14:37:38.525Z"
   },
   {
    "duration": 6,
    "start_time": "2021-07-03T14:37:39.113Z"
   },
   {
    "duration": 30,
    "start_time": "2021-07-03T14:37:39.799Z"
   },
   {
    "duration": 1786,
    "start_time": "2021-07-03T14:37:45.152Z"
   },
   {
    "duration": 121,
    "start_time": "2021-07-03T14:37:49.461Z"
   },
   {
    "duration": 706,
    "start_time": "2021-07-03T14:37:50.305Z"
   },
   {
    "duration": 715,
    "start_time": "2021-07-03T14:37:52.049Z"
   },
   {
    "duration": 691,
    "start_time": "2021-07-03T14:37:53.891Z"
   },
   {
    "duration": 578,
    "start_time": "2021-07-03T14:37:56.044Z"
   },
   {
    "duration": 539,
    "start_time": "2021-07-03T14:38:01.593Z"
   },
   {
    "duration": 371,
    "start_time": "2021-07-03T14:38:04.344Z"
   },
   {
    "duration": 2677,
    "start_time": "2021-07-03T14:38:06.385Z"
   },
   {
    "duration": 8644,
    "start_time": "2021-07-03T14:38:50.556Z"
   },
   {
    "duration": 331,
    "start_time": "2021-07-03T14:41:03.449Z"
   },
   {
    "duration": 396,
    "start_time": "2021-07-03T15:14:00.637Z"
   },
   {
    "duration": 348,
    "start_time": "2021-07-03T15:22:01.558Z"
   },
   {
    "duration": 583,
    "start_time": "2021-07-03T15:25:01.767Z"
   },
   {
    "duration": 540,
    "start_time": "2021-07-03T15:26:58.122Z"
   },
   {
    "duration": 572,
    "start_time": "2021-07-03T15:27:10.817Z"
   },
   {
    "duration": 551,
    "start_time": "2021-07-03T15:27:16.205Z"
   },
   {
    "duration": 559,
    "start_time": "2021-07-03T15:27:22.169Z"
   },
   {
    "duration": 539,
    "start_time": "2021-07-03T15:27:27.968Z"
   },
   {
    "duration": 521,
    "start_time": "2021-07-03T15:28:04.373Z"
   },
   {
    "duration": 477,
    "start_time": "2021-07-03T15:28:37.402Z"
   },
   {
    "duration": 470,
    "start_time": "2021-07-03T15:28:40.587Z"
   },
   {
    "duration": 494,
    "start_time": "2021-07-03T15:28:44.107Z"
   },
   {
    "duration": 541,
    "start_time": "2021-07-03T15:28:47.666Z"
   },
   {
    "duration": 534,
    "start_time": "2021-07-03T15:28:51.746Z"
   },
   {
    "duration": 264,
    "start_time": "2021-07-03T15:34:01.600Z"
   },
   {
    "duration": 273,
    "start_time": "2021-07-03T15:34:08.432Z"
   },
   {
    "duration": 272,
    "start_time": "2021-07-03T15:34:11.977Z"
   },
   {
    "duration": 376,
    "start_time": "2021-07-03T15:34:16.408Z"
   },
   {
    "duration": 389,
    "start_time": "2021-07-03T15:34:20.201Z"
   },
   {
    "duration": 401,
    "start_time": "2021-07-03T15:34:33.850Z"
   },
   {
    "duration": 333,
    "start_time": "2021-07-03T15:36:00.042Z"
   },
   {
    "duration": 332,
    "start_time": "2021-07-03T15:36:19.300Z"
   },
   {
    "duration": 580,
    "start_time": "2021-07-03T15:39:49.696Z"
   },
   {
    "duration": 485,
    "start_time": "2021-07-03T15:40:09.081Z"
   },
   {
    "duration": 109,
    "start_time": "2021-07-03T15:40:16.576Z"
   },
   {
    "duration": 102,
    "start_time": "2021-07-03T15:40:31.926Z"
   },
   {
    "duration": 346,
    "start_time": "2021-07-03T15:40:39.959Z"
   },
   {
    "duration": 342,
    "start_time": "2021-07-03T15:40:54.968Z"
   },
   {
    "duration": 332,
    "start_time": "2021-07-03T15:41:00.984Z"
   },
   {
    "duration": 332,
    "start_time": "2021-07-03T15:41:06.976Z"
   },
   {
    "duration": 332,
    "start_time": "2021-07-03T15:41:13.881Z"
   },
   {
    "duration": 324,
    "start_time": "2021-07-03T16:05:29.179Z"
   },
   {
    "duration": 13,
    "start_time": "2021-07-03T16:07:38.172Z"
   },
   {
    "duration": 20,
    "start_time": "2021-07-03T16:07:53.703Z"
   },
   {
    "duration": 167,
    "start_time": "2021-07-03T16:30:00.649Z"
   },
   {
    "duration": 324,
    "start_time": "2021-07-03T16:32:26.691Z"
   },
   {
    "duration": 394,
    "start_time": "2021-07-03T16:33:42.820Z"
   },
   {
    "duration": 465,
    "start_time": "2021-07-03T16:34:41.918Z"
   },
   {
    "duration": 131,
    "start_time": "2021-07-03T16:34:46.590Z"
   },
   {
    "duration": 231,
    "start_time": "2021-07-03T16:36:38.567Z"
   },
   {
    "duration": 236,
    "start_time": "2021-07-03T16:36:48.582Z"
   },
   {
    "duration": 21,
    "start_time": "2021-07-03T16:38:07.177Z"
   },
   {
    "duration": -777,
    "start_time": "2021-07-03T16:38:54.696Z"
   },
   {
    "duration": 8344,
    "start_time": "2021-07-03T16:39:06.272Z"
   },
   {
    "duration": 11,
    "start_time": "2021-07-03T16:39:56.105Z"
   },
   {
    "duration": 9,
    "start_time": "2021-07-03T16:42:25.439Z"
   },
   {
    "duration": 7,
    "start_time": "2021-07-03T16:53:51.072Z"
   },
   {
    "duration": 11,
    "start_time": "2021-07-03T16:54:01.211Z"
   },
   {
    "duration": 7878,
    "start_time": "2021-07-03T16:54:36.408Z"
   },
   {
    "duration": 1588,
    "start_time": "2021-07-03T16:54:54.412Z"
   },
   {
    "duration": 10,
    "start_time": "2021-07-03T16:55:16.396Z"
   },
   {
    "duration": 11,
    "start_time": "2021-07-03T17:06:42.911Z"
   },
   {
    "duration": 11,
    "start_time": "2021-07-03T17:07:10.893Z"
   },
   {
    "duration": 11,
    "start_time": "2021-07-03T17:07:18.374Z"
   },
   {
    "duration": 338,
    "start_time": "2021-07-03T17:08:31.647Z"
   },
   {
    "duration": 342,
    "start_time": "2021-07-03T17:08:50.703Z"
   },
   {
    "duration": 320,
    "start_time": "2021-07-03T17:08:59.367Z"
   },
   {
    "duration": 588,
    "start_time": "2021-07-03T17:27:53.466Z"
   },
   {
    "duration": 437,
    "start_time": "2021-07-03T17:29:37.059Z"
   },
   {
    "duration": 427,
    "start_time": "2021-07-03T17:30:10.485Z"
   },
   {
    "duration": 433,
    "start_time": "2021-07-03T17:30:24.341Z"
   },
   {
    "duration": 433,
    "start_time": "2021-07-03T17:30:29.352Z"
   },
   {
    "duration": 352,
    "start_time": "2021-07-03T17:30:35.460Z"
   },
   {
    "duration": 115,
    "start_time": "2021-07-03T17:33:24.390Z"
   },
   {
    "duration": 110,
    "start_time": "2021-07-03T17:34:24.113Z"
   },
   {
    "duration": 192,
    "start_time": "2021-07-03T17:34:32.064Z"
   },
   {
    "duration": 5,
    "start_time": "2021-07-03T17:34:36.560Z"
   },
   {
    "duration": 9,
    "start_time": "2021-07-03T17:34:37.176Z"
   },
   {
    "duration": 5,
    "start_time": "2021-07-03T17:34:37.707Z"
   },
   {
    "duration": 30,
    "start_time": "2021-07-03T17:34:38.276Z"
   },
   {
    "duration": 164,
    "start_time": "2021-07-03T17:34:40.800Z"
   },
   {
    "duration": 43,
    "start_time": "2021-07-03T17:34:41.832Z"
   },
   {
    "duration": 5,
    "start_time": "2021-07-03T17:34:42.752Z"
   },
   {
    "duration": 6,
    "start_time": "2021-07-03T17:34:43.680Z"
   },
   {
    "duration": 39,
    "start_time": "2021-07-03T17:34:44.464Z"
   },
   {
    "duration": 2721,
    "start_time": "2021-07-03T17:34:47.962Z"
   },
   {
    "duration": 165,
    "start_time": "2021-07-03T17:34:53.306Z"
   },
   {
    "duration": 1115,
    "start_time": "2021-07-03T17:34:56.881Z"
   },
   {
    "duration": 1067,
    "start_time": "2021-07-03T17:35:01.841Z"
   },
   {
    "duration": 666,
    "start_time": "2021-07-03T17:35:05.011Z"
   },
   {
    "duration": 570,
    "start_time": "2021-07-03T17:35:08.048Z"
   },
   {
    "duration": 539,
    "start_time": "2021-07-03T17:35:10.729Z"
   },
   {
    "duration": 369,
    "start_time": "2021-07-03T17:35:13.282Z"
   },
   {
    "duration": 334,
    "start_time": "2021-07-03T17:35:16.261Z"
   },
   {
    "duration": 11,
    "start_time": "2021-07-03T17:35:21.769Z"
   },
   {
    "duration": 159,
    "start_time": "2021-07-03T17:35:25.933Z"
   },
   {
    "duration": 326,
    "start_time": "2021-07-03T17:35:37.571Z"
   },
   {
    "duration": 382,
    "start_time": "2021-07-03T17:35:45.089Z"
   },
   {
    "duration": 298,
    "start_time": "2021-07-03T17:36:22.042Z"
   },
   {
    "duration": 315,
    "start_time": "2021-07-03T17:39:34.599Z"
   },
   {
    "duration": 280,
    "start_time": "2021-07-03T17:39:47.845Z"
   },
   {
    "duration": 298,
    "start_time": "2021-07-03T17:40:40.831Z"
   },
   {
    "duration": 8662,
    "start_time": "2021-07-03T17:41:24.851Z"
   },
   {
    "duration": 254,
    "start_time": "2021-07-03T17:41:38.431Z"
   },
   {
    "duration": 598,
    "start_time": "2021-07-03T17:42:14.592Z"
   },
   {
    "duration": 602,
    "start_time": "2021-07-03T17:43:22.090Z"
   },
   {
    "duration": 585,
    "start_time": "2021-07-03T17:44:23.950Z"
   },
   {
    "duration": 522,
    "start_time": "2021-07-03T17:49:21.408Z"
   },
   {
    "duration": 1530,
    "start_time": "2021-07-03T18:00:06.690Z"
   },
   {
    "duration": 320,
    "start_time": "2021-07-03T18:00:48.163Z"
   },
   {
    "duration": 8471,
    "start_time": "2021-07-03T18:03:17.847Z"
   },
   {
    "duration": 9079,
    "start_time": "2021-07-03T18:04:06.287Z"
   },
   {
    "duration": 8056,
    "start_time": "2021-07-03T18:04:18.990Z"
   },
   {
    "duration": 984,
    "start_time": "2021-07-03T18:07:13.659Z"
   },
   {
    "duration": 643,
    "start_time": "2021-07-03T18:08:26.892Z"
   },
   {
    "duration": 709,
    "start_time": "2021-07-03T18:08:46.267Z"
   },
   {
    "duration": 386,
    "start_time": "2021-07-03T18:43:11.615Z"
   },
   {
    "duration": 286,
    "start_time": "2021-07-03T18:43:30.375Z"
   },
   {
    "duration": 6,
    "start_time": "2021-07-03T18:43:34.622Z"
   },
   {
    "duration": 11,
    "start_time": "2021-07-03T18:43:35.327Z"
   },
   {
    "duration": 7,
    "start_time": "2021-07-03T18:43:35.998Z"
   },
   {
    "duration": 45,
    "start_time": "2021-07-03T18:43:36.590Z"
   },
   {
    "duration": 263,
    "start_time": "2021-07-03T18:43:37.960Z"
   },
   {
    "duration": 53,
    "start_time": "2021-07-03T18:43:38.709Z"
   },
   {
    "duration": 7,
    "start_time": "2021-07-03T18:43:39.589Z"
   },
   {
    "duration": 8,
    "start_time": "2021-07-03T18:43:40.478Z"
   },
   {
    "duration": 28,
    "start_time": "2021-07-03T18:43:41.205Z"
   },
   {
    "duration": 1759,
    "start_time": "2021-07-03T18:43:42.629Z"
   },
   {
    "duration": 143,
    "start_time": "2021-07-03T18:43:44.391Z"
   },
   {
    "duration": 722,
    "start_time": "2021-07-03T18:43:44.957Z"
   },
   {
    "duration": 719,
    "start_time": "2021-07-03T18:43:46.232Z"
   },
   {
    "duration": 3761,
    "start_time": "2021-07-03T18:43:47.517Z"
   },
   {
    "duration": 654,
    "start_time": "2021-07-03T18:43:51.281Z"
   },
   {
    "duration": 568,
    "start_time": "2021-07-03T18:43:51.940Z"
   },
   {
    "duration": 394,
    "start_time": "2021-07-03T18:43:52.510Z"
   },
   {
    "duration": 353,
    "start_time": "2021-07-03T18:43:52.998Z"
   },
   {
    "duration": 4,
    "start_time": "2021-07-03T18:43:53.854Z"
   },
   {
    "duration": 12,
    "start_time": "2021-07-03T18:43:54.469Z"
   },
   {
    "duration": 311,
    "start_time": "2021-07-03T18:43:55.102Z"
   },
   {
    "duration": 314,
    "start_time": "2021-07-03T18:43:55.692Z"
   },
   {
    "duration": 294,
    "start_time": "2021-07-03T18:43:56.213Z"
   },
   {
    "duration": 297,
    "start_time": "2021-07-03T18:43:56.670Z"
   },
   {
    "duration": 606,
    "start_time": "2021-07-03T18:43:57.125Z"
   },
   {
    "duration": 8767,
    "start_time": "2021-07-03T18:46:28.978Z"
   },
   {
    "duration": 221,
    "start_time": "2021-07-03T18:48:21.532Z"
   },
   {
    "duration": 216,
    "start_time": "2021-07-03T18:49:51.923Z"
   },
   {
    "duration": 371,
    "start_time": "2021-07-03T18:54:27.019Z"
   },
   {
    "duration": 130,
    "start_time": "2021-07-03T18:54:41.770Z"
   },
   {
    "duration": 370,
    "start_time": "2021-07-03T18:54:49.291Z"
   },
   {
    "duration": 384,
    "start_time": "2021-07-03T18:55:29.129Z"
   },
   {
    "duration": 312,
    "start_time": "2021-07-03T18:55:52.795Z"
   },
   {
    "duration": 323,
    "start_time": "2021-07-03T18:55:56.004Z"
   },
   {
    "duration": 364,
    "start_time": "2021-07-03T18:56:12.331Z"
   },
   {
    "duration": 534,
    "start_time": "2021-07-03T18:56:21.711Z"
   },
   {
    "duration": 343,
    "start_time": "2021-07-03T18:56:28.554Z"
   },
   {
    "duration": 318,
    "start_time": "2021-07-03T19:04:55.885Z"
   },
   {
    "duration": 313,
    "start_time": "2021-07-03T19:09:19.361Z"
   },
   {
    "duration": 298,
    "start_time": "2021-07-03T19:09:27.296Z"
   },
   {
    "duration": 309,
    "start_time": "2021-07-03T19:39:31.420Z"
   },
   {
    "duration": 601,
    "start_time": "2021-07-03T19:40:02.769Z"
   },
   {
    "duration": 638,
    "start_time": "2021-07-03T19:40:06.157Z"
   },
   {
    "duration": 843,
    "start_time": "2021-07-03T19:40:08.407Z"
   },
   {
    "duration": 304,
    "start_time": "2021-07-03T19:40:16.486Z"
   },
   {
    "duration": 304,
    "start_time": "2021-07-03T19:47:01.016Z"
   },
   {
    "duration": 5,
    "start_time": "2021-07-03T19:47:03.957Z"
   },
   {
    "duration": 10,
    "start_time": "2021-07-03T19:47:04.524Z"
   },
   {
    "duration": 7,
    "start_time": "2021-07-03T19:47:05.013Z"
   },
   {
    "duration": 32,
    "start_time": "2021-07-03T19:47:05.669Z"
   },
   {
    "duration": 178,
    "start_time": "2021-07-03T19:47:06.764Z"
   },
   {
    "duration": 46,
    "start_time": "2021-07-03T19:47:07.260Z"
   },
   {
    "duration": 6,
    "start_time": "2021-07-03T19:47:07.740Z"
   },
   {
    "duration": 6,
    "start_time": "2021-07-03T19:47:08.207Z"
   },
   {
    "duration": 28,
    "start_time": "2021-07-03T19:47:08.700Z"
   },
   {
    "duration": 1774,
    "start_time": "2021-07-03T19:47:10.440Z"
   },
   {
    "duration": 141,
    "start_time": "2021-07-03T19:47:12.217Z"
   },
   {
    "duration": 746,
    "start_time": "2021-07-03T19:47:12.362Z"
   },
   {
    "duration": 728,
    "start_time": "2021-07-03T19:47:13.112Z"
   },
   {
    "duration": 700,
    "start_time": "2021-07-03T19:47:13.843Z"
   },
   {
    "duration": 571,
    "start_time": "2021-07-03T19:47:16.293Z"
   },
   {
    "duration": 550,
    "start_time": "2021-07-03T19:47:19.420Z"
   },
   {
    "duration": 383,
    "start_time": "2021-07-03T19:47:21.924Z"
   },
   {
    "duration": 585,
    "start_time": "2021-07-03T19:47:23.620Z"
   },
   {
    "duration": 11,
    "start_time": "2021-07-03T19:47:24.523Z"
   },
   {
    "duration": 320,
    "start_time": "2021-07-03T19:47:25.677Z"
   },
   {
    "duration": 313,
    "start_time": "2021-07-03T19:47:26.732Z"
   },
   {
    "duration": 310,
    "start_time": "2021-07-03T19:47:28.945Z"
   },
   {
    "duration": 320,
    "start_time": "2021-07-03T19:47:30.075Z"
   },
   {
    "duration": 312,
    "start_time": "2021-07-03T19:47:31.868Z"
   },
   {
    "duration": 316,
    "start_time": "2021-07-03T19:47:32.656Z"
   },
   {
    "duration": 308,
    "start_time": "2021-07-03T19:47:34.812Z"
   },
   {
    "duration": 671,
    "start_time": "2021-07-04T13:41:52.933Z"
   },
   {
    "duration": 4,
    "start_time": "2021-07-04T13:41:53.607Z"
   },
   {
    "duration": 6,
    "start_time": "2021-07-04T13:41:53.615Z"
   },
   {
    "duration": 12,
    "start_time": "2021-07-04T13:41:53.623Z"
   },
   {
    "duration": 50,
    "start_time": "2021-07-04T13:41:53.637Z"
   },
   {
    "duration": 146,
    "start_time": "2021-07-04T13:41:53.691Z"
   },
   {
    "duration": 29,
    "start_time": "2021-07-04T13:41:53.840Z"
   },
   {
    "duration": 21,
    "start_time": "2021-07-04T13:41:53.871Z"
   },
   {
    "duration": 15,
    "start_time": "2021-07-04T13:41:53.894Z"
   },
   {
    "duration": 23,
    "start_time": "2021-07-04T13:41:53.911Z"
   },
   {
    "duration": 1295,
    "start_time": "2021-07-04T13:41:53.936Z"
   },
   {
    "duration": 98,
    "start_time": "2021-07-04T13:41:55.232Z"
   },
   {
    "duration": 468,
    "start_time": "2021-07-04T13:41:55.332Z"
   },
   {
    "duration": 470,
    "start_time": "2021-07-04T13:41:55.801Z"
   },
   {
    "duration": 449,
    "start_time": "2021-07-04T13:41:56.273Z"
   },
   {
    "duration": 380,
    "start_time": "2021-07-04T13:41:56.723Z"
   },
   {
    "duration": 426,
    "start_time": "2021-07-04T13:41:57.105Z"
   },
   {
    "duration": 258,
    "start_time": "2021-07-04T13:41:57.532Z"
   },
   {
    "duration": 220,
    "start_time": "2021-07-04T13:41:57.792Z"
   },
   {
    "duration": 9,
    "start_time": "2021-07-04T13:41:58.013Z"
   },
   {
    "duration": 216,
    "start_time": "2021-07-04T13:41:58.024Z"
   },
   {
    "duration": 205,
    "start_time": "2021-07-04T13:41:58.243Z"
   },
   {
    "duration": 213,
    "start_time": "2021-07-04T13:41:58.450Z"
   },
   {
    "duration": 212,
    "start_time": "2021-07-04T13:41:58.664Z"
   },
   {
    "duration": 197,
    "start_time": "2021-07-04T13:41:58.878Z"
   },
   {
    "duration": 201,
    "start_time": "2021-07-04T13:41:59.077Z"
   },
   {
    "duration": 967,
    "start_time": "2021-07-05T11:32:09.136Z"
   },
   {
    "duration": 91,
    "start_time": "2021-07-05T11:32:26.887Z"
   },
   {
    "duration": 96,
    "start_time": "2021-07-05T11:34:45.392Z"
   },
   {
    "duration": 95,
    "start_time": "2021-07-05T11:34:52.905Z"
   },
   {
    "duration": 22,
    "start_time": "2021-07-05T11:35:07.776Z"
   },
   {
    "duration": 81,
    "start_time": "2021-07-05T11:36:01.321Z"
   },
   {
    "duration": 8,
    "start_time": "2021-07-05T11:36:25.252Z"
   },
   {
    "duration": 8,
    "start_time": "2021-07-05T11:36:56.631Z"
   },
   {
    "duration": 9,
    "start_time": "2021-07-05T11:37:35.628Z"
   },
   {
    "duration": 7,
    "start_time": "2021-07-05T11:38:45.396Z"
   },
   {
    "duration": 190,
    "start_time": "2021-07-05T11:39:59.628Z"
   },
   {
    "duration": 24,
    "start_time": "2021-07-05T11:40:03.541Z"
   },
   {
    "duration": 77,
    "start_time": "2021-07-05T11:40:06.733Z"
   },
   {
    "duration": 9,
    "start_time": "2021-07-05T11:40:08.948Z"
   },
   {
    "duration": 17,
    "start_time": "2021-07-05T11:40:10.496Z"
   },
   {
    "duration": 9,
    "start_time": "2021-07-05T11:40:12.645Z"
   },
   {
    "duration": 6,
    "start_time": "2021-07-05T11:40:27.701Z"
   },
   {
    "duration": 8,
    "start_time": "2021-07-05T11:40:29.334Z"
   },
   {
    "duration": 88,
    "start_time": "2021-07-05T11:42:18.129Z"
   },
   {
    "duration": 39,
    "start_time": "2021-07-05T11:45:15.394Z"
   },
   {
    "duration": 8,
    "start_time": "2021-07-05T12:01:17.939Z"
   },
   {
    "duration": 48,
    "start_time": "2021-07-05T12:31:49.805Z"
   },
   {
    "duration": 86,
    "start_time": "2021-07-05T12:59:08.882Z"
   },
   {
    "duration": 402,
    "start_time": "2021-07-05T12:59:15.190Z"
   },
   {
    "duration": 1739,
    "start_time": "2021-07-05T12:59:21.101Z"
   },
   {
    "duration": 1509,
    "start_time": "2021-07-05T12:59:27.975Z"
   },
   {
    "duration": 22,
    "start_time": "2021-07-05T12:59:56.460Z"
   },
   {
    "duration": 263,
    "start_time": "2021-07-05T13:00:08.319Z"
   },
   {
    "duration": 56,
    "start_time": "2021-07-05T13:00:11.824Z"
   },
   {
    "duration": 8,
    "start_time": "2021-07-05T13:02:22.359Z"
   },
   {
    "duration": 22,
    "start_time": "2021-07-05T13:03:13.077Z"
   },
   {
    "duration": 208,
    "start_time": "2021-07-05T13:03:21.841Z"
   },
   {
    "duration": 28,
    "start_time": "2021-07-05T13:03:24.841Z"
   },
   {
    "duration": 86,
    "start_time": "2021-07-05T13:03:26.856Z"
   },
   {
    "duration": 8,
    "start_time": "2021-07-05T13:03:29.025Z"
   },
   {
    "duration": 8,
    "start_time": "2021-07-05T13:03:29.875Z"
   },
   {
    "duration": 9,
    "start_time": "2021-07-05T13:03:30.631Z"
   },
   {
    "duration": 6,
    "start_time": "2021-07-05T13:03:34.376Z"
   },
   {
    "duration": 9,
    "start_time": "2021-07-05T13:03:35.965Z"
   },
   {
    "duration": 1644,
    "start_time": "2021-07-05T13:03:38.034Z"
   },
   {
    "duration": 16,
    "start_time": "2021-07-05T13:03:41.857Z"
   },
   {
    "duration": 7,
    "start_time": "2021-07-05T13:03:44.123Z"
   },
   {
    "duration": 191,
    "start_time": "2021-07-05T13:03:52.515Z"
   },
   {
    "duration": 40,
    "start_time": "2021-07-05T13:04:06.394Z"
   },
   {
    "duration": 10,
    "start_time": "2021-07-05T13:05:28.127Z"
   },
   {
    "duration": 6,
    "start_time": "2021-07-05T13:05:30.764Z"
   },
   {
    "duration": 24,
    "start_time": "2021-07-05T13:06:34.397Z"
   },
   {
    "duration": 32,
    "start_time": "2021-07-05T13:06:40.051Z"
   },
   {
    "duration": 261,
    "start_time": "2021-07-05T13:09:27.741Z"
   },
   {
    "duration": 27,
    "start_time": "2021-07-05T13:09:32.360Z"
   },
   {
    "duration": 266,
    "start_time": "2021-07-05T13:11:14.055Z"
   },
   {
    "duration": 313,
    "start_time": "2021-07-05T13:18:31.799Z"
   },
   {
    "duration": 264,
    "start_time": "2021-07-05T13:18:48.207Z"
   },
   {
    "duration": 341,
    "start_time": "2021-07-05T13:18:59.999Z"
   },
   {
    "duration": 275,
    "start_time": "2021-07-05T13:19:07.832Z"
   },
   {
    "duration": 264,
    "start_time": "2021-07-05T13:19:12.494Z"
   },
   {
    "duration": 29,
    "start_time": "2021-07-05T13:19:56.233Z"
   },
   {
    "duration": 29,
    "start_time": "2021-07-05T13:21:03.771Z"
   },
   {
    "duration": 30,
    "start_time": "2021-07-05T13:21:23.105Z"
   },
   {
    "duration": 30,
    "start_time": "2021-07-05T13:21:35.633Z"
   },
   {
    "duration": 4,
    "start_time": "2021-07-05T13:21:39.987Z"
   },
   {
    "duration": 4,
    "start_time": "2021-07-05T13:21:51.730Z"
   },
   {
    "duration": 30,
    "start_time": "2021-07-05T13:21:53.330Z"
   },
   {
    "duration": 263,
    "start_time": "2021-07-05T13:22:38.715Z"
   },
   {
    "duration": 832,
    "start_time": "2021-07-05T13:27:58.973Z"
   },
   {
    "duration": 753,
    "start_time": "2021-07-05T13:28:28.666Z"
   },
   {
    "duration": 789,
    "start_time": "2021-07-05T13:29:22.283Z"
   },
   {
    "duration": 743,
    "start_time": "2021-07-05T13:29:34.803Z"
   },
   {
    "duration": 771,
    "start_time": "2021-07-05T13:31:02.267Z"
   },
   {
    "duration": 2062,
    "start_time": "2021-07-05T13:34:35.168Z"
   },
   {
    "duration": 674,
    "start_time": "2021-07-05T13:37:12.032Z"
   },
   {
    "duration": 693,
    "start_time": "2021-07-05T13:38:44.819Z"
   },
   {
    "duration": 703,
    "start_time": "2021-07-05T13:40:06.197Z"
   },
   {
    "duration": 576,
    "start_time": "2021-07-05T13:40:39.328Z"
   },
   {
    "duration": 350,
    "start_time": "2021-07-05T13:44:44.026Z"
   },
   {
    "duration": 690,
    "start_time": "2021-07-05T13:45:02.124Z"
   },
   {
    "duration": 1006,
    "start_time": "2021-07-05T13:46:09.004Z"
   },
   {
    "duration": 1958,
    "start_time": "2021-07-05T13:46:35.172Z"
   },
   {
    "duration": 1894,
    "start_time": "2021-07-05T13:48:33.775Z"
   },
   {
    "duration": 2057,
    "start_time": "2021-07-05T13:49:17.357Z"
   },
   {
    "duration": 270,
    "start_time": "2021-07-05T13:52:07.122Z"
   },
   {
    "duration": 198,
    "start_time": "2021-07-05T13:52:17.914Z"
   },
   {
    "duration": 24,
    "start_time": "2021-07-05T13:52:20.568Z"
   },
   {
    "duration": 74,
    "start_time": "2021-07-05T13:52:20.975Z"
   },
   {
    "duration": 9,
    "start_time": "2021-07-05T13:52:21.424Z"
   },
   {
    "duration": 8,
    "start_time": "2021-07-05T13:52:21.848Z"
   },
   {
    "duration": 9,
    "start_time": "2021-07-05T13:52:22.247Z"
   },
   {
    "duration": 6,
    "start_time": "2021-07-05T13:52:23.575Z"
   },
   {
    "duration": 8,
    "start_time": "2021-07-05T13:52:24.007Z"
   },
   {
    "duration": 1641,
    "start_time": "2021-07-05T13:52:24.875Z"
   },
   {
    "duration": 8,
    "start_time": "2021-07-05T13:52:26.519Z"
   },
   {
    "duration": 7,
    "start_time": "2021-07-05T13:52:26.529Z"
   },
   {
    "duration": 177,
    "start_time": "2021-07-05T13:52:27.473Z"
   },
   {
    "duration": 42,
    "start_time": "2021-07-05T13:52:28.418Z"
   },
   {
    "duration": 7,
    "start_time": "2021-07-05T13:52:29.439Z"
   },
   {
    "duration": 5,
    "start_time": "2021-07-05T13:52:30.704Z"
   },
   {
    "duration": 6,
    "start_time": "2021-07-05T13:52:32.088Z"
   },
   {
    "duration": 34,
    "start_time": "2021-07-05T13:52:32.591Z"
   },
   {
    "duration": 1875,
    "start_time": "2021-07-05T13:52:34.339Z"
   },
   {
    "duration": 136,
    "start_time": "2021-07-05T13:52:36.222Z"
   },
   {
    "duration": 744,
    "start_time": "2021-07-05T13:52:36.751Z"
   },
   {
    "duration": 943,
    "start_time": "2021-07-05T13:52:38.407Z"
   },
   {
    "duration": 726,
    "start_time": "2021-07-05T13:52:39.857Z"
   },
   {
    "duration": 610,
    "start_time": "2021-07-05T13:52:41.392Z"
   },
   {
    "duration": 544,
    "start_time": "2021-07-05T13:52:42.696Z"
   },
   {
    "duration": 393,
    "start_time": "2021-07-05T13:52:44.567Z"
   },
   {
    "duration": 358,
    "start_time": "2021-07-05T13:52:49.367Z"
   },
   {
    "duration": 436,
    "start_time": "2021-07-05T13:54:15.729Z"
   },
   {
    "duration": 139,
    "start_time": "2021-07-05T13:54:50.747Z"
   },
   {
    "duration": 1940,
    "start_time": "2021-07-05T13:56:35.433Z"
   },
   {
    "duration": 30,
    "start_time": "2021-07-05T14:00:25.060Z"
   },
   {
    "duration": 378,
    "start_time": "2021-07-05T14:00:33.422Z"
   },
   {
    "duration": 12,
    "start_time": "2021-07-05T14:04:11.143Z"
   },
   {
    "duration": 11,
    "start_time": "2021-07-05T14:04:23.014Z"
   },
   {
    "duration": 3,
    "start_time": "2021-07-05T14:04:49.540Z"
   },
   {
    "duration": 591,
    "start_time": "2021-07-05T14:09:52.754Z"
   },
   {
    "duration": 417,
    "start_time": "2021-07-05T14:09:59.359Z"
   },
   {
    "duration": 348,
    "start_time": "2021-07-05T14:10:03.347Z"
   },
   {
    "duration": 443,
    "start_time": "2021-07-05T14:10:05.757Z"
   },
   {
    "duration": 415,
    "start_time": "2021-07-05T14:10:08.442Z"
   },
   {
    "duration": 560,
    "start_time": "2021-07-05T14:10:38.074Z"
   },
   {
    "duration": 442,
    "start_time": "2021-07-05T14:10:59.923Z"
   },
   {
    "duration": 6382,
    "start_time": "2021-07-05T14:12:22.748Z"
   },
   {
    "duration": 556,
    "start_time": "2021-07-05T14:12:41.117Z"
   },
   {
    "duration": 633,
    "start_time": "2021-07-05T14:12:54.188Z"
   },
   {
    "duration": 488,
    "start_time": "2021-07-05T14:13:22.326Z"
   },
   {
    "duration": 269,
    "start_time": "2021-07-05T14:17:59.523Z"
   },
   {
    "duration": 280,
    "start_time": "2021-07-05T14:18:14.338Z"
   },
   {
    "duration": 1079,
    "start_time": "2021-07-05T14:18:33.226Z"
   },
   {
    "duration": 519,
    "start_time": "2021-07-05T14:19:00.572Z"
   },
   {
    "duration": 531,
    "start_time": "2021-07-05T14:19:20.836Z"
   },
   {
    "duration": 488,
    "start_time": "2021-07-05T14:19:26.709Z"
   },
   {
    "duration": 1697,
    "start_time": "2021-07-05T14:20:25.172Z"
   },
   {
    "duration": 557,
    "start_time": "2021-07-05T14:20:50.950Z"
   },
   {
    "duration": 491,
    "start_time": "2021-07-05T14:21:20.649Z"
   },
   {
    "duration": 488,
    "start_time": "2021-07-05T14:21:27.079Z"
   },
   {
    "duration": 1248,
    "start_time": "2021-07-05T14:21:36.185Z"
   },
   {
    "duration": 1616,
    "start_time": "2021-07-05T14:23:26.216Z"
   },
   {
    "duration": 505,
    "start_time": "2021-07-05T14:23:56.008Z"
   },
   {
    "duration": 21,
    "start_time": "2021-07-05T14:24:15.807Z"
   },
   {
    "duration": 364,
    "start_time": "2021-07-05T14:25:12.959Z"
   },
   {
    "duration": 757,
    "start_time": "2021-07-05T14:25:19.529Z"
   },
   {
    "duration": 494,
    "start_time": "2021-07-05T14:27:17.939Z"
   },
   {
    "duration": 1022,
    "start_time": "2021-07-05T14:27:45.363Z"
   },
   {
    "duration": 5456,
    "start_time": "2021-07-05T14:28:24.435Z"
   },
   {
    "duration": 1989,
    "start_time": "2021-07-05T14:29:05.655Z"
   },
   {
    "duration": 7,
    "start_time": "2021-07-05T14:29:23.004Z"
   },
   {
    "duration": 7,
    "start_time": "2021-07-05T14:29:32.318Z"
   },
   {
    "duration": 13,
    "start_time": "2021-07-05T14:29:34.544Z"
   },
   {
    "duration": 312,
    "start_time": "2021-07-05T14:31:51.727Z"
   },
   {
    "duration": 354,
    "start_time": "2021-07-05T14:31:58.327Z"
   },
   {
    "duration": 6,
    "start_time": "2021-07-05T14:32:14.249Z"
   },
   {
    "duration": 6,
    "start_time": "2021-07-05T14:32:52.185Z"
   },
   {
    "duration": 5,
    "start_time": "2021-07-05T14:33:00.481Z"
   },
   {
    "duration": 290,
    "start_time": "2021-07-05T14:33:34.935Z"
   },
   {
    "duration": 260,
    "start_time": "2021-07-05T14:34:04.026Z"
   },
   {
    "duration": 312,
    "start_time": "2021-07-05T14:34:10.018Z"
   },
   {
    "duration": 85,
    "start_time": "2021-07-05T14:34:14.562Z"
   },
   {
    "duration": 88,
    "start_time": "2021-07-05T14:34:18.881Z"
   },
   {
    "duration": 210,
    "start_time": "2021-07-05T14:34:21.147Z"
   },
   {
    "duration": 150,
    "start_time": "2021-07-05T14:34:30.218Z"
   },
   {
    "duration": 513,
    "start_time": "2021-07-05T14:34:37.896Z"
   },
   {
    "duration": 273,
    "start_time": "2021-07-05T14:34:45.442Z"
   },
   {
    "duration": 255,
    "start_time": "2021-07-05T14:34:49.217Z"
   },
   {
    "duration": 544,
    "start_time": "2021-07-05T14:35:00.745Z"
   },
   {
    "duration": 627,
    "start_time": "2021-07-05T14:35:12.930Z"
   },
   {
    "duration": 267,
    "start_time": "2021-07-05T14:36:22.388Z"
   },
   {
    "duration": 283,
    "start_time": "2021-07-05T14:36:38.652Z"
   },
   {
    "duration": 281,
    "start_time": "2021-07-05T14:36:56.514Z"
   },
   {
    "duration": 355,
    "start_time": "2021-07-05T14:37:15.616Z"
   },
   {
    "duration": 4,
    "start_time": "2021-07-05T14:37:23.374Z"
   },
   {
    "duration": 5,
    "start_time": "2021-07-05T14:37:30.326Z"
   },
   {
    "duration": 5,
    "start_time": "2021-07-05T14:37:39.796Z"
   },
   {
    "duration": 6,
    "start_time": "2021-07-05T14:37:46.131Z"
   },
   {
    "duration": 274,
    "start_time": "2021-07-05T14:37:53.934Z"
   },
   {
    "duration": 275,
    "start_time": "2021-07-05T14:37:59.153Z"
   },
   {
    "duration": 321,
    "start_time": "2021-07-05T14:38:17.087Z"
   },
   {
    "duration": 6,
    "start_time": "2021-07-05T14:38:30.037Z"
   },
   {
    "duration": 6,
    "start_time": "2021-07-05T14:38:34.941Z"
   },
   {
    "duration": 23,
    "start_time": "2021-07-05T14:39:31.141Z"
   },
   {
    "duration": 8,
    "start_time": "2021-07-05T14:39:36.119Z"
   },
   {
    "duration": 51,
    "start_time": "2021-07-05T14:39:39.718Z"
   },
   {
    "duration": 264,
    "start_time": "2021-07-05T14:41:10.207Z"
   },
   {
    "duration": 6579,
    "start_time": "2021-07-05T14:41:24.200Z"
   },
   {
    "duration": 33,
    "start_time": "2021-07-05T14:41:52.137Z"
   },
   {
    "duration": 840,
    "start_time": "2021-07-05T14:42:44.049Z"
   },
   {
    "duration": 222,
    "start_time": "2021-07-05T14:42:55.738Z"
   },
   {
    "duration": 475,
    "start_time": "2021-07-05T14:43:18.068Z"
   },
   {
    "duration": 553,
    "start_time": "2021-07-05T14:43:35.923Z"
   },
   {
    "duration": 246,
    "start_time": "2021-07-05T14:43:51.826Z"
   },
   {
    "duration": 202,
    "start_time": "2021-07-05T14:44:04.291Z"
   },
   {
    "duration": 204,
    "start_time": "2021-07-05T14:44:08.117Z"
   },
   {
    "duration": 203,
    "start_time": "2021-07-05T14:44:31.492Z"
   },
   {
    "duration": 209,
    "start_time": "2021-07-05T14:44:34.235Z"
   },
   {
    "duration": 203,
    "start_time": "2021-07-05T14:44:40.467Z"
   },
   {
    "duration": 214,
    "start_time": "2021-07-05T14:45:08.194Z"
   },
   {
    "duration": 225,
    "start_time": "2021-07-05T14:45:16.931Z"
   },
   {
    "duration": 220,
    "start_time": "2021-07-05T14:45:22.077Z"
   },
   {
    "duration": 215,
    "start_time": "2021-07-05T14:45:27.431Z"
   },
   {
    "duration": 233,
    "start_time": "2021-07-05T14:45:39.902Z"
   },
   {
    "duration": 246,
    "start_time": "2021-07-05T14:45:49.804Z"
   },
   {
    "duration": 248,
    "start_time": "2021-07-05T14:45:54.172Z"
   },
   {
    "duration": 227,
    "start_time": "2021-07-05T14:45:58.436Z"
   },
   {
    "duration": 386,
    "start_time": "2021-07-05T14:46:14.517Z"
   },
   {
    "duration": 217,
    "start_time": "2021-07-05T14:46:25.517Z"
   },
   {
    "duration": 507,
    "start_time": "2021-07-05T14:47:11.694Z"
   },
   {
    "duration": 776,
    "start_time": "2021-07-05T14:51:43.798Z"
   },
   {
    "duration": 905,
    "start_time": "2021-07-05T14:53:32.588Z"
   },
   {
    "duration": 358,
    "start_time": "2021-07-05T14:54:01.564Z"
   },
   {
    "duration": 483,
    "start_time": "2021-07-05T14:55:02.742Z"
   },
   {
    "duration": 240,
    "start_time": "2021-07-05T14:55:12.534Z"
   },
   {
    "duration": 482,
    "start_time": "2021-07-05T14:55:25.478Z"
   },
   {
    "duration": 462,
    "start_time": "2021-07-05T14:55:32.734Z"
   },
   {
    "duration": 449,
    "start_time": "2021-07-05T14:55:36.071Z"
   },
   {
    "duration": 442,
    "start_time": "2021-07-05T14:55:48.079Z"
   },
   {
    "duration": 467,
    "start_time": "2021-07-05T14:55:57.199Z"
   },
   {
    "duration": 458,
    "start_time": "2021-07-05T14:56:10.695Z"
   },
   {
    "duration": 562,
    "start_time": "2021-07-05T14:56:25.258Z"
   },
   {
    "duration": 518,
    "start_time": "2021-07-05T15:02:43.942Z"
   },
   {
    "duration": 228,
    "start_time": "2021-07-05T15:02:58.365Z"
   },
   {
    "duration": 293,
    "start_time": "2021-07-05T15:05:45.888Z"
   },
   {
    "duration": 471,
    "start_time": "2021-07-05T15:05:52.496Z"
   },
   {
    "duration": 527,
    "start_time": "2021-07-05T15:05:56.202Z"
   },
   {
    "duration": 564,
    "start_time": "2021-07-05T15:06:00.369Z"
   },
   {
    "duration": 455,
    "start_time": "2021-07-05T15:06:18.668Z"
   },
   {
    "duration": 980,
    "start_time": "2021-07-05T15:07:28.180Z"
   },
   {
    "duration": 91,
    "start_time": "2021-07-05T15:10:50.055Z"
   },
   {
    "duration": 91,
    "start_time": "2021-07-05T15:11:50.334Z"
   },
   {
    "duration": 90,
    "start_time": "2021-07-05T15:11:58.911Z"
   },
   {
    "duration": 88,
    "start_time": "2021-07-05T15:12:07.318Z"
   },
   {
    "duration": 21,
    "start_time": "2021-07-05T15:12:16.006Z"
   },
   {
    "duration": 393,
    "start_time": "2021-07-05T15:12:45.583Z"
   },
   {
    "duration": 22,
    "start_time": "2021-07-05T15:12:55.303Z"
   },
   {
    "duration": 299,
    "start_time": "2021-07-05T15:13:09.030Z"
   },
   {
    "duration": 22,
    "start_time": "2021-07-05T15:13:22.047Z"
   },
   {
    "duration": 363,
    "start_time": "2021-07-05T15:15:05.077Z"
   },
   {
    "duration": 30,
    "start_time": "2021-07-05T15:17:08.533Z"
   },
   {
    "duration": 476,
    "start_time": "2021-07-05T15:17:27.315Z"
   },
   {
    "duration": 304,
    "start_time": "2021-07-05T15:17:41.059Z"
   },
   {
    "duration": 266,
    "start_time": "2021-07-05T15:17:47.659Z"
   },
   {
    "duration": 29,
    "start_time": "2021-07-05T15:19:53.501Z"
   },
   {
    "duration": 25,
    "start_time": "2021-07-05T15:20:03.422Z"
   },
   {
    "duration": 299,
    "start_time": "2021-07-05T15:20:52.017Z"
   },
   {
    "duration": 293,
    "start_time": "2021-07-05T15:21:29.337Z"
   },
   {
    "duration": 30,
    "start_time": "2021-07-05T15:22:30.368Z"
   },
   {
    "duration": 255,
    "start_time": "2021-07-05T15:23:17.601Z"
   },
   {
    "duration": 40,
    "start_time": "2021-07-05T15:25:39.515Z"
   },
   {
    "duration": 542,
    "start_time": "2021-07-05T15:25:43.405Z"
   },
   {
    "duration": 597,
    "start_time": "2021-07-05T15:25:52.187Z"
   },
   {
    "duration": 583,
    "start_time": "2021-07-05T15:25:58.389Z"
   },
   {
    "duration": 278,
    "start_time": "2021-07-05T15:28:29.901Z"
   },
   {
    "duration": 545,
    "start_time": "2021-07-05T15:29:03.768Z"
   },
   {
    "duration": 1250,
    "start_time": "2021-07-05T15:31:39.150Z"
   },
   {
    "duration": 915,
    "start_time": "2021-07-05T15:35:30.734Z"
   },
   {
    "duration": 881,
    "start_time": "2021-07-05T15:35:35.878Z"
   },
   {
    "duration": 895,
    "start_time": "2021-07-05T15:35:45.455Z"
   },
   {
    "duration": 1323,
    "start_time": "2021-07-05T15:36:39.718Z"
   },
   {
    "duration": 317,
    "start_time": "2021-07-05T15:36:56.477Z"
   },
   {
    "duration": 918,
    "start_time": "2021-07-05T15:37:03.227Z"
   },
   {
    "duration": 1201,
    "start_time": "2021-07-05T15:37:31.056Z"
   },
   {
    "duration": 1248,
    "start_time": "2021-07-05T15:37:49.944Z"
   },
   {
    "duration": 548,
    "start_time": "2021-07-05T15:38:05.756Z"
   },
   {
    "duration": 938,
    "start_time": "2021-07-05T20:19:53.430Z"
   },
   {
    "duration": 26,
    "start_time": "2021-07-05T20:19:54.371Z"
   },
   {
    "duration": 103,
    "start_time": "2021-07-05T20:19:54.400Z"
   },
   {
    "duration": 17,
    "start_time": "2021-07-05T20:19:54.506Z"
   },
   {
    "duration": 16,
    "start_time": "2021-07-05T20:19:54.527Z"
   },
   {
    "duration": 40,
    "start_time": "2021-07-05T20:19:54.545Z"
   },
   {
    "duration": 11,
    "start_time": "2021-07-05T20:19:54.588Z"
   },
   {
    "duration": 16,
    "start_time": "2021-07-05T20:19:54.603Z"
   },
   {
    "duration": 1886,
    "start_time": "2021-07-05T20:19:54.623Z"
   },
   {
    "duration": 9,
    "start_time": "2021-07-05T20:19:56.511Z"
   },
   {
    "duration": 8,
    "start_time": "2021-07-05T20:19:56.523Z"
   },
   {
    "duration": 210,
    "start_time": "2021-07-05T20:19:56.534Z"
   },
   {
    "duration": 57,
    "start_time": "2021-07-05T20:19:56.746Z"
   },
   {
    "duration": 12,
    "start_time": "2021-07-05T20:19:56.806Z"
   },
   {
    "duration": 5,
    "start_time": "2021-07-05T20:19:56.821Z"
   },
   {
    "duration": 18,
    "start_time": "2021-07-05T20:19:56.829Z"
   },
   {
    "duration": 49,
    "start_time": "2021-07-05T20:19:56.849Z"
   },
   {
    "duration": 2848,
    "start_time": "2021-07-05T20:19:56.901Z"
   },
   {
    "duration": 137,
    "start_time": "2021-07-05T20:19:59.752Z"
   },
   {
    "duration": 760,
    "start_time": "2021-07-05T20:19:59.892Z"
   },
   {
    "duration": 763,
    "start_time": "2021-07-05T20:20:00.655Z"
   },
   {
    "duration": 943,
    "start_time": "2021-07-05T20:20:01.420Z"
   },
   {
    "duration": 657,
    "start_time": "2021-07-05T20:20:02.370Z"
   },
   {
    "duration": 659,
    "start_time": "2021-07-05T20:20:03.030Z"
   },
   {
    "duration": 534,
    "start_time": "2021-07-05T20:20:03.691Z"
   },
   {
    "duration": 493,
    "start_time": "2021-07-05T20:20:04.228Z"
   },
   {
    "duration": 23,
    "start_time": "2021-07-05T20:20:04.724Z"
   },
   {
    "duration": 351,
    "start_time": "2021-07-05T20:20:04.749Z"
   },
   {
    "duration": 317,
    "start_time": "2021-07-05T20:20:05.103Z"
   },
   {
    "duration": 315,
    "start_time": "2021-07-05T20:20:05.423Z"
   },
   {
    "duration": 335,
    "start_time": "2021-07-05T20:20:05.741Z"
   },
   {
    "duration": 438,
    "start_time": "2021-07-05T20:20:06.079Z"
   },
   {
    "duration": 395,
    "start_time": "2021-07-05T20:20:06.521Z"
   },
   {
    "duration": 565,
    "start_time": "2021-07-05T20:20:06.919Z"
   },
   {
    "duration": 1347,
    "start_time": "2021-07-05T20:20:07.486Z"
   },
   {
    "duration": 553,
    "start_time": "2021-07-05T20:20:34.818Z"
   },
   {
    "duration": 577,
    "start_time": "2021-07-05T20:20:40.695Z"
   },
   {
    "duration": 710,
    "start_time": "2021-07-05T20:20:46.784Z"
   },
   {
    "duration": 556,
    "start_time": "2021-07-05T20:20:53.059Z"
   },
   {
    "duration": 732,
    "start_time": "2021-07-05T20:21:49.153Z"
   },
   {
    "duration": 10,
    "start_time": "2021-07-05T20:22:02.095Z"
   },
   {
    "duration": 57,
    "start_time": "2021-07-05T20:22:13.341Z"
   },
   {
    "duration": 332,
    "start_time": "2021-07-05T20:23:13.546Z"
   },
   {
    "duration": 973,
    "start_time": "2021-07-05T20:23:25.996Z"
   },
   {
    "duration": 565,
    "start_time": "2021-07-05T20:23:46.694Z"
   },
   {
    "duration": 389,
    "start_time": "2021-07-05T20:24:21.816Z"
   },
   {
    "duration": 316,
    "start_time": "2021-07-05T20:24:39.517Z"
   },
   {
    "duration": 758,
    "start_time": "2021-07-05T20:24:54.479Z"
   },
   {
    "duration": 1432,
    "start_time": "2021-07-05T20:25:08.804Z"
   },
   {
    "duration": 920,
    "start_time": "2021-07-05T20:25:39.098Z"
   },
   {
    "duration": 103,
    "start_time": "2021-07-05T20:37:26.988Z"
   },
   {
    "duration": 1193,
    "start_time": "2021-07-05T20:42:34.737Z"
   },
   {
    "duration": 383,
    "start_time": "2021-07-05T20:43:09.566Z"
   },
   {
    "duration": 1070,
    "start_time": "2021-07-05T20:43:27.097Z"
   },
   {
    "duration": 545,
    "start_time": "2021-07-05T20:43:43.375Z"
   },
   {
    "duration": 341,
    "start_time": "2021-07-05T20:49:15.330Z"
   },
   {
    "duration": 1073,
    "start_time": "2021-07-05T20:49:21.886Z"
   }
  ],
  "kernelspec": {
   "display_name": "Python 3",
   "language": "python",
   "name": "python3"
  },
  "language_info": {
   "codemirror_mode": {
    "name": "ipython",
    "version": 3
   },
   "file_extension": ".py",
   "mimetype": "text/x-python",
   "name": "python",
   "nbconvert_exporter": "python",
   "pygments_lexer": "ipython3",
   "version": "3.8.8"
  },
  "toc": {
   "base_numbering": 1,
   "nav_menu": {},
   "number_sections": true,
   "sideBar": true,
   "skip_h1_title": true,
   "title_cell": "Table of Contents",
   "title_sidebar": "Contents",
   "toc_cell": false,
   "toc_position": {},
   "toc_section_display": true,
   "toc_window_display": false
  }
 },
 "nbformat": 4,
 "nbformat_minor": 2
}
