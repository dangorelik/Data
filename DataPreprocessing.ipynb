{
 "cells": [
  {
   "cell_type": "markdown",
   "metadata": {},
   "source": [
    "# Analyzing borrowers’ risk of defaulting\n",
    "\n",
    "This analysis is based on data taken from a major bank loan division, in order to determine if customer’s marital status and number of children has an impact on the ability of a potential borrower to repay their loan on time.\n",
    "\n",
    "The project explains how to do simple Data Preprocessing in Python:\n",
    "\n",
    "1. Working with Missing Values\n",
    "2. Changing Data Types\n",
    "3. Looking for Duplicates\n",
    "4. Categorizing Data"
   ]
  },
  {
   "cell_type": "markdown",
   "metadata": {},
   "source": [
    "#### Importing libraries and data"
   ]
  },
  {
   "cell_type": "code",
   "execution_count": 1,
   "metadata": {},
   "outputs": [
    {
     "name": "stdout",
     "output_type": "stream",
     "text": [
      "<class 'pandas.core.frame.DataFrame'>\n",
      "RangeIndex: 21525 entries, 0 to 21524\n",
      "Data columns (total 12 columns):\n",
      " #   Column            Non-Null Count  Dtype  \n",
      "---  ------            --------------  -----  \n",
      " 0   children          21525 non-null  int64  \n",
      " 1   days_employed     19351 non-null  float64\n",
      " 2   dob_years         21525 non-null  int64  \n",
      " 3   education         21525 non-null  object \n",
      " 4   education_id      21525 non-null  int64  \n",
      " 5   family_status     21525 non-null  object \n",
      " 6   family_status_id  21525 non-null  int64  \n",
      " 7   gender            21525 non-null  object \n",
      " 8   income_type       21525 non-null  object \n",
      " 9   debt              21525 non-null  int64  \n",
      " 10  total_income      19351 non-null  float64\n",
      " 11  purpose           21525 non-null  object \n",
      "dtypes: float64(2), int64(5), object(5)\n",
      "memory usage: 2.0+ MB\n"
     ]
    },
    {
     "data": {
      "text/html": [
       "<div>\n",
       "<style scoped>\n",
       "    .dataframe tbody tr th:only-of-type {\n",
       "        vertical-align: middle;\n",
       "    }\n",
       "\n",
       "    .dataframe tbody tr th {\n",
       "        vertical-align: top;\n",
       "    }\n",
       "\n",
       "    .dataframe thead th {\n",
       "        text-align: right;\n",
       "    }\n",
       "</style>\n",
       "<table border=\"1\" class=\"dataframe\">\n",
       "  <thead>\n",
       "    <tr style=\"text-align: right;\">\n",
       "      <th></th>\n",
       "      <th>children</th>\n",
       "      <th>days_employed</th>\n",
       "      <th>dob_years</th>\n",
       "      <th>education_id</th>\n",
       "      <th>family_status_id</th>\n",
       "      <th>debt</th>\n",
       "      <th>total_income</th>\n",
       "    </tr>\n",
       "  </thead>\n",
       "  <tbody>\n",
       "    <tr>\n",
       "      <th>count</th>\n",
       "      <td>21525.000000</td>\n",
       "      <td>19351.000000</td>\n",
       "      <td>21525.000000</td>\n",
       "      <td>21525.000000</td>\n",
       "      <td>21525.000000</td>\n",
       "      <td>21525.000000</td>\n",
       "      <td>19351.000000</td>\n",
       "    </tr>\n",
       "    <tr>\n",
       "      <th>mean</th>\n",
       "      <td>0.538908</td>\n",
       "      <td>63046.497661</td>\n",
       "      <td>43.293380</td>\n",
       "      <td>0.817236</td>\n",
       "      <td>0.972544</td>\n",
       "      <td>0.080883</td>\n",
       "      <td>26787.568355</td>\n",
       "    </tr>\n",
       "    <tr>\n",
       "      <th>std</th>\n",
       "      <td>1.381587</td>\n",
       "      <td>140827.311974</td>\n",
       "      <td>12.574584</td>\n",
       "      <td>0.548138</td>\n",
       "      <td>1.420324</td>\n",
       "      <td>0.272661</td>\n",
       "      <td>16475.450632</td>\n",
       "    </tr>\n",
       "    <tr>\n",
       "      <th>min</th>\n",
       "      <td>-1.000000</td>\n",
       "      <td>-18388.949901</td>\n",
       "      <td>0.000000</td>\n",
       "      <td>0.000000</td>\n",
       "      <td>0.000000</td>\n",
       "      <td>0.000000</td>\n",
       "      <td>3306.762000</td>\n",
       "    </tr>\n",
       "    <tr>\n",
       "      <th>25%</th>\n",
       "      <td>0.000000</td>\n",
       "      <td>-2747.423625</td>\n",
       "      <td>33.000000</td>\n",
       "      <td>1.000000</td>\n",
       "      <td>0.000000</td>\n",
       "      <td>0.000000</td>\n",
       "      <td>16488.504500</td>\n",
       "    </tr>\n",
       "    <tr>\n",
       "      <th>50%</th>\n",
       "      <td>0.000000</td>\n",
       "      <td>-1203.369529</td>\n",
       "      <td>42.000000</td>\n",
       "      <td>1.000000</td>\n",
       "      <td>0.000000</td>\n",
       "      <td>0.000000</td>\n",
       "      <td>23202.870000</td>\n",
       "    </tr>\n",
       "    <tr>\n",
       "      <th>75%</th>\n",
       "      <td>1.000000</td>\n",
       "      <td>-291.095954</td>\n",
       "      <td>53.000000</td>\n",
       "      <td>1.000000</td>\n",
       "      <td>1.000000</td>\n",
       "      <td>0.000000</td>\n",
       "      <td>32549.611000</td>\n",
       "    </tr>\n",
       "    <tr>\n",
       "      <th>max</th>\n",
       "      <td>20.000000</td>\n",
       "      <td>401755.400475</td>\n",
       "      <td>75.000000</td>\n",
       "      <td>4.000000</td>\n",
       "      <td>4.000000</td>\n",
       "      <td>1.000000</td>\n",
       "      <td>362496.645000</td>\n",
       "    </tr>\n",
       "  </tbody>\n",
       "</table>\n",
       "</div>"
      ],
      "text/plain": [
       "           children  days_employed     dob_years  education_id  \\\n",
       "count  21525.000000   19351.000000  21525.000000  21525.000000   \n",
       "mean       0.538908   63046.497661     43.293380      0.817236   \n",
       "std        1.381587  140827.311974     12.574584      0.548138   \n",
       "min       -1.000000  -18388.949901      0.000000      0.000000   \n",
       "25%        0.000000   -2747.423625     33.000000      1.000000   \n",
       "50%        0.000000   -1203.369529     42.000000      1.000000   \n",
       "75%        1.000000    -291.095954     53.000000      1.000000   \n",
       "max       20.000000  401755.400475     75.000000      4.000000   \n",
       "\n",
       "       family_status_id          debt   total_income  \n",
       "count      21525.000000  21525.000000   19351.000000  \n",
       "mean           0.972544      0.080883   26787.568355  \n",
       "std            1.420324      0.272661   16475.450632  \n",
       "min            0.000000      0.000000    3306.762000  \n",
       "25%            0.000000      0.000000   16488.504500  \n",
       "50%            0.000000      0.000000   23202.870000  \n",
       "75%            1.000000      0.000000   32549.611000  \n",
       "max            4.000000      1.000000  362496.645000  "
      ]
     },
     "execution_count": 1,
     "metadata": {},
     "output_type": "execute_result"
    }
   ],
   "source": [
    "import pandas as pd\n",
    "data = pd.read_csv(\"C:\\\\Users\\\\Shir\\\\Downloads\\\\Practicum\\\\Library\\\\credit_scoring_eng.csv\")\n",
    "\n",
    "data.info()\n",
    "data.describe()"
   ]
  },
  {
   "cell_type": "code",
   "execution_count": 2,
   "metadata": {},
   "outputs": [
    {
     "data": {
      "text/plain": [
       "children                8\n",
       "days_employed       19351\n",
       "dob_years              58\n",
       "education              15\n",
       "education_id            5\n",
       "family_status           5\n",
       "family_status_id        5\n",
       "gender                  3\n",
       "income_type             8\n",
       "debt                    2\n",
       "total_income        19348\n",
       "purpose                38\n",
       "dtype: int64"
      ]
     },
     "execution_count": 2,
     "metadata": {},
     "output_type": "execute_result"
    }
   ],
   "source": [
    "#checking for duplicates and errors\n",
    "data.nunique()"
   ]
  },
  {
   "cell_type": "code",
   "execution_count": 3,
   "metadata": {},
   "outputs": [
    {
     "data": {
      "text/plain": [
       "F      14236\n",
       "M       7288\n",
       "XNA        1\n",
       "Name: gender, dtype: int64"
      ]
     },
     "execution_count": 3,
     "metadata": {},
     "output_type": "execute_result"
    }
   ],
   "source": [
    "#exploring the gender column\n",
    "data['gender'].value_counts()"
   ]
  },
  {
   "cell_type": "code",
   "execution_count": 4,
   "metadata": {},
   "outputs": [
    {
     "data": {
      "text/plain": [
       "array([\"bachelor's degree\", 'secondary education', 'Secondary Education',\n",
       "       'SECONDARY EDUCATION', \"BACHELOR'S DEGREE\", 'some college',\n",
       "       'primary education', \"Bachelor's Degree\", 'SOME COLLEGE',\n",
       "       'Some College', 'PRIMARY EDUCATION', 'Primary Education',\n",
       "       'Graduate Degree', 'GRADUATE DEGREE', 'graduate degree'],\n",
       "      dtype=object)"
      ]
     },
     "execution_count": 4,
     "metadata": {},
     "output_type": "execute_result"
    }
   ],
   "source": [
    "#exploring the education column\n",
    "data['education'].unique()"
   ]
  },
  {
   "cell_type": "markdown",
   "metadata": {},
   "source": [
    "### Conclusion"
   ]
  },
  {
   "cell_type": "markdown",
   "metadata": {},
   "source": [
    "There are some missing values, errors and imperfect data that we will need to address:\n",
    "\n",
    "1. Missing values in 2 columns(days_employed and total_income) - quantitative variables.\n",
    "2. Illogical values (for example: children = 20,-1,  dob_years = 0).\n",
    "3. Errors - negetive values in days_employed column.\n",
    "4. Gender column should have only 2 uniqe values (Male(M) and Female(F)), table now show 3 values('XNA' not defined).\n",
    "5. Duplicate values in education column(becaue of case sensitivity), number of uniqe values in education column should be equal to the number of uniqe values in education_id column.      \n"
   ]
  },
  {
   "cell_type": "markdown",
   "metadata": {},
   "source": [
    "## Data preprocessing"
   ]
  },
  {
   "cell_type": "markdown",
   "metadata": {},
   "source": [
    "### Processing missing values"
   ]
  },
  {
   "cell_type": "code",
   "execution_count": 6,
   "metadata": {},
   "outputs": [
    {
     "name": "stdout",
     "output_type": "stream",
     "text": [
      "Total Rows: 21525\n",
      "children               0\n",
      "days_employed       2174\n",
      "dob_years              0\n",
      "education              0\n",
      "education_id           0\n",
      "family_status          0\n",
      "family_status_id       0\n",
      "gender                 0\n",
      "income_type            0\n",
      "debt                   0\n",
      "total_income        2174\n",
      "purpose                0\n",
      "dtype: int64\n"
     ]
    }
   ],
   "source": [
    "#Check the number of rows\n",
    "print('Total Rows:', len(data)) \n",
    "\n",
    "\n",
    "# look for missing values per column\n",
    "print(data.isnull().sum())"
   ]
  },
  {
   "cell_type": "code",
   "execution_count": 7,
   "metadata": {},
   "outputs": [
    {
     "name": "stdout",
     "output_type": "stream",
     "text": [
      "<class 'pandas.core.frame.DataFrame'>\n",
      "RangeIndex: 21525 entries, 0 to 21524\n",
      "Data columns (total 12 columns):\n",
      " #   Column            Non-Null Count  Dtype  \n",
      "---  ------            --------------  -----  \n",
      " 0   children          21525 non-null  int64  \n",
      " 1   days_employed     21525 non-null  float64\n",
      " 2   dob_years         21525 non-null  int64  \n",
      " 3   education         21525 non-null  object \n",
      " 4   education_id      21525 non-null  int64  \n",
      " 5   family_status     21525 non-null  object \n",
      " 6   family_status_id  21525 non-null  int64  \n",
      " 7   gender            21525 non-null  object \n",
      " 8   income_type       21525 non-null  object \n",
      " 9   debt              21525 non-null  int64  \n",
      " 10  total_income      21525 non-null  float64\n",
      " 11  purpose           21525 non-null  object \n",
      "dtypes: float64(2), int64(5), object(5)\n",
      "memory usage: 2.0+ MB\n"
     ]
    }
   ],
   "source": [
    "#Replacing missingvalues with 0\n",
    "data['days_employed'] = data['days_employed'].fillna(value= 0)\n",
    "data['total_income'] = data['total_income'].fillna(value= 0)\n",
    "data.info()"
   ]
  },
  {
   "cell_type": "markdown",
   "metadata": {},
   "source": [
    "### Conclusion"
   ]
  },
  {
   "cell_type": "markdown",
   "metadata": {},
   "source": [
    "There are 21525 rows, missing values were filled by replacing the missing values with 0.\n",
    "Possible explanation for the the missing values: no value means the customer is unemployed, and have no income and no days employed."
   ]
  },
  {
   "cell_type": "markdown",
   "metadata": {},
   "source": [
    "### Data type replacement"
   ]
  },
  {
   "cell_type": "code",
   "execution_count": 8,
   "metadata": {},
   "outputs": [
    {
     "data": {
      "text/html": [
       "<div>\n",
       "<style scoped>\n",
       "    .dataframe tbody tr th:only-of-type {\n",
       "        vertical-align: middle;\n",
       "    }\n",
       "\n",
       "    .dataframe tbody tr th {\n",
       "        vertical-align: top;\n",
       "    }\n",
       "\n",
       "    .dataframe thead th {\n",
       "        text-align: right;\n",
       "    }\n",
       "</style>\n",
       "<table border=\"1\" class=\"dataframe\">\n",
       "  <thead>\n",
       "    <tr style=\"text-align: right;\">\n",
       "      <th></th>\n",
       "      <th>children</th>\n",
       "      <th>days_employed</th>\n",
       "      <th>dob_years</th>\n",
       "      <th>education_id</th>\n",
       "      <th>family_status_id</th>\n",
       "      <th>debt</th>\n",
       "      <th>total_income</th>\n",
       "    </tr>\n",
       "  </thead>\n",
       "  <tbody>\n",
       "    <tr>\n",
       "      <th>count</th>\n",
       "      <td>21525.000000</td>\n",
       "      <td>21525.000000</td>\n",
       "      <td>21525.000000</td>\n",
       "      <td>21525.000000</td>\n",
       "      <td>21525.000000</td>\n",
       "      <td>21525.000000</td>\n",
       "      <td>21525.000000</td>\n",
       "    </tr>\n",
       "    <tr>\n",
       "      <th>mean</th>\n",
       "      <td>0.538908</td>\n",
       "      <td>60156.419005</td>\n",
       "      <td>43.293380</td>\n",
       "      <td>0.817236</td>\n",
       "      <td>0.972544</td>\n",
       "      <td>0.080883</td>\n",
       "      <td>24082.055063</td>\n",
       "    </tr>\n",
       "    <tr>\n",
       "      <th>std</th>\n",
       "      <td>1.381587</td>\n",
       "      <td>133355.929525</td>\n",
       "      <td>12.574584</td>\n",
       "      <td>0.548138</td>\n",
       "      <td>1.420324</td>\n",
       "      <td>0.272661</td>\n",
       "      <td>17583.554088</td>\n",
       "    </tr>\n",
       "    <tr>\n",
       "      <th>min</th>\n",
       "      <td>-1.000000</td>\n",
       "      <td>0.000000</td>\n",
       "      <td>0.000000</td>\n",
       "      <td>0.000000</td>\n",
       "      <td>0.000000</td>\n",
       "      <td>0.000000</td>\n",
       "      <td>0.000000</td>\n",
       "    </tr>\n",
       "    <tr>\n",
       "      <th>25%</th>\n",
       "      <td>0.000000</td>\n",
       "      <td>610.652074</td>\n",
       "      <td>33.000000</td>\n",
       "      <td>1.000000</td>\n",
       "      <td>0.000000</td>\n",
       "      <td>0.000000</td>\n",
       "      <td>14178.053000</td>\n",
       "    </tr>\n",
       "    <tr>\n",
       "      <th>50%</th>\n",
       "      <td>0.000000</td>\n",
       "      <td>1808.053434</td>\n",
       "      <td>42.000000</td>\n",
       "      <td>1.000000</td>\n",
       "      <td>0.000000</td>\n",
       "      <td>0.000000</td>\n",
       "      <td>21682.354000</td>\n",
       "    </tr>\n",
       "    <tr>\n",
       "      <th>75%</th>\n",
       "      <td>1.000000</td>\n",
       "      <td>4779.587738</td>\n",
       "      <td>53.000000</td>\n",
       "      <td>1.000000</td>\n",
       "      <td>1.000000</td>\n",
       "      <td>0.000000</td>\n",
       "      <td>31286.979000</td>\n",
       "    </tr>\n",
       "    <tr>\n",
       "      <th>max</th>\n",
       "      <td>20.000000</td>\n",
       "      <td>401755.400475</td>\n",
       "      <td>75.000000</td>\n",
       "      <td>4.000000</td>\n",
       "      <td>4.000000</td>\n",
       "      <td>1.000000</td>\n",
       "      <td>362496.645000</td>\n",
       "    </tr>\n",
       "  </tbody>\n",
       "</table>\n",
       "</div>"
      ],
      "text/plain": [
       "           children  days_employed     dob_years  education_id  \\\n",
       "count  21525.000000   21525.000000  21525.000000  21525.000000   \n",
       "mean       0.538908   60156.419005     43.293380      0.817236   \n",
       "std        1.381587  133355.929525     12.574584      0.548138   \n",
       "min       -1.000000       0.000000      0.000000      0.000000   \n",
       "25%        0.000000     610.652074     33.000000      1.000000   \n",
       "50%        0.000000    1808.053434     42.000000      1.000000   \n",
       "75%        1.000000    4779.587738     53.000000      1.000000   \n",
       "max       20.000000  401755.400475     75.000000      4.000000   \n",
       "\n",
       "       family_status_id          debt   total_income  \n",
       "count      21525.000000  21525.000000   21525.000000  \n",
       "mean           0.972544      0.080883   24082.055063  \n",
       "std            1.420324      0.272661   17583.554088  \n",
       "min            0.000000      0.000000       0.000000  \n",
       "25%            0.000000      0.000000   14178.053000  \n",
       "50%            0.000000      0.000000   21682.354000  \n",
       "75%            1.000000      0.000000   31286.979000  \n",
       "max            4.000000      1.000000  362496.645000  "
      ]
     },
     "execution_count": 8,
     "metadata": {},
     "output_type": "execute_result"
    }
   ],
   "source": [
    "#Replacing negetive values in the column days_employed with their positive value(days_employed can't be negative)\n",
    "data['days_employed'] =  data['days_employed'].abs()\n",
    "\n",
    "#test that the change was made\n",
    "data.describe()"
   ]
  },
  {
   "cell_type": "code",
   "execution_count": 9,
   "metadata": {},
   "outputs": [
    {
     "data": {
      "text/plain": [
       "F    14237\n",
       "M     7288\n",
       "Name: gender, dtype: int64"
      ]
     },
     "execution_count": 9,
     "metadata": {},
     "output_type": "execute_result"
    }
   ],
   "source": [
    "# There are approximately twice more female then male, so 'XNA' value in the gender column will be replaced with the most common value 'F'\n",
    "data.loc[data['gender'] == 'XNA', ['gender'] ] = 'F'\n",
    "\n",
    "#test that changes were made and explore the 'gender column:\n",
    "data['gender'].value_counts()"
   ]
  },
  {
   "cell_type": "code",
   "execution_count": 10,
   "metadata": {},
   "outputs": [
    {
     "name": "stdout",
     "output_type": "stream",
     "text": [
      "          days_employed  dob_years  education  education_id  family_status  \\\n",
      "children                                                                     \n",
      "-1                   47         47         47            47             47   \n",
      " 0                14149      14149      14149         14149          14149   \n",
      " 1                 4818       4818       4818          4818           4818   \n",
      " 2                 2055       2055       2055          2055           2055   \n",
      " 3                  330        330        330           330            330   \n",
      " 4                   41         41         41            41             41   \n",
      " 5                    9          9          9             9              9   \n",
      " 20                  76         76         76            76             76   \n",
      "\n",
      "          family_status_id  gender  income_type   debt  total_income  purpose  \n",
      "children                                                                       \n",
      "-1                      47      47           47     47            47       47  \n",
      " 0                   14149   14149        14149  14149         14149    14149  \n",
      " 1                    4818    4818         4818   4818          4818     4818  \n",
      " 2                    2055    2055         2055   2055          2055     2055  \n",
      " 3                     330     330          330    330           330      330  \n",
      " 4                      41      41           41     41            41       41  \n",
      " 5                       9       9            9      9             9        9  \n",
      " 20                     76      76           76     76            76       76  \n"
     ]
    }
   ],
   "source": [
    "#Exploring the children column values to identify strange values:\n",
    "print(data.groupby(['children']).count())"
   ]
  },
  {
   "cell_type": "code",
   "execution_count": 11,
   "metadata": {},
   "outputs": [
    {
     "name": "stdout",
     "output_type": "stream",
     "text": [
      "          days_employed  dob_years  education  education_id  family_status  \\\n",
      "children                                                                     \n",
      "0                 14149      14149      14149         14149          14149   \n",
      "1                  4865       4865       4865          4865           4865   \n",
      "2                  2131       2131       2131          2131           2131   \n",
      "3                   330        330        330           330            330   \n",
      "4                    41         41         41            41             41   \n",
      "5                     9          9          9             9              9   \n",
      "\n",
      "          family_status_id  gender  income_type   debt  total_income  purpose  \n",
      "children                                                                       \n",
      "0                    14149   14149        14149  14149         14149    14149  \n",
      "1                     4865    4865         4865   4865          4865     4865  \n",
      "2                     2131    2131         2131   2131          2131     2131  \n",
      "3                      330     330          330    330           330      330  \n",
      "4                       41      41           41     41            41       41  \n",
      "5                        9       9            9      9             9        9  \n"
     ]
    }
   ],
   "source": [
    "#Replacing min and max values(20 and -1, values are illogical) by replacing 20 with 2 and -1 with 1\n",
    "data.loc[data['children'] == 20, ['children'] ] = 2\n",
    "data.loc[data['children'] == -1, ['children'] ] = 1\n",
    "\n",
    "#test that the change was made\n",
    "print(data.groupby(['children']).count())"
   ]
  },
  {
   "cell_type": "code",
   "execution_count": 12,
   "metadata": {},
   "outputs": [
    {
     "data": {
      "text/html": [
       "<div>\n",
       "<style scoped>\n",
       "    .dataframe tbody tr th:only-of-type {\n",
       "        vertical-align: middle;\n",
       "    }\n",
       "\n",
       "    .dataframe tbody tr th {\n",
       "        vertical-align: top;\n",
       "    }\n",
       "\n",
       "    .dataframe thead th {\n",
       "        text-align: right;\n",
       "    }\n",
       "</style>\n",
       "<table border=\"1\" class=\"dataframe\">\n",
       "  <thead>\n",
       "    <tr style=\"text-align: right;\">\n",
       "      <th></th>\n",
       "      <th>children</th>\n",
       "      <th>days_employed</th>\n",
       "      <th>dob_years</th>\n",
       "      <th>education_id</th>\n",
       "      <th>family_status_id</th>\n",
       "      <th>debt</th>\n",
       "      <th>total_income</th>\n",
       "    </tr>\n",
       "  </thead>\n",
       "  <tbody>\n",
       "    <tr>\n",
       "      <th>count</th>\n",
       "      <td>21525.000000</td>\n",
       "      <td>21525.000000</td>\n",
       "      <td>21525.000000</td>\n",
       "      <td>21525.000000</td>\n",
       "      <td>21525.000000</td>\n",
       "      <td>21525.000000</td>\n",
       "      <td>21525.000000</td>\n",
       "    </tr>\n",
       "    <tr>\n",
       "      <th>mean</th>\n",
       "      <td>0.479721</td>\n",
       "      <td>60156.419005</td>\n",
       "      <td>43.496522</td>\n",
       "      <td>0.817236</td>\n",
       "      <td>0.972544</td>\n",
       "      <td>0.080883</td>\n",
       "      <td>24082.055063</td>\n",
       "    </tr>\n",
       "    <tr>\n",
       "      <th>std</th>\n",
       "      <td>0.755528</td>\n",
       "      <td>133355.929525</td>\n",
       "      <td>12.218174</td>\n",
       "      <td>0.548138</td>\n",
       "      <td>1.420324</td>\n",
       "      <td>0.272661</td>\n",
       "      <td>17583.554088</td>\n",
       "    </tr>\n",
       "    <tr>\n",
       "      <th>min</th>\n",
       "      <td>0.000000</td>\n",
       "      <td>0.000000</td>\n",
       "      <td>19.000000</td>\n",
       "      <td>0.000000</td>\n",
       "      <td>0.000000</td>\n",
       "      <td>0.000000</td>\n",
       "      <td>0.000000</td>\n",
       "    </tr>\n",
       "    <tr>\n",
       "      <th>25%</th>\n",
       "      <td>0.000000</td>\n",
       "      <td>610.652074</td>\n",
       "      <td>34.000000</td>\n",
       "      <td>1.000000</td>\n",
       "      <td>0.000000</td>\n",
       "      <td>0.000000</td>\n",
       "      <td>14178.053000</td>\n",
       "    </tr>\n",
       "    <tr>\n",
       "      <th>50%</th>\n",
       "      <td>0.000000</td>\n",
       "      <td>1808.053434</td>\n",
       "      <td>43.000000</td>\n",
       "      <td>1.000000</td>\n",
       "      <td>0.000000</td>\n",
       "      <td>0.000000</td>\n",
       "      <td>21682.354000</td>\n",
       "    </tr>\n",
       "    <tr>\n",
       "      <th>75%</th>\n",
       "      <td>1.000000</td>\n",
       "      <td>4779.587738</td>\n",
       "      <td>53.000000</td>\n",
       "      <td>1.000000</td>\n",
       "      <td>1.000000</td>\n",
       "      <td>0.000000</td>\n",
       "      <td>31286.979000</td>\n",
       "    </tr>\n",
       "    <tr>\n",
       "      <th>max</th>\n",
       "      <td>5.000000</td>\n",
       "      <td>401755.400475</td>\n",
       "      <td>75.000000</td>\n",
       "      <td>4.000000</td>\n",
       "      <td>4.000000</td>\n",
       "      <td>1.000000</td>\n",
       "      <td>362496.645000</td>\n",
       "    </tr>\n",
       "  </tbody>\n",
       "</table>\n",
       "</div>"
      ],
      "text/plain": [
       "           children  days_employed     dob_years  education_id  \\\n",
       "count  21525.000000   21525.000000  21525.000000  21525.000000   \n",
       "mean       0.479721   60156.419005     43.496522      0.817236   \n",
       "std        0.755528  133355.929525     12.218174      0.548138   \n",
       "min        0.000000       0.000000     19.000000      0.000000   \n",
       "25%        0.000000     610.652074     34.000000      1.000000   \n",
       "50%        0.000000    1808.053434     43.000000      1.000000   \n",
       "75%        1.000000    4779.587738     53.000000      1.000000   \n",
       "max        5.000000  401755.400475     75.000000      4.000000   \n",
       "\n",
       "       family_status_id          debt   total_income  \n",
       "count      21525.000000  21525.000000   21525.000000  \n",
       "mean           0.972544      0.080883   24082.055063  \n",
       "std            1.420324      0.272661   17583.554088  \n",
       "min            0.000000      0.000000       0.000000  \n",
       "25%            0.000000      0.000000   14178.053000  \n",
       "50%            0.000000      0.000000   21682.354000  \n",
       "75%            1.000000      0.000000   31286.979000  \n",
       "max            4.000000      1.000000  362496.645000  "
      ]
     },
     "execution_count": 12,
     "metadata": {},
     "output_type": "execute_result"
    }
   ],
   "source": [
    "# calculating the avergare age and replacing '0' values in dob_years column with the average age, as age can't be 0\n",
    "data.loc[data['dob_years'] == 0, ['dob_years']] = data['dob_years'].mean()\n",
    "\n",
    "\n",
    "data.describe()"
   ]
  },
  {
   "cell_type": "markdown",
   "metadata": {},
   "source": [
    "### Conclusion"
   ]
  },
  {
   "cell_type": "markdown",
   "metadata": {},
   "source": [
    "1. days_employed column - negetive values in columns days_employed were replaced with their positive value.\n",
    "2. gender column - 'XNA' value was replaced with the most common value ('F').\n",
    "3. children column - min and max values(20 and -1) were replaced: 20 with 2 and -1 with 1.\n",
    "4. dob_years column - values equal to 0 were replaced with the average age."
   ]
  },
  {
   "cell_type": "markdown",
   "metadata": {},
   "source": [
    "### Processing duplicates"
   ]
  },
  {
   "cell_type": "code",
   "execution_count": 13,
   "metadata": {},
   "outputs": [
    {
     "data": {
      "text/html": [
       "<div>\n",
       "<style scoped>\n",
       "    .dataframe tbody tr th:only-of-type {\n",
       "        vertical-align: middle;\n",
       "    }\n",
       "\n",
       "    .dataframe tbody tr th {\n",
       "        vertical-align: top;\n",
       "    }\n",
       "\n",
       "    .dataframe thead th {\n",
       "        text-align: right;\n",
       "    }\n",
       "</style>\n",
       "<table border=\"1\" class=\"dataframe\">\n",
       "  <thead>\n",
       "    <tr style=\"text-align: right;\">\n",
       "      <th></th>\n",
       "      <th>education_id</th>\n",
       "    </tr>\n",
       "    <tr>\n",
       "      <th>education</th>\n",
       "      <th></th>\n",
       "    </tr>\n",
       "  </thead>\n",
       "  <tbody>\n",
       "    <tr>\n",
       "      <th>BACHELOR'S DEGREE</th>\n",
       "      <td>274</td>\n",
       "    </tr>\n",
       "    <tr>\n",
       "      <th>Bachelor's Degree</th>\n",
       "      <td>268</td>\n",
       "    </tr>\n",
       "    <tr>\n",
       "      <th>GRADUATE DEGREE</th>\n",
       "      <td>1</td>\n",
       "    </tr>\n",
       "    <tr>\n",
       "      <th>Graduate Degree</th>\n",
       "      <td>1</td>\n",
       "    </tr>\n",
       "    <tr>\n",
       "      <th>PRIMARY EDUCATION</th>\n",
       "      <td>17</td>\n",
       "    </tr>\n",
       "    <tr>\n",
       "      <th>Primary Education</th>\n",
       "      <td>15</td>\n",
       "    </tr>\n",
       "    <tr>\n",
       "      <th>SECONDARY EDUCATION</th>\n",
       "      <td>772</td>\n",
       "    </tr>\n",
       "    <tr>\n",
       "      <th>SOME COLLEGE</th>\n",
       "      <td>29</td>\n",
       "    </tr>\n",
       "    <tr>\n",
       "      <th>Secondary Education</th>\n",
       "      <td>711</td>\n",
       "    </tr>\n",
       "    <tr>\n",
       "      <th>Some College</th>\n",
       "      <td>47</td>\n",
       "    </tr>\n",
       "    <tr>\n",
       "      <th>bachelor's degree</th>\n",
       "      <td>4718</td>\n",
       "    </tr>\n",
       "    <tr>\n",
       "      <th>graduate degree</th>\n",
       "      <td>4</td>\n",
       "    </tr>\n",
       "    <tr>\n",
       "      <th>primary education</th>\n",
       "      <td>250</td>\n",
       "    </tr>\n",
       "    <tr>\n",
       "      <th>secondary education</th>\n",
       "      <td>13750</td>\n",
       "    </tr>\n",
       "    <tr>\n",
       "      <th>some college</th>\n",
       "      <td>668</td>\n",
       "    </tr>\n",
       "  </tbody>\n",
       "</table>\n",
       "</div>"
      ],
      "text/plain": [
       "                     education_id\n",
       "education                        \n",
       "BACHELOR'S DEGREE             274\n",
       "Bachelor's Degree             268\n",
       "GRADUATE DEGREE                 1\n",
       "Graduate Degree                 1\n",
       "PRIMARY EDUCATION              17\n",
       "Primary Education              15\n",
       "SECONDARY EDUCATION           772\n",
       "SOME COLLEGE                   29\n",
       "Secondary Education           711\n",
       "Some College                   47\n",
       "bachelor's degree            4718\n",
       "graduate degree                 4\n",
       "primary education             250\n",
       "secondary education         13750\n",
       "some college                  668"
      ]
     },
     "execution_count": 13,
     "metadata": {},
     "output_type": "execute_result"
    }
   ],
   "source": [
    "#exploring the values in education column\n",
    "data.pivot_table(index='education', values= 'education_id', aggfunc='count')"
   ]
  },
  {
   "cell_type": "code",
   "execution_count": 14,
   "metadata": {},
   "outputs": [
    {
     "name": "stdout",
     "output_type": "stream",
     "text": [
      "Unique values: 15\n",
      "Total values: 21525\n"
     ]
    }
   ],
   "source": [
    "#count the number of uniqe values in the education columns\n",
    "print('Unique values:', data['education'].nunique())\n",
    "\n",
    "#count the number of values in education column\n",
    "print('Total values:', len(data['education']))\n"
   ]
  },
  {
   "cell_type": "code",
   "execution_count": 15,
   "metadata": {},
   "outputs": [],
   "source": [
    "#remove case sensitivity duplicates using str.lower()\n",
    "data['education'] = data['education'].str.lower()"
   ]
  },
  {
   "cell_type": "code",
   "execution_count": 16,
   "metadata": {},
   "outputs": [
    {
     "data": {
      "text/html": [
       "<div>\n",
       "<style scoped>\n",
       "    .dataframe tbody tr th:only-of-type {\n",
       "        vertical-align: middle;\n",
       "    }\n",
       "\n",
       "    .dataframe tbody tr th {\n",
       "        vertical-align: top;\n",
       "    }\n",
       "\n",
       "    .dataframe thead th {\n",
       "        text-align: right;\n",
       "    }\n",
       "</style>\n",
       "<table border=\"1\" class=\"dataframe\">\n",
       "  <thead>\n",
       "    <tr style=\"text-align: right;\">\n",
       "      <th></th>\n",
       "      <th>education_id</th>\n",
       "    </tr>\n",
       "    <tr>\n",
       "      <th>education</th>\n",
       "      <th></th>\n",
       "    </tr>\n",
       "  </thead>\n",
       "  <tbody>\n",
       "    <tr>\n",
       "      <th>bachelor's degree</th>\n",
       "      <td>5260</td>\n",
       "    </tr>\n",
       "    <tr>\n",
       "      <th>graduate degree</th>\n",
       "      <td>6</td>\n",
       "    </tr>\n",
       "    <tr>\n",
       "      <th>primary education</th>\n",
       "      <td>282</td>\n",
       "    </tr>\n",
       "    <tr>\n",
       "      <th>secondary education</th>\n",
       "      <td>15233</td>\n",
       "    </tr>\n",
       "    <tr>\n",
       "      <th>some college</th>\n",
       "      <td>744</td>\n",
       "    </tr>\n",
       "  </tbody>\n",
       "</table>\n",
       "</div>"
      ],
      "text/plain": [
       "                     education_id\n",
       "education                        \n",
       "bachelor's degree            5260\n",
       "graduate degree                 6\n",
       "primary education             282\n",
       "secondary education         15233\n",
       "some college                  744"
      ]
     },
     "execution_count": 16,
     "metadata": {},
     "output_type": "execute_result"
    }
   ],
   "source": [
    "#exploring the values in education column after the change\n",
    "data.pivot_table(index='education', values= 'education_id', aggfunc='count')"
   ]
  },
  {
   "cell_type": "code",
   "execution_count": 17,
   "metadata": {},
   "outputs": [
    {
     "name": "stdout",
     "output_type": "stream",
     "text": [
      "Unique values: 5\n",
      "Total values: 21525\n"
     ]
    }
   ],
   "source": [
    "#count the number of uniqe values in the education columns after the change\n",
    "print('Unique values:', data['education'].nunique())\n",
    "\n",
    "#count the number of values in education column after the change\n",
    "print('Total values:', len(data['education']))"
   ]
  },
  {
   "cell_type": "markdown",
   "metadata": {},
   "source": [
    "### Conclusion"
   ]
  },
  {
   "cell_type": "markdown",
   "metadata": {},
   "source": [
    "Duplicates in education column were removed, now the number of uniqe values in education column match the numbner of uniqe values in the educaton_id column"
   ]
  },
  {
   "cell_type": "markdown",
   "metadata": {},
   "source": [
    "### Categorizing Data"
   ]
  },
  {
   "cell_type": "code",
   "execution_count": 18,
   "metadata": {},
   "outputs": [],
   "source": [
    "#create 2 new df with the groups of people who defaulted on a loan, and people who don't - it will help when we would want to compare between groups\n",
    "\n",
    "data_debt = data[data['debt'] == 1]\n",
    "data_no_debt = data[data['debt'] == 0]\n"
   ]
  },
  {
   "cell_type": "code",
   "execution_count": 19,
   "metadata": {},
   "outputs": [
    {
     "data": {
      "text/plain": [
       "wedding ceremony                            797\n",
       "having a wedding                            777\n",
       "to have a wedding                           774\n",
       "real estate transactions                    676\n",
       "buy commercial real estate                  664\n",
       "housing transactions                        653\n",
       "buying property for renting out             653\n",
       "transactions with commercial real estate    651\n",
       "purchase of the house                       647\n",
       "housing                                     647\n",
       "purchase of the house for my family         641\n",
       "construction of own property                635\n",
       "property                                    634\n",
       "transactions with my real estate            630\n",
       "building a real estate                      626\n",
       "buy real estate                             624\n",
       "building a property                         620\n",
       "purchase of my own house                    620\n",
       "housing renovation                          612\n",
       "buy residential real estate                 607\n",
       "buying my own car                           505\n",
       "going to university                         496\n",
       "car                                         495\n",
       "second-hand car purchase                    489\n",
       "to own a car                                480\n",
       "buying a second-hand car                    479\n",
       "cars                                        478\n",
       "to buy a car                                472\n",
       "car purchase                                462\n",
       "supplementary education                     462\n",
       "purchase of a car                           455\n",
       "university education                        453\n",
       "education                                   447\n",
       "to get a supplementary education            447\n",
       "getting an education                        443\n",
       "profile education                           436\n",
       "getting higher education                    426\n",
       "to become educated                          412\n",
       "Name: purpose, dtype: int64"
      ]
     },
     "execution_count": 19,
     "metadata": {},
     "output_type": "execute_result"
    }
   ],
   "source": [
    "#look at the reasons for taking out a loan, and try to see any trends\n",
    "data.purpose.value_counts()"
   ]
  },
  {
   "cell_type": "code",
   "execution_count": 20,
   "metadata": {},
   "outputs": [
    {
     "name": "stdout",
     "output_type": "stream",
     "text": [
      "Trend: real estate 336\n",
      "Trend: house 256\n",
      "Trend: property 190\n",
      "Trend: car 403\n",
      "Trend: education 327\n",
      "Trend: wedding 186\n",
      "Trend: university 83\n"
     ]
    }
   ],
   "source": [
    "#There are few trends: cars, wedding and education\n",
    "#count how many times people used each purpose in debt data(debt = 1):\n",
    "print('Trend: real estate' , sum(\"real estate\" in s for s in data_debt['purpose']))\n",
    "print('Trend: house' , sum(\"hous\" in s for s in data_debt['purpose']))\n",
    "print('Trend: property' , sum(\"property\" in s for s in data_debt['purpose']))\n",
    "print('Trend: car' , sum('car' in s for s in data_debt['purpose']))\n",
    "print('Trend: education' , sum('educat' in s for s in data_debt['purpose']))\n",
    "print('Trend: wedding' , sum('wedding' in s for s in data_debt['purpose']))\n",
    "print('Trend: university' , sum('university' in s for s in data_debt['purpose']))"
   ]
  },
  {
   "cell_type": "code",
   "execution_count": 21,
   "metadata": {},
   "outputs": [
    {
     "name": "stdout",
     "output_type": "stream",
     "text": [
      "wedding_debt 186\n",
      "education_debt 410\n",
      "car_debt 403\n",
      "real_estate_debt 782\n",
      "total_purpose_debt 1781\n"
     ]
    }
   ],
   "source": [
    "#add the similar purposes to create 4 main trends, and their total:\n",
    "#use debt data to calculate only people who defaulted on a loan\n",
    "wedding_debt = sum('wedding' in s for s in data_debt['purpose'])\n",
    "print('wedding_debt', wedding_debt)\n",
    "education_debt = ((sum('university' in s for s in data_debt['purpose'])) + sum('educat' in s for s in data_debt['purpose']))\n",
    "print('education_debt', education_debt)\n",
    "car_debt = (sum('car' in s for s in data_debt['purpose']))\n",
    "print('car_debt', car_debt)\n",
    "real_estate_debt = (sum(\"real estate\" in s for s in data_debt['purpose']) + sum(\"hous\" in s for s in data_debt['purpose']) + sum(\"property\" in s for s in data_debt['purpose']))\n",
    "print('real_estate_debt', real_estate_debt)\n",
    "total_purpose_debt = wedding_debt+ education_debt + car_debt + real_estate_debt\n",
    "print('total_purpose_debt', total_purpose_debt)"
   ]
  },
  {
   "cell_type": "code",
   "execution_count": 22,
   "metadata": {},
   "outputs": [
    {
     "name": "stdout",
     "output_type": "stream",
     "text": [
      "Trend: real estate 4142\n",
      "Trend: house 3564\n",
      "Trend: property 2352\n",
      "Trend: car 3912\n",
      "Trend: education 3199\n",
      "Trend: wedding 2162\n",
      "Trend: university 866\n"
     ]
    }
   ],
   "source": [
    "#There are few trends: cars, wedding and education\n",
    "#count how many times people used each purpose in no debt data(debt = 0):\n",
    "print('Trend: real estate' , sum(\"real estate\" in s for s in data_no_debt['purpose']))\n",
    "print('Trend: house' , sum(\"hous\" in s for s in data_no_debt['purpose']))\n",
    "print('Trend: property' , sum(\"property\" in s for s in data_no_debt['purpose']))\n",
    "print('Trend: car' , sum('car' in s for s in data_no_debt['purpose']))\n",
    "print('Trend: education' , sum('educat' in s for s in data_no_debt['purpose']))\n",
    "print('Trend: wedding' , sum('wedding' in s for s in data_no_debt['purpose']))\n",
    "print('Trend: university' , sum('university' in s for s in data_no_debt['purpose']))"
   ]
  },
  {
   "cell_type": "code",
   "execution_count": 23,
   "metadata": {},
   "outputs": [
    {
     "name": "stdout",
     "output_type": "stream",
     "text": [
      "Wedding 2162\n",
      "Education 4065\n",
      "Car 3912\n",
      "Real_estate 10058\n",
      "Total 20197\n"
     ]
    }
   ],
   "source": [
    "#add the similar purposes to create 4 main trends, and their total:\n",
    "#use no debt data to calculate only people who did not defaulted on a loan\n",
    "wedding = sum('wedding' in s for s in data_no_debt['purpose'])\n",
    "print('Wedding', wedding)\n",
    "education = ((sum('university' in s for s in data_no_debt['purpose'])) + sum('educat' in s for s in data_no_debt['purpose']))\n",
    "print('Education', education)\n",
    "car = (sum('car' in s for s in data_no_debt['purpose']))\n",
    "print('Car', car)\n",
    "real_estate = (sum(\"real estate\" in s for s in data_no_debt['purpose']) + sum(\"hous\" in s for s in data_no_debt['purpose']) + sum(\"property\" in s for s in data_no_debt['purpose']))\n",
    "print('Real_estate', real_estate)\n",
    "total_purpose = wedding+ education + car + real_estate\n",
    "print('Total', total_purpose)"
   ]
  },
  {
   "cell_type": "code",
   "execution_count": 24,
   "metadata": {},
   "outputs": [
    {
     "name": "stdout",
     "output_type": "stream",
     "text": [
      "21682.354\n"
     ]
    }
   ],
   "source": [
    "#look at the median\n",
    "\n",
    "print(data['total_income'].median())"
   ]
  },
  {
   "cell_type": "code",
   "execution_count": 25,
   "metadata": {},
   "outputs": [],
   "source": [
    "# create groups by income levels\n",
    "\n",
    "def income_level(income):\n",
    "    if income <= 21682*0.5:\n",
    "        return 'low'\n",
    "    if income >= 21682*1.5:\n",
    "        return 'high'\n",
    "    return 'medium'\n",
    "\n",
    "#add a column with the income level\n",
    "data['income_level'] = data['total_income'].apply(income_level)"
   ]
  },
  {
   "cell_type": "code",
   "execution_count": 26,
   "metadata": {},
   "outputs": [
    {
     "data": {
      "text/plain": [
       "medium    13176\n",
       "high       4852\n",
       "low        3497\n",
       "Name: income_level, dtype: int64"
      ]
     },
     "execution_count": 26,
     "metadata": {},
     "output_type": "execute_result"
    }
   ],
   "source": [
    "#look at the distribuation:\n",
    "data.income_level.value_counts()"
   ]
  },
  {
   "cell_type": "code",
   "execution_count": 27,
   "metadata": {},
   "outputs": [
    {
     "data": {
      "text/html": [
       "<div>\n",
       "<style scoped>\n",
       "    .dataframe tbody tr th:only-of-type {\n",
       "        vertical-align: middle;\n",
       "    }\n",
       "\n",
       "    .dataframe tbody tr th {\n",
       "        vertical-align: top;\n",
       "    }\n",
       "\n",
       "    .dataframe thead th {\n",
       "        text-align: right;\n",
       "    }\n",
       "</style>\n",
       "<table border=\"1\" class=\"dataframe\">\n",
       "  <thead>\n",
       "    <tr style=\"text-align: right;\">\n",
       "      <th>debt</th>\n",
       "      <th>0</th>\n",
       "      <th>1</th>\n",
       "    </tr>\n",
       "    <tr>\n",
       "      <th>income_level</th>\n",
       "      <th></th>\n",
       "      <th></th>\n",
       "    </tr>\n",
       "  </thead>\n",
       "  <tbody>\n",
       "    <tr>\n",
       "      <th>high</th>\n",
       "      <td>4511</td>\n",
       "      <td>341</td>\n",
       "    </tr>\n",
       "    <tr>\n",
       "      <th>low</th>\n",
       "      <td>3234</td>\n",
       "      <td>263</td>\n",
       "    </tr>\n",
       "    <tr>\n",
       "      <th>medium</th>\n",
       "      <td>12039</td>\n",
       "      <td>1137</td>\n",
       "    </tr>\n",
       "  </tbody>\n",
       "</table>\n",
       "</div>"
      ],
      "text/plain": [
       "debt              0     1\n",
       "income_level             \n",
       "high           4511   341\n",
       "low            3234   263\n",
       "medium        12039  1137"
      ]
     },
     "execution_count": 27,
     "metadata": {},
     "output_type": "execute_result"
    }
   ],
   "source": [
    "data.pivot_table(index= 'income_level', columns= 'debt', values = 'total_income', aggfunc='count')"
   ]
  },
  {
   "cell_type": "code",
   "execution_count": 28,
   "metadata": {},
   "outputs": [],
   "source": [
    "# Categorize by people who have children, and people who don't\n",
    "\n",
    "def have_children(children):\n",
    "    if children == 0:\n",
    "        return 'No'\n",
    "    if children > 0:\n",
    "        return 'Yes'\n",
    "    return Nan\n",
    "\n",
    "#add a column with the income level\n",
    "data['have_children'] = data['children'].apply(have_children)"
   ]
  },
  {
   "cell_type": "code",
   "execution_count": 29,
   "metadata": {},
   "outputs": [
    {
     "data": {
      "text/plain": [
       "No     14149\n",
       "Yes     7376\n",
       "Name: have_children, dtype: int64"
      ]
     },
     "execution_count": 29,
     "metadata": {},
     "output_type": "execute_result"
    }
   ],
   "source": [
    "#look at the distribuation:\n",
    "data.have_children.value_counts()"
   ]
  },
  {
   "cell_type": "markdown",
   "metadata": {},
   "source": [
    "### Conclusion"
   ]
  },
  {
   "cell_type": "markdown",
   "metadata": {},
   "source": [
    "More Female defaulted on a loan than male.\n",
    "People with secondary education are more likely to defaulte on a loan.\n",
    "Married people are more likely to defaulte on a loan.\n",
    "\n",
    "Total income was grouped to 3 income levels, where low level was set to be 0.5 of the median, and high was set to 1.5 of the median, rest was set to medium.\n",
    "\n",
    "Children were grouped by creating new column to detemine if the person have children or don't.\n"
   ]
  },
  {
   "cell_type": "markdown",
   "metadata": {},
   "source": [
    "### Is there a relation between having kids and repaying a loan on time?"
   ]
  },
  {
   "cell_type": "code",
   "execution_count": 30,
   "metadata": {},
   "outputs": [
    {
     "data": {
      "text/plain": [
       "0    1063\n",
       "1     445\n",
       "2     202\n",
       "3      27\n",
       "4       4\n",
       "Name: children, dtype: int64"
      ]
     },
     "execution_count": 30,
     "metadata": {},
     "output_type": "execute_result"
    }
   ],
   "source": [
    "#Exploring people with defaulted loans and the number of children they have\n",
    "data_debt['children'].value_counts()"
   ]
  },
  {
   "cell_type": "code",
   "execution_count": 31,
   "metadata": {},
   "outputs": [
    {
     "data": {
      "text/plain": [
       "0.6105686387133831"
      ]
     },
     "execution_count": 31,
     "metadata": {},
     "output_type": "execute_result"
    }
   ],
   "source": [
    "#calculate the percentage of people with 0 children who defaulted on a loan out of the total number of people who defaulted\n",
    "data_debt.loc[data_debt.children == 0, 'children'].count() / data_debt['children'].count()"
   ]
  },
  {
   "cell_type": "code",
   "execution_count": 32,
   "metadata": {},
   "outputs": [
    {
     "data": {
      "text/plain": [
       "0    13086\n",
       "1     4420\n",
       "2     1929\n",
       "3      303\n",
       "4       37\n",
       "5        9\n",
       "Name: children, dtype: int64"
      ]
     },
     "execution_count": 32,
     "metadata": {},
     "output_type": "execute_result"
    }
   ],
   "source": [
    "#Explore people with no defaultes and the number of children they have\n",
    "data_no_debt['children'].value_counts()"
   ]
  },
  {
   "cell_type": "code",
   "execution_count": 33,
   "metadata": {},
   "outputs": [
    {
     "data": {
      "text/plain": [
       "0.6614435907804286"
      ]
     },
     "execution_count": 33,
     "metadata": {},
     "output_type": "execute_result"
    }
   ],
   "source": [
    "#calculate the percentage of people with 0 children out of no debt data base\n",
    "data_no_debt.loc[data_no_debt.children == 0, 'children'].count() / data_no_debt['children'].count()\n"
   ]
  },
  {
   "cell_type": "markdown",
   "metadata": {},
   "source": [
    "### Conclusion"
   ]
  },
  {
   "cell_type": "markdown",
   "metadata": {},
   "source": [
    "Although it seems that 61% of the people who defaulted on a loan have 0 children, it is similar to the total percent of people in the database, so we can't assume there is a relation. "
   ]
  },
  {
   "cell_type": "markdown",
   "metadata": {},
   "source": [
    "### Is there a relation between marital status and repaying a loan on time?"
   ]
  },
  {
   "cell_type": "code",
   "execution_count": 34,
   "metadata": {},
   "outputs": [
    {
     "data": {
      "text/plain": [
       "married              11449\n",
       "civil partnership     3789\n",
       "unmarried             2539\n",
       "divorced              1110\n",
       "widow / widower        897\n",
       "Name: family_status, dtype: int64"
      ]
     },
     "execution_count": 34,
     "metadata": {},
     "output_type": "execute_result"
    }
   ],
   "source": [
    "data_no_debt['family_status'].value_counts()"
   ]
  },
  {
   "cell_type": "code",
   "execution_count": 35,
   "metadata": {},
   "outputs": [
    {
     "data": {
      "text/plain": [
       "0.5786999595632835"
      ]
     },
     "execution_count": 35,
     "metadata": {},
     "output_type": "execute_result"
    }
   ],
   "source": [
    "#calculate the percentage of married people out of all people who did not defaulte on a loan\n",
    "data_no_debt.loc[data_no_debt.family_status == 'married', 'family_status'].count() / data_no_debt['family_status'].count()"
   ]
  },
  {
   "cell_type": "code",
   "execution_count": 36,
   "metadata": {},
   "outputs": [
    {
     "data": {
      "text/plain": [
       "married              931\n",
       "civil partnership    388\n",
       "unmarried            274\n",
       "divorced              85\n",
       "widow / widower       63\n",
       "Name: family_status, dtype: int64"
      ]
     },
     "execution_count": 36,
     "metadata": {},
     "output_type": "execute_result"
    }
   ],
   "source": [
    "data_debt['family_status'].value_counts()"
   ]
  },
  {
   "cell_type": "code",
   "execution_count": 37,
   "metadata": {},
   "outputs": [
    {
     "data": {
      "text/plain": [
       "0.5347501435956347"
      ]
     },
     "execution_count": 37,
     "metadata": {},
     "output_type": "execute_result"
    }
   ],
   "source": [
    "#calculate the percentage of married people out of all people defaulted on a loan\n",
    "data_debt.loc[data_debt.family_status == 'married', 'family_status'].count() / data_debt['family_status'].count()"
   ]
  },
  {
   "cell_type": "markdown",
   "metadata": {},
   "source": [
    "### Conclusion"
   ]
  },
  {
   "cell_type": "markdown",
   "metadata": {},
   "source": [
    "Again, it seems like married people are more likely to defaulte on a loan, but when exploring the same status with people who didn't default on a loan, it seems like the percent is almost the same.\n"
   ]
  },
  {
   "cell_type": "markdown",
   "metadata": {},
   "source": [
    "### Is there a relation between income level and repaying a loan on time?"
   ]
  },
  {
   "cell_type": "code",
   "execution_count": 38,
   "metadata": {},
   "outputs": [
    {
     "data": {
      "text/plain": [
       "23547.984776565205"
      ]
     },
     "execution_count": 38,
     "metadata": {},
     "output_type": "execute_result"
    }
   ],
   "source": [
    "#calculate the average income of people who are not repaying a loan on time\n",
    "data_debt['total_income'].mean()"
   ]
  },
  {
   "cell_type": "code",
   "execution_count": 39,
   "metadata": {},
   "outputs": [
    {
     "data": {
      "text/plain": [
       "24129.05346416292"
      ]
     },
     "execution_count": 39,
     "metadata": {},
     "output_type": "execute_result"
    }
   ],
   "source": [
    "#calculate the average income of people repaying loans on time\n",
    "data_no_debt['total_income'].mean()"
   ]
  },
  {
   "cell_type": "markdown",
   "metadata": {},
   "source": [
    "### Conclusion"
   ]
  },
  {
   "cell_type": "markdown",
   "metadata": {},
   "source": [
    "Both groups, people who defaulted on loans and people who didn't, have similar average income, and it's seems like there is no relation."
   ]
  },
  {
   "cell_type": "markdown",
   "metadata": {},
   "source": [
    "### How do different loan purposes affect on-time repayment of the loan?"
   ]
  },
  {
   "cell_type": "code",
   "execution_count": 40,
   "metadata": {},
   "outputs": [
    {
     "name": "stdout",
     "output_type": "stream",
     "text": [
      "Debt = 1 (defaulted on a loan)\n",
      "-------------\n",
      "real_estate 0.43907916900617633\n",
      "education 0.23020774845592365\n",
      "car 0.22627737226277372\n",
      "wedding 0.10443571027512634\n",
      "\n",
      "Debt = 0 (did not default on a loan)\n",
      "-------------\n",
      "real 0.4979947516957964\n",
      "education 0.2012675149774719\n",
      "car 0.19369213249492498\n",
      "wedding 0.1070456008318067\n"
     ]
    }
   ],
   "source": [
    "#calculating the ratio between people who used aeach purpose:\n",
    "print('Debt = 1 (defaulted on a loan)')\n",
    "print( '-------------')\n",
    "print('real_estate', real_estate_debt/ total_purpose_debt)\n",
    "print('education', education_debt/ total_purpose_debt)\n",
    "print('car',car_debt/ total_purpose_debt)\n",
    "print('wedding', wedding_debt/ total_purpose_debt)\n",
    "print('')\n",
    "print('Debt = 0 (did not default on a loan)')\n",
    "print( '-------------')\n",
    "print('real', real_estate/ total_purpose)\n",
    "print('education', education/ total_purpose)\n",
    "print('car', car/ total_purpose)\n",
    "print('wedding', wedding/ total_purpose)"
   ]
  },
  {
   "cell_type": "markdown",
   "metadata": {},
   "source": [
    "### Conclusion"
   ]
  },
  {
   "cell_type": "markdown",
   "metadata": {},
   "source": [
    "We see that people who are taking a loan for education or car reasons, are more likely to default on a loan, as their percent in the debt category is slightly higher then theire percent in the general, non debt category."
   ]
  },
  {
   "cell_type": "markdown",
   "metadata": {},
   "source": [
    "## General conclusion"
   ]
  },
  {
   "cell_type": "markdown",
   "metadata": {},
   "source": [
    "We learned that there are some characteristics to people who are more likely to default a loan, but the information we got from the bank, can't really point to a clear relation between specific factors.\n",
    "The data needs to be explored more, to undersatnd what factors do effect the chance to default a loan.\n",
    "\n",
    "Data was imported, examined and data preprocessing was made by replacing missing values for unemployed people and illogical values regarding number of children. Negative values coused by errors were replaced by positive values, and duplicates that were created because of case sensitivity was removed. Loan purposes were categorized and sorted by main trends, and new data frames were created in order compare both groups(debt vs. no debt).\n",
    "\n",
    "Main findings:\n",
    "1. The profile of a person who will likely default on a loan is someone married with 0 children, with an avergae income of 23.5K, asking for a loan for purposes realted to real estate.\n",
    "\n",
    "2. After comparing the group of people that defaulted on a loan to the group of people who did not, we see that both groups have similar atributes, with few small differnces:\n",
    "people who are taking a loan for education or car related reasons, are more likely to default on a loan.\n"
   ]
  }
 ],
 "metadata": {
  "ExecuteTimeLog": [
   {
    "duration": 1198,
    "start_time": "2021-06-17T09:06:54.290Z"
   },
   {
    "duration": 341,
    "start_time": "2021-06-17T09:08:02.313Z"
   },
   {
    "duration": 94,
    "start_time": "2021-06-17T09:08:30.738Z"
   },
   {
    "duration": 819,
    "start_time": "2021-06-17T09:50:21.617Z"
   },
   {
    "duration": 79,
    "start_time": "2021-06-17T09:52:30.750Z"
   },
   {
    "duration": 81,
    "start_time": "2021-06-17T09:52:40.504Z"
   },
   {
    "duration": 78,
    "start_time": "2021-06-17T09:53:24.606Z"
   },
   {
    "duration": 65,
    "start_time": "2021-06-17T09:53:55.686Z"
   },
   {
    "duration": 66,
    "start_time": "2021-06-17T09:54:28.441Z"
   },
   {
    "duration": 399,
    "start_time": "2021-06-17T09:59:53.457Z"
   },
   {
    "duration": 60,
    "start_time": "2021-06-17T10:00:44.703Z"
   },
   {
    "duration": 3,
    "start_time": "2021-06-17T10:03:32.898Z"
   },
   {
    "duration": 82,
    "start_time": "2021-06-17T13:44:00.266Z"
   },
   {
    "duration": 101,
    "start_time": "2021-06-17T13:45:09.386Z"
   },
   {
    "duration": 98,
    "start_time": "2021-06-17T14:03:31.572Z"
   },
   {
    "duration": 108,
    "start_time": "2021-06-17T14:04:21.659Z"
   },
   {
    "duration": 106,
    "start_time": "2021-06-17T14:52:07.117Z"
   },
   {
    "duration": 60,
    "start_time": "2021-06-17T16:22:40.493Z"
   },
   {
    "duration": 60,
    "start_time": "2021-06-17T16:23:49.413Z"
   },
   {
    "duration": 5,
    "start_time": "2021-06-17T17:33:37.854Z"
   },
   {
    "duration": 6,
    "start_time": "2021-06-17T17:39:38.116Z"
   },
   {
    "duration": 48,
    "start_time": "2021-06-17T17:40:26.940Z"
   },
   {
    "duration": 7,
    "start_time": "2021-06-17T17:43:42.871Z"
   },
   {
    "duration": 275,
    "start_time": "2021-06-17T17:43:52.616Z"
   },
   {
    "duration": 6,
    "start_time": "2021-06-17T17:43:57.672Z"
   },
   {
    "duration": 6,
    "start_time": "2021-06-17T17:44:07.681Z"
   },
   {
    "duration": 10,
    "start_time": "2021-06-17T17:49:24.821Z"
   },
   {
    "duration": 13,
    "start_time": "2021-06-17T17:50:02.709Z"
   },
   {
    "duration": 12,
    "start_time": "2021-06-17T17:50:10.537Z"
   },
   {
    "duration": 19,
    "start_time": "2021-06-17T17:50:31.871Z"
   },
   {
    "duration": 24,
    "start_time": "2021-06-17T17:50:41.271Z"
   },
   {
    "duration": 6,
    "start_time": "2021-06-17T17:51:22.055Z"
   },
   {
    "duration": 6,
    "start_time": "2021-06-17T17:51:36.768Z"
   },
   {
    "duration": 735,
    "start_time": "2021-06-17T17:51:40.919Z"
   },
   {
    "duration": 690,
    "start_time": "2021-06-17T17:51:46.607Z"
   },
   {
    "duration": 10,
    "start_time": "2021-06-17T17:51:51.016Z"
   },
   {
    "duration": 11,
    "start_time": "2021-06-17T17:52:24.440Z"
   },
   {
    "duration": 1572,
    "start_time": "2021-06-17T17:52:32.072Z"
   },
   {
    "duration": 7,
    "start_time": "2021-06-17T17:52:38.484Z"
   },
   {
    "duration": 5,
    "start_time": "2021-06-17T17:57:24.486Z"
   },
   {
    "duration": 53,
    "start_time": "2021-06-17T17:57:28.141Z"
   },
   {
    "duration": 761,
    "start_time": "2021-06-17T17:59:40.801Z"
   },
   {
    "duration": 5276,
    "start_time": "2021-06-17T17:59:43.641Z"
   },
   {
    "duration": 21,
    "start_time": "2021-06-17T18:03:31.305Z"
   },
   {
    "duration": 21,
    "start_time": "2021-06-17T18:09:13.577Z"
   },
   {
    "duration": 21,
    "start_time": "2021-06-17T18:09:37.025Z"
   },
   {
    "duration": 20,
    "start_time": "2021-06-17T18:09:50.193Z"
   },
   {
    "duration": 18,
    "start_time": "2021-06-17T18:10:21.298Z"
   },
   {
    "duration": 7,
    "start_time": "2021-06-17T18:12:48.395Z"
   },
   {
    "duration": 6,
    "start_time": "2021-06-17T18:12:56.428Z"
   },
   {
    "duration": 12,
    "start_time": "2021-06-17T18:13:15.019Z"
   },
   {
    "duration": 171,
    "start_time": "2021-06-17T18:16:04.260Z"
   },
   {
    "duration": 20,
    "start_time": "2021-06-17T18:16:14.175Z"
   },
   {
    "duration": 387,
    "start_time": "2021-06-19T08:20:51.770Z"
   },
   {
    "duration": 346,
    "start_time": "2021-06-19T08:21:03.816Z"
   },
   {
    "duration": 304,
    "start_time": "2021-06-19T08:21:27.951Z"
   },
   {
    "duration": 380,
    "start_time": "2021-06-19T08:21:49.464Z"
   },
   {
    "duration": 299,
    "start_time": "2021-06-19T08:22:03.960Z"
   },
   {
    "duration": 862,
    "start_time": "2021-06-19T08:22:28.873Z"
   },
   {
    "duration": 436,
    "start_time": "2021-06-19T08:22:53.600Z"
   },
   {
    "duration": 423,
    "start_time": "2021-06-19T08:23:07.674Z"
   },
   {
    "duration": 59,
    "start_time": "2021-06-19T08:23:13.776Z"
   },
   {
    "duration": 386,
    "start_time": "2021-06-19T08:26:30.811Z"
   },
   {
    "duration": 363,
    "start_time": "2021-06-19T08:26:46.286Z"
   },
   {
    "duration": 455,
    "start_time": "2021-06-19T08:26:48.628Z"
   },
   {
    "duration": 58,
    "start_time": "2021-06-19T08:27:11.790Z"
   },
   {
    "duration": 55,
    "start_time": "2021-06-19T08:30:48.832Z"
   },
   {
    "duration": 394,
    "start_time": "2021-06-19T08:33:05.324Z"
   },
   {
    "duration": 401,
    "start_time": "2021-06-19T08:33:07.402Z"
   },
   {
    "duration": 397,
    "start_time": "2021-06-19T08:34:33.957Z"
   },
   {
    "duration": 56,
    "start_time": "2021-06-19T08:34:52.062Z"
   },
   {
    "duration": 55,
    "start_time": "2021-06-19T08:35:00.595Z"
   },
   {
    "duration": 127,
    "start_time": "2021-06-19T08:35:48.005Z"
   },
   {
    "duration": 72,
    "start_time": "2021-06-19T08:36:08.382Z"
   },
   {
    "duration": 71,
    "start_time": "2021-06-19T08:36:43.221Z"
   },
   {
    "duration": 55,
    "start_time": "2021-06-19T08:36:57.334Z"
   },
   {
    "duration": 70,
    "start_time": "2021-06-19T08:37:02.422Z"
   },
   {
    "duration": 163,
    "start_time": "2021-06-19T08:54:09.480Z"
   },
   {
    "duration": 34,
    "start_time": "2021-06-19T08:54:18.022Z"
   },
   {
    "duration": 47,
    "start_time": "2021-06-19T08:55:33.073Z"
   },
   {
    "duration": 68,
    "start_time": "2021-06-19T09:26:04.603Z"
   },
   {
    "duration": 66,
    "start_time": "2021-06-19T09:26:30.693Z"
   },
   {
    "duration": 65,
    "start_time": "2021-06-19T09:26:47.977Z"
   },
   {
    "duration": 113,
    "start_time": "2021-06-19T09:30:35.240Z"
   },
   {
    "duration": 63,
    "start_time": "2021-06-19T09:31:59.677Z"
   },
   {
    "duration": 64,
    "start_time": "2021-06-19T09:32:52.108Z"
   },
   {
    "duration": 63,
    "start_time": "2021-06-19T09:33:19.752Z"
   },
   {
    "duration": 90,
    "start_time": "2021-06-19T09:34:01.925Z"
   },
   {
    "duration": 135,
    "start_time": "2021-06-19T09:35:41.027Z"
   },
   {
    "duration": 129,
    "start_time": "2021-06-19T09:36:26.385Z"
   },
   {
    "duration": 134,
    "start_time": "2021-06-19T09:36:37.504Z"
   },
   {
    "duration": 137,
    "start_time": "2021-06-19T09:36:52.272Z"
   },
   {
    "duration": 131,
    "start_time": "2021-06-19T09:36:58.656Z"
   },
   {
    "duration": 127,
    "start_time": "2021-06-19T09:37:10.176Z"
   },
   {
    "duration": 134,
    "start_time": "2021-06-19T09:37:17.905Z"
   },
   {
    "duration": 136,
    "start_time": "2021-06-19T09:37:29.354Z"
   },
   {
    "duration": 140,
    "start_time": "2021-06-19T09:37:46.674Z"
   },
   {
    "duration": 115,
    "start_time": "2021-06-19T09:38:00.347Z"
   },
   {
    "duration": 147,
    "start_time": "2021-06-19T09:38:03.339Z"
   },
   {
    "duration": 41,
    "start_time": "2021-06-19T09:38:10.756Z"
   },
   {
    "duration": 109,
    "start_time": "2021-06-19T09:38:21.954Z"
   },
   {
    "duration": 6,
    "start_time": "2021-06-19T10:30:26.961Z"
   },
   {
    "duration": 7,
    "start_time": "2021-06-19T10:30:34.316Z"
   },
   {
    "duration": 12,
    "start_time": "2021-06-19T10:30:48.213Z"
   },
   {
    "duration": 938,
    "start_time": "2021-06-19T10:31:21.582Z"
   },
   {
    "duration": 940,
    "start_time": "2021-06-19T10:31:35.128Z"
   },
   {
    "duration": 7,
    "start_time": "2021-06-19T10:31:40.222Z"
   },
   {
    "duration": 1028,
    "start_time": "2021-06-19T10:31:52.821Z"
   },
   {
    "duration": 7,
    "start_time": "2021-06-19T10:31:55.052Z"
   },
   {
    "duration": 7,
    "start_time": "2021-06-19T10:35:10.257Z"
   },
   {
    "duration": 56,
    "start_time": "2021-06-19T10:47:54.576Z"
   },
   {
    "duration": 55,
    "start_time": "2021-06-19T10:47:56.998Z"
   },
   {
    "duration": 56,
    "start_time": "2021-06-19T10:47:58.805Z"
   },
   {
    "duration": 368,
    "start_time": "2021-06-19T10:48:04.053Z"
   },
   {
    "duration": 57,
    "start_time": "2021-06-19T10:48:29.815Z"
   },
   {
    "duration": 319,
    "start_time": "2021-06-19T10:50:59.248Z"
   },
   {
    "duration": 436,
    "start_time": "2021-06-19T10:51:05.609Z"
   },
   {
    "duration": 317,
    "start_time": "2021-06-19T10:51:31.593Z"
   },
   {
    "duration": 793,
    "start_time": "2021-06-19T10:54:04.151Z"
   },
   {
    "duration": 397,
    "start_time": "2021-06-19T10:54:37.148Z"
   },
   {
    "duration": 63,
    "start_time": "2021-06-19T10:55:07.561Z"
   },
   {
    "duration": 94,
    "start_time": "2021-06-19T10:56:19.031Z"
   },
   {
    "duration": 94,
    "start_time": "2021-06-19T10:56:26.468Z"
   },
   {
    "duration": 62,
    "start_time": "2021-06-19T10:56:32.717Z"
   },
   {
    "duration": 63,
    "start_time": "2021-06-19T10:56:41.013Z"
   },
   {
    "duration": 7,
    "start_time": "2021-06-19T10:57:44.384Z"
   },
   {
    "duration": 341,
    "start_time": "2021-06-19T10:57:58.143Z"
   },
   {
    "duration": 334,
    "start_time": "2021-06-19T10:58:07.742Z"
   },
   {
    "duration": 15,
    "start_time": "2021-06-19T10:58:15.311Z"
   },
   {
    "duration": 15,
    "start_time": "2021-06-19T10:58:17.951Z"
   },
   {
    "duration": 22,
    "start_time": "2021-06-19T10:58:25.780Z"
   },
   {
    "duration": 15,
    "start_time": "2021-06-19T10:58:38.771Z"
   },
   {
    "duration": 345,
    "start_time": "2021-06-19T10:59:58.570Z"
   },
   {
    "duration": 300,
    "start_time": "2021-06-19T11:00:05.648Z"
   },
   {
    "duration": 6,
    "start_time": "2021-06-19T11:00:09.480Z"
   },
   {
    "duration": 65,
    "start_time": "2021-06-19T11:00:43.339Z"
   },
   {
    "duration": 64,
    "start_time": "2021-06-19T11:00:53.369Z"
   },
   {
    "duration": 17,
    "start_time": "2021-06-19T11:01:25.138Z"
   },
   {
    "duration": 17,
    "start_time": "2021-06-19T11:01:50.124Z"
   },
   {
    "duration": 48,
    "start_time": "2021-06-19T11:02:49.492Z"
   },
   {
    "duration": 18,
    "start_time": "2021-06-19T11:03:04.215Z"
   },
   {
    "duration": 17,
    "start_time": "2021-06-19T11:04:02.172Z"
   },
   {
    "duration": 62,
    "start_time": "2021-06-19T11:28:58.814Z"
   },
   {
    "duration": 60,
    "start_time": "2021-06-19T11:29:23.336Z"
   },
   {
    "duration": 399,
    "start_time": "2021-06-19T11:29:30.742Z"
   },
   {
    "duration": 54,
    "start_time": "2021-06-19T11:29:35.623Z"
   },
   {
    "duration": 61,
    "start_time": "2021-06-19T11:30:19.440Z"
   },
   {
    "duration": 64,
    "start_time": "2021-06-19T11:30:33.592Z"
   },
   {
    "duration": 47,
    "start_time": "2021-06-19T11:36:56.398Z"
   },
   {
    "duration": 70,
    "start_time": "2021-06-19T11:37:20.566Z"
   },
   {
    "duration": 46,
    "start_time": "2021-06-19T11:37:23.703Z"
   },
   {
    "duration": 49,
    "start_time": "2021-06-19T11:37:30.896Z"
   },
   {
    "duration": 332,
    "start_time": "2021-06-19T11:41:51.804Z"
   },
   {
    "duration": 308,
    "start_time": "2021-06-19T11:42:27.641Z"
   },
   {
    "duration": 30,
    "start_time": "2021-06-19T11:42:35.211Z"
   },
   {
    "duration": 7,
    "start_time": "2021-06-19T11:43:06.707Z"
   },
   {
    "duration": 107,
    "start_time": "2021-06-19T11:43:19.188Z"
   },
   {
    "duration": 40,
    "start_time": "2021-06-19T11:43:29.078Z"
   },
   {
    "duration": 7,
    "start_time": "2021-06-19T11:43:32.316Z"
   },
   {
    "duration": 6,
    "start_time": "2021-06-19T11:43:35.804Z"
   },
   {
    "duration": 62,
    "start_time": "2021-06-19T11:43:43.116Z"
   },
   {
    "duration": 17,
    "start_time": "2021-06-19T11:43:49.220Z"
   },
   {
    "duration": 69,
    "start_time": "2021-06-19T11:44:06.517Z"
   },
   {
    "duration": 53,
    "start_time": "2021-06-19T11:44:13.081Z"
   },
   {
    "duration": 41,
    "start_time": "2021-06-19T11:44:22.236Z"
   },
   {
    "duration": 125,
    "start_time": "2021-06-19T11:44:32.175Z"
   },
   {
    "duration": 41,
    "start_time": "2021-06-19T11:44:39.000Z"
   },
   {
    "duration": 6,
    "start_time": "2021-06-19T11:44:41.244Z"
   },
   {
    "duration": 7,
    "start_time": "2021-06-19T11:44:46.782Z"
   },
   {
    "duration": 7,
    "start_time": "2021-06-19T11:44:49.160Z"
   },
   {
    "duration": 62,
    "start_time": "2021-06-19T11:44:52.581Z"
   },
   {
    "duration": 6,
    "start_time": "2021-06-19T11:44:57.068Z"
   },
   {
    "duration": 17,
    "start_time": "2021-06-19T11:45:01.354Z"
   },
   {
    "duration": 7,
    "start_time": "2021-06-19T11:45:05.794Z"
   },
   {
    "duration": 75,
    "start_time": "2021-06-19T11:45:12.142Z"
   },
   {
    "duration": 49,
    "start_time": "2021-06-19T11:47:40.728Z"
   },
   {
    "duration": 6,
    "start_time": "2021-06-19T11:47:47.327Z"
   },
   {
    "duration": 86,
    "start_time": "2021-06-19T11:59:19.305Z"
   },
   {
    "duration": 118,
    "start_time": "2021-06-19T12:02:41.049Z"
   },
   {
    "duration": 39,
    "start_time": "2021-06-19T12:02:45.238Z"
   },
   {
    "duration": 8,
    "start_time": "2021-06-19T12:02:48.207Z"
   },
   {
    "duration": 92,
    "start_time": "2021-06-19T12:03:04.444Z"
   },
   {
    "duration": 119,
    "start_time": "2021-06-19T12:03:38.241Z"
   },
   {
    "duration": 43,
    "start_time": "2021-06-19T12:03:41.208Z"
   },
   {
    "duration": 7,
    "start_time": "2021-06-19T12:03:43.520Z"
   },
   {
    "duration": 7,
    "start_time": "2021-06-19T12:03:45.687Z"
   },
   {
    "duration": 60,
    "start_time": "2021-06-19T12:03:49.536Z"
   },
   {
    "duration": 17,
    "start_time": "2021-06-19T12:03:53.330Z"
   },
   {
    "duration": 73,
    "start_time": "2021-06-19T12:04:09.057Z"
   },
   {
    "duration": 132,
    "start_time": "2021-06-19T12:04:12.635Z"
   },
   {
    "duration": 93,
    "start_time": "2021-06-19T12:04:26.657Z"
   },
   {
    "duration": 84,
    "start_time": "2021-06-19T12:04:34.121Z"
   },
   {
    "duration": 132,
    "start_time": "2021-06-19T12:04:38.914Z"
   },
   {
    "duration": 96,
    "start_time": "2021-06-19T12:04:44.666Z"
   },
   {
    "duration": 35,
    "start_time": "2021-06-19T12:08:49.869Z"
   },
   {
    "duration": 36,
    "start_time": "2021-06-19T12:08:52.334Z"
   },
   {
    "duration": 111,
    "start_time": "2021-06-19T12:08:57.446Z"
   },
   {
    "duration": 40,
    "start_time": "2021-06-19T12:09:00.886Z"
   },
   {
    "duration": 7,
    "start_time": "2021-06-19T12:09:04.846Z"
   },
   {
    "duration": 7,
    "start_time": "2021-06-19T12:09:07.269Z"
   },
   {
    "duration": 65,
    "start_time": "2021-06-19T12:09:27.086Z"
   },
   {
    "duration": 17,
    "start_time": "2021-06-19T12:09:29.557Z"
   },
   {
    "duration": 72,
    "start_time": "2021-06-19T12:09:35.023Z"
   },
   {
    "duration": 35,
    "start_time": "2021-06-19T12:09:38.744Z"
   },
   {
    "duration": 325,
    "start_time": "2021-06-19T12:10:37.939Z"
   },
   {
    "duration": 327,
    "start_time": "2021-06-19T12:10:51.424Z"
   },
   {
    "duration": 51,
    "start_time": "2021-06-19T12:11:12.193Z"
   },
   {
    "duration": 108,
    "start_time": "2021-06-19T12:11:20.161Z"
   },
   {
    "duration": 38,
    "start_time": "2021-06-19T12:11:22.784Z"
   },
   {
    "duration": 6,
    "start_time": "2021-06-19T12:11:25.672Z"
   },
   {
    "duration": 7,
    "start_time": "2021-06-19T12:11:28.847Z"
   },
   {
    "duration": 63,
    "start_time": "2021-06-19T12:11:34.889Z"
   },
   {
    "duration": 17,
    "start_time": "2021-06-19T12:11:37.497Z"
   },
   {
    "duration": 70,
    "start_time": "2021-06-19T12:11:41.536Z"
   },
   {
    "duration": 36,
    "start_time": "2021-06-19T12:11:45.751Z"
   },
   {
    "duration": 27,
    "start_time": "2021-06-19T12:11:58.772Z"
   },
   {
    "duration": 26,
    "start_time": "2021-06-19T12:12:16.377Z"
   },
   {
    "duration": 46,
    "start_time": "2021-06-19T12:12:35.745Z"
   },
   {
    "duration": 26,
    "start_time": "2021-06-19T12:13:07.170Z"
   },
   {
    "duration": 52,
    "start_time": "2021-06-19T12:17:10.936Z"
   },
   {
    "duration": 113,
    "start_time": "2021-06-19T12:17:16.279Z"
   },
   {
    "duration": 44,
    "start_time": "2021-06-19T12:17:20.518Z"
   },
   {
    "duration": 8,
    "start_time": "2021-06-19T12:17:22.734Z"
   },
   {
    "duration": 6,
    "start_time": "2021-06-19T12:17:24.655Z"
   },
   {
    "duration": 79,
    "start_time": "2021-06-19T12:17:27.894Z"
   },
   {
    "duration": 25,
    "start_time": "2021-06-19T12:17:30.343Z"
   },
   {
    "duration": 74,
    "start_time": "2021-06-19T12:17:34.470Z"
   },
   {
    "duration": 48,
    "start_time": "2021-06-19T12:17:37.319Z"
   },
   {
    "duration": 60,
    "start_time": "2021-06-19T12:17:47.174Z"
   },
   {
    "duration": 66,
    "start_time": "2021-06-19T12:17:57.270Z"
   },
   {
    "duration": 338,
    "start_time": "2021-06-19T12:18:44.217Z"
   },
   {
    "duration": 386,
    "start_time": "2021-06-19T12:19:00.064Z"
   },
   {
    "duration": 118,
    "start_time": "2021-06-19T12:19:08.087Z"
   },
   {
    "duration": 44,
    "start_time": "2021-06-19T12:19:14.559Z"
   },
   {
    "duration": 57,
    "start_time": "2021-06-19T12:19:32.227Z"
   },
   {
    "duration": 349,
    "start_time": "2021-06-19T12:22:26.330Z"
   },
   {
    "duration": 51,
    "start_time": "2021-06-19T12:23:22.268Z"
   },
   {
    "duration": 48,
    "start_time": "2021-06-19T12:30:32.434Z"
   },
   {
    "duration": 109,
    "start_time": "2021-06-19T12:30:36.379Z"
   },
   {
    "duration": 47,
    "start_time": "2021-06-19T12:30:41.531Z"
   },
   {
    "duration": 53,
    "start_time": "2021-06-19T12:30:54.163Z"
   },
   {
    "duration": 108,
    "start_time": "2021-06-19T12:31:55.403Z"
   },
   {
    "duration": 40,
    "start_time": "2021-06-19T12:31:59.189Z"
   },
   {
    "duration": 6,
    "start_time": "2021-06-19T12:32:22.429Z"
   },
   {
    "duration": 7,
    "start_time": "2021-06-19T12:32:24.404Z"
   },
   {
    "duration": 64,
    "start_time": "2021-06-19T12:32:27.292Z"
   },
   {
    "duration": 19,
    "start_time": "2021-06-19T12:32:29.611Z"
   },
   {
    "duration": 70,
    "start_time": "2021-06-19T12:32:44.366Z"
   },
   {
    "duration": 122,
    "start_time": "2021-06-19T12:32:50.132Z"
   },
   {
    "duration": 113,
    "start_time": "2021-06-19T12:33:12.306Z"
   },
   {
    "duration": 111,
    "start_time": "2021-06-19T12:33:20.500Z"
   },
   {
    "duration": 29,
    "start_time": "2021-06-19T12:33:59.269Z"
   },
   {
    "duration": 50,
    "start_time": "2021-06-19T12:34:09.356Z"
   },
   {
    "duration": 108,
    "start_time": "2021-06-19T12:34:26.931Z"
   },
   {
    "duration": 39,
    "start_time": "2021-06-19T12:34:30.702Z"
   },
   {
    "duration": 6,
    "start_time": "2021-06-19T12:34:33.630Z"
   },
   {
    "duration": 6,
    "start_time": "2021-06-19T12:34:35.637Z"
   },
   {
    "duration": 63,
    "start_time": "2021-06-19T12:34:39.318Z"
   },
   {
    "duration": 17,
    "start_time": "2021-06-19T12:34:41.869Z"
   },
   {
    "duration": 69,
    "start_time": "2021-06-19T12:34:44.848Z"
   },
   {
    "duration": 28,
    "start_time": "2021-06-19T12:34:47.718Z"
   },
   {
    "duration": 51,
    "start_time": "2021-06-19T12:34:49.989Z"
   },
   {
    "duration": 48,
    "start_time": "2021-06-19T12:34:53.678Z"
   },
   {
    "duration": 350,
    "start_time": "2021-06-19T12:38:53.547Z"
   },
   {
    "duration": 354,
    "start_time": "2021-06-19T12:39:00.706Z"
   },
   {
    "duration": 318,
    "start_time": "2021-06-19T12:39:07.279Z"
   },
   {
    "duration": 27,
    "start_time": "2021-06-19T12:39:15.979Z"
   },
   {
    "duration": 303,
    "start_time": "2021-06-19T12:39:35.634Z"
   },
   {
    "duration": 925,
    "start_time": "2021-06-19T12:39:41.546Z"
   },
   {
    "duration": 346,
    "start_time": "2021-06-19T12:39:52.180Z"
   },
   {
    "duration": 25,
    "start_time": "2021-06-19T12:39:57.861Z"
   },
   {
    "duration": 358,
    "start_time": "2021-06-19T12:43:12.559Z"
   },
   {
    "duration": 680,
    "start_time": "2021-06-19T12:43:44.978Z"
   },
   {
    "duration": 395,
    "start_time": "2021-06-19T12:44:06.845Z"
   },
   {
    "duration": 348,
    "start_time": "2021-06-19T12:47:45.876Z"
   },
   {
    "duration": 66,
    "start_time": "2021-06-19T12:48:43.893Z"
   },
   {
    "duration": 64,
    "start_time": "2021-06-19T12:49:13.246Z"
   },
   {
    "duration": 61,
    "start_time": "2021-06-19T12:49:27.780Z"
   },
   {
    "duration": 66,
    "start_time": "2021-06-19T12:51:58.169Z"
   },
   {
    "duration": 62,
    "start_time": "2021-06-19T12:52:23.104Z"
   },
   {
    "duration": 67,
    "start_time": "2021-06-19T12:52:41.840Z"
   },
   {
    "duration": 20,
    "start_time": "2021-06-19T12:53:38.113Z"
   },
   {
    "duration": 19,
    "start_time": "2021-06-19T12:54:04.201Z"
   },
   {
    "duration": 16,
    "start_time": "2021-06-19T12:54:29.360Z"
   },
   {
    "duration": 30,
    "start_time": "2021-06-19T12:54:34.691Z"
   },
   {
    "duration": 29,
    "start_time": "2021-06-19T12:54:37.481Z"
   },
   {
    "duration": 5,
    "start_time": "2021-06-19T12:55:13.946Z"
   },
   {
    "duration": 303,
    "start_time": "2021-06-19T12:55:30.570Z"
   },
   {
    "duration": 13,
    "start_time": "2021-06-19T12:55:40.635Z"
   },
   {
    "duration": 17,
    "start_time": "2021-06-19T12:56:20.780Z"
   },
   {
    "duration": 287,
    "start_time": "2021-06-19T12:56:40.147Z"
   },
   {
    "duration": 10,
    "start_time": "2021-06-19T12:57:53.645Z"
   },
   {
    "duration": 79,
    "start_time": "2021-06-19T12:59:11.623Z"
   },
   {
    "duration": 54,
    "start_time": "2021-06-19T12:59:30.655Z"
   },
   {
    "duration": 53,
    "start_time": "2021-06-19T12:59:35.614Z"
   },
   {
    "duration": 58,
    "start_time": "2021-06-19T12:59:43.374Z"
   },
   {
    "duration": 49,
    "start_time": "2021-06-19T12:59:55.311Z"
   },
   {
    "duration": 10,
    "start_time": "2021-06-19T13:00:02.301Z"
   },
   {
    "duration": 52,
    "start_time": "2021-06-19T13:00:05.190Z"
   },
   {
    "duration": 11,
    "start_time": "2021-06-19T13:00:43.262Z"
   },
   {
    "duration": 11,
    "start_time": "2021-06-19T13:00:54.688Z"
   },
   {
    "duration": 49,
    "start_time": "2021-06-19T13:01:36.601Z"
   },
   {
    "duration": 62,
    "start_time": "2021-06-19T13:17:50.220Z"
   },
   {
    "duration": 111,
    "start_time": "2021-06-19T13:19:08.729Z"
   },
   {
    "duration": 42,
    "start_time": "2021-06-19T13:19:16.961Z"
   },
   {
    "duration": 10,
    "start_time": "2021-06-19T13:19:20.690Z"
   },
   {
    "duration": 7,
    "start_time": "2021-06-19T13:19:22.785Z"
   },
   {
    "duration": 109,
    "start_time": "2021-06-19T13:19:47.675Z"
   },
   {
    "duration": 52,
    "start_time": "2021-06-19T13:19:57.419Z"
   },
   {
    "duration": 10,
    "start_time": "2021-06-19T13:20:07.202Z"
   },
   {
    "duration": 7,
    "start_time": "2021-06-19T13:20:23.683Z"
   },
   {
    "duration": 106,
    "start_time": "2021-06-19T13:22:30.864Z"
   },
   {
    "duration": 41,
    "start_time": "2021-06-19T13:22:34.292Z"
   },
   {
    "duration": 10,
    "start_time": "2021-06-19T13:22:36.948Z"
   },
   {
    "duration": 8,
    "start_time": "2021-06-19T13:22:38.732Z"
   },
   {
    "duration": 13,
    "start_time": "2021-06-19T13:22:59.278Z"
   },
   {
    "duration": 17,
    "start_time": "2021-06-19T13:23:12.319Z"
   },
   {
    "duration": 46,
    "start_time": "2021-06-19T13:25:25.233Z"
   },
   {
    "duration": 50,
    "start_time": "2021-06-19T13:25:41.692Z"
   },
   {
    "duration": 12,
    "start_time": "2021-06-19T13:27:22.001Z"
   },
   {
    "duration": 15,
    "start_time": "2021-06-19T13:28:31.857Z"
   },
   {
    "duration": 20,
    "start_time": "2021-06-19T13:29:09.180Z"
   },
   {
    "duration": 29,
    "start_time": "2021-06-19T13:29:23.214Z"
   },
   {
    "duration": 1527,
    "start_time": "2021-06-19T13:33:29.745Z"
   },
   {
    "duration": 1514,
    "start_time": "2021-06-19T13:33:50.090Z"
   },
   {
    "duration": 5,
    "start_time": "2021-06-19T13:34:09.787Z"
   },
   {
    "duration": 299,
    "start_time": "2021-06-19T13:34:16.746Z"
   },
   {
    "duration": 6,
    "start_time": "2021-06-19T13:34:22.601Z"
   },
   {
    "duration": 10,
    "start_time": "2021-06-19T13:34:45.595Z"
   },
   {
    "duration": 13,
    "start_time": "2021-06-19T13:35:12.972Z"
   },
   {
    "duration": 23,
    "start_time": "2021-06-19T13:35:21.178Z"
   },
   {
    "duration": 22,
    "start_time": "2021-06-19T13:35:56.909Z"
   },
   {
    "duration": 1244,
    "start_time": "2021-06-19T13:36:15.063Z"
   },
   {
    "duration": 22,
    "start_time": "2021-06-19T13:36:19.773Z"
   },
   {
    "duration": 1238,
    "start_time": "2021-06-19T13:36:46.565Z"
   },
   {
    "duration": 8486,
    "start_time": "2021-06-19T13:36:50.950Z"
   },
   {
    "duration": 8090,
    "start_time": "2021-06-19T13:37:19.431Z"
   },
   {
    "duration": 1231,
    "start_time": "2021-06-19T13:37:35.257Z"
   },
   {
    "duration": 24,
    "start_time": "2021-06-19T13:37:59.769Z"
   },
   {
    "duration": 24,
    "start_time": "2021-06-19T13:38:11.696Z"
   },
   {
    "duration": 341,
    "start_time": "2021-06-19T13:39:47.538Z"
   },
   {
    "duration": 533,
    "start_time": "2021-06-19T13:40:00.096Z"
   },
   {
    "duration": 342,
    "start_time": "2021-06-19T13:40:18.208Z"
   },
   {
    "duration": 23,
    "start_time": "2021-06-19T13:41:38.003Z"
   },
   {
    "duration": 22,
    "start_time": "2021-06-19T13:41:42.610Z"
   },
   {
    "duration": 120,
    "start_time": "2021-06-19T13:42:16.650Z"
   },
   {
    "duration": 109,
    "start_time": "2021-06-19T13:42:26.327Z"
   },
   {
    "duration": 20,
    "start_time": "2021-06-19T13:42:32.346Z"
   },
   {
    "duration": 27,
    "start_time": "2021-06-19T13:44:06.640Z"
   },
   {
    "duration": 15,
    "start_time": "2021-06-19T13:44:23.613Z"
   },
   {
    "duration": 11,
    "start_time": "2021-06-19T13:44:32.781Z"
   },
   {
    "duration": 8760,
    "start_time": "2021-06-19T13:46:10.599Z"
   },
   {
    "duration": 127,
    "start_time": "2021-06-19T13:46:27.242Z"
   },
   {
    "duration": 398,
    "start_time": "2021-06-19T13:48:45.801Z"
   },
   {
    "duration": 15,
    "start_time": "2021-06-19T13:48:50.226Z"
   },
   {
    "duration": 390,
    "start_time": "2021-06-19T13:49:20.014Z"
   },
   {
    "duration": 10,
    "start_time": "2021-06-19T13:53:14.822Z"
   },
   {
    "duration": 15,
    "start_time": "2021-06-19T13:54:37.790Z"
   },
   {
    "duration": 74,
    "start_time": "2021-06-19T14:04:08.039Z"
   },
   {
    "duration": 390,
    "start_time": "2021-06-19T14:05:15.785Z"
   },
   {
    "duration": 467,
    "start_time": "2021-06-19T14:10:25.119Z"
   },
   {
    "duration": 307,
    "start_time": "2021-06-19T14:10:51.350Z"
   },
   {
    "duration": 326,
    "start_time": "2021-06-19T14:12:03.737Z"
   },
   {
    "duration": 22,
    "start_time": "2021-06-19T14:12:10.383Z"
   },
   {
    "duration": 16,
    "start_time": "2021-06-19T14:12:53.876Z"
   },
   {
    "duration": 6,
    "start_time": "2021-06-19T14:13:12.072Z"
   },
   {
    "duration": 8,
    "start_time": "2021-06-19T14:14:16.142Z"
   },
   {
    "duration": 53,
    "start_time": "2021-06-19T14:14:20.008Z"
   },
   {
    "duration": 12,
    "start_time": "2021-06-19T14:17:15.253Z"
   },
   {
    "duration": 406,
    "start_time": "2021-06-19T14:18:52.538Z"
   },
   {
    "duration": 12,
    "start_time": "2021-06-19T14:19:12.143Z"
   },
   {
    "duration": 50,
    "start_time": "2021-06-19T14:20:40.478Z"
   },
   {
    "duration": 14,
    "start_time": "2021-06-19T14:21:10.735Z"
   },
   {
    "duration": 13,
    "start_time": "2021-06-19T14:21:57.480Z"
   },
   {
    "duration": 16,
    "start_time": "2021-06-19T14:22:12.224Z"
   },
   {
    "duration": 12,
    "start_time": "2021-06-19T14:22:16.119Z"
   },
   {
    "duration": 11,
    "start_time": "2021-06-19T14:22:24.400Z"
   },
   {
    "duration": 10,
    "start_time": "2021-06-19T14:26:41.515Z"
   },
   {
    "duration": 16,
    "start_time": "2021-06-19T14:29:25.961Z"
   },
   {
    "duration": 32,
    "start_time": "2021-06-19T14:29:34.454Z"
   },
   {
    "duration": 107,
    "start_time": "2021-06-19T14:59:04.380Z"
   },
   {
    "duration": 40,
    "start_time": "2021-06-19T14:59:12.477Z"
   },
   {
    "duration": 9,
    "start_time": "2021-06-19T14:59:15.621Z"
   },
   {
    "duration": 7,
    "start_time": "2021-06-19T14:59:17.828Z"
   },
   {
    "duration": 12,
    "start_time": "2021-06-19T14:59:22.060Z"
   },
   {
    "duration": 19,
    "start_time": "2021-06-19T14:59:24.368Z"
   },
   {
    "duration": 16,
    "start_time": "2021-06-19T15:00:00.863Z"
   },
   {
    "duration": 32,
    "start_time": "2021-06-19T15:00:08.095Z"
   },
   {
    "duration": 19,
    "start_time": "2021-06-19T15:00:13.620Z"
   },
   {
    "duration": 372,
    "start_time": "2021-06-19T15:01:53.858Z"
   },
   {
    "duration": 121,
    "start_time": "2021-06-19T15:03:31.527Z"
   },
   {
    "duration": 22,
    "start_time": "2021-06-19T15:03:46.361Z"
   },
   {
    "duration": 14,
    "start_time": "2021-06-19T15:03:56.248Z"
   },
   {
    "duration": 5,
    "start_time": "2021-06-19T15:05:13.577Z"
   },
   {
    "duration": 23,
    "start_time": "2021-06-19T15:05:26.698Z"
   },
   {
    "duration": 108,
    "start_time": "2021-06-19T15:06:37.653Z"
   },
   {
    "duration": 41,
    "start_time": "2021-06-19T15:06:41.715Z"
   },
   {
    "duration": 9,
    "start_time": "2021-06-19T15:06:50.060Z"
   },
   {
    "duration": 8,
    "start_time": "2021-06-19T15:06:53.548Z"
   },
   {
    "duration": 12,
    "start_time": "2021-06-19T15:06:57.068Z"
   },
   {
    "duration": 16,
    "start_time": "2021-06-19T15:06:59.635Z"
   },
   {
    "duration": 66,
    "start_time": "2021-06-19T15:07:31.716Z"
   },
   {
    "duration": 48,
    "start_time": "2021-06-19T15:07:45.747Z"
   },
   {
    "duration": 18,
    "start_time": "2021-06-19T15:07:52.293Z"
   },
   {
    "duration": 21,
    "start_time": "2021-06-19T15:07:59.244Z"
   },
   {
    "duration": 32,
    "start_time": "2021-06-19T15:08:03.375Z"
   },
   {
    "duration": 81,
    "start_time": "2021-06-19T15:08:07.509Z"
   },
   {
    "duration": 28,
    "start_time": "2021-06-19T15:08:40.526Z"
   },
   {
    "duration": 29,
    "start_time": "2021-06-19T15:08:49.334Z"
   },
   {
    "duration": 15,
    "start_time": "2021-06-19T15:10:00.519Z"
   },
   {
    "duration": 395,
    "start_time": "2021-06-19T15:10:30.063Z"
   },
   {
    "duration": 375,
    "start_time": "2021-06-19T15:10:36.968Z"
   },
   {
    "duration": 12,
    "start_time": "2021-06-19T15:10:57.040Z"
   },
   {
    "duration": 41,
    "start_time": "2021-06-19T15:11:12.647Z"
   },
   {
    "duration": 37,
    "start_time": "2021-06-19T15:11:21.872Z"
   },
   {
    "duration": 42,
    "start_time": "2021-06-19T15:11:29.666Z"
   },
   {
    "duration": 24,
    "start_time": "2021-06-19T15:11:57.745Z"
   },
   {
    "duration": 453,
    "start_time": "2021-06-19T15:12:39.505Z"
   },
   {
    "duration": 343,
    "start_time": "2021-06-19T15:12:57.170Z"
   },
   {
    "duration": 43,
    "start_time": "2021-06-19T15:13:10.125Z"
   },
   {
    "duration": 26,
    "start_time": "2021-06-19T15:13:35.724Z"
   },
   {
    "duration": 7,
    "start_time": "2021-06-19T15:14:19.796Z"
   },
   {
    "duration": 107,
    "start_time": "2021-06-19T15:14:26.683Z"
   },
   {
    "duration": 40,
    "start_time": "2021-06-19T15:14:30.444Z"
   },
   {
    "duration": 10,
    "start_time": "2021-06-19T15:14:32.796Z"
   },
   {
    "duration": 7,
    "start_time": "2021-06-19T15:14:34.507Z"
   },
   {
    "duration": 13,
    "start_time": "2021-06-19T15:14:40.693Z"
   },
   {
    "duration": 15,
    "start_time": "2021-06-19T15:14:42.875Z"
   },
   {
    "duration": 48,
    "start_time": "2021-06-19T15:14:46.030Z"
   },
   {
    "duration": 16,
    "start_time": "2021-06-19T15:14:48.883Z"
   },
   {
    "duration": 28,
    "start_time": "2021-06-19T15:14:52.011Z"
   },
   {
    "duration": 51,
    "start_time": "2021-06-19T15:14:54.124Z"
   },
   {
    "duration": 18,
    "start_time": "2021-06-19T15:14:56.733Z"
   },
   {
    "duration": 6,
    "start_time": "2021-06-19T15:15:04.600Z"
   },
   {
    "duration": 5,
    "start_time": "2021-06-19T15:15:05.379Z"
   },
   {
    "duration": 357,
    "start_time": "2021-06-19T15:15:39.380Z"
   },
   {
    "duration": 15,
    "start_time": "2021-06-19T15:16:12.701Z"
   },
   {
    "duration": 12,
    "start_time": "2021-06-19T15:17:00.414Z"
   },
   {
    "duration": 20,
    "start_time": "2021-06-19T15:21:54.123Z"
   },
   {
    "duration": 33,
    "start_time": "2021-06-19T15:42:32.059Z"
   },
   {
    "duration": 18,
    "start_time": "2021-06-19T15:44:50.962Z"
   },
   {
    "duration": 19,
    "start_time": "2021-06-19T15:47:04.568Z"
   },
   {
    "duration": 18,
    "start_time": "2021-06-19T15:48:18.796Z"
   },
   {
    "duration": 6,
    "start_time": "2021-06-19T15:50:50.668Z"
   },
   {
    "duration": 20,
    "start_time": "2021-06-19T15:50:56.185Z"
   },
   {
    "duration": 19,
    "start_time": "2021-06-19T15:59:19.879Z"
   },
   {
    "duration": 325,
    "start_time": "2021-06-19T16:00:31.089Z"
   },
   {
    "duration": 113,
    "start_time": "2021-06-19T16:01:15.138Z"
   },
   {
    "duration": 356,
    "start_time": "2021-06-19T16:01:23.050Z"
   },
   {
    "duration": 359,
    "start_time": "2021-06-19T16:01:33.386Z"
   },
   {
    "duration": 10,
    "start_time": "2021-06-19T16:04:20.636Z"
   },
   {
    "duration": 9,
    "start_time": "2021-06-19T16:04:34.470Z"
   },
   {
    "duration": 386,
    "start_time": "2021-06-19T16:05:06.982Z"
   },
   {
    "duration": 306,
    "start_time": "2021-06-19T16:05:28.294Z"
   },
   {
    "duration": 18,
    "start_time": "2021-06-19T16:05:38.134Z"
   },
   {
    "duration": 8,
    "start_time": "2021-06-19T16:05:59.846Z"
   },
   {
    "duration": 113,
    "start_time": "2021-06-19T16:06:25.087Z"
   },
   {
    "duration": 339,
    "start_time": "2021-06-19T16:06:35.734Z"
   },
   {
    "duration": 325,
    "start_time": "2021-06-19T16:06:55.329Z"
   },
   {
    "duration": 8,
    "start_time": "2021-06-19T16:07:05.768Z"
   },
   {
    "duration": 6,
    "start_time": "2021-06-19T16:07:18.463Z"
   },
   {
    "duration": 9,
    "start_time": "2021-06-19T16:07:27.079Z"
   },
   {
    "duration": 8,
    "start_time": "2021-06-19T16:08:23.285Z"
   },
   {
    "duration": 10,
    "start_time": "2021-06-19T16:08:55.058Z"
   },
   {
    "duration": 9,
    "start_time": "2021-06-19T16:10:11.012Z"
   },
   {
    "duration": 6,
    "start_time": "2021-06-19T16:10:24.186Z"
   },
   {
    "duration": 287,
    "start_time": "2021-06-19T16:10:32.410Z"
   },
   {
    "duration": 5,
    "start_time": "2021-06-19T16:10:38.251Z"
   },
   {
    "duration": 345,
    "start_time": "2021-06-19T16:10:52.956Z"
   },
   {
    "duration": 315,
    "start_time": "2021-06-19T16:11:55.380Z"
   },
   {
    "duration": 1419,
    "start_time": "2021-06-19T16:15:04.587Z"
   },
   {
    "duration": 4359,
    "start_time": "2021-06-19T16:15:06.983Z"
   },
   {
    "duration": 4327,
    "start_time": "2021-06-19T16:15:14.281Z"
   },
   {
    "duration": 340,
    "start_time": "2021-06-19T16:15:24.023Z"
   },
   {
    "duration": 336,
    "start_time": "2021-06-19T16:15:31.863Z"
   },
   {
    "duration": 303,
    "start_time": "2021-06-19T16:15:35.768Z"
   },
   {
    "duration": 8,
    "start_time": "2021-06-19T16:16:02.831Z"
   },
   {
    "duration": 7,
    "start_time": "2021-06-19T16:16:11.748Z"
   },
   {
    "duration": 8,
    "start_time": "2021-06-19T16:16:27.943Z"
   },
   {
    "duration": 13,
    "start_time": "2021-06-19T16:16:38.422Z"
   },
   {
    "duration": 295,
    "start_time": "2021-06-19T16:16:47.978Z"
   },
   {
    "duration": 14,
    "start_time": "2021-06-19T16:17:01.209Z"
   },
   {
    "duration": 36,
    "start_time": "2021-06-19T16:17:15.048Z"
   },
   {
    "duration": 80,
    "start_time": "2021-06-19T16:17:35.788Z"
   },
   {
    "duration": 335,
    "start_time": "2021-06-19T16:17:56.514Z"
   },
   {
    "duration": 13,
    "start_time": "2021-06-19T16:18:04.594Z"
   },
   {
    "duration": 12,
    "start_time": "2021-06-19T16:18:13.386Z"
   },
   {
    "duration": 110,
    "start_time": "2021-06-19T16:18:34.592Z"
   },
   {
    "duration": 96,
    "start_time": "2021-06-19T16:18:42.178Z"
   },
   {
    "duration": 8,
    "start_time": "2021-06-19T16:19:01.587Z"
   },
   {
    "duration": 97,
    "start_time": "2021-06-19T16:25:22.194Z"
   },
   {
    "duration": 292,
    "start_time": "2021-06-19T16:26:00.450Z"
   },
   {
    "duration": 5,
    "start_time": "2021-06-19T16:30:58.239Z"
   },
   {
    "duration": 10,
    "start_time": "2021-06-19T16:31:17.528Z"
   },
   {
    "duration": 9,
    "start_time": "2021-06-19T16:31:24.640Z"
   },
   {
    "duration": 7,
    "start_time": "2021-06-19T16:31:42.222Z"
   },
   {
    "duration": 7,
    "start_time": "2021-06-19T16:31:45.640Z"
   },
   {
    "duration": 7,
    "start_time": "2021-06-19T16:31:49.912Z"
   },
   {
    "duration": 120,
    "start_time": "2021-06-19T16:32:09.488Z"
   },
   {
    "duration": 6,
    "start_time": "2021-06-19T16:32:19.419Z"
   },
   {
    "duration": 6,
    "start_time": "2021-06-19T16:32:34.702Z"
   },
   {
    "duration": 5,
    "start_time": "2021-06-19T16:32:37.036Z"
   },
   {
    "duration": 5,
    "start_time": "2021-06-19T16:34:12.523Z"
   },
   {
    "duration": 116,
    "start_time": "2021-06-19T16:34:32.740Z"
   },
   {
    "duration": 5,
    "start_time": "2021-06-19T16:34:38.398Z"
   },
   {
    "duration": 6,
    "start_time": "2021-06-19T16:35:04.468Z"
   },
   {
    "duration": 117,
    "start_time": "2021-06-19T16:35:14.116Z"
   },
   {
    "duration": 111,
    "start_time": "2021-06-19T16:35:18.884Z"
   },
   {
    "duration": 330,
    "start_time": "2021-06-19T16:35:28.942Z"
   },
   {
    "duration": 8,
    "start_time": "2021-06-19T16:36:46.694Z"
   },
   {
    "duration": 8,
    "start_time": "2021-06-19T16:36:51.062Z"
   },
   {
    "duration": 8,
    "start_time": "2021-06-19T16:36:59.750Z"
   },
   {
    "duration": 8,
    "start_time": "2021-06-19T16:37:10.086Z"
   },
   {
    "duration": 6,
    "start_time": "2021-06-19T16:37:20.320Z"
   },
   {
    "duration": 8,
    "start_time": "2021-06-19T16:38:00.153Z"
   },
   {
    "duration": 7,
    "start_time": "2021-06-19T16:39:50.913Z"
   },
   {
    "duration": 12,
    "start_time": "2021-06-19T16:48:07.052Z"
   },
   {
    "duration": 10,
    "start_time": "2021-06-19T16:48:36.761Z"
   },
   {
    "duration": 8,
    "start_time": "2021-06-19T16:48:42.489Z"
   },
   {
    "duration": 8,
    "start_time": "2021-06-19T16:49:58.146Z"
   },
   {
    "duration": 10,
    "start_time": "2021-06-19T16:50:04.867Z"
   },
   {
    "duration": 11,
    "start_time": "2021-06-19T16:50:15.321Z"
   },
   {
    "duration": 7,
    "start_time": "2021-06-19T16:50:26.577Z"
   },
   {
    "duration": 11,
    "start_time": "2021-06-19T16:52:59.509Z"
   },
   {
    "duration": 10,
    "start_time": "2021-06-19T16:54:16.269Z"
   },
   {
    "duration": 8,
    "start_time": "2021-06-19T17:01:53.420Z"
   },
   {
    "duration": 10,
    "start_time": "2021-06-19T17:02:20.589Z"
   },
   {
    "duration": 10,
    "start_time": "2021-06-19T17:02:34.646Z"
   },
   {
    "duration": 10,
    "start_time": "2021-06-19T17:05:14.610Z"
   },
   {
    "duration": 120,
    "start_time": "2021-06-19T17:11:02.246Z"
   },
   {
    "duration": 116,
    "start_time": "2021-06-19T17:11:40.311Z"
   },
   {
    "duration": 6,
    "start_time": "2021-06-19T17:13:07.976Z"
   },
   {
    "duration": 6,
    "start_time": "2021-06-19T17:13:23.121Z"
   },
   {
    "duration": 6,
    "start_time": "2021-06-19T17:15:16.137Z"
   },
   {
    "duration": 6,
    "start_time": "2021-06-19T17:15:27.113Z"
   },
   {
    "duration": 7,
    "start_time": "2021-06-19T17:15:31.673Z"
   },
   {
    "duration": 7,
    "start_time": "2021-06-19T17:15:41.753Z"
   },
   {
    "duration": 6,
    "start_time": "2021-06-19T17:17:05.235Z"
   },
   {
    "duration": 7,
    "start_time": "2021-06-19T17:17:32.770Z"
   },
   {
    "duration": 777,
    "start_time": "2021-06-19T17:28:45.549Z"
   },
   {
    "duration": 297,
    "start_time": "2021-06-19T17:29:12.789Z"
   },
   {
    "duration": 10052,
    "start_time": "2021-06-19T17:29:28.433Z"
   },
   {
    "duration": 48513,
    "start_time": "2021-06-19T17:31:01.710Z"
   },
   {
    "duration": 116,
    "start_time": "2021-06-20T08:04:08.249Z"
   },
   {
    "duration": 381,
    "start_time": "2021-06-20T08:04:17.874Z"
   },
   {
    "duration": 904,
    "start_time": "2021-06-20T08:04:29.043Z"
   },
   {
    "duration": 63,
    "start_time": "2021-06-20T08:04:33.386Z"
   },
   {
    "duration": 12,
    "start_time": "2021-06-20T08:04:35.550Z"
   },
   {
    "duration": 8,
    "start_time": "2021-06-20T08:04:37.922Z"
   },
   {
    "duration": 12,
    "start_time": "2021-06-20T08:04:42.866Z"
   },
   {
    "duration": 24,
    "start_time": "2021-06-20T08:04:45.523Z"
   },
   {
    "duration": 47,
    "start_time": "2021-06-20T08:04:49.555Z"
   },
   {
    "duration": 16,
    "start_time": "2021-06-20T08:04:53.810Z"
   },
   {
    "duration": 20,
    "start_time": "2021-06-20T08:04:58.505Z"
   },
   {
    "duration": 28,
    "start_time": "2021-06-20T08:05:01.169Z"
   },
   {
    "duration": 54,
    "start_time": "2021-06-20T08:05:03.451Z"
   },
   {
    "duration": 18,
    "start_time": "2021-06-20T08:05:06.809Z"
   },
   {
    "duration": 10,
    "start_time": "2021-06-20T08:05:11.884Z"
   },
   {
    "duration": 831,
    "start_time": "2021-06-20T08:05:14.177Z"
   },
   {
    "duration": 332,
    "start_time": "2021-06-20T08:05:27.050Z"
   },
   {
    "duration": 312,
    "start_time": "2021-06-20T08:05:50.297Z"
   },
   {
    "duration": 304,
    "start_time": "2021-06-20T08:08:05.837Z"
   },
   {
    "duration": 9,
    "start_time": "2021-06-20T10:37:02.961Z"
   },
   {
    "duration": 8,
    "start_time": "2021-06-20T10:40:47.258Z"
   },
   {
    "duration": 292,
    "start_time": "2021-06-20T10:44:09.086Z"
   },
   {
    "duration": 26,
    "start_time": "2021-06-20T10:44:37.408Z"
   },
   {
    "duration": 364,
    "start_time": "2021-06-20T10:45:59.390Z"
   },
   {
    "duration": 22,
    "start_time": "2021-06-20T10:46:05.620Z"
   },
   {
    "duration": 14,
    "start_time": "2021-06-20T10:46:24.105Z"
   },
   {
    "duration": 298,
    "start_time": "2021-06-20T10:46:47.975Z"
   },
   {
    "duration": 295,
    "start_time": "2021-06-20T10:46:55.433Z"
   },
   {
    "duration": 11,
    "start_time": "2021-06-20T10:46:59.767Z"
   },
   {
    "duration": 306,
    "start_time": "2021-06-20T10:55:43.625Z"
   },
   {
    "duration": 11,
    "start_time": "2021-06-20T10:55:50.154Z"
   },
   {
    "duration": 115,
    "start_time": "2021-06-20T10:59:50.421Z"
   },
   {
    "duration": 9,
    "start_time": "2021-06-20T10:59:56.350Z"
   },
   {
    "duration": 14,
    "start_time": "2021-06-20T11:00:12.685Z"
   },
   {
    "duration": 110,
    "start_time": "2021-06-20T11:00:21.430Z"
   },
   {
    "duration": 11,
    "start_time": "2021-06-20T11:00:34.485Z"
   },
   {
    "duration": 328,
    "start_time": "2021-06-20T11:02:00.223Z"
   },
   {
    "duration": 25,
    "start_time": "2021-06-20T11:02:16.272Z"
   },
   {
    "duration": 27,
    "start_time": "2021-06-20T11:02:31.894Z"
   },
   {
    "duration": 430,
    "start_time": "2021-06-20T11:07:02.106Z"
   },
   {
    "duration": 413,
    "start_time": "2021-06-20T11:07:16.359Z"
   },
   {
    "duration": 545,
    "start_time": "2021-06-20T11:07:30.069Z"
   },
   {
    "duration": 318,
    "start_time": "2021-06-20T11:31:12.284Z"
   },
   {
    "duration": 398,
    "start_time": "2021-06-20T11:31:24.637Z"
   },
   {
    "duration": 397,
    "start_time": "2021-06-20T11:31:38.439Z"
   },
   {
    "duration": 363,
    "start_time": "2021-06-20T11:31:52.500Z"
   },
   {
    "duration": 294,
    "start_time": "2021-06-20T11:33:38.016Z"
   },
   {
    "duration": 474,
    "start_time": "2021-06-20T11:34:34.811Z"
   },
   {
    "duration": 327,
    "start_time": "2021-06-20T11:34:42.503Z"
   },
   {
    "duration": 406,
    "start_time": "2021-06-20T11:34:53.733Z"
   },
   {
    "duration": 331,
    "start_time": "2021-06-20T11:35:17.137Z"
   },
   {
    "duration": 297,
    "start_time": "2021-06-20T11:35:24.792Z"
   },
   {
    "duration": 402,
    "start_time": "2021-06-20T11:35:41.645Z"
   },
   {
    "duration": 14,
    "start_time": "2021-06-20T11:37:50.541Z"
   },
   {
    "duration": 37,
    "start_time": "2021-06-20T11:37:59.770Z"
   },
   {
    "duration": 323,
    "start_time": "2021-06-20T11:38:10.243Z"
   },
   {
    "duration": 298,
    "start_time": "2021-06-20T11:38:27.266Z"
   },
   {
    "duration": 97,
    "start_time": "2021-06-20T11:40:15.181Z"
   },
   {
    "duration": 117,
    "start_time": "2021-06-20T11:40:25.187Z"
   },
   {
    "duration": 106,
    "start_time": "2021-06-20T11:40:34.925Z"
   },
   {
    "duration": 10,
    "start_time": "2021-06-20T11:40:40.836Z"
   },
   {
    "duration": 11,
    "start_time": "2021-06-20T11:40:47.967Z"
   },
   {
    "duration": 18,
    "start_time": "2021-06-20T11:43:46.088Z"
   },
   {
    "duration": 12,
    "start_time": "2021-06-20T11:49:04.214Z"
   },
   {
    "duration": 13,
    "start_time": "2021-06-20T11:49:10.598Z"
   },
   {
    "duration": 23,
    "start_time": "2021-06-20T11:49:47.271Z"
   },
   {
    "duration": 24,
    "start_time": "2021-06-20T11:50:02.983Z"
   },
   {
    "duration": 28,
    "start_time": "2021-06-20T11:53:16.389Z"
   },
   {
    "duration": 48,
    "start_time": "2021-06-20T11:53:28.003Z"
   },
   {
    "duration": 803,
    "start_time": "2021-06-20T11:54:00.296Z"
   },
   {
    "duration": 550,
    "start_time": "2021-06-20T11:54:14.339Z"
   },
   {
    "duration": 30,
    "start_time": "2021-06-20T11:54:28.197Z"
   },
   {
    "duration": 323,
    "start_time": "2021-06-20T12:00:44.826Z"
   },
   {
    "duration": 491,
    "start_time": "2021-06-20T12:03:25.124Z"
   },
   {
    "duration": 494,
    "start_time": "2021-06-20T12:03:59.166Z"
   },
   {
    "duration": 501,
    "start_time": "2021-06-20T12:04:44.029Z"
   },
   {
    "duration": 571,
    "start_time": "2021-06-20T12:05:19.263Z"
   },
   {
    "duration": 320,
    "start_time": "2021-06-20T12:06:16.846Z"
   },
   {
    "duration": 304,
    "start_time": "2021-06-20T12:06:38.760Z"
   },
   {
    "duration": 1201,
    "start_time": "2021-06-20T12:08:21.201Z"
   },
   {
    "duration": 503,
    "start_time": "2021-06-20T12:08:41.035Z"
   },
   {
    "duration": 581,
    "start_time": "2021-06-20T12:09:13.859Z"
   },
   {
    "duration": 30,
    "start_time": "2021-06-20T12:09:25.243Z"
   },
   {
    "duration": 309,
    "start_time": "2021-06-20T12:10:39.274Z"
   },
   {
    "duration": 43,
    "start_time": "2021-06-20T12:14:11.663Z"
   },
   {
    "duration": 48,
    "start_time": "2021-06-20T12:15:01.920Z"
   },
   {
    "duration": 47,
    "start_time": "2021-06-20T12:15:48.970Z"
   },
   {
    "duration": 326,
    "start_time": "2021-06-20T12:19:02.958Z"
   },
   {
    "duration": 41,
    "start_time": "2021-06-20T12:21:15.689Z"
   },
   {
    "duration": 38,
    "start_time": "2021-06-20T12:21:56.486Z"
   },
   {
    "duration": 46,
    "start_time": "2021-06-20T12:22:55.976Z"
   },
   {
    "duration": 78,
    "start_time": "2021-06-20T12:23:55.403Z"
   },
   {
    "duration": 83,
    "start_time": "2021-06-20T12:24:12.553Z"
   },
   {
    "duration": 48,
    "start_time": "2021-06-20T12:24:31.601Z"
   },
   {
    "duration": 10,
    "start_time": "2021-06-20T12:28:23.861Z"
   },
   {
    "duration": 11,
    "start_time": "2021-06-20T12:28:42.173Z"
   },
   {
    "duration": 12,
    "start_time": "2021-06-20T12:29:32.713Z"
   },
   {
    "duration": 14,
    "start_time": "2021-06-20T12:30:00.862Z"
   },
   {
    "duration": 42,
    "start_time": "2021-06-20T12:33:36.234Z"
   },
   {
    "duration": 44,
    "start_time": "2021-06-20T12:33:39.762Z"
   },
   {
    "duration": 12,
    "start_time": "2021-06-20T12:35:00.421Z"
   },
   {
    "duration": 13,
    "start_time": "2021-06-20T12:35:27.604Z"
   },
   {
    "duration": 13,
    "start_time": "2021-06-20T12:35:54.821Z"
   },
   {
    "duration": 44,
    "start_time": "2021-06-20T12:36:01.710Z"
   },
   {
    "duration": 47,
    "start_time": "2021-06-20T12:36:04.381Z"
   },
   {
    "duration": 4,
    "start_time": "2021-06-20T12:36:59.085Z"
   },
   {
    "duration": 7,
    "start_time": "2021-06-20T12:37:48.895Z"
   },
   {
    "duration": 8,
    "start_time": "2021-06-20T12:37:57.312Z"
   },
   {
    "duration": 6,
    "start_time": "2021-06-20T12:38:19.224Z"
   },
   {
    "duration": 7,
    "start_time": "2021-06-20T12:38:28.790Z"
   },
   {
    "duration": 7,
    "start_time": "2021-06-20T12:38:37.742Z"
   },
   {
    "duration": 317,
    "start_time": "2021-06-20T12:39:13.520Z"
   },
   {
    "duration": 8,
    "start_time": "2021-06-20T12:39:29.963Z"
   },
   {
    "duration": 108,
    "start_time": "2021-06-20T12:41:06.883Z"
   },
   {
    "duration": 11,
    "start_time": "2021-06-20T12:41:20.250Z"
   },
   {
    "duration": 10,
    "start_time": "2021-06-20T12:41:35.978Z"
   },
   {
    "duration": 925,
    "start_time": "2021-06-20T18:01:30.816Z"
   },
   {
    "duration": 43,
    "start_time": "2021-06-20T18:01:31.744Z"
   },
   {
    "duration": 27,
    "start_time": "2021-06-20T18:01:31.790Z"
   },
   {
    "duration": 24,
    "start_time": "2021-06-20T18:01:31.820Z"
   },
   {
    "duration": 123,
    "start_time": "2021-06-20T18:01:31.846Z"
   },
   {
    "duration": 4038,
    "start_time": "2021-06-20T18:01:27.935Z"
   },
   {
    "duration": 4035,
    "start_time": "2021-06-20T18:01:27.940Z"
   },
   {
    "duration": 4028,
    "start_time": "2021-06-20T18:01:27.949Z"
   },
   {
    "duration": 4023,
    "start_time": "2021-06-20T18:01:27.955Z"
   },
   {
    "duration": 4019,
    "start_time": "2021-06-20T18:01:27.961Z"
   },
   {
    "duration": 4016,
    "start_time": "2021-06-20T18:01:27.965Z"
   },
   {
    "duration": 4014,
    "start_time": "2021-06-20T18:01:27.969Z"
   },
   {
    "duration": 4013,
    "start_time": "2021-06-20T18:01:27.972Z"
   },
   {
    "duration": 4007,
    "start_time": "2021-06-20T18:01:27.979Z"
   },
   {
    "duration": 4005,
    "start_time": "2021-06-20T18:01:27.983Z"
   },
   {
    "duration": 4003,
    "start_time": "2021-06-20T18:01:27.986Z"
   },
   {
    "duration": 4001,
    "start_time": "2021-06-20T18:01:27.990Z"
   },
   {
    "duration": 3997,
    "start_time": "2021-06-20T18:01:27.995Z"
   },
   {
    "duration": 3991,
    "start_time": "2021-06-20T18:01:28.003Z"
   },
   {
    "duration": 3986,
    "start_time": "2021-06-20T18:01:28.009Z"
   },
   {
    "duration": 3982,
    "start_time": "2021-06-20T18:01:28.015Z"
   },
   {
    "duration": 3979,
    "start_time": "2021-06-20T18:01:28.019Z"
   },
   {
    "duration": 3976,
    "start_time": "2021-06-20T18:01:28.024Z"
   },
   {
    "duration": 3972,
    "start_time": "2021-06-20T18:01:28.029Z"
   },
   {
    "duration": 3969,
    "start_time": "2021-06-20T18:01:28.033Z"
   },
   {
    "duration": 3968,
    "start_time": "2021-06-20T18:01:28.036Z"
   },
   {
    "duration": 3965,
    "start_time": "2021-06-20T18:01:28.040Z"
   },
   {
    "duration": 3963,
    "start_time": "2021-06-20T18:01:28.044Z"
   },
   {
    "duration": 3961,
    "start_time": "2021-06-20T18:01:28.047Z"
   },
   {
    "duration": 3959,
    "start_time": "2021-06-20T18:01:28.051Z"
   },
   {
    "duration": 3957,
    "start_time": "2021-06-20T18:01:28.054Z"
   },
   {
    "duration": 3954,
    "start_time": "2021-06-20T18:01:28.058Z"
   },
   {
    "duration": 3951,
    "start_time": "2021-06-20T18:01:28.062Z"
   },
   {
    "duration": 3934,
    "start_time": "2021-06-20T18:01:28.080Z"
   },
   {
    "duration": 3923,
    "start_time": "2021-06-20T18:01:28.093Z"
   },
   {
    "duration": 3921,
    "start_time": "2021-06-20T18:01:28.096Z"
   },
   {
    "duration": 3920,
    "start_time": "2021-06-20T18:01:28.098Z"
   },
   {
    "duration": 3917,
    "start_time": "2021-06-20T18:01:28.102Z"
   },
   {
    "duration": 3915,
    "start_time": "2021-06-20T18:01:28.105Z"
   },
   {
    "duration": 961,
    "start_time": "2021-06-20T18:11:03.530Z"
   },
   {
    "duration": 53,
    "start_time": "2021-06-20T18:11:04.493Z"
   },
   {
    "duration": 11,
    "start_time": "2021-06-20T18:11:04.549Z"
   },
   {
    "duration": 10,
    "start_time": "2021-06-20T18:11:04.564Z"
   },
   {
    "duration": 15,
    "start_time": "2021-06-20T18:11:04.610Z"
   },
   {
    "duration": 23,
    "start_time": "2021-06-20T18:11:04.628Z"
   },
   {
    "duration": 467,
    "start_time": "2021-06-20T18:11:04.653Z"
   },
   {
    "duration": 2805,
    "start_time": "2021-06-20T18:11:02.319Z"
   },
   {
    "duration": 2801,
    "start_time": "2021-06-20T18:11:02.324Z"
   },
   {
    "duration": 2798,
    "start_time": "2021-06-20T18:11:02.328Z"
   },
   {
    "duration": 2796,
    "start_time": "2021-06-20T18:11:02.331Z"
   },
   {
    "duration": 2791,
    "start_time": "2021-06-20T18:11:02.338Z"
   },
   {
    "duration": 2790,
    "start_time": "2021-06-20T18:11:02.340Z"
   },
   {
    "duration": 2785,
    "start_time": "2021-06-20T18:11:02.346Z"
   },
   {
    "duration": 2782,
    "start_time": "2021-06-20T18:11:02.350Z"
   },
   {
    "duration": 2780,
    "start_time": "2021-06-20T18:11:02.353Z"
   },
   {
    "duration": 2779,
    "start_time": "2021-06-20T18:11:02.356Z"
   },
   {
    "duration": 2776,
    "start_time": "2021-06-20T18:11:02.360Z"
   },
   {
    "duration": 2775,
    "start_time": "2021-06-20T18:11:02.362Z"
   },
   {
    "duration": 2773,
    "start_time": "2021-06-20T18:11:02.366Z"
   },
   {
    "duration": 2770,
    "start_time": "2021-06-20T18:11:02.371Z"
   },
   {
    "duration": 2766,
    "start_time": "2021-06-20T18:11:02.377Z"
   },
   {
    "duration": 2765,
    "start_time": "2021-06-20T18:11:02.379Z"
   },
   {
    "duration": 2761,
    "start_time": "2021-06-20T18:11:02.385Z"
   },
   {
    "duration": 2759,
    "start_time": "2021-06-20T18:11:02.388Z"
   },
   {
    "duration": 2758,
    "start_time": "2021-06-20T18:11:02.390Z"
   },
   {
    "duration": 2758,
    "start_time": "2021-06-20T18:11:02.392Z"
   },
   {
    "duration": 2756,
    "start_time": "2021-06-20T18:11:02.395Z"
   },
   {
    "duration": 2755,
    "start_time": "2021-06-20T18:11:02.397Z"
   },
   {
    "duration": 2753,
    "start_time": "2021-06-20T18:11:02.400Z"
   },
   {
    "duration": 2752,
    "start_time": "2021-06-20T18:11:02.402Z"
   },
   {
    "duration": 2751,
    "start_time": "2021-06-20T18:11:02.405Z"
   },
   {
    "duration": 2750,
    "start_time": "2021-06-20T18:11:02.407Z"
   },
   {
    "duration": 2748,
    "start_time": "2021-06-20T18:11:02.410Z"
   },
   {
    "duration": 2748,
    "start_time": "2021-06-20T18:11:02.412Z"
   },
   {
    "duration": 2748,
    "start_time": "2021-06-20T18:11:02.414Z"
   },
   {
    "duration": 2747,
    "start_time": "2021-06-20T18:11:02.416Z"
   },
   {
    "duration": 2746,
    "start_time": "2021-06-20T18:11:02.419Z"
   },
   {
    "duration": 941,
    "start_time": "2021-06-20T18:38:11.980Z"
   },
   {
    "duration": 42,
    "start_time": "2021-06-20T18:38:12.923Z"
   },
   {
    "duration": 9,
    "start_time": "2021-06-20T18:38:12.968Z"
   },
   {
    "duration": 30,
    "start_time": "2021-06-20T18:38:12.980Z"
   },
   {
    "duration": 12,
    "start_time": "2021-06-20T18:38:13.012Z"
   },
   {
    "duration": 17,
    "start_time": "2021-06-20T18:38:13.027Z"
   },
   {
    "duration": 81,
    "start_time": "2021-06-20T18:38:13.046Z"
   },
   {
    "duration": 17,
    "start_time": "2021-06-20T18:38:13.131Z"
   },
   {
    "duration": 22,
    "start_time": "2021-06-20T18:38:13.151Z"
   },
   {
    "duration": 53,
    "start_time": "2021-06-20T18:38:13.176Z"
   },
   {
    "duration": 52,
    "start_time": "2021-06-20T18:38:13.231Z"
   },
   {
    "duration": 116,
    "start_time": "2021-06-20T18:38:13.285Z"
   },
   {
    "duration": 3814,
    "start_time": "2021-06-20T18:38:09.590Z"
   },
   {
    "duration": 3812,
    "start_time": "2021-06-20T18:38:09.594Z"
   },
   {
    "duration": 3811,
    "start_time": "2021-06-20T18:38:09.596Z"
   },
   {
    "duration": 3810,
    "start_time": "2021-06-20T18:38:09.599Z"
   },
   {
    "duration": 3809,
    "start_time": "2021-06-20T18:38:09.602Z"
   },
   {
    "duration": 3806,
    "start_time": "2021-06-20T18:38:09.606Z"
   },
   {
    "duration": 3806,
    "start_time": "2021-06-20T18:38:09.608Z"
   },
   {
    "duration": 3804,
    "start_time": "2021-06-20T18:38:09.611Z"
   },
   {
    "duration": 3804,
    "start_time": "2021-06-20T18:38:09.613Z"
   },
   {
    "duration": 3802,
    "start_time": "2021-06-20T18:38:09.616Z"
   },
   {
    "duration": 3801,
    "start_time": "2021-06-20T18:38:09.619Z"
   },
   {
    "duration": 3799,
    "start_time": "2021-06-20T18:38:09.622Z"
   },
   {
    "duration": 3799,
    "start_time": "2021-06-20T18:38:09.624Z"
   },
   {
    "duration": 3797,
    "start_time": "2021-06-20T18:38:09.627Z"
   },
   {
    "duration": 3796,
    "start_time": "2021-06-20T18:38:09.630Z"
   },
   {
    "duration": 3794,
    "start_time": "2021-06-20T18:38:09.633Z"
   },
   {
    "duration": 3793,
    "start_time": "2021-06-20T18:38:09.636Z"
   },
   {
    "duration": 3792,
    "start_time": "2021-06-20T18:38:09.638Z"
   },
   {
    "duration": 3791,
    "start_time": "2021-06-20T18:38:09.640Z"
   },
   {
    "duration": 3787,
    "start_time": "2021-06-20T18:38:09.646Z"
   },
   {
    "duration": 3786,
    "start_time": "2021-06-20T18:38:09.648Z"
   },
   {
    "duration": 3784,
    "start_time": "2021-06-20T18:38:09.652Z"
   },
   {
    "duration": 3783,
    "start_time": "2021-06-20T18:38:09.654Z"
   },
   {
    "duration": 3782,
    "start_time": "2021-06-20T18:38:09.657Z"
   },
   {
    "duration": 3781,
    "start_time": "2021-06-20T18:38:09.659Z"
   },
   {
    "duration": 735,
    "start_time": "2021-06-21T09:52:26.228Z"
   },
   {
    "duration": 60,
    "start_time": "2021-06-21T09:52:26.971Z"
   },
   {
    "duration": 14,
    "start_time": "2021-06-21T09:52:27.035Z"
   },
   {
    "duration": 14,
    "start_time": "2021-06-21T09:52:27.052Z"
   },
   {
    "duration": 56,
    "start_time": "2021-06-21T09:52:27.069Z"
   },
   {
    "duration": 33,
    "start_time": "2021-06-21T09:52:27.128Z"
   },
   {
    "duration": 93,
    "start_time": "2021-06-21T09:52:27.166Z"
   },
   {
    "duration": 21,
    "start_time": "2021-06-21T09:52:27.263Z"
   },
   {
    "duration": 53,
    "start_time": "2021-06-21T09:52:27.287Z"
   },
   {
    "duration": 45,
    "start_time": "2021-06-21T09:52:27.344Z"
   },
   {
    "duration": 97,
    "start_time": "2021-06-21T09:52:27.392Z"
   },
   {
    "duration": 109,
    "start_time": "2021-06-21T09:52:27.493Z"
   },
   {
    "duration": 4066,
    "start_time": "2021-06-21T09:52:23.540Z"
   },
   {
    "duration": 4062,
    "start_time": "2021-06-21T09:52:23.545Z"
   },
   {
    "duration": 4059,
    "start_time": "2021-06-21T09:52:23.550Z"
   },
   {
    "duration": 4044,
    "start_time": "2021-06-21T09:52:23.566Z"
   },
   {
    "duration": 4042,
    "start_time": "2021-06-21T09:52:23.569Z"
   },
   {
    "duration": 4037,
    "start_time": "2021-06-21T09:52:23.576Z"
   },
   {
    "duration": 4030,
    "start_time": "2021-06-21T09:52:23.584Z"
   },
   {
    "duration": 4026,
    "start_time": "2021-06-21T09:52:23.590Z"
   },
   {
    "duration": 4024,
    "start_time": "2021-06-21T09:52:23.593Z"
   },
   {
    "duration": 4023,
    "start_time": "2021-06-21T09:52:23.596Z"
   },
   {
    "duration": 4015,
    "start_time": "2021-06-21T09:52:23.605Z"
   },
   {
    "duration": 4014,
    "start_time": "2021-06-21T09:52:23.608Z"
   },
   {
    "duration": 4011,
    "start_time": "2021-06-21T09:52:23.612Z"
   },
   {
    "duration": 4006,
    "start_time": "2021-06-21T09:52:23.618Z"
   },
   {
    "duration": 4005,
    "start_time": "2021-06-21T09:52:23.620Z"
   },
   {
    "duration": 4004,
    "start_time": "2021-06-21T09:52:23.623Z"
   },
   {
    "duration": 4002,
    "start_time": "2021-06-21T09:52:23.626Z"
   },
   {
    "duration": 4001,
    "start_time": "2021-06-21T09:52:23.628Z"
   },
   {
    "duration": 3997,
    "start_time": "2021-06-21T09:52:23.634Z"
   },
   {
    "duration": 3994,
    "start_time": "2021-06-21T09:52:23.638Z"
   },
   {
    "duration": 3993,
    "start_time": "2021-06-21T09:52:23.641Z"
   },
   {
    "duration": 3989,
    "start_time": "2021-06-21T09:52:23.646Z"
   },
   {
    "duration": 3980,
    "start_time": "2021-06-21T09:52:23.657Z"
   },
   {
    "duration": 3977,
    "start_time": "2021-06-21T09:52:23.661Z"
   },
   {
    "duration": 3977,
    "start_time": "2021-06-21T09:52:23.663Z"
   },
   {
    "duration": 328,
    "start_time": "2021-06-23T09:04:21.397Z"
   },
   {
    "duration": 873,
    "start_time": "2021-06-23T09:04:38.346Z"
   },
   {
    "duration": 41,
    "start_time": "2021-06-23T09:04:43.756Z"
   },
   {
    "duration": 10,
    "start_time": "2021-06-23T09:04:45.824Z"
   },
   {
    "duration": 6,
    "start_time": "2021-06-23T09:04:47.817Z"
   },
   {
    "duration": 13,
    "start_time": "2021-06-23T09:04:52.163Z"
   },
   {
    "duration": 17,
    "start_time": "2021-06-23T09:04:56.690Z"
   },
   {
    "duration": 45,
    "start_time": "2021-06-23T09:04:59.682Z"
   },
   {
    "duration": 16,
    "start_time": "2021-06-23T09:05:02.218Z"
   },
   {
    "duration": 28,
    "start_time": "2021-06-23T09:05:11.531Z"
   },
   {
    "duration": 55,
    "start_time": "2021-06-23T09:05:16.762Z"
   },
   {
    "duration": 20,
    "start_time": "2021-06-23T09:19:34.387Z"
   },
   {
    "duration": 18,
    "start_time": "2021-06-23T09:19:50.802Z"
   },
   {
    "duration": 10,
    "start_time": "2021-06-23T09:20:05.270Z"
   },
   {
    "duration": 10,
    "start_time": "2021-06-23T09:20:08.802Z"
   },
   {
    "duration": 13,
    "start_time": "2021-06-23T09:20:29.978Z"
   },
   {
    "duration": 13,
    "start_time": "2021-06-23T09:20:35.710Z"
   },
   {
    "duration": 43,
    "start_time": "2021-06-23T09:20:42.081Z"
   },
   {
    "duration": 44,
    "start_time": "2021-06-23T09:20:45.147Z"
   },
   {
    "duration": 9,
    "start_time": "2021-06-23T09:21:09.116Z"
   },
   {
    "duration": 9,
    "start_time": "2021-06-23T09:21:14.155Z"
   },
   {
    "duration": 20,
    "start_time": "2021-06-23T09:21:14.166Z"
   },
   {
    "duration": 9,
    "start_time": "2021-06-23T09:21:21.250Z"
   },
   {
    "duration": 9,
    "start_time": "2021-06-23T09:21:29.292Z"
   },
   {
    "duration": 10,
    "start_time": "2021-06-23T09:21:31.700Z"
   },
   {
    "duration": 9,
    "start_time": "2021-06-23T09:21:34.043Z"
   },
   {
    "duration": 8,
    "start_time": "2021-06-23T09:21:36.172Z"
   },
   {
    "duration": 6,
    "start_time": "2021-06-23T09:21:42.461Z"
   },
   {
    "duration": 6,
    "start_time": "2021-06-23T09:21:44.403Z"
   },
   {
    "duration": 9,
    "start_time": "2021-06-23T09:21:51.211Z"
   },
   {
    "duration": 21,
    "start_time": "2021-06-23T12:11:13.482Z"
   },
   {
    "duration": 21,
    "start_time": "2021-06-23T12:11:24.533Z"
   },
   {
    "duration": 18,
    "start_time": "2021-06-23T12:11:37.675Z"
   },
   {
    "duration": 357,
    "start_time": "2021-06-23T12:12:34.604Z"
   },
   {
    "duration": 279,
    "start_time": "2021-06-23T12:12:40.862Z"
   },
   {
    "duration": 336,
    "start_time": "2021-06-23T12:12:43.628Z"
   },
   {
    "duration": 21,
    "start_time": "2021-06-23T12:12:47.843Z"
   },
   {
    "duration": 23,
    "start_time": "2021-06-23T12:12:54.892Z"
   },
   {
    "duration": 1265,
    "start_time": "2021-06-23T16:25:39.165Z"
   },
   {
    "duration": 3448,
    "start_time": "2021-06-23T16:25:36.988Z"
   },
   {
    "duration": 3444,
    "start_time": "2021-06-23T16:25:36.994Z"
   },
   {
    "duration": 3439,
    "start_time": "2021-06-23T16:25:37.001Z"
   },
   {
    "duration": 3436,
    "start_time": "2021-06-23T16:25:37.005Z"
   },
   {
    "duration": 3433,
    "start_time": "2021-06-23T16:25:37.010Z"
   },
   {
    "duration": 3429,
    "start_time": "2021-06-23T16:25:37.016Z"
   },
   {
    "duration": 3421,
    "start_time": "2021-06-23T16:25:37.026Z"
   },
   {
    "duration": 3420,
    "start_time": "2021-06-23T16:25:37.029Z"
   },
   {
    "duration": 3415,
    "start_time": "2021-06-23T16:25:37.036Z"
   },
   {
    "duration": 3405,
    "start_time": "2021-06-23T16:25:37.048Z"
   },
   {
    "duration": 3405,
    "start_time": "2021-06-23T16:25:37.051Z"
   },
   {
    "duration": 3401,
    "start_time": "2021-06-23T16:25:37.056Z"
   },
   {
    "duration": 3396,
    "start_time": "2021-06-23T16:25:37.063Z"
   },
   {
    "duration": 3394,
    "start_time": "2021-06-23T16:25:37.067Z"
   },
   {
    "duration": 3391,
    "start_time": "2021-06-23T16:25:37.072Z"
   },
   {
    "duration": 3385,
    "start_time": "2021-06-23T16:25:37.081Z"
   },
   {
    "duration": 3379,
    "start_time": "2021-06-23T16:25:37.088Z"
   },
   {
    "duration": 3376,
    "start_time": "2021-06-23T16:25:37.093Z"
   },
   {
    "duration": 3372,
    "start_time": "2021-06-23T16:25:37.099Z"
   },
   {
    "duration": 3369,
    "start_time": "2021-06-23T16:25:37.104Z"
   },
   {
    "duration": 3340,
    "start_time": "2021-06-23T16:25:37.135Z"
   },
   {
    "duration": 3330,
    "start_time": "2021-06-23T16:25:37.146Z"
   },
   {
    "duration": 3318,
    "start_time": "2021-06-23T16:25:37.160Z"
   },
   {
    "duration": 3314,
    "start_time": "2021-06-23T16:25:37.166Z"
   },
   {
    "duration": 3312,
    "start_time": "2021-06-23T16:25:37.170Z"
   },
   {
    "duration": 3310,
    "start_time": "2021-06-23T16:25:37.174Z"
   },
   {
    "duration": 3308,
    "start_time": "2021-06-23T16:25:37.179Z"
   },
   {
    "duration": 3302,
    "start_time": "2021-06-23T16:25:37.186Z"
   },
   {
    "duration": 1242,
    "start_time": "2021-06-23T16:28:24.074Z"
   },
   {
    "duration": 3425,
    "start_time": "2021-06-23T16:28:21.895Z"
   },
   {
    "duration": 3425,
    "start_time": "2021-06-23T16:28:21.897Z"
   },
   {
    "duration": 3423,
    "start_time": "2021-06-23T16:28:21.900Z"
   },
   {
    "duration": 3421,
    "start_time": "2021-06-23T16:28:21.904Z"
   },
   {
    "duration": 3421,
    "start_time": "2021-06-23T16:28:21.906Z"
   },
   {
    "duration": 3419,
    "start_time": "2021-06-23T16:28:21.909Z"
   },
   {
    "duration": 3418,
    "start_time": "2021-06-23T16:28:21.912Z"
   },
   {
    "duration": 3416,
    "start_time": "2021-06-23T16:28:21.915Z"
   },
   {
    "duration": 3415,
    "start_time": "2021-06-23T16:28:21.918Z"
   },
   {
    "duration": 3414,
    "start_time": "2021-06-23T16:28:21.920Z"
   },
   {
    "duration": 3413,
    "start_time": "2021-06-23T16:28:21.923Z"
   },
   {
    "duration": 3401,
    "start_time": "2021-06-23T16:28:21.936Z"
   },
   {
    "duration": 3400,
    "start_time": "2021-06-23T16:28:21.939Z"
   },
   {
    "duration": 3365,
    "start_time": "2021-06-23T16:28:21.975Z"
   },
   {
    "duration": 3364,
    "start_time": "2021-06-23T16:28:21.978Z"
   },
   {
    "duration": 3363,
    "start_time": "2021-06-23T16:28:21.980Z"
   },
   {
    "duration": 3362,
    "start_time": "2021-06-23T16:28:21.982Z"
   },
   {
    "duration": 3361,
    "start_time": "2021-06-23T16:28:21.985Z"
   },
   {
    "duration": 3359,
    "start_time": "2021-06-23T16:28:21.988Z"
   },
   {
    "duration": 3358,
    "start_time": "2021-06-23T16:28:21.990Z"
   },
   {
    "duration": 3358,
    "start_time": "2021-06-23T16:28:21.992Z"
   },
   {
    "duration": 3356,
    "start_time": "2021-06-23T16:28:21.995Z"
   },
   {
    "duration": 3355,
    "start_time": "2021-06-23T16:28:21.997Z"
   },
   {
    "duration": 3367,
    "start_time": "2021-06-23T16:28:21.999Z"
   },
   {
    "duration": 3366,
    "start_time": "2021-06-23T16:28:22.002Z"
   },
   {
    "duration": 3365,
    "start_time": "2021-06-23T16:28:22.004Z"
   },
   {
    "duration": 3364,
    "start_time": "2021-06-23T16:28:22.007Z"
   },
   {
    "duration": 3364,
    "start_time": "2021-06-23T16:28:22.009Z"
   },
   {
    "duration": 1294,
    "start_time": "2021-06-23T16:37:14.755Z"
   },
   {
    "duration": 3390,
    "start_time": "2021-06-23T16:37:12.663Z"
   },
   {
    "duration": 3377,
    "start_time": "2021-06-23T16:37:12.678Z"
   },
   {
    "duration": 3375,
    "start_time": "2021-06-23T16:37:12.681Z"
   },
   {
    "duration": 3373,
    "start_time": "2021-06-23T16:37:12.684Z"
   },
   {
    "duration": 3372,
    "start_time": "2021-06-23T16:37:12.686Z"
   },
   {
    "duration": 3360,
    "start_time": "2021-06-23T16:37:12.699Z"
   },
   {
    "duration": 3359,
    "start_time": "2021-06-23T16:37:12.702Z"
   },
   {
    "duration": 3357,
    "start_time": "2021-06-23T16:37:12.705Z"
   },
   {
    "duration": 3352,
    "start_time": "2021-06-23T16:37:12.711Z"
   },
   {
    "duration": 3351,
    "start_time": "2021-06-23T16:37:12.713Z"
   },
   {
    "duration": 3349,
    "start_time": "2021-06-23T16:37:12.716Z"
   },
   {
    "duration": 3348,
    "start_time": "2021-06-23T16:37:12.719Z"
   },
   {
    "duration": 3342,
    "start_time": "2021-06-23T16:37:12.726Z"
   },
   {
    "duration": 3340,
    "start_time": "2021-06-23T16:37:12.729Z"
   },
   {
    "duration": 3334,
    "start_time": "2021-06-23T16:37:12.736Z"
   },
   {
    "duration": 3326,
    "start_time": "2021-06-23T16:37:12.745Z"
   },
   {
    "duration": 3323,
    "start_time": "2021-06-23T16:37:12.749Z"
   },
   {
    "duration": 3308,
    "start_time": "2021-06-23T16:37:12.766Z"
   },
   {
    "duration": 3303,
    "start_time": "2021-06-23T16:37:12.772Z"
   },
   {
    "duration": 3293,
    "start_time": "2021-06-23T16:37:12.783Z"
   },
   {
    "duration": 3290,
    "start_time": "2021-06-23T16:37:12.787Z"
   },
   {
    "duration": 3284,
    "start_time": "2021-06-23T16:37:12.794Z"
   },
   {
    "duration": 3282,
    "start_time": "2021-06-23T16:37:12.797Z"
   },
   {
    "duration": 3276,
    "start_time": "2021-06-23T16:37:12.805Z"
   },
   {
    "duration": 3269,
    "start_time": "2021-06-23T16:37:12.813Z"
   },
   {
    "duration": 3267,
    "start_time": "2021-06-23T16:37:12.816Z"
   },
   {
    "duration": 3265,
    "start_time": "2021-06-23T16:37:12.819Z"
   },
   {
    "duration": 3263,
    "start_time": "2021-06-23T16:37:12.823Z"
   },
   {
    "duration": 484,
    "start_time": "2021-06-23T17:36:00.996Z"
   },
   {
    "duration": -88,
    "start_time": "2021-06-23T17:36:01.572Z"
   },
   {
    "duration": -88,
    "start_time": "2021-06-23T17:36:01.574Z"
   },
   {
    "duration": -90,
    "start_time": "2021-06-23T17:36:01.577Z"
   },
   {
    "duration": -93,
    "start_time": "2021-06-23T17:36:01.581Z"
   },
   {
    "duration": -93,
    "start_time": "2021-06-23T17:36:01.583Z"
   },
   {
    "duration": -92,
    "start_time": "2021-06-23T17:36:01.584Z"
   },
   {
    "duration": -92,
    "start_time": "2021-06-23T17:36:01.586Z"
   },
   {
    "duration": -93,
    "start_time": "2021-06-23T17:36:01.588Z"
   },
   {
    "duration": -92,
    "start_time": "2021-06-23T17:36:01.589Z"
   },
   {
    "duration": -99,
    "start_time": "2021-06-23T17:36:01.597Z"
   },
   {
    "duration": -98,
    "start_time": "2021-06-23T17:36:01.598Z"
   },
   {
    "duration": -98,
    "start_time": "2021-06-23T17:36:01.600Z"
   },
   {
    "duration": -99,
    "start_time": "2021-06-23T17:36:01.602Z"
   },
   {
    "duration": -142,
    "start_time": "2021-06-23T17:36:01.647Z"
   },
   {
    "duration": -143,
    "start_time": "2021-06-23T17:36:01.649Z"
   },
   {
    "duration": -147,
    "start_time": "2021-06-23T17:36:01.654Z"
   },
   {
    "duration": -147,
    "start_time": "2021-06-23T17:36:01.656Z"
   },
   {
    "duration": -150,
    "start_time": "2021-06-23T17:36:01.660Z"
   },
   {
    "duration": -153,
    "start_time": "2021-06-23T17:36:01.664Z"
   },
   {
    "duration": -153,
    "start_time": "2021-06-23T17:36:01.666Z"
   },
   {
    "duration": -155,
    "start_time": "2021-06-23T17:36:01.669Z"
   },
   {
    "duration": -157,
    "start_time": "2021-06-23T17:36:01.673Z"
   },
   {
    "duration": -107,
    "start_time": "2021-06-23T17:36:01.677Z"
   },
   {
    "duration": -109,
    "start_time": "2021-06-23T17:36:01.680Z"
   },
   {
    "duration": -120,
    "start_time": "2021-06-23T17:36:01.693Z"
   },
   {
    "duration": -120,
    "start_time": "2021-06-23T17:36:01.695Z"
   },
   {
    "duration": -121,
    "start_time": "2021-06-23T17:36:01.697Z"
   },
   {
    "duration": -120,
    "start_time": "2021-06-23T17:36:01.698Z"
   },
   {
    "duration": 333,
    "start_time": "2021-06-23T17:53:46.435Z"
   },
   {
    "duration": -142,
    "start_time": "2021-06-23T17:53:46.914Z"
   },
   {
    "duration": -142,
    "start_time": "2021-06-23T17:53:46.916Z"
   },
   {
    "duration": -142,
    "start_time": "2021-06-23T17:53:46.917Z"
   },
   {
    "duration": -142,
    "start_time": "2021-06-23T17:53:46.919Z"
   },
   {
    "duration": -142,
    "start_time": "2021-06-23T17:53:46.920Z"
   },
   {
    "duration": -142,
    "start_time": "2021-06-23T17:53:46.922Z"
   },
   {
    "duration": -142,
    "start_time": "2021-06-23T17:53:46.923Z"
   },
   {
    "duration": -144,
    "start_time": "2021-06-23T17:53:46.927Z"
   },
   {
    "duration": -144,
    "start_time": "2021-06-23T17:53:46.928Z"
   },
   {
    "duration": -144,
    "start_time": "2021-06-23T17:53:46.930Z"
   },
   {
    "duration": -144,
    "start_time": "2021-06-23T17:53:46.931Z"
   },
   {
    "duration": -144,
    "start_time": "2021-06-23T17:53:46.933Z"
   },
   {
    "duration": -144,
    "start_time": "2021-06-23T17:53:46.934Z"
   },
   {
    "duration": -143,
    "start_time": "2021-06-23T17:53:46.935Z"
   },
   {
    "duration": -144,
    "start_time": "2021-06-23T17:53:46.937Z"
   },
   {
    "duration": -147,
    "start_time": "2021-06-23T17:53:46.942Z"
   },
   {
    "duration": -148,
    "start_time": "2021-06-23T17:53:46.944Z"
   },
   {
    "duration": -149,
    "start_time": "2021-06-23T17:53:46.946Z"
   },
   {
    "duration": -149,
    "start_time": "2021-06-23T17:53:46.948Z"
   },
   {
    "duration": -200,
    "start_time": "2021-06-23T17:53:47.000Z"
   },
   {
    "duration": -200,
    "start_time": "2021-06-23T17:53:47.002Z"
   },
   {
    "duration": -203,
    "start_time": "2021-06-23T17:53:47.006Z"
   },
   {
    "duration": -204,
    "start_time": "2021-06-23T17:53:47.008Z"
   },
   {
    "duration": -203,
    "start_time": "2021-06-23T17:53:47.009Z"
   },
   {
    "duration": -204,
    "start_time": "2021-06-23T17:53:47.011Z"
   },
   {
    "duration": -205,
    "start_time": "2021-06-23T17:53:47.013Z"
   },
   {
    "duration": -206,
    "start_time": "2021-06-23T17:53:47.016Z"
   },
   {
    "duration": -151,
    "start_time": "2021-06-23T17:53:47.018Z"
   },
   {
    "duration": 637,
    "start_time": "2021-06-23T22:39:06.897Z"
   },
   {
    "duration": 44,
    "start_time": "2021-06-23T22:39:07.536Z"
   },
   {
    "duration": 9,
    "start_time": "2021-06-23T22:39:07.583Z"
   },
   {
    "duration": 18,
    "start_time": "2021-06-23T22:39:07.595Z"
   },
   {
    "duration": 17,
    "start_time": "2021-06-23T22:39:07.615Z"
   },
   {
    "duration": 47,
    "start_time": "2021-06-23T22:39:07.634Z"
   },
   {
    "duration": 45,
    "start_time": "2021-06-23T22:39:07.684Z"
   },
   {
    "duration": 33,
    "start_time": "2021-06-23T22:39:07.733Z"
   },
   {
    "duration": 19,
    "start_time": "2021-06-23T22:39:07.770Z"
   },
   {
    "duration": 27,
    "start_time": "2021-06-23T22:39:07.792Z"
   },
   {
    "duration": 76,
    "start_time": "2021-06-23T22:39:07.821Z"
   },
   {
    "duration": 17,
    "start_time": "2021-06-23T22:39:07.899Z"
   },
   {
    "duration": 20,
    "start_time": "2021-06-23T22:39:07.919Z"
   },
   {
    "duration": 27,
    "start_time": "2021-06-23T22:39:07.941Z"
   },
   {
    "duration": 14,
    "start_time": "2021-06-23T22:39:07.970Z"
   },
   {
    "duration": 25,
    "start_time": "2021-06-23T22:39:07.986Z"
   },
   {
    "duration": 65,
    "start_time": "2021-06-23T22:39:08.013Z"
   },
   {
    "duration": 45,
    "start_time": "2021-06-23T22:39:08.080Z"
   },
   {
    "duration": 14,
    "start_time": "2021-06-23T22:39:08.127Z"
   },
   {
    "duration": 33,
    "start_time": "2021-06-23T22:39:08.143Z"
   },
   {
    "duration": 22,
    "start_time": "2021-06-23T22:39:08.178Z"
   },
   {
    "duration": 13,
    "start_time": "2021-06-23T22:39:08.202Z"
   },
   {
    "duration": 12,
    "start_time": "2021-06-23T22:39:08.220Z"
   },
   {
    "duration": 22,
    "start_time": "2021-06-23T22:39:08.234Z"
   },
   {
    "duration": 14,
    "start_time": "2021-06-23T22:39:08.258Z"
   },
   {
    "duration": 18,
    "start_time": "2021-06-23T22:39:08.274Z"
   },
   {
    "duration": 18,
    "start_time": "2021-06-23T22:39:08.294Z"
   },
   {
    "duration": 6,
    "start_time": "2021-06-23T22:39:08.314Z"
   },
   {
    "duration": 19,
    "start_time": "2021-06-23T22:39:08.323Z"
   },
   {
    "duration": 345,
    "start_time": "2021-06-24T13:48:43.631Z"
   },
   {
    "duration": 909,
    "start_time": "2021-06-24T13:48:57.640Z"
   },
   {
    "duration": 45,
    "start_time": "2021-06-24T13:49:05.128Z"
   },
   {
    "duration": 9,
    "start_time": "2021-06-24T13:49:05.909Z"
   },
   {
    "duration": 6,
    "start_time": "2021-06-24T13:49:06.198Z"
   },
   {
    "duration": 13,
    "start_time": "2021-06-24T13:49:07.903Z"
   },
   {
    "duration": 16,
    "start_time": "2021-06-24T13:49:08.140Z"
   },
   {
    "duration": 46,
    "start_time": "2021-06-24T13:49:08.986Z"
   },
   {
    "duration": 16,
    "start_time": "2021-06-24T13:49:09.146Z"
   },
   {
    "duration": 21,
    "start_time": "2021-06-24T13:49:09.326Z"
   },
   {
    "duration": 27,
    "start_time": "2021-06-24T13:49:09.493Z"
   },
   {
    "duration": 51,
    "start_time": "2021-06-24T13:49:09.857Z"
   },
   {
    "duration": 19,
    "start_time": "2021-06-24T13:49:11.078Z"
   },
   {
    "duration": 369,
    "start_time": "2021-06-24T13:49:11.404Z"
   },
   {
    "duration": 9,
    "start_time": "2021-06-24T13:49:12.418Z"
   },
   {
    "duration": 10,
    "start_time": "2021-06-24T13:49:12.588Z"
   },
   {
    "duration": 14,
    "start_time": "2021-06-24T13:49:12.766Z"
   },
   {
    "duration": 13,
    "start_time": "2021-06-24T13:49:12.949Z"
   },
   {
    "duration": 79,
    "start_time": "2021-06-24T13:49:13.155Z"
   },
   {
    "duration": 81,
    "start_time": "2021-06-24T13:49:13.353Z"
   },
   {
    "duration": 8,
    "start_time": "2021-06-24T13:49:15.260Z"
   },
   {
    "duration": 7,
    "start_time": "2021-06-24T13:49:15.471Z"
   },
   {
    "duration": 7,
    "start_time": "2021-06-24T13:49:15.639Z"
   },
   {
    "duration": 8,
    "start_time": "2021-06-24T13:49:15.839Z"
   },
   {
    "duration": 11,
    "start_time": "2021-06-24T13:49:17.159Z"
   },
   {
    "duration": 10,
    "start_time": "2021-06-24T13:49:17.393Z"
   },
   {
    "duration": 8,
    "start_time": "2021-06-24T13:49:18.126Z"
   },
   {
    "duration": 7,
    "start_time": "2021-06-24T13:49:18.342Z"
   },
   {
    "duration": 6,
    "start_time": "2021-06-24T13:49:19.722Z"
   },
   {
    "duration": 5,
    "start_time": "2021-06-24T13:49:19.896Z"
   },
   {
    "duration": 11,
    "start_time": "2021-06-24T13:49:21.098Z"
   },
   {
    "duration": 281,
    "start_time": "2021-06-24T13:50:53.863Z"
   },
   {
    "duration": 20,
    "start_time": "2021-06-24T13:51:06.775Z"
   },
   {
    "duration": 19,
    "start_time": "2021-06-24T13:51:43.393Z"
   },
   {
    "duration": 106,
    "start_time": "2021-06-24T13:51:55.714Z"
   },
   {
    "duration": 39,
    "start_time": "2021-06-24T13:51:56.138Z"
   },
   {
    "duration": 9,
    "start_time": "2021-06-24T13:51:56.311Z"
   },
   {
    "duration": 7,
    "start_time": "2021-06-24T13:51:56.496Z"
   },
   {
    "duration": 13,
    "start_time": "2021-06-24T13:51:57.641Z"
   },
   {
    "duration": 17,
    "start_time": "2021-06-24T13:51:57.838Z"
   },
   {
    "duration": 44,
    "start_time": "2021-06-24T13:51:58.604Z"
   },
   {
    "duration": 15,
    "start_time": "2021-06-24T13:51:58.802Z"
   },
   {
    "duration": 20,
    "start_time": "2021-06-24T13:51:58.946Z"
   },
   {
    "duration": 27,
    "start_time": "2021-06-24T13:51:59.165Z"
   },
   {
    "duration": 51,
    "start_time": "2021-06-24T13:51:59.436Z"
   },
   {
    "duration": 20,
    "start_time": "2021-06-24T13:52:00.608Z"
   },
   {
    "duration": 27,
    "start_time": "2021-06-24T13:52:00.793Z"
   },
   {
    "duration": 18,
    "start_time": "2021-06-24T13:52:00.953Z"
   },
   {
    "duration": 9,
    "start_time": "2021-06-24T13:52:02.004Z"
   },
   {
    "duration": 11,
    "start_time": "2021-06-24T13:52:02.184Z"
   },
   {
    "duration": 12,
    "start_time": "2021-06-24T13:52:02.378Z"
   },
   {
    "duration": 13,
    "start_time": "2021-06-24T13:52:02.565Z"
   },
   {
    "duration": 45,
    "start_time": "2021-06-24T13:52:02.761Z"
   },
   {
    "duration": 44,
    "start_time": "2021-06-24T13:52:02.948Z"
   },
   {
    "duration": 8,
    "start_time": "2021-06-24T13:52:04.397Z"
   },
   {
    "duration": 7,
    "start_time": "2021-06-24T13:52:04.585Z"
   },
   {
    "duration": 7,
    "start_time": "2021-06-24T13:52:04.753Z"
   },
   {
    "duration": 7,
    "start_time": "2021-06-24T13:52:04.911Z"
   },
   {
    "duration": 9,
    "start_time": "2021-06-24T13:52:05.716Z"
   },
   {
    "duration": 10,
    "start_time": "2021-06-24T13:52:05.897Z"
   },
   {
    "duration": 7,
    "start_time": "2021-06-24T13:52:06.060Z"
   },
   {
    "duration": 7,
    "start_time": "2021-06-24T13:52:06.218Z"
   },
   {
    "duration": 5,
    "start_time": "2021-06-24T13:52:07.105Z"
   },
   {
    "duration": 6,
    "start_time": "2021-06-24T13:52:07.296Z"
   },
   {
    "duration": 10,
    "start_time": "2021-06-24T13:52:08.233Z"
   },
   {
    "duration": 15,
    "start_time": "2021-06-24T13:53:43.706Z"
   },
   {
    "duration": 20,
    "start_time": "2021-06-24T13:54:09.860Z"
   },
   {
    "duration": 19,
    "start_time": "2021-06-24T13:54:21.481Z"
   },
   {
    "duration": 8,
    "start_time": "2021-06-24T13:54:31.136Z"
   },
   {
    "duration": 9,
    "start_time": "2021-06-24T13:54:58.139Z"
   },
   {
    "duration": 112,
    "start_time": "2021-06-24T13:55:14.307Z"
   },
   {
    "duration": 325,
    "start_time": "2021-06-24T13:55:18.702Z"
   },
   {
    "duration": 271,
    "start_time": "2021-06-24T13:55:23.341Z"
   },
   {
    "duration": 7,
    "start_time": "2021-06-24T13:55:42.639Z"
   },
   {
    "duration": 16,
    "start_time": "2021-06-24T13:55:52.845Z"
   },
   {
    "duration": 17,
    "start_time": "2021-06-24T13:55:59.477Z"
   },
   {
    "duration": 15,
    "start_time": "2021-06-24T13:56:07.719Z"
   },
   {
    "duration": 7,
    "start_time": "2021-06-24T13:56:33.691Z"
   },
   {
    "duration": 19,
    "start_time": "2021-06-24T13:56:58.815Z"
   },
   {
    "duration": 104,
    "start_time": "2021-06-24T13:57:07.635Z"
   },
   {
    "duration": 41,
    "start_time": "2021-06-24T13:57:07.822Z"
   },
   {
    "duration": 8,
    "start_time": "2021-06-24T13:57:07.976Z"
   },
   {
    "duration": 5,
    "start_time": "2021-06-24T13:57:08.147Z"
   },
   {
    "duration": 12,
    "start_time": "2021-06-24T13:57:09.045Z"
   },
   {
    "duration": 16,
    "start_time": "2021-06-24T13:57:09.194Z"
   },
   {
    "duration": 46,
    "start_time": "2021-06-24T13:57:11.332Z"
   },
   {
    "duration": 16,
    "start_time": "2021-06-24T13:57:11.536Z"
   },
   {
    "duration": 19,
    "start_time": "2021-06-24T13:57:11.724Z"
   },
   {
    "duration": 27,
    "start_time": "2021-06-24T13:57:12.318Z"
   },
   {
    "duration": 50,
    "start_time": "2021-06-24T13:57:12.830Z"
   },
   {
    "duration": 17,
    "start_time": "2021-06-24T13:57:15.713Z"
   },
   {
    "duration": 7,
    "start_time": "2021-06-24T13:57:15.923Z"
   },
   {
    "duration": 13,
    "start_time": "2021-06-24T13:57:16.423Z"
   },
   {
    "duration": 20,
    "start_time": "2021-06-24T13:57:16.589Z"
   },
   {
    "duration": 7,
    "start_time": "2021-06-24T13:57:16.770Z"
   },
   {
    "duration": 10,
    "start_time": "2021-06-24T13:58:32.636Z"
   },
   {
    "duration": 10,
    "start_time": "2021-06-24T13:58:33.148Z"
   },
   {
    "duration": 14,
    "start_time": "2021-06-24T13:58:33.873Z"
   },
   {
    "duration": 13,
    "start_time": "2021-06-24T13:58:34.586Z"
   },
   {
    "duration": 45,
    "start_time": "2021-06-24T13:58:35.000Z"
   },
   {
    "duration": 49,
    "start_time": "2021-06-24T13:58:35.314Z"
   },
   {
    "duration": 9,
    "start_time": "2021-06-24T14:15:58.992Z"
   },
   {
    "duration": 4,
    "start_time": "2021-06-24T14:23:17.787Z"
   },
   {
    "duration": 9,
    "start_time": "2021-06-24T14:25:13.047Z"
   },
   {
    "duration": 5,
    "start_time": "2021-06-24T14:25:48.472Z"
   },
   {
    "duration": 422,
    "start_time": "2021-06-24T14:28:05.254Z"
   },
   {
    "duration": 9,
    "start_time": "2021-06-24T14:29:34.975Z"
   },
   {
    "duration": 5,
    "start_time": "2021-06-24T14:29:49.181Z"
   },
   {
    "duration": 6,
    "start_time": "2021-06-24T14:29:55.644Z"
   },
   {
    "duration": 7,
    "start_time": "2021-06-24T14:33:16.862Z"
   },
   {
    "duration": 6,
    "start_time": "2021-06-24T14:33:36.023Z"
   },
   {
    "duration": 5,
    "start_time": "2021-06-24T14:33:41.805Z"
   },
   {
    "duration": 6,
    "start_time": "2021-06-24T14:33:45.633Z"
   },
   {
    "duration": 6,
    "start_time": "2021-06-24T14:33:48.577Z"
   },
   {
    "duration": 6,
    "start_time": "2021-06-24T14:34:02.559Z"
   },
   {
    "duration": 7542,
    "start_time": "2021-06-24T14:35:09.556Z"
   },
   {
    "duration": 759,
    "start_time": "2021-06-24T14:35:19.055Z"
   },
   {
    "duration": 7445,
    "start_time": "2021-06-24T14:35:28.942Z"
   },
   {
    "duration": 7279,
    "start_time": "2021-06-24T14:35:50.491Z"
   },
   {
    "duration": 13,
    "start_time": "2021-06-24T14:36:07.659Z"
   },
   {
    "duration": 14,
    "start_time": "2021-06-24T14:36:17.665Z"
   },
   {
    "duration": 20,
    "start_time": "2021-06-24T14:36:42.771Z"
   },
   {
    "duration": 12,
    "start_time": "2021-06-24T14:37:13.752Z"
   },
   {
    "duration": 10,
    "start_time": "2021-06-24T14:37:30.195Z"
   },
   {
    "duration": 21,
    "start_time": "2021-06-24T14:48:20.669Z"
   },
   {
    "duration": 304,
    "start_time": "2021-06-24T14:48:29.750Z"
   },
   {
    "duration": 19,
    "start_time": "2021-06-24T14:48:33.573Z"
   },
   {
    "duration": 305,
    "start_time": "2021-06-24T14:49:38.295Z"
   },
   {
    "duration": 18,
    "start_time": "2021-06-24T14:49:49.465Z"
   },
   {
    "duration": 335,
    "start_time": "2021-06-24T14:50:54.400Z"
   },
   {
    "duration": 55,
    "start_time": "2021-06-24T14:50:59.695Z"
   },
   {
    "duration": 364,
    "start_time": "2021-06-24T14:51:18.477Z"
   },
   {
    "duration": 292,
    "start_time": "2021-06-24T14:51:23.807Z"
   },
   {
    "duration": 56,
    "start_time": "2021-06-24T14:51:28.650Z"
   },
   {
    "duration": 51,
    "start_time": "2021-06-24T14:51:53.601Z"
   },
   {
    "duration": 316,
    "start_time": "2021-06-24T14:52:14.960Z"
   },
   {
    "duration": 51,
    "start_time": "2021-06-24T14:52:22.888Z"
   },
   {
    "duration": 90,
    "start_time": "2021-06-24T14:53:37.723Z"
   },
   {
    "duration": 414,
    "start_time": "2021-06-24T14:53:44.578Z"
   },
   {
    "duration": 306,
    "start_time": "2021-06-24T14:54:13.386Z"
   },
   {
    "duration": 349,
    "start_time": "2021-06-24T14:54:18.835Z"
   },
   {
    "duration": 311,
    "start_time": "2021-06-24T14:54:21.785Z"
   },
   {
    "duration": 56,
    "start_time": "2021-06-24T14:54:25.850Z"
   },
   {
    "duration": 27,
    "start_time": "2021-06-24T14:55:27.388Z"
   },
   {
    "duration": 26,
    "start_time": "2021-06-24T16:14:49.894Z"
   },
   {
    "duration": 229,
    "start_time": "2021-06-24T16:40:35.492Z"
   },
   {
    "duration": 11,
    "start_time": "2021-06-24T16:40:41.928Z"
   },
   {
    "duration": 11,
    "start_time": "2021-06-24T16:40:45.254Z"
   },
   {
    "duration": 10,
    "start_time": "2021-06-24T16:41:10.424Z"
   },
   {
    "duration": 11,
    "start_time": "2021-06-24T16:41:45.176Z"
   },
   {
    "duration": 10,
    "start_time": "2021-06-24T16:41:47.070Z"
   },
   {
    "duration": 878,
    "start_time": "2021-06-25T13:15:22.988Z"
   },
   {
    "duration": 60,
    "start_time": "2021-06-25T13:15:23.871Z"
   },
   {
    "duration": 11,
    "start_time": "2021-06-25T13:15:23.934Z"
   },
   {
    "duration": 9,
    "start_time": "2021-06-25T13:15:23.948Z"
   },
   {
    "duration": 49,
    "start_time": "2021-06-25T13:15:23.960Z"
   },
   {
    "duration": 17,
    "start_time": "2021-06-25T13:15:24.012Z"
   },
   {
    "duration": 45,
    "start_time": "2021-06-25T13:15:24.033Z"
   },
   {
    "duration": 15,
    "start_time": "2021-06-25T13:15:24.102Z"
   },
   {
    "duration": 22,
    "start_time": "2021-06-25T13:15:24.119Z"
   },
   {
    "duration": 27,
    "start_time": "2021-06-25T13:15:24.144Z"
   },
   {
    "duration": 75,
    "start_time": "2021-06-25T13:15:24.173Z"
   },
   {
    "duration": 19,
    "start_time": "2021-06-25T13:15:24.250Z"
   },
   {
    "duration": 31,
    "start_time": "2021-06-25T13:15:24.271Z"
   },
   {
    "duration": 14,
    "start_time": "2021-06-25T13:15:24.305Z"
   },
   {
    "duration": 22,
    "start_time": "2021-06-25T13:15:24.321Z"
   },
   {
    "duration": 7,
    "start_time": "2021-06-25T13:15:24.345Z"
   },
   {
    "duration": 48,
    "start_time": "2021-06-25T13:15:24.354Z"
   },
   {
    "duration": 10,
    "start_time": "2021-06-25T13:15:24.405Z"
   },
   {
    "duration": 15,
    "start_time": "2021-06-25T13:15:24.418Z"
   },
   {
    "duration": 16,
    "start_time": "2021-06-25T13:15:24.436Z"
   },
   {
    "duration": 81,
    "start_time": "2021-06-25T13:15:24.455Z"
   },
   {
    "duration": 43,
    "start_time": "2021-06-25T13:15:24.540Z"
   },
   {
    "duration": 6,
    "start_time": "2021-06-25T13:15:24.601Z"
   },
   {
    "duration": 15,
    "start_time": "2021-06-25T13:15:24.609Z"
   },
   {
    "duration": 10,
    "start_time": "2021-06-25T13:15:24.626Z"
   },
   {
    "duration": 63,
    "start_time": "2021-06-25T13:15:24.639Z"
   },
   {
    "duration": 12,
    "start_time": "2021-06-25T13:15:24.704Z"
   },
   {
    "duration": 23,
    "start_time": "2021-06-25T13:15:24.718Z"
   },
   {
    "duration": 14,
    "start_time": "2021-06-25T13:15:24.744Z"
   },
   {
    "duration": 12,
    "start_time": "2021-06-25T13:15:24.761Z"
   },
   {
    "duration": 29,
    "start_time": "2021-06-25T13:15:24.776Z"
   },
   {
    "duration": 7,
    "start_time": "2021-06-25T13:15:24.808Z"
   },
   {
    "duration": 11,
    "start_time": "2021-06-25T13:15:24.818Z"
   },
   {
    "duration": 13,
    "start_time": "2021-06-25T13:15:24.831Z"
   },
   {
    "duration": 9,
    "start_time": "2021-06-25T13:15:24.846Z"
   },
   {
    "duration": 45,
    "start_time": "2021-06-25T13:15:24.857Z"
   },
   {
    "duration": 10,
    "start_time": "2021-06-25T13:15:24.905Z"
   },
   {
    "duration": 9,
    "start_time": "2021-06-25T13:15:24.918Z"
   },
   {
    "duration": 10,
    "start_time": "2021-06-25T13:15:24.929Z"
   }
  ],
  "kernelspec": {
   "display_name": "Python 3",
   "language": "python",
   "name": "python3"
  },
  "language_info": {
   "codemirror_mode": {
    "name": "ipython",
    "version": 3
   },
   "file_extension": ".py",
   "mimetype": "text/x-python",
   "name": "python",
   "nbconvert_exporter": "python",
   "pygments_lexer": "ipython3",
   "version": "3.8.8"
  },
  "toc": {
   "base_numbering": 1,
   "nav_menu": {},
   "number_sections": true,
   "sideBar": true,
   "skip_h1_title": true,
   "title_cell": "Table of Contents",
   "title_sidebar": "Contents",
   "toc_cell": false,
   "toc_position": {},
   "toc_section_display": true,
   "toc_window_display": false
  }
 },
 "nbformat": 4,
 "nbformat_minor": 2
}
