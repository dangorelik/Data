{
 "cells": [
  {
   "cell_type": "markdown",
   "metadata": {},
   "source": [
    "# Taxi rides Analysis"
   ]
  },
  {
   "cell_type": "markdown",
   "metadata": {},
   "source": [
    "### Introduction"
   ]
  },
  {
   "cell_type": "markdown",
   "metadata": {},
   "source": [
    "Project's goal is to study the data on taxi rides and dropoffs from different neighborhoods in Chicago on November 15-16, 2017, and draw conclusions that will help improve the current operations. \n",
    "\n",
    "This project includes Statistical Data Analysis."
   ]
  },
  {
   "cell_type": "markdown",
   "metadata": {},
   "source": [
    "### Importing Data"
   ]
  },
  {
   "cell_type": "code",
   "execution_count": 1,
   "metadata": {},
   "outputs": [],
   "source": [
    "#Importing libraries:\n",
    "\n",
    "import pandas as pd\n",
    "import numpy as np\n",
    "import matplotlib.pyplot as plt\n",
    "import pylab\n",
    "import seaborn as sns\n",
    "from scipy import stats as st"
   ]
  },
  {
   "cell_type": "code",
   "execution_count": 2,
   "metadata": {},
   "outputs": [],
   "source": [
    "#Importing data files:\n",
    "\n",
    "file_1 = \"C:\\\\Users\\\\Shir\\\\Downloads\\\\Practicum\\\\Library\\\\project_sql_result_01.csv\"\n",
    "file_2 = \"C:\\\\Users\\\\Shir\\\\Downloads\\\\Practicum\\\\Library\\\\project_sql_result_04.csv\"\n",
    "\n",
    "trips_amount = pd.read_csv(file_1)\n",
    "average_trips = pd.read_csv(file_2)"
   ]
  },
  {
   "cell_type": "code",
   "execution_count": 3,
   "metadata": {},
   "outputs": [
    {
     "name": "stdout",
     "output_type": "stream",
     "text": [
      "\u001b[1m trips_amount \u001b[0m\n",
      "--------------------------------------\n",
      "<class 'pandas.core.frame.DataFrame'>\n",
      "RangeIndex: 64 entries, 0 to 63\n",
      "Data columns (total 2 columns):\n",
      " #   Column        Non-Null Count  Dtype \n",
      "---  ------        --------------  ----- \n",
      " 0   company_name  64 non-null     object\n",
      " 1   trips_amount  64 non-null     int64 \n",
      "dtypes: int64(1), object(1)\n",
      "memory usage: 1.1+ KB\n"
     ]
    },
    {
     "data": {
      "text/plain": [
       "None"
      ]
     },
     "metadata": {},
     "output_type": "display_data"
    },
    {
     "data": {
      "text/html": [
       "<div>\n",
       "<style scoped>\n",
       "    .dataframe tbody tr th:only-of-type {\n",
       "        vertical-align: middle;\n",
       "    }\n",
       "\n",
       "    .dataframe tbody tr th {\n",
       "        vertical-align: top;\n",
       "    }\n",
       "\n",
       "    .dataframe thead th {\n",
       "        text-align: right;\n",
       "    }\n",
       "</style>\n",
       "<table border=\"1\" class=\"dataframe\">\n",
       "  <thead>\n",
       "    <tr style=\"text-align: right;\">\n",
       "      <th></th>\n",
       "      <th>trips_amount</th>\n",
       "    </tr>\n",
       "  </thead>\n",
       "  <tbody>\n",
       "    <tr>\n",
       "      <th>count</th>\n",
       "      <td>64.000000</td>\n",
       "    </tr>\n",
       "    <tr>\n",
       "      <th>mean</th>\n",
       "      <td>2145.484375</td>\n",
       "    </tr>\n",
       "    <tr>\n",
       "      <th>std</th>\n",
       "      <td>3812.310186</td>\n",
       "    </tr>\n",
       "    <tr>\n",
       "      <th>min</th>\n",
       "      <td>2.000000</td>\n",
       "    </tr>\n",
       "    <tr>\n",
       "      <th>25%</th>\n",
       "      <td>20.750000</td>\n",
       "    </tr>\n",
       "    <tr>\n",
       "      <th>50%</th>\n",
       "      <td>178.500000</td>\n",
       "    </tr>\n",
       "    <tr>\n",
       "      <th>75%</th>\n",
       "      <td>2106.500000</td>\n",
       "    </tr>\n",
       "    <tr>\n",
       "      <th>max</th>\n",
       "      <td>19558.000000</td>\n",
       "    </tr>\n",
       "  </tbody>\n",
       "</table>\n",
       "</div>"
      ],
      "text/plain": [
       "       trips_amount\n",
       "count     64.000000\n",
       "mean    2145.484375\n",
       "std     3812.310186\n",
       "min        2.000000\n",
       "25%       20.750000\n",
       "50%      178.500000\n",
       "75%     2106.500000\n",
       "max    19558.000000"
      ]
     },
     "metadata": {},
     "output_type": "display_data"
    },
    {
     "data": {
      "text/html": [
       "<div>\n",
       "<style scoped>\n",
       "    .dataframe tbody tr th:only-of-type {\n",
       "        vertical-align: middle;\n",
       "    }\n",
       "\n",
       "    .dataframe tbody tr th {\n",
       "        vertical-align: top;\n",
       "    }\n",
       "\n",
       "    .dataframe thead th {\n",
       "        text-align: right;\n",
       "    }\n",
       "</style>\n",
       "<table border=\"1\" class=\"dataframe\">\n",
       "  <thead>\n",
       "    <tr style=\"text-align: right;\">\n",
       "      <th></th>\n",
       "      <th>company_name</th>\n",
       "      <th>trips_amount</th>\n",
       "    </tr>\n",
       "  </thead>\n",
       "  <tbody>\n",
       "    <tr>\n",
       "      <th>0</th>\n",
       "      <td>Flash Cab</td>\n",
       "      <td>19558</td>\n",
       "    </tr>\n",
       "    <tr>\n",
       "      <th>1</th>\n",
       "      <td>Taxi Affiliation Services</td>\n",
       "      <td>11422</td>\n",
       "    </tr>\n",
       "    <tr>\n",
       "      <th>2</th>\n",
       "      <td>Medallion Leasin</td>\n",
       "      <td>10367</td>\n",
       "    </tr>\n",
       "    <tr>\n",
       "      <th>3</th>\n",
       "      <td>Yellow Cab</td>\n",
       "      <td>9888</td>\n",
       "    </tr>\n",
       "    <tr>\n",
       "      <th>4</th>\n",
       "      <td>Taxi Affiliation Service Yellow</td>\n",
       "      <td>9299</td>\n",
       "    </tr>\n",
       "  </tbody>\n",
       "</table>\n",
       "</div>"
      ],
      "text/plain": [
       "                      company_name  trips_amount\n",
       "0                        Flash Cab         19558\n",
       "1        Taxi Affiliation Services         11422\n",
       "2                 Medallion Leasin         10367\n",
       "3                       Yellow Cab          9888\n",
       "4  Taxi Affiliation Service Yellow          9299"
      ]
     },
     "metadata": {},
     "output_type": "display_data"
    }
   ],
   "source": [
    "#trips_amount description:\n",
    "\n",
    "print('\\033[1m', 'trips_amount', '\\033[0m')\n",
    "print('--------------------------------------')        \n",
    "display(trips_amount.info())\n",
    "display(trips_amount.describe())\n",
    "display(trips_amount.head(5))"
   ]
  },
  {
   "cell_type": "markdown",
   "metadata": {},
   "source": [
    "trips_amount table contains 64 rows and 2 columns: company_name - string and trips_amount - integer."
   ]
  },
  {
   "cell_type": "code",
   "execution_count": 4,
   "metadata": {},
   "outputs": [
    {
     "name": "stdout",
     "output_type": "stream",
     "text": [
      "\u001b[1m average_trips \u001b[0m\n",
      "--------------------------------------\n",
      "<class 'pandas.core.frame.DataFrame'>\n",
      "RangeIndex: 94 entries, 0 to 93\n",
      "Data columns (total 2 columns):\n",
      " #   Column                 Non-Null Count  Dtype  \n",
      "---  ------                 --------------  -----  \n",
      " 0   dropoff_location_name  94 non-null     object \n",
      " 1   average_trips          94 non-null     float64\n",
      "dtypes: float64(1), object(1)\n",
      "memory usage: 1.6+ KB\n"
     ]
    },
    {
     "data": {
      "text/plain": [
       "None"
      ]
     },
     "metadata": {},
     "output_type": "display_data"
    },
    {
     "data": {
      "text/html": [
       "<div>\n",
       "<style scoped>\n",
       "    .dataframe tbody tr th:only-of-type {\n",
       "        vertical-align: middle;\n",
       "    }\n",
       "\n",
       "    .dataframe tbody tr th {\n",
       "        vertical-align: top;\n",
       "    }\n",
       "\n",
       "    .dataframe thead th {\n",
       "        text-align: right;\n",
       "    }\n",
       "</style>\n",
       "<table border=\"1\" class=\"dataframe\">\n",
       "  <thead>\n",
       "    <tr style=\"text-align: right;\">\n",
       "      <th></th>\n",
       "      <th>average_trips</th>\n",
       "    </tr>\n",
       "  </thead>\n",
       "  <tbody>\n",
       "    <tr>\n",
       "      <th>count</th>\n",
       "      <td>94.000000</td>\n",
       "    </tr>\n",
       "    <tr>\n",
       "      <th>mean</th>\n",
       "      <td>599.953728</td>\n",
       "    </tr>\n",
       "    <tr>\n",
       "      <th>std</th>\n",
       "      <td>1714.591098</td>\n",
       "    </tr>\n",
       "    <tr>\n",
       "      <th>min</th>\n",
       "      <td>1.800000</td>\n",
       "    </tr>\n",
       "    <tr>\n",
       "      <th>25%</th>\n",
       "      <td>14.266667</td>\n",
       "    </tr>\n",
       "    <tr>\n",
       "      <th>50%</th>\n",
       "      <td>52.016667</td>\n",
       "    </tr>\n",
       "    <tr>\n",
       "      <th>75%</th>\n",
       "      <td>298.858333</td>\n",
       "    </tr>\n",
       "    <tr>\n",
       "      <th>max</th>\n",
       "      <td>10727.466667</td>\n",
       "    </tr>\n",
       "  </tbody>\n",
       "</table>\n",
       "</div>"
      ],
      "text/plain": [
       "       average_trips\n",
       "count      94.000000\n",
       "mean      599.953728\n",
       "std      1714.591098\n",
       "min         1.800000\n",
       "25%        14.266667\n",
       "50%        52.016667\n",
       "75%       298.858333\n",
       "max     10727.466667"
      ]
     },
     "metadata": {},
     "output_type": "display_data"
    },
    {
     "data": {
      "text/html": [
       "<div>\n",
       "<style scoped>\n",
       "    .dataframe tbody tr th:only-of-type {\n",
       "        vertical-align: middle;\n",
       "    }\n",
       "\n",
       "    .dataframe tbody tr th {\n",
       "        vertical-align: top;\n",
       "    }\n",
       "\n",
       "    .dataframe thead th {\n",
       "        text-align: right;\n",
       "    }\n",
       "</style>\n",
       "<table border=\"1\" class=\"dataframe\">\n",
       "  <thead>\n",
       "    <tr style=\"text-align: right;\">\n",
       "      <th></th>\n",
       "      <th>dropoff_location_name</th>\n",
       "      <th>average_trips</th>\n",
       "    </tr>\n",
       "  </thead>\n",
       "  <tbody>\n",
       "    <tr>\n",
       "      <th>0</th>\n",
       "      <td>Loop</td>\n",
       "      <td>10727.466667</td>\n",
       "    </tr>\n",
       "    <tr>\n",
       "      <th>1</th>\n",
       "      <td>River North</td>\n",
       "      <td>9523.666667</td>\n",
       "    </tr>\n",
       "    <tr>\n",
       "      <th>2</th>\n",
       "      <td>Streeterville</td>\n",
       "      <td>6664.666667</td>\n",
       "    </tr>\n",
       "    <tr>\n",
       "      <th>3</th>\n",
       "      <td>West Loop</td>\n",
       "      <td>5163.666667</td>\n",
       "    </tr>\n",
       "    <tr>\n",
       "      <th>4</th>\n",
       "      <td>O'Hare</td>\n",
       "      <td>2546.900000</td>\n",
       "    </tr>\n",
       "  </tbody>\n",
       "</table>\n",
       "</div>"
      ],
      "text/plain": [
       "  dropoff_location_name  average_trips\n",
       "0                  Loop   10727.466667\n",
       "1           River North    9523.666667\n",
       "2         Streeterville    6664.666667\n",
       "3             West Loop    5163.666667\n",
       "4                O'Hare    2546.900000"
      ]
     },
     "metadata": {},
     "output_type": "display_data"
    }
   ],
   "source": [
    "#average_trips description:\n",
    "\n",
    "print('\\033[1m', 'average_trips', '\\033[0m')\n",
    "print('--------------------------------------')        \n",
    "display(average_trips.info())\n",
    "display(average_trips.describe())\n",
    "display(average_trips.head(5))"
   ]
  },
  {
   "cell_type": "markdown",
   "metadata": {},
   "source": [
    "average_trips table contains 94 rows and 2 columns: dropoff_location_name - string and average_trips - float."
   ]
  },
  {
   "cell_type": "markdown",
   "metadata": {},
   "source": [
    "### Conclusion"
   ]
  },
  {
   "cell_type": "markdown",
   "metadata": {},
   "source": [
    "We have 2 data files, first file contains data on dropoff locations and the average trip for each location. Second file contains data on company names and trips amount. No missing values or data type that require convertion."
   ]
  },
  {
   "cell_type": "markdown",
   "metadata": {},
   "source": [
    "## Exploratory data analysis"
   ]
  },
  {
   "cell_type": "code",
   "execution_count": 5,
   "metadata": {},
   "outputs": [
    {
     "data": {
      "text/html": [
       "<div>\n",
       "<style scoped>\n",
       "    .dataframe tbody tr th:only-of-type {\n",
       "        vertical-align: middle;\n",
       "    }\n",
       "\n",
       "    .dataframe tbody tr th {\n",
       "        vertical-align: top;\n",
       "    }\n",
       "\n",
       "    .dataframe thead th {\n",
       "        text-align: right;\n",
       "    }\n",
       "</style>\n",
       "<table border=\"1\" class=\"dataframe\">\n",
       "  <thead>\n",
       "    <tr style=\"text-align: right;\">\n",
       "      <th></th>\n",
       "      <th>dropoff_location_name</th>\n",
       "      <th>average_trips</th>\n",
       "    </tr>\n",
       "  </thead>\n",
       "  <tbody>\n",
       "    <tr>\n",
       "      <th>0</th>\n",
       "      <td>Loop</td>\n",
       "      <td>10727.466667</td>\n",
       "    </tr>\n",
       "    <tr>\n",
       "      <th>1</th>\n",
       "      <td>River North</td>\n",
       "      <td>9523.666667</td>\n",
       "    </tr>\n",
       "    <tr>\n",
       "      <th>2</th>\n",
       "      <td>Streeterville</td>\n",
       "      <td>6664.666667</td>\n",
       "    </tr>\n",
       "    <tr>\n",
       "      <th>3</th>\n",
       "      <td>West Loop</td>\n",
       "      <td>5163.666667</td>\n",
       "    </tr>\n",
       "    <tr>\n",
       "      <th>4</th>\n",
       "      <td>O'Hare</td>\n",
       "      <td>2546.900000</td>\n",
       "    </tr>\n",
       "    <tr>\n",
       "      <th>5</th>\n",
       "      <td>Lake View</td>\n",
       "      <td>2420.966667</td>\n",
       "    </tr>\n",
       "    <tr>\n",
       "      <th>6</th>\n",
       "      <td>Grant Park</td>\n",
       "      <td>2068.533333</td>\n",
       "    </tr>\n",
       "    <tr>\n",
       "      <th>7</th>\n",
       "      <td>Museum Campus</td>\n",
       "      <td>1510.000000</td>\n",
       "    </tr>\n",
       "    <tr>\n",
       "      <th>8</th>\n",
       "      <td>Gold Coast</td>\n",
       "      <td>1364.233333</td>\n",
       "    </tr>\n",
       "    <tr>\n",
       "      <th>9</th>\n",
       "      <td>Sheffield &amp; DePaul</td>\n",
       "      <td>1259.766667</td>\n",
       "    </tr>\n",
       "  </tbody>\n",
       "</table>\n",
       "</div>"
      ],
      "text/plain": [
       "  dropoff_location_name  average_trips\n",
       "0                  Loop   10727.466667\n",
       "1           River North    9523.666667\n",
       "2         Streeterville    6664.666667\n",
       "3             West Loop    5163.666667\n",
       "4                O'Hare    2546.900000\n",
       "5             Lake View    2420.966667\n",
       "6            Grant Park    2068.533333\n",
       "7         Museum Campus    1510.000000\n",
       "8            Gold Coast    1364.233333\n",
       "9    Sheffield & DePaul    1259.766667"
      ]
     },
     "execution_count": 5,
     "metadata": {},
     "output_type": "execute_result"
    }
   ],
   "source": [
    "#The top 10 neighborhoods in terms of drop-offs:\n",
    "\n",
    "average_trips.sort_values(by='average_trips', ascending=False).head(10)"
   ]
  },
  {
   "cell_type": "markdown",
   "metadata": {},
   "source": [
    "Loop is the most popular neighborhood, with total average trips of 10727.5"
   ]
  },
  {
   "cell_type": "code",
   "execution_count": 6,
   "metadata": {},
   "outputs": [
    {
     "data": {
      "image/png": "[encoded data removed]",
      "text/plain": [
       "<Figure size 1080x720 with 1 Axes>"
      ]
     },
     "metadata": {
      "needs_background": "light"
     },
     "output_type": "display_data"
    }
   ],
   "source": [
    "# look at the companies and rides:\n",
    "import seaborn as sns\n",
    "plt.figure(figsize=(15, 10))\n",
    "plt.title('Distribution of companies by rides', fontsize=16)\n",
    "sns.barplot(x='trips_amount', y='company_name', data = trips_amount)\n",
    "plt.show()"
   ]
  },
  {
   "cell_type": "code",
   "execution_count": 7,
   "metadata": {},
   "outputs": [
    {
     "data": {
      "image/png": "[encoded data removed]",
      "text/plain": [
       "<Figure size 504x432 with 1 Axes>"
      ]
     },
     "metadata": {},
     "output_type": "display_data"
    }
   ],
   "source": [
    "# Graph for top taxi companies and their share of rides:\n",
    "\n",
    "trips_amount_new = trips_amount.groupby(['company_name'])['trips_amount'].sum().reset_index().sort_values(by='trips_amount', ascending = False)\n",
    "top_companies = trips_amount_new.head(20)\n",
    "top_companies.set_index('company_name').plot(y='trips_amount', kind='pie', title = 'top 20 companies by number of rides', figsize=(7, 6), autopct='%1.1f%%', pctdistance=0.8)\n",
    "plt.legend().remove()\n",
    "pylab.ylabel('')\n",
    "plt.show();"
   ]
  },
  {
   "cell_type": "markdown",
   "metadata": {},
   "source": [
    "As there are many companies with a low number of rides, I focused on the top 20 neighborhoods. Flash Cab has the major share with 15.4%"
   ]
  },
  {
   "cell_type": "code",
   "execution_count": 8,
   "metadata": {},
   "outputs": [
    {
     "data": {
      "image/png": "[encoded data removed]",
      "text/plain": [
       "<Figure size 504x432 with 1 Axes>"
      ]
     },
     "metadata": {},
     "output_type": "display_data"
    }
   ],
   "source": [
    "# Graph for the top 10 neighborhoods by number of dropoffs:\n",
    "\n",
    "average_trips_new = average_trips.groupby(['dropoff_location_name'])['average_trips'].sum().reset_index().sort_values(by='average_trips', ascending = False)\n",
    "top_neighborhoods = average_trips_new.head(10)\n",
    "top_neighborhoods.set_index('dropoff_location_name').plot(y='average_trips', kind='pie', title = 'top 10 neighborhoods by number of dropoffs', figsize=(7, 6), autopct='%1.1f%%', pctdistance=0.8)\n",
    "plt.legend().remove()\n",
    "pylab.ylabel('')\n",
    "plt.show();"
   ]
  },
  {
   "cell_type": "markdown",
   "metadata": {},
   "source": [
    "Loop has the major share with 24.8%, River North is in the second place with 22%"
   ]
  },
  {
   "cell_type": "markdown",
   "metadata": {},
   "source": [
    "## Testing hypotheses"
   ]
  },
  {
   "cell_type": "markdown",
   "metadata": {},
   "source": [
    "### Importing data"
   ]
  },
  {
   "cell_type": "code",
   "execution_count": 11,
   "metadata": {},
   "outputs": [],
   "source": [
    "#Importing data files:\n",
    "\n",
    "file_3 = \"C:\\\\Users\\\\Shir\\\\Downloads\\\\Practicum\\\\Library\\\\project_sql_result_07.csv\"\n",
    "\n",
    "loop_to_ohare = pd.read_csv(file_3)"
   ]
  },
  {
   "cell_type": "code",
   "execution_count": 12,
   "metadata": {},
   "outputs": [
    {
     "name": "stdout",
     "output_type": "stream",
     "text": [
      "\u001b[1m loop_to_ohare \u001b[0m\n",
      "--------------------------------------\n",
      "<class 'pandas.core.frame.DataFrame'>\n",
      "RangeIndex: 1068 entries, 0 to 1067\n",
      "Data columns (total 3 columns):\n",
      " #   Column              Non-Null Count  Dtype  \n",
      "---  ------              --------------  -----  \n",
      " 0   start_ts            1068 non-null   object \n",
      " 1   weather_conditions  1068 non-null   object \n",
      " 2   duration_seconds    1068 non-null   float64\n",
      "dtypes: float64(1), object(2)\n",
      "memory usage: 25.2+ KB\n"
     ]
    },
    {
     "data": {
      "text/plain": [
       "None"
      ]
     },
     "metadata": {},
     "output_type": "display_data"
    },
    {
     "data": {
      "text/html": [
       "<div>\n",
       "<style scoped>\n",
       "    .dataframe tbody tr th:only-of-type {\n",
       "        vertical-align: middle;\n",
       "    }\n",
       "\n",
       "    .dataframe tbody tr th {\n",
       "        vertical-align: top;\n",
       "    }\n",
       "\n",
       "    .dataframe thead th {\n",
       "        text-align: right;\n",
       "    }\n",
       "</style>\n",
       "<table border=\"1\" class=\"dataframe\">\n",
       "  <thead>\n",
       "    <tr style=\"text-align: right;\">\n",
       "      <th></th>\n",
       "      <th>duration_seconds</th>\n",
       "    </tr>\n",
       "  </thead>\n",
       "  <tbody>\n",
       "    <tr>\n",
       "      <th>count</th>\n",
       "      <td>1068.000000</td>\n",
       "    </tr>\n",
       "    <tr>\n",
       "      <th>mean</th>\n",
       "      <td>2071.731273</td>\n",
       "    </tr>\n",
       "    <tr>\n",
       "      <th>std</th>\n",
       "      <td>769.461125</td>\n",
       "    </tr>\n",
       "    <tr>\n",
       "      <th>min</th>\n",
       "      <td>0.000000</td>\n",
       "    </tr>\n",
       "    <tr>\n",
       "      <th>25%</th>\n",
       "      <td>1438.250000</td>\n",
       "    </tr>\n",
       "    <tr>\n",
       "      <th>50%</th>\n",
       "      <td>1980.000000</td>\n",
       "    </tr>\n",
       "    <tr>\n",
       "      <th>75%</th>\n",
       "      <td>2580.000000</td>\n",
       "    </tr>\n",
       "    <tr>\n",
       "      <th>max</th>\n",
       "      <td>7440.000000</td>\n",
       "    </tr>\n",
       "  </tbody>\n",
       "</table>\n",
       "</div>"
      ],
      "text/plain": [
       "       duration_seconds\n",
       "count       1068.000000\n",
       "mean        2071.731273\n",
       "std          769.461125\n",
       "min            0.000000\n",
       "25%         1438.250000\n",
       "50%         1980.000000\n",
       "75%         2580.000000\n",
       "max         7440.000000"
      ]
     },
     "metadata": {},
     "output_type": "display_data"
    },
    {
     "data": {
      "text/html": [
       "<div>\n",
       "<style scoped>\n",
       "    .dataframe tbody tr th:only-of-type {\n",
       "        vertical-align: middle;\n",
       "    }\n",
       "\n",
       "    .dataframe tbody tr th {\n",
       "        vertical-align: top;\n",
       "    }\n",
       "\n",
       "    .dataframe thead th {\n",
       "        text-align: right;\n",
       "    }\n",
       "</style>\n",
       "<table border=\"1\" class=\"dataframe\">\n",
       "  <thead>\n",
       "    <tr style=\"text-align: right;\">\n",
       "      <th></th>\n",
       "      <th>start_ts</th>\n",
       "      <th>weather_conditions</th>\n",
       "      <th>duration_seconds</th>\n",
       "    </tr>\n",
       "  </thead>\n",
       "  <tbody>\n",
       "    <tr>\n",
       "      <th>0</th>\n",
       "      <td>2017-11-25 16:00:00</td>\n",
       "      <td>Good</td>\n",
       "      <td>2410.0</td>\n",
       "    </tr>\n",
       "    <tr>\n",
       "      <th>1</th>\n",
       "      <td>2017-11-25 14:00:00</td>\n",
       "      <td>Good</td>\n",
       "      <td>1920.0</td>\n",
       "    </tr>\n",
       "    <tr>\n",
       "      <th>2</th>\n",
       "      <td>2017-11-25 12:00:00</td>\n",
       "      <td>Good</td>\n",
       "      <td>1543.0</td>\n",
       "    </tr>\n",
       "    <tr>\n",
       "      <th>3</th>\n",
       "      <td>2017-11-04 10:00:00</td>\n",
       "      <td>Good</td>\n",
       "      <td>2512.0</td>\n",
       "    </tr>\n",
       "    <tr>\n",
       "      <th>4</th>\n",
       "      <td>2017-11-11 07:00:00</td>\n",
       "      <td>Good</td>\n",
       "      <td>1440.0</td>\n",
       "    </tr>\n",
       "  </tbody>\n",
       "</table>\n",
       "</div>"
      ],
      "text/plain": [
       "              start_ts weather_conditions  duration_seconds\n",
       "0  2017-11-25 16:00:00               Good            2410.0\n",
       "1  2017-11-25 14:00:00               Good            1920.0\n",
       "2  2017-11-25 12:00:00               Good            1543.0\n",
       "3  2017-11-04 10:00:00               Good            2512.0\n",
       "4  2017-11-11 07:00:00               Good            1440.0"
      ]
     },
     "metadata": {},
     "output_type": "display_data"
    }
   ],
   "source": [
    "#loop_to_ohare description:\n",
    "\n",
    "print('\\033[1m', 'loop_to_ohare', '\\033[0m')\n",
    "print('--------------------------------------')        \n",
    "display(loop_to_ohare.info())\n",
    "display(loop_to_ohare.describe())\n",
    "display(loop_to_ohare.head(5))"
   ]
  },
  {
   "cell_type": "markdown",
   "metadata": {},
   "source": [
    "Conclusion:\n",
    "loop_to_ohare table contains data on rides from the Loop neighborhood to O'Hare International Airport. It has 1068 rows and 3 columns:\n",
    "1. start_ts as a string - needs to be converted to date data type.\n",
    "2. weather_conditions (Good/Bad) as a string.\n",
    "3. duration_seconds as float - needs to be converted to int type, and has errors, rides with 0 duration."
   ]
  },
  {
   "cell_type": "markdown",
   "metadata": {},
   "source": [
    "### Data Preprocessing"
   ]
  },
  {
   "cell_type": "code",
   "execution_count": 13,
   "metadata": {},
   "outputs": [],
   "source": [
    "#Changing data types:\n",
    "loop_to_ohare['start_ts'] = pd.to_datetime(loop_to_ohare['start_ts'])\n",
    "loop_to_ohare['duration_seconds'] = loop_to_ohare.duration_seconds.astype(int)"
   ]
  },
  {
   "cell_type": "code",
   "execution_count": 14,
   "metadata": {},
   "outputs": [
    {
     "data": {
      "text/plain": [
       "0.0056179775280898875"
      ]
     },
     "execution_count": 14,
     "metadata": {},
     "output_type": "execute_result"
    }
   ],
   "source": [
    "#counting errors:\n",
    "(loop_to_ohare['duration_seconds'] == 0).sum() / len(loop_to_ohare['duration_seconds'])"
   ]
  },
  {
   "cell_type": "markdown",
   "metadata": {},
   "source": [
    "Rides with 0 duration are illogical and are a very small percent of the data, so they will be dropped."
   ]
  },
  {
   "cell_type": "code",
   "execution_count": 15,
   "metadata": {},
   "outputs": [],
   "source": [
    "#removing errors:\n",
    "loop_to_ohare = loop_to_ohare[loop_to_ohare['duration_seconds'] != 0]"
   ]
  },
  {
   "cell_type": "markdown",
   "metadata": {},
   "source": [
    "### Data Analysis"
   ]
  },
  {
   "cell_type": "markdown",
   "metadata": {},
   "source": [
    "We want to test the hypotheses on rides made on rainy saturadys only, ler's check the data:"
   ]
  },
  {
   "cell_type": "code",
   "execution_count": 16,
   "metadata": {},
   "outputs": [
    {
     "data": {
      "text/plain": [
       "5    1062\n",
       "Name: day_of_the_week, dtype: int64"
      ]
     },
     "execution_count": 16,
     "metadata": {},
     "output_type": "execute_result"
    }
   ],
   "source": [
    "#create a column for day of the week:\n",
    "loop_to_ohare['day_of_the_week'] = loop_to_ohare['start_ts'].dt.weekday\n",
    "#look at the distribution in the data:\n",
    "loop_to_ohare['day_of_the_week'].value_counts()"
   ]
  },
  {
   "cell_type": "markdown",
   "metadata": {},
   "source": [
    "The data contains only Saturadys"
   ]
  },
  {
   "cell_type": "code",
   "execution_count": 17,
   "metadata": {},
   "outputs": [],
   "source": [
    "#Group by rainy and good(no rain) days:\n",
    "loop_to_ohare_rainy = loop_to_ohare[loop_to_ohare['weather_conditions'] == 'Bad']\n",
    "loop_to_ohare_good = loop_to_ohare[loop_to_ohare['weather_conditions'] == 'Good']"
   ]
  },
  {
   "cell_type": "code",
   "execution_count": 21,
   "metadata": {},
   "outputs": [
    {
     "data": {
      "image/png": "[encoded data removed]",
      "text/plain": [
       "<Figure size 432x288 with 1 Axes>"
      ]
     },
     "metadata": {
      "needs_background": "light"
     },
     "output_type": "display_data"
    }
   ],
   "source": [
    "import warnings\n",
    "warnings.filterwarnings(\"ignore\")\n",
    "\n",
    "#Look at the duration of rides from Loop neighborhood to O'Hare International Airport\n",
    "sns.distplot(loop_to_ohare[\"duration_seconds\"], bins=list(range(100, 4000, 200)))\n",
    "plt.title(\"Rides from Loop to O'Hare International Airport\",fontsize=12)\n",
    "plt.show()"
   ]
  },
  {
   "cell_type": "code",
   "execution_count": 22,
   "metadata": {},
   "outputs": [
    {
     "data": {
      "text/plain": [
       "count    1062.000000\n",
       "mean     2083.435970\n",
       "std       755.651796\n",
       "min        60.000000\n",
       "25%      1440.000000\n",
       "50%      1980.000000\n",
       "75%      2580.000000\n",
       "max      7440.000000\n",
       "Name: duration_seconds, dtype: float64"
      ]
     },
     "execution_count": 22,
     "metadata": {},
     "output_type": "execute_result"
    }
   ],
   "source": [
    "loop_to_ohare[\"duration_seconds\"].describe()"
   ]
  },
  {
   "cell_type": "markdown",
   "metadata": {},
   "source": [
    "Right-skewed distribution where the mean(2083 seconds) is higher then the median (1980 seconds). \n"
   ]
  },
  {
   "cell_type": "markdown",
   "metadata": {},
   "source": [
    "### Formulating the hypotheses"
   ]
  },
  {
   "cell_type": "markdown",
   "metadata": {},
   "source": [
    "Formulating the H0 and H1 hypotheses.\n",
    "\n",
    "H0 = average duration of rides from the Loop to O'Hare International Airport on rainy Saturdays is the same as on non-rainy Saturadys.\n",
    "\n",
    "H1 = average duration of rides from the Loop to O'Hare International Airport on rainy Saturdays is not the same as on non-rainy Saturadys.\n",
    "\n",
    "critical statistical significance level(alpha) = 0.05"
   ]
  },
  {
   "cell_type": "code",
   "execution_count": 23,
   "metadata": {},
   "outputs": [
    {
     "data": {
      "text/html": [
       "<div>\n",
       "<style scoped>\n",
       "    .dataframe tbody tr th:only-of-type {\n",
       "        vertical-align: middle;\n",
       "    }\n",
       "\n",
       "    .dataframe tbody tr th {\n",
       "        vertical-align: top;\n",
       "    }\n",
       "\n",
       "    .dataframe thead th {\n",
       "        text-align: right;\n",
       "    }\n",
       "</style>\n",
       "<table border=\"1\" class=\"dataframe\">\n",
       "  <thead>\n",
       "    <tr style=\"text-align: right;\">\n",
       "      <th></th>\n",
       "      <th>count</th>\n",
       "      <th>mean</th>\n",
       "      <th>std</th>\n",
       "      <th>min</th>\n",
       "      <th>25%</th>\n",
       "      <th>50%</th>\n",
       "      <th>75%</th>\n",
       "      <th>max</th>\n",
       "    </tr>\n",
       "    <tr>\n",
       "      <th>weather_conditions</th>\n",
       "      <th></th>\n",
       "      <th></th>\n",
       "      <th></th>\n",
       "      <th></th>\n",
       "      <th></th>\n",
       "      <th></th>\n",
       "      <th></th>\n",
       "      <th></th>\n",
       "    </tr>\n",
       "  </thead>\n",
       "  <tbody>\n",
       "    <tr>\n",
       "      <th>Good</th>\n",
       "      <td>882.0</td>\n",
       "      <td>2013.278912</td>\n",
       "      <td>743.565217</td>\n",
       "      <td>60.0</td>\n",
       "      <td>1397.25</td>\n",
       "      <td>1800.0</td>\n",
       "      <td>2460.0</td>\n",
       "      <td>7440.0</td>\n",
       "    </tr>\n",
       "    <tr>\n",
       "      <th>Bad</th>\n",
       "      <td>180.0</td>\n",
       "      <td>2427.205556</td>\n",
       "      <td>721.314138</td>\n",
       "      <td>480.0</td>\n",
       "      <td>1962.00</td>\n",
       "      <td>2540.0</td>\n",
       "      <td>2928.0</td>\n",
       "      <td>4980.0</td>\n",
       "    </tr>\n",
       "  </tbody>\n",
       "</table>\n",
       "</div>"
      ],
      "text/plain": [
       "                    count         mean         std    min      25%     50%  \\\n",
       "weather_conditions                                                           \n",
       "Good                882.0  2013.278912  743.565217   60.0  1397.25  1800.0   \n",
       "Bad                 180.0  2427.205556  721.314138  480.0  1962.00  2540.0   \n",
       "\n",
       "                       75%     max  \n",
       "weather_conditions                  \n",
       "Good                2460.0  7440.0  \n",
       "Bad                 2928.0  4980.0  "
      ]
     },
     "execution_count": 23,
     "metadata": {},
     "output_type": "execute_result"
    }
   ],
   "source": [
    "#check the mean of both populations:\n",
    "loop_to_ohare.groupby('weather_conditions').duration_seconds.describe().loc[['Good', 'Bad']]\n"
   ]
  },
  {
   "cell_type": "code",
   "execution_count": 24,
   "metadata": {},
   "outputs": [
    {
     "data": {
      "text/plain": [
       "552889.2319951821"
      ]
     },
     "metadata": {},
     "output_type": "display_data"
    },
    {
     "data": {
      "text/plain": [
       "520294.08600248274"
      ]
     },
     "metadata": {},
     "output_type": "display_data"
    }
   ],
   "source": [
    "display(loop_to_ohare.query('weather_conditions == \"Good\"').duration_seconds.var())\n",
    "display(loop_to_ohare.query('weather_conditions == \"Bad\"').duration_seconds.var())"
   ]
  },
  {
   "cell_type": "markdown",
   "metadata": {},
   "source": [
    "We see that the mean and the variance is different, so we can't assume equal means in this case. equal_var will be set to False."
   ]
  },
  {
   "cell_type": "code",
   "execution_count": 25,
   "metadata": {},
   "outputs": [
    {
     "name": "stdout",
     "output_type": "stream",
     "text": [
      "p-value: 2.4173590471585584e-11\n",
      "We reject the null hypohesis\n"
     ]
    }
   ],
   "source": [
    "# perform a t-test\n",
    "results = st.ttest_ind(loop_to_ohare_rainy['duration_seconds'], loop_to_ohare_good['duration_seconds'], equal_var=False)\n",
    "alpha = 0.05\n",
    "print('p-value:', results.pvalue)\n",
    "\n",
    "if results.pvalue < alpha:\n",
    "    print('We reject the null hypohesis')\n",
    "else:\n",
    "    print('We fail to reject the null hypothesis')"
   ]
  },
  {
   "cell_type": "markdown",
   "metadata": {},
   "source": [
    "The p-value is not higher than the alpha, and we reject the null hypothesis, meaning that the average duration of rides from the Loop to O'Hare International Airport significantly change on rainy Saturdays."
   ]
  },
  {
   "cell_type": "markdown",
   "metadata": {},
   "source": [
    "## Conclusion"
   ]
  },
  {
   "cell_type": "markdown",
   "metadata": {},
   "source": [
    "Project's goal was to study the data on taxi rides and dropoffs from different neighborhoods ןמ Chicago on November 15-16, 2017, and draw conclusions that will help improve the current operations. For further analysis, a hepotesis on the duration of rides from the Loop neighborhood to O'Hare International Airport on rainy Saturdays was tested.\n",
    "\n",
    "The data contains information on 64 companies and 94 drop off locations from 2017. \n",
    "Data preprocessing was made by converting data types and removing errors - rides with 0 duration.\n",
    "\n",
    "Exploratory data analysis was made by cofusing on the top 10 neighborhoods in terms of drop-offs, and top 20 companies in terms of rides. Loop is the most popular neighborhood, with 10727 total average trips and rides share of 24.8%. River North is in the second place with 22% share. The most popular company is Flash Cab with 15.4% share.\n",
    "\n",
    "Data was categorized by the weather condition, where bad weather indicates rainy days.\n",
    "\n",
    "For further analysis, we focused on rides made from the Loop neighborhood to O'Hare International Airport, the average ride duration was 34 minutes.\n",
    "\n",
    "Statistical data analysis was formulated by checking the hypothesis on the equality of two population means, 0.05 used as the critical statistical significance level. The hypothesis was tested and we couldn't confirm that the average ride duration from the Loop neighborhood to O'Hare International Airport on rainy Saturdays is the same as on non-rainy days."
   ]
  }
 ],
 "metadata": {
  "ExecuteTimeLog": [
   {
    "duration": 3,
    "start_time": "2021-07-25T11:19:55.614Z"
   },
   {
    "duration": 312,
    "start_time": "2021-07-25T11:19:57.112Z"
   },
   {
    "duration": 2,
    "start_time": "2021-07-25T11:20:01.527Z"
   },
   {
    "duration": 265,
    "start_time": "2021-07-25T11:20:03.806Z"
   },
   {
    "duration": 1624,
    "start_time": "2021-07-28T12:10:07.070Z"
   },
   {
    "duration": 978,
    "start_time": "2021-07-28T12:10:31.701Z"
   },
   {
    "duration": 371,
    "start_time": "2021-07-28T12:11:01.523Z"
   },
   {
    "duration": 12,
    "start_time": "2021-07-28T12:11:21.330Z"
   },
   {
    "duration": 34,
    "start_time": "2021-07-28T14:17:00.315Z"
   },
   {
    "duration": 12,
    "start_time": "2021-07-28T14:17:29.618Z"
   },
   {
    "duration": 431,
    "start_time": "2021-07-28T14:17:37.139Z"
   },
   {
    "duration": 364,
    "start_time": "2021-07-28T14:17:43.426Z"
   },
   {
    "duration": 17,
    "start_time": "2021-07-28T14:17:48.355Z"
   },
   {
    "duration": 8,
    "start_time": "2021-07-28T14:18:03.516Z"
   },
   {
    "duration": 669,
    "start_time": "2021-07-28T14:26:41.933Z"
   },
   {
    "duration": 4,
    "start_time": "2021-07-28T14:27:04.173Z"
   },
   {
    "duration": 474,
    "start_time": "2021-07-28T14:30:46.523Z"
   },
   {
    "duration": 344,
    "start_time": "2021-07-28T14:31:00.592Z"
   },
   {
    "duration": 733,
    "start_time": "2021-07-28T14:31:09.554Z"
   },
   {
    "duration": 4,
    "start_time": "2021-07-28T14:31:15.721Z"
   },
   {
    "duration": 165,
    "start_time": "2021-07-28T14:31:16.497Z"
   },
   {
    "duration": 301,
    "start_time": "2021-07-28T14:31:25.121Z"
   },
   {
    "duration": 257,
    "start_time": "2021-07-28T14:31:51.257Z"
   },
   {
    "duration": 138,
    "start_time": "2021-07-28T14:41:22.354Z"
   },
   {
    "duration": 138,
    "start_time": "2021-07-28T14:41:58.815Z"
   },
   {
    "duration": 419,
    "start_time": "2021-07-28T14:42:34.815Z"
   },
   {
    "duration": 4,
    "start_time": "2021-07-28T14:43:35.953Z"
   },
   {
    "duration": 2898,
    "start_time": "2021-07-28T14:44:00.867Z"
   },
   {
    "duration": 3554,
    "start_time": "2021-07-28T14:45:17.813Z"
   },
   {
    "duration": 4,
    "start_time": "2021-07-28T14:45:49.236Z"
   },
   {
    "duration": 2863,
    "start_time": "2021-07-28T14:45:49.574Z"
   },
   {
    "duration": 33,
    "start_time": "2021-07-28T14:46:08.445Z"
   },
   {
    "duration": 33,
    "start_time": "2021-07-28T14:46:43.013Z"
   },
   {
    "duration": 28,
    "start_time": "2021-07-28T14:46:49.241Z"
   },
   {
    "duration": 32,
    "start_time": "2021-07-28T14:50:44.844Z"
   },
   {
    "duration": 397,
    "start_time": "2021-07-28T15:03:33.279Z"
   },
   {
    "duration": 379,
    "start_time": "2021-07-28T15:03:48.589Z"
   },
   {
    "duration": 431,
    "start_time": "2021-07-28T15:07:15.143Z"
   },
   {
    "duration": 387,
    "start_time": "2021-07-28T15:07:20.944Z"
   },
   {
    "duration": 11,
    "start_time": "2021-07-28T15:08:05.088Z"
   },
   {
    "duration": 14,
    "start_time": "2021-07-28T15:09:17.085Z"
   },
   {
    "duration": 14,
    "start_time": "2021-07-28T15:09:21.874Z"
   },
   {
    "duration": 16,
    "start_time": "2021-07-28T15:09:54.548Z"
   },
   {
    "duration": 12,
    "start_time": "2021-07-28T15:10:03.148Z"
   },
   {
    "duration": 1483,
    "start_time": "2021-07-29T07:45:58.779Z"
   },
   {
    "duration": 30,
    "start_time": "2021-07-29T07:46:00.264Z"
   },
   {
    "duration": 38,
    "start_time": "2021-07-29T07:46:00.297Z"
   },
   {
    "duration": 31,
    "start_time": "2021-07-29T07:46:00.539Z"
   },
   {
    "duration": 11,
    "start_time": "2021-07-29T07:46:02.362Z"
   },
   {
    "duration": 3,
    "start_time": "2021-07-29T07:46:02.994Z"
   },
   {
    "duration": 292,
    "start_time": "2021-07-29T07:50:05.769Z"
   },
   {
    "duration": 379,
    "start_time": "2021-07-29T07:50:18.880Z"
   },
   {
    "duration": 479,
    "start_time": "2021-07-29T07:50:50.737Z"
   },
   {
    "duration": 248,
    "start_time": "2021-07-29T07:50:56.016Z"
   },
   {
    "duration": 257,
    "start_time": "2021-07-29T07:53:19.963Z"
   },
   {
    "duration": 346,
    "start_time": "2021-07-29T07:53:23.827Z"
   },
   {
    "duration": 315,
    "start_time": "2021-07-29T07:53:34.819Z"
   },
   {
    "duration": 350,
    "start_time": "2021-07-29T07:56:05.150Z"
   },
   {
    "duration": 422,
    "start_time": "2021-07-29T07:56:11.799Z"
   },
   {
    "duration": 583,
    "start_time": "2021-07-29T07:58:06.135Z"
   },
   {
    "duration": 364,
    "start_time": "2021-07-29T07:58:13.471Z"
   },
   {
    "duration": 1010,
    "start_time": "2021-07-29T08:00:09.194Z"
   },
   {
    "duration": 625,
    "start_time": "2021-07-29T08:00:15.618Z"
   },
   {
    "duration": 350,
    "start_time": "2021-07-29T08:00:21.000Z"
   },
   {
    "duration": 451,
    "start_time": "2021-07-29T08:02:15.669Z"
   },
   {
    "duration": 358,
    "start_time": "2021-07-29T08:03:12.694Z"
   },
   {
    "duration": 353,
    "start_time": "2021-07-29T08:04:11.758Z"
   },
   {
    "duration": 357,
    "start_time": "2021-07-29T08:04:17.550Z"
   },
   {
    "duration": 713,
    "start_time": "2021-07-29T08:04:43.215Z"
   },
   {
    "duration": 349,
    "start_time": "2021-07-29T08:04:46.996Z"
   },
   {
    "duration": 683,
    "start_time": "2021-07-29T08:04:51.911Z"
   },
   {
    "duration": 444,
    "start_time": "2021-07-29T08:04:54.655Z"
   },
   {
    "duration": 678,
    "start_time": "2021-07-29T08:04:59.710Z"
   },
   {
    "duration": 332,
    "start_time": "2021-07-29T08:05:05.264Z"
   },
   {
    "duration": 369,
    "start_time": "2021-07-29T08:05:09.359Z"
   },
   {
    "duration": 543,
    "start_time": "2021-07-29T08:05:14.519Z"
   },
   {
    "duration": 357,
    "start_time": "2021-07-29T08:05:17.399Z"
   },
   {
    "duration": 319,
    "start_time": "2021-07-29T08:05:24.127Z"
   },
   {
    "duration": 313,
    "start_time": "2021-07-29T08:05:27.847Z"
   },
   {
    "duration": 324,
    "start_time": "2021-07-29T08:05:32.346Z"
   },
   {
    "duration": 327,
    "start_time": "2021-07-29T08:05:35.841Z"
   },
   {
    "duration": 331,
    "start_time": "2021-07-29T08:05:43.168Z"
   },
   {
    "duration": 782,
    "start_time": "2021-07-29T08:05:46.745Z"
   },
   {
    "duration": 770,
    "start_time": "2021-07-29T08:05:51.529Z"
   },
   {
    "duration": 676,
    "start_time": "2021-07-29T08:05:54.912Z"
   },
   {
    "duration": 317,
    "start_time": "2021-07-29T08:05:57.776Z"
   },
   {
    "duration": 332,
    "start_time": "2021-07-29T08:06:11.825Z"
   },
   {
    "duration": 333,
    "start_time": "2021-07-29T08:06:16.304Z"
   },
   {
    "duration": 330,
    "start_time": "2021-07-29T08:06:20.112Z"
   },
   {
    "duration": 92,
    "start_time": "2021-07-29T08:06:24.065Z"
   },
   {
    "duration": 108,
    "start_time": "2021-07-29T08:06:30.383Z"
   },
   {
    "duration": 318,
    "start_time": "2021-07-29T08:06:34.466Z"
   },
   {
    "duration": 695,
    "start_time": "2021-07-29T08:06:38.648Z"
   },
   {
    "duration": 694,
    "start_time": "2021-07-29T08:06:41.545Z"
   },
   {
    "duration": 680,
    "start_time": "2021-07-29T08:06:43.361Z"
   },
   {
    "duration": 405,
    "start_time": "2021-07-29T08:06:47.857Z"
   },
   {
    "duration": 361,
    "start_time": "2021-07-29T08:06:56.096Z"
   },
   {
    "duration": 370,
    "start_time": "2021-07-29T08:07:05.890Z"
   },
   {
    "duration": 853,
    "start_time": "2021-07-29T08:07:19.921Z"
   },
   {
    "duration": 695,
    "start_time": "2021-07-29T08:07:25.251Z"
   },
   {
    "duration": 331,
    "start_time": "2021-07-29T08:07:29.394Z"
   },
   {
    "duration": 337,
    "start_time": "2021-07-29T08:07:33.098Z"
   },
   {
    "duration": 326,
    "start_time": "2021-07-29T08:07:35.770Z"
   },
   {
    "duration": 331,
    "start_time": "2021-07-29T08:07:39.242Z"
   },
   {
    "duration": 88,
    "start_time": "2021-07-29T08:08:01.018Z"
   },
   {
    "duration": 85,
    "start_time": "2021-07-29T08:08:06.594Z"
   },
   {
    "duration": 427,
    "start_time": "2021-07-29T08:08:17.491Z"
   },
   {
    "duration": 348,
    "start_time": "2021-07-29T08:08:23.027Z"
   },
   {
    "duration": 784,
    "start_time": "2021-07-29T08:08:54.642Z"
   },
   {
    "duration": 583,
    "start_time": "2021-07-29T08:09:09.732Z"
   },
   {
    "duration": 793,
    "start_time": "2021-07-29T08:09:17.349Z"
   },
   {
    "duration": 345,
    "start_time": "2021-07-29T08:09:49.123Z"
   },
   {
    "duration": 357,
    "start_time": "2021-07-29T08:10:30.773Z"
   },
   {
    "duration": 367,
    "start_time": "2021-07-29T08:10:34.604Z"
   },
   {
    "duration": 363,
    "start_time": "2021-07-29T08:10:38.271Z"
   },
   {
    "duration": 699,
    "start_time": "2021-07-29T08:11:12.542Z"
   },
   {
    "duration": 330,
    "start_time": "2021-07-29T08:11:22.365Z"
   },
   {
    "duration": 441,
    "start_time": "2021-07-29T08:11:39.726Z"
   },
   {
    "duration": 352,
    "start_time": "2021-07-29T08:11:46.782Z"
   },
   {
    "duration": 326,
    "start_time": "2021-07-29T08:11:55.052Z"
   },
   {
    "duration": 326,
    "start_time": "2021-07-29T08:12:10.733Z"
   },
   {
    "duration": 351,
    "start_time": "2021-07-29T08:13:04.575Z"
   },
   {
    "duration": 346,
    "start_time": "2021-07-29T08:13:07.223Z"
   },
   {
    "duration": 373,
    "start_time": "2021-07-29T08:13:29.831Z"
   },
   {
    "duration": 362,
    "start_time": "2021-07-29T08:13:35.697Z"
   },
   {
    "duration": 360,
    "start_time": "2021-07-29T08:13:41.413Z"
   },
   {
    "duration": 709,
    "start_time": "2021-07-29T08:13:50.726Z"
   },
   {
    "duration": 723,
    "start_time": "2021-07-29T08:13:56.535Z"
   },
   {
    "duration": 362,
    "start_time": "2021-07-29T08:17:21.940Z"
   },
   {
    "duration": 627,
    "start_time": "2021-07-29T08:17:58.167Z"
   },
   {
    "duration": 1445,
    "start_time": "2021-07-29T08:18:10.865Z"
   },
   {
    "duration": 825,
    "start_time": "2021-07-29T08:18:18.384Z"
   },
   {
    "duration": 613,
    "start_time": "2021-07-29T08:18:54.313Z"
   },
   {
    "duration": 608,
    "start_time": "2021-07-29T08:19:37.625Z"
   },
   {
    "duration": 631,
    "start_time": "2021-07-29T08:19:47.042Z"
   },
   {
    "duration": 604,
    "start_time": "2021-07-29T08:20:36.004Z"
   },
   {
    "duration": 11,
    "start_time": "2021-07-29T08:20:41.611Z"
   },
   {
    "duration": 603,
    "start_time": "2021-07-29T08:20:46.858Z"
   },
   {
    "duration": 267,
    "start_time": "2021-07-29T08:20:58.244Z"
   },
   {
    "duration": 254,
    "start_time": "2021-07-29T08:24:17.229Z"
   },
   {
    "duration": 313,
    "start_time": "2021-07-29T08:24:44.935Z"
   },
   {
    "duration": 348,
    "start_time": "2021-07-29T08:24:56.872Z"
   },
   {
    "duration": 239,
    "start_time": "2021-07-29T08:25:38.799Z"
   },
   {
    "duration": 246,
    "start_time": "2021-07-29T08:26:46.170Z"
   },
   {
    "duration": 387,
    "start_time": "2021-07-29T08:27:45.906Z"
   },
   {
    "duration": 287,
    "start_time": "2021-07-29T08:27:55.608Z"
   },
   {
    "duration": 288,
    "start_time": "2021-07-29T08:29:20.015Z"
   },
   {
    "duration": 235,
    "start_time": "2021-07-29T08:29:34.076Z"
   },
   {
    "duration": 313,
    "start_time": "2021-07-29T08:30:26.892Z"
   },
   {
    "duration": 236,
    "start_time": "2021-07-29T08:30:43.245Z"
   },
   {
    "duration": 56,
    "start_time": "2021-07-29T08:45:12.518Z"
   },
   {
    "duration": 31,
    "start_time": "2021-07-29T08:45:25.900Z"
   },
   {
    "duration": 35,
    "start_time": "2021-07-29T08:45:40.320Z"
   },
   {
    "duration": 8,
    "start_time": "2021-07-29T08:54:24.199Z"
   },
   {
    "duration": 306,
    "start_time": "2021-07-29T08:54:39.330Z"
   },
   {
    "duration": 7,
    "start_time": "2021-07-29T08:56:08.804Z"
   },
   {
    "duration": 6,
    "start_time": "2021-07-29T08:56:26.626Z"
   },
   {
    "duration": 330,
    "start_time": "2021-07-29T08:57:56.549Z"
   },
   {
    "duration": 283,
    "start_time": "2021-07-29T08:58:24.324Z"
   },
   {
    "duration": 1427,
    "start_time": "2021-07-29T09:00:23.172Z"
   },
   {
    "duration": 310,
    "start_time": "2021-07-29T09:00:35.328Z"
   },
   {
    "duration": 329,
    "start_time": "2021-07-29T09:00:44.022Z"
   },
   {
    "duration": 364,
    "start_time": "2021-07-29T09:03:02.112Z"
   },
   {
    "duration": 409,
    "start_time": "2021-07-29T09:03:31.304Z"
   },
   {
    "duration": 301,
    "start_time": "2021-07-29T09:03:50.648Z"
   },
   {
    "duration": 320,
    "start_time": "2021-07-29T09:04:38.572Z"
   },
   {
    "duration": 5,
    "start_time": "2021-07-29T09:07:31.341Z"
   },
   {
    "duration": 5,
    "start_time": "2021-07-29T09:07:36.052Z"
   },
   {
    "duration": 9,
    "start_time": "2021-07-29T09:07:40.461Z"
   },
   {
    "duration": 7,
    "start_time": "2021-07-29T09:08:45.896Z"
   },
   {
    "duration": 25,
    "start_time": "2021-07-29T09:09:00.014Z"
   },
   {
    "duration": 42,
    "start_time": "2021-07-29T09:11:09.001Z"
   },
   {
    "duration": 30,
    "start_time": "2021-07-29T09:11:09.465Z"
   },
   {
    "duration": 5,
    "start_time": "2021-07-29T09:11:10.689Z"
   },
   {
    "duration": 6,
    "start_time": "2021-07-29T09:11:11.152Z"
   },
   {
    "duration": 5,
    "start_time": "2021-07-29T09:11:12.209Z"
   },
   {
    "duration": 17,
    "start_time": "2021-07-29T09:11:13.384Z"
   },
   {
    "duration": 33,
    "start_time": "2021-07-29T09:12:20.256Z"
   },
   {
    "duration": 30,
    "start_time": "2021-07-29T09:12:22.395Z"
   },
   {
    "duration": 5,
    "start_time": "2021-07-29T09:12:23.719Z"
   },
   {
    "duration": 127,
    "start_time": "2021-07-29T09:18:45.306Z"
   },
   {
    "duration": 351,
    "start_time": "2021-07-29T09:19:03.361Z"
   },
   {
    "duration": 855,
    "start_time": "2021-07-29T09:19:15.994Z"
   },
   {
    "duration": 321,
    "start_time": "2021-07-29T09:19:45.507Z"
   },
   {
    "duration": 349,
    "start_time": "2021-07-29T09:19:57.371Z"
   },
   {
    "duration": 321,
    "start_time": "2021-07-29T09:20:02.910Z"
   },
   {
    "duration": 351,
    "start_time": "2021-07-29T09:20:22.546Z"
   },
   {
    "duration": 454,
    "start_time": "2021-07-29T09:20:34.170Z"
   },
   {
    "duration": 325,
    "start_time": "2021-07-29T09:21:43.612Z"
   },
   {
    "duration": 10,
    "start_time": "2021-07-29T09:22:21.751Z"
   },
   {
    "duration": 2229,
    "start_time": "2021-07-29T09:42:47.462Z"
   },
   {
    "duration": 2241,
    "start_time": "2021-07-29T09:43:12.005Z"
   },
   {
    "duration": 2163,
    "start_time": "2021-07-29T09:44:02.107Z"
   },
   {
    "duration": 2505,
    "start_time": "2021-07-29T09:44:13.331Z"
   },
   {
    "duration": 371,
    "start_time": "2021-07-29T09:45:08.485Z"
   },
   {
    "duration": 8,
    "start_time": "2021-07-29T09:55:16.571Z"
   },
   {
    "duration": 7,
    "start_time": "2021-07-29T09:55:22.029Z"
   },
   {
    "duration": 7,
    "start_time": "2021-07-29T09:55:23.125Z"
   },
   {
    "duration": 9,
    "start_time": "2021-07-29T09:58:22.778Z"
   },
   {
    "duration": 108,
    "start_time": "2021-07-29T09:58:54.811Z"
   },
   {
    "duration": 126,
    "start_time": "2021-07-29T09:59:12.721Z"
   },
   {
    "duration": 120,
    "start_time": "2021-07-29T09:59:17.931Z"
   },
   {
    "duration": 109,
    "start_time": "2021-07-29T09:59:20.828Z"
   },
   {
    "duration": 309,
    "start_time": "2021-07-29T09:59:50.707Z"
   },
   {
    "duration": 11,
    "start_time": "2021-07-29T09:59:54.426Z"
   },
   {
    "duration": 6,
    "start_time": "2021-07-29T10:01:08.653Z"
   },
   {
    "duration": 6,
    "start_time": "2021-07-29T10:01:23.134Z"
   },
   {
    "duration": 338,
    "start_time": "2021-07-29T10:01:25.364Z"
   },
   {
    "duration": 8,
    "start_time": "2021-07-29T10:01:28.454Z"
   },
   {
    "duration": 6,
    "start_time": "2021-07-29T10:01:32.483Z"
   },
   {
    "duration": 7,
    "start_time": "2021-07-29T10:02:33.205Z"
   },
   {
    "duration": 8,
    "start_time": "2021-07-29T10:02:37.532Z"
   },
   {
    "duration": 359,
    "start_time": "2021-07-29T10:03:45.990Z"
   },
   {
    "duration": 10,
    "start_time": "2021-07-29T10:03:52.519Z"
   },
   {
    "duration": 16,
    "start_time": "2021-07-29T10:06:46.717Z"
   },
   {
    "duration": 9,
    "start_time": "2021-07-29T10:07:12.319Z"
   },
   {
    "duration": 7,
    "start_time": "2021-07-29T10:08:36.630Z"
   },
   {
    "duration": 7,
    "start_time": "2021-07-29T10:13:19.843Z"
   },
   {
    "duration": 11,
    "start_time": "2021-07-29T10:15:30.534Z"
   },
   {
    "duration": 17,
    "start_time": "2021-07-29T10:15:33.594Z"
   },
   {
    "duration": 7,
    "start_time": "2021-07-29T10:15:48.548Z"
   },
   {
    "duration": 9,
    "start_time": "2021-07-29T10:16:11.363Z"
   },
   {
    "duration": 11,
    "start_time": "2021-07-29T10:17:18.967Z"
   },
   {
    "duration": 10,
    "start_time": "2021-07-29T10:17:26.406Z"
   },
   {
    "duration": 26,
    "start_time": "2021-07-29T10:18:34.550Z"
   },
   {
    "duration": 22,
    "start_time": "2021-07-29T10:19:19.965Z"
   },
   {
    "duration": 7,
    "start_time": "2021-07-29T10:22:11.954Z"
   },
   {
    "duration": 10,
    "start_time": "2021-07-29T11:58:08.818Z"
   },
   {
    "duration": 7,
    "start_time": "2021-07-29T11:58:09.424Z"
   },
   {
    "duration": 345,
    "start_time": "2021-07-29T11:58:09.711Z"
   },
   {
    "duration": 11,
    "start_time": "2021-07-29T11:58:11.512Z"
   },
   {
    "duration": 5,
    "start_time": "2021-07-29T11:58:41.058Z"
   },
   {
    "duration": 28,
    "start_time": "2021-07-29T11:58:41.418Z"
   },
   {
    "duration": 32,
    "start_time": "2021-07-29T11:58:42.515Z"
   },
   {
    "duration": 30,
    "start_time": "2021-07-29T11:58:43.178Z"
   },
   {
    "duration": 11,
    "start_time": "2021-07-29T11:58:44.785Z"
   },
   {
    "duration": 2439,
    "start_time": "2021-07-29T11:58:45.410Z"
   },
   {
    "duration": 379,
    "start_time": "2021-07-29T11:58:47.851Z"
   },
   {
    "duration": 260,
    "start_time": "2021-07-29T11:58:48.233Z"
   },
   {
    "duration": 30,
    "start_time": "2021-07-29T11:58:48.496Z"
   },
   {
    "duration": 36,
    "start_time": "2021-07-29T11:58:48.528Z"
   },
   {
    "duration": 8,
    "start_time": "2021-07-29T11:58:48.803Z"
   },
   {
    "duration": 7,
    "start_time": "2021-07-29T11:58:49.084Z"
   },
   {
    "duration": 6,
    "start_time": "2021-07-29T11:58:49.653Z"
   },
   {
    "duration": 10,
    "start_time": "2021-07-29T11:58:50.561Z"
   },
   {
    "duration": 8,
    "start_time": "2021-07-29T11:58:51.297Z"
   },
   {
    "duration": 332,
    "start_time": "2021-07-29T11:58:51.610Z"
   },
   {
    "duration": 23,
    "start_time": "2021-07-29T11:58:51.944Z"
   },
   {
    "duration": 26,
    "start_time": "2021-07-29T11:58:53.213Z"
   },
   {
    "duration": 15,
    "start_time": "2021-07-29T11:58:53.508Z"
   },
   {
    "duration": 8,
    "start_time": "2021-07-29T11:58:54.253Z"
   },
   {
    "duration": 4,
    "start_time": "2021-07-29T12:14:18.282Z"
   },
   {
    "duration": 5,
    "start_time": "2021-07-29T12:14:27.641Z"
   },
   {
    "duration": 28,
    "start_time": "2021-07-29T12:14:28.453Z"
   },
   {
    "duration": 29,
    "start_time": "2021-07-29T12:14:30.690Z"
   },
   {
    "duration": 32,
    "start_time": "2021-07-29T12:14:31.826Z"
   },
   {
    "duration": 15,
    "start_time": "2021-07-29T12:14:35.738Z"
   },
   {
    "duration": 2375,
    "start_time": "2021-07-29T12:14:39.554Z"
   },
   {
    "duration": 430,
    "start_time": "2021-07-29T12:14:41.931Z"
   },
   {
    "duration": 257,
    "start_time": "2021-07-29T12:14:42.367Z"
   },
   {
    "duration": 25,
    "start_time": "2021-07-29T12:15:06.353Z"
   },
   {
    "duration": 32,
    "start_time": "2021-07-29T12:15:08.923Z"
   },
   {
    "duration": 7,
    "start_time": "2021-07-29T12:15:13.010Z"
   },
   {
    "duration": 7,
    "start_time": "2021-07-29T12:15:14.420Z"
   },
   {
    "duration": 7,
    "start_time": "2021-07-29T12:15:16.482Z"
   },
   {
    "duration": 10,
    "start_time": "2021-07-29T12:15:18.347Z"
   },
   {
    "duration": 10,
    "start_time": "2021-07-29T12:15:24.266Z"
   },
   {
    "duration": 327,
    "start_time": "2021-07-29T12:15:27.124Z"
   },
   {
    "duration": 11,
    "start_time": "2021-07-29T12:15:30.179Z"
   },
   {
    "duration": 28,
    "start_time": "2021-07-29T12:15:48.939Z"
   },
   {
    "duration": 15,
    "start_time": "2021-07-29T12:15:52.426Z"
   },
   {
    "duration": 7,
    "start_time": "2021-07-29T12:15:57.035Z"
   }
  ],
  "kernelspec": {
   "display_name": "Python 3",
   "language": "python",
   "name": "python3"
  },
  "language_info": {
   "codemirror_mode": {
    "name": "ipython",
    "version": 3
   },
   "file_extension": ".py",
   "mimetype": "text/x-python",
   "name": "python",
   "nbconvert_exporter": "python",
   "pygments_lexer": "ipython3",
   "version": "3.8.8"
  },
  "toc": {
   "base_numbering": 1,
   "nav_menu": {},
   "number_sections": true,
   "sideBar": true,
   "skip_h1_title": true,
   "title_cell": "Table of Contents",
   "title_sidebar": "Contents",
   "toc_cell": false,
   "toc_position": {},
   "toc_section_display": true,
   "toc_window_display": false
  }
 },
 "nbformat": 4,
 "nbformat_minor": 2
}
