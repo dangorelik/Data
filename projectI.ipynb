{
 "cells": [
  {
   "cell_type": "markdown",
   "metadata": {},
   "source": [
    "# Integrated Project"
   ]
  },
  {
   "cell_type": "markdown",
   "metadata": {},
   "source": [
    "## Introduction"
   ]
  },
  {
   "cell_type": "markdown",
   "metadata": {},
   "source": [
    "This project was made as part of the Practicum by Yandex course, to analyze video-games sales and determine what games succeed. The results will allow us to spot potential good games and plan advertising campaigns."
   ]
  },
  {
   "cell_type": "markdown",
   "metadata": {},
   "source": [
    "#### Importing libraries"
   ]
  },
  {
   "cell_type": "code",
   "execution_count": 20,
   "metadata": {},
   "outputs": [],
   "source": [
    "import pandas as pd        \n",
    "import matplotlib.pyplot as plt \n",
    "import numpy as np\n",
    "import seaborn as sns\n",
    "from scipy import stats as st"
   ]
  },
  {
   "cell_type": "code",
   "execution_count": 34,
   "metadata": {},
   "outputs": [
    {
     "name": "stdout",
     "output_type": "stream",
     "text": [
      "\u001b[1m Data \u001b[0m\n",
      "--------------------------------------\n",
      "<class 'pandas.core.frame.DataFrame'>\n",
      "RangeIndex: 16715 entries, 0 to 16714\n",
      "Data columns (total 11 columns):\n",
      " #   Column           Non-Null Count  Dtype  \n",
      "---  ------           --------------  -----  \n",
      " 0   Name             16713 non-null  object \n",
      " 1   Platform         16715 non-null  object \n",
      " 2   Year_of_Release  16446 non-null  float64\n",
      " 3   Genre            16713 non-null  object \n",
      " 4   NA_sales         16715 non-null  float64\n",
      " 5   EU_sales         16715 non-null  float64\n",
      " 6   JP_sales         16715 non-null  float64\n",
      " 7   Other_sales      16715 non-null  float64\n",
      " 8   Critic_Score     8137 non-null   float64\n",
      " 9   User_Score       10014 non-null  object \n",
      " 10  Rating           9949 non-null   object \n",
      "dtypes: float64(6), object(5)\n",
      "memory usage: 1.4+ MB\n"
     ]
    },
    {
     "data": {
      "text/plain": [
       "None"
      ]
     },
     "metadata": {},
     "output_type": "display_data"
    },
    {
     "data": {
      "text/html": [
       "<div>\n",
       "<style scoped>\n",
       "    .dataframe tbody tr th:only-of-type {\n",
       "        vertical-align: middle;\n",
       "    }\n",
       "\n",
       "    .dataframe tbody tr th {\n",
       "        vertical-align: top;\n",
       "    }\n",
       "\n",
       "    .dataframe thead th {\n",
       "        text-align: right;\n",
       "    }\n",
       "</style>\n",
       "<table border=\"1\" class=\"dataframe\">\n",
       "  <thead>\n",
       "    <tr style=\"text-align: right;\">\n",
       "      <th></th>\n",
       "      <th>Year_of_Release</th>\n",
       "      <th>NA_sales</th>\n",
       "      <th>EU_sales</th>\n",
       "      <th>JP_sales</th>\n",
       "      <th>Other_sales</th>\n",
       "      <th>Critic_Score</th>\n",
       "    </tr>\n",
       "  </thead>\n",
       "  <tbody>\n",
       "    <tr>\n",
       "      <th>count</th>\n",
       "      <td>16446.000000</td>\n",
       "      <td>16715.000000</td>\n",
       "      <td>16715.000000</td>\n",
       "      <td>16715.000000</td>\n",
       "      <td>16715.000000</td>\n",
       "      <td>8137.000000</td>\n",
       "    </tr>\n",
       "    <tr>\n",
       "      <th>mean</th>\n",
       "      <td>2006.484616</td>\n",
       "      <td>0.263377</td>\n",
       "      <td>0.145060</td>\n",
       "      <td>0.077617</td>\n",
       "      <td>0.047342</td>\n",
       "      <td>68.967679</td>\n",
       "    </tr>\n",
       "    <tr>\n",
       "      <th>std</th>\n",
       "      <td>5.877050</td>\n",
       "      <td>0.813604</td>\n",
       "      <td>0.503339</td>\n",
       "      <td>0.308853</td>\n",
       "      <td>0.186731</td>\n",
       "      <td>13.938165</td>\n",
       "    </tr>\n",
       "    <tr>\n",
       "      <th>min</th>\n",
       "      <td>1980.000000</td>\n",
       "      <td>0.000000</td>\n",
       "      <td>0.000000</td>\n",
       "      <td>0.000000</td>\n",
       "      <td>0.000000</td>\n",
       "      <td>13.000000</td>\n",
       "    </tr>\n",
       "    <tr>\n",
       "      <th>25%</th>\n",
       "      <td>2003.000000</td>\n",
       "      <td>0.000000</td>\n",
       "      <td>0.000000</td>\n",
       "      <td>0.000000</td>\n",
       "      <td>0.000000</td>\n",
       "      <td>60.000000</td>\n",
       "    </tr>\n",
       "    <tr>\n",
       "      <th>50%</th>\n",
       "      <td>2007.000000</td>\n",
       "      <td>0.080000</td>\n",
       "      <td>0.020000</td>\n",
       "      <td>0.000000</td>\n",
       "      <td>0.010000</td>\n",
       "      <td>71.000000</td>\n",
       "    </tr>\n",
       "    <tr>\n",
       "      <th>75%</th>\n",
       "      <td>2010.000000</td>\n",
       "      <td>0.240000</td>\n",
       "      <td>0.110000</td>\n",
       "      <td>0.040000</td>\n",
       "      <td>0.030000</td>\n",
       "      <td>79.000000</td>\n",
       "    </tr>\n",
       "    <tr>\n",
       "      <th>max</th>\n",
       "      <td>2016.000000</td>\n",
       "      <td>41.360000</td>\n",
       "      <td>28.960000</td>\n",
       "      <td>10.220000</td>\n",
       "      <td>10.570000</td>\n",
       "      <td>98.000000</td>\n",
       "    </tr>\n",
       "  </tbody>\n",
       "</table>\n",
       "</div>"
      ],
      "text/plain": [
       "       Year_of_Release      NA_sales      EU_sales      JP_sales  \\\n",
       "count     16446.000000  16715.000000  16715.000000  16715.000000   \n",
       "mean       2006.484616      0.263377      0.145060      0.077617   \n",
       "std           5.877050      0.813604      0.503339      0.308853   \n",
       "min        1980.000000      0.000000      0.000000      0.000000   \n",
       "25%        2003.000000      0.000000      0.000000      0.000000   \n",
       "50%        2007.000000      0.080000      0.020000      0.000000   \n",
       "75%        2010.000000      0.240000      0.110000      0.040000   \n",
       "max        2016.000000     41.360000     28.960000     10.220000   \n",
       "\n",
       "        Other_sales  Critic_Score  \n",
       "count  16715.000000   8137.000000  \n",
       "mean       0.047342     68.967679  \n",
       "std        0.186731     13.938165  \n",
       "min        0.000000     13.000000  \n",
       "25%        0.000000     60.000000  \n",
       "50%        0.010000     71.000000  \n",
       "75%        0.030000     79.000000  \n",
       "max       10.570000     98.000000  "
      ]
     },
     "metadata": {},
     "output_type": "display_data"
    },
    {
     "data": {
      "text/html": [
       "<div>\n",
       "<style scoped>\n",
       "    .dataframe tbody tr th:only-of-type {\n",
       "        vertical-align: middle;\n",
       "    }\n",
       "\n",
       "    .dataframe tbody tr th {\n",
       "        vertical-align: top;\n",
       "    }\n",
       "\n",
       "    .dataframe thead th {\n",
       "        text-align: right;\n",
       "    }\n",
       "</style>\n",
       "<table border=\"1\" class=\"dataframe\">\n",
       "  <thead>\n",
       "    <tr style=\"text-align: right;\">\n",
       "      <th></th>\n",
       "      <th>Name</th>\n",
       "      <th>Platform</th>\n",
       "      <th>Year_of_Release</th>\n",
       "      <th>Genre</th>\n",
       "      <th>NA_sales</th>\n",
       "      <th>EU_sales</th>\n",
       "      <th>JP_sales</th>\n",
       "      <th>Other_sales</th>\n",
       "      <th>Critic_Score</th>\n",
       "      <th>User_Score</th>\n",
       "      <th>Rating</th>\n",
       "    </tr>\n",
       "  </thead>\n",
       "  <tbody>\n",
       "    <tr>\n",
       "      <th>0</th>\n",
       "      <td>Wii Sports</td>\n",
       "      <td>Wii</td>\n",
       "      <td>2006.0</td>\n",
       "      <td>Sports</td>\n",
       "      <td>41.36</td>\n",
       "      <td>28.96</td>\n",
       "      <td>3.77</td>\n",
       "      <td>8.45</td>\n",
       "      <td>76.0</td>\n",
       "      <td>8</td>\n",
       "      <td>E</td>\n",
       "    </tr>\n",
       "    <tr>\n",
       "      <th>1</th>\n",
       "      <td>Super Mario Bros.</td>\n",
       "      <td>NES</td>\n",
       "      <td>1985.0</td>\n",
       "      <td>Platform</td>\n",
       "      <td>29.08</td>\n",
       "      <td>3.58</td>\n",
       "      <td>6.81</td>\n",
       "      <td>0.77</td>\n",
       "      <td>NaN</td>\n",
       "      <td>NaN</td>\n",
       "      <td>NaN</td>\n",
       "    </tr>\n",
       "    <tr>\n",
       "      <th>2</th>\n",
       "      <td>Mario Kart Wii</td>\n",
       "      <td>Wii</td>\n",
       "      <td>2008.0</td>\n",
       "      <td>Racing</td>\n",
       "      <td>15.68</td>\n",
       "      <td>12.76</td>\n",
       "      <td>3.79</td>\n",
       "      <td>3.29</td>\n",
       "      <td>82.0</td>\n",
       "      <td>8.3</td>\n",
       "      <td>E</td>\n",
       "    </tr>\n",
       "    <tr>\n",
       "      <th>3</th>\n",
       "      <td>Wii Sports Resort</td>\n",
       "      <td>Wii</td>\n",
       "      <td>2009.0</td>\n",
       "      <td>Sports</td>\n",
       "      <td>15.61</td>\n",
       "      <td>10.93</td>\n",
       "      <td>3.28</td>\n",
       "      <td>2.95</td>\n",
       "      <td>80.0</td>\n",
       "      <td>8</td>\n",
       "      <td>E</td>\n",
       "    </tr>\n",
       "    <tr>\n",
       "      <th>4</th>\n",
       "      <td>Pokemon Red/Pokemon Blue</td>\n",
       "      <td>GB</td>\n",
       "      <td>1996.0</td>\n",
       "      <td>Role-Playing</td>\n",
       "      <td>11.27</td>\n",
       "      <td>8.89</td>\n",
       "      <td>10.22</td>\n",
       "      <td>1.00</td>\n",
       "      <td>NaN</td>\n",
       "      <td>NaN</td>\n",
       "      <td>NaN</td>\n",
       "    </tr>\n",
       "  </tbody>\n",
       "</table>\n",
       "</div>"
      ],
      "text/plain": [
       "                       Name Platform  Year_of_Release         Genre  NA_sales  \\\n",
       "0                Wii Sports      Wii           2006.0        Sports     41.36   \n",
       "1         Super Mario Bros.      NES           1985.0      Platform     29.08   \n",
       "2            Mario Kart Wii      Wii           2008.0        Racing     15.68   \n",
       "3         Wii Sports Resort      Wii           2009.0        Sports     15.61   \n",
       "4  Pokemon Red/Pokemon Blue       GB           1996.0  Role-Playing     11.27   \n",
       "\n",
       "   EU_sales  JP_sales  Other_sales  Critic_Score User_Score Rating  \n",
       "0     28.96      3.77         8.45          76.0          8      E  \n",
       "1      3.58      6.81         0.77           NaN        NaN    NaN  \n",
       "2     12.76      3.79         3.29          82.0        8.3      E  \n",
       "3     10.93      3.28         2.95          80.0          8      E  \n",
       "4      8.89     10.22         1.00           NaN        NaN    NaN  "
      ]
     },
     "metadata": {},
     "output_type": "display_data"
    }
   ],
   "source": [
    "#Exploring the data file and general information.\n",
    "\n",
    "try:\n",
    "    data = pd.read_csv(\"C:\\\\Users\\\\Shir\\\\Downloads\\\\Practicum\\\\Library\\\\games.csv\")\n",
    "except:\n",
    "     print(\"An error occurred\")\n",
    "        \n",
    "print('\\033[1m', 'Data', '\\033[0m')\n",
    "print('--------------------------------------')        \n",
    "display(data.info())\n",
    "display(data.describe())\n",
    "display(data.head(5))"
   ]
  },
  {
   "cell_type": "markdown",
   "metadata": {},
   "source": [
    "Conclusion: \n",
    "\n",
    "11 columns,16715 rows\n",
    "\n",
    "#Columns needs to be renamed to lowercases.\n",
    "1. Name - string, contains data on 11559 unique names, 2 missing values.\n",
    "2. Platform - string, 31 uniqe platforms, where PS2 and DS are the most popular.\n",
    "3. Year_of_Release - between 1980 and 2006, 269 missing values, type needs to be converted to a numeric scale.\n",
    "4. Genre - string, 12 unique genres, Action is the most common Genre, 2 missing values.\n",
    "5. NA_sales - sales in North America in millions(USD), no missing values, but many games has 0 sales.\n",
    "6. EU_sales - sales in Europe in millions(USD), no missing values, but many games has 0 sales.\n",
    "7. JP_sales - sales in Japan in millions(USD), no missing values, but many games has 0 sales.\n",
    "8. Other_sales - sales in other countries in millions(USD), no missing values, but many games has 0 sales.\n",
    "9. Critic_Score - 8578 missing values, needs to be converted to a numeric scale.\n",
    "10. User_Score - 6701 missing values, most common value is tbd, which isn't a score. needs to be converted to numerical sacle.\n",
    "11. Rating - string, 8 unique ratings, 4 main ratings, 6766 missing values."
   ]
  },
  {
   "cell_type": "markdown",
   "metadata": {},
   "source": [
    "# Data preprocessing"
   ]
  },
  {
   "cell_type": "code",
   "execution_count": 35,
   "metadata": {},
   "outputs": [
    {
     "name": "stdout",
     "output_type": "stream",
     "text": [
      "<class 'pandas.core.frame.DataFrame'>\n",
      "RangeIndex: 16715 entries, 0 to 16714\n",
      "Data columns (total 11 columns):\n",
      " #   Column           Non-Null Count  Dtype  \n",
      "---  ------           --------------  -----  \n",
      " 0   name             16713 non-null  object \n",
      " 1   platform         16715 non-null  object \n",
      " 2   year_of_release  16446 non-null  float64\n",
      " 3   genre            16713 non-null  object \n",
      " 4   na_sales         16715 non-null  float64\n",
      " 5   eu_sales         16715 non-null  float64\n",
      " 6   jp_sales         16715 non-null  float64\n",
      " 7   other_sales      16715 non-null  float64\n",
      " 8   critic_score     8137 non-null   float64\n",
      " 9   user_score       10014 non-null  object \n",
      " 10  rating           9949 non-null   object \n",
      "dtypes: float64(6), object(5)\n",
      "memory usage: 1.4+ MB\n"
     ]
    },
    {
     "data": {
      "text/plain": [
       "None"
      ]
     },
     "metadata": {},
     "output_type": "display_data"
    }
   ],
   "source": [
    "#converting column headers to lower cases:\n",
    "data = data.rename(columns=str.lower)\n",
    "display(data.info())"
   ]
  },
  {
   "cell_type": "markdown",
   "metadata": {},
   "source": [
    "#### dealing with missing values and errors:"
   ]
  },
  {
   "cell_type": "code",
   "execution_count": 36,
   "metadata": {},
   "outputs": [
    {
     "name": "stdout",
     "output_type": "stream",
     "text": [
      "<class 'pandas.core.frame.DataFrame'>\n",
      "Int64Index: 16713 entries, 0 to 16714\n",
      "Data columns (total 11 columns):\n",
      " #   Column           Non-Null Count  Dtype  \n",
      "---  ------           --------------  -----  \n",
      " 0   name             16713 non-null  object \n",
      " 1   platform         16713 non-null  object \n",
      " 2   year_of_release  16444 non-null  float64\n",
      " 3   genre            16713 non-null  object \n",
      " 4   na_sales         16713 non-null  float64\n",
      " 5   eu_sales         16713 non-null  float64\n",
      " 6   jp_sales         16713 non-null  float64\n",
      " 7   other_sales      16713 non-null  float64\n",
      " 8   critic_score     8137 non-null   float64\n",
      " 9   user_score       10014 non-null  object \n",
      " 10  rating           9949 non-null   object \n",
      "dtypes: float64(6), object(5)\n",
      "memory usage: 1.5+ MB\n"
     ]
    },
    {
     "data": {
      "text/plain": [
       "None"
      ]
     },
     "metadata": {},
     "output_type": "display_data"
    }
   ],
   "source": [
    "data = data.dropna(subset=['name'])\n",
    "display(data.info())"
   ]
  },
  {
   "cell_type": "markdown",
   "metadata": {},
   "source": [
    "Missing values in the name column will be dropped, as we can't guess the name of the game, and it's only 2 values out of 16715, so it's insignifcant."
   ]
  },
  {
   "cell_type": "code",
   "execution_count": 37,
   "metadata": {},
   "outputs": [],
   "source": [
    "#Filling missing values in the year_of_release column and changing the type:\n",
    "data['year_of_release'] = data['year_of_release'].fillna(round(data.groupby(['name'])['year_of_release'].transform('median'),0))\n",
    "data = data.dropna(subset=['year_of_release'])"
   ]
  },
  {
   "cell_type": "markdown",
   "metadata": {},
   "source": [
    "There are only 269 missing values in the year_of_release column, but as the important information is the sales amount, we want to keep as many games, so they will be filled by the year of release of other games with the same name. After replacing the missing values, we are left with only 146 values, and they will be dropped."
   ]
  },
  {
   "cell_type": "code",
   "execution_count": 38,
   "metadata": {},
   "outputs": [
    {
     "name": "stdout",
     "output_type": "stream",
     "text": [
      "<class 'pandas.core.frame.DataFrame'>\n",
      "Int64Index: 16567 entries, 0 to 16714\n",
      "Data columns (total 11 columns):\n",
      " #   Column           Non-Null Count  Dtype  \n",
      "---  ------           --------------  -----  \n",
      " 0   name             16567 non-null  object \n",
      " 1   platform         16567 non-null  object \n",
      " 2   year_of_release  16567 non-null  float64\n",
      " 3   genre            16567 non-null  object \n",
      " 4   na_sales         16567 non-null  float64\n",
      " 5   eu_sales         16567 non-null  float64\n",
      " 6   jp_sales         16567 non-null  float64\n",
      " 7   other_sales      16567 non-null  float64\n",
      " 8   critic_score     16567 non-null  int32  \n",
      " 9   user_score       9934 non-null   object \n",
      " 10  rating           9868 non-null   object \n",
      "dtypes: float64(5), int32(1), object(5)\n",
      "memory usage: 1.5+ MB\n"
     ]
    },
    {
     "data": {
      "text/plain": [
       "None"
      ]
     },
     "metadata": {},
     "output_type": "display_data"
    }
   ],
   "source": [
    "#Filling missing values in the critic_score column by it's games mean:\n",
    "data['critic_score'] = data['critic_score'].fillna(round(data.groupby(['name'])['critic_score'].transform('median'),0))\n",
    "#Missing values left will be filled with the median, and changing the type:\n",
    "data['critic_score'] = data['critic_score'].fillna(value= data['critic_score'].median()).astype(int)\n",
    "display(data.info())"
   ]
  },
  {
   "cell_type": "markdown",
   "metadata": {},
   "source": [
    "Missing values in the critic_score column can't be dropped as they are more than 50% of our data, instead they are replaced with the median value."
   ]
  },
  {
   "cell_type": "code",
   "execution_count": 39,
   "metadata": {},
   "outputs": [
    {
     "data": {
      "text/html": [
       "<div>\n",
       "<style scoped>\n",
       "    .dataframe tbody tr th:only-of-type {\n",
       "        vertical-align: middle;\n",
       "    }\n",
       "\n",
       "    .dataframe tbody tr th {\n",
       "        vertical-align: top;\n",
       "    }\n",
       "\n",
       "    .dataframe thead th {\n",
       "        text-align: right;\n",
       "    }\n",
       "</style>\n",
       "<table border=\"1\" class=\"dataframe\">\n",
       "  <thead>\n",
       "    <tr style=\"text-align: right;\">\n",
       "      <th></th>\n",
       "      <th>name</th>\n",
       "      <th>platform</th>\n",
       "      <th>year_of_release</th>\n",
       "      <th>genre</th>\n",
       "      <th>na_sales</th>\n",
       "      <th>eu_sales</th>\n",
       "      <th>jp_sales</th>\n",
       "      <th>other_sales</th>\n",
       "      <th>critic_score</th>\n",
       "      <th>user_score</th>\n",
       "      <th>rating</th>\n",
       "    </tr>\n",
       "  </thead>\n",
       "  <tbody>\n",
       "    <tr>\n",
       "      <th>0</th>\n",
       "      <td>Wii Sports</td>\n",
       "      <td>Wii</td>\n",
       "      <td>2006.0</td>\n",
       "      <td>Sports</td>\n",
       "      <td>41.36</td>\n",
       "      <td>28.96</td>\n",
       "      <td>3.77</td>\n",
       "      <td>8.45</td>\n",
       "      <td>76</td>\n",
       "      <td>80.0</td>\n",
       "      <td>E</td>\n",
       "    </tr>\n",
       "    <tr>\n",
       "      <th>1</th>\n",
       "      <td>Super Mario Bros.</td>\n",
       "      <td>NES</td>\n",
       "      <td>1985.0</td>\n",
       "      <td>Platform</td>\n",
       "      <td>29.08</td>\n",
       "      <td>3.58</td>\n",
       "      <td>6.81</td>\n",
       "      <td>0.77</td>\n",
       "      <td>71</td>\n",
       "      <td>75.0</td>\n",
       "      <td>NaN</td>\n",
       "    </tr>\n",
       "    <tr>\n",
       "      <th>2</th>\n",
       "      <td>Mario Kart Wii</td>\n",
       "      <td>Wii</td>\n",
       "      <td>2008.0</td>\n",
       "      <td>Racing</td>\n",
       "      <td>15.68</td>\n",
       "      <td>12.76</td>\n",
       "      <td>3.79</td>\n",
       "      <td>3.29</td>\n",
       "      <td>82</td>\n",
       "      <td>83.0</td>\n",
       "      <td>E</td>\n",
       "    </tr>\n",
       "    <tr>\n",
       "      <th>3</th>\n",
       "      <td>Wii Sports Resort</td>\n",
       "      <td>Wii</td>\n",
       "      <td>2009.0</td>\n",
       "      <td>Sports</td>\n",
       "      <td>15.61</td>\n",
       "      <td>10.93</td>\n",
       "      <td>3.28</td>\n",
       "      <td>2.95</td>\n",
       "      <td>80</td>\n",
       "      <td>80.0</td>\n",
       "      <td>E</td>\n",
       "    </tr>\n",
       "    <tr>\n",
       "      <th>4</th>\n",
       "      <td>Pokemon Red/Pokemon Blue</td>\n",
       "      <td>GB</td>\n",
       "      <td>1996.0</td>\n",
       "      <td>Role-Playing</td>\n",
       "      <td>11.27</td>\n",
       "      <td>8.89</td>\n",
       "      <td>10.22</td>\n",
       "      <td>1.00</td>\n",
       "      <td>71</td>\n",
       "      <td>75.0</td>\n",
       "      <td>NaN</td>\n",
       "    </tr>\n",
       "  </tbody>\n",
       "</table>\n",
       "</div>"
      ],
      "text/plain": [
       "                       name platform  year_of_release         genre  na_sales  \\\n",
       "0                Wii Sports      Wii           2006.0        Sports     41.36   \n",
       "1         Super Mario Bros.      NES           1985.0      Platform     29.08   \n",
       "2            Mario Kart Wii      Wii           2008.0        Racing     15.68   \n",
       "3         Wii Sports Resort      Wii           2009.0        Sports     15.61   \n",
       "4  Pokemon Red/Pokemon Blue       GB           1996.0  Role-Playing     11.27   \n",
       "\n",
       "   eu_sales  jp_sales  other_sales  critic_score  user_score rating  \n",
       "0     28.96      3.77         8.45            76        80.0      E  \n",
       "1      3.58      6.81         0.77            71        75.0    NaN  \n",
       "2     12.76      3.79         3.29            82        83.0      E  \n",
       "3     10.93      3.28         2.95            80        80.0      E  \n",
       "4      8.89     10.22         1.00            71        75.0    NaN  "
      ]
     },
     "metadata": {},
     "output_type": "display_data"
    }
   ],
   "source": [
    "#Filling missing values with 0 for now:\n",
    "data['user_score'] = data['user_score'].fillna('0')\n",
    "\n",
    "#Converting the user score 'tbd' to 0:\n",
    "data[\"user_score\"].replace({\"tbd\": '0'}, inplace=True)\n",
    "\n",
    "#Converting the user score to float:\n",
    "data['user_score'] = data.user_score.astype(float)\n",
    "\n",
    "#Converting the user score to the same scale of the critics score(maximun of 100), by multiplaing it by 10:\n",
    "data['user_score'] = data['user_score']*10\n",
    "\n",
    "#Converting the user score to int:\n",
    "data['user_score'] = data.user_score.astype(int)\n",
    "\n",
    "data[data['user_score'] != 0].median()\n",
    "\n",
    "\n",
    "#0 values will be filled with the median:\n",
    "data[\"user_score\"] = data[\"user_score\"].mask(data[\"user_score\"] == 0).fillna(data['user_score'][data['user_score'] != 0].median())\n",
    "\n",
    "display(data.head(5))\n"
   ]
  },
  {
   "cell_type": "markdown",
   "metadata": {},
   "source": [
    "user_score was converted to the same scale as the critic_score, for a more convenient analysis. Missing values were also replaced with the median values."
   ]
  },
  {
   "cell_type": "code",
   "execution_count": 40,
   "metadata": {},
   "outputs": [],
   "source": [
    "data['rating'] = data['rating'].fillna(value= 'Unkown')"
   ]
  },
  {
   "cell_type": "markdown",
   "metadata": {},
   "source": [
    "Missing values in the rating column can't be dropped as they are a big percent of our data, they will be replaced by the string 'Unkown'."
   ]
  },
  {
   "cell_type": "code",
   "execution_count": 41,
   "metadata": {},
   "outputs": [],
   "source": [
    "#adding a new column to represent the total sales:\n",
    "data['total_sales'] = data['na_sales']+data['eu_sales']+data['jp_sales']+data['other_sales']\n",
    "\n",
    "#adding a new column to represent the average score of both users and critics sales:\n",
    "data['avg_score'] = (data['critic_score']+data['user_score'])/2\n",
    "data['avg_score'] = data['avg_score'].astype(int)\n"
   ]
  },
  {
   "cell_type": "markdown",
   "metadata": {},
   "source": [
    "#### Conclusion:"
   ]
  },
  {
   "cell_type": "code",
   "execution_count": 42,
   "metadata": {},
   "outputs": [
    {
     "name": "stdout",
     "output_type": "stream",
     "text": [
      "<class 'pandas.core.frame.DataFrame'>\n",
      "Int64Index: 16567 entries, 0 to 16714\n",
      "Data columns (total 13 columns):\n",
      " #   Column           Non-Null Count  Dtype  \n",
      "---  ------           --------------  -----  \n",
      " 0   name             16567 non-null  object \n",
      " 1   platform         16567 non-null  object \n",
      " 2   year_of_release  16567 non-null  float64\n",
      " 3   genre            16567 non-null  object \n",
      " 4   na_sales         16567 non-null  float64\n",
      " 5   eu_sales         16567 non-null  float64\n",
      " 6   jp_sales         16567 non-null  float64\n",
      " 7   other_sales      16567 non-null  float64\n",
      " 8   critic_score     16567 non-null  int32  \n",
      " 9   user_score       16567 non-null  float64\n",
      " 10  rating           16567 non-null  object \n",
      " 11  total_sales      16567 non-null  float64\n",
      " 12  avg_score        16567 non-null  int32  \n",
      "dtypes: float64(7), int32(2), object(4)\n",
      "memory usage: 1.6+ MB\n"
     ]
    },
    {
     "data": {
      "text/plain": [
       "None"
      ]
     },
     "metadata": {},
     "output_type": "display_data"
    },
    {
     "data": {
      "text/html": [
       "<div>\n",
       "<style scoped>\n",
       "    .dataframe tbody tr th:only-of-type {\n",
       "        vertical-align: middle;\n",
       "    }\n",
       "\n",
       "    .dataframe tbody tr th {\n",
       "        vertical-align: top;\n",
       "    }\n",
       "\n",
       "    .dataframe thead th {\n",
       "        text-align: right;\n",
       "    }\n",
       "</style>\n",
       "<table border=\"1\" class=\"dataframe\">\n",
       "  <thead>\n",
       "    <tr style=\"text-align: right;\">\n",
       "      <th></th>\n",
       "      <th>year_of_release</th>\n",
       "      <th>na_sales</th>\n",
       "      <th>eu_sales</th>\n",
       "      <th>jp_sales</th>\n",
       "      <th>other_sales</th>\n",
       "      <th>critic_score</th>\n",
       "      <th>user_score</th>\n",
       "      <th>total_sales</th>\n",
       "      <th>avg_score</th>\n",
       "    </tr>\n",
       "  </thead>\n",
       "  <tbody>\n",
       "    <tr>\n",
       "      <th>count</th>\n",
       "      <td>16567.000000</td>\n",
       "      <td>16567.000000</td>\n",
       "      <td>16567.000000</td>\n",
       "      <td>16567.000000</td>\n",
       "      <td>16567.000000</td>\n",
       "      <td>16567.000000</td>\n",
       "      <td>16567.000000</td>\n",
       "      <td>16567.000000</td>\n",
       "      <td>16567.000000</td>\n",
       "    </tr>\n",
       "    <tr>\n",
       "      <th>mean</th>\n",
       "      <td>2006.490433</td>\n",
       "      <td>0.263975</td>\n",
       "      <td>0.145814</td>\n",
       "      <td>0.078020</td>\n",
       "      <td>0.047567</td>\n",
       "      <td>69.803706</td>\n",
       "      <td>73.297942</td>\n",
       "      <td>0.535376</td>\n",
       "      <td>71.405867</td>\n",
       "    </tr>\n",
       "    <tr>\n",
       "      <th>std</th>\n",
       "      <td>5.862690</td>\n",
       "      <td>0.816474</td>\n",
       "      <td>0.505364</td>\n",
       "      <td>0.310068</td>\n",
       "      <td>0.187476</td>\n",
       "      <td>10.478771</td>\n",
       "      <td>10.262536</td>\n",
       "      <td>1.554281</td>\n",
       "      <td>8.859021</td>\n",
       "    </tr>\n",
       "    <tr>\n",
       "      <th>min</th>\n",
       "      <td>1980.000000</td>\n",
       "      <td>0.000000</td>\n",
       "      <td>0.000000</td>\n",
       "      <td>0.000000</td>\n",
       "      <td>0.000000</td>\n",
       "      <td>13.000000</td>\n",
       "      <td>2.000000</td>\n",
       "      <td>0.000000</td>\n",
       "      <td>11.000000</td>\n",
       "    </tr>\n",
       "    <tr>\n",
       "      <th>25%</th>\n",
       "      <td>2003.000000</td>\n",
       "      <td>0.000000</td>\n",
       "      <td>0.000000</td>\n",
       "      <td>0.000000</td>\n",
       "      <td>0.000000</td>\n",
       "      <td>69.000000</td>\n",
       "      <td>75.000000</td>\n",
       "      <td>0.060000</td>\n",
       "      <td>70.000000</td>\n",
       "    </tr>\n",
       "    <tr>\n",
       "      <th>50%</th>\n",
       "      <td>2007.000000</td>\n",
       "      <td>0.080000</td>\n",
       "      <td>0.020000</td>\n",
       "      <td>0.000000</td>\n",
       "      <td>0.010000</td>\n",
       "      <td>71.000000</td>\n",
       "      <td>75.000000</td>\n",
       "      <td>0.170000</td>\n",
       "      <td>73.000000</td>\n",
       "    </tr>\n",
       "    <tr>\n",
       "      <th>75%</th>\n",
       "      <td>2010.000000</td>\n",
       "      <td>0.240000</td>\n",
       "      <td>0.110000</td>\n",
       "      <td>0.040000</td>\n",
       "      <td>0.030000</td>\n",
       "      <td>72.000000</td>\n",
       "      <td>75.000000</td>\n",
       "      <td>0.470000</td>\n",
       "      <td>73.000000</td>\n",
       "    </tr>\n",
       "    <tr>\n",
       "      <th>max</th>\n",
       "      <td>2016.000000</td>\n",
       "      <td>41.360000</td>\n",
       "      <td>28.960000</td>\n",
       "      <td>10.220000</td>\n",
       "      <td>10.570000</td>\n",
       "      <td>98.000000</td>\n",
       "      <td>97.000000</td>\n",
       "      <td>82.540000</td>\n",
       "      <td>95.000000</td>\n",
       "    </tr>\n",
       "  </tbody>\n",
       "</table>\n",
       "</div>"
      ],
      "text/plain": [
       "       year_of_release      na_sales      eu_sales      jp_sales  \\\n",
       "count     16567.000000  16567.000000  16567.000000  16567.000000   \n",
       "mean       2006.490433      0.263975      0.145814      0.078020   \n",
       "std           5.862690      0.816474      0.505364      0.310068   \n",
       "min        1980.000000      0.000000      0.000000      0.000000   \n",
       "25%        2003.000000      0.000000      0.000000      0.000000   \n",
       "50%        2007.000000      0.080000      0.020000      0.000000   \n",
       "75%        2010.000000      0.240000      0.110000      0.040000   \n",
       "max        2016.000000     41.360000     28.960000     10.220000   \n",
       "\n",
       "        other_sales  critic_score    user_score   total_sales     avg_score  \n",
       "count  16567.000000  16567.000000  16567.000000  16567.000000  16567.000000  \n",
       "mean       0.047567     69.803706     73.297942      0.535376     71.405867  \n",
       "std        0.187476     10.478771     10.262536      1.554281      8.859021  \n",
       "min        0.000000     13.000000      2.000000      0.000000     11.000000  \n",
       "25%        0.000000     69.000000     75.000000      0.060000     70.000000  \n",
       "50%        0.010000     71.000000     75.000000      0.170000     73.000000  \n",
       "75%        0.030000     72.000000     75.000000      0.470000     73.000000  \n",
       "max       10.570000     98.000000     97.000000     82.540000     95.000000  "
      ]
     },
     "metadata": {},
     "output_type": "display_data"
    }
   ],
   "source": [
    "display(data.info())\n",
    "display(data.describe())"
   ]
  },
  {
   "cell_type": "markdown",
   "metadata": {},
   "source": [
    "We are left with 16567 rows, no missing values.\n",
    "\n",
    "Main actions that were made: \n",
    "\n",
    "1. Columns names were converted to lowercase.\n",
    "2. Missing values(2) in the name column were dropped.\n",
    "3. Missing values(146) in the year_of_release column were dropped.\n",
    "4. Missing values in the critic_score column were replaced by the median.\n",
    "5. user_score column was converted to the same scale as the critic_score, missing values were replaced by the median.\n",
    "6. Missing values in the rating column were replaced by the string 'Unkown'.\n",
    "7. A new column was added, representing the total sales."
   ]
  },
  {
   "cell_type": "markdown",
   "metadata": {},
   "source": [
    "# Analyzing the data"
   ]
  },
  {
   "cell_type": "code",
   "execution_count": 43,
   "metadata": {},
   "outputs": [
    {
     "data": {
      "text/plain": [
       "Text(0, 0.5, 'Number of Games')"
      ]
     },
     "execution_count": 43,
     "metadata": {},
     "output_type": "execute_result"
    },
    {
     "data": {
      "image/png": "[encoded data removed]",
      "text/plain": [
       "<Figure size 432x288 with 1 Axes>"
      ]
     },
     "metadata": {
      "needs_background": "light"
     },
     "output_type": "display_data"
    }
   ],
   "source": [
    "#Look at how many games were released in different years\n",
    "data['year_of_release'].hist()\n",
    "plt.title('Year Of Release',fontsize=15)\n",
    "plt.ylabel(\"Number of Games\")"
   ]
  },
  {
   "cell_type": "code",
   "execution_count": 44,
   "metadata": {},
   "outputs": [
    {
     "data": {
      "text/plain": [
       "count    16567.000000\n",
       "mean      2006.490433\n",
       "std          5.862690\n",
       "min       1980.000000\n",
       "25%       2003.000000\n",
       "50%       2007.000000\n",
       "75%       2010.000000\n",
       "max       2016.000000\n",
       "Name: year_of_release, dtype: float64"
      ]
     },
     "metadata": {},
     "output_type": "display_data"
    }
   ],
   "source": [
    "#Check mean, std\n",
    "display(data['year_of_release'].describe())"
   ]
  },
  {
   "cell_type": "markdown",
   "metadata": {},
   "source": [
    "Wee see that most of the games in our data are pretty much new, and were released in the last 10 years, this is a left-skewed distribution. The mean is 2006 and the median is 2007, 75% of the games were released after 2010.\n",
    "We can focus in our analysis on the majority of the games."
   ]
  },
  {
   "cell_type": "code",
   "execution_count": 45,
   "metadata": {},
   "outputs": [
    {
     "data": {
      "image/png": "[encoded data removed]",
      "text/plain": [
       "<Figure size 1080x288 with 1 Axes>"
      ]
     },
     "metadata": {
      "needs_background": "light"
     },
     "output_type": "display_data"
    }
   ],
   "source": [
    "#Look at how sales varied from platform to platform\n",
    "import seaborn as sns\n",
    "plt.figure(figsize=(15, 4))\n",
    "plt.title('Distribution of sales by all platforms', fontsize=16)\n",
    "sns.barplot(x='platform', y='total_sales', data = data)\n",
    "plt.show()"
   ]
  },
  {
   "cell_type": "markdown",
   "metadata": {},
   "source": [
    "When we look at the total data from all years, NES and GB are the platforms with the greatest total sales."
   ]
  },
  {
   "cell_type": "code",
   "execution_count": 46,
   "metadata": {},
   "outputs": [
    {
     "data": {
      "image/png": "[encoded data removed]",
      "text/plain": [
       "<Figure size 1080x432 with 1 Axes>"
      ]
     },
     "metadata": {
      "needs_background": "light"
     },
     "output_type": "display_data"
    }
   ],
   "source": [
    "#Top platforms only:\n",
    "top_platforms = data.groupby('platform').total_sales.sum().sort_values().index[-10:]\n",
    "top_platforms = set(top_platforms.to_list())\n",
    "\n",
    "#See how long does it generally take for new platforms to appear and old ones to fade:\n",
    "plt.figure(figsize=(15, 6))\n",
    "\n",
    "for i, platform in enumerate(top_platforms):\n",
    "    # Subset to the platform\n",
    "    subset = data[data['platform'] == platform]\n",
    "    # Drow the plot\n",
    "    subset.groupby('year_of_release').total_sales.sum().plot(\n",
    "        label=platform, title='Top Platforms - Sales Per Year')\n",
    "plt.legend(loc=\"upper right\")\n",
    "plt.show()"
   ]
  },
  {
   "cell_type": "markdown",
   "metadata": {},
   "source": [
    "We see that platforms don't stay at the top for too long, for most of the platforms it takes between 5-10 years to appear and fade."
   ]
  },
  {
   "cell_type": "code",
   "execution_count": 47,
   "metadata": {},
   "outputs": [],
   "source": [
    "#The focus will be on the years 2013-2016:\n",
    "data_new = data[data['year_of_release'] >= 2013]"
   ]
  },
  {
   "cell_type": "code",
   "execution_count": 49,
   "metadata": {},
   "outputs": [
    {
     "data": {
      "image/png": "[encoded data removed]",
      "text/plain": [
       "<Figure size 1080x288 with 1 Axes>"
      ]
     },
     "metadata": {
      "needs_background": "light"
     },
     "output_type": "display_data"
    }
   ],
   "source": [
    "#Check which platforms are leading in sales in the time frame chosen:\n",
    "\n",
    "plt.figure(figsize=(15, 4))\n",
    "plt.title('Distribution of sales by platforms since 2013', fontsize=16)\n",
    "sns.barplot(x='platform', y='total_sales', data = data_new)\n",
    "plt.show()"
   ]
  },
  {
   "cell_type": "markdown",
   "metadata": {},
   "source": [
    "The potentially profitable platforms are PS4, X360 XOne, and Wii"
   ]
  },
  {
   "cell_type": "code",
   "execution_count": 50,
   "metadata": {},
   "outputs": [
    {
     "data": {
      "image/png": "[encoded data removed]",
      "text/plain": [
       "<Figure size 1080x432 with 1 Axes>"
      ]
     },
     "metadata": {
      "needs_background": "light"
     },
     "output_type": "display_data"
    }
   ],
   "source": [
    "#Box plots for the global sales of all games, broken down by platform:\n",
    "\n",
    "sales_data = data_new.groupby(['platform','year_of_release'])['total_sales'].sum().reset_index()\n",
    "order = sales_data.groupby(['platform'])['total_sales'].sum().sort_values().reset_index()['platform']\n",
    "plt.figure(figsize=(15,6))\n",
    "plt.title('Total and Avg sales by platforms since 2013', fontsize=16)\n",
    "sns.boxplot(x='platform',y='total_sales',data=sales_data,order=order)\n",
    "plt.show()"
   ]
  },
  {
   "cell_type": "markdown",
   "metadata": {},
   "source": [
    "There are differences in sales, PS4 had significantly more sales then other platforms.\n",
    "If we look at the average sales, we also see a difference as PS4 had the highest average. PS3, XOne, 3DS and X360 had also high sales on average."
   ]
  },
  {
   "cell_type": "code",
   "execution_count": 51,
   "metadata": {},
   "outputs": [
    {
     "data": {
      "image/png": "[encoded data removed]",
      "text/plain": [
       "<Figure size 432x288 with 1 Axes>"
      ]
     },
     "metadata": {
      "needs_background": "light"
     },
     "output_type": "display_data"
    }
   ],
   "source": [
    "#Scatter plot for PS4 and calculating the correlation between reviews and sales:\n",
    "\n",
    "plt.scatter(data_new[data_new.platform == 'PS4']['avg_score'],\n",
    "            data_new[data_new.platform == 'PS4']['total_sales'], color='black', alpha=.5)\n",
    "plt.xlabel('avg_score')\n",
    "plt.ylabel('total_sales')\n",
    "plt.title('Total Sales vs Avg Score')\n",
    "plt.show()"
   ]
  },
  {
   "cell_type": "markdown",
   "metadata": {},
   "source": [
    "PS4 was chosen as it is one of the most popular platforms in the date frame chosen, there is a weak positive correlation."
   ]
  },
  {
   "cell_type": "code",
   "execution_count": 52,
   "metadata": {},
   "outputs": [
    {
     "data": {
      "text/html": [
       "<div>\n",
       "<style scoped>\n",
       "    .dataframe tbody tr th:only-of-type {\n",
       "        vertical-align: middle;\n",
       "    }\n",
       "\n",
       "    .dataframe tbody tr th {\n",
       "        vertical-align: top;\n",
       "    }\n",
       "\n",
       "    .dataframe thead th {\n",
       "        text-align: right;\n",
       "    }\n",
       "</style>\n",
       "<table border=\"1\" class=\"dataframe\">\n",
       "  <thead>\n",
       "    <tr style=\"text-align: right;\">\n",
       "      <th></th>\n",
       "      <th>user_score</th>\n",
       "      <th>critic_score</th>\n",
       "      <th>avg_score</th>\n",
       "      <th>total_sales</th>\n",
       "    </tr>\n",
       "  </thead>\n",
       "  <tbody>\n",
       "    <tr>\n",
       "      <th>user_score</th>\n",
       "      <td>1.000000</td>\n",
       "      <td>0.320728</td>\n",
       "      <td>0.853917</td>\n",
       "      <td>-0.060884</td>\n",
       "    </tr>\n",
       "    <tr>\n",
       "      <th>critic_score</th>\n",
       "      <td>0.320728</td>\n",
       "      <td>1.000000</td>\n",
       "      <td>0.766264</td>\n",
       "      <td>0.249801</td>\n",
       "    </tr>\n",
       "    <tr>\n",
       "      <th>avg_score</th>\n",
       "      <td>0.853917</td>\n",
       "      <td>0.766264</td>\n",
       "      <td>1.000000</td>\n",
       "      <td>0.094311</td>\n",
       "    </tr>\n",
       "    <tr>\n",
       "      <th>total_sales</th>\n",
       "      <td>-0.060884</td>\n",
       "      <td>0.249801</td>\n",
       "      <td>0.094311</td>\n",
       "      <td>1.000000</td>\n",
       "    </tr>\n",
       "  </tbody>\n",
       "</table>\n",
       "</div>"
      ],
      "text/plain": [
       "              user_score  critic_score  avg_score  total_sales\n",
       "user_score      1.000000      0.320728   0.853917    -0.060884\n",
       "critic_score    0.320728      1.000000   0.766264     0.249801\n",
       "avg_score       0.853917      0.766264   1.000000     0.094311\n",
       "total_sales    -0.060884      0.249801   0.094311     1.000000"
      ]
     },
     "execution_count": 52,
     "metadata": {},
     "output_type": "execute_result"
    }
   ],
   "source": [
    "#Look at the correlation of the user, critics and combined scores:\n",
    "data_new[['user_score', 'critic_score', 'avg_score', 'total_sales']].corr()"
   ]
  },
  {
   "cell_type": "markdown",
   "metadata": {},
   "source": [
    "The conclusion is that critics score affect total sales more then users score, as wee see a stronger correlation(positive) between sales and critics score.\n",
    "We can learn from this information that players will trust critics score more then users score when spending money on games."
   ]
  },
  {
   "cell_type": "code",
   "execution_count": 53,
   "metadata": {},
   "outputs": [
    {
     "data": {
      "text/html": [
       "<div>\n",
       "<style scoped>\n",
       "    .dataframe tbody tr th:only-of-type {\n",
       "        vertical-align: middle;\n",
       "    }\n",
       "\n",
       "    .dataframe tbody tr th {\n",
       "        vertical-align: top;\n",
       "    }\n",
       "\n",
       "    .dataframe thead th {\n",
       "        text-align: right;\n",
       "    }\n",
       "</style>\n",
       "<table border=\"1\" class=\"dataframe\">\n",
       "  <thead>\n",
       "    <tr style=\"text-align: right;\">\n",
       "      <th></th>\n",
       "      <th>name</th>\n",
       "      <th>platform</th>\n",
       "      <th>year_of_release</th>\n",
       "      <th>genre</th>\n",
       "      <th>na_sales</th>\n",
       "      <th>eu_sales</th>\n",
       "      <th>jp_sales</th>\n",
       "      <th>other_sales</th>\n",
       "      <th>critic_score</th>\n",
       "      <th>user_score</th>\n",
       "      <th>rating</th>\n",
       "      <th>total_sales</th>\n",
       "      <th>avg_score</th>\n",
       "    </tr>\n",
       "  </thead>\n",
       "  <tbody>\n",
       "    <tr>\n",
       "      <th>16</th>\n",
       "      <td>Grand Theft Auto V</td>\n",
       "      <td>PS3</td>\n",
       "      <td>2013.0</td>\n",
       "      <td>Action</td>\n",
       "      <td>7.02</td>\n",
       "      <td>9.09</td>\n",
       "      <td>0.98</td>\n",
       "      <td>3.96</td>\n",
       "      <td>97</td>\n",
       "      <td>82.0</td>\n",
       "      <td>M</td>\n",
       "      <td>21.05</td>\n",
       "      <td>89</td>\n",
       "    </tr>\n",
       "    <tr>\n",
       "      <th>23</th>\n",
       "      <td>Grand Theft Auto V</td>\n",
       "      <td>X360</td>\n",
       "      <td>2013.0</td>\n",
       "      <td>Action</td>\n",
       "      <td>9.66</td>\n",
       "      <td>5.14</td>\n",
       "      <td>0.06</td>\n",
       "      <td>1.41</td>\n",
       "      <td>97</td>\n",
       "      <td>81.0</td>\n",
       "      <td>M</td>\n",
       "      <td>16.27</td>\n",
       "      <td>89</td>\n",
       "    </tr>\n",
       "    <tr>\n",
       "      <th>31</th>\n",
       "      <td>Call of Duty: Black Ops 3</td>\n",
       "      <td>PS4</td>\n",
       "      <td>2015.0</td>\n",
       "      <td>Shooter</td>\n",
       "      <td>6.03</td>\n",
       "      <td>5.86</td>\n",
       "      <td>0.36</td>\n",
       "      <td>2.38</td>\n",
       "      <td>71</td>\n",
       "      <td>75.0</td>\n",
       "      <td>Unkown</td>\n",
       "      <td>14.63</td>\n",
       "      <td>73</td>\n",
       "    </tr>\n",
       "    <tr>\n",
       "      <th>42</th>\n",
       "      <td>Grand Theft Auto V</td>\n",
       "      <td>PS4</td>\n",
       "      <td>2014.0</td>\n",
       "      <td>Action</td>\n",
       "      <td>3.96</td>\n",
       "      <td>6.31</td>\n",
       "      <td>0.38</td>\n",
       "      <td>1.97</td>\n",
       "      <td>97</td>\n",
       "      <td>83.0</td>\n",
       "      <td>M</td>\n",
       "      <td>12.62</td>\n",
       "      <td>90</td>\n",
       "    </tr>\n",
       "    <tr>\n",
       "      <th>60</th>\n",
       "      <td>Call of Duty: Ghosts</td>\n",
       "      <td>X360</td>\n",
       "      <td>2013.0</td>\n",
       "      <td>Shooter</td>\n",
       "      <td>6.73</td>\n",
       "      <td>2.56</td>\n",
       "      <td>0.04</td>\n",
       "      <td>0.91</td>\n",
       "      <td>73</td>\n",
       "      <td>26.0</td>\n",
       "      <td>M</td>\n",
       "      <td>10.24</td>\n",
       "      <td>49</td>\n",
       "    </tr>\n",
       "    <tr>\n",
       "      <th>69</th>\n",
       "      <td>Call of Duty: Ghosts</td>\n",
       "      <td>PS3</td>\n",
       "      <td>2013.0</td>\n",
       "      <td>Shooter</td>\n",
       "      <td>4.10</td>\n",
       "      <td>3.63</td>\n",
       "      <td>0.38</td>\n",
       "      <td>1.25</td>\n",
       "      <td>71</td>\n",
       "      <td>26.0</td>\n",
       "      <td>M</td>\n",
       "      <td>9.36</td>\n",
       "      <td>48</td>\n",
       "    </tr>\n",
       "    <tr>\n",
       "      <th>72</th>\n",
       "      <td>Minecraft</td>\n",
       "      <td>X360</td>\n",
       "      <td>2013.0</td>\n",
       "      <td>Misc</td>\n",
       "      <td>5.70</td>\n",
       "      <td>2.65</td>\n",
       "      <td>0.02</td>\n",
       "      <td>0.81</td>\n",
       "      <td>71</td>\n",
       "      <td>75.0</td>\n",
       "      <td>Unkown</td>\n",
       "      <td>9.18</td>\n",
       "      <td>73</td>\n",
       "    </tr>\n",
       "    <tr>\n",
       "      <th>77</th>\n",
       "      <td>FIFA 16</td>\n",
       "      <td>PS4</td>\n",
       "      <td>2015.0</td>\n",
       "      <td>Sports</td>\n",
       "      <td>1.12</td>\n",
       "      <td>6.12</td>\n",
       "      <td>0.06</td>\n",
       "      <td>1.28</td>\n",
       "      <td>82</td>\n",
       "      <td>43.0</td>\n",
       "      <td>E</td>\n",
       "      <td>8.58</td>\n",
       "      <td>62</td>\n",
       "    </tr>\n",
       "    <tr>\n",
       "      <th>92</th>\n",
       "      <td>Call of Duty: Advanced Warfare</td>\n",
       "      <td>PS4</td>\n",
       "      <td>2014.0</td>\n",
       "      <td>Shooter</td>\n",
       "      <td>2.81</td>\n",
       "      <td>3.48</td>\n",
       "      <td>0.14</td>\n",
       "      <td>1.23</td>\n",
       "      <td>83</td>\n",
       "      <td>57.0</td>\n",
       "      <td>M</td>\n",
       "      <td>7.66</td>\n",
       "      <td>70</td>\n",
       "    </tr>\n",
       "    <tr>\n",
       "      <th>94</th>\n",
       "      <td>FIFA 17</td>\n",
       "      <td>PS4</td>\n",
       "      <td>2016.0</td>\n",
       "      <td>Sports</td>\n",
       "      <td>0.66</td>\n",
       "      <td>5.75</td>\n",
       "      <td>0.08</td>\n",
       "      <td>1.11</td>\n",
       "      <td>85</td>\n",
       "      <td>50.0</td>\n",
       "      <td>E</td>\n",
       "      <td>7.60</td>\n",
       "      <td>67</td>\n",
       "    </tr>\n",
       "  </tbody>\n",
       "</table>\n",
       "</div>"
      ],
      "text/plain": [
       "                              name platform  year_of_release    genre  \\\n",
       "16              Grand Theft Auto V      PS3           2013.0   Action   \n",
       "23              Grand Theft Auto V     X360           2013.0   Action   \n",
       "31       Call of Duty: Black Ops 3      PS4           2015.0  Shooter   \n",
       "42              Grand Theft Auto V      PS4           2014.0   Action   \n",
       "60            Call of Duty: Ghosts     X360           2013.0  Shooter   \n",
       "69            Call of Duty: Ghosts      PS3           2013.0  Shooter   \n",
       "72                       Minecraft     X360           2013.0     Misc   \n",
       "77                         FIFA 16      PS4           2015.0   Sports   \n",
       "92  Call of Duty: Advanced Warfare      PS4           2014.0  Shooter   \n",
       "94                         FIFA 17      PS4           2016.0   Sports   \n",
       "\n",
       "    na_sales  eu_sales  jp_sales  other_sales  critic_score  user_score  \\\n",
       "16      7.02      9.09      0.98         3.96            97        82.0   \n",
       "23      9.66      5.14      0.06         1.41            97        81.0   \n",
       "31      6.03      5.86      0.36         2.38            71        75.0   \n",
       "42      3.96      6.31      0.38         1.97            97        83.0   \n",
       "60      6.73      2.56      0.04         0.91            73        26.0   \n",
       "69      4.10      3.63      0.38         1.25            71        26.0   \n",
       "72      5.70      2.65      0.02         0.81            71        75.0   \n",
       "77      1.12      6.12      0.06         1.28            82        43.0   \n",
       "92      2.81      3.48      0.14         1.23            83        57.0   \n",
       "94      0.66      5.75      0.08         1.11            85        50.0   \n",
       "\n",
       "    rating  total_sales  avg_score  \n",
       "16       M        21.05         89  \n",
       "23       M        16.27         89  \n",
       "31  Unkown        14.63         73  \n",
       "42       M        12.62         90  \n",
       "60       M        10.24         49  \n",
       "69       M         9.36         48  \n",
       "72  Unkown         9.18         73  \n",
       "77       E         8.58         62  \n",
       "92       M         7.66         70  \n",
       "94       E         7.60         67  "
      ]
     },
     "execution_count": 53,
     "metadata": {},
     "output_type": "execute_result"
    }
   ],
   "source": [
    "#Check which games has more then 4 platforms info:\n",
    "\n",
    "name_platform = data_new.groupby(['name']).filter(lambda x: x['platform'].count() >= 4)\n",
    "name_platform.head(10)"
   ]
  },
  {
   "cell_type": "markdown",
   "metadata": {},
   "source": [
    "Game chosen is \"Call of Duty: Advanced Warfare\", which has a high score and sales on 5 different platforms, in 2014."
   ]
  },
  {
   "cell_type": "code",
   "execution_count": 54,
   "metadata": {},
   "outputs": [
    {
     "data": {
      "text/html": [
       "<div>\n",
       "<style scoped>\n",
       "    .dataframe tbody tr th:only-of-type {\n",
       "        vertical-align: middle;\n",
       "    }\n",
       "\n",
       "    .dataframe tbody tr th {\n",
       "        vertical-align: top;\n",
       "    }\n",
       "\n",
       "    .dataframe thead th {\n",
       "        text-align: right;\n",
       "    }\n",
       "</style>\n",
       "<table border=\"1\" class=\"dataframe\">\n",
       "  <thead>\n",
       "    <tr style=\"text-align: right;\">\n",
       "      <th></th>\n",
       "      <th>name</th>\n",
       "      <th>platform</th>\n",
       "      <th>year_of_release</th>\n",
       "      <th>genre</th>\n",
       "      <th>na_sales</th>\n",
       "      <th>eu_sales</th>\n",
       "      <th>jp_sales</th>\n",
       "      <th>other_sales</th>\n",
       "      <th>critic_score</th>\n",
       "      <th>user_score</th>\n",
       "      <th>rating</th>\n",
       "      <th>total_sales</th>\n",
       "      <th>avg_score</th>\n",
       "    </tr>\n",
       "  </thead>\n",
       "  <tbody>\n",
       "    <tr>\n",
       "      <th>92</th>\n",
       "      <td>Call of Duty: Advanced Warfare</td>\n",
       "      <td>PS4</td>\n",
       "      <td>2014.0</td>\n",
       "      <td>Shooter</td>\n",
       "      <td>2.81</td>\n",
       "      <td>3.48</td>\n",
       "      <td>0.14</td>\n",
       "      <td>1.23</td>\n",
       "      <td>83</td>\n",
       "      <td>57.0</td>\n",
       "      <td>M</td>\n",
       "      <td>7.66</td>\n",
       "      <td>70</td>\n",
       "    </tr>\n",
       "    <tr>\n",
       "      <th>179</th>\n",
       "      <td>Call of Duty: Advanced Warfare</td>\n",
       "      <td>XOne</td>\n",
       "      <td>2014.0</td>\n",
       "      <td>Shooter</td>\n",
       "      <td>3.22</td>\n",
       "      <td>1.55</td>\n",
       "      <td>0.01</td>\n",
       "      <td>0.48</td>\n",
       "      <td>81</td>\n",
       "      <td>54.0</td>\n",
       "      <td>M</td>\n",
       "      <td>5.26</td>\n",
       "      <td>67</td>\n",
       "    </tr>\n",
       "    <tr>\n",
       "      <th>255</th>\n",
       "      <td>Call of Duty: Advanced Warfare</td>\n",
       "      <td>PS3</td>\n",
       "      <td>2014.0</td>\n",
       "      <td>Shooter</td>\n",
       "      <td>1.56</td>\n",
       "      <td>1.93</td>\n",
       "      <td>0.19</td>\n",
       "      <td>0.68</td>\n",
       "      <td>81</td>\n",
       "      <td>48.0</td>\n",
       "      <td>M</td>\n",
       "      <td>4.36</td>\n",
       "      <td>64</td>\n",
       "    </tr>\n",
       "    <tr>\n",
       "      <th>263</th>\n",
       "      <td>Call of Duty: Advanced Warfare</td>\n",
       "      <td>X360</td>\n",
       "      <td>2014.0</td>\n",
       "      <td>Shooter</td>\n",
       "      <td>2.77</td>\n",
       "      <td>1.11</td>\n",
       "      <td>0.00</td>\n",
       "      <td>0.40</td>\n",
       "      <td>81</td>\n",
       "      <td>49.0</td>\n",
       "      <td>M</td>\n",
       "      <td>4.28</td>\n",
       "      <td>65</td>\n",
       "    </tr>\n",
       "    <tr>\n",
       "      <th>4736</th>\n",
       "      <td>Call of Duty: Advanced Warfare</td>\n",
       "      <td>PC</td>\n",
       "      <td>2014.0</td>\n",
       "      <td>Shooter</td>\n",
       "      <td>0.15</td>\n",
       "      <td>0.23</td>\n",
       "      <td>0.00</td>\n",
       "      <td>0.03</td>\n",
       "      <td>78</td>\n",
       "      <td>45.0</td>\n",
       "      <td>M</td>\n",
       "      <td>0.41</td>\n",
       "      <td>61</td>\n",
       "    </tr>\n",
       "  </tbody>\n",
       "</table>\n",
       "</div>"
      ],
      "text/plain": [
       "                                name platform  year_of_release    genre  \\\n",
       "92    Call of Duty: Advanced Warfare      PS4           2014.0  Shooter   \n",
       "179   Call of Duty: Advanced Warfare     XOne           2014.0  Shooter   \n",
       "255   Call of Duty: Advanced Warfare      PS3           2014.0  Shooter   \n",
       "263   Call of Duty: Advanced Warfare     X360           2014.0  Shooter   \n",
       "4736  Call of Duty: Advanced Warfare       PC           2014.0  Shooter   \n",
       "\n",
       "      na_sales  eu_sales  jp_sales  other_sales  critic_score  user_score  \\\n",
       "92        2.81      3.48      0.14         1.23            83        57.0   \n",
       "179       3.22      1.55      0.01         0.48            81        54.0   \n",
       "255       1.56      1.93      0.19         0.68            81        48.0   \n",
       "263       2.77      1.11      0.00         0.40            81        49.0   \n",
       "4736      0.15      0.23      0.00         0.03            78        45.0   \n",
       "\n",
       "     rating  total_sales  avg_score  \n",
       "92        M         7.66         70  \n",
       "179       M         5.26         67  \n",
       "255       M         4.36         64  \n",
       "263       M         4.28         65  \n",
       "4736      M         0.41         61  "
      ]
     },
     "execution_count": 54,
     "metadata": {},
     "output_type": "execute_result"
    }
   ],
   "source": [
    "#comparing the sales of the \"Call of Duty: Advanced Warfare\" on different platforms:\n",
    "\n",
    "col_war = name_platform.query('name == \"Call of Duty: Advanced Warfare\"')\n",
    "col_war"
   ]
  },
  {
   "cell_type": "code",
   "execution_count": 55,
   "metadata": {},
   "outputs": [
    {
     "data": {
      "text/html": [
       "<div>\n",
       "<style scoped>\n",
       "    .dataframe tbody tr th:only-of-type {\n",
       "        vertical-align: middle;\n",
       "    }\n",
       "\n",
       "    .dataframe tbody tr th {\n",
       "        vertical-align: top;\n",
       "    }\n",
       "\n",
       "    .dataframe thead th {\n",
       "        text-align: right;\n",
       "    }\n",
       "</style>\n",
       "<table border=\"1\" class=\"dataframe\">\n",
       "  <thead>\n",
       "    <tr style=\"text-align: right;\">\n",
       "      <th></th>\n",
       "      <th>user_score</th>\n",
       "      <th>critic_score</th>\n",
       "      <th>avg_score</th>\n",
       "      <th>total_sales</th>\n",
       "    </tr>\n",
       "  </thead>\n",
       "  <tbody>\n",
       "    <tr>\n",
       "      <th>user_score</th>\n",
       "      <td>1.000000</td>\n",
       "      <td>0.856996</td>\n",
       "      <td>0.982977</td>\n",
       "      <td>0.920377</td>\n",
       "    </tr>\n",
       "    <tr>\n",
       "      <th>critic_score</th>\n",
       "      <td>0.856996</td>\n",
       "      <td>1.000000</td>\n",
       "      <td>0.931266</td>\n",
       "      <td>0.988746</td>\n",
       "    </tr>\n",
       "    <tr>\n",
       "      <th>avg_score</th>\n",
       "      <td>0.982977</td>\n",
       "      <td>0.931266</td>\n",
       "      <td>1.000000</td>\n",
       "      <td>0.968751</td>\n",
       "    </tr>\n",
       "    <tr>\n",
       "      <th>total_sales</th>\n",
       "      <td>0.920377</td>\n",
       "      <td>0.988746</td>\n",
       "      <td>0.968751</td>\n",
       "      <td>1.000000</td>\n",
       "    </tr>\n",
       "  </tbody>\n",
       "</table>\n",
       "</div>"
      ],
      "text/plain": [
       "              user_score  critic_score  avg_score  total_sales\n",
       "user_score      1.000000      0.856996   0.982977     0.920377\n",
       "critic_score    0.856996      1.000000   0.931266     0.988746\n",
       "avg_score       0.982977      0.931266   1.000000     0.968751\n",
       "total_sales     0.920377      0.988746   0.968751     1.000000"
      ]
     },
     "execution_count": 55,
     "metadata": {},
     "output_type": "execute_result"
    }
   ],
   "source": [
    "col_war[['user_score', 'critic_score','avg_score', 'total_sales']].corr()"
   ]
  },
  {
   "cell_type": "markdown",
   "metadata": {},
   "source": [
    "Same as in the last analysis, we see that users score does not affect sales, and critics score, has a much stronger affect."
   ]
  },
  {
   "cell_type": "code",
   "execution_count": 56,
   "metadata": {},
   "outputs": [
    {
     "data": {
      "text/html": [
       "<style  type=\"text/css\" >\n",
       "#T_a4b9b_row0_col0{\n",
       "            width:  10em;\n",
       "             height:  80%;\n",
       "            background:  linear-gradient(90deg,#d65f5f 100.0%, transparent 100.0%);\n",
       "        }#T_a4b9b_row1_col0{\n",
       "            width:  10em;\n",
       "             height:  80%;\n",
       "            background:  linear-gradient(90deg,#d65f5f 72.0%, transparent 72.0%);\n",
       "        }#T_a4b9b_row2_col0{\n",
       "            width:  10em;\n",
       "             height:  80%;\n",
       "            background:  linear-gradient(90deg,#d65f5f 46.2%, transparent 46.2%);\n",
       "        }#T_a4b9b_row3_col0{\n",
       "            width:  10em;\n",
       "             height:  80%;\n",
       "            background:  linear-gradient(90deg,#d65f5f 44.7%, transparent 44.7%);\n",
       "        }#T_a4b9b_row4_col0{\n",
       "            width:  10em;\n",
       "             height:  80%;\n",
       "            background:  linear-gradient(90deg,#d65f5f 18.8%, transparent 18.8%);\n",
       "        }#T_a4b9b_row5_col0{\n",
       "            width:  10em;\n",
       "             height:  80%;\n",
       "            background:  linear-gradient(90deg,#d65f5f 12.4%, transparent 12.4%);\n",
       "        }#T_a4b9b_row6_col0{\n",
       "            width:  10em;\n",
       "             height:  80%;\n",
       "            background:  linear-gradient(90deg,#d65f5f 11.5%, transparent 11.5%);\n",
       "        }#T_a4b9b_row7_col0{\n",
       "            width:  10em;\n",
       "             height:  80%;\n",
       "            background:  linear-gradient(90deg,#d65f5f 10.1%, transparent 10.1%);\n",
       "        }#T_a4b9b_row8_col0{\n",
       "            width:  10em;\n",
       "             height:  80%;\n",
       "            background:  linear-gradient(90deg,#d65f5f 6.4%, transparent 6.4%);\n",
       "        }#T_a4b9b_row9_col0{\n",
       "            width:  10em;\n",
       "             height:  80%;\n",
       "            background:  linear-gradient(90deg,#d65f5f 5.8%, transparent 5.8%);\n",
       "        }#T_a4b9b_row10_col0{\n",
       "            width:  10em;\n",
       "             height:  80%;\n",
       "            background:  linear-gradient(90deg,#d65f5f 2.2%, transparent 2.2%);\n",
       "        }#T_a4b9b_row11_col0{\n",
       "            width:  10em;\n",
       "             height:  80%;\n",
       "        }</style><table id=\"T_a4b9b_\" ><thead>    <tr>        <th class=\"blank level0\" ></th>        <th class=\"col_heading level0 col0\" >total_sales</th>    </tr>    <tr>        <th class=\"index_name level0\" >genre</th>        <th class=\"blank\" ></th>    </tr></thead><tbody>\n",
       "                <tr>\n",
       "                        <th id=\"T_a4b9b_level0_row0\" class=\"row_heading level0 row0\" >Action</th>\n",
       "                        <td id=\"T_a4b9b_row0_col0\" class=\"data row0 col0\" >322.500000</td>\n",
       "            </tr>\n",
       "            <tr>\n",
       "                        <th id=\"T_a4b9b_level0_row1\" class=\"row_heading level0 row1\" >Shooter</th>\n",
       "                        <td id=\"T_a4b9b_row1_col0\" class=\"data row1 col0\" >232.980000</td>\n",
       "            </tr>\n",
       "            <tr>\n",
       "                        <th id=\"T_a4b9b_level0_row2\" class=\"row_heading level0 row2\" >Sports</th>\n",
       "                        <td id=\"T_a4b9b_row2_col0\" class=\"data row2 col0\" >150.650000</td>\n",
       "            </tr>\n",
       "            <tr>\n",
       "                        <th id=\"T_a4b9b_level0_row3\" class=\"row_heading level0 row3\" >Role-Playing</th>\n",
       "                        <td id=\"T_a4b9b_row3_col0\" class=\"data row3 col0\" >145.890000</td>\n",
       "            </tr>\n",
       "            <tr>\n",
       "                        <th id=\"T_a4b9b_level0_row4\" class=\"row_heading level0 row4\" >Misc</th>\n",
       "                        <td id=\"T_a4b9b_row4_col0\" class=\"data row4 col0\" >63.060000</td>\n",
       "            </tr>\n",
       "            <tr>\n",
       "                        <th id=\"T_a4b9b_level0_row5\" class=\"row_heading level0 row5\" >Platform</th>\n",
       "                        <td id=\"T_a4b9b_row5_col0\" class=\"data row5 col0\" >42.630000</td>\n",
       "            </tr>\n",
       "            <tr>\n",
       "                        <th id=\"T_a4b9b_level0_row6\" class=\"row_heading level0 row6\" >Racing</th>\n",
       "                        <td id=\"T_a4b9b_row6_col0\" class=\"data row6 col0\" >39.890000</td>\n",
       "            </tr>\n",
       "            <tr>\n",
       "                        <th id=\"T_a4b9b_level0_row7\" class=\"row_heading level0 row7\" >Fighting</th>\n",
       "                        <td id=\"T_a4b9b_row7_col0\" class=\"data row7 col0\" >35.310000</td>\n",
       "            </tr>\n",
       "            <tr>\n",
       "                        <th id=\"T_a4b9b_level0_row8\" class=\"row_heading level0 row8\" >Adventure</th>\n",
       "                        <td id=\"T_a4b9b_row8_col0\" class=\"data row8 col0\" >23.640000</td>\n",
       "            </tr>\n",
       "            <tr>\n",
       "                        <th id=\"T_a4b9b_level0_row9\" class=\"row_heading level0 row9\" >Simulation</th>\n",
       "                        <td id=\"T_a4b9b_row9_col0\" class=\"data row9 col0\" >21.760000</td>\n",
       "            </tr>\n",
       "            <tr>\n",
       "                        <th id=\"T_a4b9b_level0_row10\" class=\"row_heading level0 row10\" >Strategy</th>\n",
       "                        <td id=\"T_a4b9b_row10_col0\" class=\"data row10 col0\" >10.080000</td>\n",
       "            </tr>\n",
       "            <tr>\n",
       "                        <th id=\"T_a4b9b_level0_row11\" class=\"row_heading level0 row11\" >Puzzle</th>\n",
       "                        <td id=\"T_a4b9b_row11_col0\" class=\"data row11 col0\" >3.170000</td>\n",
       "            </tr>\n",
       "    </tbody></table>"
      ],
      "text/plain": [
       "<pandas.io.formats.style.Styler at 0x18e748d47c0>"
      ]
     },
     "execution_count": 56,
     "metadata": {},
     "output_type": "execute_result"
    }
   ],
   "source": [
    "#Review the general distribution of games by genre\n",
    "data_new.groupby('genre')[['total_sales']].sum().sort_values('total_sales', ascending=False).style.bar()"
   ]
  },
  {
   "cell_type": "markdown",
   "metadata": {},
   "source": [
    "The most profitable genres are Action, Shooters, Sports and Role-playing. Possible explantion is that these genres are more competitive, requires more energy and are more complex(play and development), and that's what makes them more popular."
   ]
  },
  {
   "cell_type": "markdown",
   "metadata": {},
   "source": [
    "# Create a user profile for each region"
   ]
  },
  {
   "cell_type": "markdown",
   "metadata": {},
   "source": [
    "### The top five platforms by region"
   ]
  },
  {
   "cell_type": "code",
   "execution_count": 57,
   "metadata": {},
   "outputs": [
    {
     "data": {
      "image/png": "[encoded data removed]",
      "text/plain": [
       "<Figure size 288x288 with 1 Axes>"
      ]
     },
     "metadata": {},
     "output_type": "display_data"
    }
   ],
   "source": [
    "# plot for North America region\n",
    "data_new_region = data_new.groupby(['platform'])['na_sales'].sum().reset_index().sort_values(by='na_sales', ascending = False)\n",
    "top_platforms = data_new_region.head()\n",
    "(top_platforms.set_index('platform').plot(y='na_sales', kind='pie', title = '5 top platforms NA', figsize=(4, 4), autopct='%1.1f%%')\n",
    ");\n"
   ]
  },
  {
   "cell_type": "code",
   "execution_count": 58,
   "metadata": {},
   "outputs": [
    {
     "data": {
      "image/png": "[encoded data removed]",
      "text/plain": [
       "<Figure size 288x288 with 1 Axes>"
      ]
     },
     "metadata": {},
     "output_type": "display_data"
    }
   ],
   "source": [
    "# plot for Europe region\n",
    "data_new_region = data_new.groupby(['platform'])['eu_sales'].sum().reset_index().sort_values(by='eu_sales', ascending = False)\n",
    "top_platforms = data_new_region.head()\n",
    "(top_platforms.set_index('platform').plot(y='eu_sales', kind='pie', title = '5 top platforms EU', figsize=(4, 4), autopct='%1.1f%%')\n",
    ");"
   ]
  },
  {
   "cell_type": "code",
   "execution_count": 59,
   "metadata": {},
   "outputs": [
    {
     "data": {
      "image/png": "[encoded data removed]",
      "text/plain": [
       "<Figure size 288x288 with 1 Axes>"
      ]
     },
     "metadata": {},
     "output_type": "display_data"
    }
   ],
   "source": [
    "# plot for Europe region\n",
    "data_new_region = data_new.groupby(['platform'])['jp_sales'].sum().reset_index().sort_values(by='jp_sales', ascending = False)\n",
    "top_platforms = data_new_region.head()\n",
    "(top_platforms.set_index('platform').plot(y='jp_sales', kind='pie', title = '5 top platforms Japan', figsize=(4, 4), autopct='%1.1f%%')\n",
    ");"
   ]
  },
  {
   "cell_type": "markdown",
   "metadata": {},
   "source": [
    "We see variations in the market shares from region to region, while 3DS is the most popular platform in Japan, it's the least popular platform in NA and EU. \n",
    "PS4 is the most popular platform in NA and EU but it's not that popular in Japan(5th place with 11.7% only).\n",
    "If we would like to release a game to ensure it will be excepted in all regions, it will probably have to be in PS3/PS4 platforms, as they are at the top of all regions."
   ]
  },
  {
   "cell_type": "code",
   "execution_count": 60,
   "metadata": {},
   "outputs": [
    {
     "data": {
      "image/png": "[encoded data removed]",
      "text/plain": [
       "<Figure size 864x288 with 3 Axes>"
      ]
     },
     "metadata": {},
     "output_type": "display_data"
    }
   ],
   "source": [
    "#The top five genres by region:\n",
    "na_genres = data_new.groupby('genre').na_sales.sum().nlargest(5)\n",
    "eu_genres = data_new.groupby('genre').eu_sales.sum().nlargest(5)\n",
    "jp_genres = data_new.groupby('genre').jp_sales.sum().nlargest(5)\n",
    "\n",
    "fig, (ax1, ax2, ax3) = plt.subplots(1, 3, figsize=(12, 4))\n",
    "\n",
    "fig.suptitle('Top 5 genres by region')\n",
    "\n",
    "ax1.pie(na_genres, labels=na_genres.index, autopct='%1.f%%')\n",
    "ax2.pie(eu_genres, labels=eu_genres.index, autopct='%1.f%%')\n",
    "ax3.pie(jp_genres, labels=jp_genres.index, autopct='%1.f%%')\n",
    "\n",
    "\n",
    "ax1.title.set_text('NA')\n",
    "ax2.title.set_text('EU')\n",
    "ax3.title.set_text('JA')\n",
    "\n",
    "plt.show()"
   ]
  },
  {
   "cell_type": "markdown",
   "metadata": {},
   "source": [
    "We again see a difference between Japan and NA/EU, while Role-playing is the most popular genre in Japan, it's not that popular in NA/EU. \n",
    "Action, Shooters and sports are the most popular genres in NA and EU(80%+ combined), and they are not very popular genres in Japan(41% combined, which is half!)\n",
    "The differences could be explained by the different platforms, DS platform which is the most popular in Japan is better suited to play role playing games, while platforms like PS4, X360 and XOne are more for actions and sports games."
   ]
  },
  {
   "cell_type": "markdown",
   "metadata": {},
   "source": [
    "### Do ESRB ratings affect sales in individual regions?"
   ]
  },
  {
   "cell_type": "code",
   "execution_count": 61,
   "metadata": {},
   "outputs": [
    {
     "data": {
      "text/html": [
       "<div>\n",
       "<style scoped>\n",
       "    .dataframe tbody tr th:only-of-type {\n",
       "        vertical-align: middle;\n",
       "    }\n",
       "\n",
       "    .dataframe tbody tr th {\n",
       "        vertical-align: top;\n",
       "    }\n",
       "\n",
       "    .dataframe thead th {\n",
       "        text-align: right;\n",
       "    }\n",
       "</style>\n",
       "<table border=\"1\" class=\"dataframe\">\n",
       "  <thead>\n",
       "    <tr style=\"text-align: right;\">\n",
       "      <th></th>\n",
       "      <th>rating</th>\n",
       "      <th>na_sales</th>\n",
       "    </tr>\n",
       "  </thead>\n",
       "  <tbody>\n",
       "    <tr>\n",
       "      <th>0</th>\n",
       "      <td>M</td>\n",
       "      <td>165.29</td>\n",
       "    </tr>\n",
       "    <tr>\n",
       "      <th>1</th>\n",
       "      <td>Unkown</td>\n",
       "      <td>89.42</td>\n",
       "    </tr>\n",
       "    <tr>\n",
       "      <th>2</th>\n",
       "      <td>E</td>\n",
       "      <td>79.05</td>\n",
       "    </tr>\n",
       "    <tr>\n",
       "      <th>3</th>\n",
       "      <td>E10+</td>\n",
       "      <td>54.24</td>\n",
       "    </tr>\n",
       "    <tr>\n",
       "      <th>4</th>\n",
       "      <td>T</td>\n",
       "      <td>49.79</td>\n",
       "    </tr>\n",
       "  </tbody>\n",
       "</table>\n",
       "</div>"
      ],
      "text/plain": [
       "   rating  na_sales\n",
       "0       M    165.29\n",
       "1  Unkown     89.42\n",
       "2       E     79.05\n",
       "3    E10+     54.24\n",
       "4       T     49.79"
      ]
     },
     "execution_count": 61,
     "metadata": {},
     "output_type": "execute_result"
    }
   ],
   "source": [
    "#Check ESRB ratings in North America:\n",
    "data_new_ratings_na= data_new.groupby(['rating'])['na_sales'].sum().reset_index().sort_values(by='na_sales', ascending = False)\n",
    "data_new_ratings_na = data_new_ratings_na.reset_index(drop=True)\n",
    "data_new_ratings_na"
   ]
  },
  {
   "cell_type": "code",
   "execution_count": 62,
   "metadata": {},
   "outputs": [
    {
     "data": {
      "text/html": [
       "<div>\n",
       "<style scoped>\n",
       "    .dataframe tbody tr th:only-of-type {\n",
       "        vertical-align: middle;\n",
       "    }\n",
       "\n",
       "    .dataframe tbody tr th {\n",
       "        vertical-align: top;\n",
       "    }\n",
       "\n",
       "    .dataframe thead th {\n",
       "        text-align: right;\n",
       "    }\n",
       "</style>\n",
       "<table border=\"1\" class=\"dataframe\">\n",
       "  <thead>\n",
       "    <tr style=\"text-align: right;\">\n",
       "      <th></th>\n",
       "      <th>rating</th>\n",
       "      <th>eu_sales</th>\n",
       "    </tr>\n",
       "  </thead>\n",
       "  <tbody>\n",
       "    <tr>\n",
       "      <th>0</th>\n",
       "      <td>M</td>\n",
       "      <td>145.80</td>\n",
       "    </tr>\n",
       "    <tr>\n",
       "      <th>1</th>\n",
       "      <td>E</td>\n",
       "      <td>83.36</td>\n",
       "    </tr>\n",
       "    <tr>\n",
       "      <th>2</th>\n",
       "      <td>Unkown</td>\n",
       "      <td>78.91</td>\n",
       "    </tr>\n",
       "    <tr>\n",
       "      <th>3</th>\n",
       "      <td>E10+</td>\n",
       "      <td>42.69</td>\n",
       "    </tr>\n",
       "    <tr>\n",
       "      <th>4</th>\n",
       "      <td>T</td>\n",
       "      <td>41.95</td>\n",
       "    </tr>\n",
       "  </tbody>\n",
       "</table>\n",
       "</div>"
      ],
      "text/plain": [
       "   rating  eu_sales\n",
       "0       M    145.80\n",
       "1       E     83.36\n",
       "2  Unkown     78.91\n",
       "3    E10+     42.69\n",
       "4       T     41.95"
      ]
     },
     "execution_count": 62,
     "metadata": {},
     "output_type": "execute_result"
    }
   ],
   "source": [
    "#Check ESRB ratings in Europe:\n",
    "data_new_ratings_eu= data_new.groupby(['rating'])['eu_sales'].sum().reset_index().sort_values(by='eu_sales', ascending = False)\n",
    "data_new_ratings_eu = data_new_ratings_eu.reset_index(drop=True)\n",
    "data_new_ratings_eu"
   ]
  },
  {
   "cell_type": "code",
   "execution_count": 63,
   "metadata": {
    "scrolled": true
   },
   "outputs": [
    {
     "data": {
      "text/html": [
       "<div>\n",
       "<style scoped>\n",
       "    .dataframe tbody tr th:only-of-type {\n",
       "        vertical-align: middle;\n",
       "    }\n",
       "\n",
       "    .dataframe tbody tr th {\n",
       "        vertical-align: top;\n",
       "    }\n",
       "\n",
       "    .dataframe thead th {\n",
       "        text-align: right;\n",
       "    }\n",
       "</style>\n",
       "<table border=\"1\" class=\"dataframe\">\n",
       "  <thead>\n",
       "    <tr style=\"text-align: right;\">\n",
       "      <th></th>\n",
       "      <th>rating</th>\n",
       "      <th>jp_sales</th>\n",
       "    </tr>\n",
       "  </thead>\n",
       "  <tbody>\n",
       "    <tr>\n",
       "      <th>0</th>\n",
       "      <td>Unkown</td>\n",
       "      <td>85.29</td>\n",
       "    </tr>\n",
       "    <tr>\n",
       "      <th>1</th>\n",
       "      <td>T</td>\n",
       "      <td>20.59</td>\n",
       "    </tr>\n",
       "    <tr>\n",
       "      <th>2</th>\n",
       "      <td>E</td>\n",
       "      <td>15.14</td>\n",
       "    </tr>\n",
       "    <tr>\n",
       "      <th>3</th>\n",
       "      <td>M</td>\n",
       "      <td>14.11</td>\n",
       "    </tr>\n",
       "    <tr>\n",
       "      <th>4</th>\n",
       "      <td>E10+</td>\n",
       "      <td>5.89</td>\n",
       "    </tr>\n",
       "  </tbody>\n",
       "</table>\n",
       "</div>"
      ],
      "text/plain": [
       "   rating  jp_sales\n",
       "0  Unkown     85.29\n",
       "1       T     20.59\n",
       "2       E     15.14\n",
       "3       M     14.11\n",
       "4    E10+      5.89"
      ]
     },
     "execution_count": 63,
     "metadata": {},
     "output_type": "execute_result"
    }
   ],
   "source": [
    "#Check ESRB ratings in Japan:\n",
    "data_new_ratings_jp= data_new.groupby(['rating'])['jp_sales'].sum().reset_index().sort_values(by='jp_sales', ascending = False)\n",
    "data_new_ratings_jp = data_new_ratings_jp.reset_index(drop=True)\n",
    "data_new_ratings_jp"
   ]
  },
  {
   "cell_type": "markdown",
   "metadata": {},
   "source": [
    "It seems that there is an effect, as the most popular ratings in NA and EU are M and E. In Japan we don't have a lot of information, as \"Unkown\" is the most common rating. As \"E\" is the general rating for all populations, it does not give us a lot of information, \"M\" is for a mature audience, meaning the top consumers of games are mature and general(which is also mature in majority). It's important for future campaigns, as we now know what is the main group of audience. "
   ]
  },
  {
   "cell_type": "markdown",
   "metadata": {},
   "source": [
    "# Testing the hypotheses"
   ]
  },
  {
   "cell_type": "markdown",
   "metadata": {},
   "source": [
    "## XBox One Vs. PC"
   ]
  },
  {
   "cell_type": "markdown",
   "metadata": {},
   "source": [
    "Formulating the H0 and H1 hypotheses.\n",
    "\n",
    "H0 = the mean user score of XBox One platform is equal to the mean user score of PC platform\n",
    "\n",
    "H1 = the mean user score of XBox One platform is NOT equal to the mean user score of PC platform\n",
    "\n",
    "critical statistical significance level(alpha) = 0.05"
   ]
  },
  {
   "cell_type": "code",
   "execution_count": 64,
   "metadata": {},
   "outputs": [
    {
     "data": {
      "text/html": [
       "<div>\n",
       "<style scoped>\n",
       "    .dataframe tbody tr th:only-of-type {\n",
       "        vertical-align: middle;\n",
       "    }\n",
       "\n",
       "    .dataframe tbody tr th {\n",
       "        vertical-align: top;\n",
       "    }\n",
       "\n",
       "    .dataframe thead th {\n",
       "        text-align: right;\n",
       "    }\n",
       "</style>\n",
       "<table border=\"1\" class=\"dataframe\">\n",
       "  <thead>\n",
       "    <tr style=\"text-align: right;\">\n",
       "      <th></th>\n",
       "      <th>count</th>\n",
       "      <th>mean</th>\n",
       "      <th>std</th>\n",
       "      <th>min</th>\n",
       "      <th>25%</th>\n",
       "      <th>50%</th>\n",
       "      <th>75%</th>\n",
       "      <th>max</th>\n",
       "    </tr>\n",
       "    <tr>\n",
       "      <th>platform</th>\n",
       "      <th></th>\n",
       "      <th></th>\n",
       "      <th></th>\n",
       "      <th></th>\n",
       "      <th></th>\n",
       "      <th></th>\n",
       "      <th></th>\n",
       "      <th></th>\n",
       "    </tr>\n",
       "  </thead>\n",
       "  <tbody>\n",
       "    <tr>\n",
       "      <th>XOne</th>\n",
       "      <td>247.0</td>\n",
       "      <td>67.789474</td>\n",
       "      <td>12.607755</td>\n",
       "      <td>16.0</td>\n",
       "      <td>61.0</td>\n",
       "      <td>72.0</td>\n",
       "      <td>75.0</td>\n",
       "      <td>92.0</td>\n",
       "    </tr>\n",
       "    <tr>\n",
       "      <th>PC</th>\n",
       "      <td>192.0</td>\n",
       "      <td>64.963542</td>\n",
       "      <td>16.408519</td>\n",
       "      <td>14.0</td>\n",
       "      <td>57.0</td>\n",
       "      <td>71.0</td>\n",
       "      <td>75.0</td>\n",
       "      <td>93.0</td>\n",
       "    </tr>\n",
       "  </tbody>\n",
       "</table>\n",
       "</div>"
      ],
      "text/plain": [
       "          count       mean        std   min   25%   50%   75%   max\n",
       "platform                                                           \n",
       "XOne      247.0  67.789474  12.607755  16.0  61.0  72.0  75.0  92.0\n",
       "PC        192.0  64.963542  16.408519  14.0  57.0  71.0  75.0  93.0"
      ]
     },
     "execution_count": 64,
     "metadata": {},
     "output_type": "execute_result"
    }
   ],
   "source": [
    "#check the mean of both populations:\n",
    "data_new.groupby('platform').user_score.describe().loc[['XOne', 'PC']]"
   ]
  },
  {
   "cell_type": "code",
   "execution_count": 65,
   "metadata": {},
   "outputs": [
    {
     "data": {
      "text/plain": [
       "158.95549850235324"
      ]
     },
     "metadata": {},
     "output_type": "display_data"
    },
    {
     "data": {
      "text/plain": [
       "269.2395015270506"
      ]
     },
     "metadata": {},
     "output_type": "display_data"
    }
   ],
   "source": [
    "#Check the variance:\n",
    "display(data_new.query('platform == \"XOne\"').user_score.var())\n",
    "display(data_new.query('platform == \"PC\"').user_score.var())\n"
   ]
  },
  {
   "cell_type": "markdown",
   "metadata": {},
   "source": [
    "We see that the variance is slightly different, but the varince is much different, so we can't assume equal means in this case, so equal_var will be set to False."
   ]
  },
  {
   "cell_type": "code",
   "execution_count": 66,
   "metadata": {},
   "outputs": [
    {
     "name": "stdout",
     "output_type": "stream",
     "text": [
      "p-value: 0.048972348940764486\n",
      "We reject the null hypohesis\n"
     ]
    }
   ],
   "source": [
    "results = st.ttest_ind(data_new.query('platform == \"XOne\"').user_score.dropna(), \n",
    "                      data_new.query('platform == \"PC\"').user_score.dropna(), \n",
    "                      equal_var=False)\n",
    "alpha = 0.05\n",
    "print('p-value:', results.pvalue)\n",
    "\n",
    "if results.pvalue < alpha:\n",
    "    print('We reject the null hypohesis')\n",
    "else:\n",
    "    print('We fail to reject the null hypothesis')"
   ]
  },
  {
   "cell_type": "markdown",
   "metadata": {},
   "source": [
    "We used t test assuming that the variances of the populations from which different samples were drawn(XBox One and PC) are not equal.\n",
    "The p-value is smaller than the alpha, and we reject the null hypothesis, meaning that the average user score in XBox One platform is signifintluy differnt than the user score in PC platform."
   ]
  },
  {
   "cell_type": "markdown",
   "metadata": {},
   "source": [
    "## Action Vs. Sports"
   ]
  },
  {
   "cell_type": "markdown",
   "metadata": {},
   "source": [
    "Formulating the H0 and H1 hypotheses.\n",
    "\n",
    "H0 = the mean user score of Action genre is equal to the mean user score of Sports genre\n",
    "\n",
    "H1 = the mean user score of Action genre is NOT equal to the mean user score of Sports genre\n",
    "\n",
    "critical statistical significance level(alpha) = 0.05"
   ]
  },
  {
   "cell_type": "code",
   "execution_count": 67,
   "metadata": {},
   "outputs": [
    {
     "data": {
      "text/html": [
       "<div>\n",
       "<style scoped>\n",
       "    .dataframe tbody tr th:only-of-type {\n",
       "        vertical-align: middle;\n",
       "    }\n",
       "\n",
       "    .dataframe tbody tr th {\n",
       "        vertical-align: top;\n",
       "    }\n",
       "\n",
       "    .dataframe thead th {\n",
       "        text-align: right;\n",
       "    }\n",
       "</style>\n",
       "<table border=\"1\" class=\"dataframe\">\n",
       "  <thead>\n",
       "    <tr style=\"text-align: right;\">\n",
       "      <th></th>\n",
       "      <th>count</th>\n",
       "      <th>mean</th>\n",
       "      <th>std</th>\n",
       "      <th>min</th>\n",
       "      <th>25%</th>\n",
       "      <th>50%</th>\n",
       "      <th>75%</th>\n",
       "      <th>max</th>\n",
       "    </tr>\n",
       "    <tr>\n",
       "      <th>genre</th>\n",
       "      <th></th>\n",
       "      <th></th>\n",
       "      <th></th>\n",
       "      <th></th>\n",
       "      <th></th>\n",
       "      <th></th>\n",
       "      <th></th>\n",
       "      <th></th>\n",
       "    </tr>\n",
       "  </thead>\n",
       "  <tbody>\n",
       "    <tr>\n",
       "      <th>Action</th>\n",
       "      <td>769.0</td>\n",
       "      <td>71.622887</td>\n",
       "      <td>10.045640</td>\n",
       "      <td>20.0</td>\n",
       "      <td>71.0</td>\n",
       "      <td>75.0</td>\n",
       "      <td>75.0</td>\n",
       "      <td>91.0</td>\n",
       "    </tr>\n",
       "    <tr>\n",
       "      <th>Sports</th>\n",
       "      <td>214.0</td>\n",
       "      <td>58.088785</td>\n",
       "      <td>18.286622</td>\n",
       "      <td>2.0</td>\n",
       "      <td>44.0</td>\n",
       "      <td>61.5</td>\n",
       "      <td>75.0</td>\n",
       "      <td>88.0</td>\n",
       "    </tr>\n",
       "  </tbody>\n",
       "</table>\n",
       "</div>"
      ],
      "text/plain": [
       "        count       mean        std   min   25%   50%   75%   max\n",
       "genre                                                            \n",
       "Action  769.0  71.622887  10.045640  20.0  71.0  75.0  75.0  91.0\n",
       "Sports  214.0  58.088785  18.286622   2.0  44.0  61.5  75.0  88.0"
      ]
     },
     "execution_count": 67,
     "metadata": {},
     "output_type": "execute_result"
    }
   ],
   "source": [
    "#check the mean of both populations:\n",
    "data_new.groupby('genre').user_score.describe().loc[['Action', 'Sports']]"
   ]
  },
  {
   "cell_type": "code",
   "execution_count": 68,
   "metadata": {},
   "outputs": [
    {
     "data": {
      "text/plain": [
       "100.91489217598654"
      ]
     },
     "metadata": {},
     "output_type": "display_data"
    },
    {
     "data": {
      "text/plain": [
       "334.4005309113248"
      ]
     },
     "metadata": {},
     "output_type": "display_data"
    }
   ],
   "source": [
    "display(data_new.query('genre == \"Action\"').user_score.var())\n",
    "display(data_new.query('genre == \"Sports\"').user_score.var())"
   ]
  },
  {
   "cell_type": "markdown",
   "metadata": {},
   "source": [
    "We see that the mean and the variance is different, so we can't assume equal means in this case as well, so equal_var will be set to False."
   ]
  },
  {
   "cell_type": "code",
   "execution_count": 69,
   "metadata": {},
   "outputs": [
    {
     "name": "stdout",
     "output_type": "stream",
     "text": [
      "p-value: 2.801130120250549e-21\n",
      "We reject the null hypohesis\n"
     ]
    }
   ],
   "source": [
    "results_2 = st.ttest_ind(data_new.query('genre == \"Action\"').user_score.dropna(), \n",
    "                      data_new.query('genre == \"Sports\"').user_score.dropna(), \n",
    "                      equal_var=False)\n",
    "alpha = 0.05\n",
    "print('p-value:', results_2.pvalue)\n",
    "\n",
    "if results_2.pvalue < alpha:\n",
    "    print('We reject the null hypohesis')\n",
    "else:\n",
    "    print('We fail to reject the null hypothesis')"
   ]
  },
  {
   "cell_type": "markdown",
   "metadata": {},
   "source": [
    "The p-value is not higher than the alpha, and we reject the null hypothesis, meaning that the average user score in action games  is signifintluy differnt than the user score in sports games."
   ]
  },
  {
   "cell_type": "markdown",
   "metadata": {},
   "source": [
    "# Conclusion"
   ]
  },
  {
   "cell_type": "markdown",
   "metadata": {},
   "source": [
    "The Project's goal was to examine yearly video games sales and determine if the game succeeds or not. The results of the analysis should help plan future advertising campaigns, and increase the revenue from video games sales.\n",
    "\n",
    "The data contains information on 11426 games, from 1980 to 2016, and their sales and rating info from 4 different regions(North America, Europe, Japan, and other countries). Data preprocessing was made by replacing or removing missing values and errors according to the best possible method.\n",
    "\n",
    "Data were categorized, as most of the games in our data were released in the last 10 years, we decided to focus our analysis on games released between 2013-2016. We focused on the potentially profitable platforms which are PS4, PS3, DS, X360 and Wii.\n",
    "\n",
    "After analyzing the data we found some insights about the given information:\n",
    "1. Platforms don't stay at the top for too long, for most of the platforms, it takes between 5-10 years to appear and fade.\n",
    "2. We examined the effect of users and critics score on sales, and found that critics score affect total sales more than users score. \n",
    "3. After comparing the sales of games on different platforms, we see that sales vary a lot between platforms.\n",
    "4. The most profitable genres are Action, Sports, and shooters.\n",
    "\n",
    "For further analysis, we created a user profile for each region and discovered big differences between the regions, While in NA and EU the most popular genres are Action, Shooters, and sports, in Japan the most popular genre is Role-playing. \n",
    "We also examined ESRB ratings and how they affect sales in individual regions and found that the main group of audience is mature.\n",
    "\n",
    "Statistical data analysis was formulated by checking the hypothesis on the equality of two population means, 0.05 used as the critical statistical significance level.\n",
    "The hypothesis was tested and we couldn't confirm that the average user scores of the Xbox One platform and the PC platforms are the same.\n",
    "We also tested another hypothesis and checked if the average user score of Action genre is equal to the average user score of Sports genre, we could not confirm it as well.\n",
    "\n",
    "\n",
    "Main findings:\n",
    "\n",
    "1. As players will trust critics score more than users score when deciding if to buy a game or not, it's better to invest in promoting critics score rather than user score.\n",
    "2. There is a great difference between NA and EU to Japan, as it seems like a very different market with different culture of gaming. We would recommend designing unique campaigns for platforms popular in Japan like the 3DS, and for games in specific genres popular in Japan like Role-playing.\n",
    "3. Hypothesis tested and we couldn't confirm that the average user scores of the Xbox One platform and the PC platforms are the same, we also couldn't confirm that the average user scores in the Action genre and Sports genre are the same."
   ]
  }
 ],
 "metadata": {
  "ExecuteTimeLog": [
   {
    "duration": 863,
    "start_time": "2021-07-12T09:31:08.628Z"
   },
   {
    "duration": 96,
    "start_time": "2021-07-12T09:31:14.169Z"
   },
   {
    "duration": 3,
    "start_time": "2021-07-12T09:33:38.843Z"
   },
   {
    "duration": 95,
    "start_time": "2021-07-12T09:41:33.824Z"
   },
   {
    "duration": 98,
    "start_time": "2021-07-12T09:41:42.277Z"
   },
   {
    "duration": 110,
    "start_time": "2021-07-12T09:42:15.752Z"
   },
   {
    "duration": 380,
    "start_time": "2021-07-12T09:45:30.917Z"
   },
   {
    "duration": 11,
    "start_time": "2021-07-12T09:45:54.879Z"
   },
   {
    "duration": 245,
    "start_time": "2021-07-12T09:47:12.927Z"
   },
   {
    "duration": 279,
    "start_time": "2021-07-12T09:47:20.558Z"
   },
   {
    "duration": 10,
    "start_time": "2021-07-12T09:47:45.818Z"
   },
   {
    "duration": 11,
    "start_time": "2021-07-12T09:50:42.037Z"
   },
   {
    "duration": 21,
    "start_time": "2021-07-12T09:50:58.787Z"
   },
   {
    "duration": 11,
    "start_time": "2021-07-12T09:52:32.581Z"
   },
   {
    "duration": 12,
    "start_time": "2021-07-12T09:52:56.390Z"
   },
   {
    "duration": 15,
    "start_time": "2021-07-12T09:54:15.918Z"
   },
   {
    "duration": 14,
    "start_time": "2021-07-12T09:57:06.363Z"
   },
   {
    "duration": 282,
    "start_time": "2021-07-12T09:58:18.854Z"
   },
   {
    "duration": 17,
    "start_time": "2021-07-12T09:58:23.314Z"
   },
   {
    "duration": 18,
    "start_time": "2021-07-12T09:58:28.186Z"
   },
   {
    "duration": 19,
    "start_time": "2021-07-12T09:59:02.358Z"
   },
   {
    "duration": 16,
    "start_time": "2021-07-12T10:00:52.519Z"
   },
   {
    "duration": 16,
    "start_time": "2021-07-12T10:07:58.944Z"
   },
   {
    "duration": 14,
    "start_time": "2021-07-12T10:11:05.082Z"
   },
   {
    "duration": 16,
    "start_time": "2021-07-12T10:11:06.031Z"
   },
   {
    "duration": 12,
    "start_time": "2021-07-12T10:11:43.130Z"
   },
   {
    "duration": 11,
    "start_time": "2021-07-12T10:11:43.872Z"
   },
   {
    "duration": 10,
    "start_time": "2021-07-12T10:11:44.985Z"
   },
   {
    "duration": 13,
    "start_time": "2021-07-12T10:12:47.105Z"
   },
   {
    "duration": 17,
    "start_time": "2021-07-12T10:18:16.587Z"
   },
   {
    "duration": 13,
    "start_time": "2021-07-12T10:18:33.037Z"
   },
   {
    "duration": 17,
    "start_time": "2021-07-12T10:21:39.819Z"
   },
   {
    "duration": 11,
    "start_time": "2021-07-12T10:22:42.158Z"
   },
   {
    "duration": 13,
    "start_time": "2021-07-12T10:22:42.493Z"
   },
   {
    "duration": 18,
    "start_time": "2021-07-12T10:32:43.031Z"
   },
   {
    "duration": 275,
    "start_time": "2021-07-12T10:33:30.513Z"
   },
   {
    "duration": 303,
    "start_time": "2021-07-12T10:33:51.212Z"
   },
   {
    "duration": 1848,
    "start_time": "2021-07-12T10:42:37.793Z"
   },
   {
    "duration": 1840,
    "start_time": "2021-07-12T10:42:37.803Z"
   },
   {
    "duration": 1839,
    "start_time": "2021-07-12T10:42:37.805Z"
   },
   {
    "duration": 1732,
    "start_time": "2021-07-12T10:42:37.913Z"
   },
   {
    "duration": 1724,
    "start_time": "2021-07-12T10:42:37.923Z"
   },
   {
    "duration": 1722,
    "start_time": "2021-07-12T10:42:37.926Z"
   },
   {
    "duration": 1721,
    "start_time": "2021-07-12T10:42:37.928Z"
   },
   {
    "duration": 6267,
    "start_time": "2021-07-12T10:42:39.714Z"
   },
   {
    "duration": 1852,
    "start_time": "2021-07-12T10:42:44.131Z"
   },
   {
    "duration": 1849,
    "start_time": "2021-07-12T10:42:44.135Z"
   },
   {
    "duration": 1809,
    "start_time": "2021-07-12T10:42:44.177Z"
   },
   {
    "duration": 1808,
    "start_time": "2021-07-12T10:42:44.179Z"
   },
   {
    "duration": 6863,
    "start_time": "2021-07-12T10:43:05.716Z"
   },
   {
    "duration": 1855,
    "start_time": "2021-07-12T10:43:10.727Z"
   },
   {
    "duration": 1851,
    "start_time": "2021-07-12T10:43:10.732Z"
   },
   {
    "duration": 1851,
    "start_time": "2021-07-12T10:43:10.734Z"
   },
   {
    "duration": 1847,
    "start_time": "2021-07-12T10:43:10.739Z"
   },
   {
    "duration": 6380,
    "start_time": "2021-07-12T10:43:18.043Z"
   },
   {
    "duration": 6152,
    "start_time": "2021-07-12T10:43:33.019Z"
   },
   {
    "duration": 1848,
    "start_time": "2021-07-12T10:43:37.326Z"
   },
   {
    "duration": 6224,
    "start_time": "2021-07-12T10:43:39.755Z"
   },
   {
    "duration": 1854,
    "start_time": "2021-07-12T10:43:44.128Z"
   },
   {
    "duration": 1850,
    "start_time": "2021-07-12T10:43:44.134Z"
   },
   {
    "duration": 1847,
    "start_time": "2021-07-12T10:43:44.138Z"
   },
   {
    "duration": 1847,
    "start_time": "2021-07-12T10:43:44.139Z"
   },
   {
    "duration": 1846,
    "start_time": "2021-07-12T10:43:44.142Z"
   },
   {
    "duration": 1846,
    "start_time": "2021-07-12T10:43:44.143Z"
   },
   {
    "duration": 108,
    "start_time": "2021-07-12T10:43:52.886Z"
   },
   {
    "duration": 12,
    "start_time": "2021-07-12T10:43:56.084Z"
   },
   {
    "duration": 15,
    "start_time": "2021-07-12T10:43:56.764Z"
   },
   {
    "duration": 13,
    "start_time": "2021-07-12T10:43:57.461Z"
   },
   {
    "duration": 16,
    "start_time": "2021-07-12T10:43:58.188Z"
   },
   {
    "duration": 13,
    "start_time": "2021-07-12T10:43:58.740Z"
   },
   {
    "duration": 12,
    "start_time": "2021-07-12T10:43:59.291Z"
   },
   {
    "duration": 12,
    "start_time": "2021-07-12T10:43:59.828Z"
   },
   {
    "duration": 12,
    "start_time": "2021-07-12T10:44:00.412Z"
   },
   {
    "duration": 11,
    "start_time": "2021-07-12T10:44:01.054Z"
   },
   {
    "duration": 13,
    "start_time": "2021-07-12T10:44:01.476Z"
   },
   {
    "duration": 17,
    "start_time": "2021-07-12T10:44:01.907Z"
   },
   {
    "duration": 6191,
    "start_time": "2021-07-12T13:39:17.537Z"
   },
   {
    "duration": 113,
    "start_time": "2021-07-12T13:39:49.283Z"
   },
   {
    "duration": 13,
    "start_time": "2021-07-12T13:39:50.825Z"
   },
   {
    "duration": 16,
    "start_time": "2021-07-12T13:39:51.586Z"
   },
   {
    "duration": 14,
    "start_time": "2021-07-12T13:39:52.242Z"
   },
   {
    "duration": 16,
    "start_time": "2021-07-12T13:39:52.724Z"
   },
   {
    "duration": 11,
    "start_time": "2021-07-12T13:39:53.234Z"
   },
   {
    "duration": 12,
    "start_time": "2021-07-12T13:39:53.815Z"
   },
   {
    "duration": 11,
    "start_time": "2021-07-12T13:39:54.307Z"
   },
   {
    "duration": 11,
    "start_time": "2021-07-12T13:39:54.771Z"
   },
   {
    "duration": 11,
    "start_time": "2021-07-12T13:39:55.250Z"
   },
   {
    "duration": 13,
    "start_time": "2021-07-12T13:39:55.717Z"
   },
   {
    "duration": 17,
    "start_time": "2021-07-12T13:39:56.202Z"
   },
   {
    "duration": 18,
    "start_time": "2021-07-12T13:39:58.180Z"
   },
   {
    "duration": 8,
    "start_time": "2021-07-12T13:39:59.591Z"
   },
   {
    "duration": 6,
    "start_time": "2021-07-12T13:40:04.730Z"
   },
   {
    "duration": 296,
    "start_time": "2021-07-12T13:40:07.882Z"
   },
   {
    "duration": 36,
    "start_time": "2021-07-12T13:40:21.260Z"
   },
   {
    "duration": 37,
    "start_time": "2021-07-12T13:42:40.293Z"
   },
   {
    "duration": 275,
    "start_time": "2021-07-12T13:48:30.355Z"
   },
   {
    "duration": 255,
    "start_time": "2021-07-12T13:49:36.269Z"
   },
   {
    "duration": 111,
    "start_time": "2021-07-12T13:57:08.705Z"
   },
   {
    "duration": 13,
    "start_time": "2021-07-12T13:57:10.114Z"
   },
   {
    "duration": 16,
    "start_time": "2021-07-12T13:57:11.266Z"
   },
   {
    "duration": 13,
    "start_time": "2021-07-12T13:57:12.021Z"
   },
   {
    "duration": 16,
    "start_time": "2021-07-12T13:57:12.605Z"
   },
   {
    "duration": 12,
    "start_time": "2021-07-12T13:57:13.106Z"
   },
   {
    "duration": 11,
    "start_time": "2021-07-12T13:57:16.927Z"
   },
   {
    "duration": 11,
    "start_time": "2021-07-12T13:57:17.634Z"
   },
   {
    "duration": 11,
    "start_time": "2021-07-12T13:57:18.442Z"
   },
   {
    "duration": 12,
    "start_time": "2021-07-12T13:57:19.049Z"
   },
   {
    "duration": 12,
    "start_time": "2021-07-12T13:57:19.603Z"
   },
   {
    "duration": 17,
    "start_time": "2021-07-12T13:57:20.140Z"
   },
   {
    "duration": 19,
    "start_time": "2021-07-12T13:57:22.602Z"
   },
   {
    "duration": 8,
    "start_time": "2021-07-12T13:57:25.409Z"
   },
   {
    "duration": 7,
    "start_time": "2021-07-12T13:57:27.061Z"
   },
   {
    "duration": 38,
    "start_time": "2021-07-12T13:57:28.323Z"
   },
   {
    "duration": 299,
    "start_time": "2021-07-12T13:57:30.646Z"
   },
   {
    "duration": 285,
    "start_time": "2021-07-12T13:58:34.300Z"
   },
   {
    "duration": 8,
    "start_time": "2021-07-12T13:58:46.180Z"
   },
   {
    "duration": 1042,
    "start_time": "2021-07-12T13:59:59.690Z"
   },
   {
    "duration": 120,
    "start_time": "2021-07-12T14:02:22.242Z"
   },
   {
    "duration": 12,
    "start_time": "2021-07-12T14:02:23.272Z"
   },
   {
    "duration": 15,
    "start_time": "2021-07-12T14:02:24.067Z"
   },
   {
    "duration": 15,
    "start_time": "2021-07-12T14:02:24.536Z"
   },
   {
    "duration": 18,
    "start_time": "2021-07-12T14:02:24.952Z"
   },
   {
    "duration": 11,
    "start_time": "2021-07-12T14:02:25.378Z"
   },
   {
    "duration": 12,
    "start_time": "2021-07-12T14:02:25.768Z"
   },
   {
    "duration": 11,
    "start_time": "2021-07-12T14:02:26.208Z"
   },
   {
    "duration": 11,
    "start_time": "2021-07-12T14:02:26.599Z"
   },
   {
    "duration": 11,
    "start_time": "2021-07-12T14:02:27.040Z"
   },
   {
    "duration": 13,
    "start_time": "2021-07-12T14:02:27.447Z"
   },
   {
    "duration": 15,
    "start_time": "2021-07-12T14:02:27.889Z"
   },
   {
    "duration": 18,
    "start_time": "2021-07-12T14:02:29.184Z"
   },
   {
    "duration": 9,
    "start_time": "2021-07-12T14:02:30.200Z"
   },
   {
    "duration": 7,
    "start_time": "2021-07-12T14:02:31.850Z"
   },
   {
    "duration": 38,
    "start_time": "2021-07-12T14:02:33.592Z"
   },
   {
    "duration": 266,
    "start_time": "2021-07-12T14:02:38.297Z"
   },
   {
    "duration": 284,
    "start_time": "2021-07-12T14:02:45.361Z"
   },
   {
    "duration": 1034,
    "start_time": "2021-07-12T14:03:41.307Z"
   },
   {
    "duration": 115,
    "start_time": "2021-07-12T14:07:35.811Z"
   },
   {
    "duration": 15,
    "start_time": "2021-07-12T14:07:36.765Z"
   },
   {
    "duration": 15,
    "start_time": "2021-07-12T14:07:37.375Z"
   },
   {
    "duration": 15,
    "start_time": "2021-07-12T14:07:37.901Z"
   },
   {
    "duration": 17,
    "start_time": "2021-07-12T14:07:38.389Z"
   },
   {
    "duration": 12,
    "start_time": "2021-07-12T14:07:38.925Z"
   },
   {
    "duration": 11,
    "start_time": "2021-07-12T14:07:39.421Z"
   },
   {
    "duration": 11,
    "start_time": "2021-07-12T14:07:39.823Z"
   },
   {
    "duration": 11,
    "start_time": "2021-07-12T14:07:40.263Z"
   },
   {
    "duration": 12,
    "start_time": "2021-07-12T14:07:40.671Z"
   },
   {
    "duration": 15,
    "start_time": "2021-07-12T14:07:41.174Z"
   },
   {
    "duration": 19,
    "start_time": "2021-07-12T14:07:41.604Z"
   },
   {
    "duration": 19,
    "start_time": "2021-07-12T14:07:42.972Z"
   },
   {
    "duration": 8,
    "start_time": "2021-07-12T14:07:43.869Z"
   },
   {
    "duration": 8,
    "start_time": "2021-07-12T14:07:44.695Z"
   },
   {
    "duration": 39,
    "start_time": "2021-07-12T14:07:45.533Z"
   },
   {
    "duration": 252,
    "start_time": "2021-07-12T14:07:46.524Z"
   },
   {
    "duration": 990,
    "start_time": "2021-07-12T14:07:46.966Z"
   },
   {
    "duration": 34,
    "start_time": "2021-07-12T14:07:57.998Z"
   },
   {
    "duration": 122,
    "start_time": "2021-07-12T14:09:20.248Z"
   },
   {
    "duration": 13,
    "start_time": "2021-07-12T14:09:20.879Z"
   },
   {
    "duration": 15,
    "start_time": "2021-07-12T14:09:21.266Z"
   },
   {
    "duration": 14,
    "start_time": "2021-07-12T14:09:21.688Z"
   },
   {
    "duration": 17,
    "start_time": "2021-07-12T14:09:22.063Z"
   },
   {
    "duration": 12,
    "start_time": "2021-07-12T14:09:22.399Z"
   },
   {
    "duration": 12,
    "start_time": "2021-07-12T14:09:22.751Z"
   },
   {
    "duration": 11,
    "start_time": "2021-07-12T14:09:23.078Z"
   },
   {
    "duration": 11,
    "start_time": "2021-07-12T14:09:23.422Z"
   },
   {
    "duration": 11,
    "start_time": "2021-07-12T14:09:23.782Z"
   },
   {
    "duration": 16,
    "start_time": "2021-07-12T14:09:24.151Z"
   },
   {
    "duration": 19,
    "start_time": "2021-07-12T14:09:24.519Z"
   },
   {
    "duration": 18,
    "start_time": "2021-07-12T14:09:25.925Z"
   },
   {
    "duration": 10,
    "start_time": "2021-07-12T14:09:40.880Z"
   },
   {
    "duration": 7,
    "start_time": "2021-07-12T14:09:46.656Z"
   },
   {
    "duration": 37,
    "start_time": "2021-07-12T14:09:48.497Z"
   },
   {
    "duration": 11,
    "start_time": "2021-07-12T14:09:54.959Z"
   },
   {
    "duration": 23,
    "start_time": "2021-07-12T14:10:28.528Z"
   },
   {
    "duration": 112,
    "start_time": "2021-07-12T14:11:25.893Z"
   },
   {
    "duration": 6066,
    "start_time": "2021-07-12T14:12:31.347Z"
   },
   {
    "duration": 132,
    "start_time": "2021-07-12T14:13:51.973Z"
   },
   {
    "duration": 18,
    "start_time": "2021-07-12T14:13:52.468Z"
   },
   {
    "duration": 16,
    "start_time": "2021-07-12T14:13:52.989Z"
   },
   {
    "duration": 14,
    "start_time": "2021-07-12T14:13:53.346Z"
   },
   {
    "duration": 16,
    "start_time": "2021-07-12T14:13:53.693Z"
   },
   {
    "duration": 12,
    "start_time": "2021-07-12T14:13:54.060Z"
   },
   {
    "duration": 15,
    "start_time": "2021-07-12T14:13:54.436Z"
   },
   {
    "duration": 11,
    "start_time": "2021-07-12T14:13:54.758Z"
   },
   {
    "duration": 12,
    "start_time": "2021-07-12T14:13:55.092Z"
   },
   {
    "duration": 12,
    "start_time": "2021-07-12T14:13:55.428Z"
   },
   {
    "duration": 14,
    "start_time": "2021-07-12T14:13:55.771Z"
   },
   {
    "duration": 22,
    "start_time": "2021-07-12T14:13:56.124Z"
   },
   {
    "duration": 25,
    "start_time": "2021-07-12T14:13:57.195Z"
   },
   {
    "duration": 13,
    "start_time": "2021-07-12T14:13:57.932Z"
   },
   {
    "duration": 8,
    "start_time": "2021-07-12T14:13:58.660Z"
   },
   {
    "duration": 38,
    "start_time": "2021-07-12T14:13:59.356Z"
   },
   {
    "duration": 21,
    "start_time": "2021-07-12T14:14:00.151Z"
   },
   {
    "duration": 1047,
    "start_time": "2021-07-12T14:14:00.507Z"
   },
   {
    "duration": 1066,
    "start_time": "2021-07-12T14:14:14.229Z"
   },
   {
    "duration": 1379,
    "start_time": "2021-07-12T14:15:06.741Z"
   },
   {
    "duration": 114,
    "start_time": "2021-07-12T14:15:37.444Z"
   },
   {
    "duration": 12,
    "start_time": "2021-07-12T14:15:41.382Z"
   },
   {
    "duration": 15,
    "start_time": "2021-07-12T14:15:42.000Z"
   },
   {
    "duration": 15,
    "start_time": "2021-07-12T14:15:42.477Z"
   },
   {
    "duration": 24,
    "start_time": "2021-07-12T14:15:42.887Z"
   },
   {
    "duration": 15,
    "start_time": "2021-07-12T14:15:43.310Z"
   },
   {
    "duration": 12,
    "start_time": "2021-07-12T14:15:43.741Z"
   },
   {
    "duration": 11,
    "start_time": "2021-07-12T14:15:44.221Z"
   },
   {
    "duration": 11,
    "start_time": "2021-07-12T14:15:44.701Z"
   },
   {
    "duration": 14,
    "start_time": "2021-07-12T14:15:45.189Z"
   },
   {
    "duration": 15,
    "start_time": "2021-07-12T14:15:45.620Z"
   },
   {
    "duration": 23,
    "start_time": "2021-07-12T14:15:46.081Z"
   },
   {
    "duration": 25,
    "start_time": "2021-07-12T14:15:47.396Z"
   },
   {
    "duration": 10,
    "start_time": "2021-07-12T14:15:48.341Z"
   },
   {
    "duration": 7,
    "start_time": "2021-07-12T14:15:49.253Z"
   },
   {
    "duration": 44,
    "start_time": "2021-07-12T14:15:50.101Z"
   },
   {
    "duration": 1057,
    "start_time": "2021-07-12T14:15:51.040Z"
   },
   {
    "duration": 1029,
    "start_time": "2021-07-12T14:16:06.833Z"
   },
   {
    "duration": 112,
    "start_time": "2021-07-12T14:16:20.663Z"
   },
   {
    "duration": 12,
    "start_time": "2021-07-12T14:16:21.070Z"
   },
   {
    "duration": 15,
    "start_time": "2021-07-12T14:16:21.526Z"
   },
   {
    "duration": 18,
    "start_time": "2021-07-12T14:16:21.870Z"
   },
   {
    "duration": 22,
    "start_time": "2021-07-12T14:16:22.216Z"
   },
   {
    "duration": 11,
    "start_time": "2021-07-12T14:16:22.590Z"
   },
   {
    "duration": 11,
    "start_time": "2021-07-12T14:16:22.958Z"
   },
   {
    "duration": 12,
    "start_time": "2021-07-12T14:16:23.318Z"
   },
   {
    "duration": 14,
    "start_time": "2021-07-12T14:16:23.629Z"
   },
   {
    "duration": 13,
    "start_time": "2021-07-12T14:16:23.950Z"
   },
   {
    "duration": 12,
    "start_time": "2021-07-12T14:16:24.294Z"
   },
   {
    "duration": 16,
    "start_time": "2021-07-12T14:16:24.648Z"
   },
   {
    "duration": 19,
    "start_time": "2021-07-12T14:16:25.717Z"
   },
   {
    "duration": 10,
    "start_time": "2021-07-12T14:16:26.462Z"
   },
   {
    "duration": 7,
    "start_time": "2021-07-12T14:16:27.229Z"
   },
   {
    "duration": 40,
    "start_time": "2021-07-12T14:16:27.982Z"
   },
   {
    "duration": 1066,
    "start_time": "2021-07-12T14:16:29.199Z"
   },
   {
    "duration": 21,
    "start_time": "2021-07-12T14:17:01.104Z"
   },
   {
    "duration": 24,
    "start_time": "2021-07-12T14:17:27.132Z"
   },
   {
    "duration": 27,
    "start_time": "2021-07-12T14:17:45.825Z"
   },
   {
    "duration": 286,
    "start_time": "2021-07-12T14:21:06.172Z"
   },
   {
    "duration": 295,
    "start_time": "2021-07-12T14:22:40.189Z"
   },
   {
    "duration": 116,
    "start_time": "2021-07-12T14:22:58.095Z"
   },
   {
    "duration": 13,
    "start_time": "2021-07-12T14:22:59.535Z"
   },
   {
    "duration": 16,
    "start_time": "2021-07-12T14:23:00.179Z"
   },
   {
    "duration": 14,
    "start_time": "2021-07-12T14:23:00.719Z"
   },
   {
    "duration": 16,
    "start_time": "2021-07-12T14:23:01.287Z"
   },
   {
    "duration": 12,
    "start_time": "2021-07-12T14:23:01.676Z"
   },
   {
    "duration": 12,
    "start_time": "2021-07-12T14:23:02.060Z"
   },
   {
    "duration": 11,
    "start_time": "2021-07-12T14:23:02.549Z"
   },
   {
    "duration": 11,
    "start_time": "2021-07-12T14:23:02.926Z"
   },
   {
    "duration": 11,
    "start_time": "2021-07-12T14:23:03.325Z"
   },
   {
    "duration": 13,
    "start_time": "2021-07-12T14:23:03.764Z"
   },
   {
    "duration": 17,
    "start_time": "2021-07-12T14:23:04.189Z"
   },
   {
    "duration": 20,
    "start_time": "2021-07-12T14:23:05.627Z"
   },
   {
    "duration": 251,
    "start_time": "2021-07-12T14:23:07.044Z"
   },
   {
    "duration": 114,
    "start_time": "2021-07-12T14:23:35.742Z"
   },
   {
    "duration": 13,
    "start_time": "2021-07-12T14:23:36.091Z"
   },
   {
    "duration": 15,
    "start_time": "2021-07-12T14:23:36.406Z"
   },
   {
    "duration": 13,
    "start_time": "2021-07-12T14:23:36.726Z"
   },
   {
    "duration": 17,
    "start_time": "2021-07-12T14:23:37.029Z"
   },
   {
    "duration": 12,
    "start_time": "2021-07-12T14:23:37.382Z"
   },
   {
    "duration": 14,
    "start_time": "2021-07-12T14:23:37.717Z"
   },
   {
    "duration": 12,
    "start_time": "2021-07-12T14:23:38.037Z"
   },
   {
    "duration": 11,
    "start_time": "2021-07-12T14:23:38.390Z"
   },
   {
    "duration": 11,
    "start_time": "2021-07-12T14:23:38.734Z"
   },
   {
    "duration": 13,
    "start_time": "2021-07-12T14:23:39.070Z"
   },
   {
    "duration": 19,
    "start_time": "2021-07-12T14:23:39.423Z"
   },
   {
    "duration": 18,
    "start_time": "2021-07-12T14:23:40.510Z"
   },
   {
    "duration": 262,
    "start_time": "2021-07-12T14:23:43.734Z"
   },
   {
    "duration": 112,
    "start_time": "2021-07-12T14:24:53.569Z"
   },
   {
    "duration": 13,
    "start_time": "2021-07-12T14:24:53.926Z"
   },
   {
    "duration": 16,
    "start_time": "2021-07-12T14:24:54.215Z"
   },
   {
    "duration": 14,
    "start_time": "2021-07-12T14:24:54.551Z"
   },
   {
    "duration": 17,
    "start_time": "2021-07-12T14:24:54.883Z"
   },
   {
    "duration": 12,
    "start_time": "2021-07-12T14:24:55.206Z"
   },
   {
    "duration": 11,
    "start_time": "2021-07-12T14:24:55.551Z"
   },
   {
    "duration": 11,
    "start_time": "2021-07-12T14:24:55.920Z"
   },
   {
    "duration": 11,
    "start_time": "2021-07-12T14:24:56.239Z"
   },
   {
    "duration": 12,
    "start_time": "2021-07-12T14:24:56.582Z"
   },
   {
    "duration": 13,
    "start_time": "2021-07-12T14:24:56.918Z"
   },
   {
    "duration": 16,
    "start_time": "2021-07-12T14:24:57.274Z"
   },
   {
    "duration": 17,
    "start_time": "2021-07-12T14:24:58.286Z"
   },
   {
    "duration": 22,
    "start_time": "2021-07-12T14:24:58.958Z"
   },
   {
    "duration": 22,
    "start_time": "2021-07-12T14:25:17.390Z"
   },
   {
    "duration": 6,
    "start_time": "2021-07-12T14:25:46.403Z"
   },
   {
    "duration": 39,
    "start_time": "2021-07-12T14:25:54.833Z"
   },
   {
    "duration": 21,
    "start_time": "2021-07-12T14:26:35.914Z"
   },
   {
    "duration": 975,
    "start_time": "2021-07-12T14:27:41.489Z"
   },
   {
    "duration": 1349,
    "start_time": "2021-07-12T14:30:04.845Z"
   },
   {
    "duration": 290,
    "start_time": "2021-07-12T14:30:15.485Z"
   },
   {
    "duration": 60,
    "start_time": "2021-07-12T14:32:55.752Z"
   },
   {
    "duration": 330,
    "start_time": "2021-07-12T14:33:04.382Z"
   },
   {
    "duration": 395,
    "start_time": "2021-07-12T14:33:21.191Z"
   },
   {
    "duration": 6476,
    "start_time": "2021-07-12T14:33:51.720Z"
   },
   {
    "duration": 14,
    "start_time": "2021-07-12T14:34:13.480Z"
   },
   {
    "duration": 642,
    "start_time": "2021-07-12T14:40:18.848Z"
   },
   {
    "duration": 110,
    "start_time": "2021-07-12T14:40:46.518Z"
   },
   {
    "duration": 12,
    "start_time": "2021-07-12T14:40:46.853Z"
   },
   {
    "duration": 15,
    "start_time": "2021-07-12T14:40:47.190Z"
   },
   {
    "duration": 15,
    "start_time": "2021-07-12T14:40:47.503Z"
   },
   {
    "duration": 19,
    "start_time": "2021-07-12T14:40:47.842Z"
   },
   {
    "duration": 11,
    "start_time": "2021-07-12T14:40:48.149Z"
   },
   {
    "duration": 14,
    "start_time": "2021-07-12T14:40:48.463Z"
   },
   {
    "duration": 13,
    "start_time": "2021-07-12T14:40:48.766Z"
   },
   {
    "duration": 12,
    "start_time": "2021-07-12T14:40:49.070Z"
   },
   {
    "duration": 13,
    "start_time": "2021-07-12T14:40:49.424Z"
   },
   {
    "duration": 13,
    "start_time": "2021-07-12T14:40:49.740Z"
   },
   {
    "duration": 17,
    "start_time": "2021-07-12T14:40:50.063Z"
   },
   {
    "duration": 20,
    "start_time": "2021-07-12T14:40:50.877Z"
   },
   {
    "duration": 23,
    "start_time": "2021-07-12T14:40:51.501Z"
   },
   {
    "duration": 7,
    "start_time": "2021-07-12T14:40:52.056Z"
   },
   {
    "duration": 40,
    "start_time": "2021-07-12T14:40:52.764Z"
   },
   {
    "duration": 15,
    "start_time": "2021-07-12T14:40:53.389Z"
   },
   {
    "duration": 1054,
    "start_time": "2021-07-12T14:40:53.727Z"
   },
   {
    "duration": 47,
    "start_time": "2021-07-12T14:41:31.065Z"
   },
   {
    "duration": 295,
    "start_time": "2021-07-12T14:41:51.415Z"
   },
   {
    "duration": 261,
    "start_time": "2021-07-12T14:41:53.735Z"
   },
   {
    "duration": 119,
    "start_time": "2021-07-12T14:41:59.442Z"
   },
   {
    "duration": 13,
    "start_time": "2021-07-12T14:41:59.761Z"
   },
   {
    "duration": 16,
    "start_time": "2021-07-12T14:42:00.072Z"
   },
   {
    "duration": 15,
    "start_time": "2021-07-12T14:42:00.400Z"
   },
   {
    "duration": 22,
    "start_time": "2021-07-12T14:42:00.719Z"
   },
   {
    "duration": 12,
    "start_time": "2021-07-12T14:42:01.055Z"
   },
   {
    "duration": 14,
    "start_time": "2021-07-12T14:42:01.363Z"
   },
   {
    "duration": 14,
    "start_time": "2021-07-12T14:42:01.655Z"
   },
   {
    "duration": 15,
    "start_time": "2021-07-12T14:42:01.960Z"
   },
   {
    "duration": 15,
    "start_time": "2021-07-12T14:42:02.263Z"
   },
   {
    "duration": 20,
    "start_time": "2021-07-12T14:42:02.648Z"
   },
   {
    "duration": 24,
    "start_time": "2021-07-12T14:42:02.855Z"
   },
   {
    "duration": 18,
    "start_time": "2021-07-12T14:42:03.881Z"
   },
   {
    "duration": 21,
    "start_time": "2021-07-12T14:42:04.894Z"
   },
   {
    "duration": 7,
    "start_time": "2021-07-12T14:42:05.667Z"
   },
   {
    "duration": 60,
    "start_time": "2021-07-12T14:42:06.366Z"
   },
   {
    "duration": 18,
    "start_time": "2021-07-12T14:42:07.449Z"
   },
   {
    "duration": 27,
    "start_time": "2021-07-12T14:42:07.864Z"
   },
   {
    "duration": 8,
    "start_time": "2021-07-12T14:42:09.031Z"
   },
   {
    "duration": 434,
    "start_time": "2021-07-12T14:42:09.391Z"
   },
   {
    "duration": 285,
    "start_time": "2021-07-12T14:42:48.940Z"
   },
   {
    "duration": 158,
    "start_time": "2021-07-12T14:42:55.066Z"
   },
   {
    "duration": 18,
    "start_time": "2021-07-12T14:42:55.327Z"
   },
   {
    "duration": 17,
    "start_time": "2021-07-12T14:42:55.618Z"
   },
   {
    "duration": 17,
    "start_time": "2021-07-12T14:42:55.889Z"
   },
   {
    "duration": 19,
    "start_time": "2021-07-12T14:42:56.153Z"
   },
   {
    "duration": 16,
    "start_time": "2021-07-12T14:42:56.428Z"
   },
   {
    "duration": 16,
    "start_time": "2021-07-12T14:42:56.720Z"
   },
   {
    "duration": 14,
    "start_time": "2021-07-12T14:42:56.992Z"
   },
   {
    "duration": 15,
    "start_time": "2021-07-12T14:42:57.248Z"
   },
   {
    "duration": 11,
    "start_time": "2021-07-12T14:42:57.547Z"
   },
   {
    "duration": 14,
    "start_time": "2021-07-12T14:42:57.823Z"
   },
   {
    "duration": 16,
    "start_time": "2021-07-12T14:42:58.121Z"
   },
   {
    "duration": 18,
    "start_time": "2021-07-12T14:42:58.992Z"
   },
   {
    "duration": 25,
    "start_time": "2021-07-12T14:42:59.607Z"
   },
   {
    "duration": 9,
    "start_time": "2021-07-12T14:43:00.208Z"
   },
   {
    "duration": 62,
    "start_time": "2021-07-12T14:43:00.860Z"
   },
   {
    "duration": 14,
    "start_time": "2021-07-12T14:43:01.521Z"
   },
   {
    "duration": 46,
    "start_time": "2021-07-12T14:43:01.857Z"
   },
   {
    "duration": 16,
    "start_time": "2021-07-12T15:25:05.584Z"
   },
   {
    "duration": 20,
    "start_time": "2021-07-12T15:25:52.208Z"
   },
   {
    "duration": 123,
    "start_time": "2021-07-12T15:26:24.250Z"
   },
   {
    "duration": 18,
    "start_time": "2021-07-12T15:26:25.152Z"
   },
   {
    "duration": 19,
    "start_time": "2021-07-12T15:26:25.744Z"
   },
   {
    "duration": 18,
    "start_time": "2021-07-12T15:26:26.143Z"
   },
   {
    "duration": 24,
    "start_time": "2021-07-12T15:26:26.519Z"
   },
   {
    "duration": 16,
    "start_time": "2021-07-12T15:26:26.896Z"
   },
   {
    "duration": 16,
    "start_time": "2021-07-12T15:26:27.240Z"
   },
   {
    "duration": 17,
    "start_time": "2021-07-12T15:26:27.561Z"
   },
   {
    "duration": 20,
    "start_time": "2021-07-12T15:26:27.912Z"
   },
   {
    "duration": 18,
    "start_time": "2021-07-12T15:26:28.279Z"
   },
   {
    "duration": 18,
    "start_time": "2021-07-12T15:26:28.624Z"
   },
   {
    "duration": 19,
    "start_time": "2021-07-12T15:26:28.944Z"
   },
   {
    "duration": 19,
    "start_time": "2021-07-12T15:26:29.922Z"
   },
   {
    "duration": 30,
    "start_time": "2021-07-12T15:26:30.623Z"
   },
   {
    "duration": 7,
    "start_time": "2021-07-12T15:26:31.312Z"
   },
   {
    "duration": 40,
    "start_time": "2021-07-12T15:26:31.991Z"
   },
   {
    "duration": 19,
    "start_time": "2021-07-12T15:26:32.864Z"
   },
   {
    "duration": 56,
    "start_time": "2021-07-12T15:26:33.280Z"
   },
   {
    "duration": 20,
    "start_time": "2021-07-12T15:26:34.736Z"
   },
   {
    "duration": 52,
    "start_time": "2021-07-12T15:27:17.001Z"
   },
   {
    "duration": 1018,
    "start_time": "2021-07-12T15:27:24.195Z"
   },
   {
    "duration": 61,
    "start_time": "2021-07-12T15:27:32.346Z"
   },
   {
    "duration": 36,
    "start_time": "2021-07-12T15:28:51.667Z"
   },
   {
    "duration": 54,
    "start_time": "2021-07-12T15:29:49.916Z"
   },
   {
    "duration": 288,
    "start_time": "2021-07-12T15:30:28.645Z"
   },
   {
    "duration": 164,
    "start_time": "2021-07-12T15:31:25.261Z"
   },
   {
    "duration": 19,
    "start_time": "2021-07-12T15:31:25.608Z"
   },
   {
    "duration": 20,
    "start_time": "2021-07-12T15:31:26.916Z"
   },
   {
    "duration": 14,
    "start_time": "2021-07-12T15:31:26.940Z"
   },
   {
    "duration": 18,
    "start_time": "2021-07-12T15:31:26.958Z"
   },
   {
    "duration": 13,
    "start_time": "2021-07-12T15:31:26.978Z"
   },
   {
    "duration": 12,
    "start_time": "2021-07-12T15:31:27.214Z"
   },
   {
    "duration": 12,
    "start_time": "2021-07-12T15:31:27.512Z"
   },
   {
    "duration": 14,
    "start_time": "2021-07-12T15:31:27.804Z"
   },
   {
    "duration": 14,
    "start_time": "2021-07-12T15:31:28.147Z"
   },
   {
    "duration": 16,
    "start_time": "2021-07-12T15:31:28.436Z"
   },
   {
    "duration": 18,
    "start_time": "2021-07-12T15:31:28.747Z"
   },
   {
    "duration": 23,
    "start_time": "2021-07-12T15:31:29.635Z"
   },
   {
    "duration": 25,
    "start_time": "2021-07-12T15:31:30.228Z"
   },
   {
    "duration": 7,
    "start_time": "2021-07-12T15:31:30.789Z"
   },
   {
    "duration": 58,
    "start_time": "2021-07-12T15:31:31.476Z"
   },
   {
    "duration": 15,
    "start_time": "2021-07-12T15:31:32.124Z"
   },
   {
    "duration": 37,
    "start_time": "2021-07-12T15:31:32.461Z"
   },
   {
    "duration": 4,
    "start_time": "2021-07-12T15:31:36.310Z"
   },
   {
    "duration": 43,
    "start_time": "2021-07-12T15:31:36.622Z"
   },
   {
    "duration": 109,
    "start_time": "2021-07-12T15:34:06.596Z"
   },
   {
    "duration": 13,
    "start_time": "2021-07-12T15:34:06.919Z"
   },
   {
    "duration": 16,
    "start_time": "2021-07-12T15:34:07.239Z"
   },
   {
    "duration": 14,
    "start_time": "2021-07-12T15:34:07.575Z"
   },
   {
    "duration": 16,
    "start_time": "2021-07-12T15:34:07.895Z"
   },
   {
    "duration": 16,
    "start_time": "2021-07-12T15:34:08.207Z"
   },
   {
    "duration": 16,
    "start_time": "2021-07-12T15:34:08.510Z"
   },
   {
    "duration": 15,
    "start_time": "2021-07-12T15:34:08.799Z"
   },
   {
    "duration": 16,
    "start_time": "2021-07-12T15:34:09.110Z"
   },
   {
    "duration": 16,
    "start_time": "2021-07-12T15:34:09.383Z"
   },
   {
    "duration": 14,
    "start_time": "2021-07-12T15:34:09.688Z"
   },
   {
    "duration": 16,
    "start_time": "2021-07-12T15:34:09.992Z"
   },
   {
    "duration": 19,
    "start_time": "2021-07-12T15:34:10.807Z"
   },
   {
    "duration": 35,
    "start_time": "2021-07-12T15:34:11.371Z"
   },
   {
    "duration": 8,
    "start_time": "2021-07-12T15:34:11.910Z"
   },
   {
    "duration": 45,
    "start_time": "2021-07-12T15:34:12.503Z"
   },
   {
    "duration": 15,
    "start_time": "2021-07-12T15:34:13.134Z"
   },
   {
    "duration": 51,
    "start_time": "2021-07-12T15:34:13.424Z"
   },
   {
    "duration": 7,
    "start_time": "2021-07-12T15:34:13.774Z"
   },
   {
    "duration": 9,
    "start_time": "2021-07-12T15:34:14.407Z"
   },
   {
    "duration": 94,
    "start_time": "2021-07-12T15:34:15.049Z"
   },
   {
    "duration": 250,
    "start_time": "2021-07-12T15:35:43.865Z"
   },
   {
    "duration": 270,
    "start_time": "2021-07-12T15:35:53.529Z"
   },
   {
    "duration": 273,
    "start_time": "2021-07-12T15:39:04.036Z"
   },
   {
    "duration": 83,
    "start_time": "2021-07-12T15:39:19.478Z"
   },
   {
    "duration": 274,
    "start_time": "2021-07-12T15:40:25.695Z"
   },
   {
    "duration": 8,
    "start_time": "2021-07-12T15:41:30.206Z"
   },
   {
    "duration": 61,
    "start_time": "2021-07-12T15:43:39.202Z"
   },
   {
    "duration": 8,
    "start_time": "2021-07-12T15:44:11.849Z"
   },
   {
    "duration": 294,
    "start_time": "2021-07-12T15:44:21.430Z"
   },
   {
    "duration": 162,
    "start_time": "2021-07-12T15:44:34.475Z"
   },
   {
    "duration": 19,
    "start_time": "2021-07-12T15:44:35.181Z"
   },
   {
    "duration": 16,
    "start_time": "2021-07-12T15:44:35.577Z"
   },
   {
    "duration": 16,
    "start_time": "2021-07-12T15:44:35.938Z"
   },
   {
    "duration": 27,
    "start_time": "2021-07-12T15:44:36.250Z"
   },
   {
    "duration": 12,
    "start_time": "2021-07-12T15:44:36.578Z"
   },
   {
    "duration": 14,
    "start_time": "2021-07-12T15:44:36.890Z"
   },
   {
    "duration": 14,
    "start_time": "2021-07-12T15:44:37.187Z"
   },
   {
    "duration": 14,
    "start_time": "2021-07-12T15:44:37.474Z"
   },
   {
    "duration": 13,
    "start_time": "2021-07-12T15:44:37.786Z"
   },
   {
    "duration": 14,
    "start_time": "2021-07-12T15:44:38.097Z"
   },
   {
    "duration": 17,
    "start_time": "2021-07-12T15:44:38.418Z"
   },
   {
    "duration": 29,
    "start_time": "2021-07-12T15:44:39.357Z"
   },
   {
    "duration": 31,
    "start_time": "2021-07-12T15:44:39.945Z"
   },
   {
    "duration": 8,
    "start_time": "2021-07-12T15:44:40.546Z"
   },
   {
    "duration": 51,
    "start_time": "2021-07-12T15:44:41.138Z"
   },
   {
    "duration": 321,
    "start_time": "2021-07-12T15:44:41.433Z"
   },
   {
    "duration": 66,
    "start_time": "2021-07-12T15:44:42.070Z"
   },
   {
    "duration": 6,
    "start_time": "2021-07-12T15:44:42.393Z"
   },
   {
    "duration": 6,
    "start_time": "2021-07-12T15:44:42.785Z"
   },
   {
    "duration": 76,
    "start_time": "2021-07-12T15:44:43.381Z"
   },
   {
    "duration": 862,
    "start_time": "2021-07-17T11:57:04.627Z"
   },
   {
    "duration": 13,
    "start_time": "2021-07-17T11:57:10.418Z"
   },
   {
    "duration": 17,
    "start_time": "2021-07-17T11:57:11.442Z"
   },
   {
    "duration": 15,
    "start_time": "2021-07-17T11:57:13.298Z"
   },
   {
    "duration": 15,
    "start_time": "2021-07-17T11:57:13.317Z"
   },
   {
    "duration": 11,
    "start_time": "2021-07-17T11:57:14.226Z"
   },
   {
    "duration": 12,
    "start_time": "2021-07-17T11:57:15.226Z"
   },
   {
    "duration": 12,
    "start_time": "2021-07-17T11:57:16.009Z"
   },
   {
    "duration": 13,
    "start_time": "2021-07-17T11:57:16.738Z"
   },
   {
    "duration": 11,
    "start_time": "2021-07-17T11:57:17.442Z"
   },
   {
    "duration": 15,
    "start_time": "2021-07-17T11:57:18.159Z"
   },
   {
    "duration": 16,
    "start_time": "2021-07-17T11:57:18.755Z"
   },
   {
    "duration": 18,
    "start_time": "2021-07-17T11:57:23.113Z"
   },
   {
    "duration": 22,
    "start_time": "2021-07-17T11:57:27.193Z"
   },
   {
    "duration": 7,
    "start_time": "2021-07-17T11:59:49.924Z"
   },
   {
    "duration": 39,
    "start_time": "2021-07-17T12:00:00.972Z"
   },
   {
    "duration": 70,
    "start_time": "2021-07-17T12:00:02.452Z"
   },
   {
    "duration": 7,
    "start_time": "2021-07-17T12:00:03.036Z"
   },
   {
    "duration": 77,
    "start_time": "2021-07-17T12:00:04.038Z"
   },
   {
    "duration": 105,
    "start_time": "2021-07-17T12:13:17.307Z"
   },
   {
    "duration": 13,
    "start_time": "2021-07-17T12:13:17.649Z"
   },
   {
    "duration": 17,
    "start_time": "2021-07-17T12:13:18.049Z"
   },
   {
    "duration": 13,
    "start_time": "2021-07-17T12:13:18.337Z"
   },
   {
    "duration": 16,
    "start_time": "2021-07-17T12:13:18.626Z"
   },
   {
    "duration": 12,
    "start_time": "2021-07-17T12:13:18.934Z"
   },
   {
    "duration": 11,
    "start_time": "2021-07-17T12:13:19.203Z"
   },
   {
    "duration": 11,
    "start_time": "2021-07-17T12:13:19.473Z"
   },
   {
    "duration": 11,
    "start_time": "2021-07-17T12:13:19.745Z"
   },
   {
    "duration": 11,
    "start_time": "2021-07-17T12:13:20.026Z"
   },
   {
    "duration": 13,
    "start_time": "2021-07-17T12:13:20.289Z"
   },
   {
    "duration": 17,
    "start_time": "2021-07-17T12:13:20.553Z"
   },
   {
    "duration": 18,
    "start_time": "2021-07-17T12:13:21.377Z"
   },
   {
    "duration": 21,
    "start_time": "2021-07-17T12:13:21.952Z"
   },
   {
    "duration": 31,
    "start_time": "2021-07-17T12:13:22.505Z"
   },
   {
    "duration": 37,
    "start_time": "2021-07-17T12:13:23.058Z"
   },
   {
    "duration": 59,
    "start_time": "2021-07-17T12:13:23.596Z"
   },
   {
    "duration": 6,
    "start_time": "2021-07-17T12:13:23.904Z"
   },
   {
    "duration": 73,
    "start_time": "2021-07-17T12:13:24.482Z"
   },
   {
    "duration": 44,
    "start_time": "2021-07-17T12:13:44.138Z"
   },
   {
    "duration": 44,
    "start_time": "2021-07-17T12:13:53.340Z"
   },
   {
    "duration": 78,
    "start_time": "2021-07-17T12:13:56.274Z"
   },
   {
    "duration": 8,
    "start_time": "2021-07-17T12:21:09.805Z"
   },
   {
    "duration": 67,
    "start_time": "2021-07-17T12:21:12.977Z"
   },
   {
    "duration": 67,
    "start_time": "2021-07-17T12:25:53.161Z"
   },
   {
    "duration": 74,
    "start_time": "2021-07-17T12:25:57.422Z"
   },
   {
    "duration": 70,
    "start_time": "2021-07-17T12:27:03.384Z"
   },
   {
    "duration": 384,
    "start_time": "2021-07-17T14:08:37.830Z"
   },
   {
    "duration": 294,
    "start_time": "2021-07-17T14:13:28.377Z"
   },
   {
    "duration": 11,
    "start_time": "2021-07-17T14:14:03.825Z"
   },
   {
    "duration": 878,
    "start_time": "2021-07-20T07:32:02.368Z"
   },
   {
    "duration": 16,
    "start_time": "2021-07-20T07:32:03.952Z"
   },
   {
    "duration": 23,
    "start_time": "2021-07-20T07:32:04.605Z"
   },
   {
    "duration": 18,
    "start_time": "2021-07-20T07:32:05.229Z"
   },
   {
    "duration": 19,
    "start_time": "2021-07-20T07:32:05.819Z"
   },
   {
    "duration": 15,
    "start_time": "2021-07-20T07:32:06.374Z"
   },
   {
    "duration": 15,
    "start_time": "2021-07-20T07:32:06.956Z"
   },
   {
    "duration": 13,
    "start_time": "2021-07-20T07:32:07.515Z"
   },
   {
    "duration": 15,
    "start_time": "2021-07-20T07:32:08.091Z"
   },
   {
    "duration": 14,
    "start_time": "2021-07-20T07:32:08.684Z"
   },
   {
    "duration": 16,
    "start_time": "2021-07-20T07:32:09.210Z"
   },
   {
    "duration": 17,
    "start_time": "2021-07-20T07:32:09.730Z"
   },
   {
    "duration": 18,
    "start_time": "2021-07-20T07:32:11.385Z"
   },
   {
    "duration": 23,
    "start_time": "2021-07-20T07:32:12.570Z"
   },
   {
    "duration": 30,
    "start_time": "2021-07-20T07:32:13.674Z"
   },
   {
    "duration": 39,
    "start_time": "2021-07-20T07:32:14.931Z"
   },
   {
    "duration": 70,
    "start_time": "2021-07-20T07:32:16.156Z"
   },
   {
    "duration": 7,
    "start_time": "2021-07-20T07:32:17.305Z"
   },
   {
    "duration": 10,
    "start_time": "2021-07-20T07:32:18.454Z"
   },
   {
    "duration": 70,
    "start_time": "2021-07-20T07:32:19.588Z"
   },
   {
    "duration": 408,
    "start_time": "2021-07-20T07:32:21.346Z"
   },
   {
    "duration": 11,
    "start_time": "2021-07-20T07:32:22.259Z"
   },
   {
    "duration": 293,
    "start_time": "2021-07-20T07:32:23.495Z"
   },
   {
    "duration": 111,
    "start_time": "2021-07-20T07:32:24.762Z"
   },
   {
    "duration": 875,
    "start_time": "2021-07-21T16:24:40.835Z"
   },
   {
    "duration": 13,
    "start_time": "2021-07-21T16:24:42.859Z"
   },
   {
    "duration": 18,
    "start_time": "2021-07-21T16:24:43.387Z"
   },
   {
    "duration": 14,
    "start_time": "2021-07-21T16:24:43.868Z"
   },
   {
    "duration": 17,
    "start_time": "2021-07-21T16:24:44.291Z"
   },
   {
    "duration": 12,
    "start_time": "2021-07-21T16:24:44.707Z"
   },
   {
    "duration": 12,
    "start_time": "2021-07-21T16:24:45.134Z"
   },
   {
    "duration": 13,
    "start_time": "2021-07-21T16:24:45.587Z"
   },
   {
    "duration": 12,
    "start_time": "2021-07-21T16:24:45.979Z"
   },
   {
    "duration": 12,
    "start_time": "2021-07-21T16:24:46.381Z"
   },
   {
    "duration": 13,
    "start_time": "2021-07-21T16:24:46.779Z"
   },
   {
    "duration": 17,
    "start_time": "2021-07-21T16:24:47.163Z"
   },
   {
    "duration": 20,
    "start_time": "2021-07-21T16:24:48.386Z"
   },
   {
    "duration": 23,
    "start_time": "2021-07-21T16:24:49.235Z"
   },
   {
    "duration": 29,
    "start_time": "2021-07-21T16:24:49.996Z"
   },
   {
    "duration": 40,
    "start_time": "2021-07-21T16:24:50.861Z"
   },
   {
    "duration": 68,
    "start_time": "2021-07-21T16:24:51.708Z"
   },
   {
    "duration": 6,
    "start_time": "2021-07-21T16:24:52.538Z"
   },
   {
    "duration": 10,
    "start_time": "2021-07-21T16:24:53.315Z"
   },
   {
    "duration": 86,
    "start_time": "2021-07-21T16:24:54.138Z"
   },
   {
    "duration": 406,
    "start_time": "2021-07-21T16:24:55.506Z"
   },
   {
    "duration": 11,
    "start_time": "2021-07-21T16:24:55.937Z"
   },
   {
    "duration": 301,
    "start_time": "2021-07-21T16:24:56.862Z"
   },
   {
    "duration": 397,
    "start_time": "2021-07-21T16:24:57.764Z"
   },
   {
    "duration": 3,
    "start_time": "2021-07-21T16:24:58.170Z"
   },
   {
    "duration": 3,
    "start_time": "2021-07-21T16:24:59.018Z"
   },
   {
    "duration": 3,
    "start_time": "2021-07-21T16:24:59.882Z"
   },
   {
    "duration": 4,
    "start_time": "2021-07-21T16:25:00.676Z"
   },
   {
    "duration": 3,
    "start_time": "2021-07-21T16:25:01.506Z"
   },
   {
    "duration": 902,
    "start_time": "2021-07-22T05:22:55.879Z"
   },
   {
    "duration": 13,
    "start_time": "2021-07-22T05:22:59.536Z"
   },
   {
    "duration": 16,
    "start_time": "2021-07-22T05:22:59.955Z"
   },
   {
    "duration": 16,
    "start_time": "2021-07-22T05:23:00.404Z"
   },
   {
    "duration": 17,
    "start_time": "2021-07-22T05:23:00.792Z"
   },
   {
    "duration": 12,
    "start_time": "2021-07-22T05:23:01.199Z"
   },
   {
    "duration": 12,
    "start_time": "2021-07-22T05:23:01.624Z"
   },
   {
    "duration": 12,
    "start_time": "2021-07-22T05:23:02.068Z"
   },
   {
    "duration": 13,
    "start_time": "2021-07-22T05:23:02.452Z"
   },
   {
    "duration": 12,
    "start_time": "2021-07-22T05:23:02.890Z"
   },
   {
    "duration": 15,
    "start_time": "2021-07-22T05:23:03.318Z"
   },
   {
    "duration": 17,
    "start_time": "2021-07-22T05:23:03.747Z"
   },
   {
    "duration": 20,
    "start_time": "2021-07-22T05:23:04.924Z"
   },
   {
    "duration": 22,
    "start_time": "2021-07-22T05:23:05.639Z"
   },
   {
    "duration": 28,
    "start_time": "2021-07-22T05:23:06.366Z"
   },
   {
    "duration": 37,
    "start_time": "2021-07-22T05:23:07.110Z"
   },
   {
    "duration": 69,
    "start_time": "2021-07-22T05:23:07.865Z"
   },
   {
    "duration": 6,
    "start_time": "2021-07-22T05:23:08.691Z"
   },
   {
    "duration": 12,
    "start_time": "2021-07-22T05:23:09.483Z"
   },
   {
    "duration": 67,
    "start_time": "2021-07-22T05:23:10.291Z"
   },
   {
    "duration": 404,
    "start_time": "2021-07-22T05:23:11.590Z"
   },
   {
    "duration": 12,
    "start_time": "2021-07-22T05:23:12.145Z"
   },
   {
    "duration": 1552,
    "start_time": "2021-07-22T05:23:13.147Z"
   },
   {
    "duration": 2081,
    "start_time": "2021-07-22T05:23:12.620Z"
   },
   {
    "duration": 2078,
    "start_time": "2021-07-22T05:23:12.624Z"
   },
   {
    "duration": 4,
    "start_time": "2021-07-22T05:23:15.371Z"
   },
   {
    "duration": 3,
    "start_time": "2021-07-22T05:23:16.259Z"
   },
   {
    "duration": 3,
    "start_time": "2021-07-22T05:23:17.035Z"
   },
   {
    "duration": 4,
    "start_time": "2021-07-22T05:23:17.947Z"
   },
   {
    "duration": 3,
    "start_time": "2021-07-22T05:23:21.622Z"
   },
   {
    "duration": 610,
    "start_time": "2021-07-22T07:53:33.737Z"
   },
   {
    "duration": 11,
    "start_time": "2021-07-22T07:53:35.201Z"
   },
   {
    "duration": 11,
    "start_time": "2021-07-22T07:53:35.720Z"
   },
   {
    "duration": 10,
    "start_time": "2021-07-22T07:53:36.201Z"
   },
   {
    "duration": 11,
    "start_time": "2021-07-22T07:53:36.679Z"
   },
   {
    "duration": 7,
    "start_time": "2021-07-22T07:53:37.136Z"
   },
   {
    "duration": 12,
    "start_time": "2021-07-22T07:53:37.502Z"
   },
   {
    "duration": 10,
    "start_time": "2021-07-22T07:53:37.863Z"
   },
   {
    "duration": 11,
    "start_time": "2021-07-22T07:53:38.288Z"
   },
   {
    "duration": 8,
    "start_time": "2021-07-22T07:53:38.705Z"
   },
   {
    "duration": 9,
    "start_time": "2021-07-22T07:53:39.111Z"
   },
   {
    "duration": 11,
    "start_time": "2021-07-22T07:53:39.573Z"
   },
   {
    "duration": 13,
    "start_time": "2021-07-22T07:53:40.822Z"
   },
   {
    "duration": 13,
    "start_time": "2021-07-22T07:53:41.762Z"
   },
   {
    "duration": 25,
    "start_time": "2021-07-22T07:53:42.594Z"
   },
   {
    "duration": 28,
    "start_time": "2021-07-22T07:53:43.447Z"
   },
   {
    "duration": 43,
    "start_time": "2021-07-22T07:53:44.321Z"
   },
   {
    "duration": 7,
    "start_time": "2021-07-22T07:53:45.190Z"
   },
   {
    "duration": 8,
    "start_time": "2021-07-22T07:53:46.187Z"
   },
   {
    "duration": 48,
    "start_time": "2021-07-22T07:53:46.991Z"
   },
   {
    "duration": 234,
    "start_time": "2021-07-22T07:53:48.291Z"
   },
   {
    "duration": 8,
    "start_time": "2021-07-22T07:53:48.662Z"
   },
   {
    "duration": 781,
    "start_time": "2021-07-22T07:53:49.504Z"
   },
   {
    "duration": -37,
    "start_time": "2021-07-22T07:53:50.324Z"
   },
   {
    "duration": 233,
    "start_time": "2021-07-22T07:53:50.704Z"
   },
   {
    "duration": 2,
    "start_time": "2021-07-22T07:53:51.174Z"
   },
   {
    "duration": 2,
    "start_time": "2021-07-22T07:53:52.149Z"
   },
   {
    "duration": 2,
    "start_time": "2021-07-22T07:53:52.803Z"
   },
   {
    "duration": 2,
    "start_time": "2021-07-22T07:53:53.527Z"
   },
   {
    "duration": 2,
    "start_time": "2021-07-22T07:53:54.262Z"
   },
   {
    "duration": 238,
    "start_time": "2021-07-22T07:58:49.381Z"
   },
   {
    "duration": 234,
    "start_time": "2021-07-22T07:59:40.209Z"
   },
   {
    "duration": 275,
    "start_time": "2021-07-22T08:43:44.875Z"
   },
   {
    "duration": 236,
    "start_time": "2021-07-22T08:44:52.818Z"
   },
   {
    "duration": 1133,
    "start_time": "2021-07-22T08:45:41.684Z"
   },
   {
    "duration": 1031,
    "start_time": "2021-07-22T08:45:52.405Z"
   },
   {
    "duration": 1081,
    "start_time": "2021-07-22T08:47:45.402Z"
   },
   {
    "duration": 1191,
    "start_time": "2021-07-22T08:47:54.580Z"
   },
   {
    "duration": 1162,
    "start_time": "2021-07-22T08:48:59.116Z"
   },
   {
    "duration": 1103,
    "start_time": "2021-07-22T08:49:08.332Z"
   },
   {
    "duration": 1080,
    "start_time": "2021-07-22T08:49:19.501Z"
   },
   {
    "duration": 622,
    "start_time": "2021-07-22T08:49:39.859Z"
   },
   {
    "duration": 222,
    "start_time": "2021-07-22T08:49:46.955Z"
   },
   {
    "duration": 229,
    "start_time": "2021-07-22T08:52:34.494Z"
   },
   {
    "duration": 239,
    "start_time": "2021-07-22T08:52:52.463Z"
   },
   {
    "duration": 1150,
    "start_time": "2021-07-22T08:52:56.113Z"
   },
   {
    "duration": 1076,
    "start_time": "2021-07-22T08:54:36.128Z"
   },
   {
    "duration": 1022,
    "start_time": "2021-07-22T08:54:43.323Z"
   },
   {
    "duration": 1136,
    "start_time": "2021-07-22T08:54:48.886Z"
   },
   {
    "duration": 5,
    "start_time": "2021-07-22T09:06:35.623Z"
   },
   {
    "duration": 707,
    "start_time": "2021-07-22T09:07:15.845Z"
   },
   {
    "duration": 526,
    "start_time": "2021-07-22T09:22:16.685Z"
   },
   {
    "duration": 872,
    "start_time": "2021-07-22T09:32:43.542Z"
   },
   {
    "duration": 748,
    "start_time": "2021-07-22T09:32:49.476Z"
   },
   {
    "duration": 422,
    "start_time": "2021-07-22T09:33:11.697Z"
   },
   {
    "duration": 435,
    "start_time": "2021-07-22T09:33:31.021Z"
   },
   {
    "duration": 1168,
    "start_time": "2021-07-22T09:33:47.926Z"
   },
   {
    "duration": 1086,
    "start_time": "2021-07-22T09:34:09.810Z"
   },
   {
    "duration": 1179,
    "start_time": "2021-07-22T09:34:18.695Z"
   },
   {
    "duration": 821,
    "start_time": "2021-07-22T09:34:44.352Z"
   },
   {
    "duration": 427,
    "start_time": "2021-07-22T09:34:58.831Z"
   },
   {
    "duration": 2885,
    "start_time": "2021-07-22T09:41:11.666Z"
   },
   {
    "duration": 81,
    "start_time": "2021-07-22T09:46:56.380Z"
   },
   {
    "duration": 4513,
    "start_time": "2021-07-22T09:47:04.997Z"
   },
   {
    "duration": 450,
    "start_time": "2021-07-22T09:47:19.029Z"
   },
   {
    "duration": 400,
    "start_time": "2021-07-22T09:48:01.172Z"
   },
   {
    "duration": 379,
    "start_time": "2021-07-22T09:48:48.528Z"
   },
   {
    "duration": 467,
    "start_time": "2021-07-22T09:49:09.047Z"
   },
   {
    "duration": 523,
    "start_time": "2021-07-22T09:49:23.589Z"
   },
   {
    "duration": 399,
    "start_time": "2021-07-22T09:51:34.574Z"
   },
   {
    "duration": 141073,
    "start_time": "2021-07-22T09:52:44.768Z"
   },
   {
    "duration": -28,
    "start_time": "2021-07-22T09:55:06.262Z"
   },
   {
    "duration": 555,
    "start_time": "2021-07-22T09:55:08.522Z"
   },
   {
    "duration": 380,
    "start_time": "2021-07-22T09:55:24.325Z"
   },
   {
    "duration": 400,
    "start_time": "2021-07-22T09:55:36.263Z"
   },
   {
    "duration": 981,
    "start_time": "2021-07-22T09:55:44.842Z"
   },
   {
    "duration": 167,
    "start_time": "2021-07-22T09:55:54.169Z"
   },
   {
    "duration": 77,
    "start_time": "2021-07-22T10:00:29.129Z"
   },
   {
    "duration": 226,
    "start_time": "2021-07-22T10:07:14.562Z"
   },
   {
    "duration": 223,
    "start_time": "2021-07-22T10:08:55.740Z"
   },
   {
    "duration": 279,
    "start_time": "2021-07-22T10:09:10.451Z"
   },
   {
    "duration": 236,
    "start_time": "2021-07-22T10:09:16.084Z"
   },
   {
    "duration": 236,
    "start_time": "2021-07-22T10:11:47.919Z"
   },
   {
    "duration": 270,
    "start_time": "2021-07-22T10:12:32.832Z"
   },
   {
    "duration": 227,
    "start_time": "2021-07-22T10:12:39.232Z"
   },
   {
    "duration": 1507,
    "start_time": "2021-07-22T10:12:54.984Z"
   },
   {
    "duration": 245,
    "start_time": "2021-07-22T10:18:58.861Z"
   },
   {
    "duration": 5,
    "start_time": "2021-07-22T10:20:54.030Z"
   },
   {
    "duration": 6,
    "start_time": "2021-07-22T10:21:03.582Z"
   },
   {
    "duration": 416,
    "start_time": "2021-07-22T10:21:18.359Z"
   },
   {
    "duration": 561,
    "start_time": "2021-07-22T10:21:47.295Z"
   },
   {
    "duration": 229,
    "start_time": "2021-07-22T10:23:06.116Z"
   },
   {
    "duration": 328,
    "start_time": "2021-07-22T10:23:29.237Z"
   },
   {
    "duration": 6,
    "start_time": "2021-07-22T10:29:21.593Z"
   },
   {
    "duration": 742,
    "start_time": "2021-07-22T10:29:30.990Z"
   },
   {
    "duration": 435,
    "start_time": "2021-07-22T10:29:45.015Z"
   },
   {
    "duration": 237,
    "start_time": "2021-07-22T10:31:20.636Z"
   },
   {
    "duration": 360,
    "start_time": "2021-07-22T10:31:28.517Z"
   },
   {
    "duration": 361,
    "start_time": "2021-07-22T10:33:51.410Z"
   },
   {
    "duration": 15,
    "start_time": "2021-07-22T10:35:34.763Z"
   },
   {
    "duration": 234,
    "start_time": "2021-07-22T10:45:59.239Z"
   },
   {
    "duration": 385,
    "start_time": "2021-07-22T10:47:57.166Z"
   },
   {
    "duration": 239,
    "start_time": "2021-07-22T10:48:50.861Z"
   },
   {
    "duration": 345,
    "start_time": "2021-07-22T10:50:29.206Z"
   },
   {
    "duration": 225,
    "start_time": "2021-07-22T10:51:02.599Z"
   },
   {
    "duration": 2298,
    "start_time": "2021-07-22T10:51:43.815Z"
   },
   {
    "duration": 11,
    "start_time": "2021-07-22T10:51:53.823Z"
   },
   {
    "duration": 2277,
    "start_time": "2021-07-22T10:53:33.249Z"
   },
   {
    "duration": 2178,
    "start_time": "2021-07-22T10:53:43.023Z"
   },
   {
    "duration": 2176,
    "start_time": "2021-07-22T10:54:16.428Z"
   },
   {
    "duration": 2159,
    "start_time": "2021-07-22T10:54:26.582Z"
   },
   {
    "duration": 14,
    "start_time": "2021-07-22T10:55:45.717Z"
   },
   {
    "duration": 9,
    "start_time": "2021-07-22T10:56:00.844Z"
   },
   {
    "duration": 9,
    "start_time": "2021-07-22T10:56:19.445Z"
   },
   {
    "duration": 258,
    "start_time": "2021-07-22T11:01:26.639Z"
   },
   {
    "duration": 387,
    "start_time": "2021-07-22T11:01:46.717Z"
   },
   {
    "duration": 238,
    "start_time": "2021-07-22T11:29:18.016Z"
   },
   {
    "duration": 98,
    "start_time": "2021-07-22T11:29:33.554Z"
   },
   {
    "duration": 882,
    "start_time": "2021-07-22T11:31:27.683Z"
   },
   {
    "duration": -62,
    "start_time": "2021-07-22T11:31:48.886Z"
   },
   {
    "duration": 254,
    "start_time": "2021-07-22T11:31:59.076Z"
   },
   {
    "duration": 94,
    "start_time": "2021-07-22T11:32:49.021Z"
   },
   {
    "duration": 93,
    "start_time": "2021-07-22T11:41:40.827Z"
   },
   {
    "duration": 93,
    "start_time": "2021-07-22T11:41:46.231Z"
   },
   {
    "duration": 93,
    "start_time": "2021-07-22T11:41:51.543Z"
   },
   {
    "duration": 693,
    "start_time": "2021-07-22T11:43:46.352Z"
   },
   {
    "duration": 81,
    "start_time": "2021-07-22T11:44:34.669Z"
   },
   {
    "duration": 186,
    "start_time": "2021-07-22T11:44:57.354Z"
   },
   {
    "duration": 242,
    "start_time": "2021-07-22T11:54:50.712Z"
   },
   {
    "duration": 11,
    "start_time": "2021-07-22T11:55:00.228Z"
   },
   {
    "duration": 11,
    "start_time": "2021-07-22T11:55:49.561Z"
   },
   {
    "duration": 221,
    "start_time": "2021-07-22T11:56:06.187Z"
   },
   {
    "duration": 11,
    "start_time": "2021-07-22T11:56:29.982Z"
   },
   {
    "duration": 290,
    "start_time": "2021-07-22T12:54:44.816Z"
   },
   {
    "duration": 85,
    "start_time": "2021-07-22T12:55:28.087Z"
   },
   {
    "duration": 13,
    "start_time": "2021-07-22T12:56:33.583Z"
   },
   {
    "duration": 42,
    "start_time": "2021-07-22T12:58:49.696Z"
   },
   {
    "duration": 32,
    "start_time": "2021-07-22T12:59:16.834Z"
   },
   {
    "duration": 80,
    "start_time": "2021-07-22T13:01:12.605Z"
   },
   {
    "duration": 7,
    "start_time": "2021-07-22T13:01:17.202Z"
   },
   {
    "duration": 6,
    "start_time": "2021-07-22T13:01:27.547Z"
   },
   {
    "duration": 13,
    "start_time": "2021-07-22T13:04:54.582Z"
   },
   {
    "duration": 13,
    "start_time": "2021-07-22T13:05:14.600Z"
   },
   {
    "duration": 2,
    "start_time": "2021-07-22T13:07:43.159Z"
   },
   {
    "duration": 11,
    "start_time": "2021-07-22T13:10:22.029Z"
   },
   {
    "duration": 8,
    "start_time": "2021-07-22T13:11:40.534Z"
   },
   {
    "duration": 7,
    "start_time": "2021-07-22T13:11:59.165Z"
   },
   {
    "duration": 10,
    "start_time": "2021-07-22T13:12:48.782Z"
   },
   {
    "duration": 11,
    "start_time": "2021-07-22T13:12:55.454Z"
   },
   {
    "duration": 12,
    "start_time": "2021-07-22T13:13:01.936Z"
   },
   {
    "duration": 10,
    "start_time": "2021-07-22T13:16:05.100Z"
   },
   {
    "duration": 9,
    "start_time": "2021-07-22T13:16:39.651Z"
   },
   {
    "duration": 11,
    "start_time": "2021-07-22T13:16:50.755Z"
   },
   {
    "duration": 72,
    "start_time": "2021-07-22T13:38:27.889Z"
   },
   {
    "duration": 9,
    "start_time": "2021-07-22T13:38:28.742Z"
   },
   {
    "duration": 10,
    "start_time": "2021-07-22T13:38:29.367Z"
   },
   {
    "duration": 9,
    "start_time": "2021-07-22T13:38:29.823Z"
   },
   {
    "duration": 11,
    "start_time": "2021-07-22T13:38:30.288Z"
   },
   {
    "duration": 8,
    "start_time": "2021-07-22T13:38:30.717Z"
   },
   {
    "duration": 8,
    "start_time": "2021-07-22T13:38:31.552Z"
   },
   {
    "duration": 7,
    "start_time": "2021-07-22T13:38:32.038Z"
   },
   {
    "duration": 8,
    "start_time": "2021-07-22T13:38:32.533Z"
   },
   {
    "duration": 8,
    "start_time": "2021-07-22T13:38:33.045Z"
   },
   {
    "duration": 9,
    "start_time": "2021-07-22T13:38:33.453Z"
   },
   {
    "duration": 12,
    "start_time": "2021-07-22T13:38:33.837Z"
   },
   {
    "duration": 13,
    "start_time": "2021-07-22T13:38:35.150Z"
   },
   {
    "duration": 14,
    "start_time": "2021-07-22T13:38:36.006Z"
   },
   {
    "duration": 17,
    "start_time": "2021-07-22T13:38:36.815Z"
   },
   {
    "duration": 24,
    "start_time": "2021-07-22T13:38:37.656Z"
   },
   {
    "duration": 37,
    "start_time": "2021-07-22T13:38:38.424Z"
   },
   {
    "duration": 5,
    "start_time": "2021-07-22T13:38:39.231Z"
   },
   {
    "duration": 7,
    "start_time": "2021-07-22T13:38:39.990Z"
   },
   {
    "duration": 41,
    "start_time": "2021-07-22T13:38:40.870Z"
   },
   {
    "duration": 161,
    "start_time": "2021-07-22T13:38:42.621Z"
   },
   {
    "duration": 9,
    "start_time": "2021-07-22T13:38:43.111Z"
   },
   {
    "duration": 1077,
    "start_time": "2021-07-22T13:38:43.950Z"
   },
   {
    "duration": 334,
    "start_time": "2021-07-22T13:38:45.184Z"
   },
   {
    "duration": 6,
    "start_time": "2021-07-22T13:38:46.261Z"
   },
   {
    "duration": 720,
    "start_time": "2021-07-22T13:38:46.798Z"
   },
   {
    "duration": 424,
    "start_time": "2021-07-22T13:38:47.839Z"
   },
   {
    "duration": 358,
    "start_time": "2021-07-22T13:38:48.758Z"
   },
   {
    "duration": 10,
    "start_time": "2021-07-22T13:38:49.694Z"
   },
   {
    "duration": 2178,
    "start_time": "2021-07-22T13:38:50.655Z"
   },
   {
    "duration": 12,
    "start_time": "2021-07-22T13:38:52.835Z"
   },
   {
    "duration": 12,
    "start_time": "2021-07-22T13:38:52.849Z"
   },
   {
    "duration": 15,
    "start_time": "2021-07-22T13:38:52.958Z"
   },
   {
    "duration": 97,
    "start_time": "2021-07-22T13:38:54.709Z"
   },
   {
    "duration": 93,
    "start_time": "2021-07-22T13:38:55.141Z"
   },
   {
    "duration": 93,
    "start_time": "2021-07-22T13:38:55.567Z"
   },
   {
    "duration": 338,
    "start_time": "2021-07-22T13:38:56.471Z"
   },
   {
    "duration": 11,
    "start_time": "2021-07-22T13:38:58.262Z"
   },
   {
    "duration": 10,
    "start_time": "2021-07-22T13:38:58.719Z"
   },
   {
    "duration": 11,
    "start_time": "2021-07-22T13:38:59.160Z"
   },
   {
    "duration": 41,
    "start_time": "2021-07-22T13:39:01.398Z"
   },
   {
    "duration": 10,
    "start_time": "2021-07-22T13:39:01.829Z"
   },
   {
    "duration": 11,
    "start_time": "2021-07-22T13:39:02.696Z"
   },
   {
    "duration": 31,
    "start_time": "2021-07-22T13:39:04.429Z"
   },
   {
    "duration": 11,
    "start_time": "2021-07-22T13:39:04.863Z"
   },
   {
    "duration": 11,
    "start_time": "2021-07-22T13:39:05.727Z"
   },
   {
    "duration": 677,
    "start_time": "2021-07-23T08:44:18.980Z"
   },
   {
    "duration": 125,
    "start_time": "2021-07-23T08:47:25.908Z"
   },
   {
    "duration": 141,
    "start_time": "2021-07-23T08:52:37.791Z"
   },
   {
    "duration": 123,
    "start_time": "2021-07-23T09:05:06.799Z"
   },
   {
    "duration": 122,
    "start_time": "2021-07-23T09:06:48.927Z"
   },
   {
    "duration": 138,
    "start_time": "2021-07-23T09:09:07.152Z"
   },
   {
    "duration": 123,
    "start_time": "2021-07-23T09:48:18.725Z"
   },
   {
    "duration": 811,
    "start_time": "2021-07-24T13:53:49.108Z"
   },
   {
    "duration": 120,
    "start_time": "2021-07-24T13:53:52.306Z"
   },
   {
    "duration": 1338,
    "start_time": "2021-07-24T13:56:26.327Z"
   },
   {
    "duration": 4,
    "start_time": "2021-07-24T13:56:34.910Z"
   },
   {
    "duration": 111,
    "start_time": "2021-07-24T13:56:35.590Z"
   },
   {
    "duration": 13,
    "start_time": "2021-07-24T13:56:36.939Z"
   },
   {
    "duration": 18,
    "start_time": "2021-07-24T13:56:38.772Z"
   },
   {
    "duration": 13,
    "start_time": "2021-07-24T13:56:39.157Z"
   },
   {
    "duration": 17,
    "start_time": "2021-07-24T13:56:39.571Z"
   },
   {
    "duration": 12,
    "start_time": "2021-07-24T13:56:40.062Z"
   },
   {
    "duration": 11,
    "start_time": "2021-07-24T13:56:40.316Z"
   },
   {
    "duration": 14,
    "start_time": "2021-07-24T13:56:40.684Z"
   },
   {
    "duration": 11,
    "start_time": "2021-07-24T13:56:41.024Z"
   },
   {
    "duration": 11,
    "start_time": "2021-07-24T13:56:41.339Z"
   },
   {
    "duration": 14,
    "start_time": "2021-07-24T13:56:41.663Z"
   },
   {
    "duration": 18,
    "start_time": "2021-07-24T13:56:42.000Z"
   },
   {
    "duration": 19,
    "start_time": "2021-07-24T13:56:43.495Z"
   },
   {
    "duration": 22,
    "start_time": "2021-07-24T13:56:44.517Z"
   },
   {
    "duration": 29,
    "start_time": "2021-07-24T13:56:45.693Z"
   },
   {
    "duration": 36,
    "start_time": "2021-07-24T13:56:46.447Z"
   },
   {
    "duration": 66,
    "start_time": "2021-07-24T13:56:47.809Z"
   },
   {
    "duration": 6,
    "start_time": "2021-07-24T13:56:48.884Z"
   },
   {
    "duration": 10,
    "start_time": "2021-07-24T13:56:49.647Z"
   },
   {
    "duration": 67,
    "start_time": "2021-07-24T13:56:50.405Z"
   },
   {
    "duration": 297,
    "start_time": "2021-07-24T13:56:52.163Z"
   },
   {
    "duration": 12,
    "start_time": "2021-07-24T13:56:53.194Z"
   },
   {
    "duration": 1911,
    "start_time": "2021-07-24T13:56:55.238Z"
   },
   {
    "duration": 599,
    "start_time": "2021-07-24T13:57:29.592Z"
   },
   {
    "duration": 638,
    "start_time": "2021-07-24T13:57:52.628Z"
   },
   {
    "duration": 7,
    "start_time": "2021-07-24T13:57:56.602Z"
   },
   {
    "duration": 1267,
    "start_time": "2021-07-24T13:57:56.803Z"
   },
   {
    "duration": 821,
    "start_time": "2021-07-24T13:58:15.570Z"
   },
   {
    "duration": 384,
    "start_time": "2021-07-24T13:58:22.466Z"
   },
   {
    "duration": 4,
    "start_time": "2021-07-24T14:00:31.361Z"
   },
   {
    "duration": 111,
    "start_time": "2021-07-24T14:00:31.708Z"
   },
   {
    "duration": 15,
    "start_time": "2021-07-24T14:00:32.395Z"
   },
   {
    "duration": 19,
    "start_time": "2021-07-24T14:00:33.000Z"
   },
   {
    "duration": 16,
    "start_time": "2021-07-24T14:00:33.322Z"
   },
   {
    "duration": 16,
    "start_time": "2021-07-24T14:00:33.617Z"
   },
   {
    "duration": 12,
    "start_time": "2021-07-24T14:00:33.903Z"
   },
   {
    "duration": 14,
    "start_time": "2021-07-24T14:00:34.215Z"
   },
   {
    "duration": 14,
    "start_time": "2021-07-24T14:00:34.506Z"
   },
   {
    "duration": 14,
    "start_time": "2021-07-24T14:00:34.792Z"
   },
   {
    "duration": 13,
    "start_time": "2021-07-24T14:00:35.088Z"
   },
   {
    "duration": 16,
    "start_time": "2021-07-24T14:00:35.391Z"
   },
   {
    "duration": 16,
    "start_time": "2021-07-24T14:00:35.698Z"
   },
   {
    "duration": 19,
    "start_time": "2021-07-24T14:00:36.990Z"
   },
   {
    "duration": 22,
    "start_time": "2021-07-24T14:00:37.958Z"
   },
   {
    "duration": 28,
    "start_time": "2021-07-24T14:00:38.998Z"
   },
   {
    "duration": 37,
    "start_time": "2021-07-24T14:00:39.649Z"
   },
   {
    "duration": 81,
    "start_time": "2021-07-24T14:00:40.713Z"
   },
   {
    "duration": 6,
    "start_time": "2021-07-24T14:00:41.833Z"
   },
   {
    "duration": 11,
    "start_time": "2021-07-24T14:00:42.529Z"
   },
   {
    "duration": 67,
    "start_time": "2021-07-24T14:00:43.200Z"
   },
   {
    "duration": 294,
    "start_time": "2021-07-24T14:00:44.670Z"
   },
   {
    "duration": 13,
    "start_time": "2021-07-24T14:00:45.127Z"
   },
   {
    "duration": 1859,
    "start_time": "2021-07-24T14:00:46.420Z"
   },
   {
    "duration": 594,
    "start_time": "2021-07-24T14:00:49.177Z"
   },
   {
    "duration": 8,
    "start_time": "2021-07-24T14:00:52.466Z"
   },
   {
    "duration": 1262,
    "start_time": "2021-07-24T14:00:53.312Z"
   },
   {
    "duration": 7,
    "start_time": "2021-07-24T14:08:04.442Z"
   },
   {
    "duration": 724,
    "start_time": "2021-07-24T14:08:13.787Z"
   },
   {
    "duration": 591,
    "start_time": "2021-07-24T14:09:29.453Z"
   },
   {
    "duration": 576,
    "start_time": "2021-07-24T14:12:12.080Z"
   },
   {
    "duration": 14,
    "start_time": "2021-07-24T14:12:23.112Z"
   },
   {
    "duration": 640,
    "start_time": "2021-07-24T14:12:49.321Z"
   },
   {
    "duration": 23,
    "start_time": "2021-07-24T14:14:21.347Z"
   },
   {
    "duration": 26,
    "start_time": "2021-07-24T14:14:44.097Z"
   },
   {
    "duration": 20,
    "start_time": "2021-07-24T14:14:52.164Z"
   },
   {
    "duration": 22,
    "start_time": "2021-07-24T14:16:12.048Z"
   },
   {
    "duration": 13,
    "start_time": "2021-07-24T14:16:18.916Z"
   },
   {
    "duration": 22,
    "start_time": "2021-07-24T14:16:34.728Z"
   },
   {
    "duration": 15,
    "start_time": "2021-07-24T14:16:37.164Z"
   },
   {
    "duration": 23,
    "start_time": "2021-07-24T14:17:02.879Z"
   },
   {
    "duration": 14,
    "start_time": "2021-07-24T14:17:08.932Z"
   },
   {
    "duration": 14,
    "start_time": "2021-07-24T14:18:01.905Z"
   },
   {
    "duration": 13,
    "start_time": "2021-07-24T14:18:18.883Z"
   },
   {
    "duration": 644,
    "start_time": "2021-07-24T14:18:38.490Z"
   },
   {
    "duration": 342,
    "start_time": "2021-07-24T14:19:15.245Z"
   },
   {
    "duration": 24,
    "start_time": "2021-07-24T14:19:17.309Z"
   },
   {
    "duration": 15,
    "start_time": "2021-07-24T14:19:19.854Z"
   },
   {
    "duration": 23,
    "start_time": "2021-07-24T14:19:50.901Z"
   },
   {
    "duration": 13,
    "start_time": "2021-07-24T14:19:57.526Z"
   },
   {
    "duration": 619,
    "start_time": "2021-07-24T14:21:27.449Z"
   },
   {
    "duration": 181,
    "start_time": "2021-07-24T14:23:08.124Z"
   },
   {
    "duration": 173,
    "start_time": "2021-07-24T14:23:19.154Z"
   },
   {
    "duration": 173,
    "start_time": "2021-07-24T14:23:21.729Z"
   },
   {
    "duration": 310,
    "start_time": "2021-07-24T14:25:46.060Z"
   },
   {
    "duration": 17,
    "start_time": "2021-07-24T14:34:09.417Z"
   },
   {
    "duration": 16,
    "start_time": "2021-07-24T14:34:14.569Z"
   },
   {
    "duration": 22,
    "start_time": "2021-07-24T14:34:17.369Z"
   },
   {
    "duration": 52,
    "start_time": "2021-07-24T14:38:27.722Z"
   },
   {
    "duration": 15,
    "start_time": "2021-07-24T14:38:31.916Z"
   },
   {
    "duration": 370,
    "start_time": "2021-07-24T14:38:42.414Z"
   },
   {
    "duration": 53,
    "start_time": "2021-07-24T14:38:56.479Z"
   },
   {
    "duration": 16,
    "start_time": "2021-07-24T14:38:56.970Z"
   },
   {
    "duration": 355,
    "start_time": "2021-07-24T14:38:57.782Z"
   },
   {
    "duration": 4,
    "start_time": "2021-07-24T14:40:00.025Z"
   },
   {
    "duration": 369,
    "start_time": "2021-07-24T14:40:16.778Z"
   },
   {
    "duration": 15,
    "start_time": "2021-07-24T14:40:50.471Z"
   },
   {
    "duration": 53,
    "start_time": "2021-07-24T14:41:13.665Z"
   },
   {
    "duration": 15,
    "start_time": "2021-07-24T14:41:17.032Z"
   },
   {
    "duration": 16,
    "start_time": "2021-07-24T14:41:45.478Z"
   },
   {
    "duration": 17,
    "start_time": "2021-07-24T14:42:59.824Z"
   },
   {
    "duration": 54,
    "start_time": "2021-07-24T14:43:24.009Z"
   },
   {
    "duration": 14,
    "start_time": "2021-07-24T14:43:24.382Z"
   },
   {
    "duration": 15,
    "start_time": "2021-07-24T14:43:25.281Z"
   },
   {
    "duration": 54,
    "start_time": "2021-07-24T14:43:26.613Z"
   },
   {
    "duration": 14,
    "start_time": "2021-07-24T14:43:26.946Z"
   },
   {
    "duration": 17,
    "start_time": "2021-07-24T14:43:27.617Z"
   }
  ],
  "kernelspec": {
   "display_name": "Python 3",
   "language": "python",
   "name": "python3"
  },
  "language_info": {
   "codemirror_mode": {
    "name": "ipython",
    "version": 3
   },
   "file_extension": ".py",
   "mimetype": "text/x-python",
   "name": "python",
   "nbconvert_exporter": "python",
   "pygments_lexer": "ipython3",
   "version": "3.8.8"
  },
  "toc": {
   "base_numbering": 1,
   "nav_menu": {},
   "number_sections": true,
   "sideBar": true,
   "skip_h1_title": true,
   "title_cell": "Table of Contents",
   "title_sidebar": "Contents",
   "toc_cell": false,
   "toc_position": {},
   "toc_section_display": true,
   "toc_window_display": false
  }
 },
 "nbformat": 4,
 "nbformat_minor": 2
}
